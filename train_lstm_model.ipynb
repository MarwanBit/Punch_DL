{
 "cells": [
  {
   "cell_type": "markdown",
   "metadata": {},
   "source": [
    "# Load data"
   ]
  },
  {
   "cell_type": "code",
   "execution_count": 2,
   "metadata": {
    "scrolled": true
   },
   "outputs": [],
   "source": [
    "import os\n",
    "import sys\n",
    "import random\n",
    "import numpy as np\n",
    "import matplotlib.pyplot as plt\n",
    "import pandas as pd\n",
    "import seaborn as sns\n",
    "\n",
    "import tensorflow as tf\n",
    "import tensorflow.keras as K\n",
    "import keras_tuner as kt\n",
    "\n",
    "from tensorflow.keras.utils import plot_model\n",
    "from utils import get_train_data"
   ]
  },
  {
   "cell_type": "code",
   "execution_count": 3,
   "metadata": {},
   "outputs": [
    {
     "name": "stdout",
     "output_type": "stream",
     "text": [
      "GPU detected\n"
     ]
    },
    {
     "name": "stderr",
     "output_type": "stream",
     "text": [
      "2022-02-15 18:20:28.809448: I tensorflow/stream_executor/platform/default/dso_loader.cc:48] Successfully opened dynamic library libcuda.so.1\n",
      "2022-02-15 18:20:29.847225: I tensorflow/stream_executor/cuda/cuda_gpu_executor.cc:982] successful NUMA node read from SysFS had negative value (-1), but there must be at least one NUMA node, so returning NUMA node zero\n",
      "2022-02-15 18:20:29.848136: I tensorflow/core/common_runtime/gpu/gpu_device.cc:1716] Found device 0 with properties: \n",
      "pciBusID: 0000:01:00.0 name: NVIDIA GeForce GTX 1650 computeCapability: 7.5\n",
      "coreClock: 1.515GHz coreCount: 14 deviceMemorySize: 3.82GiB deviceMemoryBandwidth: 178.84GiB/s\n",
      "2022-02-15 18:20:29.848239: I tensorflow/stream_executor/platform/default/dso_loader.cc:48] Successfully opened dynamic library libcudart.so.10.1\n",
      "2022-02-15 18:20:29.886764: I tensorflow/stream_executor/platform/default/dso_loader.cc:48] Successfully opened dynamic library libcublas.so.10\n",
      "2022-02-15 18:20:29.908938: I tensorflow/stream_executor/platform/default/dso_loader.cc:48] Successfully opened dynamic library libcufft.so.10\n",
      "2022-02-15 18:20:29.914552: I tensorflow/stream_executor/platform/default/dso_loader.cc:48] Successfully opened dynamic library libcurand.so.10\n",
      "2022-02-15 18:20:29.952811: I tensorflow/stream_executor/platform/default/dso_loader.cc:48] Successfully opened dynamic library libcusolver.so.10\n",
      "2022-02-15 18:20:29.959261: I tensorflow/stream_executor/platform/default/dso_loader.cc:48] Successfully opened dynamic library libcusparse.so.10\n",
      "2022-02-15 18:20:30.028996: I tensorflow/stream_executor/platform/default/dso_loader.cc:48] Successfully opened dynamic library libcudnn.so.7\n",
      "2022-02-15 18:20:30.029445: I tensorflow/stream_executor/cuda/cuda_gpu_executor.cc:982] successful NUMA node read from SysFS had negative value (-1), but there must be at least one NUMA node, so returning NUMA node zero\n",
      "2022-02-15 18:20:30.030429: I tensorflow/stream_executor/cuda/cuda_gpu_executor.cc:982] successful NUMA node read from SysFS had negative value (-1), but there must be at least one NUMA node, so returning NUMA node zero\n",
      "2022-02-15 18:20:30.031160: I tensorflow/core/common_runtime/gpu/gpu_device.cc:1858] Adding visible gpu devices: 0\n"
     ]
    }
   ],
   "source": [
    "if sys.platform == \"linux\":\n",
    "    physical_devices = tf.config.experimental.list_physical_devices(\"GPU\")\n",
    "    if len(physical_devices) > 0:\n",
    "        print('GPU detected')\n",
    "        tf.config.experimental.set_memory_growth(physical_devices[0], True)"
   ]
  },
  {
   "cell_type": "code",
   "execution_count": 4,
   "metadata": {},
   "outputs": [
    {
     "name": "stdout",
     "output_type": "stream",
     "text": [
      "id1_hook_2 reversed: False data shape: (792, 34)\n",
      "--------------------\n",
      "id3_hook_1 reversed: False data shape: (1461, 34)\n",
      "--------------------\n",
      "id3_hook_2 reversed: False data shape: (1297, 34)\n",
      "--------------------\n",
      "id4_hook_1 reversed: False data shape: (1054, 34)\n",
      "--------------------\n",
      "id4_hook_2 reversed: False data shape: (1059, 34)\n",
      "--------------------\n",
      "id1_hook_1 reversed: False data shape: (858, 34)\n",
      "--------------------\n",
      "id2_hook_1 reversed: False data shape: (1013, 34)\n",
      "--------------------\n",
      "id0_hook_2 reversed: False data shape: (1051, 34)\n",
      "--------------------\n",
      "id0_hook_1 reversed: False data shape: (1100, 34)\n",
      "--------------------\n",
      "id2_hook_2 reversed: False data shape: (1041, 34)\n",
      "--------------------\n",
      "id3_jab_2 reversed: False data shape: (1164, 34)\n",
      "--------------------\n",
      "id4_jab_1 reversed: False data shape: (911, 34)\n",
      "--------------------\n",
      "id2_jab_1 reversed: False data shape: (1032, 34)\n",
      "--------------------\n",
      "id0_jab_1 reversed: False data shape: (952, 34)\n",
      "--------------------\n",
      "id0_jab_2 reversed: False data shape: (993, 34)\n",
      "--------------------\n",
      "id1_jab_1 reversed: False data shape: (802, 34)\n",
      "--------------------\n",
      "id4_jab_2 reversed: False data shape: (964, 34)\n",
      "--------------------\n",
      "id1_jab_2 reversed: False data shape: (643, 34)\n",
      "--------------------\n",
      "id2_jab_2 reversed: False data shape: (1030, 34)\n",
      "--------------------\n",
      "id3_jab_1 reversed: False data shape: (1170, 34)\n",
      "--------------------\n",
      "id2_uper_1 reversed: False data shape: (1064, 34)\n",
      "--------------------\n",
      "id4_uper_1 reversed: False data shape: (1125, 34)\n",
      "--------------------\n",
      "id0_uper_2 reversed: False data shape: (1186, 34)\n",
      "--------------------\n",
      "id0_uper_1 reversed: False data shape: (1200, 34)\n",
      "--------------------\n",
      "id2_uper_2 reversed: False data shape: (1033, 34)\n",
      "--------------------\n",
      "id3_uper_1 reversed: False data shape: (1277, 34)\n",
      "--------------------\n",
      "id3_uper_2 reversed: False data shape: (1196, 34)\n",
      "--------------------\n",
      "id1_uper_1 reversed: False data shape: (746, 34)\n",
      "--------------------\n",
      "id1_uper_2 reversed: False data shape: (703, 34)\n",
      "--------------------\n",
      "id4_uper_2 reversed: False data shape: (1157, 34)\n",
      "--------------------\n"
     ]
    }
   ],
   "source": [
    "X_train, y_train = get_train_data(skip_midpoints=True)"
   ]
  },
  {
   "cell_type": "code",
   "execution_count": 5,
   "metadata": {},
   "outputs": [
    {
     "data": {
      "text/plain": [
       "((31074, 34), (31074,))"
      ]
     },
     "execution_count": 5,
     "metadata": {},
     "output_type": "execute_result"
    }
   ],
   "source": [
    "X_train.shape, y_train.shape"
   ]
  },
  {
   "cell_type": "code",
   "execution_count": 6,
   "metadata": {},
   "outputs": [],
   "source": [
    "def compute_vector_angle(p0, p1, p2):\n",
    "    # vector p0 - p1\n",
    "    v1 = p0 - p1\n",
    "    \n",
    "    # vector p0 - p2\n",
    "    v2 = p2 - p1\n",
    "    \n",
    "    v1_length = np.sqrt(v1[0] ** 2 + v1[1] ** 2)\n",
    "    v2_length = np.sqrt(v2[0] ** 2 + v2[1] ** 2)\n",
    "    \n",
    "    cos = (v1[0] * v2[0] + v1[1] * v2[1]) / (v1_length * v2_length)\n",
    "    \n",
    "    if cos < -1:\n",
    "        cos = -1\n",
    "        \n",
    "    if cos > 1:\n",
    "        cos = 1\n",
    "\n",
    "    return np.arccos(cos)\n",
    "\n",
    "\n",
    "assert np.round(compute_vector_angle(np.array([2, 6]), np.array([0, 0]), np.array([8, 4])), 2) == 0.79\n",
    "\n",
    "def add_angles(keypoints):\n",
    "    return np.append(\n",
    "        keypoints,\n",
    "        [\n",
    "            compute_vector_angle(keypoints[10:12], keypoints[14:16], keypoints[18:20]), # angle between left shoulder and wrist in radians\n",
    "            compute_vector_angle(keypoints[12:14], keypoints[16:18], keypoints[20:22]), # angle between right shoulder and wrist in radians\n",
    "        ])"
   ]
  },
  {
   "cell_type": "code",
   "execution_count": 7,
   "metadata": {},
   "outputs": [
    {
     "data": {
      "text/plain": [
       "(31074, 36)"
      ]
     },
     "execution_count": 7,
     "metadata": {},
     "output_type": "execute_result"
    }
   ],
   "source": [
    "X_train = np.apply_along_axis(add_angles, 1, X_train)\n",
    "X_train.shape"
   ]
  },
  {
   "cell_type": "code",
   "execution_count": 8,
   "metadata": {},
   "outputs": [],
   "source": [
    "KEYPOINT_DICT = {\n",
    "    'nose': 0,\n",
    "    'left_eye': 1,\n",
    "    'right_eye': 2,\n",
    "    'left_ear': 3,\n",
    "    'right_ear': 4,\n",
    "    'left_shoulder': 5,\n",
    "    'right_shoulder': 6,\n",
    "    'left_elbow': 7,\n",
    "    'right_elbow': 8,\n",
    "    'left_wrist': 9,\n",
    "    'right_wrist': 10,\n",
    "    'left_hip': 11,\n",
    "    'right_hip': 12,\n",
    "    'left_knee': 13,\n",
    "    'right_knee': 14,\n",
    "    'left_ankle': 15,\n",
    "    'right_ankle': 16,\n",
    "    'angle': 17,\n",
    "}"
   ]
  },
  {
   "cell_type": "code",
   "execution_count": 9,
   "metadata": {},
   "outputs": [],
   "source": [
    "def format_feature_names(names):\n",
    "    \"\"\"\"Form list of feature names\n",
    "\n",
    "    Params:\n",
    "        names - list of KEYPOINT_DICT keys\n",
    "        ndims - number of dimensions (x, y, score)\n",
    "        skip_midpoints - add or omit midpoint coords (x, y, score)\n",
    "\n",
    "    Returns:\n",
    "        list of feature names\n",
    "    \"\"\"\n",
    "    feature_names = []\n",
    "    for name in names:\n",
    "        if 'angle' in name:\n",
    "            feature_names.append(name+'-left-arm')\n",
    "            feature_names.append(name+'-right-arm')\n",
    "        else:\n",
    "            feature_names.append(name+'-x')\n",
    "            feature_names.append(name+'-y')\n",
    "\n",
    "    return feature_names"
   ]
  },
  {
   "cell_type": "code",
   "execution_count": 10,
   "metadata": {},
   "outputs": [],
   "source": [
    "feature_names = format_feature_names(list(KEYPOINT_DICT.keys()))"
   ]
  },
  {
   "cell_type": "code",
   "execution_count": 12,
   "metadata": {},
   "outputs": [
    {
     "data": {
      "text/html": [
       "<div>\n",
       "<style scoped>\n",
       "    .dataframe tbody tr th:only-of-type {\n",
       "        vertical-align: middle;\n",
       "    }\n",
       "\n",
       "    .dataframe tbody tr th {\n",
       "        vertical-align: top;\n",
       "    }\n",
       "\n",
       "    .dataframe thead th {\n",
       "        text-align: right;\n",
       "    }\n",
       "</style>\n",
       "<table border=\"1\" class=\"dataframe\">\n",
       "  <thead>\n",
       "    <tr style=\"text-align: right;\">\n",
       "      <th></th>\n",
       "      <th>count</th>\n",
       "      <th>mean</th>\n",
       "      <th>std</th>\n",
       "      <th>min</th>\n",
       "      <th>25%</th>\n",
       "      <th>50%</th>\n",
       "      <th>75%</th>\n",
       "      <th>max</th>\n",
       "    </tr>\n",
       "  </thead>\n",
       "  <tbody>\n",
       "    <tr>\n",
       "      <th>nose-x</th>\n",
       "      <td>31074.0</td>\n",
       "      <td>-0.220691</td>\n",
       "      <td>0.028890</td>\n",
       "      <td>-0.407440</td>\n",
       "      <td>-0.237477</td>\n",
       "      <td>-0.218163</td>\n",
       "      <td>-0.202571</td>\n",
       "      <td>0.361919</td>\n",
       "    </tr>\n",
       "    <tr>\n",
       "      <th>nose-y</th>\n",
       "      <td>31074.0</td>\n",
       "      <td>-0.141959</td>\n",
       "      <td>0.060751</td>\n",
       "      <td>-0.467713</td>\n",
       "      <td>-0.185971</td>\n",
       "      <td>-0.143881</td>\n",
       "      <td>-0.103798</td>\n",
       "      <td>0.475557</td>\n",
       "    </tr>\n",
       "    <tr>\n",
       "      <th>left_eye-x</th>\n",
       "      <td>31074.0</td>\n",
       "      <td>-0.232318</td>\n",
       "      <td>0.029956</td>\n",
       "      <td>-0.340721</td>\n",
       "      <td>-0.249898</td>\n",
       "      <td>-0.229959</td>\n",
       "      <td>-0.213657</td>\n",
       "      <td>0.359797</td>\n",
       "    </tr>\n",
       "    <tr>\n",
       "      <th>left_eye-y</th>\n",
       "      <td>31074.0</td>\n",
       "      <td>-0.139179</td>\n",
       "      <td>0.064997</td>\n",
       "      <td>-0.480470</td>\n",
       "      <td>-0.186218</td>\n",
       "      <td>-0.144911</td>\n",
       "      <td>-0.101038</td>\n",
       "      <td>0.477576</td>\n",
       "    </tr>\n",
       "    <tr>\n",
       "      <th>right_eye-x</th>\n",
       "      <td>31074.0</td>\n",
       "      <td>-0.234061</td>\n",
       "      <td>0.030328</td>\n",
       "      <td>-0.344901</td>\n",
       "      <td>-0.252474</td>\n",
       "      <td>-0.230849</td>\n",
       "      <td>-0.215103</td>\n",
       "      <td>0.359336</td>\n",
       "    </tr>\n",
       "    <tr>\n",
       "      <th>right_eye-y</th>\n",
       "      <td>31074.0</td>\n",
       "      <td>-0.133812</td>\n",
       "      <td>0.060529</td>\n",
       "      <td>-0.473905</td>\n",
       "      <td>-0.176613</td>\n",
       "      <td>-0.133870</td>\n",
       "      <td>-0.094512</td>\n",
       "      <td>0.475477</td>\n",
       "    </tr>\n",
       "    <tr>\n",
       "      <th>left_ear-x</th>\n",
       "      <td>31074.0</td>\n",
       "      <td>-0.233495</td>\n",
       "      <td>0.029593</td>\n",
       "      <td>-0.444675</td>\n",
       "      <td>-0.252486</td>\n",
       "      <td>-0.232580</td>\n",
       "      <td>-0.214265</td>\n",
       "      <td>0.366997</td>\n",
       "    </tr>\n",
       "    <tr>\n",
       "      <th>left_ear-y</th>\n",
       "      <td>31074.0</td>\n",
       "      <td>-0.095097</td>\n",
       "      <td>0.068961</td>\n",
       "      <td>-0.451503</td>\n",
       "      <td>-0.144561</td>\n",
       "      <td>-0.108980</td>\n",
       "      <td>-0.052620</td>\n",
       "      <td>0.474723</td>\n",
       "    </tr>\n",
       "    <tr>\n",
       "      <th>right_ear-x</th>\n",
       "      <td>31074.0</td>\n",
       "      <td>-0.238615</td>\n",
       "      <td>0.030643</td>\n",
       "      <td>-0.346178</td>\n",
       "      <td>-0.258294</td>\n",
       "      <td>-0.236333</td>\n",
       "      <td>-0.218362</td>\n",
       "      <td>0.363357</td>\n",
       "    </tr>\n",
       "    <tr>\n",
       "      <th>right_ear-y</th>\n",
       "      <td>31074.0</td>\n",
       "      <td>-0.080467</td>\n",
       "      <td>0.056187</td>\n",
       "      <td>-0.465192</td>\n",
       "      <td>-0.115846</td>\n",
       "      <td>-0.075599</td>\n",
       "      <td>-0.042123</td>\n",
       "      <td>0.473494</td>\n",
       "    </tr>\n",
       "    <tr>\n",
       "      <th>left_shoulder-x</th>\n",
       "      <td>31074.0</td>\n",
       "      <td>-0.179648</td>\n",
       "      <td>0.028699</td>\n",
       "      <td>-0.284038</td>\n",
       "      <td>-0.200014</td>\n",
       "      <td>-0.181127</td>\n",
       "      <td>-0.157619</td>\n",
       "      <td>0.134826</td>\n",
       "    </tr>\n",
       "    <tr>\n",
       "      <th>left_shoulder-y</th>\n",
       "      <td>31074.0</td>\n",
       "      <td>-0.056465</td>\n",
       "      <td>0.090112</td>\n",
       "      <td>-0.271646</td>\n",
       "      <td>-0.128634</td>\n",
       "      <td>-0.081884</td>\n",
       "      <td>0.022100</td>\n",
       "      <td>0.454677</td>\n",
       "    </tr>\n",
       "    <tr>\n",
       "      <th>right_shoulder-x</th>\n",
       "      <td>31074.0</td>\n",
       "      <td>-0.186026</td>\n",
       "      <td>0.025578</td>\n",
       "      <td>-0.278860</td>\n",
       "      <td>-0.203968</td>\n",
       "      <td>-0.185055</td>\n",
       "      <td>-0.166294</td>\n",
       "      <td>0.152549</td>\n",
       "    </tr>\n",
       "    <tr>\n",
       "      <th>right_shoulder-y</th>\n",
       "      <td>31074.0</td>\n",
       "      <td>-0.012201</td>\n",
       "      <td>0.070553</td>\n",
       "      <td>-0.266776</td>\n",
       "      <td>-0.050985</td>\n",
       "      <td>-0.009117</td>\n",
       "      <td>0.039205</td>\n",
       "      <td>0.432912</td>\n",
       "    </tr>\n",
       "    <tr>\n",
       "      <th>left_elbow-x</th>\n",
       "      <td>31074.0</td>\n",
       "      <td>-0.091243</td>\n",
       "      <td>0.038403</td>\n",
       "      <td>-0.275171</td>\n",
       "      <td>-0.103034</td>\n",
       "      <td>-0.083536</td>\n",
       "      <td>-0.069088</td>\n",
       "      <td>0.172872</td>\n",
       "    </tr>\n",
       "    <tr>\n",
       "      <th>left_elbow-y</th>\n",
       "      <td>31074.0</td>\n",
       "      <td>-0.129670</td>\n",
       "      <td>0.121787</td>\n",
       "      <td>-0.454742</td>\n",
       "      <td>-0.218955</td>\n",
       "      <td>-0.158608</td>\n",
       "      <td>-0.031748</td>\n",
       "      <td>0.455919</td>\n",
       "    </tr>\n",
       "    <tr>\n",
       "      <th>right_elbow-x</th>\n",
       "      <td>31074.0</td>\n",
       "      <td>-0.111966</td>\n",
       "      <td>0.029978</td>\n",
       "      <td>-0.261393</td>\n",
       "      <td>-0.124781</td>\n",
       "      <td>-0.107097</td>\n",
       "      <td>-0.092346</td>\n",
       "      <td>0.167001</td>\n",
       "    </tr>\n",
       "    <tr>\n",
       "      <th>right_elbow-y</th>\n",
       "      <td>31074.0</td>\n",
       "      <td>-0.056485</td>\n",
       "      <td>0.102613</td>\n",
       "      <td>-0.445553</td>\n",
       "      <td>-0.119870</td>\n",
       "      <td>-0.056245</td>\n",
       "      <td>0.029580</td>\n",
       "      <td>0.453781</td>\n",
       "    </tr>\n",
       "    <tr>\n",
       "      <th>left_wrist-x</th>\n",
       "      <td>31074.0</td>\n",
       "      <td>-0.138964</td>\n",
       "      <td>0.051998</td>\n",
       "      <td>-0.298592</td>\n",
       "      <td>-0.169187</td>\n",
       "      <td>-0.149847</td>\n",
       "      <td>-0.120075</td>\n",
       "      <td>0.379429</td>\n",
       "    </tr>\n",
       "    <tr>\n",
       "      <th>left_wrist-y</th>\n",
       "      <td>31074.0</td>\n",
       "      <td>-0.206065</td>\n",
       "      <td>0.118739</td>\n",
       "      <td>-0.579556</td>\n",
       "      <td>-0.268469</td>\n",
       "      <td>-0.207668</td>\n",
       "      <td>-0.125802</td>\n",
       "      <td>0.444129</td>\n",
       "    </tr>\n",
       "    <tr>\n",
       "      <th>right_wrist-x</th>\n",
       "      <td>31074.0</td>\n",
       "      <td>-0.141096</td>\n",
       "      <td>0.042531</td>\n",
       "      <td>-0.266704</td>\n",
       "      <td>-0.167868</td>\n",
       "      <td>-0.146519</td>\n",
       "      <td>-0.122051</td>\n",
       "      <td>0.374958</td>\n",
       "    </tr>\n",
       "    <tr>\n",
       "      <th>right_wrist-y</th>\n",
       "      <td>31074.0</td>\n",
       "      <td>-0.150500</td>\n",
       "      <td>0.107284</td>\n",
       "      <td>-0.588713</td>\n",
       "      <td>-0.199884</td>\n",
       "      <td>-0.135194</td>\n",
       "      <td>-0.085357</td>\n",
       "      <td>0.439304</td>\n",
       "    </tr>\n",
       "    <tr>\n",
       "      <th>left_hip-x</th>\n",
       "      <td>31074.0</td>\n",
       "      <td>0.002127</td>\n",
       "      <td>0.002097</td>\n",
       "      <td>-0.009743</td>\n",
       "      <td>0.000835</td>\n",
       "      <td>0.001968</td>\n",
       "      <td>0.003339</td>\n",
       "      <td>0.011939</td>\n",
       "    </tr>\n",
       "    <tr>\n",
       "      <th>left_hip-y</th>\n",
       "      <td>31074.0</td>\n",
       "      <td>-0.023054</td>\n",
       "      <td>0.038658</td>\n",
       "      <td>-0.099615</td>\n",
       "      <td>-0.055297</td>\n",
       "      <td>-0.039011</td>\n",
       "      <td>0.013443</td>\n",
       "      <td>0.096701</td>\n",
       "    </tr>\n",
       "    <tr>\n",
       "      <th>right_hip-x</th>\n",
       "      <td>31074.0</td>\n",
       "      <td>-0.002127</td>\n",
       "      <td>0.002097</td>\n",
       "      <td>-0.011939</td>\n",
       "      <td>-0.003339</td>\n",
       "      <td>-0.001968</td>\n",
       "      <td>-0.000835</td>\n",
       "      <td>0.009743</td>\n",
       "    </tr>\n",
       "    <tr>\n",
       "      <th>right_hip-y</th>\n",
       "      <td>31074.0</td>\n",
       "      <td>0.023054</td>\n",
       "      <td>0.038658</td>\n",
       "      <td>-0.096701</td>\n",
       "      <td>-0.013443</td>\n",
       "      <td>0.039011</td>\n",
       "      <td>0.055296</td>\n",
       "      <td>0.099615</td>\n",
       "    </tr>\n",
       "    <tr>\n",
       "      <th>left_knee-x</th>\n",
       "      <td>31074.0</td>\n",
       "      <td>0.128875</td>\n",
       "      <td>0.023159</td>\n",
       "      <td>-0.088841</td>\n",
       "      <td>0.113359</td>\n",
       "      <td>0.124003</td>\n",
       "      <td>0.140799</td>\n",
       "      <td>0.213485</td>\n",
       "    </tr>\n",
       "    <tr>\n",
       "      <th>left_knee-y</th>\n",
       "      <td>31074.0</td>\n",
       "      <td>-0.133386</td>\n",
       "      <td>0.055464</td>\n",
       "      <td>-0.486933</td>\n",
       "      <td>-0.167483</td>\n",
       "      <td>-0.141957</td>\n",
       "      <td>-0.111807</td>\n",
       "      <td>0.168886</td>\n",
       "    </tr>\n",
       "    <tr>\n",
       "      <th>right_knee-x</th>\n",
       "      <td>31074.0</td>\n",
       "      <td>0.119625</td>\n",
       "      <td>0.021655</td>\n",
       "      <td>-0.117657</td>\n",
       "      <td>0.104827</td>\n",
       "      <td>0.114325</td>\n",
       "      <td>0.128447</td>\n",
       "      <td>0.212793</td>\n",
       "    </tr>\n",
       "    <tr>\n",
       "      <th>right_knee-y</th>\n",
       "      <td>31074.0</td>\n",
       "      <td>0.020318</td>\n",
       "      <td>0.052817</td>\n",
       "      <td>-0.308054</td>\n",
       "      <td>-0.010583</td>\n",
       "      <td>0.028278</td>\n",
       "      <td>0.055166</td>\n",
       "      <td>0.324813</td>\n",
       "    </tr>\n",
       "    <tr>\n",
       "      <th>left_ankle-x</th>\n",
       "      <td>31074.0</td>\n",
       "      <td>0.273766</td>\n",
       "      <td>0.040479</td>\n",
       "      <td>-0.031853</td>\n",
       "      <td>0.245394</td>\n",
       "      <td>0.266421</td>\n",
       "      <td>0.292997</td>\n",
       "      <td>0.406871</td>\n",
       "    </tr>\n",
       "    <tr>\n",
       "      <th>left_ankle-y</th>\n",
       "      <td>31074.0</td>\n",
       "      <td>-0.122253</td>\n",
       "      <td>0.070499</td>\n",
       "      <td>-0.547651</td>\n",
       "      <td>-0.166558</td>\n",
       "      <td>-0.135469</td>\n",
       "      <td>-0.091912</td>\n",
       "      <td>0.426247</td>\n",
       "    </tr>\n",
       "    <tr>\n",
       "      <th>right_ankle-x</th>\n",
       "      <td>31074.0</td>\n",
       "      <td>0.235389</td>\n",
       "      <td>0.046793</td>\n",
       "      <td>-0.035227</td>\n",
       "      <td>0.201940</td>\n",
       "      <td>0.229070</td>\n",
       "      <td>0.258674</td>\n",
       "      <td>0.405846</td>\n",
       "    </tr>\n",
       "    <tr>\n",
       "      <th>right_ankle-y</th>\n",
       "      <td>31074.0</td>\n",
       "      <td>0.109824</td>\n",
       "      <td>0.074249</td>\n",
       "      <td>-0.547769</td>\n",
       "      <td>0.068581</td>\n",
       "      <td>0.106660</td>\n",
       "      <td>0.154661</td>\n",
       "      <td>0.427657</td>\n",
       "    </tr>\n",
       "    <tr>\n",
       "      <th>angle-left-arm</th>\n",
       "      <td>31074.0</td>\n",
       "      <td>1.571731</td>\n",
       "      <td>0.619537</td>\n",
       "      <td>0.000333</td>\n",
       "      <td>1.227909</td>\n",
       "      <td>1.454478</td>\n",
       "      <td>1.734197</td>\n",
       "      <td>3.141593</td>\n",
       "    </tr>\n",
       "    <tr>\n",
       "      <th>angle-right-arm</th>\n",
       "      <td>31074.0</td>\n",
       "      <td>1.649663</td>\n",
       "      <td>0.663476</td>\n",
       "      <td>0.000456</td>\n",
       "      <td>1.219509</td>\n",
       "      <td>1.589613</td>\n",
       "      <td>2.094490</td>\n",
       "      <td>3.141593</td>\n",
       "    </tr>\n",
       "  </tbody>\n",
       "</table>\n",
       "</div>"
      ],
      "text/plain": [
       "                    count      mean       std       min       25%       50%  \\\n",
       "nose-x            31074.0 -0.220691  0.028890 -0.407440 -0.237477 -0.218163   \n",
       "nose-y            31074.0 -0.141959  0.060751 -0.467713 -0.185971 -0.143881   \n",
       "left_eye-x        31074.0 -0.232318  0.029956 -0.340721 -0.249898 -0.229959   \n",
       "left_eye-y        31074.0 -0.139179  0.064997 -0.480470 -0.186218 -0.144911   \n",
       "right_eye-x       31074.0 -0.234061  0.030328 -0.344901 -0.252474 -0.230849   \n",
       "right_eye-y       31074.0 -0.133812  0.060529 -0.473905 -0.176613 -0.133870   \n",
       "left_ear-x        31074.0 -0.233495  0.029593 -0.444675 -0.252486 -0.232580   \n",
       "left_ear-y        31074.0 -0.095097  0.068961 -0.451503 -0.144561 -0.108980   \n",
       "right_ear-x       31074.0 -0.238615  0.030643 -0.346178 -0.258294 -0.236333   \n",
       "right_ear-y       31074.0 -0.080467  0.056187 -0.465192 -0.115846 -0.075599   \n",
       "left_shoulder-x   31074.0 -0.179648  0.028699 -0.284038 -0.200014 -0.181127   \n",
       "left_shoulder-y   31074.0 -0.056465  0.090112 -0.271646 -0.128634 -0.081884   \n",
       "right_shoulder-x  31074.0 -0.186026  0.025578 -0.278860 -0.203968 -0.185055   \n",
       "right_shoulder-y  31074.0 -0.012201  0.070553 -0.266776 -0.050985 -0.009117   \n",
       "left_elbow-x      31074.0 -0.091243  0.038403 -0.275171 -0.103034 -0.083536   \n",
       "left_elbow-y      31074.0 -0.129670  0.121787 -0.454742 -0.218955 -0.158608   \n",
       "right_elbow-x     31074.0 -0.111966  0.029978 -0.261393 -0.124781 -0.107097   \n",
       "right_elbow-y     31074.0 -0.056485  0.102613 -0.445553 -0.119870 -0.056245   \n",
       "left_wrist-x      31074.0 -0.138964  0.051998 -0.298592 -0.169187 -0.149847   \n",
       "left_wrist-y      31074.0 -0.206065  0.118739 -0.579556 -0.268469 -0.207668   \n",
       "right_wrist-x     31074.0 -0.141096  0.042531 -0.266704 -0.167868 -0.146519   \n",
       "right_wrist-y     31074.0 -0.150500  0.107284 -0.588713 -0.199884 -0.135194   \n",
       "left_hip-x        31074.0  0.002127  0.002097 -0.009743  0.000835  0.001968   \n",
       "left_hip-y        31074.0 -0.023054  0.038658 -0.099615 -0.055297 -0.039011   \n",
       "right_hip-x       31074.0 -0.002127  0.002097 -0.011939 -0.003339 -0.001968   \n",
       "right_hip-y       31074.0  0.023054  0.038658 -0.096701 -0.013443  0.039011   \n",
       "left_knee-x       31074.0  0.128875  0.023159 -0.088841  0.113359  0.124003   \n",
       "left_knee-y       31074.0 -0.133386  0.055464 -0.486933 -0.167483 -0.141957   \n",
       "right_knee-x      31074.0  0.119625  0.021655 -0.117657  0.104827  0.114325   \n",
       "right_knee-y      31074.0  0.020318  0.052817 -0.308054 -0.010583  0.028278   \n",
       "left_ankle-x      31074.0  0.273766  0.040479 -0.031853  0.245394  0.266421   \n",
       "left_ankle-y      31074.0 -0.122253  0.070499 -0.547651 -0.166558 -0.135469   \n",
       "right_ankle-x     31074.0  0.235389  0.046793 -0.035227  0.201940  0.229070   \n",
       "right_ankle-y     31074.0  0.109824  0.074249 -0.547769  0.068581  0.106660   \n",
       "angle-left-arm    31074.0  1.571731  0.619537  0.000333  1.227909  1.454478   \n",
       "angle-right-arm   31074.0  1.649663  0.663476  0.000456  1.219509  1.589613   \n",
       "\n",
       "                       75%       max  \n",
       "nose-x           -0.202571  0.361919  \n",
       "nose-y           -0.103798  0.475557  \n",
       "left_eye-x       -0.213657  0.359797  \n",
       "left_eye-y       -0.101038  0.477576  \n",
       "right_eye-x      -0.215103  0.359336  \n",
       "right_eye-y      -0.094512  0.475477  \n",
       "left_ear-x       -0.214265  0.366997  \n",
       "left_ear-y       -0.052620  0.474723  \n",
       "right_ear-x      -0.218362  0.363357  \n",
       "right_ear-y      -0.042123  0.473494  \n",
       "left_shoulder-x  -0.157619  0.134826  \n",
       "left_shoulder-y   0.022100  0.454677  \n",
       "right_shoulder-x -0.166294  0.152549  \n",
       "right_shoulder-y  0.039205  0.432912  \n",
       "left_elbow-x     -0.069088  0.172872  \n",
       "left_elbow-y     -0.031748  0.455919  \n",
       "right_elbow-x    -0.092346  0.167001  \n",
       "right_elbow-y     0.029580  0.453781  \n",
       "left_wrist-x     -0.120075  0.379429  \n",
       "left_wrist-y     -0.125802  0.444129  \n",
       "right_wrist-x    -0.122051  0.374958  \n",
       "right_wrist-y    -0.085357  0.439304  \n",
       "left_hip-x        0.003339  0.011939  \n",
       "left_hip-y        0.013443  0.096701  \n",
       "right_hip-x      -0.000835  0.009743  \n",
       "right_hip-y       0.055296  0.099615  \n",
       "left_knee-x       0.140799  0.213485  \n",
       "left_knee-y      -0.111807  0.168886  \n",
       "right_knee-x      0.128447  0.212793  \n",
       "right_knee-y      0.055166  0.324813  \n",
       "left_ankle-x      0.292997  0.406871  \n",
       "left_ankle-y     -0.091912  0.426247  \n",
       "right_ankle-x     0.258674  0.405846  \n",
       "right_ankle-y     0.154661  0.427657  \n",
       "angle-left-arm    1.734197  3.141593  \n",
       "angle-right-arm   2.094490  3.141593  "
      ]
     },
     "execution_count": 12,
     "metadata": {},
     "output_type": "execute_result"
    }
   ],
   "source": [
    "df = pd.DataFrame(data=X_train, columns=feature_names)\n",
    "df.describe().transpose()"
   ]
  },
  {
   "cell_type": "code",
   "execution_count": 13,
   "metadata": {
    "scrolled": true
   },
   "outputs": [
    {
     "data": {
      "image/png": "[encoded data removed]",
      "text/plain": [
       "<Figure size 1152x720 with 1 Axes>"
      ]
     },
     "metadata": {
      "needs_background": "light"
     },
     "output_type": "display_data"
    }
   ],
   "source": [
    "plt.figure(figsize=(16, 10))\n",
    "ax = sns.violinplot(data=df)\n",
    "_ = ax.set_xticklabels(df.keys(), rotation=90)"
   ]
  },
  {
   "cell_type": "code",
   "execution_count": 14,
   "metadata": {},
   "outputs": [],
   "source": [
    "time_steps=30 # expect camera 30 fps, so process 1 sample per second\n",
    "# Number of samples in batch\n",
    "N_train = X_train.shape[0] // time_steps "
   ]
  },
  {
   "cell_type": "code",
   "execution_count": 15,
   "metadata": {},
   "outputs": [
    {
     "data": {
      "text/plain": [
       "(1035, 30, 36)"
      ]
     },
     "execution_count": 15,
     "metadata": {},
     "output_type": "execute_result"
    }
   ],
   "source": [
    "X_train = X_train[:N_train*time_steps].reshape(-1, time_steps, 36)\n",
    "y_train = y_train[:N_train*time_steps].reshape(-1, time_steps, 1)\n",
    "X_train.shape"
   ]
  },
  {
   "cell_type": "markdown",
   "metadata": {},
   "source": [
    "## LSTM"
   ]
  },
  {
   "cell_type": "code",
   "execution_count": 16,
   "metadata": {
    "scrolled": true
   },
   "outputs": [
    {
     "name": "stderr",
     "output_type": "stream",
     "text": [
      "2022-02-15 18:23:24.105218: I tensorflow/core/platform/cpu_feature_guard.cc:142] This TensorFlow binary is optimized with oneAPI Deep Neural Network Library (oneDNN)to use the following CPU instructions in performance-critical operations:  AVX2 FMA\n",
      "To enable them in other operations, rebuild TensorFlow with the appropriate compiler flags.\n",
      "2022-02-15 18:23:24.141580: I tensorflow/core/platform/profile_utils/cpu_utils.cc:104] CPU Frequency: 2295640000 Hz\n",
      "2022-02-15 18:23:24.142510: I tensorflow/compiler/xla/service/service.cc:168] XLA service 0x53da850 initialized for platform Host (this does not guarantee that XLA will be used). Devices:\n",
      "2022-02-15 18:23:24.142564: I tensorflow/compiler/xla/service/service.cc:176]   StreamExecutor device (0): Host, Default Version\n",
      "2022-02-15 18:23:24.318775: I tensorflow/stream_executor/cuda/cuda_gpu_executor.cc:982] successful NUMA node read from SysFS had negative value (-1), but there must be at least one NUMA node, so returning NUMA node zero\n",
      "2022-02-15 18:23:24.319825: I tensorflow/compiler/xla/service/service.cc:168] XLA service 0x53dcbd0 initialized for platform CUDA (this does not guarantee that XLA will be used). Devices:\n",
      "2022-02-15 18:23:24.319864: I tensorflow/compiler/xla/service/service.cc:176]   StreamExecutor device (0): NVIDIA GeForce GTX 1650, Compute Capability 7.5\n",
      "2022-02-15 18:23:24.320648: I tensorflow/stream_executor/cuda/cuda_gpu_executor.cc:982] successful NUMA node read from SysFS had negative value (-1), but there must be at least one NUMA node, so returning NUMA node zero\n",
      "2022-02-15 18:23:24.321500: I tensorflow/core/common_runtime/gpu/gpu_device.cc:1716] Found device 0 with properties: \n",
      "pciBusID: 0000:01:00.0 name: NVIDIA GeForce GTX 1650 computeCapability: 7.5\n",
      "coreClock: 1.515GHz coreCount: 14 deviceMemorySize: 3.82GiB deviceMemoryBandwidth: 178.84GiB/s\n",
      "2022-02-15 18:23:24.321586: I tensorflow/stream_executor/platform/default/dso_loader.cc:48] Successfully opened dynamic library libcudart.so.10.1\n",
      "2022-02-15 18:23:24.321623: I tensorflow/stream_executor/platform/default/dso_loader.cc:48] Successfully opened dynamic library libcublas.so.10\n",
      "2022-02-15 18:23:24.321650: I tensorflow/stream_executor/platform/default/dso_loader.cc:48] Successfully opened dynamic library libcufft.so.10\n",
      "2022-02-15 18:23:24.321676: I tensorflow/stream_executor/platform/default/dso_loader.cc:48] Successfully opened dynamic library libcurand.so.10\n",
      "2022-02-15 18:23:24.321701: I tensorflow/stream_executor/platform/default/dso_loader.cc:48] Successfully opened dynamic library libcusolver.so.10\n",
      "2022-02-15 18:23:24.321726: I tensorflow/stream_executor/platform/default/dso_loader.cc:48] Successfully opened dynamic library libcusparse.so.10\n",
      "2022-02-15 18:23:24.321752: I tensorflow/stream_executor/platform/default/dso_loader.cc:48] Successfully opened dynamic library libcudnn.so.7\n",
      "2022-02-15 18:23:24.321903: I tensorflow/stream_executor/cuda/cuda_gpu_executor.cc:982] successful NUMA node read from SysFS had negative value (-1), but there must be at least one NUMA node, so returning NUMA node zero\n",
      "2022-02-15 18:23:24.322755: I tensorflow/stream_executor/cuda/cuda_gpu_executor.cc:982] successful NUMA node read from SysFS had negative value (-1), but there must be at least one NUMA node, so returning NUMA node zero\n",
      "2022-02-15 18:23:24.323475: I tensorflow/core/common_runtime/gpu/gpu_device.cc:1858] Adding visible gpu devices: 0\n",
      "2022-02-15 18:23:24.323901: I tensorflow/stream_executor/platform/default/dso_loader.cc:48] Successfully opened dynamic library libcudart.so.10.1\n",
      "2022-02-15 18:23:25.550796: I tensorflow/core/common_runtime/gpu/gpu_device.cc:1257] Device interconnect StreamExecutor with strength 1 edge matrix:\n",
      "2022-02-15 18:23:25.550865: I tensorflow/core/common_runtime/gpu/gpu_device.cc:1263]      0 \n",
      "2022-02-15 18:23:25.550880: I tensorflow/core/common_runtime/gpu/gpu_device.cc:1276] 0:   N \n",
      "2022-02-15 18:23:25.552405: I tensorflow/stream_executor/cuda/cuda_gpu_executor.cc:982] successful NUMA node read from SysFS had negative value (-1), but there must be at least one NUMA node, so returning NUMA node zero\n",
      "2022-02-15 18:23:25.553388: I tensorflow/stream_executor/cuda/cuda_gpu_executor.cc:982] successful NUMA node read from SysFS had negative value (-1), but there must be at least one NUMA node, so returning NUMA node zero\n",
      "2022-02-15 18:23:25.554172: I tensorflow/core/common_runtime/gpu/gpu_device.cc:1402] Created TensorFlow device (/job:localhost/replica:0/task:0/device:GPU:0 with 3408 MB memory) -> physical GPU (device: 0, name: NVIDIA GeForce GTX 1650, pci bus id: 0000:01:00.0, compute capability: 7.5)\n"
     ]
    }
   ],
   "source": [
    "y_train = K.utils.to_categorical(y_train, num_classes=7)\n",
    "X_train = tf.constant(X_train)"
   ]
  },
  {
   "cell_type": "code",
   "execution_count": 17,
   "metadata": {},
   "outputs": [],
   "source": [
    "def model_builder(hp):\n",
    "    # Hyperparams\n",
    "    hp_ru1 = hp.Int('recurrent_units1', min_value=16, max_value=128, step=8)\n",
    "    hp_ru2 = hp.Int('recurrent_units2', min_value=16, max_value=128, step=8)\n",
    "\n",
    "    hp_du1 = hp.Int('units1', min_value=16, max_value=128, step=8)\n",
    "    hp_du2 = hp.Int('units2', min_value=16, max_value=128, step=8)\n",
    "\n",
    "    hp_reg1 = hp.Float('dense_reg1', min_value=1e-4, max_value=1e-2)\n",
    "    hp_reg2 = hp.Float('dense_reg2', min_value=1e-4, max_value=1e-2)\n",
    "    \n",
    "    hp_dp1 = hp.Float('rec_dropout1', min_value=0., max_value=0.4)\n",
    "    hp_dp2 = hp.Float('rec_dropout2', min_value=0., max_value=0.4)\n",
    "\n",
    "    hp_dl_dp = hp.Float('dropout', min_value=0., max_value=0.4)\n",
    "\n",
    "    hp_rec_dp1 = hp.Float('rec_dropout1', min_value=0., max_value=0.4)\n",
    "    hp_rec_dp2 = hp.Float('rec_dropout2', min_value=0., max_value=0.4)\n",
    "\n",
    "    hp_kernel_reg1 = hp.Float('kernel_reg1', min_value=1e-5, max_value=1e-3, sampling='log')\n",
    "    hp_kernel_reg2 = hp.Float('kernel_reg2', min_value=1e-5, max_value=1e-3, sampling='log')\n",
    "\n",
    "    hp_recur_reg1 = hp.Float('recur_reg1', min_value=1e-5, max_value=1e-3, sampling='log')\n",
    "    hp_recur_reg2 = hp.Float('recur_reg2', min_value=1e-5, max_value=1e-3, sampling='log')\n",
    "\n",
    "    hp_act_reg1 = hp.Float('act_reg1', min_value=1e-5, max_value=1e-3, sampling='log')\n",
    "    hp_act_reg2 = hp.Float('act_reg2', min_value=1e-5, max_value=1e-3, sampling='log')\n",
    "\n",
    "    hp_add_another_rec_layer = hp.Boolean('add_another_gru_layer')\n",
    " \n",
    "    hp_learning_rate = hp.Float('learning_rate', min_value=1e-4, max_value=1e-2)\n",
    "\n",
    "    layers = []\n",
    "    \n",
    "    # Model\n",
    "    kernel_reg1 = K.regularizers.l2(hp_kernel_reg1)\n",
    "    kernel_reg2 = K.regularizers.l2(hp_kernel_reg2)\n",
    "\n",
    "    recurrent_reg1 = K.regularizers.l2(hp_recur_reg1)\n",
    "    recurrent_reg2 = K.regularizers.l2(hp_recur_reg2)\n",
    "\n",
    "    act_reg1 = K.regularizers.l2(hp_act_reg1)\n",
    "    act_reg2 = K.regularizers.l2(hp_act_reg2)\n",
    "\n",
    "    model = K.Sequential()\n",
    "    model.add(K.layers.LayerNormalization(axis=1))\n",
    "    model.add(K.layers.LSTM(hp_ru1,\n",
    "                             # stateful=True, # mutable states not supported in tflite \n",
    "                             return_sequences=True,\n",
    "                             kernel_regularizer=kernel_reg1,\n",
    "                             recurrent_regularizer=recurrent_reg1,\n",
    "                             activity_regularizer=act_reg1,\n",
    "                             dropout=hp_dp1,\n",
    "                             recurrent_dropout=hp_rec_dp1\n",
    "                           ))\n",
    "\n",
    "    if hp_add_another_rec_layer:\n",
    "        model.add(K.layers.LSTM(hp_ru2,\n",
    "                             # stateful=True, # mutable states not supported in tflite \n",
    "                             return_sequences=True,\n",
    "                             kernel_regularizer=kernel_reg2,\n",
    "                             recurrent_regularizer=recurrent_reg2,\n",
    "                             activity_regularizer=act_reg2,\n",
    "                             dropout=hp_dp2,\n",
    "                             recurrent_dropout=hp_rec_dp2\n",
    "                           ))\n",
    "\n",
    "    model.add(K.layers.Dense(hp_du1, activation='relu',\n",
    "                            kernel_regularizer=K.regularizers.l2(hp_reg1)))\n",
    "    model.add(K.layers.Dropout(hp_dl_dp))\n",
    "    model.add(K.layers.Dense(hp_du2, activation='relu',\n",
    "                            kernel_regularizer=K.regularizers.l2(hp_reg2))) \n",
    "    model.add(K.layers.Dense(7, activation='sigmoid'))\n",
    "\n",
    "    model.compile(optimizer=K.optimizers.Adam(learning_rate=hp_learning_rate),\n",
    "                  loss='categorical_crossentropy',\n",
    "                  metrics=['accuracy'])\n",
    "    \n",
    "    return model"
   ]
  },
  {
   "cell_type": "code",
   "execution_count": null,
   "metadata": {},
   "outputs": [
    {
     "name": "stdout",
     "output_type": "stream",
     "text": [
      "Trial 53 Complete [00h 02m 18s]\n",
      "val_accuracy: 0.4816763997077942\n",
      "\n",
      "Best val_accuracy So Far: 0.6890838146209717\n",
      "Total elapsed time: 01h 02m 45s\n",
      "\n",
      "Search: Running Trial #54\n",
      "\n",
      "Hyperparameter    |Value             |Best Value So Far \n",
      "recurrent_units1  |104               |48                \n",
      "recurrent_units2  |112               |40                \n",
      "units1            |32                |120               \n",
      "units2            |64                |56                \n",
      "dense_reg1        |0.0046227         |0.0064586         \n",
      "dense_reg2        |0.0003241         |0.0025592         \n",
      "rec_dropout1      |0.054938          |0.26018           \n",
      "rec_dropout2      |0.15273           |0.15488           \n",
      "dropout           |0.096639          |0.15487           \n",
      "kernel_reg1       |0.00019547        |8.2083e-05        \n",
      "kernel_reg2       |0.0005588         |6.5126e-05        \n",
      "recur_reg1        |1.4504e-05        |1.6804e-05        \n",
      "recur_reg2        |0.00051334        |3.1924e-05        \n",
      "act_reg1          |0.00062542        |1.4519e-05        \n",
      "act_reg2          |0.00062013        |0.0008467         \n",
      "add_another_gru...|True              |False             \n",
      "learning_rate     |0.0050816         |0.0012889         \n",
      "tuner/epochs      |4                 |11                \n",
      "tuner/initial_e...|0                 |4                 \n",
      "tuner/bracket     |2                 |3                 \n",
      "tuner/round       |0                 |2                 \n",
      "\n",
      "WARNING:tensorflow:Layer lstm will not use cuDNN kernel since it doesn't meet the cuDNN kernel criteria. It will use generic GPU kernel as fallback when running on GPU\n",
      "WARNING:tensorflow:Layer lstm_1 will not use cuDNN kernel since it doesn't meet the cuDNN kernel criteria. It will use generic GPU kernel as fallback when running on GPU\n",
      "Epoch 1/4\n",
      "WARNING:tensorflow:Layer layer_normalization is casting an input tensor from dtype float64 to the layer's dtype of float32, which is new behavior in TensorFlow 2.  The layer has dtype float32 because its dtype defaults to floatx.\n",
      "\n",
      "If you intended to run this layer in float32, you can safely ignore this warning. If in doubt, this warning is likely only an issue if you are porting a TensorFlow 1.X model to TensorFlow 2.\n",
      "\n",
      "To change all layers to have dtype float64 by default, call `tf.keras.backend.set_floatx('float64')`. To change just this layer, pass dtype='float64' to the layer constructor. If you are the author of this layer, you can disable autocasting by passing autocast=False to the base Layer constructor.\n",
      "\n",
      "174/174 [==============================] - 33s 189ms/step - loss: 1.4838 - accuracy: 0.4396 - val_loss: 2.6364 - val_accuracy: 0.4817\n",
      "Epoch 2/4\n",
      "174/174 [==============================] - 32s 184ms/step - loss: 1.4230 - accuracy: 0.4532 - val_loss: 3.1944 - val_accuracy: 0.4817\n",
      "Epoch 3/4\n",
      " 91/174 [==============>...............] - ETA: 13s - loss: 1.3840 - accuracy: 0.5149"
     ]
    }
   ],
   "source": [
    "tuner = kt.Hyperband(model_builder,\n",
    "                     objective='val_accuracy',\n",
    "                     max_epochs=32,\n",
    "                     directory='kt_dir',\n",
    "                     project_name='punch_dl_kt_lstm')\n",
    "\n",
    "stop_early = K.callbacks.EarlyStopping(monitor='val_loss', patience=5)\n",
    "\n",
    "tuner.search(X_train, y_train, batch_size=4, validation_split=0.33, epochs=32, shuffle=False, callbacks=[stop_early])"
   ]
  },
  {
   "cell_type": "code",
   "execution_count": 20,
   "metadata": {},
   "outputs": [
    {
     "data": {
      "text/plain": [
       "{'recurrent_units': 56,\n",
       " 'units1': 16,\n",
       " 'units2': 88,\n",
       " 'dense1_reg': 0.005775950097089433,\n",
       " 'dense2_reg': 0.005602144740839879,\n",
       " 'dropout': 0.31488497540073623,\n",
       " 'rec_dropout': 0.18025434676732274,\n",
       " 'kernel_reg': 0.00042134377623234416,\n",
       " 'recur_reg': 1.3951958248994992e-05,\n",
       " 'act_reg': 3.0933107379541494e-05,\n",
       " 'learning_rate': 0.006018597461163295,\n",
       " 'tuner/epochs': 20,\n",
       " 'tuner/initial_epoch': 0,\n",
       " 'tuner/bracket': 0,\n",
       " 'tuner/round': 0}"
      ]
     },
     "execution_count": 20,
     "metadata": {},
     "output_type": "execute_result"
    }
   ],
   "source": [
    "# Get the optimal hyperparameters\n",
    "best_hps=tuner.get_best_hyperparameters(num_trials=1)[0]\n",
    "\n",
    "best_hps.values"
   ]
  },
  {
   "cell_type": "code",
   "execution_count": 18,
   "metadata": {
    "scrolled": true
   },
   "outputs": [
    {
     "ename": "NameError",
     "evalue": "name 'tuner' is not defined",
     "output_type": "error",
     "traceback": [
      "\u001b[0;31m---------------------------------------------------------------------------\u001b[0m",
      "\u001b[0;31mNameError\u001b[0m                                 Traceback (most recent call last)",
      "\u001b[0;32m/tmp/ipykernel_388388/3156501943.py\u001b[0m in \u001b[0;36m<module>\u001b[0;34m\u001b[0m\n\u001b[1;32m      1\u001b[0m \u001b[0;31m# Build the model with the optimal hyperparameters and train it on the data for 64 epochs\u001b[0m\u001b[0;34m\u001b[0m\u001b[0;34m\u001b[0m\u001b[0;34m\u001b[0m\u001b[0m\n\u001b[0;32m----> 2\u001b[0;31m \u001b[0mmodel\u001b[0m \u001b[0;34m=\u001b[0m \u001b[0mtuner\u001b[0m\u001b[0;34m.\u001b[0m\u001b[0mhypermodel\u001b[0m\u001b[0;34m.\u001b[0m\u001b[0mbuild\u001b[0m\u001b[0;34m(\u001b[0m\u001b[0mbest_hps\u001b[0m\u001b[0;34m)\u001b[0m\u001b[0;34m\u001b[0m\u001b[0;34m\u001b[0m\u001b[0m\n\u001b[0m\u001b[1;32m      3\u001b[0m history = model.fit(X_train, y_train, batch_size=1, \n\u001b[1;32m      4\u001b[0m                     \u001b[0mvalidation_data\u001b[0m\u001b[0;34m=\u001b[0m\u001b[0;34m(\u001b[0m\u001b[0mX_val\u001b[0m\u001b[0;34m,\u001b[0m \u001b[0my_val\u001b[0m\u001b[0;34m)\u001b[0m\u001b[0;34m,\u001b[0m\u001b[0;34m\u001b[0m\u001b[0;34m\u001b[0m\u001b[0m\n\u001b[1;32m      5\u001b[0m                     \u001b[0mepochs\u001b[0m\u001b[0;34m=\u001b[0m\u001b[0;36m48\u001b[0m\u001b[0;34m,\u001b[0m\u001b[0;34m\u001b[0m\u001b[0;34m\u001b[0m\u001b[0m\n",
      "\u001b[0;31mNameError\u001b[0m: name 'tuner' is not defined"
     ]
    }
   ],
   "source": [
    "history = model.fit(X_train, y_train, batch_size=1,\n",
    "                    validation_split=0.4, \n",
    "                    epochs=48,\n",
    "                    shuffle=False,\n",
    "                    callbacks=[\n",
    "                        K.callbacks.ReduceLROnPlateau(),\n",
    "                        K.callbacks.ModelCheckpoint(filepath='checkpoints/lstm', save_weights_only=True)\n",
    "                    ])\n",
    "\n",
    "val_acc_per_epoch = history.history['val_accuracy']\n",
    "best_epoch = val_acc_per_epoch.index(max(val_acc_per_epoch)) + 1\n",
    "print('Best epoch: %d' % (best_epoch,))"
   ]
  },
  {
   "cell_type": "code",
   "execution_count": 22,
   "metadata": {},
   "outputs": [
    {
     "data": {
      "text/plain": [
       "[<matplotlib.lines.Line2D at 0x7f8e14444eb0>]"
      ]
     },
     "execution_count": 22,
     "metadata": {},
     "output_type": "execute_result"
    },
    {
     "data": {
      "image/png": "[encoded data removed]",
      "text/plain": [
       "<Figure size 1080x504 with 2 Axes>"
      ]
     },
     "metadata": {
      "needs_background": "light"
     },
     "output_type": "display_data"
    }
   ],
   "source": [
    "plt.figure(figsize=(15, 7))\n",
    "plt.subplot(221)\n",
    "plt.title(\"Train Loss\")\n",
    "plt.plot(history.history['loss'])\n",
    "plt.subplot(222)\n",
    "plt.title(\"Train/validation accuracy\")\n",
    "plt.plot(history.history['accuracy'])\n",
    "plt.plot(history.history['val_accuracy'])\n",
    "plt.savefig('imgs/train_val_acc.png', bbox_inches='tight')"
   ]
  },
  {
   "cell_type": "markdown",
   "metadata": {},
   "source": [
    "# Conclusion \n",
    "\n",
    "* need more data to avoid overfitting\n",
    "* need simpler architecture\n",
    "* add dropout layers\n",
    "\n",
    "# Try\n",
    "\n",
    "* 2d convolutions\n",
    "* attention mechanisms"
   ]
  },
  {
   "cell_type": "markdown",
   "metadata": {},
   "source": [
    "# Convert the model"
   ]
  },
  {
   "cell_type": "code",
   "execution_count": 24,
   "metadata": {
    "scrolled": true
   },
   "outputs": [
    {
     "name": "stdout",
     "output_type": "stream",
     "text": [
      "WARNING:tensorflow:From /home/andrew/Рабочий стол/Нейросети/venv/lib/python3.8/site-packages/tensorflow/python/training/tracking/tracking.py:111: Model.state_updates (from tensorflow.python.keras.engine.training) is deprecated and will be removed in a future version.\n",
      "Instructions for updating:\n",
      "This property should not be used in TensorFlow 2.0, as updates are applied automatically.\n",
      "WARNING:tensorflow:From /home/andrew/Рабочий стол/Нейросети/venv/lib/python3.8/site-packages/tensorflow/python/training/tracking/tracking.py:111: Layer.updates (from tensorflow.python.keras.engine.base_layer) is deprecated and will be removed in a future version.\n",
      "Instructions for updating:\n",
      "This property should not be used in TensorFlow 2.0, as updates are applied automatically.\n"
     ]
    },
    {
     "name": "stderr",
     "output_type": "stream",
     "text": [
      "2021-11-23 12:41:09.257582: W tensorflow/python/util/util.cc:348] Sets are not currently considered sequences, but this may change in the future, so consider avoiding using them.\n"
     ]
    },
    {
     "name": "stdout",
     "output_type": "stream",
     "text": [
      "INFO:tensorflow:Assets written to: /tmp/tmpny0znldl/assets\n"
     ]
    },
    {
     "name": "stderr",
     "output_type": "stream",
     "text": [
      "2021-11-23 12:41:11.950087: I tensorflow/core/grappler/devices.cc:69] Number of eligible GPUs (core count >= 8, compute capability >= 0.0): 0\n",
      "2021-11-23 12:41:11.950281: I tensorflow/core/grappler/clusters/single_machine.cc:356] Starting new session\n",
      "2021-11-23 12:41:11.966638: I tensorflow/core/grappler/optimizers/meta_optimizer.cc:816] Optimization results for grappler item: graph_to_optimize\n",
      "2021-11-23 12:41:11.966685: I tensorflow/core/grappler/optimizers/meta_optimizer.cc:818]   function_optimizer: Graph size after: 190 nodes (0), 219 edges (0), time = 2.18ms.\n",
      "2021-11-23 12:41:11.966690: I tensorflow/core/grappler/optimizers/meta_optimizer.cc:818]   function_optimizer: Graph size after: 190 nodes (0), 219 edges (0), time = 2.437ms.\n",
      "2021-11-23 12:41:11.966695: I tensorflow/core/grappler/optimizers/meta_optimizer.cc:816] Optimization results for grappler item: sequential_1_lstm_1_while_body_339041\n",
      "2021-11-23 12:41:11.966700: I tensorflow/core/grappler/optimizers/meta_optimizer.cc:818]   function_optimizer: function_optimizer did nothing. time = 0.003ms.\n",
      "2021-11-23 12:41:11.966703: I tensorflow/core/grappler/optimizers/meta_optimizer.cc:818]   function_optimizer: function_optimizer did nothing. time = 0ms.\n",
      "2021-11-23 12:41:11.966706: I tensorflow/core/grappler/optimizers/meta_optimizer.cc:816] Optimization results for grappler item: sequential_1_lstm_1_while_cond_339040\n",
      "2021-11-23 12:41:11.966710: I tensorflow/core/grappler/optimizers/meta_optimizer.cc:818]   function_optimizer: function_optimizer did nothing. time = 0.002ms.\n",
      "2021-11-23 12:41:11.966713: I tensorflow/core/grappler/optimizers/meta_optimizer.cc:818]   function_optimizer: function_optimizer did nothing. time = 0ms.\n",
      "2021-11-23 12:41:12.130185: W tensorflow/compiler/mlir/lite/python/tf_tfl_flatbuffer_helpers.cc:313] Ignored output_format.\n",
      "2021-11-23 12:41:12.130225: W tensorflow/compiler/mlir/lite/python/tf_tfl_flatbuffer_helpers.cc:316] Ignored drop_control_dependency.\n"
     ]
    }
   ],
   "source": [
    "converter = tf.lite.TFLiteConverter.from_keras_model(model) \n",
    "\n",
    "tflite_model = converter.convert()"
   ]
  },
  {
   "cell_type": "code",
   "execution_count": 25,
   "metadata": {},
   "outputs": [],
   "source": [
    "# Save the model.\n",
    "save_tflite_model(tflite_model, 'tflite_models')"
   ]
  },
  {
   "cell_type": "code",
   "execution_count": 26,
   "metadata": {},
   "outputs": [
    {
     "name": "stdout",
     "output_type": "stream",
     "text": [
      "Done. The result of TensorFlow matches the result of TensorFlow Lite.\n",
      "Done. The result of TensorFlow matches the result of TensorFlow Lite.\n",
      "Done. The result of TensorFlow matches the result of TensorFlow Lite.\n",
      "Done. The result of TensorFlow matches the result of TensorFlow Lite.\n",
      "Done. The result of TensorFlow matches the result of TensorFlow Lite.\n",
      "Done. The result of TensorFlow matches the result of TensorFlow Lite.\n",
      "Done. The result of TensorFlow matches the result of TensorFlow Lite.\n",
      "Done. The result of TensorFlow matches the result of TensorFlow Lite.\n",
      "Done. The result of TensorFlow matches the result of TensorFlow Lite.\n",
      "Done. The result of TensorFlow matches the result of TensorFlow Lite.\n"
     ]
    }
   ],
   "source": [
    "# Run the model with TensorFlow to get expected results.\n",
    "TEST_CASES = 10\n",
    "x = tf.reshape(X_val, (-1, time_steps, 36))\n",
    "# Run the model with TensorFlow Lite\n",
    "interpreter = tf.lite.Interpreter(model_content=tflite_model)\n",
    "interpreter.allocate_tensors()\n",
    "input_details = interpreter.get_input_details()\n",
    "output_details = interpreter.get_output_details()\n",
    "\n",
    "for i in range(TEST_CASES):\n",
    "    expected = model.predict(x[i:i+1])\n",
    "    interpreter.set_tensor(input_details[0][\"index\"], x[i:i+1])\n",
    "    interpreter.invoke()\n",
    "    result = interpreter.get_tensor(output_details[0][\"index\"])\n",
    "\n",
    "    # Assert if the result of TFLite model is consistent with the TF model.\n",
    "    np.testing.assert_almost_equal(expected, result, decimal=5)\n",
    "    print(\"Done. The result of TensorFlow matches the result of TensorFlow Lite.\")\n",
    "\n",
    "    # Please note: TfLite fused Lstm kernel is stateful, so we need to reset\n",
    "    # the states.\n",
    "    # Clean up internal states.\n",
    "    interpreter.reset_all_variables()"
   ]
  },
  {
   "cell_type": "markdown",
   "metadata": {},
   "source": [
    "# Moving most frequent smoothing"
   ]
  },
  {
   "cell_type": "code",
   "execution_count": 28,
   "metadata": {},
   "outputs": [],
   "source": [
    "y_pred = np.argmax(model(x).numpy(), axis=-1).ravel()\n",
    "y_val_np = np.concatenate(y_val_list)[:N_val*time_steps]"
   ]
  },
  {
   "cell_type": "code",
   "execution_count": 29,
   "metadata": {},
   "outputs": [],
   "source": [
    "# [1,1,1,1,3,3,1,1] -> [1]\n",
    "# moving window across padded y_pred\n",
    "# output element is most frequent in window\n",
    "\n",
    "win_size = time_steps // 2\n",
    "mf_smooth = np.zeros(y_pred.shape[0]+win_size)\n",
    "for i in range(len(y_pred) - win_size):\n",
    "    window = y_pred[i:i+win_size]\n",
    "    bins = np.bincount(window)\n",
    "    mf_smooth[i+win_size//2] = np.argmax(bins)\n",
    "\n",
    "mf_smooth = mf_smooth[:-win_size]"
   ]
  },
  {
   "cell_type": "code",
   "execution_count": 30,
   "metadata": {},
   "outputs": [
    {
     "data": {
      "text/plain": [
       "(3090, 3090, 3090)"
      ]
     },
     "execution_count": 30,
     "metadata": {},
     "output_type": "execute_result"
    }
   ],
   "source": [
    "len(mf_smooth), len(y_pred), len(y_val_np)"
   ]
  },
  {
   "cell_type": "code",
   "execution_count": 31,
   "metadata": {},
   "outputs": [
    {
     "name": "stdout",
     "output_type": "stream",
     "text": [
      "0.6042071197411003\n",
      "0.6207119741100323\n"
     ]
    }
   ],
   "source": [
    "print(np.mean(y_val_np==y_pred))\n",
    "print(np.mean(y_val_np==mf_smooth))"
   ]
  },
  {
   "cell_type": "code",
   "execution_count": 32,
   "metadata": {},
   "outputs": [
    {
     "data": {
      "text/plain": [
       "[<matplotlib.lines.Line2D at 0x7f8e54452670>]"
      ]
     },
     "execution_count": 32,
     "metadata": {},
     "output_type": "execute_result"
    },
    {
     "data": {
      "image/png": "[encoded data removed]",
      "text/plain": [
       "<Figure size 1152x864 with 3 Axes>"
      ]
     },
     "metadata": {
      "needs_background": "light"
     },
     "output_type": "display_data"
    }
   ],
   "source": [
    "plt.figure(figsize=(16, 12))\n",
    "\n",
    "plt.subplot(3, 1, 1)\n",
    "plt.title('Original')\n",
    "plt.plot(y_val_np[:600])\n",
    "\n",
    "plt.subplot(3, 1, 2)\n",
    "plt.title('Prediction')\n",
    "plt.plot(y_pred[:600])\n",
    "\n",
    "plt.subplot(3, 1, 3)\n",
    "plt.title('Smoothed prediction')\n",
    "plt.plot(mf_smooth[:600])\n",
    "plt.savefig('imgs/mov_pred.png', bbox_inches='tight')"
   ]
  },
  {
   "cell_type": "markdown",
   "metadata": {},
   "source": [
    "Thanks to:  \n",
    "https://github.com/keras-team/keras-tuner"
   ]
  }
 ],
 "metadata": {
  "kernelspec": {
   "display_name": "Python 3 (ipykernel)",
   "language": "python",
   "name": "python3"
  },
  "language_info": {
   "codemirror_mode": {
    "name": "ipython",
    "version": 3
   },
   "file_extension": ".py",
   "mimetype": "text/x-python",
   "name": "python",
   "nbconvert_exporter": "python",
   "pygments_lexer": "ipython3",
   "version": "3.8.10"
  }
 },
 "nbformat": 4,
 "nbformat_minor": 4
}
