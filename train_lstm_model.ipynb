{
 "cells": [
  {
   "cell_type": "markdown",
   "metadata": {
    "gradient": {
     "editing": false,
     "id": "62ff8ca4-6bf6-442d-b0a2-468aa0ee7d94",
     "kernelId": "1575c96a-5826-4c69-b3dd-9e87d0c84bf7"
    }
   },
   "source": [
    "# Load data"
   ]
  },
  {
   "cell_type": "code",
   "execution_count": 1,
   "metadata": {
    "gradient": {
     "editing": false,
     "execution_count": 15,
     "id": "c18158e7-ef4e-42aa-95b2-24b510ea96a2",
     "kernelId": "1575c96a-5826-4c69-b3dd-9e87d0c84bf7"
    },
    "scrolled": true
   },
   "outputs": [
    {
     "name": "stderr",
     "output_type": "stream",
     "text": [
      "2022-02-24 17:51:58.099394: I tensorflow/stream_executor/platform/default/dso_loader.cc:48] Successfully opened dynamic library libcudart.so.10.1\n"
     ]
    }
   ],
   "source": [
    "import sys\n",
    "import numpy as np\n",
    "import matplotlib.pyplot as plt\n",
    "import pandas as pd\n",
    "import seaborn as sns\n",
    "\n",
    "import tensorflow as tf\n",
    "import tensorflow.keras as K\n",
    "import keras_tuner as kt\n",
    "\n",
    "from utils import get_train_data"
   ]
  },
  {
   "cell_type": "code",
   "execution_count": 2,
   "metadata": {
    "gradient": {
     "editing": false,
     "execution_count": 16,
     "id": "ee46e5b3-b790-46d7-a347-3ce7fddc82a8",
     "kernelId": "1575c96a-5826-4c69-b3dd-9e87d0c84bf7"
    }
   },
   "outputs": [
    {
     "name": "stdout",
     "output_type": "stream",
     "text": [
      "GPU detected\n"
     ]
    },
    {
     "name": "stderr",
     "output_type": "stream",
     "text": [
      "2022-02-24 17:52:00.241951: I tensorflow/stream_executor/platform/default/dso_loader.cc:48] Successfully opened dynamic library libcuda.so.1\n",
      "2022-02-24 17:52:01.303398: I tensorflow/stream_executor/cuda/cuda_gpu_executor.cc:982] successful NUMA node read from SysFS had negative value (-1), but there must be at least one NUMA node, so returning NUMA node zero\n",
      "2022-02-24 17:52:01.304295: I tensorflow/core/common_runtime/gpu/gpu_device.cc:1716] Found device 0 with properties: \n",
      "pciBusID: 0000:01:00.0 name: NVIDIA GeForce GTX 1650 computeCapability: 7.5\n",
      "coreClock: 1.515GHz coreCount: 14 deviceMemorySize: 3.82GiB deviceMemoryBandwidth: 178.84GiB/s\n",
      "2022-02-24 17:52:01.304365: I tensorflow/stream_executor/platform/default/dso_loader.cc:48] Successfully opened dynamic library libcudart.so.10.1\n",
      "2022-02-24 17:52:01.308196: I tensorflow/stream_executor/platform/default/dso_loader.cc:48] Successfully opened dynamic library libcublas.so.10\n",
      "2022-02-24 17:52:01.311748: I tensorflow/stream_executor/platform/default/dso_loader.cc:48] Successfully opened dynamic library libcufft.so.10\n",
      "2022-02-24 17:52:01.312970: I tensorflow/stream_executor/platform/default/dso_loader.cc:48] Successfully opened dynamic library libcurand.so.10\n",
      "2022-02-24 17:52:01.316369: I tensorflow/stream_executor/platform/default/dso_loader.cc:48] Successfully opened dynamic library libcusolver.so.10\n",
      "2022-02-24 17:52:01.318445: I tensorflow/stream_executor/platform/default/dso_loader.cc:48] Successfully opened dynamic library libcusparse.so.10\n",
      "2022-02-24 17:52:01.325591: I tensorflow/stream_executor/platform/default/dso_loader.cc:48] Successfully opened dynamic library libcudnn.so.7\n",
      "2022-02-24 17:52:01.326028: I tensorflow/stream_executor/cuda/cuda_gpu_executor.cc:982] successful NUMA node read from SysFS had negative value (-1), but there must be at least one NUMA node, so returning NUMA node zero\n",
      "2022-02-24 17:52:01.327007: I tensorflow/stream_executor/cuda/cuda_gpu_executor.cc:982] successful NUMA node read from SysFS had negative value (-1), but there must be at least one NUMA node, so returning NUMA node zero\n",
      "2022-02-24 17:52:01.327739: I tensorflow/core/common_runtime/gpu/gpu_device.cc:1858] Adding visible gpu devices: 0\n"
     ]
    }
   ],
   "source": [
    "if sys.platform == 'linux':\n",
    "    physical_devices = tf.config.experimental.list_physical_devices('GPU')\n",
    "    if len(physical_devices) > 0:\n",
    "        print('GPU detected')\n",
    "        \n",
    "    for device in physical_devices:\n",
    "        tf.config.experimental.set_memory_growth(device, True)\n",
    "\n",
    "    tf.config.experimental.set_virtual_device_configuration(physical_devices[0], [tf.config.experimental.VirtualDeviceConfiguration(memory_limit=1024)])"
   ]
  },
  {
   "cell_type": "code",
   "execution_count": 3,
   "metadata": {
    "gradient": {
     "editing": false,
     "execution_count": 17,
     "id": "1f73e94a-43c2-4db4-a277-dbec55619c36",
     "kernelId": "1575c96a-5826-4c69-b3dd-9e87d0c84bf7"
    }
   },
   "outputs": [
    {
     "name": "stdout",
     "output_type": "stream",
     "text": [
      "id1_hook_2|reversed: False|data shape: (792, 34)\n",
      "--------------------\n",
      "id3_hook_1|reversed: False|data shape: (1461, 34)\n",
      "--------------------\n",
      "id3_hook_2|reversed: False|data shape: (1297, 34)\n",
      "--------------------\n",
      "id4_hook_1|reversed: False|data shape: (1054, 34)\n",
      "--------------------\n",
      "id4_hook_2|reversed: False|data shape: (1059, 34)\n",
      "--------------------\n",
      "id1_hook_1|reversed: False|data shape: (858, 34)\n",
      "--------------------\n",
      "id2_hook_1|reversed: False|data shape: (1013, 34)\n",
      "--------------------\n",
      "id0_hook_2|reversed: False|data shape: (1051, 34)\n",
      "--------------------\n",
      "id0_hook_1|reversed: False|data shape: (1100, 34)\n",
      "--------------------\n",
      "id2_hook_2|reversed: False|data shape: (1041, 34)\n",
      "--------------------\n",
      "id3_jab_2|reversed: False|data shape: (1164, 34)\n",
      "--------------------\n",
      "id4_jab_1|reversed: False|data shape: (911, 34)\n",
      "--------------------\n",
      "id2_jab_1|reversed: False|data shape: (1032, 34)\n",
      "--------------------\n",
      "id0_jab_1|reversed: False|data shape: (952, 34)\n",
      "--------------------\n",
      "id0_jab_2|reversed: False|data shape: (993, 34)\n",
      "--------------------\n",
      "id1_jab_1|reversed: False|data shape: (802, 34)\n",
      "--------------------\n",
      "id4_jab_2|reversed: False|data shape: (964, 34)\n",
      "--------------------\n",
      "id1_jab_2|reversed: False|data shape: (643, 34)\n",
      "--------------------\n",
      "id2_jab_2|reversed: False|data shape: (1030, 34)\n",
      "--------------------\n",
      "id3_jab_1|reversed: False|data shape: (1170, 34)\n",
      "--------------------\n",
      "id2_uper_1|reversed: False|data shape: (1064, 34)\n",
      "--------------------\n",
      "id4_uper_1|reversed: False|data shape: (1125, 34)\n",
      "--------------------\n",
      "id0_uper_2|reversed: False|data shape: (1186, 34)\n",
      "--------------------\n",
      "id0_uper_1|reversed: False|data shape: (1200, 34)\n",
      "--------------------\n",
      "id2_uper_2|reversed: False|data shape: (1033, 34)\n",
      "--------------------\n",
      "id3_uper_1|reversed: False|data shape: (1277, 34)\n",
      "--------------------\n",
      "id3_uper_2|reversed: False|data shape: (1196, 34)\n",
      "--------------------\n",
      "id1_uper_1|reversed: False|data shape: (746, 34)\n",
      "--------------------\n",
      "id1_uper_2|reversed: False|data shape: (703, 34)\n",
      "--------------------\n",
      "id4_uper_2|reversed: False|data shape: (1157, 34)\n",
      "--------------------\n"
     ]
    }
   ],
   "source": [
    "X_train, y_train = get_train_data(skip_midpoints=True, all_labels=True)"
   ]
  },
  {
   "cell_type": "code",
   "execution_count": 4,
   "metadata": {
    "gradient": {
     "editing": false,
     "execution_count": 18,
     "id": "99539ae2-a0d9-4508-8265-2b7d4463cae5",
     "kernelId": "1575c96a-5826-4c69-b3dd-9e87d0c84bf7"
    }
   },
   "outputs": [
    {
     "data": {
      "text/plain": [
       "((31074, 34), (31074,))"
      ]
     },
     "execution_count": 4,
     "metadata": {},
     "output_type": "execute_result"
    }
   ],
   "source": [
    "X_train.shape, y_train.shape"
   ]
  },
  {
   "cell_type": "code",
   "execution_count": 5,
   "metadata": {
    "gradient": {
     "editing": false,
     "execution_count": 19,
     "id": "0b51ca4e-bcf3-4680-b9d4-b98233424c9f",
     "kernelId": "1575c96a-5826-4c69-b3dd-9e87d0c84bf7"
    }
   },
   "outputs": [],
   "source": [
    "def compute_vector_angle(p0, p1, p2):\n",
    "    # vector p0 - p1\n",
    "    v1 = p0 - p1\n",
    "    \n",
    "    # vector p0 - p2\n",
    "    v2 = p2 - p1\n",
    "    \n",
    "    v1_length = np.sqrt(v1[0] ** 2 + v1[1] ** 2)\n",
    "    v2_length = np.sqrt(v2[0] ** 2 + v2[1] ** 2)\n",
    "    \n",
    "    cos = (v1[0] * v2[0] + v1[1] * v2[1]) / (v1_length * v2_length)\n",
    "    \n",
    "    if cos < -1:\n",
    "        cos = -1\n",
    "        \n",
    "    if cos > 1:\n",
    "        cos = 1\n",
    "\n",
    "    return np.arccos(cos)\n",
    "\n",
    "\n",
    "assert np.round(compute_vector_angle(np.array([2, 6]), np.array([0, 0]), np.array([8, 4])), 2) == 0.79\n",
    "\n",
    "\n",
    "# nose            0,1\n",
    "# left_eye        2,3\n",
    "# right_eye       4,5\n",
    "# left_ear        6,7\n",
    "# right_ear       8,9\n",
    "# left_shoulder   10,11\n",
    "# right_shoulder  12,13\n",
    "# left_elbow      14,15\n",
    "# right_elbow     16,17\n",
    "# left_wrist      18,19\n",
    "# right_wrist     20,21\n",
    "\n",
    "def add_angles(keypoints):\n",
    "    return np.append(\n",
    "        keypoints,\n",
    "        [\n",
    "            compute_vector_angle(keypoints[10:12], keypoints[14:16], keypoints[18:20]), # angle between left shoulder and wrist in radians\n",
    "            compute_vector_angle(keypoints[12:14], keypoints[16:18], keypoints[20:22]), # angle between right shoulder and wrist in radians\n",
    "        ])"
   ]
  },
  {
   "cell_type": "code",
   "execution_count": 6,
   "metadata": {
    "gradient": {
     "editing": false,
     "execution_count": 20,
     "id": "fdaa1d15-5d73-4899-8c28-19c8c9644013",
     "kernelId": "1575c96a-5826-4c69-b3dd-9e87d0c84bf7"
    }
   },
   "outputs": [
    {
     "data": {
      "text/plain": [
       "(31074, 36)"
      ]
     },
     "execution_count": 6,
     "metadata": {},
     "output_type": "execute_result"
    }
   ],
   "source": [
    "X_train = np.apply_along_axis(add_angles, 1, X_train)\n",
    "X_train.shape"
   ]
  },
  {
   "cell_type": "code",
   "execution_count": 7,
   "metadata": {
    "gradient": {
     "editing": false,
     "execution_count": 21,
     "id": "0912dfa8-988b-4900-af6e-403676ce88d3",
     "kernelId": "1575c96a-5826-4c69-b3dd-9e87d0c84bf7"
    }
   },
   "outputs": [],
   "source": [
    "KEYPOINT_DICT = {\n",
    "    'nose': 0,\n",
    "    'left_eye': 1,\n",
    "    'right_eye': 2,\n",
    "    'left_ear': 3,\n",
    "    'right_ear': 4,\n",
    "    'left_shoulder': 5,\n",
    "    'right_shoulder': 6,\n",
    "    'left_elbow': 7,\n",
    "    'right_elbow': 8,\n",
    "    'left_wrist': 9,\n",
    "    'right_wrist': 10,\n",
    "    'left_hip': 11,\n",
    "    'right_hip': 12,\n",
    "    'left_knee': 13,\n",
    "    'right_knee': 14,\n",
    "    'left_ankle': 15,\n",
    "    'right_ankle': 16,\n",
    "    'angle': 17,\n",
    "}"
   ]
  },
  {
   "cell_type": "code",
   "execution_count": 8,
   "metadata": {
    "gradient": {
     "editing": false,
     "execution_count": 22,
     "id": "2f23aae8-0cb9-41f6-a172-3086793d6b2f",
     "kernelId": "1575c96a-5826-4c69-b3dd-9e87d0c84bf7"
    }
   },
   "outputs": [],
   "source": [
    "def format_feature_names(names):\n",
    "    \"\"\"\"Form list of feature names\n",
    "\n",
    "    Params:\n",
    "        names - list of KEYPOINT_DICT keys\n",
    "        ndims - number of dimensions (x, y, score)\n",
    "        skip_midpoints - add or omit midpoint coords (x, y, score)\n",
    "\n",
    "    Returns:\n",
    "        list of feature names\n",
    "    \"\"\"\n",
    "    feature_names = []\n",
    "    for name in names:\n",
    "        if 'angle' in name:\n",
    "            feature_names.append(name+'-left-arm')\n",
    "            feature_names.append(name+'-right-arm')\n",
    "        else:\n",
    "            feature_names.append(name+'-x')\n",
    "            feature_names.append(name+'-y')\n",
    "\n",
    "    return feature_names"
   ]
  },
  {
   "cell_type": "code",
   "execution_count": 9,
   "metadata": {
    "gradient": {
     "editing": false,
     "execution_count": 23,
     "id": "29699a59-1d04-4eb9-8b82-df9234924c00",
     "kernelId": "1575c96a-5826-4c69-b3dd-9e87d0c84bf7"
    }
   },
   "outputs": [],
   "source": [
    "feature_names = format_feature_names(list(KEYPOINT_DICT.keys()))"
   ]
  },
  {
   "cell_type": "code",
   "execution_count": 10,
   "metadata": {
    "gradient": {
     "editing": false,
     "execution_count": 24,
     "id": "b024de56-63e2-4e31-93fd-d4e153aab8da",
     "kernelId": "1575c96a-5826-4c69-b3dd-9e87d0c84bf7"
    }
   },
   "outputs": [
    {
     "data": {
      "text/html": [
       "<div>\n",
       "<style scoped>\n",
       "    .dataframe tbody tr th:only-of-type {\n",
       "        vertical-align: middle;\n",
       "    }\n",
       "\n",
       "    .dataframe tbody tr th {\n",
       "        vertical-align: top;\n",
       "    }\n",
       "\n",
       "    .dataframe thead th {\n",
       "        text-align: right;\n",
       "    }\n",
       "</style>\n",
       "<table border=\"1\" class=\"dataframe\">\n",
       "  <thead>\n",
       "    <tr style=\"text-align: right;\">\n",
       "      <th></th>\n",
       "      <th>count</th>\n",
       "      <th>mean</th>\n",
       "      <th>std</th>\n",
       "      <th>min</th>\n",
       "      <th>25%</th>\n",
       "      <th>50%</th>\n",
       "      <th>75%</th>\n",
       "      <th>max</th>\n",
       "    </tr>\n",
       "  </thead>\n",
       "  <tbody>\n",
       "    <tr>\n",
       "      <th>nose-x</th>\n",
       "      <td>31074.0</td>\n",
       "      <td>-0.220691</td>\n",
       "      <td>0.028890</td>\n",
       "      <td>-0.407440</td>\n",
       "      <td>-0.237477</td>\n",
       "      <td>-0.218163</td>\n",
       "      <td>-0.202571</td>\n",
       "      <td>0.361919</td>\n",
       "    </tr>\n",
       "    <tr>\n",
       "      <th>nose-y</th>\n",
       "      <td>31074.0</td>\n",
       "      <td>-0.141959</td>\n",
       "      <td>0.060751</td>\n",
       "      <td>-0.467713</td>\n",
       "      <td>-0.185971</td>\n",
       "      <td>-0.143881</td>\n",
       "      <td>-0.103798</td>\n",
       "      <td>0.475557</td>\n",
       "    </tr>\n",
       "    <tr>\n",
       "      <th>left_eye-x</th>\n",
       "      <td>31074.0</td>\n",
       "      <td>-0.232318</td>\n",
       "      <td>0.029956</td>\n",
       "      <td>-0.340721</td>\n",
       "      <td>-0.249898</td>\n",
       "      <td>-0.229959</td>\n",
       "      <td>-0.213657</td>\n",
       "      <td>0.359797</td>\n",
       "    </tr>\n",
       "    <tr>\n",
       "      <th>left_eye-y</th>\n",
       "      <td>31074.0</td>\n",
       "      <td>-0.139179</td>\n",
       "      <td>0.064997</td>\n",
       "      <td>-0.480470</td>\n",
       "      <td>-0.186218</td>\n",
       "      <td>-0.144911</td>\n",
       "      <td>-0.101038</td>\n",
       "      <td>0.477576</td>\n",
       "    </tr>\n",
       "    <tr>\n",
       "      <th>right_eye-x</th>\n",
       "      <td>31074.0</td>\n",
       "      <td>-0.234061</td>\n",
       "      <td>0.030328</td>\n",
       "      <td>-0.344901</td>\n",
       "      <td>-0.252474</td>\n",
       "      <td>-0.230849</td>\n",
       "      <td>-0.215103</td>\n",
       "      <td>0.359336</td>\n",
       "    </tr>\n",
       "    <tr>\n",
       "      <th>right_eye-y</th>\n",
       "      <td>31074.0</td>\n",
       "      <td>-0.133812</td>\n",
       "      <td>0.060529</td>\n",
       "      <td>-0.473905</td>\n",
       "      <td>-0.176613</td>\n",
       "      <td>-0.133870</td>\n",
       "      <td>-0.094512</td>\n",
       "      <td>0.475477</td>\n",
       "    </tr>\n",
       "    <tr>\n",
       "      <th>left_ear-x</th>\n",
       "      <td>31074.0</td>\n",
       "      <td>-0.233495</td>\n",
       "      <td>0.029593</td>\n",
       "      <td>-0.444675</td>\n",
       "      <td>-0.252486</td>\n",
       "      <td>-0.232580</td>\n",
       "      <td>-0.214265</td>\n",
       "      <td>0.366997</td>\n",
       "    </tr>\n",
       "    <tr>\n",
       "      <th>left_ear-y</th>\n",
       "      <td>31074.0</td>\n",
       "      <td>-0.095097</td>\n",
       "      <td>0.068961</td>\n",
       "      <td>-0.451503</td>\n",
       "      <td>-0.144561</td>\n",
       "      <td>-0.108980</td>\n",
       "      <td>-0.052620</td>\n",
       "      <td>0.474723</td>\n",
       "    </tr>\n",
       "    <tr>\n",
       "      <th>right_ear-x</th>\n",
       "      <td>31074.0</td>\n",
       "      <td>-0.238615</td>\n",
       "      <td>0.030643</td>\n",
       "      <td>-0.346178</td>\n",
       "      <td>-0.258294</td>\n",
       "      <td>-0.236333</td>\n",
       "      <td>-0.218362</td>\n",
       "      <td>0.363357</td>\n",
       "    </tr>\n",
       "    <tr>\n",
       "      <th>right_ear-y</th>\n",
       "      <td>31074.0</td>\n",
       "      <td>-0.080467</td>\n",
       "      <td>0.056187</td>\n",
       "      <td>-0.465192</td>\n",
       "      <td>-0.115846</td>\n",
       "      <td>-0.075599</td>\n",
       "      <td>-0.042123</td>\n",
       "      <td>0.473494</td>\n",
       "    </tr>\n",
       "    <tr>\n",
       "      <th>left_shoulder-x</th>\n",
       "      <td>31074.0</td>\n",
       "      <td>-0.179648</td>\n",
       "      <td>0.028699</td>\n",
       "      <td>-0.284038</td>\n",
       "      <td>-0.200014</td>\n",
       "      <td>-0.181127</td>\n",
       "      <td>-0.157619</td>\n",
       "      <td>0.134826</td>\n",
       "    </tr>\n",
       "    <tr>\n",
       "      <th>left_shoulder-y</th>\n",
       "      <td>31074.0</td>\n",
       "      <td>-0.056465</td>\n",
       "      <td>0.090112</td>\n",
       "      <td>-0.271646</td>\n",
       "      <td>-0.128634</td>\n",
       "      <td>-0.081884</td>\n",
       "      <td>0.022100</td>\n",
       "      <td>0.454677</td>\n",
       "    </tr>\n",
       "    <tr>\n",
       "      <th>right_shoulder-x</th>\n",
       "      <td>31074.0</td>\n",
       "      <td>-0.186026</td>\n",
       "      <td>0.025578</td>\n",
       "      <td>-0.278860</td>\n",
       "      <td>-0.203968</td>\n",
       "      <td>-0.185055</td>\n",
       "      <td>-0.166294</td>\n",
       "      <td>0.152549</td>\n",
       "    </tr>\n",
       "    <tr>\n",
       "      <th>right_shoulder-y</th>\n",
       "      <td>31074.0</td>\n",
       "      <td>-0.012201</td>\n",
       "      <td>0.070553</td>\n",
       "      <td>-0.266776</td>\n",
       "      <td>-0.050985</td>\n",
       "      <td>-0.009117</td>\n",
       "      <td>0.039205</td>\n",
       "      <td>0.432912</td>\n",
       "    </tr>\n",
       "    <tr>\n",
       "      <th>left_elbow-x</th>\n",
       "      <td>31074.0</td>\n",
       "      <td>-0.091243</td>\n",
       "      <td>0.038403</td>\n",
       "      <td>-0.275171</td>\n",
       "      <td>-0.103034</td>\n",
       "      <td>-0.083536</td>\n",
       "      <td>-0.069088</td>\n",
       "      <td>0.172872</td>\n",
       "    </tr>\n",
       "    <tr>\n",
       "      <th>left_elbow-y</th>\n",
       "      <td>31074.0</td>\n",
       "      <td>-0.129670</td>\n",
       "      <td>0.121787</td>\n",
       "      <td>-0.454742</td>\n",
       "      <td>-0.218955</td>\n",
       "      <td>-0.158608</td>\n",
       "      <td>-0.031748</td>\n",
       "      <td>0.455919</td>\n",
       "    </tr>\n",
       "    <tr>\n",
       "      <th>right_elbow-x</th>\n",
       "      <td>31074.0</td>\n",
       "      <td>-0.111966</td>\n",
       "      <td>0.029978</td>\n",
       "      <td>-0.261393</td>\n",
       "      <td>-0.124781</td>\n",
       "      <td>-0.107097</td>\n",
       "      <td>-0.092346</td>\n",
       "      <td>0.167001</td>\n",
       "    </tr>\n",
       "    <tr>\n",
       "      <th>right_elbow-y</th>\n",
       "      <td>31074.0</td>\n",
       "      <td>-0.056485</td>\n",
       "      <td>0.102613</td>\n",
       "      <td>-0.445553</td>\n",
       "      <td>-0.119870</td>\n",
       "      <td>-0.056245</td>\n",
       "      <td>0.029580</td>\n",
       "      <td>0.453781</td>\n",
       "    </tr>\n",
       "    <tr>\n",
       "      <th>left_wrist-x</th>\n",
       "      <td>31074.0</td>\n",
       "      <td>-0.138964</td>\n",
       "      <td>0.051998</td>\n",
       "      <td>-0.298592</td>\n",
       "      <td>-0.169187</td>\n",
       "      <td>-0.149847</td>\n",
       "      <td>-0.120075</td>\n",
       "      <td>0.379429</td>\n",
       "    </tr>\n",
       "    <tr>\n",
       "      <th>left_wrist-y</th>\n",
       "      <td>31074.0</td>\n",
       "      <td>-0.206065</td>\n",
       "      <td>0.118739</td>\n",
       "      <td>-0.579556</td>\n",
       "      <td>-0.268469</td>\n",
       "      <td>-0.207668</td>\n",
       "      <td>-0.125802</td>\n",
       "      <td>0.444129</td>\n",
       "    </tr>\n",
       "    <tr>\n",
       "      <th>right_wrist-x</th>\n",
       "      <td>31074.0</td>\n",
       "      <td>-0.141096</td>\n",
       "      <td>0.042531</td>\n",
       "      <td>-0.266704</td>\n",
       "      <td>-0.167868</td>\n",
       "      <td>-0.146519</td>\n",
       "      <td>-0.122051</td>\n",
       "      <td>0.374958</td>\n",
       "    </tr>\n",
       "    <tr>\n",
       "      <th>right_wrist-y</th>\n",
       "      <td>31074.0</td>\n",
       "      <td>-0.150500</td>\n",
       "      <td>0.107284</td>\n",
       "      <td>-0.588713</td>\n",
       "      <td>-0.199884</td>\n",
       "      <td>-0.135194</td>\n",
       "      <td>-0.085357</td>\n",
       "      <td>0.439304</td>\n",
       "    </tr>\n",
       "    <tr>\n",
       "      <th>left_hip-x</th>\n",
       "      <td>31074.0</td>\n",
       "      <td>0.002127</td>\n",
       "      <td>0.002097</td>\n",
       "      <td>-0.009743</td>\n",
       "      <td>0.000835</td>\n",
       "      <td>0.001968</td>\n",
       "      <td>0.003339</td>\n",
       "      <td>0.011939</td>\n",
       "    </tr>\n",
       "    <tr>\n",
       "      <th>left_hip-y</th>\n",
       "      <td>31074.0</td>\n",
       "      <td>-0.023054</td>\n",
       "      <td>0.038658</td>\n",
       "      <td>-0.099615</td>\n",
       "      <td>-0.055297</td>\n",
       "      <td>-0.039011</td>\n",
       "      <td>0.013443</td>\n",
       "      <td>0.096701</td>\n",
       "    </tr>\n",
       "    <tr>\n",
       "      <th>right_hip-x</th>\n",
       "      <td>31074.0</td>\n",
       "      <td>-0.002127</td>\n",
       "      <td>0.002097</td>\n",
       "      <td>-0.011939</td>\n",
       "      <td>-0.003339</td>\n",
       "      <td>-0.001968</td>\n",
       "      <td>-0.000835</td>\n",
       "      <td>0.009743</td>\n",
       "    </tr>\n",
       "    <tr>\n",
       "      <th>right_hip-y</th>\n",
       "      <td>31074.0</td>\n",
       "      <td>0.023054</td>\n",
       "      <td>0.038658</td>\n",
       "      <td>-0.096701</td>\n",
       "      <td>-0.013443</td>\n",
       "      <td>0.039011</td>\n",
       "      <td>0.055296</td>\n",
       "      <td>0.099615</td>\n",
       "    </tr>\n",
       "    <tr>\n",
       "      <th>left_knee-x</th>\n",
       "      <td>31074.0</td>\n",
       "      <td>0.128875</td>\n",
       "      <td>0.023159</td>\n",
       "      <td>-0.088841</td>\n",
       "      <td>0.113359</td>\n",
       "      <td>0.124003</td>\n",
       "      <td>0.140799</td>\n",
       "      <td>0.213485</td>\n",
       "    </tr>\n",
       "    <tr>\n",
       "      <th>left_knee-y</th>\n",
       "      <td>31074.0</td>\n",
       "      <td>-0.133386</td>\n",
       "      <td>0.055464</td>\n",
       "      <td>-0.486933</td>\n",
       "      <td>-0.167483</td>\n",
       "      <td>-0.141957</td>\n",
       "      <td>-0.111807</td>\n",
       "      <td>0.168886</td>\n",
       "    </tr>\n",
       "    <tr>\n",
       "      <th>right_knee-x</th>\n",
       "      <td>31074.0</td>\n",
       "      <td>0.119625</td>\n",
       "      <td>0.021655</td>\n",
       "      <td>-0.117657</td>\n",
       "      <td>0.104827</td>\n",
       "      <td>0.114325</td>\n",
       "      <td>0.128447</td>\n",
       "      <td>0.212793</td>\n",
       "    </tr>\n",
       "    <tr>\n",
       "      <th>right_knee-y</th>\n",
       "      <td>31074.0</td>\n",
       "      <td>0.020318</td>\n",
       "      <td>0.052817</td>\n",
       "      <td>-0.308054</td>\n",
       "      <td>-0.010583</td>\n",
       "      <td>0.028278</td>\n",
       "      <td>0.055166</td>\n",
       "      <td>0.324813</td>\n",
       "    </tr>\n",
       "    <tr>\n",
       "      <th>left_ankle-x</th>\n",
       "      <td>31074.0</td>\n",
       "      <td>0.273766</td>\n",
       "      <td>0.040479</td>\n",
       "      <td>-0.031853</td>\n",
       "      <td>0.245394</td>\n",
       "      <td>0.266421</td>\n",
       "      <td>0.292997</td>\n",
       "      <td>0.406871</td>\n",
       "    </tr>\n",
       "    <tr>\n",
       "      <th>left_ankle-y</th>\n",
       "      <td>31074.0</td>\n",
       "      <td>-0.122253</td>\n",
       "      <td>0.070499</td>\n",
       "      <td>-0.547651</td>\n",
       "      <td>-0.166558</td>\n",
       "      <td>-0.135469</td>\n",
       "      <td>-0.091912</td>\n",
       "      <td>0.426247</td>\n",
       "    </tr>\n",
       "    <tr>\n",
       "      <th>right_ankle-x</th>\n",
       "      <td>31074.0</td>\n",
       "      <td>0.235389</td>\n",
       "      <td>0.046793</td>\n",
       "      <td>-0.035227</td>\n",
       "      <td>0.201940</td>\n",
       "      <td>0.229070</td>\n",
       "      <td>0.258674</td>\n",
       "      <td>0.405846</td>\n",
       "    </tr>\n",
       "    <tr>\n",
       "      <th>right_ankle-y</th>\n",
       "      <td>31074.0</td>\n",
       "      <td>0.109824</td>\n",
       "      <td>0.074249</td>\n",
       "      <td>-0.547769</td>\n",
       "      <td>0.068581</td>\n",
       "      <td>0.106660</td>\n",
       "      <td>0.154661</td>\n",
       "      <td>0.427657</td>\n",
       "    </tr>\n",
       "    <tr>\n",
       "      <th>angle-left-arm</th>\n",
       "      <td>31074.0</td>\n",
       "      <td>1.571731</td>\n",
       "      <td>0.619537</td>\n",
       "      <td>0.000333</td>\n",
       "      <td>1.227909</td>\n",
       "      <td>1.454478</td>\n",
       "      <td>1.734197</td>\n",
       "      <td>3.141593</td>\n",
       "    </tr>\n",
       "    <tr>\n",
       "      <th>angle-right-arm</th>\n",
       "      <td>31074.0</td>\n",
       "      <td>1.649663</td>\n",
       "      <td>0.663476</td>\n",
       "      <td>0.000456</td>\n",
       "      <td>1.219509</td>\n",
       "      <td>1.589613</td>\n",
       "      <td>2.094490</td>\n",
       "      <td>3.141593</td>\n",
       "    </tr>\n",
       "  </tbody>\n",
       "</table>\n",
       "</div>"
      ],
      "text/plain": [
       "                    count      mean       std       min       25%       50%  \\\n",
       "nose-x            31074.0 -0.220691  0.028890 -0.407440 -0.237477 -0.218163   \n",
       "nose-y            31074.0 -0.141959  0.060751 -0.467713 -0.185971 -0.143881   \n",
       "left_eye-x        31074.0 -0.232318  0.029956 -0.340721 -0.249898 -0.229959   \n",
       "left_eye-y        31074.0 -0.139179  0.064997 -0.480470 -0.186218 -0.144911   \n",
       "right_eye-x       31074.0 -0.234061  0.030328 -0.344901 -0.252474 -0.230849   \n",
       "right_eye-y       31074.0 -0.133812  0.060529 -0.473905 -0.176613 -0.133870   \n",
       "left_ear-x        31074.0 -0.233495  0.029593 -0.444675 -0.252486 -0.232580   \n",
       "left_ear-y        31074.0 -0.095097  0.068961 -0.451503 -0.144561 -0.108980   \n",
       "right_ear-x       31074.0 -0.238615  0.030643 -0.346178 -0.258294 -0.236333   \n",
       "right_ear-y       31074.0 -0.080467  0.056187 -0.465192 -0.115846 -0.075599   \n",
       "left_shoulder-x   31074.0 -0.179648  0.028699 -0.284038 -0.200014 -0.181127   \n",
       "left_shoulder-y   31074.0 -0.056465  0.090112 -0.271646 -0.128634 -0.081884   \n",
       "right_shoulder-x  31074.0 -0.186026  0.025578 -0.278860 -0.203968 -0.185055   \n",
       "right_shoulder-y  31074.0 -0.012201  0.070553 -0.266776 -0.050985 -0.009117   \n",
       "left_elbow-x      31074.0 -0.091243  0.038403 -0.275171 -0.103034 -0.083536   \n",
       "left_elbow-y      31074.0 -0.129670  0.121787 -0.454742 -0.218955 -0.158608   \n",
       "right_elbow-x     31074.0 -0.111966  0.029978 -0.261393 -0.124781 -0.107097   \n",
       "right_elbow-y     31074.0 -0.056485  0.102613 -0.445553 -0.119870 -0.056245   \n",
       "left_wrist-x      31074.0 -0.138964  0.051998 -0.298592 -0.169187 -0.149847   \n",
       "left_wrist-y      31074.0 -0.206065  0.118739 -0.579556 -0.268469 -0.207668   \n",
       "right_wrist-x     31074.0 -0.141096  0.042531 -0.266704 -0.167868 -0.146519   \n",
       "right_wrist-y     31074.0 -0.150500  0.107284 -0.588713 -0.199884 -0.135194   \n",
       "left_hip-x        31074.0  0.002127  0.002097 -0.009743  0.000835  0.001968   \n",
       "left_hip-y        31074.0 -0.023054  0.038658 -0.099615 -0.055297 -0.039011   \n",
       "right_hip-x       31074.0 -0.002127  0.002097 -0.011939 -0.003339 -0.001968   \n",
       "right_hip-y       31074.0  0.023054  0.038658 -0.096701 -0.013443  0.039011   \n",
       "left_knee-x       31074.0  0.128875  0.023159 -0.088841  0.113359  0.124003   \n",
       "left_knee-y       31074.0 -0.133386  0.055464 -0.486933 -0.167483 -0.141957   \n",
       "right_knee-x      31074.0  0.119625  0.021655 -0.117657  0.104827  0.114325   \n",
       "right_knee-y      31074.0  0.020318  0.052817 -0.308054 -0.010583  0.028278   \n",
       "left_ankle-x      31074.0  0.273766  0.040479 -0.031853  0.245394  0.266421   \n",
       "left_ankle-y      31074.0 -0.122253  0.070499 -0.547651 -0.166558 -0.135469   \n",
       "right_ankle-x     31074.0  0.235389  0.046793 -0.035227  0.201940  0.229070   \n",
       "right_ankle-y     31074.0  0.109824  0.074249 -0.547769  0.068581  0.106660   \n",
       "angle-left-arm    31074.0  1.571731  0.619537  0.000333  1.227909  1.454478   \n",
       "angle-right-arm   31074.0  1.649663  0.663476  0.000456  1.219509  1.589613   \n",
       "\n",
       "                       75%       max  \n",
       "nose-x           -0.202571  0.361919  \n",
       "nose-y           -0.103798  0.475557  \n",
       "left_eye-x       -0.213657  0.359797  \n",
       "left_eye-y       -0.101038  0.477576  \n",
       "right_eye-x      -0.215103  0.359336  \n",
       "right_eye-y      -0.094512  0.475477  \n",
       "left_ear-x       -0.214265  0.366997  \n",
       "left_ear-y       -0.052620  0.474723  \n",
       "right_ear-x      -0.218362  0.363357  \n",
       "right_ear-y      -0.042123  0.473494  \n",
       "left_shoulder-x  -0.157619  0.134826  \n",
       "left_shoulder-y   0.022100  0.454677  \n",
       "right_shoulder-x -0.166294  0.152549  \n",
       "right_shoulder-y  0.039205  0.432912  \n",
       "left_elbow-x     -0.069088  0.172872  \n",
       "left_elbow-y     -0.031748  0.455919  \n",
       "right_elbow-x    -0.092346  0.167001  \n",
       "right_elbow-y     0.029580  0.453781  \n",
       "left_wrist-x     -0.120075  0.379429  \n",
       "left_wrist-y     -0.125802  0.444129  \n",
       "right_wrist-x    -0.122051  0.374958  \n",
       "right_wrist-y    -0.085357  0.439304  \n",
       "left_hip-x        0.003339  0.011939  \n",
       "left_hip-y        0.013443  0.096701  \n",
       "right_hip-x      -0.000835  0.009743  \n",
       "right_hip-y       0.055296  0.099615  \n",
       "left_knee-x       0.140799  0.213485  \n",
       "left_knee-y      -0.111807  0.168886  \n",
       "right_knee-x      0.128447  0.212793  \n",
       "right_knee-y      0.055166  0.324813  \n",
       "left_ankle-x      0.292997  0.406871  \n",
       "left_ankle-y     -0.091912  0.426247  \n",
       "right_ankle-x     0.258674  0.405846  \n",
       "right_ankle-y     0.154661  0.427657  \n",
       "angle-left-arm    1.734197  3.141593  \n",
       "angle-right-arm   2.094490  3.141593  "
      ]
     },
     "execution_count": 10,
     "metadata": {},
     "output_type": "execute_result"
    }
   ],
   "source": [
    "df = pd.DataFrame(data=X_train, columns=feature_names)\n",
    "df.describe().transpose()"
   ]
  },
  {
   "cell_type": "code",
   "execution_count": 11,
   "metadata": {
    "gradient": {
     "editing": false,
     "execution_count": 25,
     "id": "ddceac92-2a81-482c-a2eb-dd19d776106f",
     "kernelId": "1575c96a-5826-4c69-b3dd-9e87d0c84bf7"
    },
    "scrolled": true
   },
   "outputs": [
    {
     "data": {
      "image/png": "[encoded data removed]",
      "text/plain": [
       "<Figure size 1152x720 with 1 Axes>"
      ]
     },
     "metadata": {
      "needs_background": "light"
     },
     "output_type": "display_data"
    }
   ],
   "source": [
    "plt.figure(figsize=(16, 10))\n",
    "ax = sns.violinplot(data=df)\n",
    "_ = ax.set_xticklabels(df.keys(), rotation=90)"
   ]
  },
  {
   "cell_type": "code",
   "execution_count": 12,
   "metadata": {
    "gradient": {
     "editing": false,
     "execution_count": 26,
     "id": "a372a6f9-73e2-441c-85c4-795a719178fc",
     "kernelId": "1575c96a-5826-4c69-b3dd-9e87d0c84bf7"
    }
   },
   "outputs": [
    {
     "data": {
      "text/plain": [
       "1035"
      ]
     },
     "execution_count": 12,
     "metadata": {},
     "output_type": "execute_result"
    }
   ],
   "source": [
    "time_steps = 30 # expect camera 30 fps, so process 1 sample per second\n",
    "# Number of samples in batch\n",
    "N_train = X_train.shape[0] // time_steps\n",
    "N_train"
   ]
  },
  {
   "cell_type": "code",
   "execution_count": 13,
   "metadata": {
    "gradient": {
     "editing": false,
     "execution_count": 27,
     "id": "7e8b2b31-fe0c-445e-8c87-274d4fab3216",
     "kernelId": "1575c96a-5826-4c69-b3dd-9e87d0c84bf7"
    }
   },
   "outputs": [
    {
     "data": {
      "text/plain": [
       "(1035, 30, 36)"
      ]
     },
     "execution_count": 13,
     "metadata": {},
     "output_type": "execute_result"
    }
   ],
   "source": [
    "X_train = X_train[:N_train*time_steps].reshape(-1, time_steps, 36)\n",
    "y_train = y_train[:N_train*time_steps].reshape(-1, time_steps, 1)\n",
    "X_train.shape"
   ]
  },
  {
   "cell_type": "markdown",
   "metadata": {
    "gradient": {
     "editing": false,
     "id": "8246ed18-8a01-44e1-a244-144e69a7e073",
     "kernelId": "1575c96a-5826-4c69-b3dd-9e87d0c84bf7"
    }
   },
   "source": [
    "## LSTM"
   ]
  },
  {
   "cell_type": "code",
   "execution_count": 14,
   "metadata": {
    "gradient": {
     "editing": false,
     "execution_count": 28,
     "id": "fbacda46-d096-4e25-8c76-b774465fd2c7",
     "kernelId": "1575c96a-5826-4c69-b3dd-9e87d0c84bf7"
    },
    "scrolled": true
   },
   "outputs": [
    {
     "name": "stderr",
     "output_type": "stream",
     "text": [
      "2022-02-24 17:52:32.530445: I tensorflow/core/platform/cpu_feature_guard.cc:142] This TensorFlow binary is optimized with oneAPI Deep Neural Network Library (oneDNN)to use the following CPU instructions in performance-critical operations:  AVX2 FMA\n",
      "To enable them in other operations, rebuild TensorFlow with the appropriate compiler flags.\n",
      "2022-02-24 17:52:32.561732: I tensorflow/core/platform/profile_utils/cpu_utils.cc:104] CPU Frequency: 2295660000 Hz\n",
      "2022-02-24 17:52:32.562690: I tensorflow/compiler/xla/service/service.cc:168] XLA service 0x6931280 initialized for platform Host (this does not guarantee that XLA will be used). Devices:\n",
      "2022-02-24 17:52:32.562742: I tensorflow/compiler/xla/service/service.cc:176]   StreamExecutor device (0): Host, Default Version\n",
      "2022-02-24 17:52:32.727647: I tensorflow/stream_executor/cuda/cuda_gpu_executor.cc:982] successful NUMA node read from SysFS had negative value (-1), but there must be at least one NUMA node, so returning NUMA node zero\n",
      "2022-02-24 17:52:32.728675: I tensorflow/compiler/xla/service/service.cc:168] XLA service 0x69c4d40 initialized for platform CUDA (this does not guarantee that XLA will be used). Devices:\n",
      "2022-02-24 17:52:32.728712: I tensorflow/compiler/xla/service/service.cc:176]   StreamExecutor device (0): NVIDIA GeForce GTX 1650, Compute Capability 7.5\n",
      "2022-02-24 17:52:32.729105: I tensorflow/stream_executor/cuda/cuda_gpu_executor.cc:982] successful NUMA node read from SysFS had negative value (-1), but there must be at least one NUMA node, so returning NUMA node zero\n",
      "2022-02-24 17:52:32.729936: I tensorflow/core/common_runtime/gpu/gpu_device.cc:1716] Found device 0 with properties: \n",
      "pciBusID: 0000:01:00.0 name: NVIDIA GeForce GTX 1650 computeCapability: 7.5\n",
      "coreClock: 1.515GHz coreCount: 14 deviceMemorySize: 3.82GiB deviceMemoryBandwidth: 178.84GiB/s\n",
      "2022-02-24 17:52:32.730021: I tensorflow/stream_executor/platform/default/dso_loader.cc:48] Successfully opened dynamic library libcudart.so.10.1\n",
      "2022-02-24 17:52:32.730058: I tensorflow/stream_executor/platform/default/dso_loader.cc:48] Successfully opened dynamic library libcublas.so.10\n",
      "2022-02-24 17:52:32.730086: I tensorflow/stream_executor/platform/default/dso_loader.cc:48] Successfully opened dynamic library libcufft.so.10\n",
      "2022-02-24 17:52:32.730112: I tensorflow/stream_executor/platform/default/dso_loader.cc:48] Successfully opened dynamic library libcurand.so.10\n",
      "2022-02-24 17:52:32.730138: I tensorflow/stream_executor/platform/default/dso_loader.cc:48] Successfully opened dynamic library libcusolver.so.10\n",
      "2022-02-24 17:52:32.730163: I tensorflow/stream_executor/platform/default/dso_loader.cc:48] Successfully opened dynamic library libcusparse.so.10\n",
      "2022-02-24 17:52:32.730189: I tensorflow/stream_executor/platform/default/dso_loader.cc:48] Successfully opened dynamic library libcudnn.so.7\n",
      "2022-02-24 17:52:32.730338: I tensorflow/stream_executor/cuda/cuda_gpu_executor.cc:982] successful NUMA node read from SysFS had negative value (-1), but there must be at least one NUMA node, so returning NUMA node zero\n",
      "2022-02-24 17:52:32.731191: I tensorflow/stream_executor/cuda/cuda_gpu_executor.cc:982] successful NUMA node read from SysFS had negative value (-1), but there must be at least one NUMA node, so returning NUMA node zero\n",
      "2022-02-24 17:52:32.731909: I tensorflow/core/common_runtime/gpu/gpu_device.cc:1858] Adding visible gpu devices: 0\n",
      "2022-02-24 17:52:32.731981: I tensorflow/stream_executor/platform/default/dso_loader.cc:48] Successfully opened dynamic library libcudart.so.10.1\n",
      "2022-02-24 17:52:33.627107: I tensorflow/core/common_runtime/gpu/gpu_device.cc:1257] Device interconnect StreamExecutor with strength 1 edge matrix:\n",
      "2022-02-24 17:52:33.627186: I tensorflow/core/common_runtime/gpu/gpu_device.cc:1263]      0 \n",
      "2022-02-24 17:52:33.627200: I tensorflow/core/common_runtime/gpu/gpu_device.cc:1276] 0:   N \n",
      "2022-02-24 17:52:33.627612: I tensorflow/stream_executor/cuda/cuda_gpu_executor.cc:982] successful NUMA node read from SysFS had negative value (-1), but there must be at least one NUMA node, so returning NUMA node zero\n",
      "2022-02-24 17:52:33.628617: I tensorflow/stream_executor/cuda/cuda_gpu_executor.cc:982] successful NUMA node read from SysFS had negative value (-1), but there must be at least one NUMA node, so returning NUMA node zero\n",
      "2022-02-24 17:52:33.629414: I tensorflow/core/common_runtime/gpu/gpu_device.cc:1402] Created TensorFlow device (/job:localhost/replica:0/task:0/device:GPU:0 with 1024 MB memory) -> physical GPU (device: 0, name: NVIDIA GeForce GTX 1650, pci bus id: 0000:01:00.0, compute capability: 7.5)\n"
     ]
    }
   ],
   "source": [
    "y_train = K.utils.to_categorical(y_train, num_classes=13)\n",
    "X_train = tf.constant(X_train, dtype=tf.float32)"
   ]
  },
  {
   "cell_type": "code",
   "execution_count": 15,
   "metadata": {},
   "outputs": [],
   "source": [
    "assert X_train.dtype == tf.float32 # che check that X_train is float32 (float64 causes problems after converting to tflite)"
   ]
  },
  {
   "cell_type": "code",
   "execution_count": 22,
   "metadata": {
    "gradient": {
     "editing": false,
     "execution_count": 29,
     "id": "65b22874-a30f-43cb-897d-e36445412096",
     "kernelId": "1575c96a-5826-4c69-b3dd-9e87d0c84bf7"
    }
   },
   "outputs": [],
   "source": [
    "def model_builder(hp):\n",
    "    # Hyperparams\n",
    "    hp_ru1 = hp.Int('recurrent_units1', min_value=16, max_value=128, step=8)\n",
    "    # hp_ru2 = hp.Int('recurrent_units2', min_value=16, max_value=128, step=8)\n",
    "\n",
    "    hp_du1 = hp.Int('units1', min_value=16, max_value=128, step=8)\n",
    "    hp_du2 = hp.Int('units2', min_value=16, max_value=128, step=8)\n",
    "\n",
    "    hp_reg1 = hp.Float('dense_reg1', min_value=1e-4, max_value=1e-2)\n",
    "    hp_reg2 = hp.Float('dense_reg2', min_value=1e-4, max_value=1e-2)\n",
    "    \n",
    "    hp_dp1 = hp.Float('rec_dropout1', min_value=0., max_value=0.4)\n",
    "    # hp_dp2 = hp.Float('rec_dropout2', min_value=0., max_value=0.4)\n",
    "        \n",
    "    hp_dl_dp1 = hp.Float('dropout1', min_value=0., max_value=0.4)\n",
    "    hp_dl_dp2 = hp.Float('dropout2', min_value=0., max_value=0.4)\n",
    "\n",
    "    hp_rec_dp1 = hp.Float('rec_dropout1', min_value=0., max_value=0.4)\n",
    "    # hp_rec_dp2 = hp.Float('rec_dropout2', min_value=0., max_value=0.4)\n",
    "        \n",
    "    hp_kernel_reg1 = hp.Float('kernel_reg1', min_value=1e-5, max_value=1e-3, sampling='log')\n",
    "    # hp_kernel_reg2 = hp.Float('kernel_reg2', min_value=1e-5, max_value=1e-3, sampling='log')\n",
    "\n",
    "    hp_recur_reg1 = hp.Float('recur_reg1', min_value=1e-5, max_value=1e-3, sampling='log')\n",
    "    # hp_recur_reg2 = hp.Float('recur_reg2', min_value=1e-5, max_value=1e-3, sampling='log')\n",
    "\n",
    "    hp_act_reg1 = hp.Float('act_reg1', min_value=1e-5, max_value=1e-3, sampling='log')\n",
    "    # hp_act_reg2 = hp.Float('act_reg2', min_value=1e-5, max_value=1e-3, sampling='log')\n",
    "\n",
    "    # hp_add_another_rec_layer = hp.Boolean('add_another_gru_layer')\n",
    " \n",
    "    hp_learning_rate = hp.Float('learning_rate', min_value=1e-4, max_value=1e-2)\n",
    "\n",
    "    layers = []\n",
    "    \n",
    "    # Model\n",
    "    kernel_reg1 = K.regularizers.l2(hp_kernel_reg1)\n",
    "    # kernel_reg2 = K.regularizers.l2(hp_kernel_reg2)\n",
    "    \n",
    "    recurrent_reg1 = K.regularizers.l2(hp_recur_reg1)\n",
    "    # recurrent_reg2 = K.regularizers.l2(hp_recur_reg2)\n",
    "        \n",
    "    act_reg1 = K.regularizers.l2(hp_act_reg1)\n",
    "    # act_reg2 = K.regularizers.l2(hp_act_reg2)\n",
    "\n",
    "    model = K.Sequential()\n",
    "    model.add(K.layers.BatchNormalization(axis=1))\n",
    "    model.add(K.layers.LSTM(hp_ru1,\n",
    "                             # stateful=True, # mutable states not supported in tflite\n",
    "                             return_sequences=True,\n",
    "                             kernel_regularizer=kernel_reg1,\n",
    "                             recurrent_regularizer=recurrent_reg1,\n",
    "                             activity_regularizer=act_reg1,\n",
    "                             dropout=hp_dp1,\n",
    "                             recurrent_dropout=hp_rec_dp1\n",
    "                           ))\n",
    "\n",
    "    # with hp.conditional_scope('add_another_gru_layer', [True]):\n",
    "    #     model.add(K.layers.LSTM(hp_ru2,\n",
    "    #                          # stateful=True, # mutable states not supported in tflite \n",
    "    #                          return_sequences=True,\n",
    "    #                          kernel_regularizer=kernel_reg2,\n",
    "    #                          recurrent_regularizer=recurrent_reg2,\n",
    "    #                          activity_regularizer=act_reg2,\n",
    "    #                          dropout=hp_dp2,\n",
    "    #                          recurrent_dropout=hp_rec_dp2\n",
    "    #                        ))\n",
    "        \n",
    "    model.add(K.layers.Dense(hp_du1, activation='relu',\n",
    "                            kernel_regularizer=K.regularizers.l2(hp_reg1)))\n",
    "    model.add(K.layers.Dropout(hp_dl_dp1))\n",
    "    model.add(K.layers.Dense(hp_du2, activation='relu',\n",
    "                            kernel_regularizer=K.regularizers.l2(hp_reg2)))\n",
    "    model.add(K.layers.Dropout(hp_dl_dp2))\n",
    "    model.add(K.layers.Dense(13, activation='sigmoid'))\n",
    "\n",
    "    model.compile(optimizer=K.optimizers.Adam(learning_rate=hp_learning_rate),\n",
    "                  loss='categorical_crossentropy',\n",
    "                  metrics=['accuracy'])\n",
    "    \n",
    "    return model"
   ]
  },
  {
   "cell_type": "code",
   "execution_count": 23,
   "metadata": {
    "gradient": {
     "editing": false,
     "execution_count": 30,
     "id": "9b41d133-232b-4c2e-8ce3-cc7c1e8e66c0",
     "kernelId": "1575c96a-5826-4c69-b3dd-9e87d0c84bf7"
    },
    "scrolled": true,
    "tags": []
   },
   "outputs": [
    {
     "name": "stdout",
     "output_type": "stream",
     "text": [
      "Trial 84 Complete [00h 01m 57s]\n",
      "val_accuracy: 0.4840155839920044\n",
      "\n",
      "Best val_accuracy So Far: 0.555165708065033\n",
      "Total elapsed time: 01h 26m 08s\n",
      "\n",
      "Search: Running Trial #85\n",
      "\n",
      "Hyperparameter    |Value             |Best Value So Far \n",
      "recurrent_units1  |48                |72                \n",
      "units1            |72                |64                \n",
      "units2            |88                |32                \n",
      "dense_reg1        |0.0071922         |0.0051014         \n",
      "dense_reg2        |0.0090064         |0.0054107         \n",
      "rec_dropout1      |0.28345           |0.11214           \n",
      "dropout1          |0.20486           |0.045739          \n",
      "dropout2          |0.2366            |0.16303           \n",
      "kernel_reg1       |0.00025319        |1.1719e-05        \n",
      "recur_reg1        |1.1755e-05        |0.00015578        \n",
      "act_reg1          |0.00016216        |0.00077771        \n",
      "learning_rate     |0.0066076         |0.0011769         \n",
      "tuner/epochs      |32                |32                \n",
      "tuner/initial_e...|11                |11                \n",
      "tuner/bracket     |1                 |3                 \n",
      "tuner/round       |1                 |3                 \n",
      "tuner/trial_id    |aa1282e1cce1f87...|c55164c84b1d0ff...\n",
      "\n",
      "WARNING:tensorflow:Layer lstm will not use cuDNN kernel since it doesn't meet the cuDNN kernel criteria. It will use generic GPU kernel as fallback when running on GPU\n",
      "Epoch 12/32\n",
      "174/174 [==============================] - 19s 107ms/step - loss: 2.0340 - accuracy: 0.4342 - val_loss: 2.5187 - val_accuracy: 0.4817\n",
      "Epoch 13/32\n",
      " 43/174 [======>.......................] - ETA: 12s - loss: 2.1944 - accuracy: 0.3903"
     ]
    },
    {
     "ename": "KeyboardInterrupt",
     "evalue": "",
     "output_type": "error",
     "traceback": [
      "\u001b[0;31m---------------------------------------------------------------------------\u001b[0m",
      "\u001b[0;31mKeyboardInterrupt\u001b[0m                         Traceback (most recent call last)",
      "\u001b[0;32m/tmp/ipykernel_161600/2377185266.py\u001b[0m in \u001b[0;36m<module>\u001b[0;34m\u001b[0m\n\u001b[1;32m      7\u001b[0m \u001b[0mstop_early\u001b[0m \u001b[0;34m=\u001b[0m \u001b[0mK\u001b[0m\u001b[0;34m.\u001b[0m\u001b[0mcallbacks\u001b[0m\u001b[0;34m.\u001b[0m\u001b[0mEarlyStopping\u001b[0m\u001b[0;34m(\u001b[0m\u001b[0mmonitor\u001b[0m\u001b[0;34m=\u001b[0m\u001b[0;34m'val_loss'\u001b[0m\u001b[0;34m,\u001b[0m \u001b[0mpatience\u001b[0m\u001b[0;34m=\u001b[0m\u001b[0;36m3\u001b[0m\u001b[0;34m)\u001b[0m\u001b[0;34m\u001b[0m\u001b[0;34m\u001b[0m\u001b[0m\n\u001b[1;32m      8\u001b[0m \u001b[0;34m\u001b[0m\u001b[0m\n\u001b[0;32m----> 9\u001b[0;31m \u001b[0mtuner\u001b[0m\u001b[0;34m.\u001b[0m\u001b[0msearch\u001b[0m\u001b[0;34m(\u001b[0m\u001b[0mX_train\u001b[0m\u001b[0;34m,\u001b[0m \u001b[0my_train\u001b[0m\u001b[0;34m,\u001b[0m \u001b[0mbatch_size\u001b[0m\u001b[0;34m=\u001b[0m\u001b[0;36m4\u001b[0m\u001b[0;34m,\u001b[0m \u001b[0mvalidation_split\u001b[0m\u001b[0;34m=\u001b[0m\u001b[0;36m0.33\u001b[0m\u001b[0;34m,\u001b[0m \u001b[0mepochs\u001b[0m\u001b[0;34m=\u001b[0m\u001b[0;36m32\u001b[0m\u001b[0;34m,\u001b[0m \u001b[0mshuffle\u001b[0m\u001b[0;34m=\u001b[0m\u001b[0;32mFalse\u001b[0m\u001b[0;34m,\u001b[0m \u001b[0mcallbacks\u001b[0m\u001b[0;34m=\u001b[0m\u001b[0;34m[\u001b[0m\u001b[0mstop_early\u001b[0m\u001b[0;34m]\u001b[0m\u001b[0;34m)\u001b[0m\u001b[0;34m\u001b[0m\u001b[0;34m\u001b[0m\u001b[0m\n\u001b[0m",
      "\u001b[0;32m~/.virtualenvs/opencv-env/lib/python3.8/site-packages/keras_tuner/engine/base_tuner.py\u001b[0m in \u001b[0;36msearch\u001b[0;34m(self, *fit_args, **fit_kwargs)\u001b[0m\n\u001b[1;32m    177\u001b[0m \u001b[0;34m\u001b[0m\u001b[0m\n\u001b[1;32m    178\u001b[0m             \u001b[0mself\u001b[0m\u001b[0;34m.\u001b[0m\u001b[0mon_trial_begin\u001b[0m\u001b[0;34m(\u001b[0m\u001b[0mtrial\u001b[0m\u001b[0;34m)\u001b[0m\u001b[0;34m\u001b[0m\u001b[0;34m\u001b[0m\u001b[0m\n\u001b[0;32m--> 179\u001b[0;31m             \u001b[0mresults\u001b[0m \u001b[0;34m=\u001b[0m \u001b[0mself\u001b[0m\u001b[0;34m.\u001b[0m\u001b[0mrun_trial\u001b[0m\u001b[0;34m(\u001b[0m\u001b[0mtrial\u001b[0m\u001b[0;34m,\u001b[0m \u001b[0;34m*\u001b[0m\u001b[0mfit_args\u001b[0m\u001b[0;34m,\u001b[0m \u001b[0;34m**\u001b[0m\u001b[0mfit_kwargs\u001b[0m\u001b[0;34m)\u001b[0m\u001b[0;34m\u001b[0m\u001b[0;34m\u001b[0m\u001b[0m\n\u001b[0m\u001b[1;32m    180\u001b[0m             \u001b[0;31m# `results` is None indicates user updated oracle in `run_trial()`.\u001b[0m\u001b[0;34m\u001b[0m\u001b[0;34m\u001b[0m\u001b[0;34m\u001b[0m\u001b[0m\n\u001b[1;32m    181\u001b[0m             \u001b[0;32mif\u001b[0m \u001b[0mresults\u001b[0m \u001b[0;32mis\u001b[0m \u001b[0;32mNone\u001b[0m\u001b[0;34m:\u001b[0m\u001b[0;34m\u001b[0m\u001b[0;34m\u001b[0m\u001b[0m\n",
      "\u001b[0;32m~/.virtualenvs/opencv-env/lib/python3.8/site-packages/keras_tuner/tuners/hyperband.py\u001b[0m in \u001b[0;36mrun_trial\u001b[0;34m(self, trial, *fit_args, **fit_kwargs)\u001b[0m\n\u001b[1;32m    374\u001b[0m             \u001b[0mfit_kwargs\u001b[0m\u001b[0;34m[\u001b[0m\u001b[0;34m\"epochs\"\u001b[0m\u001b[0;34m]\u001b[0m \u001b[0;34m=\u001b[0m \u001b[0mhp\u001b[0m\u001b[0;34m.\u001b[0m\u001b[0mvalues\u001b[0m\u001b[0;34m[\u001b[0m\u001b[0;34m\"tuner/epochs\"\u001b[0m\u001b[0;34m]\u001b[0m\u001b[0;34m\u001b[0m\u001b[0;34m\u001b[0m\u001b[0m\n\u001b[1;32m    375\u001b[0m             \u001b[0mfit_kwargs\u001b[0m\u001b[0;34m[\u001b[0m\u001b[0;34m\"initial_epoch\"\u001b[0m\u001b[0;34m]\u001b[0m \u001b[0;34m=\u001b[0m \u001b[0mhp\u001b[0m\u001b[0;34m.\u001b[0m\u001b[0mvalues\u001b[0m\u001b[0;34m[\u001b[0m\u001b[0;34m\"tuner/initial_epoch\"\u001b[0m\u001b[0;34m]\u001b[0m\u001b[0;34m\u001b[0m\u001b[0;34m\u001b[0m\u001b[0m\n\u001b[0;32m--> 376\u001b[0;31m         \u001b[0;32mreturn\u001b[0m \u001b[0msuper\u001b[0m\u001b[0;34m(\u001b[0m\u001b[0mHyperband\u001b[0m\u001b[0;34m,\u001b[0m \u001b[0mself\u001b[0m\u001b[0;34m)\u001b[0m\u001b[0;34m.\u001b[0m\u001b[0mrun_trial\u001b[0m\u001b[0;34m(\u001b[0m\u001b[0mtrial\u001b[0m\u001b[0;34m,\u001b[0m \u001b[0;34m*\u001b[0m\u001b[0mfit_args\u001b[0m\u001b[0;34m,\u001b[0m \u001b[0;34m**\u001b[0m\u001b[0mfit_kwargs\u001b[0m\u001b[0;34m)\u001b[0m\u001b[0;34m\u001b[0m\u001b[0;34m\u001b[0m\u001b[0m\n\u001b[0m\u001b[1;32m    377\u001b[0m \u001b[0;34m\u001b[0m\u001b[0m\n\u001b[1;32m    378\u001b[0m     \u001b[0;32mdef\u001b[0m \u001b[0m_build_model\u001b[0m\u001b[0;34m(\u001b[0m\u001b[0mself\u001b[0m\u001b[0;34m,\u001b[0m \u001b[0mhp\u001b[0m\u001b[0;34m)\u001b[0m\u001b[0;34m:\u001b[0m\u001b[0;34m\u001b[0m\u001b[0;34m\u001b[0m\u001b[0m\n",
      "\u001b[0;32m~/.virtualenvs/opencv-env/lib/python3.8/site-packages/keras_tuner/engine/tuner.py\u001b[0m in \u001b[0;36mrun_trial\u001b[0;34m(self, trial, *args, **kwargs)\u001b[0m\n\u001b[1;32m    302\u001b[0m             \u001b[0mcallbacks\u001b[0m\u001b[0;34m.\u001b[0m\u001b[0mappend\u001b[0m\u001b[0;34m(\u001b[0m\u001b[0mmodel_checkpoint\u001b[0m\u001b[0;34m)\u001b[0m\u001b[0;34m\u001b[0m\u001b[0;34m\u001b[0m\u001b[0m\n\u001b[1;32m    303\u001b[0m             \u001b[0mcopied_kwargs\u001b[0m\u001b[0;34m[\u001b[0m\u001b[0;34m\"callbacks\"\u001b[0m\u001b[0;34m]\u001b[0m \u001b[0;34m=\u001b[0m \u001b[0mcallbacks\u001b[0m\u001b[0;34m\u001b[0m\u001b[0;34m\u001b[0m\u001b[0m\n\u001b[0;32m--> 304\u001b[0;31m             \u001b[0mobj_value\u001b[0m \u001b[0;34m=\u001b[0m \u001b[0mself\u001b[0m\u001b[0;34m.\u001b[0m\u001b[0m_build_and_fit_model\u001b[0m\u001b[0;34m(\u001b[0m\u001b[0mtrial\u001b[0m\u001b[0;34m,\u001b[0m \u001b[0;34m*\u001b[0m\u001b[0margs\u001b[0m\u001b[0;34m,\u001b[0m \u001b[0;34m**\u001b[0m\u001b[0mcopied_kwargs\u001b[0m\u001b[0;34m)\u001b[0m\u001b[0;34m\u001b[0m\u001b[0;34m\u001b[0m\u001b[0m\n\u001b[0m\u001b[1;32m    305\u001b[0m \u001b[0;34m\u001b[0m\u001b[0m\n\u001b[1;32m    306\u001b[0m             \u001b[0;31m# objective left unspecified,\u001b[0m\u001b[0;34m\u001b[0m\u001b[0;34m\u001b[0m\u001b[0;34m\u001b[0m\u001b[0m\n",
      "\u001b[0;32m~/.virtualenvs/opencv-env/lib/python3.8/site-packages/keras_tuner/engine/tuner.py\u001b[0m in \u001b[0;36m_build_and_fit_model\u001b[0;34m(self, trial, *args, **kwargs)\u001b[0m\n\u001b[1;32m    232\u001b[0m         \u001b[0mhp\u001b[0m \u001b[0;34m=\u001b[0m \u001b[0mtrial\u001b[0m\u001b[0;34m.\u001b[0m\u001b[0mhyperparameters\u001b[0m\u001b[0;34m\u001b[0m\u001b[0;34m\u001b[0m\u001b[0m\n\u001b[1;32m    233\u001b[0m         \u001b[0mmodel\u001b[0m \u001b[0;34m=\u001b[0m \u001b[0mself\u001b[0m\u001b[0;34m.\u001b[0m\u001b[0m_try_build\u001b[0m\u001b[0;34m(\u001b[0m\u001b[0mhp\u001b[0m\u001b[0;34m)\u001b[0m\u001b[0;34m\u001b[0m\u001b[0;34m\u001b[0m\u001b[0m\n\u001b[0;32m--> 234\u001b[0;31m         \u001b[0;32mreturn\u001b[0m \u001b[0mself\u001b[0m\u001b[0;34m.\u001b[0m\u001b[0mhypermodel\u001b[0m\u001b[0;34m.\u001b[0m\u001b[0mfit\u001b[0m\u001b[0;34m(\u001b[0m\u001b[0mhp\u001b[0m\u001b[0;34m,\u001b[0m \u001b[0mmodel\u001b[0m\u001b[0;34m,\u001b[0m \u001b[0;34m*\u001b[0m\u001b[0margs\u001b[0m\u001b[0;34m,\u001b[0m \u001b[0;34m**\u001b[0m\u001b[0mkwargs\u001b[0m\u001b[0;34m)\u001b[0m\u001b[0;34m\u001b[0m\u001b[0;34m\u001b[0m\u001b[0m\n\u001b[0m\u001b[1;32m    235\u001b[0m \u001b[0;34m\u001b[0m\u001b[0m\n\u001b[1;32m    236\u001b[0m     \u001b[0;32mdef\u001b[0m \u001b[0mrun_trial\u001b[0m\u001b[0;34m(\u001b[0m\u001b[0mself\u001b[0m\u001b[0;34m,\u001b[0m \u001b[0mtrial\u001b[0m\u001b[0;34m,\u001b[0m \u001b[0;34m*\u001b[0m\u001b[0margs\u001b[0m\u001b[0;34m,\u001b[0m \u001b[0;34m**\u001b[0m\u001b[0mkwargs\u001b[0m\u001b[0;34m)\u001b[0m\u001b[0;34m:\u001b[0m\u001b[0;34m\u001b[0m\u001b[0;34m\u001b[0m\u001b[0m\n",
      "\u001b[0;32m~/.virtualenvs/opencv-env/lib/python3.8/site-packages/keras_tuner/engine/hypermodel.py\u001b[0m in \u001b[0;36mfit\u001b[0;34m(self, hp, model, *args, **kwargs)\u001b[0m\n\u001b[1;32m    135\u001b[0m             \u001b[0mIf\u001b[0m \u001b[0;32mreturn\u001b[0m \u001b[0ma\u001b[0m \u001b[0mfloat\u001b[0m\u001b[0;34m,\u001b[0m \u001b[0mit\u001b[0m \u001b[0mshould\u001b[0m \u001b[0mbe\u001b[0m \u001b[0mthe\u001b[0m\u001b[0;31m \u001b[0m\u001b[0;31m`\u001b[0m\u001b[0mobjective\u001b[0m\u001b[0;31m`\u001b[0m \u001b[0mvalue\u001b[0m\u001b[0;34m.\u001b[0m\u001b[0;34m\u001b[0m\u001b[0;34m\u001b[0m\u001b[0m\n\u001b[1;32m    136\u001b[0m         \"\"\"\n\u001b[0;32m--> 137\u001b[0;31m         \u001b[0;32mreturn\u001b[0m \u001b[0mmodel\u001b[0m\u001b[0;34m.\u001b[0m\u001b[0mfit\u001b[0m\u001b[0;34m(\u001b[0m\u001b[0;34m*\u001b[0m\u001b[0margs\u001b[0m\u001b[0;34m,\u001b[0m \u001b[0;34m**\u001b[0m\u001b[0mkwargs\u001b[0m\u001b[0;34m)\u001b[0m\u001b[0;34m\u001b[0m\u001b[0;34m\u001b[0m\u001b[0m\n\u001b[0m\u001b[1;32m    138\u001b[0m \u001b[0;34m\u001b[0m\u001b[0m\n\u001b[1;32m    139\u001b[0m \u001b[0;34m\u001b[0m\u001b[0m\n",
      "\u001b[0;32m~/.virtualenvs/opencv-env/lib/python3.8/site-packages/tensorflow/python/keras/engine/training.py\u001b[0m in \u001b[0;36m_method_wrapper\u001b[0;34m(self, *args, **kwargs)\u001b[0m\n\u001b[1;32m    101\u001b[0m   \u001b[0;32mdef\u001b[0m \u001b[0m_method_wrapper\u001b[0m\u001b[0;34m(\u001b[0m\u001b[0mself\u001b[0m\u001b[0;34m,\u001b[0m \u001b[0;34m*\u001b[0m\u001b[0margs\u001b[0m\u001b[0;34m,\u001b[0m \u001b[0;34m**\u001b[0m\u001b[0mkwargs\u001b[0m\u001b[0;34m)\u001b[0m\u001b[0;34m:\u001b[0m\u001b[0;34m\u001b[0m\u001b[0;34m\u001b[0m\u001b[0m\n\u001b[1;32m    102\u001b[0m     \u001b[0;32mif\u001b[0m \u001b[0;32mnot\u001b[0m \u001b[0mself\u001b[0m\u001b[0;34m.\u001b[0m\u001b[0m_in_multi_worker_mode\u001b[0m\u001b[0;34m(\u001b[0m\u001b[0;34m)\u001b[0m\u001b[0;34m:\u001b[0m  \u001b[0;31m# pylint: disable=protected-access\u001b[0m\u001b[0;34m\u001b[0m\u001b[0;34m\u001b[0m\u001b[0m\n\u001b[0;32m--> 103\u001b[0;31m       \u001b[0;32mreturn\u001b[0m \u001b[0mmethod\u001b[0m\u001b[0;34m(\u001b[0m\u001b[0mself\u001b[0m\u001b[0;34m,\u001b[0m \u001b[0;34m*\u001b[0m\u001b[0margs\u001b[0m\u001b[0;34m,\u001b[0m \u001b[0;34m**\u001b[0m\u001b[0mkwargs\u001b[0m\u001b[0;34m)\u001b[0m\u001b[0;34m\u001b[0m\u001b[0;34m\u001b[0m\u001b[0m\n\u001b[0m\u001b[1;32m    104\u001b[0m \u001b[0;34m\u001b[0m\u001b[0m\n\u001b[1;32m    105\u001b[0m     \u001b[0;31m# Running inside `run_distribute_coordinator` already.\u001b[0m\u001b[0;34m\u001b[0m\u001b[0;34m\u001b[0m\u001b[0;34m\u001b[0m\u001b[0m\n",
      "\u001b[0;32m~/.virtualenvs/opencv-env/lib/python3.8/site-packages/tensorflow/python/keras/engine/training.py\u001b[0m in \u001b[0;36mfit\u001b[0;34m(self, x, y, batch_size, epochs, verbose, callbacks, validation_split, validation_data, shuffle, class_weight, sample_weight, initial_epoch, steps_per_epoch, validation_steps, validation_batch_size, validation_freq, max_queue_size, workers, use_multiprocessing)\u001b[0m\n\u001b[1;32m   1091\u001b[0m                 batch_size=batch_size):\n\u001b[1;32m   1092\u001b[0m               \u001b[0mcallbacks\u001b[0m\u001b[0;34m.\u001b[0m\u001b[0mon_train_batch_begin\u001b[0m\u001b[0;34m(\u001b[0m\u001b[0mstep\u001b[0m\u001b[0;34m)\u001b[0m\u001b[0;34m\u001b[0m\u001b[0;34m\u001b[0m\u001b[0m\n\u001b[0;32m-> 1093\u001b[0;31m               \u001b[0mtmp_logs\u001b[0m \u001b[0;34m=\u001b[0m \u001b[0mtrain_function\u001b[0m\u001b[0;34m(\u001b[0m\u001b[0miterator\u001b[0m\u001b[0;34m)\u001b[0m\u001b[0;34m\u001b[0m\u001b[0;34m\u001b[0m\u001b[0m\n\u001b[0m\u001b[1;32m   1094\u001b[0m               \u001b[0;32mif\u001b[0m \u001b[0mdata_handler\u001b[0m\u001b[0;34m.\u001b[0m\u001b[0mshould_sync\u001b[0m\u001b[0;34m:\u001b[0m\u001b[0;34m\u001b[0m\u001b[0;34m\u001b[0m\u001b[0m\n\u001b[1;32m   1095\u001b[0m                 \u001b[0mcontext\u001b[0m\u001b[0;34m.\u001b[0m\u001b[0masync_wait\u001b[0m\u001b[0;34m(\u001b[0m\u001b[0;34m)\u001b[0m\u001b[0;34m\u001b[0m\u001b[0;34m\u001b[0m\u001b[0m\n",
      "\u001b[0;32m~/.virtualenvs/opencv-env/lib/python3.8/site-packages/tensorflow/python/eager/def_function.py\u001b[0m in \u001b[0;36m__call__\u001b[0;34m(self, *args, **kwds)\u001b[0m\n\u001b[1;32m    778\u001b[0m       \u001b[0;32melse\u001b[0m\u001b[0;34m:\u001b[0m\u001b[0;34m\u001b[0m\u001b[0;34m\u001b[0m\u001b[0m\n\u001b[1;32m    779\u001b[0m         \u001b[0mcompiler\u001b[0m \u001b[0;34m=\u001b[0m \u001b[0;34m\"nonXla\"\u001b[0m\u001b[0;34m\u001b[0m\u001b[0;34m\u001b[0m\u001b[0m\n\u001b[0;32m--> 780\u001b[0;31m         \u001b[0mresult\u001b[0m \u001b[0;34m=\u001b[0m \u001b[0mself\u001b[0m\u001b[0;34m.\u001b[0m\u001b[0m_call\u001b[0m\u001b[0;34m(\u001b[0m\u001b[0;34m*\u001b[0m\u001b[0margs\u001b[0m\u001b[0;34m,\u001b[0m \u001b[0;34m**\u001b[0m\u001b[0mkwds\u001b[0m\u001b[0;34m)\u001b[0m\u001b[0;34m\u001b[0m\u001b[0;34m\u001b[0m\u001b[0m\n\u001b[0m\u001b[1;32m    781\u001b[0m \u001b[0;34m\u001b[0m\u001b[0m\n\u001b[1;32m    782\u001b[0m       \u001b[0mnew_tracing_count\u001b[0m \u001b[0;34m=\u001b[0m \u001b[0mself\u001b[0m\u001b[0;34m.\u001b[0m\u001b[0m_get_tracing_count\u001b[0m\u001b[0;34m(\u001b[0m\u001b[0;34m)\u001b[0m\u001b[0;34m\u001b[0m\u001b[0;34m\u001b[0m\u001b[0m\n",
      "\u001b[0;32m~/.virtualenvs/opencv-env/lib/python3.8/site-packages/tensorflow/python/eager/def_function.py\u001b[0m in \u001b[0;36m_call\u001b[0;34m(self, *args, **kwds)\u001b[0m\n\u001b[1;32m    805\u001b[0m       \u001b[0;31m# In this case we have created variables on the first call, so we run the\u001b[0m\u001b[0;34m\u001b[0m\u001b[0;34m\u001b[0m\u001b[0;34m\u001b[0m\u001b[0m\n\u001b[1;32m    806\u001b[0m       \u001b[0;31m# defunned version which is guaranteed to never create variables.\u001b[0m\u001b[0;34m\u001b[0m\u001b[0;34m\u001b[0m\u001b[0;34m\u001b[0m\u001b[0m\n\u001b[0;32m--> 807\u001b[0;31m       \u001b[0;32mreturn\u001b[0m \u001b[0mself\u001b[0m\u001b[0;34m.\u001b[0m\u001b[0m_stateless_fn\u001b[0m\u001b[0;34m(\u001b[0m\u001b[0;34m*\u001b[0m\u001b[0margs\u001b[0m\u001b[0;34m,\u001b[0m \u001b[0;34m**\u001b[0m\u001b[0mkwds\u001b[0m\u001b[0;34m)\u001b[0m  \u001b[0;31m# pylint: disable=not-callable\u001b[0m\u001b[0;34m\u001b[0m\u001b[0;34m\u001b[0m\u001b[0m\n\u001b[0m\u001b[1;32m    808\u001b[0m     \u001b[0;32melif\u001b[0m \u001b[0mself\u001b[0m\u001b[0;34m.\u001b[0m\u001b[0m_stateful_fn\u001b[0m \u001b[0;32mis\u001b[0m \u001b[0;32mnot\u001b[0m \u001b[0;32mNone\u001b[0m\u001b[0;34m:\u001b[0m\u001b[0;34m\u001b[0m\u001b[0;34m\u001b[0m\u001b[0m\n\u001b[1;32m    809\u001b[0m       \u001b[0;31m# Release the lock early so that multiple threads can perform the call\u001b[0m\u001b[0;34m\u001b[0m\u001b[0;34m\u001b[0m\u001b[0;34m\u001b[0m\u001b[0m\n",
      "\u001b[0;32m~/.virtualenvs/opencv-env/lib/python3.8/site-packages/tensorflow/python/eager/function.py\u001b[0m in \u001b[0;36m__call__\u001b[0;34m(self, *args, **kwargs)\u001b[0m\n\u001b[1;32m   2827\u001b[0m     \u001b[0;32mwith\u001b[0m \u001b[0mself\u001b[0m\u001b[0;34m.\u001b[0m\u001b[0m_lock\u001b[0m\u001b[0;34m:\u001b[0m\u001b[0;34m\u001b[0m\u001b[0;34m\u001b[0m\u001b[0m\n\u001b[1;32m   2828\u001b[0m       \u001b[0mgraph_function\u001b[0m\u001b[0;34m,\u001b[0m \u001b[0margs\u001b[0m\u001b[0;34m,\u001b[0m \u001b[0mkwargs\u001b[0m \u001b[0;34m=\u001b[0m \u001b[0mself\u001b[0m\u001b[0;34m.\u001b[0m\u001b[0m_maybe_define_function\u001b[0m\u001b[0;34m(\u001b[0m\u001b[0margs\u001b[0m\u001b[0;34m,\u001b[0m \u001b[0mkwargs\u001b[0m\u001b[0;34m)\u001b[0m\u001b[0;34m\u001b[0m\u001b[0;34m\u001b[0m\u001b[0m\n\u001b[0;32m-> 2829\u001b[0;31m     \u001b[0;32mreturn\u001b[0m \u001b[0mgraph_function\u001b[0m\u001b[0;34m.\u001b[0m\u001b[0m_filtered_call\u001b[0m\u001b[0;34m(\u001b[0m\u001b[0margs\u001b[0m\u001b[0;34m,\u001b[0m \u001b[0mkwargs\u001b[0m\u001b[0;34m)\u001b[0m  \u001b[0;31m# pylint: disable=protected-access\u001b[0m\u001b[0;34m\u001b[0m\u001b[0;34m\u001b[0m\u001b[0m\n\u001b[0m\u001b[1;32m   2830\u001b[0m \u001b[0;34m\u001b[0m\u001b[0m\n\u001b[1;32m   2831\u001b[0m   \u001b[0;34m@\u001b[0m\u001b[0mproperty\u001b[0m\u001b[0;34m\u001b[0m\u001b[0;34m\u001b[0m\u001b[0m\n",
      "\u001b[0;32m~/.virtualenvs/opencv-env/lib/python3.8/site-packages/tensorflow/python/eager/function.py\u001b[0m in \u001b[0;36m_filtered_call\u001b[0;34m(self, args, kwargs, cancellation_manager)\u001b[0m\n\u001b[1;32m   1841\u001b[0m       \u001b[0;31m`\u001b[0m\u001b[0margs\u001b[0m\u001b[0;31m`\u001b[0m \u001b[0;32mand\u001b[0m\u001b[0;31m \u001b[0m\u001b[0;31m`\u001b[0m\u001b[0mkwargs\u001b[0m\u001b[0;31m`\u001b[0m\u001b[0;34m.\u001b[0m\u001b[0;34m\u001b[0m\u001b[0;34m\u001b[0m\u001b[0m\n\u001b[1;32m   1842\u001b[0m     \"\"\"\n\u001b[0;32m-> 1843\u001b[0;31m     return self._call_flat(\n\u001b[0m\u001b[1;32m   1844\u001b[0m         [t for t in nest.flatten((args, kwargs), expand_composites=True)\n\u001b[1;32m   1845\u001b[0m          if isinstance(t, (ops.Tensor,\n",
      "\u001b[0;32m~/.virtualenvs/opencv-env/lib/python3.8/site-packages/tensorflow/python/eager/function.py\u001b[0m in \u001b[0;36m_call_flat\u001b[0;34m(self, args, captured_inputs, cancellation_manager)\u001b[0m\n\u001b[1;32m   1921\u001b[0m         and executing_eagerly):\n\u001b[1;32m   1922\u001b[0m       \u001b[0;31m# No tape is watching; skip to running the function.\u001b[0m\u001b[0;34m\u001b[0m\u001b[0;34m\u001b[0m\u001b[0;34m\u001b[0m\u001b[0m\n\u001b[0;32m-> 1923\u001b[0;31m       return self._build_call_outputs(self._inference_function.call(\n\u001b[0m\u001b[1;32m   1924\u001b[0m           ctx, args, cancellation_manager=cancellation_manager))\n\u001b[1;32m   1925\u001b[0m     forward_backward = self._select_forward_and_backward_functions(\n",
      "\u001b[0;32m~/.virtualenvs/opencv-env/lib/python3.8/site-packages/tensorflow/python/eager/function.py\u001b[0m in \u001b[0;36mcall\u001b[0;34m(self, ctx, args, cancellation_manager)\u001b[0m\n\u001b[1;32m    543\u001b[0m       \u001b[0;32mwith\u001b[0m \u001b[0m_InterpolateFunctionError\u001b[0m\u001b[0;34m(\u001b[0m\u001b[0mself\u001b[0m\u001b[0;34m)\u001b[0m\u001b[0;34m:\u001b[0m\u001b[0;34m\u001b[0m\u001b[0;34m\u001b[0m\u001b[0m\n\u001b[1;32m    544\u001b[0m         \u001b[0;32mif\u001b[0m \u001b[0mcancellation_manager\u001b[0m \u001b[0;32mis\u001b[0m \u001b[0;32mNone\u001b[0m\u001b[0;34m:\u001b[0m\u001b[0;34m\u001b[0m\u001b[0;34m\u001b[0m\u001b[0m\n\u001b[0;32m--> 545\u001b[0;31m           outputs = execute.execute(\n\u001b[0m\u001b[1;32m    546\u001b[0m               \u001b[0mstr\u001b[0m\u001b[0;34m(\u001b[0m\u001b[0mself\u001b[0m\u001b[0;34m.\u001b[0m\u001b[0msignature\u001b[0m\u001b[0;34m.\u001b[0m\u001b[0mname\u001b[0m\u001b[0;34m)\u001b[0m\u001b[0;34m,\u001b[0m\u001b[0;34m\u001b[0m\u001b[0;34m\u001b[0m\u001b[0m\n\u001b[1;32m    547\u001b[0m               \u001b[0mnum_outputs\u001b[0m\u001b[0;34m=\u001b[0m\u001b[0mself\u001b[0m\u001b[0;34m.\u001b[0m\u001b[0m_num_outputs\u001b[0m\u001b[0;34m,\u001b[0m\u001b[0;34m\u001b[0m\u001b[0;34m\u001b[0m\u001b[0m\n",
      "\u001b[0;32m~/.virtualenvs/opencv-env/lib/python3.8/site-packages/tensorflow/python/eager/execute.py\u001b[0m in \u001b[0;36mquick_execute\u001b[0;34m(op_name, num_outputs, inputs, attrs, ctx, name)\u001b[0m\n\u001b[1;32m     57\u001b[0m   \u001b[0;32mtry\u001b[0m\u001b[0;34m:\u001b[0m\u001b[0;34m\u001b[0m\u001b[0;34m\u001b[0m\u001b[0m\n\u001b[1;32m     58\u001b[0m     \u001b[0mctx\u001b[0m\u001b[0;34m.\u001b[0m\u001b[0mensure_initialized\u001b[0m\u001b[0;34m(\u001b[0m\u001b[0;34m)\u001b[0m\u001b[0;34m\u001b[0m\u001b[0;34m\u001b[0m\u001b[0m\n\u001b[0;32m---> 59\u001b[0;31m     tensors = pywrap_tfe.TFE_Py_Execute(ctx._handle, device_name, op_name,\n\u001b[0m\u001b[1;32m     60\u001b[0m                                         inputs, attrs, num_outputs)\n\u001b[1;32m     61\u001b[0m   \u001b[0;32mexcept\u001b[0m \u001b[0mcore\u001b[0m\u001b[0;34m.\u001b[0m\u001b[0m_NotOkStatusException\u001b[0m \u001b[0;32mas\u001b[0m \u001b[0me\u001b[0m\u001b[0;34m:\u001b[0m\u001b[0;34m\u001b[0m\u001b[0;34m\u001b[0m\u001b[0m\n",
      "\u001b[0;31mKeyboardInterrupt\u001b[0m: "
     ]
    }
   ],
   "source": [
    "tuner = kt.Hyperband(model_builder,\n",
    "                     objective='val_accuracy',\n",
    "                     max_epochs=32,\n",
    "                     directory='kt_dir',\n",
    "                     project_name='punch_dl_kt_lstm')\n",
    "\n",
    "stop_early = K.callbacks.EarlyStopping(monitor='val_loss', patience=3)\n",
    "\n",
    "tuner.search(X_train, y_train, batch_size=4, validation_split=0.33, epochs=32, shuffle=False, callbacks=[stop_early])"
   ]
  },
  {
   "cell_type": "code",
   "execution_count": 24,
   "metadata": {
    "gradient": {
     "editing": false,
     "execution_count": 31,
     "id": "6f823200-4d48-4c21-a26b-44c9287bda31",
     "kernelId": "1575c96a-5826-4c69-b3dd-9e87d0c84bf7"
    }
   },
   "outputs": [
    {
     "data": {
      "text/plain": [
       "{'recurrent_units1': 72,\n",
       " 'units1': 64,\n",
       " 'units2': 32,\n",
       " 'dense_reg1': 0.005101448961916395,\n",
       " 'dense_reg2': 0.0054106690276460095,\n",
       " 'rec_dropout1': 0.1121391838102067,\n",
       " 'dropout1': 0.045739222099927625,\n",
       " 'dropout2': 0.16303392210548237,\n",
       " 'kernel_reg1': 1.1719128865860812e-05,\n",
       " 'recur_reg1': 0.00015577695321475487,\n",
       " 'act_reg1': 0.0007777133391633722,\n",
       " 'learning_rate': 0.0011769061574142916,\n",
       " 'tuner/epochs': 32,\n",
       " 'tuner/initial_epoch': 11,\n",
       " 'tuner/bracket': 3,\n",
       " 'tuner/round': 3,\n",
       " 'tuner/trial_id': 'c55164c84b1d0ffa17c39e4065d3a0bd'}"
      ]
     },
     "execution_count": 24,
     "metadata": {},
     "output_type": "execute_result"
    }
   ],
   "source": [
    "# Get the optimal hyperparameters\n",
    "best_hps=tuner.get_best_hyperparameters(num_trials=1)[0]\n",
    "\n",
    "best_hps.values"
   ]
  },
  {
   "cell_type": "code",
   "execution_count": 25,
   "metadata": {
    "gradient": {
     "editing": false,
     "execution_count": 33,
     "id": "2a5bc5b8-2712-4fae-ab99-8cdbe42964f8",
     "kernelId": "1575c96a-5826-4c69-b3dd-9e87d0c84bf7"
    },
    "scrolled": true
   },
   "outputs": [
    {
     "name": "stdout",
     "output_type": "stream",
     "text": [
      "WARNING:tensorflow:Layer lstm_1 will not use cuDNN kernel since it doesn't meet the cuDNN kernel criteria. It will use generic GPU kernel as fallback when running on GPU\n",
      "Epoch 1/48\n",
      "174/174 [==============================] - 19s 108ms/step - loss: 2.4777 - accuracy: 0.4076 - val_loss: 2.5383 - val_accuracy: 0.4817\n",
      "Epoch 2/48\n",
      "174/174 [==============================] - 19s 107ms/step - loss: 2.0449 - accuracy: 0.4400 - val_loss: 2.4925 - val_accuracy: 0.4817\n",
      "Epoch 3/48\n",
      "174/174 [==============================] - 19s 110ms/step - loss: 1.9562 - accuracy: 0.4400 - val_loss: 2.6570 - val_accuracy: 0.4817\n",
      "Epoch 4/48\n",
      "174/174 [==============================] - 19s 109ms/step - loss: 1.8551 - accuracy: 0.4400 - val_loss: 2.6694 - val_accuracy: 0.4817\n",
      "Epoch 5/48\n",
      "174/174 [==============================] - 19s 108ms/step - loss: 1.8024 - accuracy: 0.4454 - val_loss: 2.7118 - val_accuracy: 0.4817\n",
      "Epoch 6/48\n",
      "174/174 [==============================] - 19s 108ms/step - loss: 1.7707 - accuracy: 0.4623 - val_loss: 2.6049 - val_accuracy: 0.4827\n",
      "Epoch 7/48\n",
      "174/174 [==============================] - 18s 105ms/step - loss: 1.7133 - accuracy: 0.4689 - val_loss: 2.5333 - val_accuracy: 0.4851\n",
      "Epoch 8/48\n",
      "174/174 [==============================] - 19s 106ms/step - loss: 1.6830 - accuracy: 0.4726 - val_loss: 2.5146 - val_accuracy: 0.4847\n",
      "Epoch 9/48\n",
      "174/174 [==============================] - 19s 109ms/step - loss: 1.6460 - accuracy: 0.4762 - val_loss: 2.4784 - val_accuracy: 0.4818\n",
      "Epoch 10/48\n",
      "174/174 [==============================] - 19s 109ms/step - loss: 1.6189 - accuracy: 0.4735 - val_loss: 2.5089 - val_accuracy: 0.4830\n",
      "Epoch 11/48\n",
      "174/174 [==============================] - 19s 107ms/step - loss: 1.5999 - accuracy: 0.4739 - val_loss: 2.5046 - val_accuracy: 0.4845\n",
      "Epoch 12/48\n",
      "174/174 [==============================] - 19s 108ms/step - loss: 1.5797 - accuracy: 0.4806 - val_loss: 2.5546 - val_accuracy: 0.4851\n",
      "Epoch 13/48\n",
      "174/174 [==============================] - 18s 106ms/step - loss: 1.5576 - accuracy: 0.4937 - val_loss: 2.6049 - val_accuracy: 0.5176\n",
      "Epoch 14/48\n",
      "174/174 [==============================] - 19s 107ms/step - loss: 1.5235 - accuracy: 0.5057 - val_loss: 2.5806 - val_accuracy: 0.5263\n",
      "Epoch 15/48\n",
      "174/174 [==============================] - 19s 110ms/step - loss: 1.4919 - accuracy: 0.5091 - val_loss: 2.5400 - val_accuracy: 0.5338\n",
      "Epoch 16/48\n",
      "174/174 [==============================] - 18s 106ms/step - loss: 1.4813 - accuracy: 0.5101 - val_loss: 2.5138 - val_accuracy: 0.5339\n",
      "Epoch 17/48\n",
      "174/174 [==============================] - 19s 109ms/step - loss: 1.4498 - accuracy: 0.5134 - val_loss: 2.4593 - val_accuracy: 0.5440\n",
      "Epoch 18/48\n",
      "174/174 [==============================] - 19s 109ms/step - loss: 1.4368 - accuracy: 0.5160 - val_loss: 2.4899 - val_accuracy: 0.5465\n",
      "Epoch 19/48\n",
      "174/174 [==============================] - 19s 109ms/step - loss: 1.4240 - accuracy: 0.5164 - val_loss: 2.5280 - val_accuracy: 0.5593\n",
      "Epoch 20/48\n",
      "174/174 [==============================] - 19s 108ms/step - loss: 1.4060 - accuracy: 0.5204 - val_loss: 2.5532 - val_accuracy: 0.5694\n",
      "Epoch 21/48\n",
      "174/174 [==============================] - 19s 107ms/step - loss: 1.4011 - accuracy: 0.5177 - val_loss: 2.5149 - val_accuracy: 0.5683\n",
      "Epoch 22/48\n",
      "174/174 [==============================] - 19s 108ms/step - loss: 1.3963 - accuracy: 0.5158 - val_loss: 2.5355 - val_accuracy: 0.5705\n",
      "Epoch 23/48\n",
      "174/174 [==============================] - 19s 107ms/step - loss: 1.3821 - accuracy: 0.5208 - val_loss: 2.5378 - val_accuracy: 0.5670\n",
      "Epoch 24/48\n",
      "174/174 [==============================] - 19s 109ms/step - loss: 1.3725 - accuracy: 0.5216 - val_loss: 2.5283 - val_accuracy: 0.5751\n",
      "Epoch 25/48\n",
      "174/174 [==============================] - 19s 108ms/step - loss: 1.3710 - accuracy: 0.5247 - val_loss: 2.5494 - val_accuracy: 0.5705\n",
      "Epoch 26/48\n",
      "174/174 [==============================] - 18s 106ms/step - loss: 1.3669 - accuracy: 0.5235 - val_loss: 2.5693 - val_accuracy: 0.5673\n",
      "Epoch 27/48\n",
      "174/174 [==============================] - 19s 108ms/step - loss: 1.3581 - accuracy: 0.5252 - val_loss: 2.5309 - val_accuracy: 0.5704\n",
      "Epoch 28/48\n",
      "174/174 [==============================] - 18s 105ms/step - loss: 1.3227 - accuracy: 0.5290 - val_loss: 2.4307 - val_accuracy: 0.5752\n",
      "Epoch 29/48\n",
      "174/174 [==============================] - 19s 110ms/step - loss: 1.3182 - accuracy: 0.5298 - val_loss: 2.4432 - val_accuracy: 0.5727\n",
      "Epoch 30/48\n",
      "174/174 [==============================] - 19s 107ms/step - loss: 1.3167 - accuracy: 0.5303 - val_loss: 2.4577 - val_accuracy: 0.5664\n",
      "Epoch 31/48\n",
      "174/174 [==============================] - 19s 108ms/step - loss: 1.3155 - accuracy: 0.5327 - val_loss: 2.4519 - val_accuracy: 0.5649\n",
      "Epoch 32/48\n",
      "174/174 [==============================] - 19s 108ms/step - loss: 1.3154 - accuracy: 0.5312 - val_loss: 2.4606 - val_accuracy: 0.5625\n",
      "Epoch 33/48\n",
      "174/174 [==============================] - 19s 108ms/step - loss: 1.3069 - accuracy: 0.5354 - val_loss: 2.4629 - val_accuracy: 0.5611\n",
      "Epoch 34/48\n",
      "174/174 [==============================] - 18s 106ms/step - loss: 1.3055 - accuracy: 0.5362 - val_loss: 2.4777 - val_accuracy: 0.5556\n",
      "Epoch 35/48\n",
      "174/174 [==============================] - 18s 104ms/step - loss: 1.3078 - accuracy: 0.5360 - val_loss: 2.4861 - val_accuracy: 0.5547\n",
      "Epoch 36/48\n",
      "174/174 [==============================] - 19s 108ms/step - loss: 1.3048 - accuracy: 0.5363 - val_loss: 2.4928 - val_accuracy: 0.5523\n",
      "Epoch 37/48\n",
      "174/174 [==============================] - 19s 109ms/step - loss: 1.3003 - accuracy: 0.5381 - val_loss: 2.4943 - val_accuracy: 0.5529\n",
      "Epoch 38/48\n",
      "174/174 [==============================] - 19s 109ms/step - loss: 1.3015 - accuracy: 0.5381 - val_loss: 2.4991 - val_accuracy: 0.5506\n",
      "Epoch 39/48\n",
      "174/174 [==============================] - 19s 108ms/step - loss: 1.2935 - accuracy: 0.5376 - val_loss: 2.5109 - val_accuracy: 0.5482\n",
      "Epoch 40/48\n",
      "174/174 [==============================] - 19s 107ms/step - loss: 1.2943 - accuracy: 0.5390 - val_loss: 2.5186 - val_accuracy: 0.5469\n",
      "Epoch 41/48\n",
      "174/174 [==============================] - 19s 109ms/step - loss: 1.2967 - accuracy: 0.5380 - val_loss: 2.5225 - val_accuracy: 0.5454\n",
      "Epoch 42/48\n",
      "174/174 [==============================] - 18s 106ms/step - loss: 1.2902 - accuracy: 0.5389 - val_loss: 2.5259 - val_accuracy: 0.5452\n",
      "Epoch 43/48\n",
      "174/174 [==============================] - 19s 110ms/step - loss: 1.2920 - accuracy: 0.5418 - val_loss: 2.5295 - val_accuracy: 0.5441\n",
      "Epoch 44/48\n",
      "174/174 [==============================] - 19s 108ms/step - loss: 1.2991 - accuracy: 0.5374 - val_loss: 2.5320 - val_accuracy: 0.5438\n",
      "Epoch 45/48\n",
      "174/174 [==============================] - 19s 107ms/step - loss: 1.2976 - accuracy: 0.5391 - val_loss: 2.5339 - val_accuracy: 0.5435\n",
      "Best epoch: 28\n"
     ]
    }
   ],
   "source": [
    "# Build the model with the optimal hyperparameters and train it on the data for 64 epochs\n",
    "model = tuner.hypermodel.build(best_hps)\n",
    "history = model.fit(X_train, y_train, batch_size=4,\n",
    "                    validation_split=0.33, \n",
    "                    epochs=48,\n",
    "                    shuffle=False,\n",
    "                    callbacks=[\n",
    "                        K.callbacks.ReduceLROnPlateau(),\n",
    "                        K.callbacks.ModelCheckpoint(filepath='checkpoints/lstm', save_weights_only=True),\n",
    "                        K.callbacks.EarlyStopping(monitor='loss', patience=3, restore_best_weights=True)\n",
    "                    ])\n",
    "\n",
    "val_acc_per_epoch = history.history['val_accuracy']\n",
    "best_epoch = val_acc_per_epoch.index(max(val_acc_per_epoch)) + 1\n",
    "print('Best epoch: %d' % (best_epoch,))"
   ]
  },
  {
   "cell_type": "code",
   "execution_count": 26,
   "metadata": {
    "gradient": {
     "editing": false,
     "execution_count": 34,
     "id": "589041a8-92b6-4c4c-92e7-915ef4c049a7",
     "kernelId": "1575c96a-5826-4c69-b3dd-9e87d0c84bf7"
    }
   },
   "outputs": [
    {
     "data": {
      "image/png": "[encoded data removed]",
      "text/plain": [
       "<Figure size 1080x504 with 2 Axes>"
      ]
     },
     "metadata": {
      "needs_background": "light"
     },
     "output_type": "display_data"
    }
   ],
   "source": [
    "plt.figure(figsize=(15, 7))\n",
    "plt.subplot(221)\n",
    "plt.title(\"Train Loss\")\n",
    "plt.plot(history.history['loss'])\n",
    "plt.subplot(222)\n",
    "plt.title(\"Train/validation accuracy\")\n",
    "plt.plot(history.history['accuracy'])\n",
    "plt.plot(history.history['val_accuracy'])\n",
    "plt.savefig('imgs/train_val_acc.png', bbox_inches='tight')"
   ]
  },
  {
   "cell_type": "markdown",
   "metadata": {
    "gradient": {
     "editing": false,
     "id": "b55b432b-9241-439e-a5ce-d9e494699030",
     "kernelId": "1575c96a-5826-4c69-b3dd-9e87d0c84bf7"
    }
   },
   "source": [
    "# Conclusion \n",
    "\n",
    "* need more data to avoid overfitting\n",
    "* need simpler architecture (2 recurrent layers is too much)\n",
    "* add dropout layers\n",
    "\n",
    "# Try\n",
    "\n",
    "* 2d convolutions\n",
    "* attention mechanism"
   ]
  },
  {
   "cell_type": "markdown",
   "metadata": {
    "gradient": {
     "editing": false,
     "id": "42403960-e9a4-413b-b92d-97506bffd682",
     "kernelId": "1575c96a-5826-4c69-b3dd-9e87d0c84bf7"
    }
   },
   "source": [
    "# Save model"
   ]
  },
  {
   "cell_type": "code",
   "execution_count": null,
   "metadata": {
    "gradient": {
     "editing": false,
     "execution_count": 37,
     "id": "70f0a1ce-440a-46f8-9b30-2c028b25427d",
     "kernelId": "1575c96a-5826-4c69-b3dd-9e87d0c84bf7"
    },
    "pycharm": {
     "name": "#%%\n"
    }
   },
   "outputs": [],
   "source": [
    "model.save('./models/lstm__with_angles.h5')"
   ]
  },
  {
   "cell_type": "code",
   "execution_count": null,
   "metadata": {},
   "outputs": [],
   "source": []
  }
 ],
 "metadata": {
  "kernelspec": {
   "display_name": "Python 3 (ipykernel)",
   "language": "python",
   "name": "python3"
  },
  "language_info": {
   "codemirror_mode": {
    "name": "ipython",
    "version": 3
   },
   "file_extension": ".py",
   "mimetype": "text/x-python",
   "name": "python",
   "nbconvert_exporter": "python",
   "pygments_lexer": "ipython3",
   "version": "3.8.10"
  }
 },
 "nbformat": 4,
 "nbformat_minor": 4
}
