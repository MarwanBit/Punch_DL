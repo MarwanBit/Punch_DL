{
 "cells": [
  {
   "cell_type": "markdown",
   "metadata": {},
   "source": [
    "# Load data"
   ]
  },
  {
   "cell_type": "code",
   "execution_count": 23,
   "metadata": {
    "scrolled": true
   },
   "outputs": [],
   "source": [
    "import re\n",
    "import os\n",
    "import random\n",
    "import numpy as np\n",
    "import matplotlib.pyplot as plt\n",
    "import pandas as pd\n",
    "import seaborn as sns\n",
    "\n",
    "import tensorflow as tf\n",
    "import tensorflow.keras as K\n",
    "import keras_tuner as kt\n",
    "\n",
    "from lib.utils import normalize_mid_points, read_data, format_feature_names, save_tflite_model\n",
    "from lib.keypoints import KEYPOINT_DICT"
   ]
  },
  {
   "cell_type": "code",
   "execution_count": 2,
   "metadata": {},
   "outputs": [],
   "source": [
    "# punch types: hook, jab, uper\n",
    "\n",
    "labels_by_punch_types = [\n",
    "    ['id0_hook_1', 'id0_hook_2', 'id1_hook_1', 'id1_hook_2'],\n",
    "    ['id0_jab_1', 'id0_jab_2', 'id1_jab_1', 'id1_jab_2'],\n",
    "    ['id0_uper_1', 'id0_uper_2', 'id1_uper_1', 'id1_uper_2']\n",
    "]"
   ]
  },
  {
   "cell_type": "code",
   "execution_count": 3,
   "metadata": {},
   "outputs": [
    {
     "name": "stdout",
     "output_type": "stream",
     "text": [
      "(1051, 36)\n",
      "(858, 36)\n",
      "(792, 36)\n",
      "(1100, 36)\n",
      "(952, 36)\n",
      "(993, 36)\n",
      "(643, 36)\n",
      "(802, 36)\n",
      "(1186, 36)\n",
      "(746, 36)\n",
      "(703, 36)\n",
      "(1200, 36)\n"
     ]
    }
   ],
   "source": [
    "X_train_list = []\n",
    "y_train_list = []\n",
    "X_val_list = []\n",
    "y_val_list = []\n",
    "\n",
    "for labels in labels_by_punch_types:\n",
    "    test_label = random.choice(labels)\n",
    "\n",
    "    for label in [i for i in labels if i != test_label]:\n",
    "        X, y = read_data(label)\n",
    "        X_train_list.append(X)\n",
    "        y_train_list.append(y)\n",
    "    \n",
    "    X, y = read_data(test_label)\n",
    "    X_val_list.append(X)\n",
    "    y_val_list.append(y)\n",
    "\n",
    "\n",
    "X_train = np.concatenate(X_train_list)\n",
    "y_train = np.concatenate(y_train_list)\n",
    "X_val = np.concatenate(X_val_list)\n",
    "y_val = np.concatenate(y_val_list)"
   ]
  },
  {
   "cell_type": "code",
   "execution_count": 4,
   "metadata": {},
   "outputs": [],
   "source": [
    "X_train = np.concatenate(X_train_list)\n",
    "y_train = np.concatenate(y_train_list)\n",
    "X_val = np.concatenate(X_val_list)\n",
    "y_val = np.concatenate(y_val_list)"
   ]
  },
  {
   "cell_type": "code",
   "execution_count": 5,
   "metadata": {},
   "outputs": [
    {
     "data": {
      "text/plain": [
       "((7924, 36), (7924,), (3102, 36), (3102,))"
      ]
     },
     "execution_count": 5,
     "metadata": {},
     "output_type": "execute_result"
    }
   ],
   "source": [
    "X_train.shape, y_train.shape, X_val.shape, y_val.shape"
   ]
  },
  {
   "cell_type": "code",
   "execution_count": 7,
   "metadata": {},
   "outputs": [],
   "source": [
    "feature_names = format_feature_names(list(KEYPOINT_DICT.keys()), ndims=2)"
   ]
  },
  {
   "cell_type": "code",
   "execution_count": 8,
   "metadata": {},
   "outputs": [],
   "source": [
    "df = pd.DataFrame(data=X_train, columns=feature_names)"
   ]
  },
  {
   "cell_type": "code",
   "execution_count": 9,
   "metadata": {
    "scrolled": false
   },
   "outputs": [
    {
     "data": {
      "text/html": [
       "<div>\n",
       "<style scoped>\n",
       "    .dataframe tbody tr th:only-of-type {\n",
       "        vertical-align: middle;\n",
       "    }\n",
       "\n",
       "    .dataframe tbody tr th {\n",
       "        vertical-align: top;\n",
       "    }\n",
       "\n",
       "    .dataframe thead th {\n",
       "        text-align: right;\n",
       "    }\n",
       "</style>\n",
       "<table border=\"1\" class=\"dataframe\">\n",
       "  <thead>\n",
       "    <tr style=\"text-align: right;\">\n",
       "      <th></th>\n",
       "      <th>count</th>\n",
       "      <th>mean</th>\n",
       "      <th>std</th>\n",
       "      <th>min</th>\n",
       "      <th>25%</th>\n",
       "      <th>50%</th>\n",
       "      <th>75%</th>\n",
       "      <th>max</th>\n",
       "    </tr>\n",
       "  </thead>\n",
       "  <tbody>\n",
       "    <tr>\n",
       "      <th>nose-x</th>\n",
       "      <td>7924.0</td>\n",
       "      <td>-0.212958</td>\n",
       "      <td>0.021917</td>\n",
       "      <td>-0.464483</td>\n",
       "      <td>-0.225825</td>\n",
       "      <td>-0.214640</td>\n",
       "      <td>-0.201561</td>\n",
       "      <td>0.356807</td>\n",
       "    </tr>\n",
       "    <tr>\n",
       "      <th>nose-y</th>\n",
       "      <td>7924.0</td>\n",
       "      <td>0.002423</td>\n",
       "      <td>0.112411</td>\n",
       "      <td>-0.668847</td>\n",
       "      <td>-0.111919</td>\n",
       "      <td>0.044199</td>\n",
       "      <td>0.094718</td>\n",
       "      <td>0.321883</td>\n",
       "    </tr>\n",
       "    <tr>\n",
       "      <th>left_eye-x</th>\n",
       "      <td>7924.0</td>\n",
       "      <td>-0.225057</td>\n",
       "      <td>0.024703</td>\n",
       "      <td>-0.394743</td>\n",
       "      <td>-0.238745</td>\n",
       "      <td>-0.226654</td>\n",
       "      <td>-0.213422</td>\n",
       "      <td>0.356518</td>\n",
       "    </tr>\n",
       "    <tr>\n",
       "      <th>left_eye-y</th>\n",
       "      <td>7924.0</td>\n",
       "      <td>0.005228</td>\n",
       "      <td>0.111224</td>\n",
       "      <td>-0.627711</td>\n",
       "      <td>-0.104970</td>\n",
       "      <td>0.043965</td>\n",
       "      <td>0.095144</td>\n",
       "      <td>0.301342</td>\n",
       "    </tr>\n",
       "    <tr>\n",
       "      <th>right_eye-x</th>\n",
       "      <td>7924.0</td>\n",
       "      <td>-0.225454</td>\n",
       "      <td>0.023179</td>\n",
       "      <td>-0.407856</td>\n",
       "      <td>-0.239046</td>\n",
       "      <td>-0.226967</td>\n",
       "      <td>-0.213597</td>\n",
       "      <td>0.356240</td>\n",
       "    </tr>\n",
       "    <tr>\n",
       "      <th>right_eye-y</th>\n",
       "      <td>7924.0</td>\n",
       "      <td>-0.002526</td>\n",
       "      <td>0.110089</td>\n",
       "      <td>-0.669672</td>\n",
       "      <td>-0.110840</td>\n",
       "      <td>0.028675</td>\n",
       "      <td>0.085256</td>\n",
       "      <td>0.306070</td>\n",
       "    </tr>\n",
       "    <tr>\n",
       "      <th>left_ear-x</th>\n",
       "      <td>7924.0</td>\n",
       "      <td>-0.230545</td>\n",
       "      <td>0.022538</td>\n",
       "      <td>-0.474184</td>\n",
       "      <td>-0.244886</td>\n",
       "      <td>-0.232314</td>\n",
       "      <td>-0.217820</td>\n",
       "      <td>0.342778</td>\n",
       "    </tr>\n",
       "    <tr>\n",
       "      <th>left_ear-y</th>\n",
       "      <td>7924.0</td>\n",
       "      <td>0.004293</td>\n",
       "      <td>0.073945</td>\n",
       "      <td>-0.630785</td>\n",
       "      <td>-0.045865</td>\n",
       "      <td>0.011299</td>\n",
       "      <td>0.055456</td>\n",
       "      <td>0.293566</td>\n",
       "    </tr>\n",
       "    <tr>\n",
       "      <th>right_ear-x</th>\n",
       "      <td>7924.0</td>\n",
       "      <td>-0.231449</td>\n",
       "      <td>0.021986</td>\n",
       "      <td>-0.469636</td>\n",
       "      <td>-0.246438</td>\n",
       "      <td>-0.233315</td>\n",
       "      <td>-0.218220</td>\n",
       "      <td>0.338165</td>\n",
       "    </tr>\n",
       "    <tr>\n",
       "      <th>right_ear-y</th>\n",
       "      <td>7924.0</td>\n",
       "      <td>-0.016608</td>\n",
       "      <td>0.072674</td>\n",
       "      <td>-0.600943</td>\n",
       "      <td>-0.067695</td>\n",
       "      <td>-0.022555</td>\n",
       "      <td>0.029084</td>\n",
       "      <td>0.307987</td>\n",
       "    </tr>\n",
       "    <tr>\n",
       "      <th>left_shoulder-x</th>\n",
       "      <td>7924.0</td>\n",
       "      <td>-0.181238</td>\n",
       "      <td>0.021883</td>\n",
       "      <td>-0.324522</td>\n",
       "      <td>-0.196806</td>\n",
       "      <td>-0.182747</td>\n",
       "      <td>-0.166759</td>\n",
       "      <td>0.108607</td>\n",
       "    </tr>\n",
       "    <tr>\n",
       "      <th>left_shoulder-y</th>\n",
       "      <td>7924.0</td>\n",
       "      <td>0.023607</td>\n",
       "      <td>0.058907</td>\n",
       "      <td>-0.644723</td>\n",
       "      <td>-0.005418</td>\n",
       "      <td>0.033154</td>\n",
       "      <td>0.059690</td>\n",
       "      <td>0.217369</td>\n",
       "    </tr>\n",
       "    <tr>\n",
       "      <th>right_shoulder-x</th>\n",
       "      <td>7924.0</td>\n",
       "      <td>-0.179689</td>\n",
       "      <td>0.022361</td>\n",
       "      <td>-0.330315</td>\n",
       "      <td>-0.196170</td>\n",
       "      <td>-0.180083</td>\n",
       "      <td>-0.163904</td>\n",
       "      <td>0.113468</td>\n",
       "    </tr>\n",
       "    <tr>\n",
       "      <th>right_shoulder-y</th>\n",
       "      <td>7924.0</td>\n",
       "      <td>-0.037003</td>\n",
       "      <td>0.064104</td>\n",
       "      <td>-0.623624</td>\n",
       "      <td>-0.081830</td>\n",
       "      <td>-0.051011</td>\n",
       "      <td>0.002891</td>\n",
       "      <td>0.231858</td>\n",
       "    </tr>\n",
       "    <tr>\n",
       "      <th>left_elbow-x</th>\n",
       "      <td>7924.0</td>\n",
       "      <td>-0.097893</td>\n",
       "      <td>0.033510</td>\n",
       "      <td>-0.289864</td>\n",
       "      <td>-0.110682</td>\n",
       "      <td>-0.092142</td>\n",
       "      <td>-0.078486</td>\n",
       "      <td>0.141110</td>\n",
       "    </tr>\n",
       "    <tr>\n",
       "      <th>left_elbow-y</th>\n",
       "      <td>7924.0</td>\n",
       "      <td>0.035740</td>\n",
       "      <td>0.108549</td>\n",
       "      <td>-0.584814</td>\n",
       "      <td>-0.022944</td>\n",
       "      <td>0.060015</td>\n",
       "      <td>0.105635</td>\n",
       "      <td>0.321894</td>\n",
       "    </tr>\n",
       "    <tr>\n",
       "      <th>right_elbow-x</th>\n",
       "      <td>7924.0</td>\n",
       "      <td>-0.092970</td>\n",
       "      <td>0.035152</td>\n",
       "      <td>-0.306689</td>\n",
       "      <td>-0.106647</td>\n",
       "      <td>-0.089437</td>\n",
       "      <td>-0.071823</td>\n",
       "      <td>0.145860</td>\n",
       "    </tr>\n",
       "    <tr>\n",
       "      <th>right_elbow-y</th>\n",
       "      <td>7924.0</td>\n",
       "      <td>-0.022114</td>\n",
       "      <td>0.102955</td>\n",
       "      <td>-0.578387</td>\n",
       "      <td>-0.081961</td>\n",
       "      <td>-0.036588</td>\n",
       "      <td>0.020070</td>\n",
       "      <td>0.410483</td>\n",
       "    </tr>\n",
       "    <tr>\n",
       "      <th>left_wrist-x</th>\n",
       "      <td>7924.0</td>\n",
       "      <td>-0.138928</td>\n",
       "      <td>0.049112</td>\n",
       "      <td>-0.261178</td>\n",
       "      <td>-0.171683</td>\n",
       "      <td>-0.150602</td>\n",
       "      <td>-0.114413</td>\n",
       "      <td>0.360479</td>\n",
       "    </tr>\n",
       "    <tr>\n",
       "      <th>left_wrist-y</th>\n",
       "      <td>7924.0</td>\n",
       "      <td>0.028885</td>\n",
       "      <td>0.172807</td>\n",
       "      <td>-0.605466</td>\n",
       "      <td>-0.106240</td>\n",
       "      <td>0.091935</td>\n",
       "      <td>0.142128</td>\n",
       "      <td>0.469444</td>\n",
       "    </tr>\n",
       "    <tr>\n",
       "      <th>right_wrist-x</th>\n",
       "      <td>7924.0</td>\n",
       "      <td>-0.136687</td>\n",
       "      <td>0.048694</td>\n",
       "      <td>-0.460253</td>\n",
       "      <td>-0.169831</td>\n",
       "      <td>-0.146321</td>\n",
       "      <td>-0.113069</td>\n",
       "      <td>0.162464</td>\n",
       "    </tr>\n",
       "    <tr>\n",
       "      <th>right_wrist-y</th>\n",
       "      <td>7924.0</td>\n",
       "      <td>0.010003</td>\n",
       "      <td>0.167145</td>\n",
       "      <td>-0.597528</td>\n",
       "      <td>-0.131214</td>\n",
       "      <td>0.044539</td>\n",
       "      <td>0.108273</td>\n",
       "      <td>0.558176</td>\n",
       "    </tr>\n",
       "    <tr>\n",
       "      <th>left_hip-x</th>\n",
       "      <td>7924.0</td>\n",
       "      <td>-0.000839</td>\n",
       "      <td>0.002496</td>\n",
       "      <td>-0.012247</td>\n",
       "      <td>-0.002585</td>\n",
       "      <td>-0.001181</td>\n",
       "      <td>0.000923</td>\n",
       "      <td>0.010399</td>\n",
       "    </tr>\n",
       "    <tr>\n",
       "      <th>left_hip-y</th>\n",
       "      <td>7924.0</td>\n",
       "      <td>0.011617</td>\n",
       "      <td>0.029509</td>\n",
       "      <td>-0.069044</td>\n",
       "      <td>-0.007277</td>\n",
       "      <td>0.019740</td>\n",
       "      <td>0.034218</td>\n",
       "      <td>0.069683</td>\n",
       "    </tr>\n",
       "    <tr>\n",
       "      <th>right_hip-x</th>\n",
       "      <td>7924.0</td>\n",
       "      <td>0.000839</td>\n",
       "      <td>0.002496</td>\n",
       "      <td>-0.010399</td>\n",
       "      <td>-0.000923</td>\n",
       "      <td>0.001181</td>\n",
       "      <td>0.002585</td>\n",
       "      <td>0.012247</td>\n",
       "    </tr>\n",
       "    <tr>\n",
       "      <th>right_hip-y</th>\n",
       "      <td>7924.0</td>\n",
       "      <td>-0.011617</td>\n",
       "      <td>0.029509</td>\n",
       "      <td>-0.069683</td>\n",
       "      <td>-0.034218</td>\n",
       "      <td>-0.019740</td>\n",
       "      <td>0.007277</td>\n",
       "      <td>0.069044</td>\n",
       "    </tr>\n",
       "    <tr>\n",
       "      <th>left_knee-x</th>\n",
       "      <td>7924.0</td>\n",
       "      <td>0.117248</td>\n",
       "      <td>0.014613</td>\n",
       "      <td>-0.012305</td>\n",
       "      <td>0.107591</td>\n",
       "      <td>0.117533</td>\n",
       "      <td>0.126013</td>\n",
       "      <td>0.223146</td>\n",
       "    </tr>\n",
       "    <tr>\n",
       "      <th>left_knee-y</th>\n",
       "      <td>7924.0</td>\n",
       "      <td>-0.047803</td>\n",
       "      <td>0.097485</td>\n",
       "      <td>-0.588815</td>\n",
       "      <td>-0.144107</td>\n",
       "      <td>-0.012701</td>\n",
       "      <td>0.023412</td>\n",
       "      <td>0.217814</td>\n",
       "    </tr>\n",
       "    <tr>\n",
       "      <th>right_knee-x</th>\n",
       "      <td>7924.0</td>\n",
       "      <td>0.121828</td>\n",
       "      <td>0.012831</td>\n",
       "      <td>-0.047165</td>\n",
       "      <td>0.114659</td>\n",
       "      <td>0.121695</td>\n",
       "      <td>0.129201</td>\n",
       "      <td>0.200239</td>\n",
       "    </tr>\n",
       "    <tr>\n",
       "      <th>right_knee-y</th>\n",
       "      <td>7924.0</td>\n",
       "      <td>0.060564</td>\n",
       "      <td>0.084171</td>\n",
       "      <td>-0.586356</td>\n",
       "      <td>-0.010826</td>\n",
       "      <td>0.055294</td>\n",
       "      <td>0.128854</td>\n",
       "      <td>0.242167</td>\n",
       "    </tr>\n",
       "    <tr>\n",
       "      <th>left_ankle-x</th>\n",
       "      <td>7924.0</td>\n",
       "      <td>0.231938</td>\n",
       "      <td>0.044852</td>\n",
       "      <td>0.043212</td>\n",
       "      <td>0.191366</td>\n",
       "      <td>0.235049</td>\n",
       "      <td>0.271854</td>\n",
       "      <td>0.397769</td>\n",
       "    </tr>\n",
       "    <tr>\n",
       "      <th>left_ankle-y</th>\n",
       "      <td>7924.0</td>\n",
       "      <td>-0.096570</td>\n",
       "      <td>0.071920</td>\n",
       "      <td>-0.625967</td>\n",
       "      <td>-0.145172</td>\n",
       "      <td>-0.093148</td>\n",
       "      <td>-0.052572</td>\n",
       "      <td>0.183384</td>\n",
       "    </tr>\n",
       "    <tr>\n",
       "      <th>right_ankle-x</th>\n",
       "      <td>7924.0</td>\n",
       "      <td>0.247485</td>\n",
       "      <td>0.036904</td>\n",
       "      <td>0.042565</td>\n",
       "      <td>0.227555</td>\n",
       "      <td>0.255039</td>\n",
       "      <td>0.273142</td>\n",
       "      <td>0.393990</td>\n",
       "    </tr>\n",
       "    <tr>\n",
       "      <th>right_ankle-y</th>\n",
       "      <td>7924.0</td>\n",
       "      <td>0.088890</td>\n",
       "      <td>0.069411</td>\n",
       "      <td>-0.620773</td>\n",
       "      <td>0.053127</td>\n",
       "      <td>0.091323</td>\n",
       "      <td>0.135995</td>\n",
       "      <td>0.270141</td>\n",
       "    </tr>\n",
       "    <tr>\n",
       "      <th>mid_point-x</th>\n",
       "      <td>7924.0</td>\n",
       "      <td>0.522014</td>\n",
       "      <td>0.035653</td>\n",
       "      <td>0.410836</td>\n",
       "      <td>0.494974</td>\n",
       "      <td>0.517709</td>\n",
       "      <td>0.544487</td>\n",
       "      <td>0.646834</td>\n",
       "    </tr>\n",
       "    <tr>\n",
       "      <th>mid_point-y</th>\n",
       "      <td>7924.0</td>\n",
       "      <td>0.444587</td>\n",
       "      <td>0.291283</td>\n",
       "      <td>0.018021</td>\n",
       "      <td>0.200336</td>\n",
       "      <td>0.288051</td>\n",
       "      <td>0.788014</td>\n",
       "      <td>0.953776</td>\n",
       "    </tr>\n",
       "  </tbody>\n",
       "</table>\n",
       "</div>"
      ],
      "text/plain": [
       "                   count      mean       std       min       25%       50%  \\\n",
       "nose-x            7924.0 -0.212958  0.021917 -0.464483 -0.225825 -0.214640   \n",
       "nose-y            7924.0  0.002423  0.112411 -0.668847 -0.111919  0.044199   \n",
       "left_eye-x        7924.0 -0.225057  0.024703 -0.394743 -0.238745 -0.226654   \n",
       "left_eye-y        7924.0  0.005228  0.111224 -0.627711 -0.104970  0.043965   \n",
       "right_eye-x       7924.0 -0.225454  0.023179 -0.407856 -0.239046 -0.226967   \n",
       "right_eye-y       7924.0 -0.002526  0.110089 -0.669672 -0.110840  0.028675   \n",
       "left_ear-x        7924.0 -0.230545  0.022538 -0.474184 -0.244886 -0.232314   \n",
       "left_ear-y        7924.0  0.004293  0.073945 -0.630785 -0.045865  0.011299   \n",
       "right_ear-x       7924.0 -0.231449  0.021986 -0.469636 -0.246438 -0.233315   \n",
       "right_ear-y       7924.0 -0.016608  0.072674 -0.600943 -0.067695 -0.022555   \n",
       "left_shoulder-x   7924.0 -0.181238  0.021883 -0.324522 -0.196806 -0.182747   \n",
       "left_shoulder-y   7924.0  0.023607  0.058907 -0.644723 -0.005418  0.033154   \n",
       "right_shoulder-x  7924.0 -0.179689  0.022361 -0.330315 -0.196170 -0.180083   \n",
       "right_shoulder-y  7924.0 -0.037003  0.064104 -0.623624 -0.081830 -0.051011   \n",
       "left_elbow-x      7924.0 -0.097893  0.033510 -0.289864 -0.110682 -0.092142   \n",
       "left_elbow-y      7924.0  0.035740  0.108549 -0.584814 -0.022944  0.060015   \n",
       "right_elbow-x     7924.0 -0.092970  0.035152 -0.306689 -0.106647 -0.089437   \n",
       "right_elbow-y     7924.0 -0.022114  0.102955 -0.578387 -0.081961 -0.036588   \n",
       "left_wrist-x      7924.0 -0.138928  0.049112 -0.261178 -0.171683 -0.150602   \n",
       "left_wrist-y      7924.0  0.028885  0.172807 -0.605466 -0.106240  0.091935   \n",
       "right_wrist-x     7924.0 -0.136687  0.048694 -0.460253 -0.169831 -0.146321   \n",
       "right_wrist-y     7924.0  0.010003  0.167145 -0.597528 -0.131214  0.044539   \n",
       "left_hip-x        7924.0 -0.000839  0.002496 -0.012247 -0.002585 -0.001181   \n",
       "left_hip-y        7924.0  0.011617  0.029509 -0.069044 -0.007277  0.019740   \n",
       "right_hip-x       7924.0  0.000839  0.002496 -0.010399 -0.000923  0.001181   \n",
       "right_hip-y       7924.0 -0.011617  0.029509 -0.069683 -0.034218 -0.019740   \n",
       "left_knee-x       7924.0  0.117248  0.014613 -0.012305  0.107591  0.117533   \n",
       "left_knee-y       7924.0 -0.047803  0.097485 -0.588815 -0.144107 -0.012701   \n",
       "right_knee-x      7924.0  0.121828  0.012831 -0.047165  0.114659  0.121695   \n",
       "right_knee-y      7924.0  0.060564  0.084171 -0.586356 -0.010826  0.055294   \n",
       "left_ankle-x      7924.0  0.231938  0.044852  0.043212  0.191366  0.235049   \n",
       "left_ankle-y      7924.0 -0.096570  0.071920 -0.625967 -0.145172 -0.093148   \n",
       "right_ankle-x     7924.0  0.247485  0.036904  0.042565  0.227555  0.255039   \n",
       "right_ankle-y     7924.0  0.088890  0.069411 -0.620773  0.053127  0.091323   \n",
       "mid_point-x       7924.0  0.522014  0.035653  0.410836  0.494974  0.517709   \n",
       "mid_point-y       7924.0  0.444587  0.291283  0.018021  0.200336  0.288051   \n",
       "\n",
       "                       75%       max  \n",
       "nose-x           -0.201561  0.356807  \n",
       "nose-y            0.094718  0.321883  \n",
       "left_eye-x       -0.213422  0.356518  \n",
       "left_eye-y        0.095144  0.301342  \n",
       "right_eye-x      -0.213597  0.356240  \n",
       "right_eye-y       0.085256  0.306070  \n",
       "left_ear-x       -0.217820  0.342778  \n",
       "left_ear-y        0.055456  0.293566  \n",
       "right_ear-x      -0.218220  0.338165  \n",
       "right_ear-y       0.029084  0.307987  \n",
       "left_shoulder-x  -0.166759  0.108607  \n",
       "left_shoulder-y   0.059690  0.217369  \n",
       "right_shoulder-x -0.163904  0.113468  \n",
       "right_shoulder-y  0.002891  0.231858  \n",
       "left_elbow-x     -0.078486  0.141110  \n",
       "left_elbow-y      0.105635  0.321894  \n",
       "right_elbow-x    -0.071823  0.145860  \n",
       "right_elbow-y     0.020070  0.410483  \n",
       "left_wrist-x     -0.114413  0.360479  \n",
       "left_wrist-y      0.142128  0.469444  \n",
       "right_wrist-x    -0.113069  0.162464  \n",
       "right_wrist-y     0.108273  0.558176  \n",
       "left_hip-x        0.000923  0.010399  \n",
       "left_hip-y        0.034218  0.069683  \n",
       "right_hip-x       0.002585  0.012247  \n",
       "right_hip-y       0.007277  0.069044  \n",
       "left_knee-x       0.126013  0.223146  \n",
       "left_knee-y       0.023412  0.217814  \n",
       "right_knee-x      0.129201  0.200239  \n",
       "right_knee-y      0.128854  0.242167  \n",
       "left_ankle-x      0.271854  0.397769  \n",
       "left_ankle-y     -0.052572  0.183384  \n",
       "right_ankle-x     0.273142  0.393990  \n",
       "right_ankle-y     0.135995  0.270141  \n",
       "mid_point-x       0.544487  0.646834  \n",
       "mid_point-y       0.788014  0.953776  "
      ]
     },
     "execution_count": 9,
     "metadata": {},
     "output_type": "execute_result"
    }
   ],
   "source": [
    "df.describe().transpose()"
   ]
  },
  {
   "cell_type": "code",
   "execution_count": 11,
   "metadata": {
    "scrolled": true
   },
   "outputs": [
    {
     "data": {
      "image/png": "[encoded data removed]",
      "text/plain": [
       "<Figure size 1152x720 with 1 Axes>"
      ]
     },
     "metadata": {
      "needs_background": "light"
     },
     "output_type": "display_data"
    }
   ],
   "source": [
    "plt.figure(figsize=(16, 10))\n",
    "ax = sns.violinplot(data=df)\n",
    "_ = ax.set_xticklabels(df.keys(), rotation=90)"
   ]
  },
  {
   "cell_type": "code",
   "execution_count": 12,
   "metadata": {},
   "outputs": [],
   "source": [
    "time_steps=30 # expect camera 30 fps, so process 1 sample per second\n",
    "# Number of samples in batch\n",
    "N_train = X_train.shape[0] // time_steps \n",
    "N_val = X_val.shape[0] // time_steps"
   ]
  },
  {
   "cell_type": "code",
   "execution_count": 13,
   "metadata": {},
   "outputs": [
    {
     "data": {
      "text/plain": [
       "((264, 30, 36), (103, 30, 36))"
      ]
     },
     "execution_count": 13,
     "metadata": {},
     "output_type": "execute_result"
    }
   ],
   "source": [
    "X_train = X_train[:N_train*time_steps].reshape(-1, time_steps, 36)\n",
    "y_train = y_train[:N_train*time_steps].reshape(-1, time_steps, 1)\n",
    "X_val = X_val[:N_val*time_steps].reshape(-1, time_steps, 36)\n",
    "y_val = y_val[:N_val*time_steps].reshape(-1, time_steps, 1)\n",
    "X_train.shape, X_val.shape"
   ]
  },
  {
   "cell_type": "markdown",
   "metadata": {},
   "source": [
    "## LSTM"
   ]
  },
  {
   "cell_type": "code",
   "execution_count": 14,
   "metadata": {
    "scrolled": true
   },
   "outputs": [
    {
     "name": "stderr",
     "output_type": "stream",
     "text": [
      "2021-11-23 12:08:33.870493: I tensorflow/stream_executor/platform/default/dso_loader.cc:48] Successfully opened dynamic library libcuda.so.1\n",
      "2021-11-23 12:08:34.786860: E tensorflow/stream_executor/cuda/cuda_driver.cc:314] failed call to cuInit: CUDA_ERROR_UNKNOWN: unknown error\n",
      "2021-11-23 12:08:34.786903: I tensorflow/stream_executor/cuda/cuda_diagnostics.cc:169] retrieving CUDA diagnostic information for host: andrew-Aspire-A715-41G\n",
      "2021-11-23 12:08:34.786909: I tensorflow/stream_executor/cuda/cuda_diagnostics.cc:176] hostname: andrew-Aspire-A715-41G\n",
      "2021-11-23 12:08:34.797707: I tensorflow/stream_executor/cuda/cuda_diagnostics.cc:200] libcuda reported version is: 470.82.0\n",
      "2021-11-23 12:08:34.797738: I tensorflow/stream_executor/cuda/cuda_diagnostics.cc:204] kernel reported version is: 470.82.0\n",
      "2021-11-23 12:08:34.797744: I tensorflow/stream_executor/cuda/cuda_diagnostics.cc:310] kernel version seems to match DSO: 470.82.0\n",
      "2021-11-23 12:08:34.799407: I tensorflow/core/platform/cpu_feature_guard.cc:142] This TensorFlow binary is optimized with oneAPI Deep Neural Network Library (oneDNN)to use the following CPU instructions in performance-critical operations:  AVX2 FMA\n",
      "To enable them in other operations, rebuild TensorFlow with the appropriate compiler flags.\n",
      "2021-11-23 12:08:34.826956: I tensorflow/core/platform/profile_utils/cpu_utils.cc:104] CPU Frequency: 2295785000 Hz\n",
      "2021-11-23 12:08:34.827460: I tensorflow/compiler/xla/service/service.cc:168] XLA service 0x604be20 initialized for platform Host (this does not guarantee that XLA will be used). Devices:\n",
      "2021-11-23 12:08:34.827484: I tensorflow/compiler/xla/service/service.cc:176]   StreamExecutor device (0): Host, Default Version\n"
     ]
    }
   ],
   "source": [
    "y_train = K.utils.to_categorical(y_train, num_classes=7)\n",
    "X_train = tf.constant(X_train)\n",
    "y_val = K.utils.to_categorical(y_val, num_classes=7)\n",
    "X_val = tf.constant(X_val)"
   ]
  },
  {
   "cell_type": "code",
   "execution_count": 18,
   "metadata": {},
   "outputs": [],
   "source": [
    "def model_builder(hp):\n",
    "    # Hyperparams\n",
    "    hp_ru = hp.Int('recurrent_units', min_value=16, max_value=128, step=8)\n",
    "    hp_du1 = hp.Int('units1', min_value=16, max_value=128, step=8)\n",
    "    hp_du2 = hp.Int('units2', min_value=16, max_value=128, step=8)\n",
    "    hp_reg1 = hp.Float('dense1_reg', min_value=1e-4, max_value=1e-2)\n",
    "    hp_reg2 = hp.Float('dense2_reg', min_value=1e-4, max_value=1e-2)\n",
    "    \n",
    "    hp_dp = hp.Float('dropout', min_value=0., max_value=0.4)\n",
    "    hp_rec_dp = hp.Float('rec_dropout', min_value=0., max_value=0.4)\n",
    "    hp_kernel_reg = hp.Float('kernel_reg', min_value=1e-5, max_value=1e-3, sampling='log')\n",
    "    hp_recur_reg = hp.Float('recur_reg', min_value=1e-5, max_value=1e-3, sampling='log')\n",
    "    hp_act_reg = hp.Float('act_reg', min_value=1e-5, max_value=1e-3, sampling='log')\n",
    "    \n",
    "    hp_learning_rate = hp.Float('learning_rate', min_value=1e-4, max_value=1e-2)\n",
    "\n",
    "    \n",
    "    # Model\n",
    "    norm = tf.keras.layers.LayerNormalization(axis=1)\n",
    "    kernel_reg = K.regularizers.l2(hp_kernel_reg)\n",
    "    recurrent_reg = K.regularizers.l2(hp_recur_reg)\n",
    "    act_reg = K.regularizers.l2(hp_act_reg)\n",
    "    lstm = K.layers.LSTM(hp_ru,\n",
    "                         # stateful=True, # mutable states not supported in tflite \n",
    "                         return_sequences=True,\n",
    "                         kernel_regularizer=kernel_reg,\n",
    "                         recurrent_regularizer=recurrent_reg,\n",
    "                         activity_regularizer=act_reg,\n",
    "                         dropout=hp_dp,\n",
    "                         recurrent_dropout=hp_rec_dp\n",
    "                        )\n",
    "    dense1 = K.layers.Dense(hp_du1, activation='relu', \n",
    "                            kernel_regularizer=K.regularizers.l2(hp_reg1))\n",
    "    dense2 = K.layers.Dense(hp_du2, activation='relu', \n",
    "                           kernel_regularizer=K.regularizers.l2(hp_reg2))\n",
    "    out = K.layers.Dense(7, activation='sigmoid')\n",
    "\n",
    "    model = K.Sequential([norm, lstm, dense1, dense2, out])\n",
    "    model.compile(optimizer=K.optimizers.Adam(learning_rate=hp_learning_rate),\n",
    "                  loss='categorical_crossentropy',\n",
    "                  metrics=['accuracy'])\n",
    "    \n",
    "    return model"
   ]
  },
  {
   "cell_type": "code",
   "execution_count": 19,
   "metadata": {},
   "outputs": [
    {
     "name": "stdout",
     "output_type": "stream",
     "text": [
      "Trial 30 Complete [00h 01m 30s]\n",
      "val_accuracy: 0.6980582475662231\n",
      "\n",
      "Best val_accuracy So Far: 0.6980582475662231\n",
      "Total elapsed time: 00h 17m 53s\n",
      "INFO:tensorflow:Oracle triggered exit\n"
     ]
    }
   ],
   "source": [
    "tuner = kt.Hyperband(model_builder,\n",
    "                     objective='val_accuracy',\n",
    "                     max_epochs=20,\n",
    "                     directory='kt_dir',\n",
    "                     project_name='punch_dl_kt')\n",
    "\n",
    "stop_early = tf.keras.callbacks.EarlyStopping(monitor='val_loss', patience=8)\n",
    "\n",
    "tuner.search(X_train, y_train, batch_size=1, validation_data=(X_val, y_val), \n",
    "             epochs=32, callbacks=[stop_early])"
   ]
  },
  {
   "cell_type": "code",
   "execution_count": 20,
   "metadata": {},
   "outputs": [
    {
     "data": {
      "text/plain": [
       "{'recurrent_units': 56,\n",
       " 'units1': 16,\n",
       " 'units2': 88,\n",
       " 'dense1_reg': 0.005775950097089433,\n",
       " 'dense2_reg': 0.005602144740839879,\n",
       " 'dropout': 0.31488497540073623,\n",
       " 'rec_dropout': 0.18025434676732274,\n",
       " 'kernel_reg': 0.00042134377623234416,\n",
       " 'recur_reg': 1.3951958248994992e-05,\n",
       " 'act_reg': 3.0933107379541494e-05,\n",
       " 'learning_rate': 0.006018597461163295,\n",
       " 'tuner/epochs': 20,\n",
       " 'tuner/initial_epoch': 0,\n",
       " 'tuner/bracket': 0,\n",
       " 'tuner/round': 0}"
      ]
     },
     "execution_count": 20,
     "metadata": {},
     "output_type": "execute_result"
    }
   ],
   "source": [
    "# Get the optimal hyperparameters\n",
    "best_hps=tuner.get_best_hyperparameters(num_trials=1)[0]\n",
    "\n",
    "best_hps.values"
   ]
  },
  {
   "cell_type": "code",
   "execution_count": 21,
   "metadata": {
    "scrolled": true
   },
   "outputs": [
    {
     "name": "stdout",
     "output_type": "stream",
     "text": [
      "Epoch 1/64\n",
      "264/264 [==============================] - 9s 34ms/step - loss: 1.5683 - accuracy: 0.5157 - val_loss: 1.2144 - val_accuracy: 0.5987\n",
      "Epoch 2/64\n",
      "264/264 [==============================] - 8s 31ms/step - loss: 1.2668 - accuracy: 0.5598 - val_loss: 1.1067 - val_accuracy: 0.6107\n",
      "Epoch 3/64\n",
      "264/264 [==============================] - 8s 30ms/step - loss: 1.1988 - accuracy: 0.5783 - val_loss: 1.0649 - val_accuracy: 0.6790\n",
      "Epoch 4/64\n",
      "264/264 [==============================] - 8s 32ms/step - loss: 1.1429 - accuracy: 0.5819 - val_loss: 1.1296 - val_accuracy: 0.6621\n",
      "Epoch 5/64\n",
      "264/264 [==============================] - 8s 30ms/step - loss: 1.1021 - accuracy: 0.5850 - val_loss: 1.0261 - val_accuracy: 0.6599\n",
      "Epoch 6/64\n",
      "264/264 [==============================] - 8s 29ms/step - loss: 1.1021 - accuracy: 0.6011 - val_loss: 1.1164 - val_accuracy: 0.6544\n",
      "Epoch 7/64\n",
      "264/264 [==============================] - 8s 29ms/step - loss: 1.1046 - accuracy: 0.5952 - val_loss: 1.0526 - val_accuracy: 0.6579\n",
      "Epoch 8/64\n",
      "264/264 [==============================] - 8s 29ms/step - loss: 1.0350 - accuracy: 0.6006 - val_loss: 1.1266 - val_accuracy: 0.6654\n",
      "Epoch 9/64\n",
      "264/264 [==============================] - 8s 29ms/step - loss: 1.0364 - accuracy: 0.6044 - val_loss: 1.0142 - val_accuracy: 0.6599\n",
      "Epoch 10/64\n",
      "264/264 [==============================] - 8s 29ms/step - loss: 1.0826 - accuracy: 0.6078 - val_loss: 1.0038 - val_accuracy: 0.6628\n",
      "Epoch 11/64\n",
      "264/264 [==============================] - 8s 29ms/step - loss: 1.0201 - accuracy: 0.5986 - val_loss: 1.0432 - val_accuracy: 0.6560\n",
      "Epoch 12/64\n",
      "264/264 [==============================] - 8s 29ms/step - loss: 0.9963 - accuracy: 0.6259 - val_loss: 1.0441 - val_accuracy: 0.6450\n",
      "Epoch 13/64\n",
      "264/264 [==============================] - 8s 29ms/step - loss: 1.0541 - accuracy: 0.6187 - val_loss: 1.2636 - val_accuracy: 0.6608\n",
      "Epoch 14/64\n",
      "264/264 [==============================] - 8s 29ms/step - loss: 1.0540 - accuracy: 0.6311 - val_loss: 1.0316 - val_accuracy: 0.6657\n",
      "Epoch 15/64\n",
      "264/264 [==============================] - 8s 29ms/step - loss: 0.9945 - accuracy: 0.6591 - val_loss: 1.1043 - val_accuracy: 0.6984\n",
      "Epoch 16/64\n",
      "264/264 [==============================] - 8s 29ms/step - loss: 0.9406 - accuracy: 0.6915 - val_loss: 1.2126 - val_accuracy: 0.6317\n",
      "Epoch 17/64\n",
      "264/264 [==============================] - 8s 29ms/step - loss: 0.9670 - accuracy: 0.6927 - val_loss: 1.2884 - val_accuracy: 0.6220\n",
      "Epoch 18/64\n",
      "264/264 [==============================] - 8s 29ms/step - loss: 0.9239 - accuracy: 0.7198 - val_loss: 1.4637 - val_accuracy: 0.5689\n",
      "Epoch 19/64\n",
      "264/264 [==============================] - 8s 30ms/step - loss: 0.8787 - accuracy: 0.7260 - val_loss: 1.3349 - val_accuracy: 0.6016\n",
      "Epoch 20/64\n",
      "264/264 [==============================] - 8s 29ms/step - loss: 0.8437 - accuracy: 0.7388 - val_loss: 1.4118 - val_accuracy: 0.6482\n",
      "Epoch 21/64\n",
      "264/264 [==============================] - 9s 33ms/step - loss: 0.7480 - accuracy: 0.7754 - val_loss: 1.4106 - val_accuracy: 0.6311\n",
      "Epoch 22/64\n",
      "264/264 [==============================] - 8s 31ms/step - loss: 0.7113 - accuracy: 0.7894 - val_loss: 1.4351 - val_accuracy: 0.6100\n",
      "Epoch 23/64\n",
      "264/264 [==============================] - 8s 32ms/step - loss: 0.6960 - accuracy: 0.8030 - val_loss: 1.4442 - val_accuracy: 0.6120\n",
      "Epoch 24/64\n",
      "264/264 [==============================] - 9s 33ms/step - loss: 0.6639 - accuracy: 0.8109 - val_loss: 1.4958 - val_accuracy: 0.6146\n",
      "Epoch 25/64\n",
      "264/264 [==============================] - 9s 34ms/step - loss: 0.6505 - accuracy: 0.8189 - val_loss: 1.4961 - val_accuracy: 0.6214\n",
      "Epoch 26/64\n",
      "264/264 [==============================] - 9s 35ms/step - loss: 0.6339 - accuracy: 0.8304 - val_loss: 1.5107 - val_accuracy: 0.6188\n",
      "Epoch 27/64\n",
      "264/264 [==============================] - 8s 32ms/step - loss: 0.6225 - accuracy: 0.8327 - val_loss: 1.5077 - val_accuracy: 0.6165\n",
      "Epoch 28/64\n",
      "264/264 [==============================] - 8s 31ms/step - loss: 0.6067 - accuracy: 0.8455 - val_loss: 1.5463 - val_accuracy: 0.6036\n",
      "Epoch 29/64\n",
      "264/264 [==============================] - 9s 32ms/step - loss: 0.5928 - accuracy: 0.8495 - val_loss: 1.5211 - val_accuracy: 0.6311\n",
      "Epoch 30/64\n",
      "264/264 [==============================] - 8s 32ms/step - loss: 0.5803 - accuracy: 0.8609 - val_loss: 1.5265 - val_accuracy: 0.6162\n",
      "Epoch 31/64\n",
      "264/264 [==============================] - 8s 31ms/step - loss: 0.5422 - accuracy: 0.8806 - val_loss: 1.5290 - val_accuracy: 0.6184\n",
      "Epoch 32/64\n",
      "264/264 [==============================] - 8s 31ms/step - loss: 0.5421 - accuracy: 0.8819 - val_loss: 1.5400 - val_accuracy: 0.6159\n",
      "Epoch 33/64\n",
      "264/264 [==============================] - 8s 31ms/step - loss: 0.5501 - accuracy: 0.8816 - val_loss: 1.5420 - val_accuracy: 0.6188\n",
      "Epoch 34/64\n",
      "264/264 [==============================] - 8s 31ms/step - loss: 0.5386 - accuracy: 0.8836 - val_loss: 1.5466 - val_accuracy: 0.6159\n",
      "Epoch 35/64\n",
      "264/264 [==============================] - 8s 31ms/step - loss: 0.5373 - accuracy: 0.8812 - val_loss: 1.5518 - val_accuracy: 0.6117\n",
      "Epoch 36/64\n",
      "264/264 [==============================] - 8s 31ms/step - loss: 0.5368 - accuracy: 0.8831 - val_loss: 1.5635 - val_accuracy: 0.6117\n",
      "Epoch 37/64\n",
      "264/264 [==============================] - 8s 31ms/step - loss: 0.5359 - accuracy: 0.8859 - val_loss: 1.5689 - val_accuracy: 0.6104\n",
      "Epoch 38/64\n",
      "264/264 [==============================] - 9s 32ms/step - loss: 0.5326 - accuracy: 0.8852 - val_loss: 1.5811 - val_accuracy: 0.6052\n",
      "Epoch 39/64\n",
      "264/264 [==============================] - 8s 32ms/step - loss: 0.5322 - accuracy: 0.8885 - val_loss: 1.5875 - val_accuracy: 0.6052\n",
      "Epoch 40/64\n",
      "264/264 [==============================] - 8s 31ms/step - loss: 0.5394 - accuracy: 0.8842 - val_loss: 1.5886 - val_accuracy: 0.6049\n",
      "Epoch 41/64\n",
      "264/264 [==============================] - 8s 32ms/step - loss: 0.5252 - accuracy: 0.8909 - val_loss: 1.5894 - val_accuracy: 0.6049\n",
      "Epoch 42/64\n",
      "264/264 [==============================] - 9s 33ms/step - loss: 0.5281 - accuracy: 0.8871 - val_loss: 1.5902 - val_accuracy: 0.6045\n",
      "Epoch 43/64\n",
      "264/264 [==============================] - 8s 30ms/step - loss: 0.5264 - accuracy: 0.8893 - val_loss: 1.5909 - val_accuracy: 0.6045\n",
      "Epoch 44/64\n",
      "264/264 [==============================] - 8s 31ms/step - loss: 0.5266 - accuracy: 0.8904 - val_loss: 1.5915 - val_accuracy: 0.6042\n",
      "Epoch 45/64\n",
      "264/264 [==============================] - 8s 32ms/step - loss: 0.5306 - accuracy: 0.8902 - val_loss: 1.5924 - val_accuracy: 0.6042\n",
      "Epoch 46/64\n",
      "264/264 [==============================] - 8s 31ms/step - loss: 0.5277 - accuracy: 0.8874 - val_loss: 1.5930 - val_accuracy: 0.6049\n",
      "Epoch 47/64\n",
      "264/264 [==============================] - 8s 31ms/step - loss: 0.5260 - accuracy: 0.8857 - val_loss: 1.5934 - val_accuracy: 0.6052\n",
      "Epoch 48/64\n",
      "264/264 [==============================] - 8s 32ms/step - loss: 0.5303 - accuracy: 0.8894 - val_loss: 1.5935 - val_accuracy: 0.6042\n",
      "Epoch 49/64\n",
      "264/264 [==============================] - 8s 31ms/step - loss: 0.5208 - accuracy: 0.8951 - val_loss: 1.5933 - val_accuracy: 0.6049\n",
      "Epoch 50/64\n",
      "264/264 [==============================] - 8s 32ms/step - loss: 0.5279 - accuracy: 0.8907 - val_loss: 1.5939 - val_accuracy: 0.6049\n",
      "Epoch 51/64\n",
      "264/264 [==============================] - 9s 33ms/step - loss: 0.5340 - accuracy: 0.8843 - val_loss: 1.5940 - val_accuracy: 0.6049\n",
      "Epoch 52/64\n",
      "264/264 [==============================] - 11s 43ms/step - loss: 0.5288 - accuracy: 0.8870 - val_loss: 1.5940 - val_accuracy: 0.6045\n",
      "Epoch 53/64\n",
      "264/264 [==============================] - 19s 71ms/step - loss: 0.5225 - accuracy: 0.8928 - val_loss: 1.5941 - val_accuracy: 0.6042\n",
      "Epoch 54/64\n",
      "264/264 [==============================] - 10s 36ms/step - loss: 0.5160 - accuracy: 0.8965 - val_loss: 1.5941 - val_accuracy: 0.6045\n",
      "Epoch 55/64\n",
      "264/264 [==============================] - 9s 33ms/step - loss: 0.5237 - accuracy: 0.8890 - val_loss: 1.5942 - val_accuracy: 0.6045\n",
      "Epoch 56/64\n",
      "264/264 [==============================] - 9s 34ms/step - loss: 0.5195 - accuracy: 0.8875 - val_loss: 1.5942 - val_accuracy: 0.6042\n",
      "Epoch 57/64\n",
      "264/264 [==============================] - 7s 25ms/step - loss: 0.5282 - accuracy: 0.8859 - val_loss: 1.5942 - val_accuracy: 0.6045\n"
     ]
    },
    {
     "name": "stdout",
     "output_type": "stream",
     "text": [
      "Epoch 58/64\n",
      "264/264 [==============================] - 6s 21ms/step - loss: 0.5295 - accuracy: 0.8857 - val_loss: 1.5942 - val_accuracy: 0.6042\n",
      "Epoch 59/64\n",
      "264/264 [==============================] - 5s 20ms/step - loss: 0.5284 - accuracy: 0.8803 - val_loss: 1.5943 - val_accuracy: 0.6042\n",
      "Epoch 60/64\n",
      "264/264 [==============================] - 5s 20ms/step - loss: 0.5322 - accuracy: 0.8865 - val_loss: 1.5943 - val_accuracy: 0.6042\n",
      "Epoch 61/64\n",
      "264/264 [==============================] - 5s 19ms/step - loss: 0.5346 - accuracy: 0.8869 - val_loss: 1.5943 - val_accuracy: 0.6042\n",
      "Epoch 62/64\n",
      "264/264 [==============================] - 5s 21ms/step - loss: 0.5328 - accuracy: 0.8824 - val_loss: 1.5943 - val_accuracy: 0.6042\n",
      "Epoch 63/64\n",
      "264/264 [==============================] - 6s 22ms/step - loss: 0.5217 - accuracy: 0.8934 - val_loss: 1.5943 - val_accuracy: 0.6042\n",
      "Epoch 64/64\n",
      "264/264 [==============================] - 6s 22ms/step - loss: 0.5257 - accuracy: 0.8884 - val_loss: 1.5944 - val_accuracy: 0.6042\n",
      "Best epoch: 15\n"
     ]
    }
   ],
   "source": [
    "# Build the model with the optimal hyperparameters and train it on the data for 64 epochs\n",
    "model = tuner.hypermodel.build(best_hps)\n",
    "history = model.fit(X_train, y_train, batch_size=1, \n",
    "                    validation_data=(X_val, y_val), \n",
    "                    epochs=64,\n",
    "                   callbacks=[K.callbacks.ReduceLROnPlateau()])\n",
    "\n",
    "val_acc_per_epoch = history.history['val_accuracy']\n",
    "best_epoch = val_acc_per_epoch.index(max(val_acc_per_epoch)) + 1\n",
    "print('Best epoch: %d' % (best_epoch,))"
   ]
  },
  {
   "cell_type": "code",
   "execution_count": 22,
   "metadata": {},
   "outputs": [
    {
     "data": {
      "text/plain": [
       "[<matplotlib.lines.Line2D at 0x7f8e14444eb0>]"
      ]
     },
     "execution_count": 22,
     "metadata": {},
     "output_type": "execute_result"
    },
    {
     "data": {
      "image/png": "[encoded data removed]",
      "text/plain": [
       "<Figure size 1080x504 with 2 Axes>"
      ]
     },
     "metadata": {
      "needs_background": "light"
     },
     "output_type": "display_data"
    }
   ],
   "source": [
    "plt.figure(figsize=(15, 7))\n",
    "plt.subplot(221)\n",
    "plt.title(\"Train Loss\")\n",
    "plt.plot(history.history['loss'])\n",
    "plt.subplot(222)\n",
    "plt.title(\"Train/validation accuracy\")\n",
    "plt.plot(history.history['accuracy'])\n",
    "plt.plot(history.history['val_accuracy'])"
   ]
  },
  {
   "cell_type": "markdown",
   "metadata": {},
   "source": [
    "# Conclusion \n",
    "\n",
    "We need more data to avoid overfitting"
   ]
  },
  {
   "cell_type": "markdown",
   "metadata": {},
   "source": [
    "# Convert the model"
   ]
  },
  {
   "cell_type": "code",
   "execution_count": 24,
   "metadata": {
    "scrolled": true
   },
   "outputs": [
    {
     "name": "stdout",
     "output_type": "stream",
     "text": [
      "WARNING:tensorflow:From /home/andrew/Рабочий стол/Нейросети/venv/lib/python3.8/site-packages/tensorflow/python/training/tracking/tracking.py:111: Model.state_updates (from tensorflow.python.keras.engine.training) is deprecated and will be removed in a future version.\n",
      "Instructions for updating:\n",
      "This property should not be used in TensorFlow 2.0, as updates are applied automatically.\n",
      "WARNING:tensorflow:From /home/andrew/Рабочий стол/Нейросети/venv/lib/python3.8/site-packages/tensorflow/python/training/tracking/tracking.py:111: Layer.updates (from tensorflow.python.keras.engine.base_layer) is deprecated and will be removed in a future version.\n",
      "Instructions for updating:\n",
      "This property should not be used in TensorFlow 2.0, as updates are applied automatically.\n"
     ]
    },
    {
     "name": "stderr",
     "output_type": "stream",
     "text": [
      "2021-11-23 12:41:09.257582: W tensorflow/python/util/util.cc:348] Sets are not currently considered sequences, but this may change in the future, so consider avoiding using them.\n"
     ]
    },
    {
     "name": "stdout",
     "output_type": "stream",
     "text": [
      "INFO:tensorflow:Assets written to: /tmp/tmpny0znldl/assets\n"
     ]
    },
    {
     "name": "stderr",
     "output_type": "stream",
     "text": [
      "2021-11-23 12:41:11.950087: I tensorflow/core/grappler/devices.cc:69] Number of eligible GPUs (core count >= 8, compute capability >= 0.0): 0\n",
      "2021-11-23 12:41:11.950281: I tensorflow/core/grappler/clusters/single_machine.cc:356] Starting new session\n",
      "2021-11-23 12:41:11.966638: I tensorflow/core/grappler/optimizers/meta_optimizer.cc:816] Optimization results for grappler item: graph_to_optimize\n",
      "2021-11-23 12:41:11.966685: I tensorflow/core/grappler/optimizers/meta_optimizer.cc:818]   function_optimizer: Graph size after: 190 nodes (0), 219 edges (0), time = 2.18ms.\n",
      "2021-11-23 12:41:11.966690: I tensorflow/core/grappler/optimizers/meta_optimizer.cc:818]   function_optimizer: Graph size after: 190 nodes (0), 219 edges (0), time = 2.437ms.\n",
      "2021-11-23 12:41:11.966695: I tensorflow/core/grappler/optimizers/meta_optimizer.cc:816] Optimization results for grappler item: sequential_1_lstm_1_while_body_339041\n",
      "2021-11-23 12:41:11.966700: I tensorflow/core/grappler/optimizers/meta_optimizer.cc:818]   function_optimizer: function_optimizer did nothing. time = 0.003ms.\n",
      "2021-11-23 12:41:11.966703: I tensorflow/core/grappler/optimizers/meta_optimizer.cc:818]   function_optimizer: function_optimizer did nothing. time = 0ms.\n",
      "2021-11-23 12:41:11.966706: I tensorflow/core/grappler/optimizers/meta_optimizer.cc:816] Optimization results for grappler item: sequential_1_lstm_1_while_cond_339040\n",
      "2021-11-23 12:41:11.966710: I tensorflow/core/grappler/optimizers/meta_optimizer.cc:818]   function_optimizer: function_optimizer did nothing. time = 0.002ms.\n",
      "2021-11-23 12:41:11.966713: I tensorflow/core/grappler/optimizers/meta_optimizer.cc:818]   function_optimizer: function_optimizer did nothing. time = 0ms.\n",
      "2021-11-23 12:41:12.130185: W tensorflow/compiler/mlir/lite/python/tf_tfl_flatbuffer_helpers.cc:313] Ignored output_format.\n",
      "2021-11-23 12:41:12.130225: W tensorflow/compiler/mlir/lite/python/tf_tfl_flatbuffer_helpers.cc:316] Ignored drop_control_dependency.\n"
     ]
    }
   ],
   "source": [
    "converter = tf.lite.TFLiteConverter.from_keras_model(model) \n",
    "\n",
    "tflite_model = converter.convert()"
   ]
  },
  {
   "cell_type": "code",
   "execution_count": 25,
   "metadata": {},
   "outputs": [],
   "source": [
    "# Save the model.\n",
    "save_tflite_model(tflite_model, 'tflite_models')"
   ]
  },
  {
   "cell_type": "code",
   "execution_count": 26,
   "metadata": {},
   "outputs": [
    {
     "name": "stdout",
     "output_type": "stream",
     "text": [
      "Done. The result of TensorFlow matches the result of TensorFlow Lite.\n",
      "Done. The result of TensorFlow matches the result of TensorFlow Lite.\n",
      "Done. The result of TensorFlow matches the result of TensorFlow Lite.\n",
      "Done. The result of TensorFlow matches the result of TensorFlow Lite.\n",
      "Done. The result of TensorFlow matches the result of TensorFlow Lite.\n",
      "Done. The result of TensorFlow matches the result of TensorFlow Lite.\n",
      "Done. The result of TensorFlow matches the result of TensorFlow Lite.\n",
      "Done. The result of TensorFlow matches the result of TensorFlow Lite.\n",
      "Done. The result of TensorFlow matches the result of TensorFlow Lite.\n",
      "Done. The result of TensorFlow matches the result of TensorFlow Lite.\n"
     ]
    }
   ],
   "source": [
    "# Run the model with TensorFlow to get expected results.\n",
    "TEST_CASES = 10\n",
    "x = tf.reshape(X_val, (-1, time_steps, 36))\n",
    "# Run the model with TensorFlow Lite\n",
    "interpreter = tf.lite.Interpreter(model_content=tflite_model)\n",
    "interpreter.allocate_tensors()\n",
    "input_details = interpreter.get_input_details()\n",
    "output_details = interpreter.get_output_details()\n",
    "\n",
    "for i in range(TEST_CASES):\n",
    "    expected = model.predict(x[i:i+1])\n",
    "    interpreter.set_tensor(input_details[0][\"index\"], x[i:i+1])\n",
    "    interpreter.invoke()\n",
    "    result = interpreter.get_tensor(output_details[0][\"index\"])\n",
    "\n",
    "    # Assert if the result of TFLite model is consistent with the TF model.\n",
    "    np.testing.assert_almost_equal(expected, result, decimal=5)\n",
    "    print(\"Done. The result of TensorFlow matches the result of TensorFlow Lite.\")\n",
    "\n",
    "    # Please note: TfLite fused Lstm kernel is stateful, so we need to reset\n",
    "    # the states.\n",
    "    # Clean up internal states.\n",
    "    interpreter.reset_all_variables()"
   ]
  },
  {
   "cell_type": "markdown",
   "metadata": {},
   "source": [
    "# Moving most frequent smoothing"
   ]
  },
  {
   "cell_type": "code",
   "execution_count": 28,
   "metadata": {},
   "outputs": [],
   "source": [
    "y_pred = np.argmax(model(x).numpy(), axis=-1).ravel()\n",
    "y_val_np = np.concatenate(y_val_list)[:N_val*time_steps]"
   ]
  },
  {
   "cell_type": "code",
   "execution_count": 29,
   "metadata": {},
   "outputs": [],
   "source": [
    "# [1,1,1,1,3,3,1,1] -> [1]\n",
    "# moving window across padded y_pred\n",
    "# output element is most frequent in window\n",
    "\n",
    "win_size = time_steps // 2\n",
    "mf_smooth = np.zeros(y_pred.shape[0]+win_size)\n",
    "for i in range(len(y_pred) - win_size):\n",
    "    window = y_pred[i:i+win_size]\n",
    "    bins = np.bincount(window)\n",
    "    mf_smooth[i+win_size//2] = np.argmax(bins)\n",
    "\n",
    "mf_smooth = mf_smooth[:-win_size]"
   ]
  },
  {
   "cell_type": "code",
   "execution_count": 30,
   "metadata": {},
   "outputs": [
    {
     "data": {
      "text/plain": [
       "(3090, 3090, 3090)"
      ]
     },
     "execution_count": 30,
     "metadata": {},
     "output_type": "execute_result"
    }
   ],
   "source": [
    "len(mf_smooth), len(y_pred), len(y_val_np)"
   ]
  },
  {
   "cell_type": "code",
   "execution_count": 31,
   "metadata": {},
   "outputs": [
    {
     "name": "stdout",
     "output_type": "stream",
     "text": [
      "0.6042071197411003\n",
      "0.6207119741100323\n"
     ]
    }
   ],
   "source": [
    "print(np.mean(y_val_np==y_pred))\n",
    "print(np.mean(y_val_np==mf_smooth))"
   ]
  },
  {
   "cell_type": "code",
   "execution_count": 32,
   "metadata": {
    "scrolled": false
   },
   "outputs": [
    {
     "data": {
      "text/plain": [
       "[<matplotlib.lines.Line2D at 0x7f8e54452670>]"
      ]
     },
     "execution_count": 32,
     "metadata": {},
     "output_type": "execute_result"
    },
    {
     "data": {
      "image/png": "[encoded data removed]",
      "text/plain": [
       "<Figure size 1152x864 with 3 Axes>"
      ]
     },
     "metadata": {
      "needs_background": "light"
     },
     "output_type": "display_data"
    }
   ],
   "source": [
    "plt.figure(figsize=(16, 12))\n",
    "\n",
    "plt.subplot(3, 1, 1)\n",
    "plt.title('Original')\n",
    "plt.plot(y_val_np[:600])\n",
    "\n",
    "plt.subplot(3, 1, 2)\n",
    "plt.title('Prediction')\n",
    "plt.plot(y_pred[:600])\n",
    "\n",
    "plt.subplot(3, 1, 3)\n",
    "plt.title('Smoothed prediction')\n",
    "plt.plot(mf_smooth[:600])\n"
   ]
  },
  {
   "cell_type": "markdown",
   "metadata": {},
   "source": [
    "Thanks to:  \n",
    "https://github.com/keras-team/keras-tuner"
   ]
  }
 ],
 "metadata": {
  "kernelspec": {
   "display_name": "Python 3 (ipykernel)",
   "language": "python",
   "name": "python3"
  },
  "language_info": {
   "codemirror_mode": {
    "name": "ipython",
    "version": 3
   },
   "file_extension": ".py",
   "mimetype": "text/x-python",
   "name": "python",
   "nbconvert_exporter": "python",
   "pygments_lexer": "ipython3",
   "version": "3.8.10"
  }
 },
 "nbformat": 4,
 "nbformat_minor": 2
}
