{
 "cells": [
  {
   "cell_type": "markdown",
   "id": "reliable-neighbor",
   "metadata": {},
   "source": [
    "# Deep learning models for automatic punch classification in karate "
   ]
  },
  {
   "cell_type": "markdown",
   "id": "configured-italian",
   "metadata": {},
   "source": [
    "### Abstract\n",
    "\n",
    "In this paper we testing deep learning approach for karate punch classification."
   ]
  },
  {
   "cell_type": "markdown",
   "id": "charming-precipitation",
   "metadata": {},
   "source": [
    "### Introduction\n",
    "\n",
    "Describe karate training process.  \n",
    "What problems there?  \n",
    "Why do we need DL approach for automatic punch classification?"
   ]
  },
  {
   "cell_type": "markdown",
   "id": "prescribed-course",
   "metadata": {},
   "source": [
    "### Related works  "
   ]
  },
  {
   "cell_type": "markdown",
   "id": "similar-behalf",
   "metadata": {},
   "source": [
    "### References \n",
    "\n",
    "\n",
    "1. Khasanshin, I. Application of an Artificial Neural Network to Automate the Measurement of Kinematic Characteristics of Punches in Boxing. Appl. Sci. 2021, 11, 1223. https://doi.org/10.3390/app11031223   \n",
    "\n",
    "2. Polak, E.; Kulasa, J.; VencesBrito, A.; Castro, M.; Fernandes, O. Motion analysis systems as optimization training tools in combat sports and martial arts. Rev. Artes Marciales Asiát. 2016, 10, 105–123. [CrossRef]  \n",
    "\n",
    "3. Worsey, M.T.O.; Espinosa, H.G.; Shepherd, J.B.; Thiel, D.V. An Evaluation of Wearable Inertial Sensor Configuration and Supervised Machine Learning Models for Automatic Punch Classification in Boxing. IoT 2020, 1. [CrossRef]  \n",
    "\n",
    "4. Shen, Y.; Wang, H.; Ho, E.S.; Yang, L.; Shum, H.P. Posture-based and Action-based Graphs for Boxing Skill Visualization. Comput. Graph. 2017, 69. [CrossRef] \n",
    "\n",
    "5. Kimm, D.K.; Thiel, D. Hand Speed Measurements in Boxing. Procedia Eng. 2015, 112, 502–506. \n",
    "\n",
    "6. Cust, E.E.; Sweeting, A.J.; Ball, K.; Robertson, S. Machine and deep learning for sport-specific movement recognition: A systematic review of model development and performance. J. Sports Sci. 2019, 37, 568–600.\n",
    "\n",
    "7. Wang, Z.; Yan, W.; Oates, T. Time Series Classification from Scratch with Deep Neural Networks: A Strong Baseline. arXiv: 1611.06455, 2016."
   ]
  },
  {
   "cell_type": "markdown",
   "id": "editorial-bride",
   "metadata": {},
   "source": []
  },
  {
   "cell_type": "markdown",
   "id": "express-calendar",
   "metadata": {},
   "source": []
  },
  {
   "cell_type": "markdown",
   "id": "collaborative-robinson",
   "metadata": {},
   "source": []
  },
  {
   "cell_type": "markdown",
   "id": "changing-lesbian",
   "metadata": {},
   "source": []
  }
 ],
 "metadata": {
  "kernelspec": {
   "display_name": "Python 3",
   "language": "python",
   "name": "python3"
  },
  "language_info": {
   "codemirror_mode": {
    "name": "ipython",
    "version": 3
   },
   "file_extension": ".py",
   "mimetype": "text/x-python",
   "name": "python",
   "nbconvert_exporter": "python",
   "pygments_lexer": "ipython3",
   "version": "3.8.5"
  }
 },
 "nbformat": 4,
 "nbformat_minor": 5
}
