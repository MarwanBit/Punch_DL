{
 "cells": [
  {
   "cell_type": "markdown",
   "metadata": {},
   "source": [
    "## 2. Materials and methods "
   ]
  },
  {
   "cell_type": "markdown",
   "metadata": {},
   "source": [
    "### 2.1 Participants \n",
    "\n",
    "One healthy participant (n=1), wight = 100 kg, height = 190 cm with experience in Karate took part in the study. Ethical approval was granted by the Human Research Ethics Commitee at Financial University at Government of the Russian Federation. "
   ]
  },
  {
   "cell_type": "markdown",
   "metadata": {},
   "source": [
    "### 2.2 Materials  \n",
    "One 6DOF Inertial Measurement Unit (IMU) [T-Wristband](http://aliexpress.com) with properties (sampling rate 50 Hz, +- 16 g linear acceleration, +- 2000 deg/s gyroscope) was used in this study. T-wristband bracelet with 252x19x12 basic dimensions, 47x18x12 host dimension, 30 g weight with custom firmware used."
   ]
  },
  {
   "cell_type": "markdown",
   "metadata": {},
   "source": [
    "<img src=\"img/IMU.jpg\" width=400>"
   ]
  },
  {
   "cell_type": "markdown",
   "metadata": {},
   "source": [
    "T-wristband host sensor was attached under on wrist."
   ]
  },
  {
   "cell_type": "markdown",
   "metadata": {},
   "source": [
    "<img src=\"img/hand_imu.jpg\">"
   ]
  },
  {
   "cell_type": "markdown",
   "metadata": {},
   "source": [
    "We don't use magnitometer measurements and don't calculate angles and position of sensor. We use only linear acceleration and gyroscope measurements.  \n",
    "\n",
    "To record session we use Xiaomi Redmi 7 camera with 1980x1080 resolution 30 fps. Video analysis was used to labeling ground truth punches. To record data we use Bluetooth Serial Terminal Android application. "
   ]
  },
  {
   "cell_type": "markdown",
   "metadata": {},
   "source": [
    "### 2.3 Methods  \n",
    "\n",
    "Data collection session consist of the participant performing 1912 punches to makivara.  \n",
    "Class of punches are: \n",
    "- Yun Tsuki (YT), \n",
    "- Mawashi Tsuki (MT), \n",
    "- Age Tsuki (AT), \n",
    "- Uraken (U),\n",
    "- No Punch (NP).\n"
   ]
  },
  {
   "cell_type": "markdown",
   "metadata": {},
   "source": [
    "<img src=\"img/punch_names.jpg\">"
   ]
  },
  {
   "cell_type": "markdown",
   "metadata": {},
   "source": [
    "Measured data was packed to dataset X: every sample has 3 columns (x, y, z acceleration).\n",
    "\n",
    "Train / validation random splitting was made with 10:1 propotional for each class. Data preprocessing was conducted with python 3.7 packages: numpy, sklearn. Visualisation was made with matplotlib, Neural Net models build with tensorflow.keras 2.2. In experiments take part 3 models:\n",
    "- multylayer perceptron\n",
    "- 1 dimension convolution network from scratch\n",
    "- 2 dimension convolution network with 2 conv layers  \n",
    "- 2 dimension convolution network with 4 layers."
   ]
  },
  {
   "cell_type": "markdown",
   "metadata": {},
   "source": [
    "Multiclass Accuracy used as a classification metric:\n",
    "$$ACC = \\frac{N_T}{N} $$ \n",
    "where $N_T$ - number of true classified punch,  \n",
    "$N$ - total number of punches."
   ]
  },
  {
   "cell_type": "markdown",
   "metadata": {},
   "source": [
    "Models was trained using PC with Ubuntu 18.04 LTS, Intel(E) Core(TM) i7-6950x CPU, 64 GB RAM, GTX 1080ti 8 GB GPU. Total time about 4 hours."
   ]
  }
 ],
 "metadata": {
  "kernelspec": {
   "display_name": "Python 3",
   "language": "python",
   "name": "python3"
  },
  "language_info": {
   "codemirror_mode": {
    "name": "ipython",
    "version": 3
   },
   "file_extension": ".py",
   "mimetype": "text/x-python",
   "name": "python",
   "nbconvert_exporter": "python",
   "pygments_lexer": "ipython3",
   "version": "3.8.5"
  }
 },
 "nbformat": 4,
 "nbformat_minor": 2
}
