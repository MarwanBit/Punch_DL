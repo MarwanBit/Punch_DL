{
 "cells": [
  {
   "cell_type": "code",
   "execution_count": 1,
   "metadata": {},
   "outputs": [],
   "source": [
    "import numpy as np\n",
    "import matplotlib.pyplot as plt"
   ]
  },
  {
   "cell_type": "code",
   "execution_count": 2,
   "metadata": {},
   "outputs": [],
   "source": [
    "from tensorflow.keras.models import Sequential\n",
    "from tensorflow.keras.layers import *\n",
    "from tensorflow.keras.utils import plot_model\n",
    "from tensorflow.keras import optimizers"
   ]
  },
  {
   "cell_type": "code",
   "execution_count": 4,
   "metadata": {},
   "outputs": [],
   "source": [
    "from utils.dataset import random_split_train_val"
   ]
  },
  {
   "cell_type": "code",
   "execution_count": 6,
   "metadata": {},
   "outputs": [],
   "source": [
    "test_dataset = np.loadtxt(\"data/khasanshin/THRESHOLD_TEST.txt\", delimiter=\",\")\n",
    "train_dataset = np.loadtxt(\"data/khasanshin/THRESHOLD_ALL.txt\", delimiter=\",\")"
   ]
  },
  {
   "cell_type": "code",
   "execution_count": 7,
   "metadata": {},
   "outputs": [],
   "source": [
    "# let`s see to 4-th column\n",
    "X = train_dataset[:,0:600]\n",
    "Y = train_dataset[:,600]\n",
    "\n",
    "X_test = test_dataset[:,0:600]\n",
    "y_test = test_dataset[:,600]\n",
    "\n",
    "X_train, y_train, X_val, y_val = random_split_train_val(X, Y, 212)"
   ]
  },
  {
   "cell_type": "code",
   "execution_count": 8,
   "metadata": {
    "scrolled": true
   },
   "outputs": [
    {
     "data": {
      "text/plain": [
       "0.010000000000001563"
      ]
     },
     "execution_count": 8,
     "metadata": {},
     "output_type": "execute_result"
    }
   ],
   "source": [
    "# 4-th column = sum of 1,2,3 columns\n",
    "x = X_train[1].reshape(4, 150)\n",
    "np.max(np.sum(x[:3, :], axis=0) - x[-1])"
   ]
  },
  {
   "cell_type": "code",
   "execution_count": 10,
   "metadata": {},
   "outputs": [],
   "source": [
    "# no need for features linear combination \n",
    "X = train_dataset[:,0:450]\n",
    "Y = train_dataset[:,600]"
   ]
  },
  {
   "cell_type": "code",
   "execution_count": 11,
   "metadata": {},
   "outputs": [],
   "source": [
    "# Выходной слой с 5 - прямой, боковой, апперкот, уракен, передвижения без ударов\n",
    "num_classes = 5"
   ]
  },
  {
   "cell_type": "markdown",
   "metadata": {},
   "source": [
    "# Simple multy layer perceptron"
   ]
  },
  {
   "cell_type": "code",
   "execution_count": 12,
   "metadata": {},
   "outputs": [],
   "source": [
    "X_test = test_dataset[:,0:450]\n",
    "y_test = test_dataset[:,600]\n",
    "\n",
    "X_train, y_train, X_val, y_val = random_split_train_val(X, Y, 212)"
   ]
  },
  {
   "cell_type": "code",
   "execution_count": 13,
   "metadata": {},
   "outputs": [],
   "source": [
    "mlp = Sequential([\n",
    "    Dense(450, activation='sigmoid'),\n",
    "    Dense(1024, activation='sigmoid'),\n",
    "    Dense(256, activation='sigmoid'),\n",
    "    Dense(128, activation='sigmoid'),\n",
    "    Dense(5, activation='sigmoid')\n",
    "])\n",
    "\n",
    "mlp.compile(loss='sparse_categorical_crossentropy', optimizer='adam', metrics=['accuracy'])"
   ]
  },
  {
   "cell_type": "code",
   "execution_count": 14,
   "metadata": {
    "scrolled": true
   },
   "outputs": [
    {
     "name": "stdout",
     "output_type": "stream",
     "text": [
      "Epoch 1/100\n",
      "54/54 [==============================] - 1s 10ms/step - loss: 1.6094 - accuracy: 0.2494 - val_loss: 1.2788 - val_accuracy: 0.4811\n",
      "Epoch 2/100\n",
      "54/54 [==============================] - 0s 8ms/step - loss: 1.1810 - accuracy: 0.5100 - val_loss: 1.0723 - val_accuracy: 0.5896\n",
      "Epoch 3/100\n",
      "54/54 [==============================] - 0s 8ms/step - loss: 0.8742 - accuracy: 0.7103 - val_loss: 0.7967 - val_accuracy: 0.7453\n",
      "Epoch 4/100\n",
      "54/54 [==============================] - 0s 8ms/step - loss: 0.5130 - accuracy: 0.8544 - val_loss: 0.5605 - val_accuracy: 0.8302\n",
      "Epoch 5/100\n",
      "54/54 [==============================] - 0s 8ms/step - loss: 0.3387 - accuracy: 0.9110 - val_loss: 0.5366 - val_accuracy: 0.8396\n",
      "Epoch 6/100\n",
      "54/54 [==============================] - 0s 8ms/step - loss: 0.2455 - accuracy: 0.9405 - val_loss: 0.5607 - val_accuracy: 0.8160\n",
      "Epoch 7/100\n",
      "54/54 [==============================] - 0s 8ms/step - loss: 0.2380 - accuracy: 0.9343 - val_loss: 0.5911 - val_accuracy: 0.8349\n",
      "Epoch 8/100\n",
      "54/54 [==============================] - 0s 9ms/step - loss: 0.1365 - accuracy: 0.9687 - val_loss: 0.5341 - val_accuracy: 0.8491\n",
      "Epoch 9/100\n",
      "54/54 [==============================] - 0s 8ms/step - loss: 0.1079 - accuracy: 0.9758 - val_loss: 0.5332 - val_accuracy: 0.8443\n",
      "Epoch 10/100\n",
      "54/54 [==============================] - 0s 8ms/step - loss: 0.0860 - accuracy: 0.9763 - val_loss: 0.4774 - val_accuracy: 0.8585\n",
      "Epoch 11/100\n",
      "54/54 [==============================] - 0s 8ms/step - loss: 0.0605 - accuracy: 0.9830 - val_loss: 0.5221 - val_accuracy: 0.8632\n",
      "Epoch 12/100\n",
      "54/54 [==============================] - 0s 9ms/step - loss: 0.0410 - accuracy: 0.9882 - val_loss: 0.6333 - val_accuracy: 0.8208\n",
      "Epoch 13/100\n",
      "54/54 [==============================] - 0s 8ms/step - loss: 0.1873 - accuracy: 0.9410 - val_loss: 0.6113 - val_accuracy: 0.8255\n",
      "Epoch 14/100\n",
      "54/54 [==============================] - 0s 8ms/step - loss: 0.0964 - accuracy: 0.9650 - val_loss: 0.6139 - val_accuracy: 0.8396\n",
      "Epoch 15/100\n",
      "54/54 [==============================] - 0s 8ms/step - loss: 0.1050 - accuracy: 0.9640 - val_loss: 0.6978 - val_accuracy: 0.8255\n",
      "Epoch 16/100\n",
      "54/54 [==============================] - 0s 8ms/step - loss: 0.1048 - accuracy: 0.9698 - val_loss: 0.5802 - val_accuracy: 0.8538\n",
      "Epoch 17/100\n",
      "54/54 [==============================] - 0s 8ms/step - loss: 0.0617 - accuracy: 0.9836 - val_loss: 0.6497 - val_accuracy: 0.8349\n",
      "Epoch 18/100\n",
      "54/54 [==============================] - 0s 8ms/step - loss: 0.0762 - accuracy: 0.9731 - val_loss: 0.4927 - val_accuracy: 0.8868\n",
      "Epoch 19/100\n",
      "54/54 [==============================] - 0s 8ms/step - loss: 0.0422 - accuracy: 0.9888 - val_loss: 0.5640 - val_accuracy: 0.8726\n",
      "Epoch 20/100\n",
      "54/54 [==============================] - 0s 8ms/step - loss: 0.0220 - accuracy: 0.9955 - val_loss: 0.4816 - val_accuracy: 0.8821\n",
      "Epoch 21/100\n",
      "54/54 [==============================] - 0s 8ms/step - loss: 0.0056 - accuracy: 1.0000 - val_loss: 0.5093 - val_accuracy: 0.8821\n",
      "Epoch 22/100\n",
      "54/54 [==============================] - 0s 8ms/step - loss: 0.0041 - accuracy: 1.0000 - val_loss: 0.5060 - val_accuracy: 0.8868\n",
      "Epoch 23/100\n",
      "54/54 [==============================] - 0s 8ms/step - loss: 0.0032 - accuracy: 1.0000 - val_loss: 0.5062 - val_accuracy: 0.8821\n",
      "Epoch 24/100\n",
      "54/54 [==============================] - 0s 9ms/step - loss: 0.0031 - accuracy: 1.0000 - val_loss: 0.5136 - val_accuracy: 0.8868\n",
      "Epoch 25/100\n",
      "54/54 [==============================] - 1s 11ms/step - loss: 0.0027 - accuracy: 1.0000 - val_loss: 0.5189 - val_accuracy: 0.8821\n",
      "Epoch 26/100\n",
      "54/54 [==============================] - 0s 9ms/step - loss: 0.0026 - accuracy: 1.0000 - val_loss: 0.5232 - val_accuracy: 0.8774\n",
      "Epoch 27/100\n",
      "54/54 [==============================] - 1s 10ms/step - loss: 0.0021 - accuracy: 1.0000 - val_loss: 0.5244 - val_accuracy: 0.8821\n",
      "Epoch 28/100\n",
      "54/54 [==============================] - 0s 8ms/step - loss: 0.0022 - accuracy: 1.0000 - val_loss: 0.5319 - val_accuracy: 0.8774\n",
      "Epoch 29/100\n",
      "54/54 [==============================] - 0s 8ms/step - loss: 0.0021 - accuracy: 1.0000 - val_loss: 0.5342 - val_accuracy: 0.8726\n",
      "Epoch 30/100\n",
      "54/54 [==============================] - 0s 9ms/step - loss: 0.0018 - accuracy: 1.0000 - val_loss: 0.5380 - val_accuracy: 0.8774\n",
      "Epoch 31/100\n",
      "54/54 [==============================] - 0s 9ms/step - loss: 0.0017 - accuracy: 1.0000 - val_loss: 0.5439 - val_accuracy: 0.8726\n",
      "Epoch 32/100\n",
      "54/54 [==============================] - 0s 8ms/step - loss: 0.0016 - accuracy: 1.0000 - val_loss: 0.5477 - val_accuracy: 0.8726\n",
      "Epoch 33/100\n",
      "54/54 [==============================] - 0s 8ms/step - loss: 0.0015 - accuracy: 1.0000 - val_loss: 0.5515 - val_accuracy: 0.8726\n",
      "Epoch 34/100\n",
      "54/54 [==============================] - 0s 8ms/step - loss: 0.0013 - accuracy: 1.0000 - val_loss: 0.5543 - val_accuracy: 0.8726\n",
      "Epoch 35/100\n",
      "54/54 [==============================] - 0s 8ms/step - loss: 0.0013 - accuracy: 1.0000 - val_loss: 0.5574 - val_accuracy: 0.8726\n",
      "Epoch 36/100\n",
      "54/54 [==============================] - 0s 8ms/step - loss: 0.0012 - accuracy: 1.0000 - val_loss: 0.5605 - val_accuracy: 0.8726\n",
      "Epoch 37/100\n",
      "54/54 [==============================] - 0s 8ms/step - loss: 0.0011 - accuracy: 1.0000 - val_loss: 0.5653 - val_accuracy: 0.8726\n",
      "Epoch 38/100\n",
      "54/54 [==============================] - 0s 9ms/step - loss: 0.0010 - accuracy: 1.0000 - val_loss: 0.5681 - val_accuracy: 0.8726\n",
      "Epoch 39/100\n",
      "54/54 [==============================] - 0s 8ms/step - loss: 9.3794e-04 - accuracy: 1.0000 - val_loss: 0.5707 - val_accuracy: 0.8726\n",
      "Epoch 40/100\n",
      "54/54 [==============================] - 0s 8ms/step - loss: 0.0010 - accuracy: 1.0000 - val_loss: 0.5758 - val_accuracy: 0.8726\n",
      "Epoch 41/100\n",
      "54/54 [==============================] - 0s 8ms/step - loss: 9.1549e-04 - accuracy: 1.0000 - val_loss: 0.5790 - val_accuracy: 0.8726\n",
      "Epoch 42/100\n",
      "54/54 [==============================] - 0s 8ms/step - loss: 8.5650e-04 - accuracy: 1.0000 - val_loss: 0.5822 - val_accuracy: 0.8726\n",
      "Epoch 43/100\n",
      "54/54 [==============================] - 0s 9ms/step - loss: 8.8816e-04 - accuracy: 1.0000 - val_loss: 0.5851 - val_accuracy: 0.8726\n",
      "Epoch 44/100\n",
      "54/54 [==============================] - 0s 9ms/step - loss: 7.6982e-04 - accuracy: 1.0000 - val_loss: 0.5880 - val_accuracy: 0.8726\n",
      "Epoch 45/100\n",
      "54/54 [==============================] - 0s 8ms/step - loss: 7.2730e-04 - accuracy: 1.0000 - val_loss: 0.5911 - val_accuracy: 0.8726\n",
      "Epoch 46/100\n",
      "54/54 [==============================] - 0s 8ms/step - loss: 7.4344e-04 - accuracy: 1.0000 - val_loss: 0.5949 - val_accuracy: 0.8726\n",
      "Epoch 47/100\n",
      "54/54 [==============================] - 0s 8ms/step - loss: 6.9351e-04 - accuracy: 1.0000 - val_loss: 0.5964 - val_accuracy: 0.8726\n",
      "Epoch 48/100\n",
      "54/54 [==============================] - 0s 9ms/step - loss: 6.0899e-04 - accuracy: 1.0000 - val_loss: 0.5999 - val_accuracy: 0.8774\n",
      "Epoch 49/100\n",
      "54/54 [==============================] - 0s 9ms/step - loss: 6.4414e-04 - accuracy: 1.0000 - val_loss: 0.6022 - val_accuracy: 0.8726\n",
      "Epoch 50/100\n",
      "54/54 [==============================] - 0s 8ms/step - loss: 6.0843e-04 - accuracy: 1.0000 - val_loss: 0.6054 - val_accuracy: 0.8774\n",
      "Epoch 51/100\n",
      "54/54 [==============================] - 0s 8ms/step - loss: 5.8969e-04 - accuracy: 1.0000 - val_loss: 0.6075 - val_accuracy: 0.8774\n",
      "Epoch 52/100\n",
      "54/54 [==============================] - 0s 9ms/step - loss: 5.2715e-04 - accuracy: 1.0000 - val_loss: 0.6112 - val_accuracy: 0.8774\n",
      "Epoch 53/100\n",
      "54/54 [==============================] - 0s 9ms/step - loss: 4.9978e-04 - accuracy: 1.0000 - val_loss: 0.6135 - val_accuracy: 0.8774\n",
      "Epoch 54/100\n",
      "54/54 [==============================] - 0s 9ms/step - loss: 5.1597e-04 - accuracy: 1.0000 - val_loss: 0.6162 - val_accuracy: 0.8774\n",
      "Epoch 55/100\n",
      "54/54 [==============================] - 0s 9ms/step - loss: 4.7589e-04 - accuracy: 1.0000 - val_loss: 0.6201 - val_accuracy: 0.8774\n",
      "Epoch 56/100\n",
      "54/54 [==============================] - 1s 10ms/step - loss: 4.6552e-04 - accuracy: 1.0000 - val_loss: 0.6215 - val_accuracy: 0.8774\n",
      "Epoch 57/100\n",
      "54/54 [==============================] - 0s 9ms/step - loss: 4.7382e-04 - accuracy: 1.0000 - val_loss: 0.6240 - val_accuracy: 0.8774\n",
      "Epoch 58/100\n"
     ]
    },
    {
     "name": "stdout",
     "output_type": "stream",
     "text": [
      "54/54 [==============================] - 0s 8ms/step - loss: 4.2718e-04 - accuracy: 1.0000 - val_loss: 0.6261 - val_accuracy: 0.8774\n",
      "Epoch 59/100\n",
      "54/54 [==============================] - 0s 8ms/step - loss: 4.1375e-04 - accuracy: 1.0000 - val_loss: 0.6294 - val_accuracy: 0.8774\n",
      "Epoch 60/100\n",
      "54/54 [==============================] - 0s 8ms/step - loss: 4.0369e-04 - accuracy: 1.0000 - val_loss: 0.6319 - val_accuracy: 0.8774\n",
      "Epoch 61/100\n",
      "54/54 [==============================] - 0s 8ms/step - loss: 3.9192e-04 - accuracy: 1.0000 - val_loss: 0.6344 - val_accuracy: 0.8774\n",
      "Epoch 62/100\n",
      "54/54 [==============================] - 0s 8ms/step - loss: 3.6170e-04 - accuracy: 1.0000 - val_loss: 0.6364 - val_accuracy: 0.8774\n",
      "Epoch 63/100\n",
      "54/54 [==============================] - 0s 9ms/step - loss: 3.5590e-04 - accuracy: 1.0000 - val_loss: 0.6383 - val_accuracy: 0.8774\n",
      "Epoch 64/100\n",
      "54/54 [==============================] - 0s 9ms/step - loss: 3.5202e-04 - accuracy: 1.0000 - val_loss: 0.6408 - val_accuracy: 0.8774\n",
      "Epoch 65/100\n",
      "54/54 [==============================] - 0s 9ms/step - loss: 3.1927e-04 - accuracy: 1.0000 - val_loss: 0.6444 - val_accuracy: 0.8774\n",
      "Epoch 66/100\n",
      "54/54 [==============================] - 0s 8ms/step - loss: 3.2527e-04 - accuracy: 1.0000 - val_loss: 0.6465 - val_accuracy: 0.8774\n",
      "Epoch 67/100\n",
      "54/54 [==============================] - 0s 9ms/step - loss: 2.9460e-04 - accuracy: 1.0000 - val_loss: 0.6481 - val_accuracy: 0.8774\n",
      "Epoch 68/100\n",
      "54/54 [==============================] - 0s 8ms/step - loss: 2.9548e-04 - accuracy: 1.0000 - val_loss: 0.6516 - val_accuracy: 0.8774\n",
      "Epoch 69/100\n",
      "54/54 [==============================] - 1s 9ms/step - loss: 2.8557e-04 - accuracy: 1.0000 - val_loss: 0.6540 - val_accuracy: 0.8774\n",
      "Epoch 70/100\n",
      "54/54 [==============================] - 0s 8ms/step - loss: 2.7048e-04 - accuracy: 1.0000 - val_loss: 0.6566 - val_accuracy: 0.8774\n",
      "Epoch 71/100\n",
      "54/54 [==============================] - 0s 8ms/step - loss: 2.7368e-04 - accuracy: 1.0000 - val_loss: 0.6587 - val_accuracy: 0.8774\n",
      "Epoch 72/100\n",
      "54/54 [==============================] - 0s 8ms/step - loss: 2.4370e-04 - accuracy: 1.0000 - val_loss: 0.6610 - val_accuracy: 0.8774\n",
      "Epoch 73/100\n",
      "54/54 [==============================] - 1s 10ms/step - loss: 2.3765e-04 - accuracy: 1.0000 - val_loss: 0.6629 - val_accuracy: 0.8774\n",
      "Epoch 74/100\n",
      "54/54 [==============================] - 0s 8ms/step - loss: 2.4312e-04 - accuracy: 1.0000 - val_loss: 0.6656 - val_accuracy: 0.8774\n",
      "Epoch 75/100\n",
      "54/54 [==============================] - 0s 8ms/step - loss: 2.2025e-04 - accuracy: 1.0000 - val_loss: 0.6680 - val_accuracy: 0.8774\n",
      "Epoch 76/100\n",
      "54/54 [==============================] - 0s 8ms/step - loss: 2.3098e-04 - accuracy: 1.0000 - val_loss: 0.6700 - val_accuracy: 0.8774\n",
      "Epoch 77/100\n",
      "54/54 [==============================] - 0s 8ms/step - loss: 2.1233e-04 - accuracy: 1.0000 - val_loss: 0.6716 - val_accuracy: 0.8774\n",
      "Epoch 78/100\n",
      "54/54 [==============================] - 0s 8ms/step - loss: 2.0377e-04 - accuracy: 1.0000 - val_loss: 0.6752 - val_accuracy: 0.8774\n",
      "Epoch 79/100\n",
      "54/54 [==============================] - 1s 10ms/step - loss: 2.0202e-04 - accuracy: 1.0000 - val_loss: 0.6768 - val_accuracy: 0.8774\n",
      "Epoch 80/100\n",
      "54/54 [==============================] - 1s 10ms/step - loss: 1.9149e-04 - accuracy: 1.0000 - val_loss: 0.6800 - val_accuracy: 0.8774\n",
      "Epoch 81/100\n",
      "54/54 [==============================] - 0s 9ms/step - loss: 1.8928e-04 - accuracy: 1.0000 - val_loss: 0.6821 - val_accuracy: 0.8774\n",
      "Epoch 82/100\n",
      "54/54 [==============================] - 0s 8ms/step - loss: 1.7794e-04 - accuracy: 1.0000 - val_loss: 0.6832 - val_accuracy: 0.8774\n",
      "Epoch 83/100\n",
      "54/54 [==============================] - 0s 8ms/step - loss: 1.7673e-04 - accuracy: 1.0000 - val_loss: 0.6861 - val_accuracy: 0.8774\n",
      "Epoch 84/100\n",
      "54/54 [==============================] - 0s 8ms/step - loss: 1.6996e-04 - accuracy: 1.0000 - val_loss: 0.6879 - val_accuracy: 0.8774\n",
      "Epoch 85/100\n",
      "54/54 [==============================] - 0s 8ms/step - loss: 1.6912e-04 - accuracy: 1.0000 - val_loss: 0.6907 - val_accuracy: 0.8774\n",
      "Epoch 86/100\n",
      "54/54 [==============================] - 0s 9ms/step - loss: 1.7263e-04 - accuracy: 1.0000 - val_loss: 0.6931 - val_accuracy: 0.8726\n",
      "Epoch 87/100\n",
      "54/54 [==============================] - 1s 10ms/step - loss: 1.5808e-04 - accuracy: 1.0000 - val_loss: 0.6953 - val_accuracy: 0.8726\n",
      "Epoch 88/100\n",
      "54/54 [==============================] - 0s 8ms/step - loss: 1.5274e-04 - accuracy: 1.0000 - val_loss: 0.6975 - val_accuracy: 0.8726\n",
      "Epoch 89/100\n",
      "54/54 [==============================] - 0s 8ms/step - loss: 1.4478e-04 - accuracy: 1.0000 - val_loss: 0.6992 - val_accuracy: 0.8726\n",
      "Epoch 90/100\n",
      "54/54 [==============================] - 0s 8ms/step - loss: 1.3353e-04 - accuracy: 1.0000 - val_loss: 0.7019 - val_accuracy: 0.8726\n",
      "Epoch 91/100\n",
      "54/54 [==============================] - 0s 8ms/step - loss: 1.3291e-04 - accuracy: 1.0000 - val_loss: 0.7044 - val_accuracy: 0.8726\n",
      "Epoch 92/100\n",
      "54/54 [==============================] - 0s 8ms/step - loss: 1.3922e-04 - accuracy: 1.0000 - val_loss: 0.7064 - val_accuracy: 0.8726\n",
      "Epoch 93/100\n",
      "54/54 [==============================] - 0s 8ms/step - loss: 1.2826e-04 - accuracy: 1.0000 - val_loss: 0.7085 - val_accuracy: 0.8726\n",
      "Epoch 94/100\n",
      "54/54 [==============================] - 0s 8ms/step - loss: 1.3125e-04 - accuracy: 1.0000 - val_loss: 0.7107 - val_accuracy: 0.8726\n",
      "Epoch 95/100\n",
      "54/54 [==============================] - 0s 8ms/step - loss: 1.1743e-04 - accuracy: 1.0000 - val_loss: 0.7131 - val_accuracy: 0.8726\n",
      "Epoch 96/100\n",
      "54/54 [==============================] - 0s 8ms/step - loss: 1.1662e-04 - accuracy: 1.0000 - val_loss: 0.7148 - val_accuracy: 0.8726\n",
      "Epoch 97/100\n",
      "54/54 [==============================] - 0s 8ms/step - loss: 1.1606e-04 - accuracy: 1.0000 - val_loss: 0.7169 - val_accuracy: 0.8726\n",
      "Epoch 98/100\n",
      "54/54 [==============================] - 0s 8ms/step - loss: 1.0994e-04 - accuracy: 1.0000 - val_loss: 0.7189 - val_accuracy: 0.8726\n",
      "Epoch 99/100\n",
      "54/54 [==============================] - 0s 9ms/step - loss: 1.0616e-04 - accuracy: 1.0000 - val_loss: 0.7193 - val_accuracy: 0.8726\n",
      "Epoch 100/100\n",
      "54/54 [==============================] - 0s 8ms/step - loss: 1.0081e-04 - accuracy: 1.0000 - val_loss: 0.7225 - val_accuracy: 0.8726\n"
     ]
    }
   ],
   "source": [
    "mlp_history = mlp.fit(X_train, y_train, validation_data=(X_val, y_val),\n",
    "                    epochs=100, batch_size=32,  verbose=1)"
   ]
  },
  {
   "cell_type": "code",
   "execution_count": 15,
   "metadata": {},
   "outputs": [
    {
     "name": "stdout",
     "output_type": "stream",
     "text": [
      "2/2 [==============================] - 0s 3ms/step - loss: 8.6297e-05 - accuracy: 1.0000\n"
     ]
    }
   ],
   "source": [
    "results = mlp.evaluate(X_test, y_test, batch_size=32)"
   ]
  },
  {
   "cell_type": "code",
   "execution_count": 16,
   "metadata": {},
   "outputs": [
    {
     "data": {
      "text/plain": [
       "[<matplotlib.lines.Line2D at 0x7f5540698880>]"
      ]
     },
     "execution_count": 16,
     "metadata": {},
     "output_type": "execute_result"
    },
    {
     "data": {
      "image/png": "[encoded data removed]",
      "text/plain": [
       "<Figure size 432x288 with 1 Axes>"
      ]
     },
     "metadata": {
      "needs_background": "light"
     },
     "output_type": "display_data"
    }
   ],
   "source": [
    "plt.plot(mlp_history.history['loss'],  color='red')\n",
    "plt.plot(mlp_history.history['accuracy'],  color='green')\n",
    "plt.plot(mlp_history.history['val_accuracy'], color='blue')"
   ]
  },
  {
   "cell_type": "markdown",
   "metadata": {},
   "source": [
    "# Convolution Net from Keras tutorial"
   ]
  },
  {
   "cell_type": "code",
   "execution_count": 17,
   "metadata": {},
   "outputs": [],
   "source": [
    "X_test = test_dataset[:,0:450]\n",
    "y_test = test_dataset[:,600]\n",
    "\n",
    "X_train, y_train, X_val, y_val = random_split_train_val(X, Y, 212)\n",
    "X_train = np.expand_dims(X_train, axis=-1)\n",
    "X_test = np.expand_dims(X_test, axis=-1)\n",
    "X_val = np.expand_dims(X_val, axis=-1)"
   ]
  },
  {
   "cell_type": "code",
   "execution_count": 18,
   "metadata": {},
   "outputs": [],
   "source": [
    "conv_model = Sequential([\n",
    "    Input(X_train.shape[1:]),\n",
    "    Conv1D(filters=64, kernel_size=3, padding='same'),\n",
    "    BatchNormalization(),\n",
    "    ReLU(),\n",
    "    \n",
    "    Conv1D(filters=64, kernel_size=3, padding='same'),\n",
    "    BatchNormalization(),\n",
    "    ReLU(),\n",
    "    \n",
    "    Conv1D(filters=64, kernel_size=3, padding='same'),\n",
    "    BatchNormalization(),\n",
    "    ReLU(),\n",
    "    \n",
    "    GlobalAveragePooling1D(),\n",
    "    Dense(num_classes, activation='sigmoid')\n",
    "])\n",
    "\n",
    "conv_model.compile(loss='sparse_categorical_crossentropy', \n",
    "              optimizer='adam', metrics=['accuracy'])"
   ]
  },
  {
   "cell_type": "code",
   "execution_count": 19,
   "metadata": {
    "scrolled": true
   },
   "outputs": [
    {
     "name": "stdout",
     "output_type": "stream",
     "text": [
      "Epoch 1/100\n",
      "54/54 [==============================] - 4s 69ms/step - loss: 1.4128 - accuracy: 0.4304 - val_loss: 1.4922 - val_accuracy: 0.2594\n",
      "Epoch 2/100\n",
      "54/54 [==============================] - 4s 66ms/step - loss: 1.2016 - accuracy: 0.6123 - val_loss: 1.3827 - val_accuracy: 0.3208\n",
      "Epoch 3/100\n",
      "54/54 [==============================] - 4s 66ms/step - loss: 1.0837 - accuracy: 0.6601 - val_loss: 1.4175 - val_accuracy: 0.3679\n",
      "Epoch 4/100\n",
      "54/54 [==============================] - 4s 70ms/step - loss: 1.0198 - accuracy: 0.6776 - val_loss: 1.4009 - val_accuracy: 0.3726\n",
      "Epoch 5/100\n",
      "54/54 [==============================] - 4s 70ms/step - loss: 0.9647 - accuracy: 0.6737 - val_loss: 1.4127 - val_accuracy: 0.3491\n",
      "Epoch 6/100\n",
      "54/54 [==============================] - 4s 73ms/step - loss: 0.9361 - accuracy: 0.6748 - val_loss: 1.1951 - val_accuracy: 0.4151\n",
      "Epoch 7/100\n",
      "54/54 [==============================] - 4s 66ms/step - loss: 0.8958 - accuracy: 0.7123 - val_loss: 1.4791 - val_accuracy: 0.4481\n",
      "Epoch 8/100\n",
      "54/54 [==============================] - 4s 66ms/step - loss: 0.8672 - accuracy: 0.6929 - val_loss: 1.1420 - val_accuracy: 0.5283\n",
      "Epoch 9/100\n",
      "54/54 [==============================] - 4s 65ms/step - loss: 0.8440 - accuracy: 0.7180 - val_loss: 1.4767 - val_accuracy: 0.4387\n",
      "Epoch 10/100\n",
      "54/54 [==============================] - 4s 65ms/step - loss: 0.8013 - accuracy: 0.7236 - val_loss: 0.9024 - val_accuracy: 0.6792\n",
      "Epoch 11/100\n",
      "54/54 [==============================] - 4s 65ms/step - loss: 0.8041 - accuracy: 0.7174 - val_loss: 0.9545 - val_accuracy: 0.5943\n",
      "Epoch 12/100\n",
      "54/54 [==============================] - 4s 65ms/step - loss: 0.7634 - accuracy: 0.7294 - val_loss: 0.7862 - val_accuracy: 0.6981\n",
      "Epoch 13/100\n",
      "54/54 [==============================] - 4s 65ms/step - loss: 0.7331 - accuracy: 0.7399 - val_loss: 0.9982 - val_accuracy: 0.5613\n",
      "Epoch 14/100\n",
      "54/54 [==============================] - 4s 65ms/step - loss: 0.7173 - accuracy: 0.7517 - val_loss: 0.8850 - val_accuracy: 0.5991\n",
      "Epoch 15/100\n",
      "54/54 [==============================] - 4s 66ms/step - loss: 0.7708 - accuracy: 0.7117 - val_loss: 0.8218 - val_accuracy: 0.6651\n",
      "Epoch 16/100\n",
      "54/54 [==============================] - 4s 66ms/step - loss: 0.7027 - accuracy: 0.7682 - val_loss: 0.9940 - val_accuracy: 0.5142\n",
      "Epoch 17/100\n",
      "54/54 [==============================] - 4s 65ms/step - loss: 0.6897 - accuracy: 0.7632 - val_loss: 1.2338 - val_accuracy: 0.5236\n",
      "Epoch 18/100\n",
      "54/54 [==============================] - 4s 65ms/step - loss: 0.7272 - accuracy: 0.7554 - val_loss: 0.9994 - val_accuracy: 0.5613\n",
      "Epoch 19/100\n",
      "54/54 [==============================] - 4s 73ms/step - loss: 0.6768 - accuracy: 0.7722 - val_loss: 0.9077 - val_accuracy: 0.5991\n",
      "Epoch 20/100\n",
      "54/54 [==============================] - 4s 77ms/step - loss: 0.6210 - accuracy: 0.8073 - val_loss: 1.1178 - val_accuracy: 0.5142\n",
      "Epoch 21/100\n",
      "54/54 [==============================] - 4s 70ms/step - loss: 0.6942 - accuracy: 0.7711 - val_loss: 0.7067 - val_accuracy: 0.7500\n",
      "Epoch 22/100\n",
      "54/54 [==============================] - 4s 71ms/step - loss: 0.6623 - accuracy: 0.7778 - val_loss: 1.0830 - val_accuracy: 0.5613\n",
      "Epoch 23/100\n",
      "54/54 [==============================] - 4s 69ms/step - loss: 0.6121 - accuracy: 0.8025 - val_loss: 0.8692 - val_accuracy: 0.6415\n",
      "Epoch 24/100\n",
      "54/54 [==============================] - 4s 69ms/step - loss: 0.6079 - accuracy: 0.7953 - val_loss: 0.9386 - val_accuracy: 0.5519\n",
      "Epoch 25/100\n",
      "54/54 [==============================] - 4s 69ms/step - loss: 0.6004 - accuracy: 0.8074 - val_loss: 1.0973 - val_accuracy: 0.6462\n",
      "Epoch 26/100\n",
      " 3/54 [>.............................] - ETA: 3s - loss: 0.7097 - accuracy: 0.7031"
     ]
    },
    {
     "ename": "KeyboardInterrupt",
     "evalue": "",
     "output_type": "error",
     "traceback": [
      "\u001b[0;31m---------------------------------------------------------------------------\u001b[0m",
      "\u001b[0;31mKeyboardInterrupt\u001b[0m                         Traceback (most recent call last)",
      "\u001b[0;32m<ipython-input-19-f25ca6484b12>\u001b[0m in \u001b[0;36m<module>\u001b[0;34m\u001b[0m\n\u001b[0;32m----> 1\u001b[0;31m history = conv_model.fit(X_train, y_train, validation_data=(X_val, y_val),\n\u001b[0m\u001b[1;32m      2\u001b[0m                     epochs=100, batch_size=32,  verbose=1)\n",
      "\u001b[0;32m~/miniconda3/lib/python3.8/site-packages/tensorflow/python/keras/engine/training.py\u001b[0m in \u001b[0;36mfit\u001b[0;34m(self, x, y, batch_size, epochs, verbose, callbacks, validation_split, validation_data, shuffle, class_weight, sample_weight, initial_epoch, steps_per_epoch, validation_steps, validation_batch_size, validation_freq, max_queue_size, workers, use_multiprocessing)\u001b[0m\n\u001b[1;32m   1098\u001b[0m                 _r=1):\n\u001b[1;32m   1099\u001b[0m               \u001b[0mcallbacks\u001b[0m\u001b[0;34m.\u001b[0m\u001b[0mon_train_batch_begin\u001b[0m\u001b[0;34m(\u001b[0m\u001b[0mstep\u001b[0m\u001b[0;34m)\u001b[0m\u001b[0;34m\u001b[0m\u001b[0;34m\u001b[0m\u001b[0m\n\u001b[0;32m-> 1100\u001b[0;31m               \u001b[0mtmp_logs\u001b[0m \u001b[0;34m=\u001b[0m \u001b[0mself\u001b[0m\u001b[0;34m.\u001b[0m\u001b[0mtrain_function\u001b[0m\u001b[0;34m(\u001b[0m\u001b[0miterator\u001b[0m\u001b[0;34m)\u001b[0m\u001b[0;34m\u001b[0m\u001b[0;34m\u001b[0m\u001b[0m\n\u001b[0m\u001b[1;32m   1101\u001b[0m               \u001b[0;32mif\u001b[0m \u001b[0mdata_handler\u001b[0m\u001b[0;34m.\u001b[0m\u001b[0mshould_sync\u001b[0m\u001b[0;34m:\u001b[0m\u001b[0;34m\u001b[0m\u001b[0;34m\u001b[0m\u001b[0m\n\u001b[1;32m   1102\u001b[0m                 \u001b[0mcontext\u001b[0m\u001b[0;34m.\u001b[0m\u001b[0masync_wait\u001b[0m\u001b[0;34m(\u001b[0m\u001b[0;34m)\u001b[0m\u001b[0;34m\u001b[0m\u001b[0;34m\u001b[0m\u001b[0m\n",
      "\u001b[0;32m~/miniconda3/lib/python3.8/site-packages/tensorflow/python/eager/def_function.py\u001b[0m in \u001b[0;36m__call__\u001b[0;34m(self, *args, **kwds)\u001b[0m\n\u001b[1;32m    826\u001b[0m     \u001b[0mtracing_count\u001b[0m \u001b[0;34m=\u001b[0m \u001b[0mself\u001b[0m\u001b[0;34m.\u001b[0m\u001b[0mexperimental_get_tracing_count\u001b[0m\u001b[0;34m(\u001b[0m\u001b[0;34m)\u001b[0m\u001b[0;34m\u001b[0m\u001b[0;34m\u001b[0m\u001b[0m\n\u001b[1;32m    827\u001b[0m     \u001b[0;32mwith\u001b[0m \u001b[0mtrace\u001b[0m\u001b[0;34m.\u001b[0m\u001b[0mTrace\u001b[0m\u001b[0;34m(\u001b[0m\u001b[0mself\u001b[0m\u001b[0;34m.\u001b[0m\u001b[0m_name\u001b[0m\u001b[0;34m)\u001b[0m \u001b[0;32mas\u001b[0m \u001b[0mtm\u001b[0m\u001b[0;34m:\u001b[0m\u001b[0;34m\u001b[0m\u001b[0;34m\u001b[0m\u001b[0m\n\u001b[0;32m--> 828\u001b[0;31m       \u001b[0mresult\u001b[0m \u001b[0;34m=\u001b[0m \u001b[0mself\u001b[0m\u001b[0;34m.\u001b[0m\u001b[0m_call\u001b[0m\u001b[0;34m(\u001b[0m\u001b[0;34m*\u001b[0m\u001b[0margs\u001b[0m\u001b[0;34m,\u001b[0m \u001b[0;34m**\u001b[0m\u001b[0mkwds\u001b[0m\u001b[0;34m)\u001b[0m\u001b[0;34m\u001b[0m\u001b[0;34m\u001b[0m\u001b[0m\n\u001b[0m\u001b[1;32m    829\u001b[0m       \u001b[0mcompiler\u001b[0m \u001b[0;34m=\u001b[0m \u001b[0;34m\"xla\"\u001b[0m \u001b[0;32mif\u001b[0m \u001b[0mself\u001b[0m\u001b[0;34m.\u001b[0m\u001b[0m_experimental_compile\u001b[0m \u001b[0;32melse\u001b[0m \u001b[0;34m\"nonXla\"\u001b[0m\u001b[0;34m\u001b[0m\u001b[0;34m\u001b[0m\u001b[0m\n\u001b[1;32m    830\u001b[0m       \u001b[0mnew_tracing_count\u001b[0m \u001b[0;34m=\u001b[0m \u001b[0mself\u001b[0m\u001b[0;34m.\u001b[0m\u001b[0mexperimental_get_tracing_count\u001b[0m\u001b[0;34m(\u001b[0m\u001b[0;34m)\u001b[0m\u001b[0;34m\u001b[0m\u001b[0;34m\u001b[0m\u001b[0m\n",
      "\u001b[0;32m~/miniconda3/lib/python3.8/site-packages/tensorflow/python/eager/def_function.py\u001b[0m in \u001b[0;36m_call\u001b[0;34m(self, *args, **kwds)\u001b[0m\n\u001b[1;32m    853\u001b[0m       \u001b[0;31m# In this case we have created variables on the first call, so we run the\u001b[0m\u001b[0;34m\u001b[0m\u001b[0;34m\u001b[0m\u001b[0;34m\u001b[0m\u001b[0m\n\u001b[1;32m    854\u001b[0m       \u001b[0;31m# defunned version which is guaranteed to never create variables.\u001b[0m\u001b[0;34m\u001b[0m\u001b[0;34m\u001b[0m\u001b[0;34m\u001b[0m\u001b[0m\n\u001b[0;32m--> 855\u001b[0;31m       \u001b[0;32mreturn\u001b[0m \u001b[0mself\u001b[0m\u001b[0;34m.\u001b[0m\u001b[0m_stateless_fn\u001b[0m\u001b[0;34m(\u001b[0m\u001b[0;34m*\u001b[0m\u001b[0margs\u001b[0m\u001b[0;34m,\u001b[0m \u001b[0;34m**\u001b[0m\u001b[0mkwds\u001b[0m\u001b[0;34m)\u001b[0m  \u001b[0;31m# pylint: disable=not-callable\u001b[0m\u001b[0;34m\u001b[0m\u001b[0;34m\u001b[0m\u001b[0m\n\u001b[0m\u001b[1;32m    856\u001b[0m     \u001b[0;32melif\u001b[0m \u001b[0mself\u001b[0m\u001b[0;34m.\u001b[0m\u001b[0m_stateful_fn\u001b[0m \u001b[0;32mis\u001b[0m \u001b[0;32mnot\u001b[0m \u001b[0;32mNone\u001b[0m\u001b[0;34m:\u001b[0m\u001b[0;34m\u001b[0m\u001b[0;34m\u001b[0m\u001b[0m\n\u001b[1;32m    857\u001b[0m       \u001b[0;31m# Release the lock early so that multiple threads can perform the call\u001b[0m\u001b[0;34m\u001b[0m\u001b[0;34m\u001b[0m\u001b[0;34m\u001b[0m\u001b[0m\n",
      "\u001b[0;32m~/miniconda3/lib/python3.8/site-packages/tensorflow/python/eager/function.py\u001b[0m in \u001b[0;36m__call__\u001b[0;34m(self, *args, **kwargs)\u001b[0m\n\u001b[1;32m   2940\u001b[0m       (graph_function,\n\u001b[1;32m   2941\u001b[0m        filtered_flat_args) = self._maybe_define_function(args, kwargs)\n\u001b[0;32m-> 2942\u001b[0;31m     return graph_function._call_flat(\n\u001b[0m\u001b[1;32m   2943\u001b[0m         filtered_flat_args, captured_inputs=graph_function.captured_inputs)  # pylint: disable=protected-access\n\u001b[1;32m   2944\u001b[0m \u001b[0;34m\u001b[0m\u001b[0m\n",
      "\u001b[0;32m~/miniconda3/lib/python3.8/site-packages/tensorflow/python/eager/function.py\u001b[0m in \u001b[0;36m_call_flat\u001b[0;34m(self, args, captured_inputs, cancellation_manager)\u001b[0m\n\u001b[1;32m   1916\u001b[0m         and executing_eagerly):\n\u001b[1;32m   1917\u001b[0m       \u001b[0;31m# No tape is watching; skip to running the function.\u001b[0m\u001b[0;34m\u001b[0m\u001b[0;34m\u001b[0m\u001b[0;34m\u001b[0m\u001b[0m\n\u001b[0;32m-> 1918\u001b[0;31m       return self._build_call_outputs(self._inference_function.call(\n\u001b[0m\u001b[1;32m   1919\u001b[0m           ctx, args, cancellation_manager=cancellation_manager))\n\u001b[1;32m   1920\u001b[0m     forward_backward = self._select_forward_and_backward_functions(\n",
      "\u001b[0;32m~/miniconda3/lib/python3.8/site-packages/tensorflow/python/eager/function.py\u001b[0m in \u001b[0;36mcall\u001b[0;34m(self, ctx, args, cancellation_manager)\u001b[0m\n\u001b[1;32m    553\u001b[0m       \u001b[0;32mwith\u001b[0m \u001b[0m_InterpolateFunctionError\u001b[0m\u001b[0;34m(\u001b[0m\u001b[0mself\u001b[0m\u001b[0;34m)\u001b[0m\u001b[0;34m:\u001b[0m\u001b[0;34m\u001b[0m\u001b[0;34m\u001b[0m\u001b[0m\n\u001b[1;32m    554\u001b[0m         \u001b[0;32mif\u001b[0m \u001b[0mcancellation_manager\u001b[0m \u001b[0;32mis\u001b[0m \u001b[0;32mNone\u001b[0m\u001b[0;34m:\u001b[0m\u001b[0;34m\u001b[0m\u001b[0;34m\u001b[0m\u001b[0m\n\u001b[0;32m--> 555\u001b[0;31m           outputs = execute.execute(\n\u001b[0m\u001b[1;32m    556\u001b[0m               \u001b[0mstr\u001b[0m\u001b[0;34m(\u001b[0m\u001b[0mself\u001b[0m\u001b[0;34m.\u001b[0m\u001b[0msignature\u001b[0m\u001b[0;34m.\u001b[0m\u001b[0mname\u001b[0m\u001b[0;34m)\u001b[0m\u001b[0;34m,\u001b[0m\u001b[0;34m\u001b[0m\u001b[0;34m\u001b[0m\u001b[0m\n\u001b[1;32m    557\u001b[0m               \u001b[0mnum_outputs\u001b[0m\u001b[0;34m=\u001b[0m\u001b[0mself\u001b[0m\u001b[0;34m.\u001b[0m\u001b[0m_num_outputs\u001b[0m\u001b[0;34m,\u001b[0m\u001b[0;34m\u001b[0m\u001b[0;34m\u001b[0m\u001b[0m\n",
      "\u001b[0;32m~/miniconda3/lib/python3.8/site-packages/tensorflow/python/eager/execute.py\u001b[0m in \u001b[0;36mquick_execute\u001b[0;34m(op_name, num_outputs, inputs, attrs, ctx, name)\u001b[0m\n\u001b[1;32m     57\u001b[0m   \u001b[0;32mtry\u001b[0m\u001b[0;34m:\u001b[0m\u001b[0;34m\u001b[0m\u001b[0;34m\u001b[0m\u001b[0m\n\u001b[1;32m     58\u001b[0m     \u001b[0mctx\u001b[0m\u001b[0;34m.\u001b[0m\u001b[0mensure_initialized\u001b[0m\u001b[0;34m(\u001b[0m\u001b[0;34m)\u001b[0m\u001b[0;34m\u001b[0m\u001b[0;34m\u001b[0m\u001b[0m\n\u001b[0;32m---> 59\u001b[0;31m     tensors = pywrap_tfe.TFE_Py_Execute(ctx._handle, device_name, op_name,\n\u001b[0m\u001b[1;32m     60\u001b[0m                                         inputs, attrs, num_outputs)\n\u001b[1;32m     61\u001b[0m   \u001b[0;32mexcept\u001b[0m \u001b[0mcore\u001b[0m\u001b[0;34m.\u001b[0m\u001b[0m_NotOkStatusException\u001b[0m \u001b[0;32mas\u001b[0m \u001b[0me\u001b[0m\u001b[0;34m:\u001b[0m\u001b[0;34m\u001b[0m\u001b[0;34m\u001b[0m\u001b[0m\n",
      "\u001b[0;31mKeyboardInterrupt\u001b[0m: "
     ]
    }
   ],
   "source": [
    "history = conv_model.fit(X_train, y_train, validation_data=(X_val, y_val),\n",
    "                    epochs=100, batch_size=32,  verbose=1)"
   ]
  },
  {
   "cell_type": "code",
   "execution_count": 237,
   "metadata": {
    "scrolled": false
   },
   "outputs": [
    {
     "name": "stdout",
     "output_type": "stream",
     "text": [
      "2/2 [==============================] - 0s 2ms/step - loss: 0.7683 - accuracy: 0.7317\n"
     ]
    }
   ],
   "source": [
    "results = conv_model.evaluate(X_test, y_test, batch_size=32)"
   ]
  },
  {
   "cell_type": "code",
   "execution_count": 236,
   "metadata": {
    "scrolled": true
   },
   "outputs": [
    {
     "data": {
      "text/plain": [
       "[<matplotlib.lines.Line2D at 0x7f8ea81c7cc0>]"
      ]
     },
     "execution_count": 236,
     "metadata": {},
     "output_type": "execute_result"
    },
    {
     "data": {
      "image/png": "[encoded data removed]",
      "text/plain": [
       "<Figure size 432x288 with 1 Axes>"
      ]
     },
     "metadata": {
      "needs_background": "light"
     },
     "output_type": "display_data"
    }
   ],
   "source": [
    "plt.plot(history.history['loss'],  color='red')\n",
    "plt.plot(history.history['accuracy'],  color='green')\n",
    "plt.plot(history.history['val_accuracy'], color='black')"
   ]
  },
  {
   "cell_type": "markdown",
   "metadata": {},
   "source": [
    "# 2D Convolution Net "
   ]
  },
  {
   "cell_type": "code",
   "execution_count": 238,
   "metadata": {},
   "outputs": [],
   "source": [
    "X_test = test_dataset[:,0:450]\n",
    "y_test = test_dataset[:,600]\n",
    "\n",
    "X_train, y_train, X_val, y_val = random_split_train_val(X, Y, 212)\n",
    "\n",
    "X_train = X_train.reshape(-1, 3, 150, 1)\n",
    "X_test = X_test.reshape(-1, 3, 150, 1)\n",
    "X_val = X_val.reshape(-1, 3, 150, 1)"
   ]
  },
  {
   "cell_type": "code",
   "execution_count": 239,
   "metadata": {},
   "outputs": [],
   "source": [
    "my_conv_model = Sequential([\n",
    "    Input(X_train.shape[1:]),\n",
    "    Conv2D(filters=64, kernel_size=(2, 16)),\n",
    "    BatchNormalization(),\n",
    "    ReLU(),\n",
    "    \n",
    "    Conv2D(filters=64, kernel_size=2),\n",
    "    BatchNormalization(),\n",
    "    ReLU(),\n",
    "    \n",
    "    GlobalAveragePooling2D(),\n",
    "    Dense(num_classes, activation='sigmoid')\n",
    "])\n",
    "\n",
    "my_conv_model.compile(loss='sparse_categorical_crossentropy', \n",
    "              optimizer='adam', metrics=['accuracy'])"
   ]
  },
  {
   "cell_type": "code",
   "execution_count": 240,
   "metadata": {
    "scrolled": true
   },
   "outputs": [
    {
     "name": "stdout",
     "output_type": "stream",
     "text": [
      "Epoch 1/100\n",
      "107/107 [==============================] - 1s 6ms/step - loss: 1.1413 - accuracy: 0.6876 - val_loss: 0.8149 - val_accuracy: 0.7547\n",
      "Epoch 2/100\n",
      "107/107 [==============================] - 1s 5ms/step - loss: 0.7291 - accuracy: 0.8076 - val_loss: 0.5937 - val_accuracy: 0.8396\n",
      "Epoch 3/100\n",
      "107/107 [==============================] - 1s 5ms/step - loss: 0.5524 - accuracy: 0.8524 - val_loss: 0.4694 - val_accuracy: 0.8774\n",
      "Epoch 4/100\n",
      "107/107 [==============================] - 1s 5ms/step - loss: 0.4500 - accuracy: 0.8818 - val_loss: 0.4756 - val_accuracy: 0.8349\n",
      "Epoch 5/100\n",
      "107/107 [==============================] - 1s 5ms/step - loss: 0.3853 - accuracy: 0.8982 - val_loss: 0.3293 - val_accuracy: 0.8962\n",
      "Epoch 6/100\n",
      "107/107 [==============================] - 1s 5ms/step - loss: 0.3496 - accuracy: 0.8976 - val_loss: 0.2485 - val_accuracy: 0.9387\n",
      "Epoch 7/100\n",
      "107/107 [==============================] - 1s 5ms/step - loss: 0.3278 - accuracy: 0.9041 - val_loss: 0.2303 - val_accuracy: 0.9245\n",
      "Epoch 8/100\n",
      "107/107 [==============================] - 0s 5ms/step - loss: 0.3062 - accuracy: 0.9059 - val_loss: 0.2336 - val_accuracy: 0.9292\n",
      "Epoch 9/100\n",
      "107/107 [==============================] - 1s 5ms/step - loss: 0.2863 - accuracy: 0.9165 - val_loss: 0.3302 - val_accuracy: 0.9009\n",
      "Epoch 10/100\n",
      "107/107 [==============================] - 1s 5ms/step - loss: 0.2692 - accuracy: 0.9147 - val_loss: 0.2442 - val_accuracy: 0.9057\n",
      "Epoch 11/100\n",
      "107/107 [==============================] - 1s 5ms/step - loss: 0.2472 - accuracy: 0.9200 - val_loss: 0.2511 - val_accuracy: 0.9198\n",
      "Epoch 12/100\n",
      "107/107 [==============================] - 1s 5ms/step - loss: 0.2258 - accuracy: 0.9335 - val_loss: 0.2034 - val_accuracy: 0.9387\n",
      "Epoch 13/100\n",
      "107/107 [==============================] - 0s 5ms/step - loss: 0.2294 - accuracy: 0.9341 - val_loss: 0.2002 - val_accuracy: 0.9434\n",
      "Epoch 14/100\n",
      "107/107 [==============================] - 0s 5ms/step - loss: 0.2259 - accuracy: 0.9318 - val_loss: 0.1727 - val_accuracy: 0.9434\n",
      "Epoch 15/100\n",
      "107/107 [==============================] - 1s 5ms/step - loss: 0.2111 - accuracy: 0.9300 - val_loss: 0.2767 - val_accuracy: 0.8962\n",
      "Epoch 16/100\n",
      "107/107 [==============================] - 1s 5ms/step - loss: 0.2009 - accuracy: 0.9371 - val_loss: 0.2056 - val_accuracy: 0.9340\n",
      "Epoch 17/100\n",
      "107/107 [==============================] - 1s 5ms/step - loss: 0.2154 - accuracy: 0.9324 - val_loss: 0.1664 - val_accuracy: 0.9434\n",
      "Epoch 18/100\n",
      "107/107 [==============================] - 1s 5ms/step - loss: 0.1944 - accuracy: 0.9388 - val_loss: 0.1711 - val_accuracy: 0.9434\n",
      "Epoch 19/100\n",
      "107/107 [==============================] - 1s 5ms/step - loss: 0.1746 - accuracy: 0.9488 - val_loss: 0.1569 - val_accuracy: 0.9434\n",
      "Epoch 20/100\n",
      "107/107 [==============================] - 1s 5ms/step - loss: 0.1731 - accuracy: 0.9476 - val_loss: 0.2090 - val_accuracy: 0.9104\n",
      "Epoch 21/100\n",
      "107/107 [==============================] - 1s 5ms/step - loss: 0.1796 - accuracy: 0.9471 - val_loss: 0.1462 - val_accuracy: 0.9481\n",
      "Epoch 22/100\n",
      "107/107 [==============================] - 1s 5ms/step - loss: 0.1769 - accuracy: 0.9459 - val_loss: 0.1572 - val_accuracy: 0.9340\n",
      "Epoch 23/100\n",
      "107/107 [==============================] - 1s 5ms/step - loss: 0.1730 - accuracy: 0.9441 - val_loss: 0.1525 - val_accuracy: 0.9340\n",
      "Epoch 24/100\n",
      "107/107 [==============================] - 1s 5ms/step - loss: 0.1587 - accuracy: 0.9482 - val_loss: 0.1136 - val_accuracy: 0.9575\n",
      "Epoch 25/100\n",
      "107/107 [==============================] - 1s 5ms/step - loss: 0.1486 - accuracy: 0.9518 - val_loss: 0.1339 - val_accuracy: 0.9434\n",
      "Epoch 26/100\n",
      "107/107 [==============================] - 1s 5ms/step - loss: 0.1539 - accuracy: 0.9524 - val_loss: 0.1723 - val_accuracy: 0.9245\n",
      "Epoch 27/100\n",
      "107/107 [==============================] - 0s 5ms/step - loss: 0.1501 - accuracy: 0.9559 - val_loss: 0.1486 - val_accuracy: 0.9387\n",
      "Epoch 28/100\n",
      "107/107 [==============================] - 1s 5ms/step - loss: 0.1547 - accuracy: 0.9547 - val_loss: 0.1445 - val_accuracy: 0.9434\n",
      "Epoch 29/100\n",
      "107/107 [==============================] - 1s 5ms/step - loss: 0.1459 - accuracy: 0.9635 - val_loss: 0.1229 - val_accuracy: 0.9528\n",
      "Epoch 30/100\n",
      "107/107 [==============================] - 1s 5ms/step - loss: 0.1422 - accuracy: 0.9576 - val_loss: 0.1510 - val_accuracy: 0.9434\n",
      "Epoch 31/100\n",
      "107/107 [==============================] - 1s 5ms/step - loss: 0.1379 - accuracy: 0.9582 - val_loss: 0.1335 - val_accuracy: 0.9528\n",
      "Epoch 32/100\n",
      "107/107 [==============================] - 1s 5ms/step - loss: 0.1598 - accuracy: 0.9506 - val_loss: 0.1445 - val_accuracy: 0.9481\n",
      "Epoch 33/100\n",
      "107/107 [==============================] - 1s 5ms/step - loss: 0.1770 - accuracy: 0.9435 - val_loss: 0.1639 - val_accuracy: 0.9292\n",
      "Epoch 34/100\n",
      "107/107 [==============================] - 1s 5ms/step - loss: 0.1414 - accuracy: 0.9565 - val_loss: 0.2374 - val_accuracy: 0.9245\n",
      "Epoch 35/100\n",
      "107/107 [==============================] - 1s 5ms/step - loss: 0.1438 - accuracy: 0.9576 - val_loss: 0.1105 - val_accuracy: 0.9623\n",
      "Epoch 36/100\n",
      "107/107 [==============================] - 1s 5ms/step - loss: 0.1203 - accuracy: 0.9665 - val_loss: 0.1394 - val_accuracy: 0.9434\n",
      "Epoch 37/100\n",
      "107/107 [==============================] - 1s 5ms/step - loss: 0.1290 - accuracy: 0.9647 - val_loss: 0.1206 - val_accuracy: 0.9528\n",
      "Epoch 38/100\n",
      "107/107 [==============================] - 0s 5ms/step - loss: 0.1222 - accuracy: 0.9647 - val_loss: 0.1134 - val_accuracy: 0.9575\n",
      "Epoch 39/100\n",
      "107/107 [==============================] - 1s 5ms/step - loss: 0.1259 - accuracy: 0.9547 - val_loss: 0.1246 - val_accuracy: 0.9575\n",
      "Epoch 40/100\n",
      "107/107 [==============================] - 1s 5ms/step - loss: 0.1129 - accuracy: 0.9600 - val_loss: 0.2148 - val_accuracy: 0.9245\n",
      "Epoch 41/100\n",
      "107/107 [==============================] - 1s 5ms/step - loss: 0.1133 - accuracy: 0.9682 - val_loss: 0.1040 - val_accuracy: 0.9528\n",
      "Epoch 42/100\n",
      "107/107 [==============================] - 1s 5ms/step - loss: 0.1086 - accuracy: 0.9671 - val_loss: 0.1468 - val_accuracy: 0.9434\n",
      "Epoch 43/100\n",
      "107/107 [==============================] - 0s 5ms/step - loss: 0.1092 - accuracy: 0.9647 - val_loss: 0.1101 - val_accuracy: 0.9575\n",
      "Epoch 44/100\n",
      "107/107 [==============================] - 0s 5ms/step - loss: 0.1060 - accuracy: 0.9647 - val_loss: 0.1096 - val_accuracy: 0.9528\n",
      "Epoch 45/100\n",
      "107/107 [==============================] - 1s 5ms/step - loss: 0.1102 - accuracy: 0.9688 - val_loss: 0.1093 - val_accuracy: 0.9623\n",
      "Epoch 46/100\n",
      "107/107 [==============================] - 1s 5ms/step - loss: 0.1181 - accuracy: 0.9600 - val_loss: 0.1156 - val_accuracy: 0.9575\n",
      "Epoch 47/100\n",
      "107/107 [==============================] - 1s 5ms/step - loss: 0.1135 - accuracy: 0.9612 - val_loss: 0.1039 - val_accuracy: 0.9481\n",
      "Epoch 48/100\n",
      "107/107 [==============================] - 1s 5ms/step - loss: 0.1365 - accuracy: 0.9553 - val_loss: 0.1082 - val_accuracy: 0.9575\n",
      "Epoch 49/100\n",
      "107/107 [==============================] - 1s 5ms/step - loss: 0.1042 - accuracy: 0.9682 - val_loss: 0.1839 - val_accuracy: 0.9387\n",
      "Epoch 50/100\n",
      "107/107 [==============================] - 0s 5ms/step - loss: 0.1125 - accuracy: 0.9629 - val_loss: 0.0988 - val_accuracy: 0.9528\n",
      "Epoch 51/100\n",
      "107/107 [==============================] - 1s 5ms/step - loss: 0.0990 - accuracy: 0.9724 - val_loss: 0.1118 - val_accuracy: 0.9623\n",
      "Epoch 52/100\n",
      "107/107 [==============================] - 1s 5ms/step - loss: 0.1040 - accuracy: 0.9665 - val_loss: 0.1011 - val_accuracy: 0.9528\n",
      "Epoch 53/100\n",
      "107/107 [==============================] - 1s 5ms/step - loss: 0.1083 - accuracy: 0.9724 - val_loss: 0.0967 - val_accuracy: 0.9670\n",
      "Epoch 54/100\n",
      "107/107 [==============================] - 1s 5ms/step - loss: 0.1017 - accuracy: 0.9647 - val_loss: 0.0985 - val_accuracy: 0.9575\n",
      "Epoch 55/100\n",
      "107/107 [==============================] - 0s 5ms/step - loss: 0.0905 - accuracy: 0.9741 - val_loss: 0.1058 - val_accuracy: 0.9481\n",
      "Epoch 56/100\n",
      "107/107 [==============================] - 1s 5ms/step - loss: 0.1052 - accuracy: 0.9624 - val_loss: 0.0890 - val_accuracy: 0.9670\n",
      "Epoch 57/100\n",
      "107/107 [==============================] - 1s 5ms/step - loss: 0.0864 - accuracy: 0.9759 - val_loss: 0.0945 - val_accuracy: 0.9670\n"
     ]
    },
    {
     "name": "stdout",
     "output_type": "stream",
     "text": [
      "Epoch 58/100\n",
      "107/107 [==============================] - 1s 5ms/step - loss: 0.0992 - accuracy: 0.9682 - val_loss: 0.1095 - val_accuracy: 0.9575\n",
      "Epoch 59/100\n",
      "107/107 [==============================] - 1s 5ms/step - loss: 0.0871 - accuracy: 0.9694 - val_loss: 0.1036 - val_accuracy: 0.9623\n",
      "Epoch 60/100\n",
      "107/107 [==============================] - 1s 5ms/step - loss: 0.1125 - accuracy: 0.9594 - val_loss: 0.0930 - val_accuracy: 0.9575\n",
      "Epoch 61/100\n",
      "107/107 [==============================] - 1s 5ms/step - loss: 0.0840 - accuracy: 0.9741 - val_loss: 0.0970 - val_accuracy: 0.9575\n",
      "Epoch 62/100\n",
      "107/107 [==============================] - 0s 5ms/step - loss: 0.0854 - accuracy: 0.9747 - val_loss: 0.1789 - val_accuracy: 0.9292\n",
      "Epoch 63/100\n",
      "107/107 [==============================] - 1s 5ms/step - loss: 0.0876 - accuracy: 0.9718 - val_loss: 0.0819 - val_accuracy: 0.9670\n",
      "Epoch 64/100\n",
      "107/107 [==============================] - 1s 5ms/step - loss: 0.0928 - accuracy: 0.9741 - val_loss: 0.1093 - val_accuracy: 0.9528\n",
      "Epoch 65/100\n",
      "107/107 [==============================] - 1s 5ms/step - loss: 0.1040 - accuracy: 0.9665 - val_loss: 0.2003 - val_accuracy: 0.9245\n",
      "Epoch 66/100\n",
      "107/107 [==============================] - 1s 5ms/step - loss: 0.0909 - accuracy: 0.9706 - val_loss: 0.0827 - val_accuracy: 0.9670\n",
      "Epoch 67/100\n",
      "107/107 [==============================] - 1s 5ms/step - loss: 0.0890 - accuracy: 0.9747 - val_loss: 0.0962 - val_accuracy: 0.9623\n",
      "Epoch 68/100\n",
      "107/107 [==============================] - 1s 5ms/step - loss: 0.1248 - accuracy: 0.9565 - val_loss: 0.1124 - val_accuracy: 0.9623\n",
      "Epoch 69/100\n",
      "107/107 [==============================] - 1s 5ms/step - loss: 0.1071 - accuracy: 0.9647 - val_loss: 0.1114 - val_accuracy: 0.9528\n",
      "Epoch 70/100\n",
      "107/107 [==============================] - 1s 5ms/step - loss: 0.0867 - accuracy: 0.9735 - val_loss: 0.1020 - val_accuracy: 0.9575\n",
      "Epoch 71/100\n",
      "107/107 [==============================] - 1s 5ms/step - loss: 0.0723 - accuracy: 0.9806 - val_loss: 0.0910 - val_accuracy: 0.9623\n",
      "Epoch 72/100\n",
      "107/107 [==============================] - 1s 5ms/step - loss: 0.0796 - accuracy: 0.9765 - val_loss: 0.1156 - val_accuracy: 0.9481\n",
      "Epoch 73/100\n",
      "107/107 [==============================] - 1s 5ms/step - loss: 0.0777 - accuracy: 0.9759 - val_loss: 0.0961 - val_accuracy: 0.9623\n",
      "Epoch 74/100\n",
      "107/107 [==============================] - 1s 5ms/step - loss: 0.0823 - accuracy: 0.9712 - val_loss: 0.1145 - val_accuracy: 0.9575\n",
      "Epoch 75/100\n",
      "107/107 [==============================] - 1s 5ms/step - loss: 0.1080 - accuracy: 0.9629 - val_loss: 0.0794 - val_accuracy: 0.9623\n",
      "Epoch 76/100\n",
      "107/107 [==============================] - 1s 5ms/step - loss: 0.0888 - accuracy: 0.9747 - val_loss: 0.0925 - val_accuracy: 0.9623\n",
      "Epoch 77/100\n",
      "107/107 [==============================] - 1s 5ms/step - loss: 0.0748 - accuracy: 0.9794 - val_loss: 0.0763 - val_accuracy: 0.9670\n",
      "Epoch 78/100\n",
      "107/107 [==============================] - 1s 5ms/step - loss: 0.0976 - accuracy: 0.9682 - val_loss: 0.0882 - val_accuracy: 0.9575\n",
      "Epoch 79/100\n",
      "107/107 [==============================] - 1s 5ms/step - loss: 0.0718 - accuracy: 0.9753 - val_loss: 0.1032 - val_accuracy: 0.9623\n",
      "Epoch 80/100\n",
      "107/107 [==============================] - 1s 5ms/step - loss: 0.0676 - accuracy: 0.9776 - val_loss: 0.0743 - val_accuracy: 0.9717\n",
      "Epoch 81/100\n",
      "107/107 [==============================] - 1s 5ms/step - loss: 0.0771 - accuracy: 0.9794 - val_loss: 0.1018 - val_accuracy: 0.9623\n",
      "Epoch 82/100\n",
      "107/107 [==============================] - 1s 5ms/step - loss: 0.0820 - accuracy: 0.9741 - val_loss: 0.0970 - val_accuracy: 0.9670\n",
      "Epoch 83/100\n",
      "107/107 [==============================] - 0s 5ms/step - loss: 0.0780 - accuracy: 0.9776 - val_loss: 0.1340 - val_accuracy: 0.9481\n",
      "Epoch 84/100\n",
      "107/107 [==============================] - 1s 5ms/step - loss: 0.0721 - accuracy: 0.9788 - val_loss: 0.0916 - val_accuracy: 0.9575\n",
      "Epoch 85/100\n",
      "107/107 [==============================] - 1s 5ms/step - loss: 0.0824 - accuracy: 0.9747 - val_loss: 0.1124 - val_accuracy: 0.9528\n",
      "Epoch 86/100\n",
      "107/107 [==============================] - 1s 5ms/step - loss: 0.0732 - accuracy: 0.9753 - val_loss: 0.1055 - val_accuracy: 0.9623\n",
      "Epoch 87/100\n",
      "107/107 [==============================] - 1s 5ms/step - loss: 0.0741 - accuracy: 0.9771 - val_loss: 0.1033 - val_accuracy: 0.9528\n",
      "Epoch 88/100\n",
      "107/107 [==============================] - 1s 5ms/step - loss: 0.0727 - accuracy: 0.9759 - val_loss: 0.0657 - val_accuracy: 0.9811\n",
      "Epoch 89/100\n",
      "107/107 [==============================] - 1s 5ms/step - loss: 0.0822 - accuracy: 0.9741 - val_loss: 0.0694 - val_accuracy: 0.9670\n",
      "Epoch 90/100\n",
      "107/107 [==============================] - 1s 5ms/step - loss: 0.0754 - accuracy: 0.9771 - val_loss: 0.0818 - val_accuracy: 0.9623\n",
      "Epoch 91/100\n",
      "107/107 [==============================] - 1s 5ms/step - loss: 0.0635 - accuracy: 0.9835 - val_loss: 0.0886 - val_accuracy: 0.9623\n",
      "Epoch 92/100\n",
      "107/107 [==============================] - 1s 5ms/step - loss: 0.0659 - accuracy: 0.9794 - val_loss: 0.1147 - val_accuracy: 0.9481\n",
      "Epoch 93/100\n",
      "107/107 [==============================] - 1s 5ms/step - loss: 0.0743 - accuracy: 0.9759 - val_loss: 0.0732 - val_accuracy: 0.9623\n",
      "Epoch 94/100\n",
      "107/107 [==============================] - 1s 5ms/step - loss: 0.0889 - accuracy: 0.9700 - val_loss: 0.0774 - val_accuracy: 0.9623\n",
      "Epoch 95/100\n",
      "107/107 [==============================] - 0s 5ms/step - loss: 0.0666 - accuracy: 0.9824 - val_loss: 0.0850 - val_accuracy: 0.9670\n",
      "Epoch 96/100\n",
      "107/107 [==============================] - 1s 5ms/step - loss: 0.0622 - accuracy: 0.9776 - val_loss: 0.1000 - val_accuracy: 0.9575\n",
      "Epoch 97/100\n",
      "107/107 [==============================] - 1s 5ms/step - loss: 0.0768 - accuracy: 0.9771 - val_loss: 0.0900 - val_accuracy: 0.9670\n",
      "Epoch 98/100\n",
      "107/107 [==============================] - 1s 5ms/step - loss: 0.0915 - accuracy: 0.9718 - val_loss: 0.0950 - val_accuracy: 0.9575\n",
      "Epoch 99/100\n",
      "107/107 [==============================] - 1s 5ms/step - loss: 0.0676 - accuracy: 0.9800 - val_loss: 0.1042 - val_accuracy: 0.9575\n",
      "Epoch 100/100\n",
      "107/107 [==============================] - 1s 5ms/step - loss: 0.0704 - accuracy: 0.9782 - val_loss: 0.0821 - val_accuracy: 0.9623\n"
     ]
    }
   ],
   "source": [
    "my_conv_history = my_conv_model.fit(X_train, y_train, validation_data=(X_val, y_val),\n",
    "                    epochs=100, batch_size=16,  verbose=1)"
   ]
  },
  {
   "cell_type": "code",
   "execution_count": 213,
   "metadata": {
    "scrolled": true
   },
   "outputs": [
    {
     "name": "stdout",
     "output_type": "stream",
     "text": [
      "2/2 [==============================] - 0s 2ms/step - loss: 0.0377 - accuracy: 1.0000\n"
     ]
    }
   ],
   "source": [
    "results = my_conv_model.evaluate(X_test, y_test, batch_size=32)"
   ]
  },
  {
   "cell_type": "code",
   "execution_count": 241,
   "metadata": {},
   "outputs": [
    {
     "data": {
      "text/plain": [
       "[<matplotlib.lines.Line2D at 0x7f8eb016b198>]"
      ]
     },
     "execution_count": 241,
     "metadata": {},
     "output_type": "execute_result"
    },
    {
     "data": {
      "image/png": "[encoded data removed]",
      "text/plain": [
       "<Figure size 432x288 with 1 Axes>"
      ]
     },
     "metadata": {
      "needs_background": "light"
     },
     "output_type": "display_data"
    }
   ],
   "source": [
    "plt.plot(my_conv_history.history['loss'],  color='red')\n",
    "plt.plot(my_conv_history.history['accuracy'],  color='green')\n",
    "plt.plot(my_conv_history.history['val_accuracy'], color='black')"
   ]
  }
 ],
 "metadata": {
  "kernelspec": {
   "display_name": "Python 3",
   "language": "python",
   "name": "python3"
  },
  "language_info": {
   "codemirror_mode": {
    "name": "ipython",
    "version": 3
   },
   "file_extension": ".py",
   "mimetype": "text/x-python",
   "name": "python",
   "nbconvert_exporter": "python",
   "pygments_lexer": "ipython3",
   "version": "3.8.5"
  }
 },
 "nbformat": 4,
 "nbformat_minor": 2
}
