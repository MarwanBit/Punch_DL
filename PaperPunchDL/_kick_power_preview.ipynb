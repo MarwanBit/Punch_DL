{
 "cells": [
  {
   "cell_type": "markdown",
   "metadata": {},
   "source": [
    "# Deep learning models for punch quality estimation in Boxing "
   ]
  },
  {
   "cell_type": "markdown",
   "metadata": {},
   "source": [
    "### Abstract"
   ]
  },
  {
   "cell_type": "markdown",
   "metadata": {},
   "source": [
    "In this paper we testing deep learning approach for punch quality estimation. By the quality we suspect punch class and it`s power."
   ]
  },
  {
   "cell_type": "markdown",
   "metadata": {},
   "source": [
    "## Introduction "
   ]
  },
  {
   "cell_type": "markdown",
   "metadata": {},
   "source": [
    "Describe boxing training process.  \n",
    "What problems there?  \n",
    "Why do we need DL approach?"
   ]
  },
  {
   "cell_type": "markdown",
   "metadata": {},
   "source": [
    "### Related works:"
   ]
  },
  {
   "cell_type": "markdown",
   "metadata": {},
   "source": [
    "## Methods "
   ]
  },
  {
   "cell_type": "markdown",
   "metadata": {},
   "source": [
    "First, for data aqusition we used android app and built-in android phone sensors. But in practice it is not comfortable to use. So, T-wrist sensors, based on MPU-9250A and ESP32 processor used. Characteristics of sensors in Appendix 1.  "
   ]
  },
  {
   "cell_type": "markdown",
   "metadata": {},
   "source": [
    "<img src=\"img/training.jpg\" alt=\" Scheme of data aquiring\">"
   ]
  },
  {
   "cell_type": "markdown",
   "metadata": {},
   "source": [
    "Result of measurement are in image   "
   ]
  },
  {
   "cell_type": "markdown",
   "metadata": {},
   "source": [
    "<img src=\"img/sensors_measures.jpg\" alt=\"Sensor measurements\" width=600>"
   ]
  },
  {
   "cell_type": "markdown",
   "metadata": {},
   "source": [
    "We suppose matrix of measurements $X$ has a shape of $F x T$, where  \n",
    "\n",
    "$F$ - number of features (9 for MPU-9250)  \n",
    "$T$ - time samples.  \n",
    "\n",
    "First challenge is to find optimal feature extraction pipeline.  \n",
    "In our experiments features extraction made with numpy and scipy (Anaconda)."
   ]
  },
  {
   "cell_type": "code",
   "execution_count": 1,
   "metadata": {},
   "outputs": [],
   "source": [
    "import numpy as np\n",
    "import pandas as pd\n",
    "import matplotlib.pyplot as plt\n",
    "\n",
    "A = 'Accelerometer.csv'\n",
    "AL = 'AccelerometerLinear.csv'\n",
    "G = 'Gravity.csv'\n",
    "R = 'RotationVector.csv'\n",
    "\n",
    "a = pd.read_csv('data/' + A)\n",
    "al = pd.read_csv('data/' + AL)\n",
    "g = pd.read_csv('data/' + G)\n",
    "r = pd.read_csv('data/' + R)"
   ]
  },
  {
   "cell_type": "code",
   "execution_count": 2,
   "metadata": {},
   "outputs": [
    {
     "name": "stdout",
     "output_type": "stream",
     "text": [
      "<class 'pandas.core.frame.DataFrame'>\n",
      "RangeIndex: 626 entries, 0 to 625\n",
      "Data columns (total 5 columns):\n",
      "Timestamp       626 non-null object\n",
      "Milliseconds    626 non-null int64\n",
      "X               626 non-null float64\n",
      "Y               626 non-null float64\n",
      "Z               626 non-null float64\n",
      "dtypes: float64(3), int64(1), object(1)\n",
      "memory usage: 24.5+ KB\n"
     ]
    }
   ],
   "source": [
    "a.info()"
   ]
  },
  {
   "cell_type": "code",
   "execution_count": 3,
   "metadata": {},
   "outputs": [
    {
     "data": {
      "text/plain": [
       "[<matplotlib.lines.Line2D at 0x7f22d604f278>]"
      ]
     },
     "execution_count": 3,
     "metadata": {},
     "output_type": "execute_result"
    },
    {
     "data": {
      "image/png": "[encoded data removed]",
      "text/plain": [
       "<Figure size 432x288 with 1 Axes>"
      ]
     },
     "metadata": {
      "needs_background": "light"
     },
     "output_type": "display_data"
    }
   ],
   "source": [
    "plt.plot(a.Milliseconds, a.Z)"
   ]
  },
  {
   "cell_type": "code",
   "execution_count": 6,
   "metadata": {},
   "outputs": [
    {
     "data": {
      "text/html": [
       "<div>\n",
       "<style scoped>\n",
       "    .dataframe tbody tr th:only-of-type {\n",
       "        vertical-align: middle;\n",
       "    }\n",
       "\n",
       "    .dataframe tbody tr th {\n",
       "        vertical-align: top;\n",
       "    }\n",
       "\n",
       "    .dataframe thead th {\n",
       "        text-align: right;\n",
       "    }\n",
       "</style>\n",
       "<table border=\"1\" class=\"dataframe\">\n",
       "  <thead>\n",
       "    <tr style=\"text-align: right;\">\n",
       "      <th></th>\n",
       "      <th>Timestamp</th>\n",
       "      <th>Milliseconds</th>\n",
       "      <th>X</th>\n",
       "      <th>Y</th>\n",
       "      <th>Z</th>\n",
       "    </tr>\n",
       "  </thead>\n",
       "  <tbody>\n",
       "    <tr>\n",
       "      <th>0</th>\n",
       "      <td>2021-03-04 00:42:36</td>\n",
       "      <td>2</td>\n",
       "      <td>0.145056</td>\n",
       "      <td>0.015913</td>\n",
       "      <td>-0.078286</td>\n",
       "    </tr>\n",
       "    <tr>\n",
       "      <th>1</th>\n",
       "      <td>2021-03-04 00:42:36</td>\n",
       "      <td>20</td>\n",
       "      <td>-0.058741</td>\n",
       "      <td>-0.018943</td>\n",
       "      <td>-0.142338</td>\n",
       "    </tr>\n",
       "    <tr>\n",
       "      <th>2</th>\n",
       "      <td>2021-03-04 00:42:36</td>\n",
       "      <td>22</td>\n",
       "      <td>-0.058741</td>\n",
       "      <td>-0.018943</td>\n",
       "      <td>-0.142338</td>\n",
       "    </tr>\n",
       "    <tr>\n",
       "      <th>3</th>\n",
       "      <td>2021-03-04 00:42:36</td>\n",
       "      <td>32</td>\n",
       "      <td>-0.096737</td>\n",
       "      <td>-0.016854</td>\n",
       "      <td>-0.249045</td>\n",
       "    </tr>\n",
       "    <tr>\n",
       "      <th>4</th>\n",
       "      <td>2021-03-04 00:42:36</td>\n",
       "      <td>42</td>\n",
       "      <td>-0.096737</td>\n",
       "      <td>-0.016854</td>\n",
       "      <td>-0.249045</td>\n",
       "    </tr>\n",
       "  </tbody>\n",
       "</table>\n",
       "</div>"
      ],
      "text/plain": [
       "             Timestamp  Milliseconds         X         Y         Z\n",
       "0  2021-03-04 00:42:36             2  0.145056  0.015913 -0.078286\n",
       "1  2021-03-04 00:42:36            20 -0.058741 -0.018943 -0.142338\n",
       "2  2021-03-04 00:42:36            22 -0.058741 -0.018943 -0.142338\n",
       "3  2021-03-04 00:42:36            32 -0.096737 -0.016854 -0.249045\n",
       "4  2021-03-04 00:42:36            42 -0.096737 -0.016854 -0.249045"
      ]
     },
     "execution_count": 6,
     "metadata": {},
     "output_type": "execute_result"
    }
   ],
   "source": [
    "al.head()"
   ]
  },
  {
   "cell_type": "markdown",
   "metadata": {},
   "source": [
    "First task we solved is punch classification.  \n",
    "\n",
    "Hypothesis 1 is: with $X$ measurement matrix we can predict a class of punch $C_i$ with a Neural Network."
   ]
  },
  {
   "cell_type": "markdown",
   "metadata": {},
   "source": [
    "Punch classes are:\n",
    "1. Left Jub - LJ\n",
    "2. Left Hook - LH\n",
    "3. Left Uppercut - LU\n",
    "4. Right Cross - RC\n",
    "5. Right Uppercut - RU"
   ]
  },
  {
   "cell_type": "markdown",
   "metadata": {},
   "source": [
    "<img src=\"img/prediction.jpg\" alt=\"Scheme of punch prediction\">"
   ]
  },
  {
   "cell_type": "markdown",
   "metadata": {},
   "source": [
    "Keras implementation, converting to tflite format deployed to android app. \n",
    "As a baseline we use simple linear classifier with the softmax activation. Loss function - cross entropy, optimization - Adam. \n",
    "Hyperparameters are: \n",
    "- Number of layer = $1 .. 10$\n",
    "- learning rate = $10^{-5} .. 10^{-2}$\n",
    "- regularization strenght = $1e-5 .. 1e-1$"
   ]
  },
  {
   "cell_type": "markdown",
   "metadata": {},
   "source": [
    "Metrics we use are precision, recall and F1 score."
   ]
  },
  {
   "cell_type": "markdown",
   "metadata": {},
   "source": [
    "Second task we solved is punch power prediction with NN regressor.  \n",
    "\n",
    "Power of punch estimating as a function of air pressure, measured with \"Kick Power\" device.  "
   ]
  },
  {
   "cell_type": "markdown",
   "metadata": {},
   "source": [
    "<img src=\"img/makivara.jpg\" alt=\"Scheme of kick power measurement\">"
   ]
  },
  {
   "cell_type": "markdown",
   "metadata": {},
   "source": [
    "We suppose, that force of punch $F$ is a linear function of volume discreasing, as a punch result:  \n",
    "\n",
    "$$F = k \\cdot \\frac{V_1}{V_2}$$\n",
    "\n",
    "where $k$ - is camera rigid property coefficient,  \n",
    "$V_1$ - volume of camera before punch,   \n",
    "$V_2$ - volume of camera after punch.  \n",
    "\n",
    "With Boiler-Marriott law we can estimate punch power as a function of air pressure increasing: \n",
    "\n",
    "$$p_1 \\cdot V_1 = p_2 \\cdot V_2$$\n",
    "\n",
    "$$ F = k \\cdot \\frac{V_1}{V_2} = k \\cdot \\frac{p_2}{p_1} $$\n"
   ]
  },
  {
   "cell_type": "markdown",
   "metadata": {},
   "source": [
    "Hypothesis 2 is: with matrix $X$ we can predict punch power."
   ]
  },
  {
   "cell_type": "markdown",
   "metadata": {},
   "source": [
    "As a baseline we use simple linear classifier with the softmax activation. Loss function - mean square quad, optimization - Adam. \n",
    "Hyperparameters are: \n",
    "- Number of layer = $1 .. 10$\n",
    "- learning rate = $10^{-5} .. 10^{-2}$\n",
    "- regularization strenght = $1e-5 .. 1e-1$"
   ]
  },
  {
   "cell_type": "markdown",
   "metadata": {},
   "source": [
    "As a metric we use mean squared error."
   ]
  },
  {
   "cell_type": "markdown",
   "metadata": {},
   "source": [
    "## Results "
   ]
  },
  {
   "cell_type": "markdown",
   "metadata": {},
   "source": [
    "Best classifier -  \n",
    "Best regressor -  \n",
    "Relation graphs for hyperparams grid search."
   ]
  },
  {
   "cell_type": "markdown",
   "metadata": {},
   "source": [
    "## Discussion "
   ]
  },
  {
   "cell_type": "markdown",
   "metadata": {},
   "source": [
    "The profit of deep learning approach is.. \n",
    "Future investigations are ...\n"
   ]
  },
  {
   "cell_type": "markdown",
   "metadata": {},
   "source": [
    "## Acknowlogments "
   ]
  },
  {
   "cell_type": "markdown",
   "metadata": {},
   "source": [
    "Tatarstan Boxing Federation  \n",
    "Financial Univercity Boxing section ..."
   ]
  },
  {
   "cell_type": "markdown",
   "metadata": {},
   "source": [
    "## Appendix"
   ]
  },
  {
   "cell_type": "markdown",
   "metadata": {},
   "source": [
    "#### Appendix 1 MPU-9250 features"
   ]
  },
  {
   "cell_type": "markdown",
   "metadata": {},
   "source": [
    "- Gyroscope ±250, ±500, ±1000, and ±2000°/sec  \n",
    "- Accelerometer  ±2g, ±4g, ±8g and ±16g\n",
    "- Magnetometer ±4800μT, 14 bit (0.6μT/LSB)\n",
    "- 400kHz Fast Mode I2C"
   ]
  },
  {
   "cell_type": "markdown",
   "metadata": {},
   "source": [
    "## References "
   ]
  },
  {
   "cell_type": "markdown",
   "metadata": {},
   "source": [
    "1. Khasanshin, I. Application of an Artificial Neural Network to Automate the Measurement of Kinematic Characteristics of Punches in Boxing. Appl. Sci. 2021, 11, 1223. https://doi.org/10.3390/app11031223   \n",
    "\n",
    "2. Polak, E.; Kulasa, J.; VencesBrito, A.; Castro, M.; Fernandes, O. Motion analysis systems as optimization training tools in combat sports and martial arts. Rev. Artes Marciales Asiát. 2016, 10, 105–123. [CrossRef]  \n",
    "\n",
    "3. Worsey, M.T.O.; Espinosa, H.G.; Shepherd, J.B.; Thiel, D.V. An Evaluation of Wearable Inertial Sensor Configuration and Supervised Machine Learning Models for Automatic Punch Classification in Boxing. IoT 2020, 1. [CrossRef]  \n",
    "\n",
    "4. Shen, Y.; Wang, H.; Ho, E.S.; Yang, L.; Shum, H.P. Posture-based and Action-based Graphs for Boxing Skill Visualization. Comput. Graph. 2017, 69. [CrossRef] \n",
    "\n",
    "5. Kimm, D.K.; Thiel, D. Hand Speed Measurements in Boxing. Procedia Eng. 2015, 112, 502–506. \n",
    "\n",
    "6. Cust, E.E.; Sweeting, A.J.; Ball, K.; Robertson, S. Machine and deep learning for sport-specific movement recognition: A systematic review of model development and performance. J. Sports Sci. 2019, 37, 568–600."
   ]
  }
 ],
 "metadata": {
  "kernelspec": {
   "display_name": "Python 3",
   "language": "python",
   "name": "python3"
  },
  "language_info": {
   "codemirror_mode": {
    "name": "ipython",
    "version": 3
   },
   "file_extension": ".py",
   "mimetype": "text/x-python",
   "name": "python",
   "nbconvert_exporter": "python",
   "pygments_lexer": "ipython3",
   "version": "3.8.5"
  }
 },
 "nbformat": 4,
 "nbformat_minor": 2
}
