{
 "cells": [
  {
   "cell_type": "markdown",
   "id": "human-husband",
   "metadata": {},
   "source": [
    "# Discussion "
   ]
  },
  {
   "cell_type": "markdown",
   "id": "middle-boston",
   "metadata": {},
   "source": [
    "## Comparision of models"
   ]
  },
  {
   "cell_type": "markdown",
   "id": "special-orbit",
   "metadata": {},
   "source": [
    "Multilayer perceptron  is a simple model and good baseline. Best F1 score is 0.95 for U-punch, worst is 0.86 for N-punch. Difference between train and validation accuracy is rusult of model overfiiting.   \n",
    "May be more training samples will solve this problem.  \n",
    "\n",
    "1D convolution model from [] work works very bad and not suitable for punch class prediction. Train accuracy is about 0.8, but validation accuracy only 0.65 and very unstable. Worst F1 score is 0.11 for MT-punch, best F1 is 0.81 for No-punch class. Loss after 100 epochs training is only about 0.3.  \n",
    "\n",
    "As we proposed, 2D convolution model with 2 conv layers works better. Metrics are like on mlp: best F1 is 0.93 for YT-punch and worst is 0.90 for U-punch class. A little gap between training and validation accuracy curves is tell about some overfitting, so we tested deeper conv model with 4 layers.  \n",
    "\n",
    "2D convolution model with 4 conv layer shows best result: 0.97 validation accuracy. Best F1-score 0.99 for YT-punch class, worst 0.90 for AT-punch class.  \n",
    "\n",
    "Comparing with MLP, we achieved better classification metrics and shift invariant model, based on 2D convolution."
   ]
  },
  {
   "cell_type": "markdown",
   "id": "distant-sodium",
   "metadata": {},
   "source": [
    "# Comparision with related works results\n",
    "\n",
    "Comparing with classic ML prediction methods, neural nets have a little smaller F1-score, but higher accuracy."
   ]
  },
  {
   "cell_type": "markdown",
   "id": "otherwise-filing",
   "metadata": {},
   "source": []
  }
 ],
 "metadata": {
  "kernelspec": {
   "display_name": "Python 3",
   "language": "python",
   "name": "python3"
  },
  "language_info": {
   "codemirror_mode": {
    "name": "ipython",
    "version": 3
   },
   "file_extension": ".py",
   "mimetype": "text/x-python",
   "name": "python",
   "nbconvert_exporter": "python",
   "pygments_lexer": "ipython3",
   "version": "3.8.5"
  }
 },
 "nbformat": 4,
 "nbformat_minor": 5
}
