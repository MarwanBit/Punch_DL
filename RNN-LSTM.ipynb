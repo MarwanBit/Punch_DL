{
 "cells": [
  {
   "cell_type": "markdown",
   "metadata": {},
   "source": [
    "# Load data"
   ]
  },
  {
   "cell_type": "code",
   "execution_count": 1,
   "metadata": {},
   "outputs": [],
   "source": [
    "import re\n",
    "import numpy as np\n",
    "import matplotlib.pyplot as plt\n",
    "\n",
    "import tensorflow as tf\n",
    "import tensorflow.keras as K"
   ]
  },
  {
   "cell_type": "code",
   "execution_count": 2,
   "metadata": {},
   "outputs": [],
   "source": [
    "def read_data(name):\n",
    "    X_train, y_train = [], []\n",
    "    X_test, y_test = [], []\n",
    "    X = np.load(f'data/keypoints/{name}.npy').reshape((-1, 51))\n",
    "    with open(f'data/labels/{name}') as f:\n",
    "        labels = f.readlines()\n",
    "\n",
    "    N = int(re.findall(r'\\d+', labels[0])[0])\n",
    "    assert N == X.shape[0]\n",
    "\n",
    "    end = 0\n",
    "\n",
    "    for lab in labels:\n",
    "        C = re.findall(r'\\d:', lab)\n",
    "        if len(C) == 1:\n",
    "            C = int(C[0][0])\n",
    "\n",
    "        idxs = re.findall(r'\\d+-\\d+', lab)\n",
    "        if len(idxs) > 1:  \n",
    "            print()\n",
    "            print(f'Add label [{C}] to train samples')\n",
    "            for idx in idxs[:-1]:\n",
    "                start, stop = idx.split('-')\n",
    "                start, stop = int(start), int(stop)\n",
    "\n",
    "                X_train.append(X[end:start])\n",
    "                y_train.append(0)\n",
    "\n",
    "                X_train.append(X[start:stop])\n",
    "                y_train.append(C)        \n",
    "                print(idx, end='\\t')\n",
    "\n",
    "                end = stop\n",
    "            \n",
    "            print()\n",
    "            print(f'Add label [{C}] to test samples')\n",
    "            idx = idxs[-1]\n",
    "            start, stop = idx.split('-')\n",
    "            start, stop = int(start), int(stop)\n",
    "\n",
    "            X_test.append(X[end:start])\n",
    "            y_test.append(0)\n",
    "            \n",
    "            print(idx, end='\\t')\n",
    "            X_test.append(X[start:stop])\n",
    "            y_test.append(C)        \n",
    "\n",
    "            end = stop\n",
    "\n",
    "    X_train.append(X[end:-1])\n",
    "    y_train.append(0)\n",
    "    \n",
    "    return X_train, y_train, X_test, y_test"
   ]
  },
  {
   "cell_type": "code",
   "execution_count": 3,
   "metadata": {
    "scrolled": true
   },
   "outputs": [
    {
     "name": "stdout",
     "output_type": "stream",
     "text": [
      "\n",
      "Add label [1] to train samples\n",
      "5-30\t42-70\t88-115\t130-154\t\n",
      "Add label [1] to test samples\n",
      "170-200\t\n",
      "Add label [2] to train samples\n",
      "220-247\t268-293\t315-340\t365-387\t\n",
      "Add label [2] to test samples\n",
      "417-436\t\n",
      "Add label [1] to train samples\n",
      "465-493\t515-538\t560-583\t605-625\t\n",
      "Add label [1] to test samples\n",
      "650-675\t\n",
      "Add label [2] to train samples\n",
      "696-715\t742-762\t787-807\t833-850\t\n",
      "Add label [2] to test samples\n",
      "878-895\t\n",
      "Add label [1] to train samples\n",
      "19-39\t68-89\t107-147\t156-190\t\n",
      "Add label [1] to test samples\n",
      "215-243\t\n",
      "Add label [2] to train samples\n",
      "266-288\t317-334\t361-382\t413-433\t\n",
      "Add label [2] to test samples\n",
      "462-482\t\n",
      "Add label [1] to train samples\n",
      "564-578\t600-615\t639-657\t680-695\t\n",
      "Add label [1] to test samples\n",
      "720-737\t\n",
      "Add label [2] to train samples\n",
      "764-778\t802-817\t840-857\t884-898\t\n",
      "Add label [2] to test samples\n",
      "924-939\t\n",
      "Add label [3] to train samples\n",
      "1-22\t45-70\t92-117\t141-164\t\n",
      "Add label [3] to test samples\n",
      "202-225\t\n",
      "Add label [4] to train samples\n",
      "275-300\t319-344\t372-395\t430-455\t\n",
      "Add label [4] to test samples\n",
      "489-515\t\n",
      "Add label [3] to train samples\n",
      "570-586\t615-636\t662-682\t710-730\t\n",
      "Add label [3] to test samples\n",
      "763-783\t\n",
      "Add label [4] to train samples\n",
      "826-843\t874-891\t921-939\t981-1000\t\n",
      "Add label [4] to test samples\n",
      "1038-1057\t\n",
      "Add label [3] to train samples\n",
      "21-43\t65-85\t113-133\t160-180\t\n",
      "Add label [3] to test samples\n",
      "212-227\t\n",
      "Add label [4] to train samples\n",
      "263-283\t314-334\t366-389\t418-438\t\n",
      "Add label [4] to test samples\n",
      "469-489\t\n",
      "Add label [3] to train samples\n",
      "537-558\t582-602\t629-649\t674-697\t\n",
      "Add label [3] to test samples\n",
      "750-770\t\n",
      "Add label [4] to train samples\n",
      "806-824\t849-869\t894-918\t948-966\t\n",
      "Add label [4] to test samples\n",
      "992-1012\t\n",
      "Add label [5] to train samples\n",
      "66-86\t110-130\t164-184\t213-233\t262-282\t\n",
      "Add label [5] to test samples\n",
      "318-338\t\n",
      "Add label [6] to train samples\n",
      "372-392\t420-440\t475-495\t525-545\t\n",
      "Add label [6] to test samples\n",
      "570-590\t\n",
      "Add label [5] to train samples\n",
      "685-700\t730-750\t785-802\t833-853\t\n",
      "Add label [5] to test samples\n",
      "887-907\t\n",
      "Add label [6] to train samples\n",
      "949-963\t991-1006\t1036-1053\t1086-1102\t\n",
      "Add label [6] to test samples\n",
      "1134-1151\t\n",
      "Add label [5] to train samples\n",
      "110-128\t155-170\t209-226\t262-276\t\n",
      "Add label [5] to test samples\n",
      "314-329\t\n",
      "Add label [6] to train samples\n",
      "368-380\t415-432\t458-475\t505-522\t\n",
      "Add label [6] to test samples\n",
      "556-575\t\n",
      "Add label [5] to train samples\n",
      "685-700\t733-749\t786-801\t834-851\t\n",
      "Add label [5] to test samples\n",
      "887-900\t\n",
      "Add label [6] to train samples\n",
      "942-957\t984-1002\t1030-1047\t1071-1087\t\n",
      "Add label [6] to test samples\n",
      "1115-1133\t"
     ]
    }
   ],
   "source": [
    "X_train, y_train, X_test, y_test = [], [], [], []\n",
    "\n",
    "FILE_NAMES = ['id0_jab_1',  'id0_jab_2', \n",
    "              'id0_hook_1', 'id0_hook_2',\n",
    "              'id0_uper_1', 'id0_uper_2']\n",
    "\n",
    "for name in FILE_NAMES:\n",
    "    x1, y1, x2, y2 = read_data(name)\n",
    "\n",
    "    X_train += x1\n",
    "    y_train += y1\n",
    "    X_test += x2\n",
    "    y_test += y2"
   ]
  },
  {
   "cell_type": "code",
   "execution_count": 4,
   "metadata": {},
   "outputs": [
    {
     "data": {
      "text/plain": [
       "(200, 48)"
      ]
     },
     "execution_count": 4,
     "metadata": {},
     "output_type": "execute_result"
    }
   ],
   "source": [
    "len(X_train), len(X_test)"
   ]
  },
  {
   "cell_type": "code",
   "execution_count": 5,
   "metadata": {},
   "outputs": [
    {
     "data": {
      "text/plain": [
       "(52, 51)"
      ]
     },
     "execution_count": 5,
     "metadata": {},
     "output_type": "execute_result"
    }
   ],
   "source": [
    "X_train[-1].shape"
   ]
  },
  {
   "cell_type": "code",
   "execution_count": 6,
   "metadata": {},
   "outputs": [],
   "source": [
    "y_train = K.utils.to_categorical(y_train, num_classes=7)\n",
    "X_train = tf.ragged.constant(X_train)\n",
    "\n",
    "y_test = K.utils.to_categorical(y_test, num_classes=7)\n",
    "X_test = tf.ragged.constant(X_test)"
   ]
  },
  {
   "cell_type": "code",
   "execution_count": 7,
   "metadata": {},
   "outputs": [
    {
     "data": {
      "text/plain": [
       "TensorShape([200, None, None])"
      ]
     },
     "execution_count": 7,
     "metadata": {},
     "output_type": "execute_result"
    }
   ],
   "source": [
    "X_train.shape"
   ]
  },
  {
   "cell_type": "markdown",
   "metadata": {},
   "source": [
    "## Simple RNN "
   ]
  },
  {
   "cell_type": "code",
   "execution_count": 8,
   "metadata": {},
   "outputs": [],
   "source": [
    "inpu = K.layers.InputLayer((None, 51), batch_size=1)\n",
    "rnn = K.layers.SimpleRNN(32, stateful=True)\n",
    "dense1 = K.layers.Dense(64)\n",
    "dense2 = K.layers.Dense(7, activation='softmax')\n",
    "\n",
    "model = K.Sequential([inpu, rnn, dense1, dense2])"
   ]
  },
  {
   "cell_type": "code",
   "execution_count": 9,
   "metadata": {},
   "outputs": [],
   "source": [
    "model.compile(optimizer='adam',\n",
    "              loss='categorical_crossentropy',\n",
    "              metrics=['accuracy'])"
   ]
  },
  {
   "cell_type": "code",
   "execution_count": 10,
   "metadata": {
    "scrolled": true
   },
   "outputs": [
    {
     "name": "stdout",
     "output_type": "stream",
     "text": [
      "Model: \"sequential\"\n",
      "_________________________________________________________________\n",
      "Layer (type)                 Output Shape              Param #   \n",
      "=================================================================\n",
      "simple_rnn (SimpleRNN)       (1, 32)                   2688      \n",
      "_________________________________________________________________\n",
      "dense (Dense)                (1, 64)                   2112      \n",
      "_________________________________________________________________\n",
      "dense_1 (Dense)              (1, 7)                    455       \n",
      "=================================================================\n",
      "Total params: 5,255\n",
      "Trainable params: 5,255\n",
      "Non-trainable params: 0\n",
      "_________________________________________________________________\n"
     ]
    }
   ],
   "source": [
    "model.summary()"
   ]
  },
  {
   "cell_type": "code",
   "execution_count": 11,
   "metadata": {
    "scrolled": true
   },
   "outputs": [
    {
     "name": "stdout",
     "output_type": "stream",
     "text": [
      "Epoch 1/50\n",
      "200/200 [==============================] - 2s 5ms/step - loss: 1.6771 - accuracy: 0.4950 - val_loss: 1.5970 - val_accuracy: 0.5000\n",
      "Epoch 2/50\n",
      "200/200 [==============================] - 1s 4ms/step - loss: 1.5613 - accuracy: 0.5150 - val_loss: 1.6326 - val_accuracy: 0.5208\n",
      "Epoch 3/50\n",
      "200/200 [==============================] - 1s 4ms/step - loss: 1.5396 - accuracy: 0.4900 - val_loss: 1.6647 - val_accuracy: 0.5208\n",
      "Epoch 4/50\n",
      "200/200 [==============================] - 1s 4ms/step - loss: 1.5250 - accuracy: 0.5250 - val_loss: 1.7445 - val_accuracy: 0.5000\n",
      "Epoch 5/50\n",
      "200/200 [==============================] - 1s 4ms/step - loss: 1.4882 - accuracy: 0.4800 - val_loss: 1.6534 - val_accuracy: 0.5000\n",
      "Epoch 6/50\n",
      "200/200 [==============================] - 1s 4ms/step - loss: 1.6604 - accuracy: 0.5150 - val_loss: 1.5954 - val_accuracy: 0.5000\n",
      "Epoch 7/50\n",
      "200/200 [==============================] - 1s 4ms/step - loss: 1.5596 - accuracy: 0.5150 - val_loss: 1.6833 - val_accuracy: 0.5000\n",
      "Epoch 8/50\n",
      "200/200 [==============================] - 1s 5ms/step - loss: 1.5093 - accuracy: 0.5150 - val_loss: 1.5323 - val_accuracy: 0.5208\n",
      "Epoch 9/50\n",
      "174/200 [=========================>....] - ETA: 0s - loss: 1.4553 - accuracy: 0.5115"
     ]
    },
    {
     "ename": "KeyboardInterrupt",
     "evalue": "",
     "output_type": "error",
     "traceback": [
      "\u001b[0;31m---------------------------------------------------------------------------\u001b[0m",
      "\u001b[0;31mKeyboardInterrupt\u001b[0m                         Traceback (most recent call last)",
      "\u001b[0;32m<ipython-input-11-1d96f4e40f74>\u001b[0m in \u001b[0;36m<module>\u001b[0;34m\u001b[0m\n\u001b[0;32m----> 1\u001b[0;31m \u001b[0mhistory\u001b[0m \u001b[0;34m=\u001b[0m \u001b[0mmodel\u001b[0m\u001b[0;34m.\u001b[0m\u001b[0mfit\u001b[0m\u001b[0;34m(\u001b[0m\u001b[0mX_train\u001b[0m\u001b[0;34m,\u001b[0m \u001b[0my_train\u001b[0m\u001b[0;34m,\u001b[0m \u001b[0mvalidation_data\u001b[0m\u001b[0;34m=\u001b[0m\u001b[0;34m(\u001b[0m\u001b[0mX_test\u001b[0m\u001b[0;34m,\u001b[0m \u001b[0my_test\u001b[0m\u001b[0;34m)\u001b[0m\u001b[0;34m,\u001b[0m \u001b[0mbatch_size\u001b[0m\u001b[0;34m=\u001b[0m\u001b[0;36m1\u001b[0m\u001b[0;34m,\u001b[0m \u001b[0mepochs\u001b[0m\u001b[0;34m=\u001b[0m\u001b[0;36m50\u001b[0m\u001b[0;34m)\u001b[0m\u001b[0;34m\u001b[0m\u001b[0;34m\u001b[0m\u001b[0m\n\u001b[0m",
      "\u001b[0;32m/usr/local/lib/python3.6/dist-packages/tensorflow/python/keras/engine/training.py\u001b[0m in \u001b[0;36mfit\u001b[0;34m(self, x, y, batch_size, epochs, verbose, callbacks, validation_split, validation_data, shuffle, class_weight, sample_weight, initial_epoch, steps_per_epoch, validation_steps, validation_batch_size, validation_freq, max_queue_size, workers, use_multiprocessing)\u001b[0m\n\u001b[1;32m   1181\u001b[0m                 _r=1):\n\u001b[1;32m   1182\u001b[0m               \u001b[0mcallbacks\u001b[0m\u001b[0;34m.\u001b[0m\u001b[0mon_train_batch_begin\u001b[0m\u001b[0;34m(\u001b[0m\u001b[0mstep\u001b[0m\u001b[0;34m)\u001b[0m\u001b[0;34m\u001b[0m\u001b[0;34m\u001b[0m\u001b[0m\n\u001b[0;32m-> 1183\u001b[0;31m               \u001b[0mtmp_logs\u001b[0m \u001b[0;34m=\u001b[0m \u001b[0mself\u001b[0m\u001b[0;34m.\u001b[0m\u001b[0mtrain_function\u001b[0m\u001b[0;34m(\u001b[0m\u001b[0miterator\u001b[0m\u001b[0;34m)\u001b[0m\u001b[0;34m\u001b[0m\u001b[0;34m\u001b[0m\u001b[0m\n\u001b[0m\u001b[1;32m   1184\u001b[0m               \u001b[0;32mif\u001b[0m \u001b[0mdata_handler\u001b[0m\u001b[0;34m.\u001b[0m\u001b[0mshould_sync\u001b[0m\u001b[0;34m:\u001b[0m\u001b[0;34m\u001b[0m\u001b[0;34m\u001b[0m\u001b[0m\n\u001b[1;32m   1185\u001b[0m                 \u001b[0mcontext\u001b[0m\u001b[0;34m.\u001b[0m\u001b[0masync_wait\u001b[0m\u001b[0;34m(\u001b[0m\u001b[0;34m)\u001b[0m\u001b[0;34m\u001b[0m\u001b[0;34m\u001b[0m\u001b[0m\n",
      "\u001b[0;32m/usr/local/lib/python3.6/dist-packages/tensorflow/python/eager/def_function.py\u001b[0m in \u001b[0;36m__call__\u001b[0;34m(self, *args, **kwds)\u001b[0m\n\u001b[1;32m    887\u001b[0m \u001b[0;34m\u001b[0m\u001b[0m\n\u001b[1;32m    888\u001b[0m       \u001b[0;32mwith\u001b[0m \u001b[0mOptionalXlaContext\u001b[0m\u001b[0;34m(\u001b[0m\u001b[0mself\u001b[0m\u001b[0;34m.\u001b[0m\u001b[0m_jit_compile\u001b[0m\u001b[0;34m)\u001b[0m\u001b[0;34m:\u001b[0m\u001b[0;34m\u001b[0m\u001b[0;34m\u001b[0m\u001b[0m\n\u001b[0;32m--> 889\u001b[0;31m         \u001b[0mresult\u001b[0m \u001b[0;34m=\u001b[0m \u001b[0mself\u001b[0m\u001b[0;34m.\u001b[0m\u001b[0m_call\u001b[0m\u001b[0;34m(\u001b[0m\u001b[0;34m*\u001b[0m\u001b[0margs\u001b[0m\u001b[0;34m,\u001b[0m \u001b[0;34m**\u001b[0m\u001b[0mkwds\u001b[0m\u001b[0;34m)\u001b[0m\u001b[0;34m\u001b[0m\u001b[0;34m\u001b[0m\u001b[0m\n\u001b[0m\u001b[1;32m    890\u001b[0m \u001b[0;34m\u001b[0m\u001b[0m\n\u001b[1;32m    891\u001b[0m       \u001b[0mnew_tracing_count\u001b[0m \u001b[0;34m=\u001b[0m \u001b[0mself\u001b[0m\u001b[0;34m.\u001b[0m\u001b[0mexperimental_get_tracing_count\u001b[0m\u001b[0;34m(\u001b[0m\u001b[0;34m)\u001b[0m\u001b[0;34m\u001b[0m\u001b[0;34m\u001b[0m\u001b[0m\n",
      "\u001b[0;32m/usr/local/lib/python3.6/dist-packages/tensorflow/python/eager/def_function.py\u001b[0m in \u001b[0;36m_call\u001b[0;34m(self, *args, **kwds)\u001b[0m\n\u001b[1;32m    915\u001b[0m       \u001b[0;31m# In this case we have created variables on the first call, so we run the\u001b[0m\u001b[0;34m\u001b[0m\u001b[0;34m\u001b[0m\u001b[0;34m\u001b[0m\u001b[0m\n\u001b[1;32m    916\u001b[0m       \u001b[0;31m# defunned version which is guaranteed to never create variables.\u001b[0m\u001b[0;34m\u001b[0m\u001b[0;34m\u001b[0m\u001b[0;34m\u001b[0m\u001b[0m\n\u001b[0;32m--> 917\u001b[0;31m       \u001b[0;32mreturn\u001b[0m \u001b[0mself\u001b[0m\u001b[0;34m.\u001b[0m\u001b[0m_stateless_fn\u001b[0m\u001b[0;34m(\u001b[0m\u001b[0;34m*\u001b[0m\u001b[0margs\u001b[0m\u001b[0;34m,\u001b[0m \u001b[0;34m**\u001b[0m\u001b[0mkwds\u001b[0m\u001b[0;34m)\u001b[0m  \u001b[0;31m# pylint: disable=not-callable\u001b[0m\u001b[0;34m\u001b[0m\u001b[0;34m\u001b[0m\u001b[0m\n\u001b[0m\u001b[1;32m    918\u001b[0m     \u001b[0;32melif\u001b[0m \u001b[0mself\u001b[0m\u001b[0;34m.\u001b[0m\u001b[0m_stateful_fn\u001b[0m \u001b[0;32mis\u001b[0m \u001b[0;32mnot\u001b[0m \u001b[0;32mNone\u001b[0m\u001b[0;34m:\u001b[0m\u001b[0;34m\u001b[0m\u001b[0;34m\u001b[0m\u001b[0m\n\u001b[1;32m    919\u001b[0m       \u001b[0;31m# Release the lock early so that multiple threads can perform the call\u001b[0m\u001b[0;34m\u001b[0m\u001b[0;34m\u001b[0m\u001b[0;34m\u001b[0m\u001b[0m\n",
      "\u001b[0;32m/usr/local/lib/python3.6/dist-packages/tensorflow/python/eager/function.py\u001b[0m in \u001b[0;36m__call__\u001b[0;34m(self, *args, **kwargs)\u001b[0m\n\u001b[1;32m   3022\u001b[0m        filtered_flat_args) = self._maybe_define_function(args, kwargs)\n\u001b[1;32m   3023\u001b[0m     return graph_function._call_flat(\n\u001b[0;32m-> 3024\u001b[0;31m         filtered_flat_args, captured_inputs=graph_function.captured_inputs)  # pylint: disable=protected-access\n\u001b[0m\u001b[1;32m   3025\u001b[0m \u001b[0;34m\u001b[0m\u001b[0m\n\u001b[1;32m   3026\u001b[0m   \u001b[0;34m@\u001b[0m\u001b[0mproperty\u001b[0m\u001b[0;34m\u001b[0m\u001b[0;34m\u001b[0m\u001b[0m\n",
      "\u001b[0;32m/usr/local/lib/python3.6/dist-packages/tensorflow/python/eager/function.py\u001b[0m in \u001b[0;36m_call_flat\u001b[0;34m(self, args, captured_inputs, cancellation_manager)\u001b[0m\n\u001b[1;32m   1959\u001b[0m       \u001b[0;31m# No tape is watching; skip to running the function.\u001b[0m\u001b[0;34m\u001b[0m\u001b[0;34m\u001b[0m\u001b[0;34m\u001b[0m\u001b[0m\n\u001b[1;32m   1960\u001b[0m       return self._build_call_outputs(self._inference_function.call(\n\u001b[0;32m-> 1961\u001b[0;31m           ctx, args, cancellation_manager=cancellation_manager))\n\u001b[0m\u001b[1;32m   1962\u001b[0m     forward_backward = self._select_forward_and_backward_functions(\n\u001b[1;32m   1963\u001b[0m         \u001b[0margs\u001b[0m\u001b[0;34m,\u001b[0m\u001b[0;34m\u001b[0m\u001b[0;34m\u001b[0m\u001b[0m\n",
      "\u001b[0;32m/usr/local/lib/python3.6/dist-packages/tensorflow/python/eager/function.py\u001b[0m in \u001b[0;36mcall\u001b[0;34m(self, ctx, args, cancellation_manager)\u001b[0m\n\u001b[1;32m    594\u001b[0m               \u001b[0minputs\u001b[0m\u001b[0;34m=\u001b[0m\u001b[0margs\u001b[0m\u001b[0;34m,\u001b[0m\u001b[0;34m\u001b[0m\u001b[0;34m\u001b[0m\u001b[0m\n\u001b[1;32m    595\u001b[0m               \u001b[0mattrs\u001b[0m\u001b[0;34m=\u001b[0m\u001b[0mattrs\u001b[0m\u001b[0;34m,\u001b[0m\u001b[0;34m\u001b[0m\u001b[0;34m\u001b[0m\u001b[0m\n\u001b[0;32m--> 596\u001b[0;31m               ctx=ctx)\n\u001b[0m\u001b[1;32m    597\u001b[0m         \u001b[0;32melse\u001b[0m\u001b[0;34m:\u001b[0m\u001b[0;34m\u001b[0m\u001b[0;34m\u001b[0m\u001b[0m\n\u001b[1;32m    598\u001b[0m           outputs = execute.execute_with_cancellation(\n",
      "\u001b[0;32m/usr/local/lib/python3.6/dist-packages/tensorflow/python/eager/execute.py\u001b[0m in \u001b[0;36mquick_execute\u001b[0;34m(op_name, num_outputs, inputs, attrs, ctx, name)\u001b[0m\n\u001b[1;32m     58\u001b[0m     \u001b[0mctx\u001b[0m\u001b[0;34m.\u001b[0m\u001b[0mensure_initialized\u001b[0m\u001b[0;34m(\u001b[0m\u001b[0;34m)\u001b[0m\u001b[0;34m\u001b[0m\u001b[0;34m\u001b[0m\u001b[0m\n\u001b[1;32m     59\u001b[0m     tensors = pywrap_tfe.TFE_Py_Execute(ctx._handle, device_name, op_name,\n\u001b[0;32m---> 60\u001b[0;31m                                         inputs, attrs, num_outputs)\n\u001b[0m\u001b[1;32m     61\u001b[0m   \u001b[0;32mexcept\u001b[0m \u001b[0mcore\u001b[0m\u001b[0;34m.\u001b[0m\u001b[0m_NotOkStatusException\u001b[0m \u001b[0;32mas\u001b[0m \u001b[0me\u001b[0m\u001b[0;34m:\u001b[0m\u001b[0;34m\u001b[0m\u001b[0;34m\u001b[0m\u001b[0m\n\u001b[1;32m     62\u001b[0m     \u001b[0;32mif\u001b[0m \u001b[0mname\u001b[0m \u001b[0;32mis\u001b[0m \u001b[0;32mnot\u001b[0m \u001b[0;32mNone\u001b[0m\u001b[0;34m:\u001b[0m\u001b[0;34m\u001b[0m\u001b[0;34m\u001b[0m\u001b[0m\n",
      "\u001b[0;31mKeyboardInterrupt\u001b[0m: "
     ]
    }
   ],
   "source": [
    "history = model.fit(X_train, y_train, validation_data=(X_test, y_test), batch_size=1, epochs=50)"
   ]
  },
  {
   "cell_type": "code",
   "execution_count": null,
   "metadata": {},
   "outputs": [],
   "source": [
    "plt.figure(figsize=(15, 7))\n",
    "plt.subplot(221)\n",
    "plt.title(\"Train Loss\")\n",
    "plt.plot(history.history['loss'])\n",
    "plt.subplot(222)\n",
    "plt.title(\"Train/validation accuracy\")\n",
    "plt.plot(history.history['accuracy'])\n",
    "plt.plot(history.history['val_accuracy'])"
   ]
  },
  {
   "cell_type": "markdown",
   "metadata": {},
   "source": [
    "## LSTM"
   ]
  },
  {
   "cell_type": "code",
   "execution_count": null,
   "metadata": {},
   "outputs": [],
   "source": [
    "inpu = K.layers.InputLayer((None, 51))\n",
    "rnn = K.layers.LSTM(64)\n",
    "dense1 = K.layers.Dense(128, kernel_regularizer=tf.keras.regularizers.l2(l2=1e-3))\n",
    "dense2 = K.layers.Dense(7, activation='softmax')\n",
    "\n",
    "model = K.Sequential([inpu, rnn, dense1, dense2])\n",
    "model.compile(optimizer='adam',\n",
    "          loss='categorical_crossentropy',\n",
    "          metrics=['accuracy'])\n"
   ]
  },
  {
   "cell_type": "code",
   "execution_count": null,
   "metadata": {
    "scrolled": true
   },
   "outputs": [],
   "source": [
    "history = model.fit(X_train, y_train, validation_data=(X_test, y_test), batch_size=4, epochs=24)"
   ]
  },
  {
   "cell_type": "code",
   "execution_count": null,
   "metadata": {},
   "outputs": [],
   "source": [
    "plt.figure(figsize=(15, 7))\n",
    "plt.subplot(221)\n",
    "plt.title(\"Train Loss\")\n",
    "plt.plot(history.history['loss'])\n",
    "plt.subplot(222)\n",
    "plt.title(\"Train/validation accuracy\")\n",
    "plt.plot(history.history['accuracy'])\n",
    "plt.plot(history.history['val_accuracy'])"
   ]
  },
  {
   "cell_type": "code",
   "execution_count": null,
   "metadata": {},
   "outputs": [],
   "source": []
  },
  {
   "cell_type": "code",
   "execution_count": null,
   "metadata": {},
   "outputs": [],
   "source": []
  },
  {
   "cell_type": "code",
   "execution_count": null,
   "metadata": {},
   "outputs": [],
   "source": []
  }
 ],
 "metadata": {
  "kernelspec": {
   "display_name": "Python 3",
   "language": "python",
   "name": "python3"
  },
  "language_info": {
   "codemirror_mode": {
    "name": "ipython",
    "version": 3
   },
   "file_extension": ".py",
   "mimetype": "text/x-python",
   "name": "python",
   "nbconvert_exporter": "python",
   "pygments_lexer": "ipython3",
   "version": "3.6.9"
  }
 },
 "nbformat": 4,
 "nbformat_minor": 2
}
