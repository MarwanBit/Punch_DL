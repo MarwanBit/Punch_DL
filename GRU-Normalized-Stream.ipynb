{
 "cells": [
  {
   "cell_type": "markdown",
   "metadata": {},
   "source": [
    "# Load data"
   ]
  },
  {
   "cell_type": "code",
   "execution_count": 5,
   "metadata": {
    "scrolled": true
   },
   "outputs": [],
   "source": [
    "import re\n",
    "import os\n",
    "import random\n",
    "import numpy as np\n",
    "import matplotlib.pyplot as plt\n",
    "import pandas as pd\n",
    "import seaborn as sns\n",
    "\n",
    "import tensorflow as tf\n",
    "import tensorflow.keras as K\n",
    "import keras_tuner as kt\n",
    "\n",
    "from lib.utils import (\n",
    "    normalize_mid_points,\n",
    "    read_data,\n",
    "    format_feature_names,\n",
    "    save_tflite_model,\n",
    "    apply_cart2pol_along_axis\n",
    ")\n",
    "from lib.keypoints import KEYPOINT_DICT"
   ]
  },
  {
   "cell_type": "code",
   "execution_count": 6,
   "metadata": {},
   "outputs": [],
   "source": [
    "# punch types: hook, jab, uper\n",
    "\n",
    "labels_by_punch_types = [\n",
    "    ['id0_hook_1', 'id0_hook_2', 'id1_hook_1', 'id1_hook_2'],\n",
    "    ['id0_jab_1', 'id0_jab_2', 'id1_jab_1', 'id1_jab_2'],\n",
    "    ['id0_uper_1', 'id0_uper_2', 'id1_uper_1', 'id1_uper_2']\n",
    "]"
   ]
  },
  {
   "cell_type": "code",
   "execution_count": 7,
   "metadata": {},
   "outputs": [
    {
     "name": "stdout",
     "output_type": "stream",
     "text": [
      "(1100, 34)\n",
      "(1051, 34)\n",
      "(858, 34)\n",
      "(792, 34)\n",
      "(993, 34)\n",
      "(802, 34)\n",
      "(643, 34)\n",
      "(952, 34)\n",
      "(1186, 34)\n",
      "(746, 34)\n",
      "(703, 34)\n",
      "(1200, 34)\n"
     ]
    }
   ],
   "source": [
    "X_train_list = []\n",
    "y_train_list = []\n",
    "X_val_list = []\n",
    "y_val_list = []\n",
    "\n",
    "for labels in labels_by_punch_types:\n",
    "    test_label = random.choice(labels)\n",
    "\n",
    "    for label in [i for i in labels if i != test_label]:\n",
    "        X, y = read_data(label, normalize_mp='2D', skip_midpoints=True)\n",
    "        X_train_list.append(X)\n",
    "        y_train_list.append(y)\n",
    "    \n",
    "    X, y = read_data(test_label, normalize_mp='2D', skip_midpoints=True)\n",
    "    X_val_list.append(X)\n",
    "    y_val_list.append(y)\n",
    "\n",
    "\n",
    "X_train = np.concatenate(X_train_list)\n",
    "y_train = np.concatenate(y_train_list)\n",
    "X_val = np.concatenate(X_val_list)\n",
    "y_val = np.concatenate(y_val_list)"
   ]
  },
  {
   "cell_type": "code",
   "execution_count": 8,
   "metadata": {},
   "outputs": [],
   "source": [
    "X_train = np.concatenate(X_train_list)\n",
    "y_train = np.concatenate(y_train_list)\n",
    "X_val = np.concatenate(X_val_list)\n",
    "y_val = np.concatenate(y_val_list)"
   ]
  },
  {
   "cell_type": "code",
   "execution_count": 9,
   "metadata": {},
   "outputs": [
    {
     "data": {
      "text/plain": [
       "((8082, 34), (8082,), (2944, 34), (2944,))"
      ]
     },
     "execution_count": 9,
     "metadata": {},
     "output_type": "execute_result"
    }
   ],
   "source": [
    "X_train.shape, y_train.shape, X_val.shape, y_val.shape"
   ]
  },
  {
   "cell_type": "code",
   "execution_count": 13,
   "metadata": {},
   "outputs": [],
   "source": [
    "feature_names = format_feature_names(list(KEYPOINT_DICT.keys()), ndims=2, skip_midpoints=True)"
   ]
  },
  {
   "cell_type": "code",
   "execution_count": 14,
   "metadata": {},
   "outputs": [],
   "source": [
    "df = pd.DataFrame(data=X_train, columns=feature_names)"
   ]
  },
  {
   "cell_type": "code",
   "execution_count": 15,
   "metadata": {
    "scrolled": false
   },
   "outputs": [
    {
     "data": {
      "text/html": [
       "<div>\n",
       "<style scoped>\n",
       "    .dataframe tbody tr th:only-of-type {\n",
       "        vertical-align: middle;\n",
       "    }\n",
       "\n",
       "    .dataframe tbody tr th {\n",
       "        vertical-align: top;\n",
       "    }\n",
       "\n",
       "    .dataframe thead th {\n",
       "        text-align: right;\n",
       "    }\n",
       "</style>\n",
       "<table border=\"1\" class=\"dataframe\">\n",
       "  <thead>\n",
       "    <tr style=\"text-align: right;\">\n",
       "      <th></th>\n",
       "      <th>count</th>\n",
       "      <th>mean</th>\n",
       "      <th>std</th>\n",
       "      <th>min</th>\n",
       "      <th>25%</th>\n",
       "      <th>50%</th>\n",
       "      <th>75%</th>\n",
       "      <th>max</th>\n",
       "    </tr>\n",
       "  </thead>\n",
       "  <tbody>\n",
       "    <tr>\n",
       "      <th>nose-x</th>\n",
       "      <td>8082.0</td>\n",
       "      <td>-0.211063</td>\n",
       "      <td>0.022880</td>\n",
       "      <td>-0.464483</td>\n",
       "      <td>-0.224388</td>\n",
       "      <td>-0.212842</td>\n",
       "      <td>-0.199485</td>\n",
       "      <td>0.356807</td>\n",
       "    </tr>\n",
       "    <tr>\n",
       "      <th>nose-y</th>\n",
       "      <td>8082.0</td>\n",
       "      <td>0.003452</td>\n",
       "      <td>0.111973</td>\n",
       "      <td>-0.668847</td>\n",
       "      <td>-0.110593</td>\n",
       "      <td>0.042986</td>\n",
       "      <td>0.095116</td>\n",
       "      <td>0.321883</td>\n",
       "    </tr>\n",
       "    <tr>\n",
       "      <th>left_eye-x</th>\n",
       "      <td>8082.0</td>\n",
       "      <td>-0.223147</td>\n",
       "      <td>0.025503</td>\n",
       "      <td>-0.394743</td>\n",
       "      <td>-0.237245</td>\n",
       "      <td>-0.225154</td>\n",
       "      <td>-0.211449</td>\n",
       "      <td>0.356518</td>\n",
       "    </tr>\n",
       "    <tr>\n",
       "      <th>left_eye-y</th>\n",
       "      <td>8082.0</td>\n",
       "      <td>0.006113</td>\n",
       "      <td>0.110631</td>\n",
       "      <td>-0.627711</td>\n",
       "      <td>-0.103300</td>\n",
       "      <td>0.043040</td>\n",
       "      <td>0.095421</td>\n",
       "      <td>0.301342</td>\n",
       "    </tr>\n",
       "    <tr>\n",
       "      <th>right_eye-x</th>\n",
       "      <td>8082.0</td>\n",
       "      <td>-0.223402</td>\n",
       "      <td>0.024205</td>\n",
       "      <td>-0.407856</td>\n",
       "      <td>-0.237463</td>\n",
       "      <td>-0.225369</td>\n",
       "      <td>-0.211442</td>\n",
       "      <td>0.356240</td>\n",
       "    </tr>\n",
       "    <tr>\n",
       "      <th>right_eye-y</th>\n",
       "      <td>8082.0</td>\n",
       "      <td>-0.001077</td>\n",
       "      <td>0.109995</td>\n",
       "      <td>-0.669672</td>\n",
       "      <td>-0.109724</td>\n",
       "      <td>0.028445</td>\n",
       "      <td>0.087474</td>\n",
       "      <td>0.306070</td>\n",
       "    </tr>\n",
       "    <tr>\n",
       "      <th>left_ear-x</th>\n",
       "      <td>8082.0</td>\n",
       "      <td>-0.228746</td>\n",
       "      <td>0.023500</td>\n",
       "      <td>-0.474184</td>\n",
       "      <td>-0.243461</td>\n",
       "      <td>-0.231127</td>\n",
       "      <td>-0.216067</td>\n",
       "      <td>0.342778</td>\n",
       "    </tr>\n",
       "    <tr>\n",
       "      <th>left_ear-y</th>\n",
       "      <td>8082.0</td>\n",
       "      <td>0.004819</td>\n",
       "      <td>0.073950</td>\n",
       "      <td>-0.630785</td>\n",
       "      <td>-0.045234</td>\n",
       "      <td>0.011537</td>\n",
       "      <td>0.056043</td>\n",
       "      <td>0.293566</td>\n",
       "    </tr>\n",
       "    <tr>\n",
       "      <th>right_ear-x</th>\n",
       "      <td>8082.0</td>\n",
       "      <td>-0.229345</td>\n",
       "      <td>0.023138</td>\n",
       "      <td>-0.469636</td>\n",
       "      <td>-0.244179</td>\n",
       "      <td>-0.231966</td>\n",
       "      <td>-0.216725</td>\n",
       "      <td>0.338165</td>\n",
       "    </tr>\n",
       "    <tr>\n",
       "      <th>right_ear-y</th>\n",
       "      <td>8082.0</td>\n",
       "      <td>-0.014813</td>\n",
       "      <td>0.074050</td>\n",
       "      <td>-0.600943</td>\n",
       "      <td>-0.067169</td>\n",
       "      <td>-0.022236</td>\n",
       "      <td>0.032704</td>\n",
       "      <td>0.307987</td>\n",
       "    </tr>\n",
       "    <tr>\n",
       "      <th>left_shoulder-x</th>\n",
       "      <td>8082.0</td>\n",
       "      <td>-0.180290</td>\n",
       "      <td>0.022239</td>\n",
       "      <td>-0.324522</td>\n",
       "      <td>-0.196206</td>\n",
       "      <td>-0.181984</td>\n",
       "      <td>-0.164952</td>\n",
       "      <td>0.108607</td>\n",
       "    </tr>\n",
       "    <tr>\n",
       "      <th>left_shoulder-y</th>\n",
       "      <td>8082.0</td>\n",
       "      <td>0.022173</td>\n",
       "      <td>0.059783</td>\n",
       "      <td>-0.644723</td>\n",
       "      <td>-0.009360</td>\n",
       "      <td>0.031664</td>\n",
       "      <td>0.058894</td>\n",
       "      <td>0.217369</td>\n",
       "    </tr>\n",
       "    <tr>\n",
       "      <th>right_shoulder-x</th>\n",
       "      <td>8082.0</td>\n",
       "      <td>-0.178201</td>\n",
       "      <td>0.023732</td>\n",
       "      <td>-0.330315</td>\n",
       "      <td>-0.194843</td>\n",
       "      <td>-0.179873</td>\n",
       "      <td>-0.162517</td>\n",
       "      <td>0.113468</td>\n",
       "    </tr>\n",
       "    <tr>\n",
       "      <th>right_shoulder-y</th>\n",
       "      <td>8082.0</td>\n",
       "      <td>-0.035503</td>\n",
       "      <td>0.066681</td>\n",
       "      <td>-0.623624</td>\n",
       "      <td>-0.083255</td>\n",
       "      <td>-0.048906</td>\n",
       "      <td>0.007593</td>\n",
       "      <td>0.231858</td>\n",
       "    </tr>\n",
       "    <tr>\n",
       "      <th>left_elbow-x</th>\n",
       "      <td>8082.0</td>\n",
       "      <td>-0.098745</td>\n",
       "      <td>0.034380</td>\n",
       "      <td>-0.289864</td>\n",
       "      <td>-0.110683</td>\n",
       "      <td>-0.092652</td>\n",
       "      <td>-0.078669</td>\n",
       "      <td>0.141110</td>\n",
       "    </tr>\n",
       "    <tr>\n",
       "      <th>left_elbow-y</th>\n",
       "      <td>8082.0</td>\n",
       "      <td>0.039047</td>\n",
       "      <td>0.109060</td>\n",
       "      <td>-0.584814</td>\n",
       "      <td>-0.018615</td>\n",
       "      <td>0.062343</td>\n",
       "      <td>0.105841</td>\n",
       "      <td>0.321894</td>\n",
       "    </tr>\n",
       "    <tr>\n",
       "      <th>right_elbow-x</th>\n",
       "      <td>8082.0</td>\n",
       "      <td>-0.091550</td>\n",
       "      <td>0.036391</td>\n",
       "      <td>-0.306689</td>\n",
       "      <td>-0.105767</td>\n",
       "      <td>-0.088367</td>\n",
       "      <td>-0.070069</td>\n",
       "      <td>0.145860</td>\n",
       "    </tr>\n",
       "    <tr>\n",
       "      <th>right_elbow-y</th>\n",
       "      <td>8082.0</td>\n",
       "      <td>-0.020554</td>\n",
       "      <td>0.106116</td>\n",
       "      <td>-0.578387</td>\n",
       "      <td>-0.082828</td>\n",
       "      <td>-0.037205</td>\n",
       "      <td>0.024109</td>\n",
       "      <td>0.373948</td>\n",
       "    </tr>\n",
       "    <tr>\n",
       "      <th>left_wrist-x</th>\n",
       "      <td>8082.0</td>\n",
       "      <td>-0.139957</td>\n",
       "      <td>0.049000</td>\n",
       "      <td>-0.285179</td>\n",
       "      <td>-0.172462</td>\n",
       "      <td>-0.151401</td>\n",
       "      <td>-0.115623</td>\n",
       "      <td>0.360479</td>\n",
       "    </tr>\n",
       "    <tr>\n",
       "      <th>left_wrist-y</th>\n",
       "      <td>8082.0</td>\n",
       "      <td>0.031239</td>\n",
       "      <td>0.171814</td>\n",
       "      <td>-0.605466</td>\n",
       "      <td>-0.103604</td>\n",
       "      <td>0.092593</td>\n",
       "      <td>0.143727</td>\n",
       "      <td>0.514626</td>\n",
       "    </tr>\n",
       "    <tr>\n",
       "      <th>right_wrist-x</th>\n",
       "      <td>8082.0</td>\n",
       "      <td>-0.134402</td>\n",
       "      <td>0.051586</td>\n",
       "      <td>-0.460253</td>\n",
       "      <td>-0.168863</td>\n",
       "      <td>-0.145767</td>\n",
       "      <td>-0.108117</td>\n",
       "      <td>0.162464</td>\n",
       "    </tr>\n",
       "    <tr>\n",
       "      <th>right_wrist-y</th>\n",
       "      <td>8082.0</td>\n",
       "      <td>0.010532</td>\n",
       "      <td>0.166968</td>\n",
       "      <td>-0.597528</td>\n",
       "      <td>-0.130232</td>\n",
       "      <td>0.041591</td>\n",
       "      <td>0.105878</td>\n",
       "      <td>0.541837</td>\n",
       "    </tr>\n",
       "    <tr>\n",
       "      <th>left_hip-x</th>\n",
       "      <td>8082.0</td>\n",
       "      <td>-0.000977</td>\n",
       "      <td>0.002704</td>\n",
       "      <td>-0.014933</td>\n",
       "      <td>-0.002695</td>\n",
       "      <td>-0.001198</td>\n",
       "      <td>0.000904</td>\n",
       "      <td>0.010399</td>\n",
       "    </tr>\n",
       "    <tr>\n",
       "      <th>left_hip-y</th>\n",
       "      <td>8082.0</td>\n",
       "      <td>0.010979</td>\n",
       "      <td>0.030319</td>\n",
       "      <td>-0.069044</td>\n",
       "      <td>-0.009446</td>\n",
       "      <td>0.019368</td>\n",
       "      <td>0.034927</td>\n",
       "      <td>0.069683</td>\n",
       "    </tr>\n",
       "    <tr>\n",
       "      <th>right_hip-x</th>\n",
       "      <td>8082.0</td>\n",
       "      <td>0.000977</td>\n",
       "      <td>0.002704</td>\n",
       "      <td>-0.010399</td>\n",
       "      <td>-0.000904</td>\n",
       "      <td>0.001199</td>\n",
       "      <td>0.002695</td>\n",
       "      <td>0.014933</td>\n",
       "    </tr>\n",
       "    <tr>\n",
       "      <th>right_hip-y</th>\n",
       "      <td>8082.0</td>\n",
       "      <td>-0.010979</td>\n",
       "      <td>0.030319</td>\n",
       "      <td>-0.069683</td>\n",
       "      <td>-0.034927</td>\n",
       "      <td>-0.019368</td>\n",
       "      <td>0.009446</td>\n",
       "      <td>0.069044</td>\n",
       "    </tr>\n",
       "    <tr>\n",
       "      <th>left_knee-x</th>\n",
       "      <td>8082.0</td>\n",
       "      <td>0.116652</td>\n",
       "      <td>0.015043</td>\n",
       "      <td>-0.012305</td>\n",
       "      <td>0.107593</td>\n",
       "      <td>0.117603</td>\n",
       "      <td>0.125446</td>\n",
       "      <td>0.223146</td>\n",
       "    </tr>\n",
       "    <tr>\n",
       "      <th>left_knee-y</th>\n",
       "      <td>8082.0</td>\n",
       "      <td>-0.042707</td>\n",
       "      <td>0.100467</td>\n",
       "      <td>-0.588815</td>\n",
       "      <td>-0.141781</td>\n",
       "      <td>-0.008841</td>\n",
       "      <td>0.033350</td>\n",
       "      <td>0.194992</td>\n",
       "    </tr>\n",
       "    <tr>\n",
       "      <th>right_knee-x</th>\n",
       "      <td>8082.0</td>\n",
       "      <td>0.122156</td>\n",
       "      <td>0.012954</td>\n",
       "      <td>-0.047165</td>\n",
       "      <td>0.114994</td>\n",
       "      <td>0.121821</td>\n",
       "      <td>0.129943</td>\n",
       "      <td>0.200239</td>\n",
       "    </tr>\n",
       "    <tr>\n",
       "      <th>right_knee-y</th>\n",
       "      <td>8082.0</td>\n",
       "      <td>0.060655</td>\n",
       "      <td>0.084959</td>\n",
       "      <td>-0.586356</td>\n",
       "      <td>-0.010844</td>\n",
       "      <td>0.050748</td>\n",
       "      <td>0.134245</td>\n",
       "      <td>0.251487</td>\n",
       "    </tr>\n",
       "    <tr>\n",
       "      <th>left_ankle-x</th>\n",
       "      <td>8082.0</td>\n",
       "      <td>0.230907</td>\n",
       "      <td>0.046184</td>\n",
       "      <td>0.043212</td>\n",
       "      <td>0.189564</td>\n",
       "      <td>0.236399</td>\n",
       "      <td>0.271579</td>\n",
       "      <td>0.397769</td>\n",
       "    </tr>\n",
       "    <tr>\n",
       "      <th>left_ankle-y</th>\n",
       "      <td>8082.0</td>\n",
       "      <td>-0.090411</td>\n",
       "      <td>0.076114</td>\n",
       "      <td>-0.625967</td>\n",
       "      <td>-0.144663</td>\n",
       "      <td>-0.085947</td>\n",
       "      <td>-0.041778</td>\n",
       "      <td>0.216879</td>\n",
       "    </tr>\n",
       "    <tr>\n",
       "      <th>right_ankle-x</th>\n",
       "      <td>8082.0</td>\n",
       "      <td>0.247476</td>\n",
       "      <td>0.037245</td>\n",
       "      <td>0.042565</td>\n",
       "      <td>0.226370</td>\n",
       "      <td>0.254591</td>\n",
       "      <td>0.274810</td>\n",
       "      <td>0.393990</td>\n",
       "    </tr>\n",
       "    <tr>\n",
       "      <th>right_ankle-y</th>\n",
       "      <td>8082.0</td>\n",
       "      <td>0.086541</td>\n",
       "      <td>0.072409</td>\n",
       "      <td>-0.620773</td>\n",
       "      <td>0.049522</td>\n",
       "      <td>0.087796</td>\n",
       "      <td>0.136692</td>\n",
       "      <td>0.273117</td>\n",
       "    </tr>\n",
       "  </tbody>\n",
       "</table>\n",
       "</div>"
      ],
      "text/plain": [
       "                   count      mean       std       min       25%       50%  \\\n",
       "nose-x            8082.0 -0.211063  0.022880 -0.464483 -0.224388 -0.212842   \n",
       "nose-y            8082.0  0.003452  0.111973 -0.668847 -0.110593  0.042986   \n",
       "left_eye-x        8082.0 -0.223147  0.025503 -0.394743 -0.237245 -0.225154   \n",
       "left_eye-y        8082.0  0.006113  0.110631 -0.627711 -0.103300  0.043040   \n",
       "right_eye-x       8082.0 -0.223402  0.024205 -0.407856 -0.237463 -0.225369   \n",
       "right_eye-y       8082.0 -0.001077  0.109995 -0.669672 -0.109724  0.028445   \n",
       "left_ear-x        8082.0 -0.228746  0.023500 -0.474184 -0.243461 -0.231127   \n",
       "left_ear-y        8082.0  0.004819  0.073950 -0.630785 -0.045234  0.011537   \n",
       "right_ear-x       8082.0 -0.229345  0.023138 -0.469636 -0.244179 -0.231966   \n",
       "right_ear-y       8082.0 -0.014813  0.074050 -0.600943 -0.067169 -0.022236   \n",
       "left_shoulder-x   8082.0 -0.180290  0.022239 -0.324522 -0.196206 -0.181984   \n",
       "left_shoulder-y   8082.0  0.022173  0.059783 -0.644723 -0.009360  0.031664   \n",
       "right_shoulder-x  8082.0 -0.178201  0.023732 -0.330315 -0.194843 -0.179873   \n",
       "right_shoulder-y  8082.0 -0.035503  0.066681 -0.623624 -0.083255 -0.048906   \n",
       "left_elbow-x      8082.0 -0.098745  0.034380 -0.289864 -0.110683 -0.092652   \n",
       "left_elbow-y      8082.0  0.039047  0.109060 -0.584814 -0.018615  0.062343   \n",
       "right_elbow-x     8082.0 -0.091550  0.036391 -0.306689 -0.105767 -0.088367   \n",
       "right_elbow-y     8082.0 -0.020554  0.106116 -0.578387 -0.082828 -0.037205   \n",
       "left_wrist-x      8082.0 -0.139957  0.049000 -0.285179 -0.172462 -0.151401   \n",
       "left_wrist-y      8082.0  0.031239  0.171814 -0.605466 -0.103604  0.092593   \n",
       "right_wrist-x     8082.0 -0.134402  0.051586 -0.460253 -0.168863 -0.145767   \n",
       "right_wrist-y     8082.0  0.010532  0.166968 -0.597528 -0.130232  0.041591   \n",
       "left_hip-x        8082.0 -0.000977  0.002704 -0.014933 -0.002695 -0.001198   \n",
       "left_hip-y        8082.0  0.010979  0.030319 -0.069044 -0.009446  0.019368   \n",
       "right_hip-x       8082.0  0.000977  0.002704 -0.010399 -0.000904  0.001199   \n",
       "right_hip-y       8082.0 -0.010979  0.030319 -0.069683 -0.034927 -0.019368   \n",
       "left_knee-x       8082.0  0.116652  0.015043 -0.012305  0.107593  0.117603   \n",
       "left_knee-y       8082.0 -0.042707  0.100467 -0.588815 -0.141781 -0.008841   \n",
       "right_knee-x      8082.0  0.122156  0.012954 -0.047165  0.114994  0.121821   \n",
       "right_knee-y      8082.0  0.060655  0.084959 -0.586356 -0.010844  0.050748   \n",
       "left_ankle-x      8082.0  0.230907  0.046184  0.043212  0.189564  0.236399   \n",
       "left_ankle-y      8082.0 -0.090411  0.076114 -0.625967 -0.144663 -0.085947   \n",
       "right_ankle-x     8082.0  0.247476  0.037245  0.042565  0.226370  0.254591   \n",
       "right_ankle-y     8082.0  0.086541  0.072409 -0.620773  0.049522  0.087796   \n",
       "\n",
       "                       75%       max  \n",
       "nose-x           -0.199485  0.356807  \n",
       "nose-y            0.095116  0.321883  \n",
       "left_eye-x       -0.211449  0.356518  \n",
       "left_eye-y        0.095421  0.301342  \n",
       "right_eye-x      -0.211442  0.356240  \n",
       "right_eye-y       0.087474  0.306070  \n",
       "left_ear-x       -0.216067  0.342778  \n",
       "left_ear-y        0.056043  0.293566  \n",
       "right_ear-x      -0.216725  0.338165  \n",
       "right_ear-y       0.032704  0.307987  \n",
       "left_shoulder-x  -0.164952  0.108607  \n",
       "left_shoulder-y   0.058894  0.217369  \n",
       "right_shoulder-x -0.162517  0.113468  \n",
       "right_shoulder-y  0.007593  0.231858  \n",
       "left_elbow-x     -0.078669  0.141110  \n",
       "left_elbow-y      0.105841  0.321894  \n",
       "right_elbow-x    -0.070069  0.145860  \n",
       "right_elbow-y     0.024109  0.373948  \n",
       "left_wrist-x     -0.115623  0.360479  \n",
       "left_wrist-y      0.143727  0.514626  \n",
       "right_wrist-x    -0.108117  0.162464  \n",
       "right_wrist-y     0.105878  0.541837  \n",
       "left_hip-x        0.000904  0.010399  \n",
       "left_hip-y        0.034927  0.069683  \n",
       "right_hip-x       0.002695  0.014933  \n",
       "right_hip-y       0.009446  0.069044  \n",
       "left_knee-x       0.125446  0.223146  \n",
       "left_knee-y       0.033350  0.194992  \n",
       "right_knee-x      0.129943  0.200239  \n",
       "right_knee-y      0.134245  0.251487  \n",
       "left_ankle-x      0.271579  0.397769  \n",
       "left_ankle-y     -0.041778  0.216879  \n",
       "right_ankle-x     0.274810  0.393990  \n",
       "right_ankle-y     0.136692  0.273117  "
      ]
     },
     "execution_count": 15,
     "metadata": {},
     "output_type": "execute_result"
    }
   ],
   "source": [
    "df.describe().transpose()"
   ]
  },
  {
   "cell_type": "code",
   "execution_count": 16,
   "metadata": {
    "scrolled": true
   },
   "outputs": [
    {
     "data": {
      "image/png": "[encoded data removed]",
      "text/plain": [
       "<Figure size 1152x720 with 1 Axes>"
      ]
     },
     "metadata": {
      "needs_background": "light"
     },
     "output_type": "display_data"
    }
   ],
   "source": [
    "plt.figure(figsize=(16, 10))\n",
    "ax = sns.violinplot(data=df)\n",
    "_ = ax.set_xticklabels(df.keys(), rotation=90)"
   ]
  },
  {
   "cell_type": "code",
   "execution_count": 17,
   "metadata": {},
   "outputs": [],
   "source": [
    "time_steps=30 # expect camera 30 fps, so process 1 sample per second\n",
    "# Number of samples in batch\n",
    "N_train = X_train.shape[0] // time_steps \n",
    "N_val = X_val.shape[0] // time_steps"
   ]
  },
  {
   "cell_type": "code",
   "execution_count": 19,
   "metadata": {},
   "outputs": [
    {
     "data": {
      "text/plain": [
       "((269, 30, 34), (98, 30, 34))"
      ]
     },
     "execution_count": 19,
     "metadata": {},
     "output_type": "execute_result"
    }
   ],
   "source": [
    "X_train = X_train[:N_train*time_steps].reshape(-1, time_steps, 34)\n",
    "y_train = y_train[:N_train*time_steps].reshape(-1, time_steps, 1)\n",
    "X_val = X_val[:N_val*time_steps].reshape(-1, time_steps, 34)\n",
    "y_val = y_val[:N_val*time_steps].reshape(-1, time_steps, 1)\n",
    "X_train.shape, X_val.shape"
   ]
  },
  {
   "cell_type": "markdown",
   "metadata": {},
   "source": [
    "## GRU"
   ]
  },
  {
   "cell_type": "code",
   "execution_count": 20,
   "metadata": {
    "scrolled": true
   },
   "outputs": [
    {
     "name": "stderr",
     "output_type": "stream",
     "text": [
      "2021-11-23 12:56:59.930190: I tensorflow/stream_executor/platform/default/dso_loader.cc:48] Successfully opened dynamic library libcuda.so.1\n",
      "2021-11-23 12:57:00.850996: E tensorflow/stream_executor/cuda/cuda_driver.cc:314] failed call to cuInit: CUDA_ERROR_UNKNOWN: unknown error\n",
      "2021-11-23 12:57:00.851045: I tensorflow/stream_executor/cuda/cuda_diagnostics.cc:169] retrieving CUDA diagnostic information for host: andrew-Aspire-A715-41G\n",
      "2021-11-23 12:57:00.851053: I tensorflow/stream_executor/cuda/cuda_diagnostics.cc:176] hostname: andrew-Aspire-A715-41G\n",
      "2021-11-23 12:57:00.851275: I tensorflow/stream_executor/cuda/cuda_diagnostics.cc:200] libcuda reported version is: 470.82.0\n",
      "2021-11-23 12:57:00.851301: I tensorflow/stream_executor/cuda/cuda_diagnostics.cc:204] kernel reported version is: 470.82.0\n",
      "2021-11-23 12:57:00.851307: I tensorflow/stream_executor/cuda/cuda_diagnostics.cc:310] kernel version seems to match DSO: 470.82.0\n",
      "2021-11-23 12:57:00.851789: I tensorflow/core/platform/cpu_feature_guard.cc:142] This TensorFlow binary is optimized with oneAPI Deep Neural Network Library (oneDNN)to use the following CPU instructions in performance-critical operations:  AVX2 FMA\n",
      "To enable them in other operations, rebuild TensorFlow with the appropriate compiler flags.\n",
      "2021-11-23 12:57:00.876658: I tensorflow/core/platform/profile_utils/cpu_utils.cc:104] CPU Frequency: 2295785000 Hz\n",
      "2021-11-23 12:57:00.877263: I tensorflow/compiler/xla/service/service.cc:168] XLA service 0x68b8010 initialized for platform Host (this does not guarantee that XLA will be used). Devices:\n",
      "2021-11-23 12:57:00.877307: I tensorflow/compiler/xla/service/service.cc:176]   StreamExecutor device (0): Host, Default Version\n"
     ]
    }
   ],
   "source": [
    "y_train = K.utils.to_categorical(y_train, num_classes=7)\n",
    "X_train = tf.constant(X_train)\n",
    "y_val = K.utils.to_categorical(y_val, num_classes=7)\n",
    "X_val = tf.constant(X_val)"
   ]
  },
  {
   "cell_type": "code",
   "execution_count": 21,
   "metadata": {},
   "outputs": [],
   "source": [
    "def model_builder(hp):\n",
    "    # Hyperparams\n",
    "    hp_ru = hp.Int('recurrent_units', min_value=16, max_value=128, step=8)\n",
    "    hp_du1 = hp.Int('units1', min_value=16, max_value=128, step=8)\n",
    "    hp_du2 = hp.Int('units2', min_value=16, max_value=128, step=8)\n",
    "    hp_reg1 = hp.Float('dense1_reg', min_value=1e-4, max_value=1e-2)\n",
    "    hp_reg2 = hp.Float('dense2_reg', min_value=1e-4, max_value=1e-2)\n",
    "    \n",
    "    hp_dp = hp.Float('dropout', min_value=0., max_value=0.4)\n",
    "    hp_rec_dp = hp.Float('rec_dropout', min_value=0., max_value=0.4)\n",
    "    hp_kernel_reg = hp.Float('kernel_reg', min_value=1e-5, max_value=1e-3, sampling='log')\n",
    "    hp_recur_reg = hp.Float('recur_reg', min_value=1e-5, max_value=1e-3, sampling='log')\n",
    "    hp_act_reg = hp.Float('act_reg', min_value=1e-5, max_value=1e-3, sampling='log')\n",
    "    \n",
    "    hp_learning_rate = hp.Float('learning_rate', min_value=1e-4, max_value=1e-2)\n",
    "\n",
    "    \n",
    "    # Model\n",
    "    norm = tf.keras.layers.LayerNormalization(axis=1)\n",
    "    kernel_reg = K.regularizers.l2(hp_kernel_reg)\n",
    "    recurrent_reg = K.regularizers.l2(hp_recur_reg)\n",
    "    act_reg = K.regularizers.l2(hp_act_reg)\n",
    "    lstm = K.layers.GRU(hp_ru,\n",
    "                         # stateful=True, # mutable states not supported in tflite \n",
    "                         return_sequences=True,\n",
    "                         kernel_regularizer=kernel_reg,\n",
    "                         recurrent_regularizer=recurrent_reg,\n",
    "                         activity_regularizer=act_reg,\n",
    "                         dropout=hp_dp,\n",
    "                         recurrent_dropout=hp_rec_dp\n",
    "                        )\n",
    "    dense1 = K.layers.Dense(hp_du1, activation='relu', \n",
    "                            kernel_regularizer=K.regularizers.l2(hp_reg1))\n",
    "    dense2 = K.layers.Dense(hp_du2, activation='relu', \n",
    "                           kernel_regularizer=K.regularizers.l2(hp_reg2))\n",
    "    out = K.layers.Dense(7, activation='sigmoid')\n",
    "\n",
    "    model = K.Sequential([norm, lstm, dense1, dense2, out])\n",
    "    model.compile(optimizer=K.optimizers.Adam(learning_rate=hp_learning_rate),\n",
    "                  loss='categorical_crossentropy',\n",
    "                  metrics=['accuracy'])\n",
    "    \n",
    "    return model"
   ]
  },
  {
   "cell_type": "code",
   "execution_count": 22,
   "metadata": {},
   "outputs": [
    {
     "name": "stdout",
     "output_type": "stream",
     "text": [
      "Trial 30 Complete [00h 01m 44s]\n",
      "val_accuracy: 0.6748299598693848\n",
      "\n",
      "Best val_accuracy So Far: 0.7010204195976257\n",
      "Total elapsed time: 00h 18m 07s\n",
      "INFO:tensorflow:Oracle triggered exit\n"
     ]
    }
   ],
   "source": [
    "tuner = kt.Hyperband(model_builder,\n",
    "                     objective='val_accuracy',\n",
    "                     max_epochs=20,\n",
    "                     directory='kt_dir2',\n",
    "                     project_name='punch_dl_kt')\n",
    "\n",
    "stop_early = tf.keras.callbacks.EarlyStopping(monitor='val_loss', patience=8)\n",
    "\n",
    "tuner.search(X_train, y_train, batch_size=1, validation_data=(X_val, y_val), \n",
    "             epochs=32, callbacks=[stop_early])"
   ]
  },
  {
   "cell_type": "code",
   "execution_count": 23,
   "metadata": {},
   "outputs": [
    {
     "data": {
      "text/plain": [
       "{'recurrent_units': 88,\n",
       " 'units1': 56,\n",
       " 'units2': 56,\n",
       " 'dense1_reg': 0.004625559119323045,\n",
       " 'dense2_reg': 0.004128083938236285,\n",
       " 'dropout': 0.045081307358864425,\n",
       " 'rec_dropout': 0.10082452744266553,\n",
       " 'kernel_reg': 1.4518980054608056e-05,\n",
       " 'recur_reg': 0.0008467013936377785,\n",
       " 'act_reg': 0.00012789451776909946,\n",
       " 'learning_rate': 0.001288850534891612,\n",
       " 'tuner/epochs': 3,\n",
       " 'tuner/initial_epoch': 0,\n",
       " 'tuner/bracket': 2,\n",
       " 'tuner/round': 0}"
      ]
     },
     "execution_count": 23,
     "metadata": {},
     "output_type": "execute_result"
    }
   ],
   "source": [
    "# Get the optimal hyperparameters\n",
    "best_hps=tuner.get_best_hyperparameters(num_trials=1)[0]\n",
    "\n",
    "best_hps.values"
   ]
  },
  {
   "cell_type": "code",
   "execution_count": 24,
   "metadata": {
    "scrolled": true
   },
   "outputs": [
    {
     "name": "stdout",
     "output_type": "stream",
     "text": [
      "Epoch 1/64\n",
      "269/269 [==============================] - 5s 17ms/step - loss: 1.8344 - accuracy: 0.5172 - val_loss: 1.3857 - val_accuracy: 0.5888\n",
      "Epoch 2/64\n",
      "269/269 [==============================] - 4s 15ms/step - loss: 1.2772 - accuracy: 0.6154 - val_loss: 1.2073 - val_accuracy: 0.6531\n",
      "Epoch 3/64\n",
      "269/269 [==============================] - 4s 14ms/step - loss: 1.1006 - accuracy: 0.6616 - val_loss: 1.2211 - val_accuracy: 0.6670\n",
      "Epoch 4/64\n",
      "269/269 [==============================] - 4s 15ms/step - loss: 0.9954 - accuracy: 0.6942 - val_loss: 1.1618 - val_accuracy: 0.6905\n",
      "Epoch 5/64\n",
      "269/269 [==============================] - 4s 16ms/step - loss: 0.9178 - accuracy: 0.7244 - val_loss: 1.1622 - val_accuracy: 0.6847\n",
      "Epoch 6/64\n",
      "269/269 [==============================] - 4s 16ms/step - loss: 0.8694 - accuracy: 0.7454 - val_loss: 1.1681 - val_accuracy: 0.6636\n",
      "Epoch 7/64\n",
      "269/269 [==============================] - 4s 16ms/step - loss: 0.8059 - accuracy: 0.7736 - val_loss: 1.2061 - val_accuracy: 0.6752\n",
      "Epoch 8/64\n",
      "269/269 [==============================] - 4s 16ms/step - loss: 0.7804 - accuracy: 0.7772 - val_loss: 1.4996 - val_accuracy: 0.5932\n",
      "Epoch 9/64\n",
      "269/269 [==============================] - 5s 17ms/step - loss: 0.7283 - accuracy: 0.8108 - val_loss: 1.2747 - val_accuracy: 0.6480\n",
      "Epoch 10/64\n",
      "269/269 [==============================] - 5s 17ms/step - loss: 0.7023 - accuracy: 0.8155 - val_loss: 1.3407 - val_accuracy: 0.6480\n",
      "Epoch 11/64\n",
      "269/269 [==============================] - 4s 16ms/step - loss: 0.6583 - accuracy: 0.8425 - val_loss: 1.3917 - val_accuracy: 0.6721\n",
      "Epoch 12/64\n",
      "269/269 [==============================] - 4s 15ms/step - loss: 0.6516 - accuracy: 0.8468 - val_loss: 1.4854 - val_accuracy: 0.6480\n",
      "Epoch 13/64\n",
      "269/269 [==============================] - 4s 16ms/step - loss: 0.5893 - accuracy: 0.8673 - val_loss: 1.4957 - val_accuracy: 0.6949\n",
      "Epoch 14/64\n",
      "269/269 [==============================] - 5s 17ms/step - loss: 0.5611 - accuracy: 0.8778 - val_loss: 1.4854 - val_accuracy: 0.6619\n",
      "Epoch 15/64\n",
      "269/269 [==============================] - 4s 16ms/step - loss: 0.4996 - accuracy: 0.9047 - val_loss: 1.5039 - val_accuracy: 0.7058\n",
      "Epoch 16/64\n",
      "269/269 [==============================] - 4s 17ms/step - loss: 0.4703 - accuracy: 0.9193 - val_loss: 1.4826 - val_accuracy: 0.7048\n",
      "Epoch 17/64\n",
      "269/269 [==============================] - 5s 19ms/step - loss: 0.4634 - accuracy: 0.9175 - val_loss: 1.5168 - val_accuracy: 0.7000\n",
      "Epoch 18/64\n",
      "269/269 [==============================] - 5s 17ms/step - loss: 0.4512 - accuracy: 0.9227 - val_loss: 1.5048 - val_accuracy: 0.7017\n",
      "Epoch 19/64\n",
      "269/269 [==============================] - 5s 17ms/step - loss: 0.4463 - accuracy: 0.9252 - val_loss: 1.5184 - val_accuracy: 0.6881\n",
      "Epoch 20/64\n",
      "269/269 [==============================] - 5s 17ms/step - loss: 0.4405 - accuracy: 0.9234 - val_loss: 1.5316 - val_accuracy: 0.6949\n",
      "Epoch 21/64\n",
      "269/269 [==============================] - 5s 17ms/step - loss: 0.4377 - accuracy: 0.9257 - val_loss: 1.5442 - val_accuracy: 0.6915\n",
      "Epoch 22/64\n",
      "269/269 [==============================] - 5s 17ms/step - loss: 0.4327 - accuracy: 0.9311 - val_loss: 1.5498 - val_accuracy: 0.6915\n",
      "Epoch 23/64\n",
      "269/269 [==============================] - 5s 17ms/step - loss: 0.4250 - accuracy: 0.9338 - val_loss: 1.5722 - val_accuracy: 0.6874\n",
      "Epoch 24/64\n",
      "269/269 [==============================] - 5s 18ms/step - loss: 0.4220 - accuracy: 0.9341 - val_loss: 1.5504 - val_accuracy: 0.6898\n",
      "Epoch 25/64\n",
      "269/269 [==============================] - 5s 18ms/step - loss: 0.4117 - accuracy: 0.9377 - val_loss: 1.5539 - val_accuracy: 0.6912\n",
      "Epoch 26/64\n",
      "269/269 [==============================] - 5s 17ms/step - loss: 0.4117 - accuracy: 0.9384 - val_loss: 1.5554 - val_accuracy: 0.6905\n",
      "Epoch 27/64\n",
      "269/269 [==============================] - 5s 17ms/step - loss: 0.4106 - accuracy: 0.9398 - val_loss: 1.5583 - val_accuracy: 0.6912\n",
      "Epoch 28/64\n",
      "269/269 [==============================] - 5s 18ms/step - loss: 0.4107 - accuracy: 0.9380 - val_loss: 1.5635 - val_accuracy: 0.6908\n",
      "Epoch 29/64\n",
      "269/269 [==============================] - 5s 18ms/step - loss: 0.4100 - accuracy: 0.9406 - val_loss: 1.5630 - val_accuracy: 0.6915\n",
      "Epoch 30/64\n",
      "269/269 [==============================] - 5s 17ms/step - loss: 0.4104 - accuracy: 0.9418 - val_loss: 1.5626 - val_accuracy: 0.6925\n",
      "Epoch 31/64\n",
      "269/269 [==============================] - 5s 18ms/step - loss: 0.4069 - accuracy: 0.9413 - val_loss: 1.5638 - val_accuracy: 0.6929\n",
      "Epoch 32/64\n",
      "269/269 [==============================] - 5s 18ms/step - loss: 0.4047 - accuracy: 0.9430 - val_loss: 1.5639 - val_accuracy: 0.6915\n",
      "Epoch 33/64\n",
      "269/269 [==============================] - 5s 19ms/step - loss: 0.4091 - accuracy: 0.9390 - val_loss: 1.5651 - val_accuracy: 0.6905\n",
      "Epoch 34/64\n",
      "269/269 [==============================] - 5s 18ms/step - loss: 0.4063 - accuracy: 0.9418 - val_loss: 1.5638 - val_accuracy: 0.6901\n",
      "Epoch 35/64\n",
      "269/269 [==============================] - 5s 18ms/step - loss: 0.4064 - accuracy: 0.9398 - val_loss: 1.5642 - val_accuracy: 0.6901\n",
      "Epoch 36/64\n",
      "269/269 [==============================] - 5s 18ms/step - loss: 0.4047 - accuracy: 0.9404 - val_loss: 1.5649 - val_accuracy: 0.6901\n",
      "Epoch 37/64\n",
      "269/269 [==============================] - 5s 17ms/step - loss: 0.4045 - accuracy: 0.9406 - val_loss: 1.5654 - val_accuracy: 0.6901\n",
      "Epoch 38/64\n",
      "269/269 [==============================] - 5s 18ms/step - loss: 0.4053 - accuracy: 0.9405 - val_loss: 1.5657 - val_accuracy: 0.6901\n",
      "Epoch 39/64\n",
      "269/269 [==============================] - 5s 18ms/step - loss: 0.4073 - accuracy: 0.9392 - val_loss: 1.5660 - val_accuracy: 0.6901\n",
      "Epoch 40/64\n",
      "269/269 [==============================] - 5s 18ms/step - loss: 0.4070 - accuracy: 0.9398 - val_loss: 1.5661 - val_accuracy: 0.6901\n",
      "Epoch 41/64\n",
      "269/269 [==============================] - 5s 18ms/step - loss: 0.4080 - accuracy: 0.9399 - val_loss: 1.5666 - val_accuracy: 0.6901\n",
      "Epoch 42/64\n",
      "269/269 [==============================] - 5s 18ms/step - loss: 0.4112 - accuracy: 0.9383 - val_loss: 1.5673 - val_accuracy: 0.6905\n",
      "Epoch 43/64\n",
      "269/269 [==============================] - 5s 19ms/step - loss: 0.4049 - accuracy: 0.9408 - val_loss: 1.5674 - val_accuracy: 0.6905\n",
      "Epoch 44/64\n",
      "269/269 [==============================] - 5s 17ms/step - loss: 0.4054 - accuracy: 0.9428 - val_loss: 1.5674 - val_accuracy: 0.6905\n",
      "Epoch 45/64\n",
      "269/269 [==============================] - 5s 18ms/step - loss: 0.4021 - accuracy: 0.9416 - val_loss: 1.5674 - val_accuracy: 0.6905\n",
      "Epoch 46/64\n",
      "269/269 [==============================] - 5s 17ms/step - loss: 0.4030 - accuracy: 0.9432 - val_loss: 1.5675 - val_accuracy: 0.6905\n",
      "Epoch 47/64\n",
      "269/269 [==============================] - 5s 18ms/step - loss: 0.4052 - accuracy: 0.9434 - val_loss: 1.5676 - val_accuracy: 0.6905\n",
      "Epoch 48/64\n",
      "269/269 [==============================] - 5s 18ms/step - loss: 0.4073 - accuracy: 0.9382 - val_loss: 1.5676 - val_accuracy: 0.6905\n",
      "Epoch 49/64\n",
      "269/269 [==============================] - 5s 18ms/step - loss: 0.4073 - accuracy: 0.9403 - val_loss: 1.5676 - val_accuracy: 0.6905\n",
      "Epoch 50/64\n",
      "269/269 [==============================] - 5s 18ms/step - loss: 0.4094 - accuracy: 0.9410 - val_loss: 1.5676 - val_accuracy: 0.6905\n",
      "Epoch 51/64\n",
      "269/269 [==============================] - 5s 18ms/step - loss: 0.4048 - accuracy: 0.9416 - val_loss: 1.5676 - val_accuracy: 0.6905\n",
      "Epoch 52/64\n",
      "269/269 [==============================] - 5s 19ms/step - loss: 0.4039 - accuracy: 0.9428 - val_loss: 1.5677 - val_accuracy: 0.6905\n",
      "Epoch 53/64\n",
      "269/269 [==============================] - 5s 18ms/step - loss: 0.4047 - accuracy: 0.9405 - val_loss: 1.5677 - val_accuracy: 0.6905\n",
      "Epoch 54/64\n",
      "269/269 [==============================] - 5s 17ms/step - loss: 0.4064 - accuracy: 0.9434 - val_loss: 1.5677 - val_accuracy: 0.6905\n",
      "Epoch 55/64\n",
      "269/269 [==============================] - 4s 16ms/step - loss: 0.4051 - accuracy: 0.9426 - val_loss: 1.5677 - val_accuracy: 0.6905\n",
      "Epoch 56/64\n",
      "269/269 [==============================] - 5s 17ms/step - loss: 0.4049 - accuracy: 0.9420 - val_loss: 1.5677 - val_accuracy: 0.6905\n",
      "Epoch 57/64\n",
      "269/269 [==============================] - 5s 19ms/step - loss: 0.4021 - accuracy: 0.9428 - val_loss: 1.5677 - val_accuracy: 0.6905\n"
     ]
    },
    {
     "name": "stdout",
     "output_type": "stream",
     "text": [
      "Epoch 58/64\n",
      "269/269 [==============================] - 5s 18ms/step - loss: 0.4040 - accuracy: 0.9411 - val_loss: 1.5677 - val_accuracy: 0.6905\n",
      "Epoch 59/64\n",
      "269/269 [==============================] - 5s 18ms/step - loss: 0.4063 - accuracy: 0.9403 - val_loss: 1.5677 - val_accuracy: 0.6905\n",
      "Epoch 60/64\n",
      "269/269 [==============================] - 5s 18ms/step - loss: 0.4071 - accuracy: 0.9418 - val_loss: 1.5677 - val_accuracy: 0.6905\n",
      "Epoch 61/64\n",
      "269/269 [==============================] - 5s 19ms/step - loss: 0.4062 - accuracy: 0.9395 - val_loss: 1.5677 - val_accuracy: 0.6905\n",
      "Epoch 62/64\n",
      "269/269 [==============================] - 5s 19ms/step - loss: 0.4050 - accuracy: 0.9430 - val_loss: 1.5678 - val_accuracy: 0.6905\n",
      "Epoch 63/64\n",
      "269/269 [==============================] - 5s 18ms/step - loss: 0.4054 - accuracy: 0.9414 - val_loss: 1.5678 - val_accuracy: 0.6905\n",
      "Epoch 64/64\n",
      "269/269 [==============================] - 5s 19ms/step - loss: 0.4080 - accuracy: 0.9413 - val_loss: 1.5678 - val_accuracy: 0.6905\n",
      "Best epoch: 15\n"
     ]
    }
   ],
   "source": [
    "# Build the model with the optimal hyperparameters and train it on the data for 64 epochs\n",
    "model = tuner.hypermodel.build(best_hps)\n",
    "history = model.fit(X_train, y_train, batch_size=1, \n",
    "                    validation_data=(X_val, y_val), \n",
    "                    epochs=64,\n",
    "                   callbacks=[K.callbacks.ReduceLROnPlateau()])\n",
    "\n",
    "val_acc_per_epoch = history.history['val_accuracy']\n",
    "best_epoch = val_acc_per_epoch.index(max(val_acc_per_epoch)) + 1\n",
    "print('Best epoch: %d' % (best_epoch,))"
   ]
  },
  {
   "cell_type": "code",
   "execution_count": 25,
   "metadata": {},
   "outputs": [
    {
     "data": {
      "text/plain": [
       "[<matplotlib.lines.Line2D at 0x7f1a686ee4c0>]"
      ]
     },
     "execution_count": 25,
     "metadata": {},
     "output_type": "execute_result"
    },
    {
     "data": {
      "image/png": "[encoded data removed]",
      "text/plain": [
       "<Figure size 1080x504 with 2 Axes>"
      ]
     },
     "metadata": {
      "needs_background": "light"
     },
     "output_type": "display_data"
    }
   ],
   "source": [
    "plt.figure(figsize=(15, 7))\n",
    "plt.subplot(221)\n",
    "plt.title(\"Train Loss\")\n",
    "plt.plot(history.history['loss'])\n",
    "plt.subplot(222)\n",
    "plt.title(\"Train/validation accuracy\")\n",
    "plt.plot(history.history['accuracy'])\n",
    "plt.plot(history.history['val_accuracy'])"
   ]
  },
  {
   "cell_type": "markdown",
   "metadata": {},
   "source": [
    "# Conclusion \n",
    "\n",
    "We need more data to avoid overfitting"
   ]
  },
  {
   "cell_type": "markdown",
   "metadata": {},
   "source": [
    "# Convert the model"
   ]
  },
  {
   "cell_type": "code",
   "execution_count": 26,
   "metadata": {
    "scrolled": true
   },
   "outputs": [
    {
     "name": "stdout",
     "output_type": "stream",
     "text": [
      "WARNING:tensorflow:From /home/andrew/Рабочий стол/Нейросети/venv/lib/python3.8/site-packages/tensorflow/python/training/tracking/tracking.py:111: Model.state_updates (from tensorflow.python.keras.engine.training) is deprecated and will be removed in a future version.\n",
      "Instructions for updating:\n",
      "This property should not be used in TensorFlow 2.0, as updates are applied automatically.\n",
      "WARNING:tensorflow:From /home/andrew/Рабочий стол/Нейросети/venv/lib/python3.8/site-packages/tensorflow/python/training/tracking/tracking.py:111: Layer.updates (from tensorflow.python.keras.engine.base_layer) is deprecated and will be removed in a future version.\n",
      "Instructions for updating:\n",
      "This property should not be used in TensorFlow 2.0, as updates are applied automatically.\n"
     ]
    },
    {
     "name": "stderr",
     "output_type": "stream",
     "text": [
      "2021-11-23 13:50:55.571283: W tensorflow/python/util/util.cc:348] Sets are not currently considered sequences, but this may change in the future, so consider avoiding using them.\n"
     ]
    },
    {
     "name": "stdout",
     "output_type": "stream",
     "text": [
      "INFO:tensorflow:Assets written to: /tmp/tmpbzvki7c5/assets\n"
     ]
    },
    {
     "name": "stderr",
     "output_type": "stream",
     "text": [
      "2021-11-23 13:50:58.359080: I tensorflow/core/grappler/devices.cc:69] Number of eligible GPUs (core count >= 8, compute capability >= 0.0): 0\n",
      "2021-11-23 13:50:58.359213: I tensorflow/core/grappler/clusters/single_machine.cc:356] Starting new session\n",
      "2021-11-23 13:50:58.372107: I tensorflow/core/grappler/optimizers/meta_optimizer.cc:816] Optimization results for grappler item: graph_to_optimize\n",
      "2021-11-23 13:50:58.372144: I tensorflow/core/grappler/optimizers/meta_optimizer.cc:818]   function_optimizer: Graph size after: 207 nodes (0), 234 edges (0), time = 2.152ms.\n",
      "2021-11-23 13:50:58.372147: I tensorflow/core/grappler/optimizers/meta_optimizer.cc:818]   function_optimizer: Graph size after: 207 nodes (0), 234 edges (0), time = 2.325ms.\n",
      "2021-11-23 13:50:58.372150: I tensorflow/core/grappler/optimizers/meta_optimizer.cc:816] Optimization results for grappler item: sequential_1_gru_1_while_cond_353211\n",
      "2021-11-23 13:50:58.372153: I tensorflow/core/grappler/optimizers/meta_optimizer.cc:818]   function_optimizer: function_optimizer did nothing. time = 0.001ms.\n",
      "2021-11-23 13:50:58.372156: I tensorflow/core/grappler/optimizers/meta_optimizer.cc:818]   function_optimizer: function_optimizer did nothing. time = 0.001ms.\n",
      "2021-11-23 13:50:58.372159: I tensorflow/core/grappler/optimizers/meta_optimizer.cc:816] Optimization results for grappler item: sequential_1_gru_1_while_body_353212\n",
      "2021-11-23 13:50:58.372161: I tensorflow/core/grappler/optimizers/meta_optimizer.cc:818]   function_optimizer: function_optimizer did nothing. time = 0ms.\n",
      "2021-11-23 13:50:58.372164: I tensorflow/core/grappler/optimizers/meta_optimizer.cc:818]   function_optimizer: function_optimizer did nothing. time = 0ms.\n",
      "2021-11-23 13:50:58.507008: W tensorflow/compiler/mlir/lite/python/tf_tfl_flatbuffer_helpers.cc:313] Ignored output_format.\n",
      "2021-11-23 13:50:58.507057: W tensorflow/compiler/mlir/lite/python/tf_tfl_flatbuffer_helpers.cc:316] Ignored drop_control_dependency.\n"
     ]
    }
   ],
   "source": [
    "converter = tf.lite.TFLiteConverter.from_keras_model(model) \n",
    "\n",
    "tflite_model = converter.convert()"
   ]
  },
  {
   "cell_type": "code",
   "execution_count": 27,
   "metadata": {},
   "outputs": [],
   "source": [
    "# Save the model.\n",
    "save_tflite_model(tflite_model, 'tflite_models')"
   ]
  },
  {
   "cell_type": "code",
   "execution_count": 29,
   "metadata": {},
   "outputs": [
    {
     "name": "stdout",
     "output_type": "stream",
     "text": [
      "Done. The result of TensorFlow matches the result of TensorFlow Lite.\n",
      "Done. The result of TensorFlow matches the result of TensorFlow Lite.\n",
      "Done. The result of TensorFlow matches the result of TensorFlow Lite.\n",
      "Done. The result of TensorFlow matches the result of TensorFlow Lite.\n",
      "Done. The result of TensorFlow matches the result of TensorFlow Lite.\n",
      "Done. The result of TensorFlow matches the result of TensorFlow Lite.\n",
      "Done. The result of TensorFlow matches the result of TensorFlow Lite.\n",
      "Done. The result of TensorFlow matches the result of TensorFlow Lite.\n",
      "Done. The result of TensorFlow matches the result of TensorFlow Lite.\n",
      "Done. The result of TensorFlow matches the result of TensorFlow Lite.\n"
     ]
    }
   ],
   "source": [
    "# Run the model with TensorFlow to get expected results.\n",
    "TEST_CASES = 10\n",
    "x = tf.reshape(X_val, (-1, time_steps, 34))\n",
    "# Run the model with TensorFlow Lite\n",
    "interpreter = tf.lite.Interpreter(model_content=tflite_model)\n",
    "interpreter.allocate_tensors()\n",
    "input_details = interpreter.get_input_details()\n",
    "output_details = interpreter.get_output_details()\n",
    "\n",
    "for i in range(TEST_CASES):\n",
    "    expected = model.predict(x[i:i+1])\n",
    "    interpreter.set_tensor(input_details[0][\"index\"], x[i:i+1])\n",
    "    interpreter.invoke()\n",
    "    result = interpreter.get_tensor(output_details[0][\"index\"])\n",
    "\n",
    "    # Assert if the result of TFLite model is consistent with the TF model.\n",
    "    np.testing.assert_almost_equal(expected, result, decimal=5)\n",
    "    print(\"Done. The result of TensorFlow matches the result of TensorFlow Lite.\")\n",
    "\n",
    "    # Please note: TfLite fused Lstm kernel is stateful, so we need to reset\n",
    "    # the states.\n",
    "    # Clean up internal states.\n",
    "    interpreter.reset_all_variables()"
   ]
  },
  {
   "cell_type": "markdown",
   "metadata": {},
   "source": [
    "# Moving most frequent smoothing"
   ]
  },
  {
   "cell_type": "code",
   "execution_count": 30,
   "metadata": {},
   "outputs": [],
   "source": [
    "y_pred = np.argmax(model(x).numpy(), axis=-1).ravel()\n",
    "y_val_np = np.concatenate(y_val_list)[:N_val*time_steps]"
   ]
  },
  {
   "cell_type": "code",
   "execution_count": 31,
   "metadata": {},
   "outputs": [],
   "source": [
    "# [1,1,1,1,3,3,1,1] -> [1]\n",
    "# moving window across padded y_pred\n",
    "# output element is most frequent in window\n",
    "\n",
    "win_size = time_steps // 2\n",
    "mf_smooth = np.zeros(y_pred.shape[0]+win_size)\n",
    "for i in range(len(y_pred) - win_size):\n",
    "    window = y_pred[i:i+win_size]\n",
    "    bins = np.bincount(window)\n",
    "    mf_smooth[i+win_size//2] = np.argmax(bins)\n",
    "\n",
    "mf_smooth = mf_smooth[:-win_size]"
   ]
  },
  {
   "cell_type": "code",
   "execution_count": 32,
   "metadata": {},
   "outputs": [
    {
     "data": {
      "text/plain": [
       "(2940, 2940, 2940)"
      ]
     },
     "execution_count": 32,
     "metadata": {},
     "output_type": "execute_result"
    }
   ],
   "source": [
    "len(mf_smooth), len(y_pred), len(y_val_np)"
   ]
  },
  {
   "cell_type": "code",
   "execution_count": 33,
   "metadata": {},
   "outputs": [
    {
     "name": "stdout",
     "output_type": "stream",
     "text": [
      "0.6904761904761905\n",
      "0.7170068027210884\n"
     ]
    }
   ],
   "source": [
    "print(np.mean(y_val_np==y_pred))\n",
    "print(np.mean(y_val_np==mf_smooth))"
   ]
  },
  {
   "cell_type": "code",
   "execution_count": 34,
   "metadata": {
    "scrolled": false
   },
   "outputs": [
    {
     "data": {
      "text/plain": [
       "[<matplotlib.lines.Line2D at 0x7f1a6bd57a60>]"
      ]
     },
     "execution_count": 34,
     "metadata": {},
     "output_type": "execute_result"
    },
    {
     "data": {
      "image/png": "[encoded data removed]",
      "text/plain": [
       "<Figure size 1152x864 with 3 Axes>"
      ]
     },
     "metadata": {
      "needs_background": "light"
     },
     "output_type": "display_data"
    }
   ],
   "source": [
    "plt.figure(figsize=(16, 12))\n",
    "\n",
    "plt.subplot(3, 1, 1)\n",
    "plt.title('Original')\n",
    "plt.plot(y_val_np[:600])\n",
    "\n",
    "plt.subplot(3, 1, 2)\n",
    "plt.title('Prediction')\n",
    "plt.plot(y_pred[:600])\n",
    "\n",
    "plt.subplot(3, 1, 3)\n",
    "plt.title('Smoothed prediction')\n",
    "plt.plot(mf_smooth[:600])\n"
   ]
  },
  {
   "cell_type": "markdown",
   "metadata": {},
   "source": [
    "Thanks to:  \n",
    "https://github.com/keras-team/keras-tuner"
   ]
  }
 ],
 "metadata": {
  "kernelspec": {
   "display_name": "Python 3 (ipykernel)",
   "language": "python",
   "name": "python3"
  },
  "language_info": {
   "codemirror_mode": {
    "name": "ipython",
    "version": 3
   },
   "file_extension": ".py",
   "mimetype": "text/x-python",
   "name": "python",
   "nbconvert_exporter": "python",
   "pygments_lexer": "ipython3",
   "version": "3.8.10"
  }
 },
 "nbformat": 4,
 "nbformat_minor": 2
}
