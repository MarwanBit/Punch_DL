{
 "cells": [
  {
   "cell_type": "markdown",
   "metadata": {},
   "source": [
    "# Load data"
   ]
  },
  {
   "cell_type": "code",
   "execution_count": 1,
   "metadata": {
    "scrolled": true
   },
   "outputs": [
    {
     "name": "stderr",
     "output_type": "stream",
     "text": [
      "2021-12-15 10:24:08.176387: I tensorflow/stream_executor/platform/default/dso_loader.cc:48] Successfully opened dynamic library libcudart.so.10.1\n"
     ]
    }
   ],
   "source": [
    "import re\n",
    "import os\n",
    "import random\n",
    "import numpy as np\n",
    "import matplotlib.pyplot as plt\n",
    "import pandas as pd\n",
    "import seaborn as sns\n",
    "\n",
    "import tensorflow as tf\n",
    "import tensorflow.keras as K\n",
    "import keras_tuner as kt\n",
    "\n",
    "from lib.utils import (\n",
    "    normalize_mid_points,\n",
    "    read_data,\n",
    "    format_feature_names,\n",
    "    save_tflite_model,\n",
    "    apply_cart2pol_along_axis\n",
    ")\n",
    "from lib.keypoints import KEYPOINT_DICT"
   ]
  },
  {
   "cell_type": "code",
   "execution_count": 2,
   "metadata": {
    "pycharm": {
     "name": "#%%\n"
    }
   },
   "outputs": [],
   "source": [
    "keypoints = os.listdir('./data/keypoints')\n",
    "\n",
    "# punch types: hook, jab, uper\n",
    "keypoints_by_punch_types = [\n",
    "    [i for i in keypoints if 'hook' in i],\n",
    "    [i for i in keypoints if 'jab' in i],\n",
    "    [i for i in keypoints if 'uper' in i]\n",
    "]"
   ]
  },
  {
   "cell_type": "code",
   "execution_count": 3,
   "metadata": {},
   "outputs": [
    {
     "data": {
      "text/plain": [
       "[['id3_hook_1.npy',\n",
       "  'id2_hook_2_reversed.npy',\n",
       "  'id1_hook_2_reversed.npy',\n",
       "  'id0_hook_1.npy',\n",
       "  'id2_hook_1.npy',\n",
       "  'id1_hook_1.npy',\n",
       "  'id3_hook_2_reversed.npy',\n",
       "  'id0_hook_2_reversed.npy',\n",
       "  'id4_hook_2_reversed.npy',\n",
       "  'id4_hook_1.npy'],\n",
       " ['id1_jab_2_reversed.npy',\n",
       "  'id3_jab_1.npy',\n",
       "  'id1_jab_1.npy',\n",
       "  'id0_jab_2_reversed.npy',\n",
       "  'id4_jab_1.npy',\n",
       "  'id2_jab_2_reversed.npy',\n",
       "  'id2_jab_1.npy',\n",
       "  'id0_jab_1.npy',\n",
       "  'id4_jab_2_reversed.npy',\n",
       "  'id3_jab_2_reversed.npy'],\n",
       " ['id0_uper_2_reversed.npy',\n",
       "  'id2_uper_2_reversed.npy',\n",
       "  'id3_uper_2_reversed.npy',\n",
       "  'id0_uper_1.npy',\n",
       "  'id1_uper_2_reversed.npy',\n",
       "  'id2_uper_1.npy',\n",
       "  'id3_uper_1.npy',\n",
       "  'id4_uper_2_reversed.npy',\n",
       "  'id4_uper_1.npy',\n",
       "  'id1_uper_1.npy']]"
      ]
     },
     "execution_count": 3,
     "metadata": {},
     "output_type": "execute_result"
    }
   ],
   "source": [
    "keypoints_by_punch_types"
   ]
  },
  {
   "cell_type": "code",
   "execution_count": 25,
   "metadata": {},
   "outputs": [
    {
     "name": "stdout",
     "output_type": "stream",
     "text": [
      "(1461, 36)\n",
      "(1041, 36)\n",
      "(792, 36)\n",
      "(1100, 36)\n",
      "(1013, 36)\n",
      "(858, 36)\n",
      "(1051, 36)\n",
      "(1059, 36)\n",
      "(1054, 36)\n",
      "(1297, 36)\n",
      "(643, 36)\n",
      "(1170, 36)\n",
      "(802, 36)\n",
      "(993, 36)\n",
      "(911, 36)\n",
      "(1030, 36)\n",
      "(1032, 36)\n",
      "(964, 36)\n",
      "(1164, 36)\n",
      "(952, 36)\n",
      "(1186, 36)\n",
      "(1033, 36)\n",
      "(1196, 36)\n",
      "(1200, 36)\n",
      "(703, 36)\n",
      "(1064, 36)\n",
      "(1277, 36)\n",
      "(1157, 36)\n",
      "(746, 36)\n",
      "(1125, 36)\n"
     ]
    }
   ],
   "source": [
    "X_train_list = []\n",
    "y_train_list = []\n",
    "X_val_list = []\n",
    "y_val_list = []\n",
    "\n",
    "for keypoints in keypoints_by_punch_types:\n",
    "    test_keypoints = random.choice(keypoints)\n",
    "\n",
    "    for label in [i for i in keypoints if i != test_keypoints]:\n",
    "        X, y = read_data(label, normalize_mp='2D', skip_midpoints=False)\n",
    "        X_train_list.append(X)\n",
    "        y_train_list.append(y)\n",
    "    \n",
    "    X, y = read_data(test_keypoints, normalize_mp='2D', skip_midpoints=False)\n",
    "    X_val_list.append(X)\n",
    "    y_val_list.append(y)\n",
    "\n",
    "\n",
    "X_train = np.concatenate(X_train_list)\n",
    "y_train = np.concatenate(y_train_list)\n",
    "X_val = np.concatenate(X_val_list)\n",
    "y_val = np.concatenate(y_val_list)"
   ]
  },
  {
   "cell_type": "code",
   "execution_count": 26,
   "metadata": {},
   "outputs": [
    {
     "data": {
      "text/plain": [
       "((27700, 36), (27700,), (3374, 36), (3374,))"
      ]
     },
     "execution_count": 26,
     "metadata": {},
     "output_type": "execute_result"
    }
   ],
   "source": [
    "X_train.shape, y_train.shape, X_val.shape, y_val.shape"
   ]
  },
  {
   "cell_type": "code",
   "execution_count": 29,
   "metadata": {},
   "outputs": [],
   "source": [
    "feature_names = format_feature_names(list(KEYPOINT_DICT.keys()), ndims=2, skip_midpoints=False)"
   ]
  },
  {
   "cell_type": "code",
   "execution_count": 30,
   "metadata": {},
   "outputs": [],
   "source": [
    "df = pd.DataFrame(data=X_train, columns=feature_names)"
   ]
  },
  {
   "cell_type": "code",
   "execution_count": 31,
   "metadata": {
    "scrolled": false
   },
   "outputs": [
    {
     "data": {
      "text/html": [
       "<div>\n",
       "<style scoped>\n",
       "    .dataframe tbody tr th:only-of-type {\n",
       "        vertical-align: middle;\n",
       "    }\n",
       "\n",
       "    .dataframe tbody tr th {\n",
       "        vertical-align: top;\n",
       "    }\n",
       "\n",
       "    .dataframe thead th {\n",
       "        text-align: right;\n",
       "    }\n",
       "</style>\n",
       "<table border=\"1\" class=\"dataframe\">\n",
       "  <thead>\n",
       "    <tr style=\"text-align: right;\">\n",
       "      <th></th>\n",
       "      <th>count</th>\n",
       "      <th>mean</th>\n",
       "      <th>std</th>\n",
       "      <th>min</th>\n",
       "      <th>25%</th>\n",
       "      <th>50%</th>\n",
       "      <th>75%</th>\n",
       "      <th>max</th>\n",
       "    </tr>\n",
       "  </thead>\n",
       "  <tbody>\n",
       "    <tr>\n",
       "      <th>nose-x</th>\n",
       "      <td>27700.0</td>\n",
       "      <td>-0.221811</td>\n",
       "      <td>0.027710</td>\n",
       "      <td>-0.464482</td>\n",
       "      <td>-0.236870</td>\n",
       "      <td>-0.218743</td>\n",
       "      <td>-0.203444</td>\n",
       "      <td>0.356807</td>\n",
       "    </tr>\n",
       "    <tr>\n",
       "      <th>nose-y</th>\n",
       "      <td>27700.0</td>\n",
       "      <td>-0.004447</td>\n",
       "      <td>0.151324</td>\n",
       "      <td>-0.668847</td>\n",
       "      <td>-0.145431</td>\n",
       "      <td>0.005139</td>\n",
       "      <td>0.134290</td>\n",
       "      <td>0.321883</td>\n",
       "    </tr>\n",
       "    <tr>\n",
       "      <th>left_eye-x</th>\n",
       "      <td>27700.0</td>\n",
       "      <td>-0.234096</td>\n",
       "      <td>0.028996</td>\n",
       "      <td>-0.394743</td>\n",
       "      <td>-0.250338</td>\n",
       "      <td>-0.230895</td>\n",
       "      <td>-0.215020</td>\n",
       "      <td>0.356518</td>\n",
       "    </tr>\n",
       "    <tr>\n",
       "      <th>left_eye-y</th>\n",
       "      <td>27700.0</td>\n",
       "      <td>-0.006206</td>\n",
       "      <td>0.148392</td>\n",
       "      <td>-0.627711</td>\n",
       "      <td>-0.146775</td>\n",
       "      <td>0.006817</td>\n",
       "      <td>0.126401</td>\n",
       "      <td>0.281147</td>\n",
       "    </tr>\n",
       "    <tr>\n",
       "      <th>right_eye-x</th>\n",
       "      <td>27700.0</td>\n",
       "      <td>-0.234499</td>\n",
       "      <td>0.029122</td>\n",
       "      <td>-0.407856</td>\n",
       "      <td>-0.250454</td>\n",
       "      <td>-0.231083</td>\n",
       "      <td>-0.215272</td>\n",
       "      <td>0.356241</td>\n",
       "    </tr>\n",
       "    <tr>\n",
       "      <th>right_eye-y</th>\n",
       "      <td>27700.0</td>\n",
       "      <td>-0.001118</td>\n",
       "      <td>0.147306</td>\n",
       "      <td>-0.669672</td>\n",
       "      <td>-0.135128</td>\n",
       "      <td>-0.004812</td>\n",
       "      <td>0.137864</td>\n",
       "      <td>0.272068</td>\n",
       "    </tr>\n",
       "    <tr>\n",
       "      <th>left_ear-x</th>\n",
       "      <td>27700.0</td>\n",
       "      <td>-0.238152</td>\n",
       "      <td>0.027998</td>\n",
       "      <td>-0.474184</td>\n",
       "      <td>-0.256342</td>\n",
       "      <td>-0.235769</td>\n",
       "      <td>-0.217931</td>\n",
       "      <td>0.342778</td>\n",
       "    </tr>\n",
       "    <tr>\n",
       "      <th>left_ear-y</th>\n",
       "      <td>27700.0</td>\n",
       "      <td>-0.009176</td>\n",
       "      <td>0.107532</td>\n",
       "      <td>-0.630786</td>\n",
       "      <td>-0.108914</td>\n",
       "      <td>0.009880</td>\n",
       "      <td>0.076235</td>\n",
       "      <td>0.293566</td>\n",
       "    </tr>\n",
       "    <tr>\n",
       "      <th>right_ear-x</th>\n",
       "      <td>27700.0</td>\n",
       "      <td>-0.239015</td>\n",
       "      <td>0.028635</td>\n",
       "      <td>-0.469636</td>\n",
       "      <td>-0.256307</td>\n",
       "      <td>-0.237084</td>\n",
       "      <td>-0.218808</td>\n",
       "      <td>0.338165</td>\n",
       "    </tr>\n",
       "    <tr>\n",
       "      <th>right_ear-y</th>\n",
       "      <td>27700.0</td>\n",
       "      <td>0.005574</td>\n",
       "      <td>0.106238</td>\n",
       "      <td>-0.600944</td>\n",
       "      <td>-0.077142</td>\n",
       "      <td>-0.013533</td>\n",
       "      <td>0.108074</td>\n",
       "      <td>0.307987</td>\n",
       "    </tr>\n",
       "    <tr>\n",
       "      <th>left_shoulder-x</th>\n",
       "      <td>27700.0</td>\n",
       "      <td>-0.184596</td>\n",
       "      <td>0.026064</td>\n",
       "      <td>-0.324522</td>\n",
       "      <td>-0.203753</td>\n",
       "      <td>-0.184047</td>\n",
       "      <td>-0.165397</td>\n",
       "      <td>-0.005021</td>\n",
       "    </tr>\n",
       "    <tr>\n",
       "      <th>left_shoulder-y</th>\n",
       "      <td>27700.0</td>\n",
       "      <td>-0.024301</td>\n",
       "      <td>0.087847</td>\n",
       "      <td>-0.644723</td>\n",
       "      <td>-0.093158</td>\n",
       "      <td>-0.026116</td>\n",
       "      <td>0.041657</td>\n",
       "      <td>0.249426</td>\n",
       "    </tr>\n",
       "    <tr>\n",
       "      <th>right_shoulder-x</th>\n",
       "      <td>27700.0</td>\n",
       "      <td>-0.184932</td>\n",
       "      <td>0.026398</td>\n",
       "      <td>-0.330314</td>\n",
       "      <td>-0.201823</td>\n",
       "      <td>-0.184077</td>\n",
       "      <td>-0.165999</td>\n",
       "      <td>0.002005</td>\n",
       "    </tr>\n",
       "    <tr>\n",
       "      <th>right_shoulder-y</th>\n",
       "      <td>27700.0</td>\n",
       "      <td>0.018306</td>\n",
       "      <td>0.086107</td>\n",
       "      <td>-0.623624</td>\n",
       "      <td>-0.045646</td>\n",
       "      <td>0.017308</td>\n",
       "      <td>0.089638</td>\n",
       "      <td>0.240679</td>\n",
       "    </tr>\n",
       "    <tr>\n",
       "      <th>left_elbow-x</th>\n",
       "      <td>27700.0</td>\n",
       "      <td>-0.103729</td>\n",
       "      <td>0.036514</td>\n",
       "      <td>-0.289864</td>\n",
       "      <td>-0.120085</td>\n",
       "      <td>-0.099330</td>\n",
       "      <td>-0.081186</td>\n",
       "      <td>0.141110</td>\n",
       "    </tr>\n",
       "    <tr>\n",
       "      <th>left_elbow-y</th>\n",
       "      <td>27700.0</td>\n",
       "      <td>-0.037697</td>\n",
       "      <td>0.151208</td>\n",
       "      <td>-0.556785</td>\n",
       "      <td>-0.165936</td>\n",
       "      <td>-0.030812</td>\n",
       "      <td>0.081414</td>\n",
       "      <td>0.389157</td>\n",
       "    </tr>\n",
       "    <tr>\n",
       "      <th>right_elbow-x</th>\n",
       "      <td>27700.0</td>\n",
       "      <td>-0.105880</td>\n",
       "      <td>0.036022</td>\n",
       "      <td>-0.306689</td>\n",
       "      <td>-0.121567</td>\n",
       "      <td>-0.099728</td>\n",
       "      <td>-0.081629</td>\n",
       "      <td>0.145860</td>\n",
       "    </tr>\n",
       "    <tr>\n",
       "      <th>right_elbow-y</th>\n",
       "      <td>27700.0</td>\n",
       "      <td>0.033759</td>\n",
       "      <td>0.146597</td>\n",
       "      <td>-0.567051</td>\n",
       "      <td>-0.072567</td>\n",
       "      <td>0.027840</td>\n",
       "      <td>0.157297</td>\n",
       "      <td>0.414568</td>\n",
       "    </tr>\n",
       "    <tr>\n",
       "      <th>left_wrist-x</th>\n",
       "      <td>27700.0</td>\n",
       "      <td>-0.143032</td>\n",
       "      <td>0.048920</td>\n",
       "      <td>-0.298592</td>\n",
       "      <td>-0.171232</td>\n",
       "      <td>-0.151467</td>\n",
       "      <td>-0.125786</td>\n",
       "      <td>0.360479</td>\n",
       "    </tr>\n",
       "    <tr>\n",
       "      <th>left_wrist-y</th>\n",
       "      <td>27700.0</td>\n",
       "      <td>-0.026971</td>\n",
       "      <td>0.217642</td>\n",
       "      <td>-0.605467</td>\n",
       "      <td>-0.213661</td>\n",
       "      <td>-0.000978</td>\n",
       "      <td>0.146279</td>\n",
       "      <td>0.571613</td>\n",
       "    </tr>\n",
       "    <tr>\n",
       "      <th>right_wrist-x</th>\n",
       "      <td>27700.0</td>\n",
       "      <td>-0.145106</td>\n",
       "      <td>0.045129</td>\n",
       "      <td>-0.460253</td>\n",
       "      <td>-0.172238</td>\n",
       "      <td>-0.152006</td>\n",
       "      <td>-0.127304</td>\n",
       "      <td>0.162464</td>\n",
       "    </tr>\n",
       "    <tr>\n",
       "      <th>right_wrist-y</th>\n",
       "      <td>27700.0</td>\n",
       "      <td>0.021830</td>\n",
       "      <td>0.211762</td>\n",
       "      <td>-0.591609</td>\n",
       "      <td>-0.141112</td>\n",
       "      <td>0.008183</td>\n",
       "      <td>0.198021</td>\n",
       "      <td>0.565207</td>\n",
       "    </tr>\n",
       "    <tr>\n",
       "      <th>left_hip-x</th>\n",
       "      <td>27700.0</td>\n",
       "      <td>0.000087</td>\n",
       "      <td>0.003014</td>\n",
       "      <td>-0.012817</td>\n",
       "      <td>-0.002235</td>\n",
       "      <td>-0.000136</td>\n",
       "      <td>0.002312</td>\n",
       "      <td>0.011931</td>\n",
       "    </tr>\n",
       "    <tr>\n",
       "      <th>left_hip-y</th>\n",
       "      <td>27700.0</td>\n",
       "      <td>-0.023719</td>\n",
       "      <td>0.039419</td>\n",
       "      <td>-0.101032</td>\n",
       "      <td>-0.056926</td>\n",
       "      <td>-0.039830</td>\n",
       "      <td>0.013913</td>\n",
       "      <td>0.090839</td>\n",
       "    </tr>\n",
       "    <tr>\n",
       "      <th>right_hip-x</th>\n",
       "      <td>27700.0</td>\n",
       "      <td>-0.000087</td>\n",
       "      <td>0.003014</td>\n",
       "      <td>-0.011931</td>\n",
       "      <td>-0.002313</td>\n",
       "      <td>0.000136</td>\n",
       "      <td>0.002235</td>\n",
       "      <td>0.012817</td>\n",
       "    </tr>\n",
       "    <tr>\n",
       "      <th>right_hip-y</th>\n",
       "      <td>27700.0</td>\n",
       "      <td>0.023719</td>\n",
       "      <td>0.039419</td>\n",
       "      <td>-0.090839</td>\n",
       "      <td>-0.013913</td>\n",
       "      <td>0.039830</td>\n",
       "      <td>0.056926</td>\n",
       "      <td>0.101032</td>\n",
       "    </tr>\n",
       "    <tr>\n",
       "      <th>left_knee-x</th>\n",
       "      <td>27700.0</td>\n",
       "      <td>0.123337</td>\n",
       "      <td>0.022400</td>\n",
       "      <td>0.031325</td>\n",
       "      <td>0.108148</td>\n",
       "      <td>0.118918</td>\n",
       "      <td>0.134173</td>\n",
       "      <td>0.223146</td>\n",
       "    </tr>\n",
       "    <tr>\n",
       "      <th>left_knee-y</th>\n",
       "      <td>27700.0</td>\n",
       "      <td>-0.081547</td>\n",
       "      <td>0.078343</td>\n",
       "      <td>-0.505011</td>\n",
       "      <td>-0.148113</td>\n",
       "      <td>-0.080370</td>\n",
       "      <td>-0.023855</td>\n",
       "      <td>0.208516</td>\n",
       "    </tr>\n",
       "    <tr>\n",
       "      <th>right_knee-x</th>\n",
       "      <td>27700.0</td>\n",
       "      <td>0.123837</td>\n",
       "      <td>0.022079</td>\n",
       "      <td>-0.047164</td>\n",
       "      <td>0.109835</td>\n",
       "      <td>0.119046</td>\n",
       "      <td>0.132964</td>\n",
       "      <td>0.211125</td>\n",
       "    </tr>\n",
       "    <tr>\n",
       "      <th>right_knee-y</th>\n",
       "      <td>27700.0</td>\n",
       "      <td>0.075721</td>\n",
       "      <td>0.076513</td>\n",
       "      <td>-0.433704</td>\n",
       "      <td>0.022167</td>\n",
       "      <td>0.075029</td>\n",
       "      <td>0.139354</td>\n",
       "      <td>0.252401</td>\n",
       "    </tr>\n",
       "    <tr>\n",
       "      <th>left_ankle-x</th>\n",
       "      <td>27700.0</td>\n",
       "      <td>0.252938</td>\n",
       "      <td>0.046877</td>\n",
       "      <td>0.081872</td>\n",
       "      <td>0.221335</td>\n",
       "      <td>0.251288</td>\n",
       "      <td>0.278955</td>\n",
       "      <td>0.404806</td>\n",
       "    </tr>\n",
       "    <tr>\n",
       "      <th>left_ankle-y</th>\n",
       "      <td>27700.0</td>\n",
       "      <td>-0.122233</td>\n",
       "      <td>0.071165</td>\n",
       "      <td>-0.605252</td>\n",
       "      <td>-0.169165</td>\n",
       "      <td>-0.126780</td>\n",
       "      <td>-0.084303</td>\n",
       "      <td>0.272548</td>\n",
       "    </tr>\n",
       "    <tr>\n",
       "      <th>right_ankle-x</th>\n",
       "      <td>27700.0</td>\n",
       "      <td>0.255863</td>\n",
       "      <td>0.045064</td>\n",
       "      <td>0.081247</td>\n",
       "      <td>0.230427</td>\n",
       "      <td>0.251353</td>\n",
       "      <td>0.277211</td>\n",
       "      <td>0.405892</td>\n",
       "    </tr>\n",
       "    <tr>\n",
       "      <th>right_ankle-y</th>\n",
       "      <td>27700.0</td>\n",
       "      <td>0.114677</td>\n",
       "      <td>0.070623</td>\n",
       "      <td>-0.585321</td>\n",
       "      <td>0.075524</td>\n",
       "      <td>0.119925</td>\n",
       "      <td>0.160841</td>\n",
       "      <td>0.304114</td>\n",
       "    </tr>\n",
       "    <tr>\n",
       "      <th>mid_point-x</th>\n",
       "      <td>27700.0</td>\n",
       "      <td>0.511856</td>\n",
       "      <td>0.042251</td>\n",
       "      <td>0.403191</td>\n",
       "      <td>0.484316</td>\n",
       "      <td>0.510572</td>\n",
       "      <td>0.536968</td>\n",
       "      <td>0.646844</td>\n",
       "    </tr>\n",
       "    <tr>\n",
       "      <th>mid_point-y</th>\n",
       "      <td>27700.0</td>\n",
       "      <td>0.505085</td>\n",
       "      <td>0.251039</td>\n",
       "      <td>-0.003849</td>\n",
       "      <td>0.275730</td>\n",
       "      <td>0.427162</td>\n",
       "      <td>0.747736</td>\n",
       "      <td>0.975455</td>\n",
       "    </tr>\n",
       "  </tbody>\n",
       "</table>\n",
       "</div>"
      ],
      "text/plain": [
       "                    count      mean       std       min       25%       50%  \\\n",
       "nose-x            27700.0 -0.221811  0.027710 -0.464482 -0.236870 -0.218743   \n",
       "nose-y            27700.0 -0.004447  0.151324 -0.668847 -0.145431  0.005139   \n",
       "left_eye-x        27700.0 -0.234096  0.028996 -0.394743 -0.250338 -0.230895   \n",
       "left_eye-y        27700.0 -0.006206  0.148392 -0.627711 -0.146775  0.006817   \n",
       "right_eye-x       27700.0 -0.234499  0.029122 -0.407856 -0.250454 -0.231083   \n",
       "right_eye-y       27700.0 -0.001118  0.147306 -0.669672 -0.135128 -0.004812   \n",
       "left_ear-x        27700.0 -0.238152  0.027998 -0.474184 -0.256342 -0.235769   \n",
       "left_ear-y        27700.0 -0.009176  0.107532 -0.630786 -0.108914  0.009880   \n",
       "right_ear-x       27700.0 -0.239015  0.028635 -0.469636 -0.256307 -0.237084   \n",
       "right_ear-y       27700.0  0.005574  0.106238 -0.600944 -0.077142 -0.013533   \n",
       "left_shoulder-x   27700.0 -0.184596  0.026064 -0.324522 -0.203753 -0.184047   \n",
       "left_shoulder-y   27700.0 -0.024301  0.087847 -0.644723 -0.093158 -0.026116   \n",
       "right_shoulder-x  27700.0 -0.184932  0.026398 -0.330314 -0.201823 -0.184077   \n",
       "right_shoulder-y  27700.0  0.018306  0.086107 -0.623624 -0.045646  0.017308   \n",
       "left_elbow-x      27700.0 -0.103729  0.036514 -0.289864 -0.120085 -0.099330   \n",
       "left_elbow-y      27700.0 -0.037697  0.151208 -0.556785 -0.165936 -0.030812   \n",
       "right_elbow-x     27700.0 -0.105880  0.036022 -0.306689 -0.121567 -0.099728   \n",
       "right_elbow-y     27700.0  0.033759  0.146597 -0.567051 -0.072567  0.027840   \n",
       "left_wrist-x      27700.0 -0.143032  0.048920 -0.298592 -0.171232 -0.151467   \n",
       "left_wrist-y      27700.0 -0.026971  0.217642 -0.605467 -0.213661 -0.000978   \n",
       "right_wrist-x     27700.0 -0.145106  0.045129 -0.460253 -0.172238 -0.152006   \n",
       "right_wrist-y     27700.0  0.021830  0.211762 -0.591609 -0.141112  0.008183   \n",
       "left_hip-x        27700.0  0.000087  0.003014 -0.012817 -0.002235 -0.000136   \n",
       "left_hip-y        27700.0 -0.023719  0.039419 -0.101032 -0.056926 -0.039830   \n",
       "right_hip-x       27700.0 -0.000087  0.003014 -0.011931 -0.002313  0.000136   \n",
       "right_hip-y       27700.0  0.023719  0.039419 -0.090839 -0.013913  0.039830   \n",
       "left_knee-x       27700.0  0.123337  0.022400  0.031325  0.108148  0.118918   \n",
       "left_knee-y       27700.0 -0.081547  0.078343 -0.505011 -0.148113 -0.080370   \n",
       "right_knee-x      27700.0  0.123837  0.022079 -0.047164  0.109835  0.119046   \n",
       "right_knee-y      27700.0  0.075721  0.076513 -0.433704  0.022167  0.075029   \n",
       "left_ankle-x      27700.0  0.252938  0.046877  0.081872  0.221335  0.251288   \n",
       "left_ankle-y      27700.0 -0.122233  0.071165 -0.605252 -0.169165 -0.126780   \n",
       "right_ankle-x     27700.0  0.255863  0.045064  0.081247  0.230427  0.251353   \n",
       "right_ankle-y     27700.0  0.114677  0.070623 -0.585321  0.075524  0.119925   \n",
       "mid_point-x       27700.0  0.511856  0.042251  0.403191  0.484316  0.510572   \n",
       "mid_point-y       27700.0  0.505085  0.251039 -0.003849  0.275730  0.427162   \n",
       "\n",
       "                       75%       max  \n",
       "nose-x           -0.203444  0.356807  \n",
       "nose-y            0.134290  0.321883  \n",
       "left_eye-x       -0.215020  0.356518  \n",
       "left_eye-y        0.126401  0.281147  \n",
       "right_eye-x      -0.215272  0.356241  \n",
       "right_eye-y       0.137864  0.272068  \n",
       "left_ear-x       -0.217931  0.342778  \n",
       "left_ear-y        0.076235  0.293566  \n",
       "right_ear-x      -0.218808  0.338165  \n",
       "right_ear-y       0.108074  0.307987  \n",
       "left_shoulder-x  -0.165397 -0.005021  \n",
       "left_shoulder-y   0.041657  0.249426  \n",
       "right_shoulder-x -0.165999  0.002005  \n",
       "right_shoulder-y  0.089638  0.240679  \n",
       "left_elbow-x     -0.081186  0.141110  \n",
       "left_elbow-y      0.081414  0.389157  \n",
       "right_elbow-x    -0.081629  0.145860  \n",
       "right_elbow-y     0.157297  0.414568  \n",
       "left_wrist-x     -0.125786  0.360479  \n",
       "left_wrist-y      0.146279  0.571613  \n",
       "right_wrist-x    -0.127304  0.162464  \n",
       "right_wrist-y     0.198021  0.565207  \n",
       "left_hip-x        0.002312  0.011931  \n",
       "left_hip-y        0.013913  0.090839  \n",
       "right_hip-x       0.002235  0.012817  \n",
       "right_hip-y       0.056926  0.101032  \n",
       "left_knee-x       0.134173  0.223146  \n",
       "left_knee-y      -0.023855  0.208516  \n",
       "right_knee-x      0.132964  0.211125  \n",
       "right_knee-y      0.139354  0.252401  \n",
       "left_ankle-x      0.278955  0.404806  \n",
       "left_ankle-y     -0.084303  0.272548  \n",
       "right_ankle-x     0.277211  0.405892  \n",
       "right_ankle-y     0.160841  0.304114  \n",
       "mid_point-x       0.536968  0.646844  \n",
       "mid_point-y       0.747736  0.975455  "
      ]
     },
     "execution_count": 31,
     "metadata": {},
     "output_type": "execute_result"
    }
   ],
   "source": [
    "df.describe().transpose()"
   ]
  },
  {
   "cell_type": "code",
   "execution_count": 34,
   "metadata": {
    "scrolled": true
   },
   "outputs": [
    {
     "data": {
      "image/png": "[encoded data removed]",
      "text/plain": [
       "<Figure size 1152x720 with 1 Axes>"
      ]
     },
     "metadata": {
      "needs_background": "light"
     },
     "output_type": "display_data"
    }
   ],
   "source": [
    "plt.figure(figsize=(16, 10))\n",
    "ax = sns.violinplot(data=df)\n",
    "_ = ax.set_xticklabels(df.keys(), rotation=90)"
   ]
  },
  {
   "cell_type": "code",
   "execution_count": 35,
   "metadata": {},
   "outputs": [],
   "source": [
    "time_steps=30 # expect camera 30 fps, so process 1 sample per second\n",
    "# Number of samples in batch\n",
    "N_train = X_train.shape[0] // time_steps \n",
    "N_val = X_val.shape[0] // time_steps"
   ]
  },
  {
   "cell_type": "code",
   "execution_count": 36,
   "metadata": {},
   "outputs": [
    {
     "data": {
      "text/plain": [
       "((923, 30, 36), (112, 30, 36))"
      ]
     },
     "execution_count": 36,
     "metadata": {},
     "output_type": "execute_result"
    }
   ],
   "source": [
    "X_train = X_train[:N_train*time_steps].reshape(-1, time_steps, 36)\n",
    "y_train = y_train[:N_train*time_steps].reshape(-1, time_steps, 1)\n",
    "X_val = X_val[:N_val*time_steps].reshape(-1, time_steps, 36)\n",
    "y_val = y_val[:N_val*time_steps].reshape(-1, time_steps, 1)\n",
    "X_train.shape, X_val.shape"
   ]
  },
  {
   "cell_type": "markdown",
   "metadata": {},
   "source": [
    "## GRU"
   ]
  },
  {
   "cell_type": "code",
   "execution_count": 37,
   "metadata": {
    "scrolled": true
   },
   "outputs": [
    {
     "name": "stderr",
     "output_type": "stream",
     "text": [
      "2021-12-15 10:55:40.832590: I tensorflow/stream_executor/platform/default/dso_loader.cc:48] Successfully opened dynamic library libcuda.so.1\n",
      "2021-12-15 10:55:41.898039: I tensorflow/stream_executor/cuda/cuda_gpu_executor.cc:982] successful NUMA node read from SysFS had negative value (-1), but there must be at least one NUMA node, so returning NUMA node zero\n",
      "2021-12-15 10:55:41.899049: I tensorflow/core/common_runtime/gpu/gpu_device.cc:1716] Found device 0 with properties: \n",
      "pciBusID: 0000:01:00.0 name: NVIDIA GeForce GTX 1650 computeCapability: 7.5\n",
      "coreClock: 1.515GHz coreCount: 14 deviceMemorySize: 3.82GiB deviceMemoryBandwidth: 178.84GiB/s\n",
      "2021-12-15 10:55:41.899254: I tensorflow/stream_executor/platform/default/dso_loader.cc:48] Successfully opened dynamic library libcudart.so.10.1\n",
      "2021-12-15 10:55:41.965166: I tensorflow/stream_executor/platform/default/dso_loader.cc:48] Successfully opened dynamic library libcublas.so.10\n",
      "2021-12-15 10:55:41.989556: I tensorflow/stream_executor/platform/default/dso_loader.cc:48] Successfully opened dynamic library libcufft.so.10\n",
      "2021-12-15 10:55:41.995507: I tensorflow/stream_executor/platform/default/dso_loader.cc:48] Successfully opened dynamic library libcurand.so.10\n",
      "2021-12-15 10:55:42.034599: I tensorflow/stream_executor/platform/default/dso_loader.cc:48] Successfully opened dynamic library libcusolver.so.10\n",
      "2021-12-15 10:55:42.040597: I tensorflow/stream_executor/platform/default/dso_loader.cc:48] Successfully opened dynamic library libcusparse.so.10\n",
      "2021-12-15 10:55:42.106299: I tensorflow/stream_executor/platform/default/dso_loader.cc:48] Successfully opened dynamic library libcudnn.so.7\n",
      "2021-12-15 10:55:42.106754: I tensorflow/stream_executor/cuda/cuda_gpu_executor.cc:982] successful NUMA node read from SysFS had negative value (-1), but there must be at least one NUMA node, so returning NUMA node zero\n",
      "2021-12-15 10:55:42.107756: I tensorflow/stream_executor/cuda/cuda_gpu_executor.cc:982] successful NUMA node read from SysFS had negative value (-1), but there must be at least one NUMA node, so returning NUMA node zero\n",
      "2021-12-15 10:55:42.108523: I tensorflow/core/common_runtime/gpu/gpu_device.cc:1858] Adding visible gpu devices: 0\n",
      "2021-12-15 10:55:42.110813: I tensorflow/core/platform/cpu_feature_guard.cc:142] This TensorFlow binary is optimized with oneAPI Deep Neural Network Library (oneDNN)to use the following CPU instructions in performance-critical operations:  AVX2 FMA\n",
      "To enable them in other operations, rebuild TensorFlow with the appropriate compiler flags.\n",
      "2021-12-15 10:55:42.156696: I tensorflow/core/platform/profile_utils/cpu_utils.cc:104] CPU Frequency: 2295665000 Hz\n",
      "2021-12-15 10:55:42.157861: I tensorflow/compiler/xla/service/service.cc:168] XLA service 0x84455c0 initialized for platform Host (this does not guarantee that XLA will be used). Devices:\n",
      "2021-12-15 10:55:42.157944: I tensorflow/compiler/xla/service/service.cc:176]   StreamExecutor device (0): Host, Default Version\n",
      "2021-12-15 10:55:42.297825: I tensorflow/stream_executor/cuda/cuda_gpu_executor.cc:982] successful NUMA node read from SysFS had negative value (-1), but there must be at least one NUMA node, so returning NUMA node zero\n",
      "2021-12-15 10:55:42.298997: I tensorflow/compiler/xla/service/service.cc:168] XLA service 0x84b0ea0 initialized for platform CUDA (this does not guarantee that XLA will be used). Devices:\n",
      "2021-12-15 10:55:42.299042: I tensorflow/compiler/xla/service/service.cc:176]   StreamExecutor device (0): NVIDIA GeForce GTX 1650, Compute Capability 7.5\n",
      "2021-12-15 10:55:42.300059: I tensorflow/stream_executor/cuda/cuda_gpu_executor.cc:982] successful NUMA node read from SysFS had negative value (-1), but there must be at least one NUMA node, so returning NUMA node zero\n",
      "2021-12-15 10:55:42.300910: I tensorflow/core/common_runtime/gpu/gpu_device.cc:1716] Found device 0 with properties: \n",
      "pciBusID: 0000:01:00.0 name: NVIDIA GeForce GTX 1650 computeCapability: 7.5\n",
      "coreClock: 1.515GHz coreCount: 14 deviceMemorySize: 3.82GiB deviceMemoryBandwidth: 178.84GiB/s\n",
      "2021-12-15 10:55:42.301003: I tensorflow/stream_executor/platform/default/dso_loader.cc:48] Successfully opened dynamic library libcudart.so.10.1\n",
      "2021-12-15 10:55:42.301054: I tensorflow/stream_executor/platform/default/dso_loader.cc:48] Successfully opened dynamic library libcublas.so.10\n",
      "2021-12-15 10:55:42.301090: I tensorflow/stream_executor/platform/default/dso_loader.cc:48] Successfully opened dynamic library libcufft.so.10\n",
      "2021-12-15 10:55:42.301118: I tensorflow/stream_executor/platform/default/dso_loader.cc:48] Successfully opened dynamic library libcurand.so.10\n",
      "2021-12-15 10:55:42.301146: I tensorflow/stream_executor/platform/default/dso_loader.cc:48] Successfully opened dynamic library libcusolver.so.10\n",
      "2021-12-15 10:55:42.301173: I tensorflow/stream_executor/platform/default/dso_loader.cc:48] Successfully opened dynamic library libcusparse.so.10\n",
      "2021-12-15 10:55:42.301201: I tensorflow/stream_executor/platform/default/dso_loader.cc:48] Successfully opened dynamic library libcudnn.so.7\n",
      "2021-12-15 10:55:42.301396: I tensorflow/stream_executor/cuda/cuda_gpu_executor.cc:982] successful NUMA node read from SysFS had negative value (-1), but there must be at least one NUMA node, so returning NUMA node zero\n",
      "2021-12-15 10:55:42.302319: I tensorflow/stream_executor/cuda/cuda_gpu_executor.cc:982] successful NUMA node read from SysFS had negative value (-1), but there must be at least one NUMA node, so returning NUMA node zero\n",
      "2021-12-15 10:55:42.303055: I tensorflow/core/common_runtime/gpu/gpu_device.cc:1858] Adding visible gpu devices: 0\n",
      "2021-12-15 10:55:42.303499: I tensorflow/stream_executor/platform/default/dso_loader.cc:48] Successfully opened dynamic library libcudart.so.10.1\n",
      "2021-12-15 10:55:43.695417: I tensorflow/core/common_runtime/gpu/gpu_device.cc:1257] Device interconnect StreamExecutor with strength 1 edge matrix:\n",
      "2021-12-15 10:55:43.695542: I tensorflow/core/common_runtime/gpu/gpu_device.cc:1263]      0 \n",
      "2021-12-15 10:55:43.695569: I tensorflow/core/common_runtime/gpu/gpu_device.cc:1276] 0:   N \n",
      "2021-12-15 10:55:43.697539: I tensorflow/stream_executor/cuda/cuda_gpu_executor.cc:982] successful NUMA node read from SysFS had negative value (-1), but there must be at least one NUMA node, so returning NUMA node zero\n",
      "2021-12-15 10:55:43.698497: I tensorflow/stream_executor/cuda/cuda_gpu_executor.cc:982] successful NUMA node read from SysFS had negative value (-1), but there must be at least one NUMA node, so returning NUMA node zero\n",
      "2021-12-15 10:55:43.699276: I tensorflow/core/common_runtime/gpu/gpu_device.cc:1402] Created TensorFlow device (/job:localhost/replica:0/task:0/device:GPU:0 with 3408 MB memory) -> physical GPU (device: 0, name: NVIDIA GeForce GTX 1650, pci bus id: 0000:01:00.0, compute capability: 7.5)\n"
     ]
    }
   ],
   "source": [
    "y_train = K.utils.to_categorical(y_train, num_classes=7)\n",
    "X_train = tf.constant(X_train)\n",
    "y_val = K.utils.to_categorical(y_val, num_classes=7)\n",
    "X_val = tf.constant(X_val)"
   ]
  },
  {
   "cell_type": "code",
   "execution_count": 38,
   "metadata": {},
   "outputs": [],
   "source": [
    "def model_builder(hp):\n",
    "    # Hyperparams\n",
    "    hp_ru = hp.Int('recurrent_units', min_value=16, max_value=128, step=8)\n",
    "    hp_du1 = hp.Int('units1', min_value=16, max_value=128, step=8)\n",
    "    hp_du2 = hp.Int('units2', min_value=16, max_value=128, step=8)\n",
    "    hp_reg1 = hp.Float('dense1_reg', min_value=1e-4, max_value=1e-2)\n",
    "    hp_reg2 = hp.Float('dense2_reg', min_value=1e-4, max_value=1e-2)\n",
    "    \n",
    "    hp_dp = hp.Float('dropout', min_value=0., max_value=0.4)\n",
    "    hp_rec_dp = hp.Float('rec_dropout', min_value=0., max_value=0.4)\n",
    "    hp_kernel_reg = hp.Float('kernel_reg', min_value=1e-5, max_value=1e-3, sampling='log')\n",
    "    hp_recur_reg = hp.Float('recur_reg', min_value=1e-5, max_value=1e-3, sampling='log')\n",
    "    hp_act_reg = hp.Float('act_reg', min_value=1e-5, max_value=1e-3, sampling='log')\n",
    "    \n",
    "    hp_learning_rate = hp.Float('learning_rate', min_value=1e-4, max_value=1e-2)\n",
    "\n",
    "    \n",
    "    # Model\n",
    "    norm = tf.keras.layers.LayerNormalization(axis=1)\n",
    "    kernel_reg = K.regularizers.l2(hp_kernel_reg)\n",
    "    recurrent_reg = K.regularizers.l2(hp_recur_reg)\n",
    "    act_reg = K.regularizers.l2(hp_act_reg)\n",
    "    lstm = K.layers.GRU(hp_ru,\n",
    "                         # stateful=True, # mutable states not supported in tflite \n",
    "                         return_sequences=True,\n",
    "                         kernel_regularizer=kernel_reg,\n",
    "                         recurrent_regularizer=recurrent_reg,\n",
    "                         activity_regularizer=act_reg,\n",
    "                         dropout=hp_dp,\n",
    "                         recurrent_dropout=hp_rec_dp\n",
    "                        )\n",
    "    dense1 = K.layers.Dense(hp_du1, activation='relu', \n",
    "                            kernel_regularizer=K.regularizers.l2(hp_reg1))\n",
    "    dense2 = K.layers.Dense(hp_du2, activation='relu', \n",
    "                           kernel_regularizer=K.regularizers.l2(hp_reg2))\n",
    "    out = K.layers.Dense(7, activation='sigmoid')\n",
    "\n",
    "    model = K.Sequential([norm, lstm, dense1, dense2, out])\n",
    "    model.compile(optimizer=K.optimizers.Adam(learning_rate=hp_learning_rate),\n",
    "                  loss='categorical_crossentropy',\n",
    "                  metrics=['accuracy'])\n",
    "    \n",
    "    return model"
   ]
  },
  {
   "cell_type": "code",
   "execution_count": null,
   "metadata": {},
   "outputs": [
    {
     "name": "stdout",
     "output_type": "stream",
     "text": [
      "Trial 18 Complete [00h 05m 31s]\n",
      "val_accuracy: 0.5797619223594666\n",
      "\n",
      "Best val_accuracy So Far: 0.5934523940086365\n",
      "Total elapsed time: 01h 15m 42s\n",
      "\n",
      "Search: Running Trial #19\n",
      "\n",
      "Hyperparameter    |Value             |Best Value So Far \n",
      "recurrent_units   |40                |96                \n",
      "units1            |40                |48                \n",
      "units2            |32                |32                \n",
      "dense1_reg        |0.0043197         |0.0060698         \n",
      "dense2_reg        |0.0026276         |0.0055767         \n",
      "dropout           |0.25549           |0.061933          \n",
      "rec_dropout       |0.19953           |0.32754           \n",
      "kernel_reg        |0.00045           |5.8445e-05        \n",
      "recur_reg         |0.00033178        |1.0865e-05        \n",
      "act_reg           |8.9835e-05        |0.00019361        \n",
      "learning_rate     |0.0021791         |0.005776          \n",
      "tuner/epochs      |7                 |7                 \n",
      "tuner/initial_e...|0                 |3                 \n",
      "tuner/bracket     |1                 |2                 \n",
      "tuner/round       |0                 |1                 \n",
      "\n",
      "WARNING:tensorflow:Layer gru will not use cuDNN kernel since it doesn't meet the cuDNN kernel criteria. It will use generic GPU kernel as fallback when running on GPU\n",
      "Epoch 1/7\n",
      "923/923 [==============================] - 37s 40ms/step - loss: 1.4103 - accuracy: 0.5467 - val_loss: 1.2256 - val_accuracy: 0.5640\n",
      "Epoch 2/7\n",
      "923/923 [==============================] - 38s 41ms/step - loss: 1.1464 - accuracy: 0.6120 - val_loss: 1.2105 - val_accuracy: 0.5574\n",
      "Epoch 3/7\n",
      "923/923 [==============================] - 38s 41ms/step - loss: 1.0920 - accuracy: 0.6248 - val_loss: 1.1867 - val_accuracy: 0.5750\n",
      "Epoch 4/7\n",
      "923/923 [==============================] - 35s 38ms/step - loss: 1.0790 - accuracy: 0.6245 - val_loss: 1.1493 - val_accuracy: 0.5735\n",
      "Epoch 5/7\n",
      "923/923 [==============================] - 35s 38ms/step - loss: 1.0385 - accuracy: 0.6385 - val_loss: 1.2053 - val_accuracy: 0.5607\n",
      "Epoch 6/7\n",
      "923/923 [==============================] - 42s 46ms/step - loss: 1.0232 - accuracy: 0.6497 - val_loss: 1.2492 - val_accuracy: 0.5708\n",
      "Epoch 7/7\n",
      "922/923 [============================>.] - ETA: 0s - loss: 1.0106 - accuracy: 0.6507"
     ]
    }
   ],
   "source": [
    "tuner = kt.Hyperband(model_builder,\n",
    "                     objective='val_accuracy',\n",
    "                     max_epochs=20,\n",
    "                     directory='kt_dir2',\n",
    "                     project_name='punch_dl_kt')\n",
    "\n",
    "stop_early = tf.keras.callbacks.EarlyStopping(monitor='val_loss', patience=8)\n",
    "\n",
    "tuner.search(X_train, y_train, batch_size=1, validation_data=(X_val, y_val), \n",
    "             epochs=32, callbacks=[stop_early])"
   ]
  },
  {
   "cell_type": "code",
   "execution_count": null,
   "metadata": {},
   "outputs": [],
   "source": [
    "# Get the optimal hyperparameters\n",
    "best_hps=tuner.get_best_hyperparameters(num_trials=1)[0]\n",
    "\n",
    "best_hps.values"
   ]
  },
  {
   "cell_type": "code",
   "execution_count": 24,
   "metadata": {
    "scrolled": true
   },
   "outputs": [
    {
     "name": "stdout",
     "output_type": "stream",
     "text": [
      "Epoch 1/64\n",
      "269/269 [==============================] - 5s 17ms/step - loss: 1.8344 - accuracy: 0.5172 - val_loss: 1.3857 - val_accuracy: 0.5888\n",
      "Epoch 2/64\n",
      "269/269 [==============================] - 4s 15ms/step - loss: 1.2772 - accuracy: 0.6154 - val_loss: 1.2073 - val_accuracy: 0.6531\n",
      "Epoch 3/64\n",
      "269/269 [==============================] - 4s 14ms/step - loss: 1.1006 - accuracy: 0.6616 - val_loss: 1.2211 - val_accuracy: 0.6670\n",
      "Epoch 4/64\n",
      "269/269 [==============================] - 4s 15ms/step - loss: 0.9954 - accuracy: 0.6942 - val_loss: 1.1618 - val_accuracy: 0.6905\n",
      "Epoch 5/64\n",
      "269/269 [==============================] - 4s 16ms/step - loss: 0.9178 - accuracy: 0.7244 - val_loss: 1.1622 - val_accuracy: 0.6847\n",
      "Epoch 6/64\n",
      "269/269 [==============================] - 4s 16ms/step - loss: 0.8694 - accuracy: 0.7454 - val_loss: 1.1681 - val_accuracy: 0.6636\n",
      "Epoch 7/64\n",
      "269/269 [==============================] - 4s 16ms/step - loss: 0.8059 - accuracy: 0.7736 - val_loss: 1.2061 - val_accuracy: 0.6752\n",
      "Epoch 8/64\n",
      "269/269 [==============================] - 4s 16ms/step - loss: 0.7804 - accuracy: 0.7772 - val_loss: 1.4996 - val_accuracy: 0.5932\n",
      "Epoch 9/64\n",
      "269/269 [==============================] - 5s 17ms/step - loss: 0.7283 - accuracy: 0.8108 - val_loss: 1.2747 - val_accuracy: 0.6480\n",
      "Epoch 10/64\n",
      "269/269 [==============================] - 5s 17ms/step - loss: 0.7023 - accuracy: 0.8155 - val_loss: 1.3407 - val_accuracy: 0.6480\n",
      "Epoch 11/64\n",
      "269/269 [==============================] - 4s 16ms/step - loss: 0.6583 - accuracy: 0.8425 - val_loss: 1.3917 - val_accuracy: 0.6721\n",
      "Epoch 12/64\n",
      "269/269 [==============================] - 4s 15ms/step - loss: 0.6516 - accuracy: 0.8468 - val_loss: 1.4854 - val_accuracy: 0.6480\n",
      "Epoch 13/64\n",
      "269/269 [==============================] - 4s 16ms/step - loss: 0.5893 - accuracy: 0.8673 - val_loss: 1.4957 - val_accuracy: 0.6949\n",
      "Epoch 14/64\n",
      "269/269 [==============================] - 5s 17ms/step - loss: 0.5611 - accuracy: 0.8778 - val_loss: 1.4854 - val_accuracy: 0.6619\n",
      "Epoch 15/64\n",
      "269/269 [==============================] - 4s 16ms/step - loss: 0.4996 - accuracy: 0.9047 - val_loss: 1.5039 - val_accuracy: 0.7058\n",
      "Epoch 16/64\n",
      "269/269 [==============================] - 4s 17ms/step - loss: 0.4703 - accuracy: 0.9193 - val_loss: 1.4826 - val_accuracy: 0.7048\n",
      "Epoch 17/64\n",
      "269/269 [==============================] - 5s 19ms/step - loss: 0.4634 - accuracy: 0.9175 - val_loss: 1.5168 - val_accuracy: 0.7000\n",
      "Epoch 18/64\n",
      "269/269 [==============================] - 5s 17ms/step - loss: 0.4512 - accuracy: 0.9227 - val_loss: 1.5048 - val_accuracy: 0.7017\n",
      "Epoch 19/64\n",
      "269/269 [==============================] - 5s 17ms/step - loss: 0.4463 - accuracy: 0.9252 - val_loss: 1.5184 - val_accuracy: 0.6881\n",
      "Epoch 20/64\n",
      "269/269 [==============================] - 5s 17ms/step - loss: 0.4405 - accuracy: 0.9234 - val_loss: 1.5316 - val_accuracy: 0.6949\n",
      "Epoch 21/64\n",
      "269/269 [==============================] - 5s 17ms/step - loss: 0.4377 - accuracy: 0.9257 - val_loss: 1.5442 - val_accuracy: 0.6915\n",
      "Epoch 22/64\n",
      "269/269 [==============================] - 5s 17ms/step - loss: 0.4327 - accuracy: 0.9311 - val_loss: 1.5498 - val_accuracy: 0.6915\n",
      "Epoch 23/64\n",
      "269/269 [==============================] - 5s 17ms/step - loss: 0.4250 - accuracy: 0.9338 - val_loss: 1.5722 - val_accuracy: 0.6874\n",
      "Epoch 24/64\n",
      "269/269 [==============================] - 5s 18ms/step - loss: 0.4220 - accuracy: 0.9341 - val_loss: 1.5504 - val_accuracy: 0.6898\n",
      "Epoch 25/64\n",
      "269/269 [==============================] - 5s 18ms/step - loss: 0.4117 - accuracy: 0.9377 - val_loss: 1.5539 - val_accuracy: 0.6912\n",
      "Epoch 26/64\n",
      "269/269 [==============================] - 5s 17ms/step - loss: 0.4117 - accuracy: 0.9384 - val_loss: 1.5554 - val_accuracy: 0.6905\n",
      "Epoch 27/64\n",
      "269/269 [==============================] - 5s 17ms/step - loss: 0.4106 - accuracy: 0.9398 - val_loss: 1.5583 - val_accuracy: 0.6912\n",
      "Epoch 28/64\n",
      "269/269 [==============================] - 5s 18ms/step - loss: 0.4107 - accuracy: 0.9380 - val_loss: 1.5635 - val_accuracy: 0.6908\n",
      "Epoch 29/64\n",
      "269/269 [==============================] - 5s 18ms/step - loss: 0.4100 - accuracy: 0.9406 - val_loss: 1.5630 - val_accuracy: 0.6915\n",
      "Epoch 30/64\n",
      "269/269 [==============================] - 5s 17ms/step - loss: 0.4104 - accuracy: 0.9418 - val_loss: 1.5626 - val_accuracy: 0.6925\n",
      "Epoch 31/64\n",
      "269/269 [==============================] - 5s 18ms/step - loss: 0.4069 - accuracy: 0.9413 - val_loss: 1.5638 - val_accuracy: 0.6929\n",
      "Epoch 32/64\n",
      "269/269 [==============================] - 5s 18ms/step - loss: 0.4047 - accuracy: 0.9430 - val_loss: 1.5639 - val_accuracy: 0.6915\n",
      "Epoch 33/64\n",
      "269/269 [==============================] - 5s 19ms/step - loss: 0.4091 - accuracy: 0.9390 - val_loss: 1.5651 - val_accuracy: 0.6905\n",
      "Epoch 34/64\n",
      "269/269 [==============================] - 5s 18ms/step - loss: 0.4063 - accuracy: 0.9418 - val_loss: 1.5638 - val_accuracy: 0.6901\n",
      "Epoch 35/64\n",
      "269/269 [==============================] - 5s 18ms/step - loss: 0.4064 - accuracy: 0.9398 - val_loss: 1.5642 - val_accuracy: 0.6901\n",
      "Epoch 36/64\n",
      "269/269 [==============================] - 5s 18ms/step - loss: 0.4047 - accuracy: 0.9404 - val_loss: 1.5649 - val_accuracy: 0.6901\n",
      "Epoch 37/64\n",
      "269/269 [==============================] - 5s 17ms/step - loss: 0.4045 - accuracy: 0.9406 - val_loss: 1.5654 - val_accuracy: 0.6901\n",
      "Epoch 38/64\n",
      "269/269 [==============================] - 5s 18ms/step - loss: 0.4053 - accuracy: 0.9405 - val_loss: 1.5657 - val_accuracy: 0.6901\n",
      "Epoch 39/64\n",
      "269/269 [==============================] - 5s 18ms/step - loss: 0.4073 - accuracy: 0.9392 - val_loss: 1.5660 - val_accuracy: 0.6901\n",
      "Epoch 40/64\n",
      "269/269 [==============================] - 5s 18ms/step - loss: 0.4070 - accuracy: 0.9398 - val_loss: 1.5661 - val_accuracy: 0.6901\n",
      "Epoch 41/64\n",
      "269/269 [==============================] - 5s 18ms/step - loss: 0.4080 - accuracy: 0.9399 - val_loss: 1.5666 - val_accuracy: 0.6901\n",
      "Epoch 42/64\n",
      "269/269 [==============================] - 5s 18ms/step - loss: 0.4112 - accuracy: 0.9383 - val_loss: 1.5673 - val_accuracy: 0.6905\n",
      "Epoch 43/64\n",
      "269/269 [==============================] - 5s 19ms/step - loss: 0.4049 - accuracy: 0.9408 - val_loss: 1.5674 - val_accuracy: 0.6905\n",
      "Epoch 44/64\n",
      "269/269 [==============================] - 5s 17ms/step - loss: 0.4054 - accuracy: 0.9428 - val_loss: 1.5674 - val_accuracy: 0.6905\n",
      "Epoch 45/64\n",
      "269/269 [==============================] - 5s 18ms/step - loss: 0.4021 - accuracy: 0.9416 - val_loss: 1.5674 - val_accuracy: 0.6905\n",
      "Epoch 46/64\n",
      "269/269 [==============================] - 5s 17ms/step - loss: 0.4030 - accuracy: 0.9432 - val_loss: 1.5675 - val_accuracy: 0.6905\n",
      "Epoch 47/64\n",
      "269/269 [==============================] - 5s 18ms/step - loss: 0.4052 - accuracy: 0.9434 - val_loss: 1.5676 - val_accuracy: 0.6905\n",
      "Epoch 48/64\n",
      "269/269 [==============================] - 5s 18ms/step - loss: 0.4073 - accuracy: 0.9382 - val_loss: 1.5676 - val_accuracy: 0.6905\n",
      "Epoch 49/64\n",
      "269/269 [==============================] - 5s 18ms/step - loss: 0.4073 - accuracy: 0.9403 - val_loss: 1.5676 - val_accuracy: 0.6905\n",
      "Epoch 50/64\n",
      "269/269 [==============================] - 5s 18ms/step - loss: 0.4094 - accuracy: 0.9410 - val_loss: 1.5676 - val_accuracy: 0.6905\n",
      "Epoch 51/64\n",
      "269/269 [==============================] - 5s 18ms/step - loss: 0.4048 - accuracy: 0.9416 - val_loss: 1.5676 - val_accuracy: 0.6905\n",
      "Epoch 52/64\n",
      "269/269 [==============================] - 5s 19ms/step - loss: 0.4039 - accuracy: 0.9428 - val_loss: 1.5677 - val_accuracy: 0.6905\n",
      "Epoch 53/64\n",
      "269/269 [==============================] - 5s 18ms/step - loss: 0.4047 - accuracy: 0.9405 - val_loss: 1.5677 - val_accuracy: 0.6905\n",
      "Epoch 54/64\n",
      "269/269 [==============================] - 5s 17ms/step - loss: 0.4064 - accuracy: 0.9434 - val_loss: 1.5677 - val_accuracy: 0.6905\n",
      "Epoch 55/64\n",
      "269/269 [==============================] - 4s 16ms/step - loss: 0.4051 - accuracy: 0.9426 - val_loss: 1.5677 - val_accuracy: 0.6905\n",
      "Epoch 56/64\n",
      "269/269 [==============================] - 5s 17ms/step - loss: 0.4049 - accuracy: 0.9420 - val_loss: 1.5677 - val_accuracy: 0.6905\n",
      "Epoch 57/64\n",
      "269/269 [==============================] - 5s 19ms/step - loss: 0.4021 - accuracy: 0.9428 - val_loss: 1.5677 - val_accuracy: 0.6905\n"
     ]
    },
    {
     "name": "stdout",
     "output_type": "stream",
     "text": [
      "Epoch 58/64\n",
      "269/269 [==============================] - 5s 18ms/step - loss: 0.4040 - accuracy: 0.9411 - val_loss: 1.5677 - val_accuracy: 0.6905\n",
      "Epoch 59/64\n",
      "269/269 [==============================] - 5s 18ms/step - loss: 0.4063 - accuracy: 0.9403 - val_loss: 1.5677 - val_accuracy: 0.6905\n",
      "Epoch 60/64\n",
      "269/269 [==============================] - 5s 18ms/step - loss: 0.4071 - accuracy: 0.9418 - val_loss: 1.5677 - val_accuracy: 0.6905\n",
      "Epoch 61/64\n",
      "269/269 [==============================] - 5s 19ms/step - loss: 0.4062 - accuracy: 0.9395 - val_loss: 1.5677 - val_accuracy: 0.6905\n",
      "Epoch 62/64\n",
      "269/269 [==============================] - 5s 19ms/step - loss: 0.4050 - accuracy: 0.9430 - val_loss: 1.5678 - val_accuracy: 0.6905\n",
      "Epoch 63/64\n",
      "269/269 [==============================] - 5s 18ms/step - loss: 0.4054 - accuracy: 0.9414 - val_loss: 1.5678 - val_accuracy: 0.6905\n",
      "Epoch 64/64\n",
      "269/269 [==============================] - 5s 19ms/step - loss: 0.4080 - accuracy: 0.9413 - val_loss: 1.5678 - val_accuracy: 0.6905\n",
      "Best epoch: 15\n"
     ]
    }
   ],
   "source": [
    "# Build the model with the optimal hyperparameters and train it on the data for 64 epochs\n",
    "model = tuner.hypermodel.build(best_hps)\n",
    "history = model.fit(X_train, y_train, batch_size=1, \n",
    "                    validation_data=(X_val, y_val), \n",
    "                    epochs=64,\n",
    "                   callbacks=[K.callbacks.ReduceLROnPlateau()])\n",
    "\n",
    "val_acc_per_epoch = history.history['val_accuracy']\n",
    "best_epoch = val_acc_per_epoch.index(max(val_acc_per_epoch)) + 1\n",
    "print('Best epoch: %d' % (best_epoch,))"
   ]
  },
  {
   "cell_type": "code",
   "execution_count": 25,
   "metadata": {},
   "outputs": [
    {
     "data": {
      "text/plain": [
       "[<matplotlib.lines.Line2D at 0x7f1a686ee4c0>]"
      ]
     },
     "execution_count": 25,
     "metadata": {},
     "output_type": "execute_result"
    },
    {
     "data": {
      "image/png": "[encoded data removed]",
      "text/plain": [
       "<Figure size 1080x504 with 2 Axes>"
      ]
     },
     "metadata": {
      "needs_background": "light"
     },
     "output_type": "display_data"
    }
   ],
   "source": [
    "plt.figure(figsize=(15, 7))\n",
    "plt.subplot(221)\n",
    "plt.title(\"Train Loss\")\n",
    "plt.plot(history.history['loss'])\n",
    "plt.subplot(222)\n",
    "plt.title(\"Train/validation accuracy\")\n",
    "plt.plot(history.history['accuracy'])\n",
    "plt.plot(history.history['val_accuracy'])"
   ]
  },
  {
   "cell_type": "markdown",
   "metadata": {},
   "source": [
    "# Conclusion \n",
    "\n",
    "We need more data to avoid overfitting"
   ]
  },
  {
   "cell_type": "markdown",
   "metadata": {},
   "source": [
    "# Convert the model"
   ]
  },
  {
   "cell_type": "code",
   "execution_count": 26,
   "metadata": {
    "scrolled": true
   },
   "outputs": [
    {
     "name": "stdout",
     "output_type": "stream",
     "text": [
      "WARNING:tensorflow:From /home/andrew/Рабочий стол/Нейросети/venv/lib/python3.8/site-packages/tensorflow/python/training/tracking/tracking.py:111: Model.state_updates (from tensorflow.python.keras.engine.training) is deprecated and will be removed in a future version.\n",
      "Instructions for updating:\n",
      "This property should not be used in TensorFlow 2.0, as updates are applied automatically.\n",
      "WARNING:tensorflow:From /home/andrew/Рабочий стол/Нейросети/venv/lib/python3.8/site-packages/tensorflow/python/training/tracking/tracking.py:111: Layer.updates (from tensorflow.python.keras.engine.base_layer) is deprecated and will be removed in a future version.\n",
      "Instructions for updating:\n",
      "This property should not be used in TensorFlow 2.0, as updates are applied automatically.\n"
     ]
    },
    {
     "name": "stderr",
     "output_type": "stream",
     "text": [
      "2021-11-23 13:50:55.571283: W tensorflow/python/util/util.cc:348] Sets are not currently considered sequences, but this may change in the future, so consider avoiding using them.\n"
     ]
    },
    {
     "name": "stdout",
     "output_type": "stream",
     "text": [
      "INFO:tensorflow:Assets written to: /tmp/tmpbzvki7c5/assets\n"
     ]
    },
    {
     "name": "stderr",
     "output_type": "stream",
     "text": [
      "2021-11-23 13:50:58.359080: I tensorflow/core/grappler/devices.cc:69] Number of eligible GPUs (core count >= 8, compute capability >= 0.0): 0\n",
      "2021-11-23 13:50:58.359213: I tensorflow/core/grappler/clusters/single_machine.cc:356] Starting new session\n",
      "2021-11-23 13:50:58.372107: I tensorflow/core/grappler/optimizers/meta_optimizer.cc:816] Optimization results for grappler item: graph_to_optimize\n",
      "2021-11-23 13:50:58.372144: I tensorflow/core/grappler/optimizers/meta_optimizer.cc:818]   function_optimizer: Graph size after: 207 nodes (0), 234 edges (0), time = 2.152ms.\n",
      "2021-11-23 13:50:58.372147: I tensorflow/core/grappler/optimizers/meta_optimizer.cc:818]   function_optimizer: Graph size after: 207 nodes (0), 234 edges (0), time = 2.325ms.\n",
      "2021-11-23 13:50:58.372150: I tensorflow/core/grappler/optimizers/meta_optimizer.cc:816] Optimization results for grappler item: sequential_1_gru_1_while_cond_353211\n",
      "2021-11-23 13:50:58.372153: I tensorflow/core/grappler/optimizers/meta_optimizer.cc:818]   function_optimizer: function_optimizer did nothing. time = 0.001ms.\n",
      "2021-11-23 13:50:58.372156: I tensorflow/core/grappler/optimizers/meta_optimizer.cc:818]   function_optimizer: function_optimizer did nothing. time = 0.001ms.\n",
      "2021-11-23 13:50:58.372159: I tensorflow/core/grappler/optimizers/meta_optimizer.cc:816] Optimization results for grappler item: sequential_1_gru_1_while_body_353212\n",
      "2021-11-23 13:50:58.372161: I tensorflow/core/grappler/optimizers/meta_optimizer.cc:818]   function_optimizer: function_optimizer did nothing. time = 0ms.\n",
      "2021-11-23 13:50:58.372164: I tensorflow/core/grappler/optimizers/meta_optimizer.cc:818]   function_optimizer: function_optimizer did nothing. time = 0ms.\n",
      "2021-11-23 13:50:58.507008: W tensorflow/compiler/mlir/lite/python/tf_tfl_flatbuffer_helpers.cc:313] Ignored output_format.\n",
      "2021-11-23 13:50:58.507057: W tensorflow/compiler/mlir/lite/python/tf_tfl_flatbuffer_helpers.cc:316] Ignored drop_control_dependency.\n"
     ]
    }
   ],
   "source": [
    "converter = tf.lite.TFLiteConverter.from_keras_model(model) \n",
    "\n",
    "tflite_model = converter.convert()"
   ]
  },
  {
   "cell_type": "code",
   "execution_count": 27,
   "metadata": {},
   "outputs": [],
   "source": [
    "# Save the model.\n",
    "save_tflite_model(tflite_model, 'tflite_models')"
   ]
  },
  {
   "cell_type": "code",
   "execution_count": 29,
   "metadata": {},
   "outputs": [
    {
     "name": "stdout",
     "output_type": "stream",
     "text": [
      "Done. The result of TensorFlow matches the result of TensorFlow Lite.\n",
      "Done. The result of TensorFlow matches the result of TensorFlow Lite.\n",
      "Done. The result of TensorFlow matches the result of TensorFlow Lite.\n",
      "Done. The result of TensorFlow matches the result of TensorFlow Lite.\n",
      "Done. The result of TensorFlow matches the result of TensorFlow Lite.\n",
      "Done. The result of TensorFlow matches the result of TensorFlow Lite.\n",
      "Done. The result of TensorFlow matches the result of TensorFlow Lite.\n",
      "Done. The result of TensorFlow matches the result of TensorFlow Lite.\n",
      "Done. The result of TensorFlow matches the result of TensorFlow Lite.\n",
      "Done. The result of TensorFlow matches the result of TensorFlow Lite.\n"
     ]
    }
   ],
   "source": [
    "# Run the model with TensorFlow to get expected results.\n",
    "TEST_CASES = 10\n",
    "x = tf.reshape(X_val, (-1, time_steps, 34))\n",
    "# Run the model with TensorFlow Lite\n",
    "interpreter = tf.lite.Interpreter(model_content=tflite_model)\n",
    "interpreter.allocate_tensors()\n",
    "input_details = interpreter.get_input_details()\n",
    "output_details = interpreter.get_output_details()\n",
    "\n",
    "for i in range(TEST_CASES):\n",
    "    expected = model.predict(x[i:i+1])\n",
    "    interpreter.set_tensor(input_details[0][\"index\"], x[i:i+1])\n",
    "    interpreter.invoke()\n",
    "    result = interpreter.get_tensor(output_details[0][\"index\"])\n",
    "\n",
    "    # Assert if the result of TFLite model is consistent with the TF model.\n",
    "    np.testing.assert_almost_equal(expected, result, decimal=5)\n",
    "    print(\"Done. The result of TensorFlow matches the result of TensorFlow Lite.\")\n",
    "\n",
    "    # Please note: TfLite fused Lstm kernel is stateful, so we need to reset\n",
    "    # the states.\n",
    "    # Clean up internal states.\n",
    "    interpreter.reset_all_variables()"
   ]
  },
  {
   "cell_type": "markdown",
   "metadata": {},
   "source": [
    "# Moving most frequent smoothing"
   ]
  },
  {
   "cell_type": "code",
   "execution_count": 30,
   "metadata": {},
   "outputs": [],
   "source": [
    "y_pred = np.argmax(model(x).numpy(), axis=-1).ravel()\n",
    "y_val_np = np.concatenate(y_val_list)[:N_val*time_steps]"
   ]
  },
  {
   "cell_type": "code",
   "execution_count": 31,
   "metadata": {},
   "outputs": [],
   "source": [
    "# [1,1,1,1,3,3,1,1] -> [1]\n",
    "# moving window across padded y_pred\n",
    "# output element is most frequent in window\n",
    "\n",
    "win_size = time_steps // 2\n",
    "mf_smooth = np.zeros(y_pred.shape[0]+win_size)\n",
    "for i in range(len(y_pred) - win_size):\n",
    "    window = y_pred[i:i+win_size]\n",
    "    bins = np.bincount(window)\n",
    "    mf_smooth[i+win_size//2] = np.argmax(bins)\n",
    "\n",
    "mf_smooth = mf_smooth[:-win_size]"
   ]
  },
  {
   "cell_type": "code",
   "execution_count": 32,
   "metadata": {},
   "outputs": [
    {
     "data": {
      "text/plain": [
       "(2940, 2940, 2940)"
      ]
     },
     "execution_count": 32,
     "metadata": {},
     "output_type": "execute_result"
    }
   ],
   "source": [
    "len(mf_smooth), len(y_pred), len(y_val_np)"
   ]
  },
  {
   "cell_type": "code",
   "execution_count": 33,
   "metadata": {},
   "outputs": [
    {
     "name": "stdout",
     "output_type": "stream",
     "text": [
      "0.6904761904761905\n",
      "0.7170068027210884\n"
     ]
    }
   ],
   "source": [
    "print(np.mean(y_val_np==y_pred))\n",
    "print(np.mean(y_val_np==mf_smooth))"
   ]
  },
  {
   "cell_type": "code",
   "execution_count": 34,
   "metadata": {
    "scrolled": false
   },
   "outputs": [
    {
     "data": {
      "text/plain": [
       "[<matplotlib.lines.Line2D at 0x7f1a6bd57a60>]"
      ]
     },
     "execution_count": 34,
     "metadata": {},
     "output_type": "execute_result"
    },
    {
     "data": {
      "image/png": "[encoded data removed]",
      "text/plain": [
       "<Figure size 1152x864 with 3 Axes>"
      ]
     },
     "metadata": {
      "needs_background": "light"
     },
     "output_type": "display_data"
    }
   ],
   "source": [
    "plt.figure(figsize=(16, 12))\n",
    "\n",
    "plt.subplot(3, 1, 1)\n",
    "plt.title('Original')\n",
    "plt.plot(y_val_np[:600])\n",
    "\n",
    "plt.subplot(3, 1, 2)\n",
    "plt.title('Prediction')\n",
    "plt.plot(y_pred[:600])\n",
    "\n",
    "plt.subplot(3, 1, 3)\n",
    "plt.title('Smoothed prediction')\n",
    "plt.plot(mf_smooth[:600])\n"
   ]
  },
  {
   "cell_type": "markdown",
   "metadata": {},
   "source": [
    "Thanks to:  \n",
    "https://github.com/keras-team/keras-tuner"
   ]
  }
 ],
 "metadata": {
  "kernelspec": {
   "display_name": "Python 3 (ipykernel)",
   "language": "python",
   "name": "python3"
  },
  "language_info": {
   "codemirror_mode": {
    "name": "ipython",
    "version": 3
   },
   "file_extension": ".py",
   "mimetype": "text/x-python",
   "name": "python",
   "nbconvert_exporter": "python",
   "pygments_lexer": "ipython3",
   "version": "3.8.10"
  }
 },
 "nbformat": 4,
 "nbformat_minor": 2
}