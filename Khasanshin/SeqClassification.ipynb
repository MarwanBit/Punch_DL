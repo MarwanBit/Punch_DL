{
 "cells": [
  {
   "cell_type": "code",
   "execution_count": 2,
   "metadata": {},
   "outputs": [],
   "source": [
    "import numpy as np\n",
    "import matplotlib.pyplot as plt"
   ]
  },
  {
   "cell_type": "code",
   "execution_count": null,
   "metadata": {},
   "outputs": [],
   "source": [
    "from tensorflow.keras.models import Sequential\n",
    "from tensorflow.keras.layers import *\n",
    "from tensorflow.keras.utils import plot_model\n",
    "from tensorflow.keras import optimizers"
   ]
  },
  {
   "cell_type": "code",
   "execution_count": 9,
   "metadata": {},
   "outputs": [],
   "source": [
    "from dataset import random_split_train_val"
   ]
  },
  {
   "cell_type": "code",
   "execution_count": 10,
   "metadata": {},
   "outputs": [],
   "source": [
    "test_dataset = np.loadtxt(\"THRESHOLD_TEST.txt\", delimiter=\",\")\n",
    "train_dataset = np.loadtxt(\"THRESHOLD_ALL.txt\", delimiter=\",\")"
   ]
  },
  {
   "cell_type": "code",
   "execution_count": 11,
   "metadata": {},
   "outputs": [],
   "source": [
    "# let`s see to 4-th column\n",
    "X = train_dataset[:,0:600]\n",
    "Y = train_dataset[:,600]\n",
    "\n",
    "X_test = test_dataset[:,0:600]\n",
    "y_test = test_dataset[:,600]\n",
    "\n",
    "X_train, y_train, X_val, y_val = random_split_train_val(X, Y, 212)"
   ]
  },
  {
   "cell_type": "code",
   "execution_count": 12,
   "metadata": {
    "scrolled": true
   },
   "outputs": [
    {
     "data": {
      "text/plain": [
       "0.010000000000001563"
      ]
     },
     "execution_count": 12,
     "metadata": {},
     "output_type": "execute_result"
    }
   ],
   "source": [
    "# 4-th column = sum of 1,2,3 columns\n",
    "x = X_train[1].reshape(4, 150)\n",
    "np.max(np.sum(x[:3, :], axis=0) - x[-1])"
   ]
  },
  {
   "cell_type": "code",
   "execution_count": 83,
   "metadata": {},
   "outputs": [],
   "source": [
    "# no need for features linear combination \n",
    "X = dataset[:,0:450]\n",
    "Y = dataset[:,600]"
   ]
  },
  {
   "cell_type": "code",
   "execution_count": 107,
   "metadata": {},
   "outputs": [],
   "source": [
    "# Выходной слой с 5 - прямой, боковой, апперкот, уракен, передвижения без ударов\n",
    "num_classes = 5"
   ]
  },
  {
   "cell_type": "markdown",
   "metadata": {},
   "source": [
    "# Simple multy layer perceptron"
   ]
  },
  {
   "cell_type": "code",
   "execution_count": 222,
   "metadata": {},
   "outputs": [],
   "source": [
    "X_test = test_dataset[:,0:450]\n",
    "y_test = test_dataset[:,600]\n",
    "\n",
    "X_train, y_train, X_val, y_val = random_split_train_val(X, Y, 212)"
   ]
  },
  {
   "cell_type": "code",
   "execution_count": 227,
   "metadata": {},
   "outputs": [],
   "source": [
    "mlp = Sequential([\n",
    "    Dense(450, activation='sigmoid'),\n",
    "    Dense(1024, activation='sigmoid'),\n",
    "    Dense(256, activation='sigmoid'),\n",
    "    Dense(128, activation='sigmoid'),\n",
    "    Dense(5, activation='sigmoid')\n",
    "])\n",
    "\n",
    "mlp.compile(loss='sparse_categorical_crossentropy', optimizer='adam', metrics=['accuracy'])"
   ]
  },
  {
   "cell_type": "code",
   "execution_count": 228,
   "metadata": {
    "scrolled": true
   },
   "outputs": [
    {
     "name": "stdout",
     "output_type": "stream",
     "text": [
      "Epoch 1/100\n",
      "54/54 [==============================] - 0s 5ms/step - loss: 1.5744 - accuracy: 0.2965 - val_loss: 1.4409 - val_accuracy: 0.3585\n",
      "Epoch 2/100\n",
      "54/54 [==============================] - 0s 3ms/step - loss: 1.2265 - accuracy: 0.5282 - val_loss: 1.1474 - val_accuracy: 0.5991\n",
      "Epoch 3/100\n",
      "54/54 [==============================] - 0s 4ms/step - loss: 0.8882 - accuracy: 0.6835 - val_loss: 0.7899 - val_accuracy: 0.7406\n",
      "Epoch 4/100\n",
      "54/54 [==============================] - 0s 3ms/step - loss: 0.5982 - accuracy: 0.8294 - val_loss: 0.6387 - val_accuracy: 0.8160\n",
      "Epoch 5/100\n",
      "54/54 [==============================] - 0s 3ms/step - loss: 0.4408 - accuracy: 0.8800 - val_loss: 0.6042 - val_accuracy: 0.8255\n",
      "Epoch 6/100\n",
      "54/54 [==============================] - 0s 3ms/step - loss: 0.3154 - accuracy: 0.9247 - val_loss: 0.5232 - val_accuracy: 0.8538\n",
      "Epoch 7/100\n",
      "54/54 [==============================] - 0s 4ms/step - loss: 0.2446 - accuracy: 0.9418 - val_loss: 0.5488 - val_accuracy: 0.8396\n",
      "Epoch 8/100\n",
      "54/54 [==============================] - 0s 4ms/step - loss: 0.2230 - accuracy: 0.9482 - val_loss: 0.5644 - val_accuracy: 0.8443\n",
      "Epoch 9/100\n",
      "54/54 [==============================] - 0s 4ms/step - loss: 0.1810 - accuracy: 0.9571 - val_loss: 0.5076 - val_accuracy: 0.8396\n",
      "Epoch 10/100\n",
      "54/54 [==============================] - 0s 4ms/step - loss: 0.1478 - accuracy: 0.9647 - val_loss: 0.5656 - val_accuracy: 0.8396\n",
      "Epoch 11/100\n",
      "54/54 [==============================] - 0s 4ms/step - loss: 0.1332 - accuracy: 0.9653 - val_loss: 0.5548 - val_accuracy: 0.8443\n",
      "Epoch 12/100\n",
      "54/54 [==============================] - 0s 4ms/step - loss: 0.1313 - accuracy: 0.9647 - val_loss: 0.5846 - val_accuracy: 0.8491\n",
      "Epoch 13/100\n",
      "54/54 [==============================] - 0s 4ms/step - loss: 0.1070 - accuracy: 0.9718 - val_loss: 0.4963 - val_accuracy: 0.8585\n",
      "Epoch 14/100\n",
      "54/54 [==============================] - 0s 4ms/step - loss: 0.1268 - accuracy: 0.9624 - val_loss: 0.6424 - val_accuracy: 0.8208\n",
      "Epoch 15/100\n",
      "54/54 [==============================] - 0s 4ms/step - loss: 0.0932 - accuracy: 0.9741 - val_loss: 0.6606 - val_accuracy: 0.8302\n",
      "Epoch 16/100\n",
      "54/54 [==============================] - 0s 4ms/step - loss: 0.0855 - accuracy: 0.9741 - val_loss: 0.5392 - val_accuracy: 0.8585\n",
      "Epoch 17/100\n",
      "54/54 [==============================] - 0s 4ms/step - loss: 0.0632 - accuracy: 0.9806 - val_loss: 0.5533 - val_accuracy: 0.8585\n",
      "Epoch 18/100\n",
      "54/54 [==============================] - 0s 4ms/step - loss: 0.0395 - accuracy: 0.9894 - val_loss: 0.5430 - val_accuracy: 0.8726\n",
      "Epoch 19/100\n",
      "54/54 [==============================] - 0s 4ms/step - loss: 0.0347 - accuracy: 0.9924 - val_loss: 0.6642 - val_accuracy: 0.8585\n",
      "Epoch 20/100\n",
      "54/54 [==============================] - 0s 4ms/step - loss: 0.0301 - accuracy: 0.9929 - val_loss: 0.6385 - val_accuracy: 0.8585\n",
      "Epoch 21/100\n",
      "54/54 [==============================] - 0s 4ms/step - loss: 0.0208 - accuracy: 0.9959 - val_loss: 0.6286 - val_accuracy: 0.8632\n",
      "Epoch 22/100\n",
      "54/54 [==============================] - 0s 4ms/step - loss: 0.0183 - accuracy: 0.9971 - val_loss: 0.7166 - val_accuracy: 0.8349\n",
      "Epoch 23/100\n",
      "54/54 [==============================] - 0s 4ms/step - loss: 0.1619 - accuracy: 0.9512 - val_loss: 0.6709 - val_accuracy: 0.8632\n",
      "Epoch 24/100\n",
      "54/54 [==============================] - 0s 4ms/step - loss: 0.0838 - accuracy: 0.9747 - val_loss: 0.5819 - val_accuracy: 0.8632\n",
      "Epoch 25/100\n",
      "54/54 [==============================] - 0s 4ms/step - loss: 0.0630 - accuracy: 0.9806 - val_loss: 0.4837 - val_accuracy: 0.8821\n",
      "Epoch 26/100\n",
      "54/54 [==============================] - 0s 4ms/step - loss: 0.0460 - accuracy: 0.9871 - val_loss: 0.7110 - val_accuracy: 0.8396\n",
      "Epoch 27/100\n",
      "54/54 [==============================] - 0s 4ms/step - loss: 0.0619 - accuracy: 0.9794 - val_loss: 0.5769 - val_accuracy: 0.8585\n",
      "Epoch 28/100\n",
      "54/54 [==============================] - 0s 4ms/step - loss: 0.0699 - accuracy: 0.9788 - val_loss: 0.6520 - val_accuracy: 0.8443\n",
      "Epoch 29/100\n",
      "54/54 [==============================] - 0s 4ms/step - loss: 0.0130 - accuracy: 0.9982 - val_loss: 0.6079 - val_accuracy: 0.8679\n",
      "Epoch 30/100\n",
      "54/54 [==============================] - 0s 4ms/step - loss: 0.0070 - accuracy: 0.9994 - val_loss: 0.6000 - val_accuracy: 0.8632\n",
      "Epoch 31/100\n",
      "54/54 [==============================] - 0s 4ms/step - loss: 0.0046 - accuracy: 0.9994 - val_loss: 0.5702 - val_accuracy: 0.8538\n",
      "Epoch 32/100\n",
      "54/54 [==============================] - 0s 4ms/step - loss: 0.0032 - accuracy: 1.0000 - val_loss: 0.5733 - val_accuracy: 0.8585\n",
      "Epoch 33/100\n",
      "54/54 [==============================] - 0s 4ms/step - loss: 0.0028 - accuracy: 1.0000 - val_loss: 0.5761 - val_accuracy: 0.8632\n",
      "Epoch 34/100\n",
      "54/54 [==============================] - 0s 4ms/step - loss: 0.0025 - accuracy: 1.0000 - val_loss: 0.5785 - val_accuracy: 0.8632\n",
      "Epoch 35/100\n",
      "54/54 [==============================] - 0s 4ms/step - loss: 0.0023 - accuracy: 1.0000 - val_loss: 0.5780 - val_accuracy: 0.8679\n",
      "Epoch 36/100\n",
      "54/54 [==============================] - 0s 4ms/step - loss: 0.0022 - accuracy: 1.0000 - val_loss: 0.5795 - val_accuracy: 0.8679\n",
      "Epoch 37/100\n",
      "54/54 [==============================] - 0s 4ms/step - loss: 0.0020 - accuracy: 1.0000 - val_loss: 0.5798 - val_accuracy: 0.8679\n",
      "Epoch 38/100\n",
      "54/54 [==============================] - 0s 4ms/step - loss: 0.0019 - accuracy: 1.0000 - val_loss: 0.5813 - val_accuracy: 0.8679\n",
      "Epoch 39/100\n",
      "54/54 [==============================] - 0s 4ms/step - loss: 0.0018 - accuracy: 1.0000 - val_loss: 0.5834 - val_accuracy: 0.8679\n",
      "Epoch 40/100\n",
      "54/54 [==============================] - 0s 4ms/step - loss: 0.0017 - accuracy: 1.0000 - val_loss: 0.5853 - val_accuracy: 0.8632\n",
      "Epoch 41/100\n",
      "54/54 [==============================] - 0s 4ms/step - loss: 0.0016 - accuracy: 1.0000 - val_loss: 0.5856 - val_accuracy: 0.8632\n",
      "Epoch 42/100\n",
      "54/54 [==============================] - 0s 4ms/step - loss: 0.0015 - accuracy: 1.0000 - val_loss: 0.5869 - val_accuracy: 0.8632\n",
      "Epoch 43/100\n",
      "54/54 [==============================] - 0s 4ms/step - loss: 0.0014 - accuracy: 1.0000 - val_loss: 0.5885 - val_accuracy: 0.8632\n",
      "Epoch 44/100\n",
      "54/54 [==============================] - 0s 4ms/step - loss: 0.0013 - accuracy: 1.0000 - val_loss: 0.5886 - val_accuracy: 0.8632\n",
      "Epoch 45/100\n",
      "54/54 [==============================] - 0s 4ms/step - loss: 0.0013 - accuracy: 1.0000 - val_loss: 0.5911 - val_accuracy: 0.8632\n",
      "Epoch 46/100\n",
      "54/54 [==============================] - 0s 4ms/step - loss: 0.0012 - accuracy: 1.0000 - val_loss: 0.5917 - val_accuracy: 0.8632\n",
      "Epoch 47/100\n",
      "54/54 [==============================] - 0s 4ms/step - loss: 0.0012 - accuracy: 1.0000 - val_loss: 0.5936 - val_accuracy: 0.8632\n",
      "Epoch 48/100\n",
      "54/54 [==============================] - 0s 4ms/step - loss: 0.0011 - accuracy: 1.0000 - val_loss: 0.5955 - val_accuracy: 0.8632\n",
      "Epoch 49/100\n",
      "54/54 [==============================] - 0s 4ms/step - loss: 0.0010 - accuracy: 1.0000 - val_loss: 0.5968 - val_accuracy: 0.8632\n",
      "Epoch 50/100\n",
      "54/54 [==============================] - 0s 4ms/step - loss: 0.0010 - accuracy: 1.0000 - val_loss: 0.5977 - val_accuracy: 0.8632\n",
      "Epoch 51/100\n",
      "54/54 [==============================] - 0s 4ms/step - loss: 9.5973e-04 - accuracy: 1.0000 - val_loss: 0.5997 - val_accuracy: 0.8632\n",
      "Epoch 52/100\n",
      "54/54 [==============================] - 0s 4ms/step - loss: 9.1899e-04 - accuracy: 1.0000 - val_loss: 0.6007 - val_accuracy: 0.8632\n",
      "Epoch 53/100\n",
      "54/54 [==============================] - 0s 4ms/step - loss: 8.8105e-04 - accuracy: 1.0000 - val_loss: 0.6022 - val_accuracy: 0.8632\n",
      "Epoch 54/100\n",
      "54/54 [==============================] - 0s 4ms/step - loss: 8.4550e-04 - accuracy: 1.0000 - val_loss: 0.6045 - val_accuracy: 0.8632\n",
      "Epoch 55/100\n",
      "54/54 [==============================] - 0s 4ms/step - loss: 8.1182e-04 - accuracy: 1.0000 - val_loss: 0.6064 - val_accuracy: 0.8632\n",
      "Epoch 56/100\n",
      "54/54 [==============================] - 0s 4ms/step - loss: 7.7961e-04 - accuracy: 1.0000 - val_loss: 0.6075 - val_accuracy: 0.8632\n",
      "Epoch 57/100\n",
      "54/54 [==============================] - 0s 4ms/step - loss: 7.4908e-04 - accuracy: 1.0000 - val_loss: 0.6095 - val_accuracy: 0.8632\n",
      "Epoch 58/100\n",
      "54/54 [==============================] - 0s 4ms/step - loss: 7.2016e-04 - accuracy: 1.0000 - val_loss: 0.6111 - val_accuracy: 0.8632\n",
      "Epoch 59/100\n",
      "54/54 [==============================] - 0s 4ms/step - loss: 6.9291e-04 - accuracy: 1.0000 - val_loss: 0.6133 - val_accuracy: 0.8632\n",
      "Epoch 60/100\n",
      "54/54 [==============================] - 0s 4ms/step - loss: 6.6716e-04 - accuracy: 1.0000 - val_loss: 0.6153 - val_accuracy: 0.8632\n",
      "Epoch 61/100\n",
      "54/54 [==============================] - 0s 4ms/step - loss: 6.4238e-04 - accuracy: 1.0000 - val_loss: 0.6176 - val_accuracy: 0.8632\n",
      "Epoch 62/100\n",
      "54/54 [==============================] - 0s 4ms/step - loss: 6.1832e-04 - accuracy: 1.0000 - val_loss: 0.6191 - val_accuracy: 0.8632\n",
      "Epoch 63/100\n",
      "54/54 [==============================] - 0s 4ms/step - loss: 5.9630e-04 - accuracy: 1.0000 - val_loss: 0.6201 - val_accuracy: 0.8632\n",
      "Epoch 64/100\n",
      "54/54 [==============================] - 0s 4ms/step - loss: 5.7478e-04 - accuracy: 1.0000 - val_loss: 0.6226 - val_accuracy: 0.8632\n",
      "Epoch 65/100\n",
      "54/54 [==============================] - 0s 4ms/step - loss: 5.5406e-04 - accuracy: 1.0000 - val_loss: 0.6241 - val_accuracy: 0.8632\n",
      "Epoch 66/100\n",
      "54/54 [==============================] - 0s 4ms/step - loss: 5.3444e-04 - accuracy: 1.0000 - val_loss: 0.6261 - val_accuracy: 0.8632\n",
      "Epoch 67/100\n",
      "54/54 [==============================] - 0s 4ms/step - loss: 5.1605e-04 - accuracy: 1.0000 - val_loss: 0.6277 - val_accuracy: 0.8632\n",
      "Epoch 68/100\n",
      "54/54 [==============================] - 0s 4ms/step - loss: 4.9794e-04 - accuracy: 1.0000 - val_loss: 0.6299 - val_accuracy: 0.8632\n",
      "Epoch 69/100\n",
      "54/54 [==============================] - 0s 4ms/step - loss: 4.8059e-04 - accuracy: 1.0000 - val_loss: 0.6310 - val_accuracy: 0.8632\n",
      "Epoch 70/100\n",
      "54/54 [==============================] - 0s 4ms/step - loss: 4.6410e-04 - accuracy: 1.0000 - val_loss: 0.6334 - val_accuracy: 0.8632\n",
      "Epoch 71/100\n",
      "54/54 [==============================] - 0s 4ms/step - loss: 4.4832e-04 - accuracy: 1.0000 - val_loss: 0.6358 - val_accuracy: 0.8632\n",
      "Epoch 72/100\n",
      "54/54 [==============================] - 0s 4ms/step - loss: 4.3309e-04 - accuracy: 1.0000 - val_loss: 0.6373 - val_accuracy: 0.8632\n",
      "Epoch 73/100\n",
      "54/54 [==============================] - 0s 4ms/step - loss: 4.1878e-04 - accuracy: 1.0000 - val_loss: 0.6389 - val_accuracy: 0.8632\n",
      "Epoch 74/100\n",
      "54/54 [==============================] - 0s 4ms/step - loss: 4.0466e-04 - accuracy: 1.0000 - val_loss: 0.6409 - val_accuracy: 0.8632\n",
      "Epoch 75/100\n",
      "54/54 [==============================] - 0s 4ms/step - loss: 3.9113e-04 - accuracy: 1.0000 - val_loss: 0.6433 - val_accuracy: 0.8632\n",
      "Epoch 76/100\n",
      "54/54 [==============================] - 0s 4ms/step - loss: 3.7837e-04 - accuracy: 1.0000 - val_loss: 0.6449 - val_accuracy: 0.8632\n",
      "Epoch 77/100\n",
      "54/54 [==============================] - 0s 4ms/step - loss: 3.6620e-04 - accuracy: 1.0000 - val_loss: 0.6466 - val_accuracy: 0.8632\n",
      "Epoch 78/100\n",
      "54/54 [==============================] - 0s 4ms/step - loss: 3.5405e-04 - accuracy: 1.0000 - val_loss: 0.6483 - val_accuracy: 0.8679\n",
      "Epoch 79/100\n",
      "54/54 [==============================] - 0s 4ms/step - loss: 3.4261e-04 - accuracy: 1.0000 - val_loss: 0.6495 - val_accuracy: 0.8679\n",
      "Epoch 80/100\n",
      "54/54 [==============================] - 0s 4ms/step - loss: 3.3158e-04 - accuracy: 1.0000 - val_loss: 0.6514 - val_accuracy: 0.8679\n",
      "Epoch 81/100\n",
      "54/54 [==============================] - 0s 4ms/step - loss: 3.2100e-04 - accuracy: 1.0000 - val_loss: 0.6534 - val_accuracy: 0.8679\n",
      "Epoch 82/100\n",
      "54/54 [==============================] - 0s 4ms/step - loss: 3.1067e-04 - accuracy: 1.0000 - val_loss: 0.6559 - val_accuracy: 0.8679\n",
      "Epoch 83/100\n",
      "54/54 [==============================] - 0s 4ms/step - loss: 3.0084e-04 - accuracy: 1.0000 - val_loss: 0.6572 - val_accuracy: 0.8679\n",
      "Epoch 84/100\n",
      "54/54 [==============================] - 0s 4ms/step - loss: 2.9149e-04 - accuracy: 1.0000 - val_loss: 0.6597 - val_accuracy: 0.8679\n",
      "Epoch 85/100\n",
      "54/54 [==============================] - 0s 4ms/step - loss: 2.8215e-04 - accuracy: 1.0000 - val_loss: 0.6618 - val_accuracy: 0.8679\n",
      "Epoch 86/100\n",
      "54/54 [==============================] - 0s 4ms/step - loss: 2.7328e-04 - accuracy: 1.0000 - val_loss: 0.6629 - val_accuracy: 0.8679\n",
      "Epoch 87/100\n",
      "54/54 [==============================] - 0s 4ms/step - loss: 2.6484e-04 - accuracy: 1.0000 - val_loss: 0.6650 - val_accuracy: 0.8679\n",
      "Epoch 88/100\n",
      "54/54 [==============================] - 0s 4ms/step - loss: 2.5651e-04 - accuracy: 1.0000 - val_loss: 0.6671 - val_accuracy: 0.8679\n",
      "Epoch 89/100\n",
      "54/54 [==============================] - 0s 4ms/step - loss: 2.4854e-04 - accuracy: 1.0000 - val_loss: 0.6693 - val_accuracy: 0.8679\n",
      "Epoch 90/100\n",
      "54/54 [==============================] - 0s 4ms/step - loss: 2.4075e-04 - accuracy: 1.0000 - val_loss: 0.6705 - val_accuracy: 0.8679\n",
      "Epoch 91/100\n",
      "54/54 [==============================] - 0s 4ms/step - loss: 2.3337e-04 - accuracy: 1.0000 - val_loss: 0.6723 - val_accuracy: 0.8679\n",
      "Epoch 92/100\n",
      "54/54 [==============================] - 0s 4ms/step - loss: 2.2622e-04 - accuracy: 1.0000 - val_loss: 0.6746 - val_accuracy: 0.8679\n",
      "Epoch 93/100\n",
      "54/54 [==============================] - 0s 4ms/step - loss: 2.1931e-04 - accuracy: 1.0000 - val_loss: 0.6762 - val_accuracy: 0.8679\n",
      "Epoch 94/100\n",
      "54/54 [==============================] - 0s 4ms/step - loss: 2.1256e-04 - accuracy: 1.0000 - val_loss: 0.6782 - val_accuracy: 0.8726\n",
      "Epoch 95/100\n",
      "54/54 [==============================] - 0s 4ms/step - loss: 2.0619e-04 - accuracy: 1.0000 - val_loss: 0.6797 - val_accuracy: 0.8726\n",
      "Epoch 96/100\n",
      "54/54 [==============================] - 0s 4ms/step - loss: 1.9991e-04 - accuracy: 1.0000 - val_loss: 0.6811 - val_accuracy: 0.8726\n",
      "Epoch 97/100\n",
      "54/54 [==============================] - 0s 4ms/step - loss: 1.9376e-04 - accuracy: 1.0000 - val_loss: 0.6834 - val_accuracy: 0.8726\n",
      "Epoch 98/100\n",
      "54/54 [==============================] - 0s 4ms/step - loss: 1.8794e-04 - accuracy: 1.0000 - val_loss: 0.6852 - val_accuracy: 0.8726\n",
      "Epoch 99/100\n",
      "54/54 [==============================] - 0s 4ms/step - loss: 1.8228e-04 - accuracy: 1.0000 - val_loss: 0.6872 - val_accuracy: 0.8726\n",
      "Epoch 100/100\n",
      "54/54 [==============================] - 0s 4ms/step - loss: 1.7679e-04 - accuracy: 1.0000 - val_loss: 0.6889 - val_accuracy: 0.8726\n"
     ]
    }
   ],
   "source": [
    "mlp_history = mlp.fit(X_train, y_train, validation_data=(X_val, y_val),\n",
    "                    epochs=100, batch_size=32,  verbose=1)"
   ]
  },
  {
   "cell_type": "code",
   "execution_count": 229,
   "metadata": {},
   "outputs": [
    {
     "name": "stdout",
     "output_type": "stream",
     "text": [
      "2/2 [==============================] - 0s 2ms/step - loss: 1.5773e-04 - accuracy: 1.0000\n"
     ]
    }
   ],
   "source": [
    "results = mlp.evaluate(X_test, y_test, batch_size=32)"
   ]
  },
  {
   "cell_type": "code",
   "execution_count": 230,
   "metadata": {},
   "outputs": [
    {
     "data": {
      "text/plain": [
       "[<matplotlib.lines.Line2D at 0x7f8ea86e1e80>]"
      ]
     },
     "execution_count": 230,
     "metadata": {},
     "output_type": "execute_result"
    },
    {
     "data": {
      "image/png": "[encoded data removed]",
      "text/plain": [
       "<Figure size 432x288 with 1 Axes>"
      ]
     },
     "metadata": {
      "needs_background": "light"
     },
     "output_type": "display_data"
    }
   ],
   "source": [
    "plt.plot(mlp_history.history['loss'],  color='red')\n",
    "plt.plot(mlp_history.history['accuracy'],  color='green')\n",
    "plt.plot(mlp_history.history['val_accuracy'], color='black')"
   ]
  },
  {
   "cell_type": "markdown",
   "metadata": {},
   "source": [
    "# Convolution Net from Keras tutorial"
   ]
  },
  {
   "cell_type": "code",
   "execution_count": 233,
   "metadata": {},
   "outputs": [],
   "source": [
    "X_test = test_dataset[:,0:450]\n",
    "y_test = test_dataset[:,600]\n",
    "\n",
    "X_train, y_train, X_val, y_val = random_split_train_val(X, Y, 212)\n",
    "X_train = np.expand_dims(X_train, axis=-1)\n",
    "X_test = np.expand_dims(X_test, axis=-1)\n",
    "X_val = np.expand_dims(X_val, axis=-1)"
   ]
  },
  {
   "cell_type": "code",
   "execution_count": 234,
   "metadata": {},
   "outputs": [],
   "source": [
    "conv_model = Sequential([\n",
    "    Input(X_train.shape[1:]),\n",
    "    Conv1D(filters=64, kernel_size=3, padding='same'),\n",
    "    BatchNormalization(),\n",
    "    ReLU(),\n",
    "    \n",
    "    Conv1D(filters=64, kernel_size=3, padding='same'),\n",
    "    BatchNormalization(),\n",
    "    ReLU(),\n",
    "    \n",
    "    Conv1D(filters=64, kernel_size=3, padding='same'),\n",
    "    BatchNormalization(),\n",
    "    ReLU(),\n",
    "    \n",
    "    GlobalAveragePooling1D(),\n",
    "    Dense(num_classes, activation='sigmoid')\n",
    "])\n",
    "\n",
    "conv_model.compile(loss='sparse_categorical_crossentropy', \n",
    "              optimizer='adam', metrics=['accuracy'])"
   ]
  },
  {
   "cell_type": "code",
   "execution_count": 235,
   "metadata": {
    "scrolled": true
   },
   "outputs": [
    {
     "name": "stdout",
     "output_type": "stream",
     "text": [
      "Epoch 1/100\n",
      "54/54 [==============================] - 1s 10ms/step - loss: 1.4977 - accuracy: 0.3576 - val_loss: 1.5029 - val_accuracy: 0.2358\n",
      "Epoch 2/100\n",
      "54/54 [==============================] - 0s 7ms/step - loss: 1.3450 - accuracy: 0.4741 - val_loss: 1.4082 - val_accuracy: 0.4764\n",
      "Epoch 3/100\n",
      "54/54 [==============================] - 0s 8ms/step - loss: 1.2358 - accuracy: 0.5600 - val_loss: 1.4138 - val_accuracy: 0.3302\n",
      "Epoch 4/100\n",
      "54/54 [==============================] - 0s 8ms/step - loss: 1.1336 - accuracy: 0.6300 - val_loss: 1.4675 - val_accuracy: 0.3255\n",
      "Epoch 5/100\n",
      "54/54 [==============================] - 0s 7ms/step - loss: 1.0525 - accuracy: 0.6553 - val_loss: 1.2591 - val_accuracy: 0.3726\n",
      "Epoch 6/100\n",
      "54/54 [==============================] - 0s 8ms/step - loss: 0.9933 - accuracy: 0.6571 - val_loss: 1.0703 - val_accuracy: 0.6226\n",
      "Epoch 7/100\n",
      "54/54 [==============================] - 0s 8ms/step - loss: 0.9407 - accuracy: 0.6712 - val_loss: 1.4438 - val_accuracy: 0.4906\n",
      "Epoch 8/100\n",
      "54/54 [==============================] - 0s 8ms/step - loss: 0.8726 - accuracy: 0.6859 - val_loss: 1.2805 - val_accuracy: 0.4906\n",
      "Epoch 9/100\n",
      "54/54 [==============================] - 0s 8ms/step - loss: 0.8389 - accuracy: 0.7218 - val_loss: 1.5434 - val_accuracy: 0.4764\n",
      "Epoch 10/100\n",
      "54/54 [==============================] - 0s 8ms/step - loss: 0.8199 - accuracy: 0.7206 - val_loss: 0.9576 - val_accuracy: 0.5943\n",
      "Epoch 11/100\n",
      "54/54 [==============================] - 0s 8ms/step - loss: 0.7868 - accuracy: 0.7376 - val_loss: 0.9637 - val_accuracy: 0.6179\n",
      "Epoch 12/100\n",
      "54/54 [==============================] - 0s 8ms/step - loss: 0.7644 - accuracy: 0.7288 - val_loss: 1.7209 - val_accuracy: 0.3915\n",
      "Epoch 13/100\n",
      "54/54 [==============================] - 0s 8ms/step - loss: 0.7585 - accuracy: 0.7324 - val_loss: 0.8329 - val_accuracy: 0.6651\n",
      "Epoch 14/100\n",
      "54/54 [==============================] - 0s 7ms/step - loss: 0.7315 - accuracy: 0.7535 - val_loss: 0.9323 - val_accuracy: 0.6792\n",
      "Epoch 15/100\n",
      "54/54 [==============================] - 0s 7ms/step - loss: 0.7404 - accuracy: 0.7412 - val_loss: 0.8999 - val_accuracy: 0.6132\n",
      "Epoch 16/100\n",
      "54/54 [==============================] - 0s 8ms/step - loss: 0.6995 - accuracy: 0.7571 - val_loss: 0.9292 - val_accuracy: 0.6509\n",
      "Epoch 17/100\n",
      "54/54 [==============================] - 0s 8ms/step - loss: 0.6802 - accuracy: 0.7618 - val_loss: 0.7871 - val_accuracy: 0.6934\n",
      "Epoch 18/100\n",
      "54/54 [==============================] - 0s 8ms/step - loss: 0.6629 - accuracy: 0.7747 - val_loss: 0.8324 - val_accuracy: 0.6085\n",
      "Epoch 19/100\n",
      "54/54 [==============================] - 0s 8ms/step - loss: 0.6722 - accuracy: 0.7759 - val_loss: 0.6960 - val_accuracy: 0.7642\n",
      "Epoch 20/100\n",
      "54/54 [==============================] - 0s 8ms/step - loss: 0.6341 - accuracy: 0.7735 - val_loss: 0.8801 - val_accuracy: 0.6132\n",
      "Epoch 21/100\n",
      "54/54 [==============================] - 0s 7ms/step - loss: 0.6471 - accuracy: 0.7812 - val_loss: 1.4197 - val_accuracy: 0.5660\n",
      "Epoch 22/100\n",
      "54/54 [==============================] - 0s 7ms/step - loss: 0.6218 - accuracy: 0.7876 - val_loss: 0.7223 - val_accuracy: 0.6981\n",
      "Epoch 23/100\n",
      "54/54 [==============================] - 0s 8ms/step - loss: 0.6034 - accuracy: 0.8018 - val_loss: 0.6861 - val_accuracy: 0.7547\n",
      "Epoch 24/100\n",
      "54/54 [==============================] - 0s 8ms/step - loss: 0.6046 - accuracy: 0.7929 - val_loss: 0.7555 - val_accuracy: 0.7264\n",
      "Epoch 25/100\n",
      "54/54 [==============================] - 0s 8ms/step - loss: 0.6166 - accuracy: 0.7818 - val_loss: 0.6734 - val_accuracy: 0.7500\n",
      "Epoch 26/100\n",
      "54/54 [==============================] - 0s 8ms/step - loss: 0.5724 - accuracy: 0.8088 - val_loss: 0.9344 - val_accuracy: 0.5849\n",
      "Epoch 27/100\n",
      "54/54 [==============================] - 0s 8ms/step - loss: 0.5899 - accuracy: 0.7976 - val_loss: 0.9039 - val_accuracy: 0.6085\n",
      "Epoch 28/100\n",
      "54/54 [==============================] - 0s 7ms/step - loss: 0.6070 - accuracy: 0.7865 - val_loss: 0.9172 - val_accuracy: 0.6321\n",
      "Epoch 29/100\n",
      "54/54 [==============================] - 0s 7ms/step - loss: 0.5810 - accuracy: 0.8082 - val_loss: 0.7842 - val_accuracy: 0.6745\n",
      "Epoch 30/100\n",
      "54/54 [==============================] - 0s 7ms/step - loss: 0.5581 - accuracy: 0.8071 - val_loss: 0.6603 - val_accuracy: 0.7358\n",
      "Epoch 31/100\n",
      "54/54 [==============================] - 0s 8ms/step - loss: 0.5832 - accuracy: 0.8059 - val_loss: 0.7851 - val_accuracy: 0.6745\n",
      "Epoch 32/100\n",
      "54/54 [==============================] - 0s 8ms/step - loss: 0.5467 - accuracy: 0.8082 - val_loss: 0.9189 - val_accuracy: 0.6462\n",
      "Epoch 33/100\n",
      "54/54 [==============================] - 0s 7ms/step - loss: 0.5786 - accuracy: 0.8000 - val_loss: 0.7366 - val_accuracy: 0.7264\n",
      "Epoch 34/100\n",
      "54/54 [==============================] - 0s 8ms/step - loss: 0.5339 - accuracy: 0.8176 - val_loss: 0.6191 - val_accuracy: 0.7783\n",
      "Epoch 35/100\n",
      "54/54 [==============================] - 0s 8ms/step - loss: 0.5437 - accuracy: 0.8182 - val_loss: 0.6055 - val_accuracy: 0.7972\n",
      "Epoch 36/100\n",
      "54/54 [==============================] - 0s 7ms/step - loss: 0.5372 - accuracy: 0.8165 - val_loss: 1.0083 - val_accuracy: 0.6604\n",
      "Epoch 37/100\n",
      "54/54 [==============================] - 0s 8ms/step - loss: 0.5259 - accuracy: 0.8153 - val_loss: 1.3538 - val_accuracy: 0.4858\n",
      "Epoch 38/100\n",
      "54/54 [==============================] - 0s 8ms/step - loss: 0.5083 - accuracy: 0.8212 - val_loss: 0.9998 - val_accuracy: 0.5566\n",
      "Epoch 39/100\n",
      "54/54 [==============================] - 0s 7ms/step - loss: 0.5171 - accuracy: 0.8241 - val_loss: 1.3384 - val_accuracy: 0.5142\n",
      "Epoch 40/100\n",
      "54/54 [==============================] - 0s 7ms/step - loss: 0.5280 - accuracy: 0.8229 - val_loss: 0.5232 - val_accuracy: 0.8066\n",
      "Epoch 41/100\n",
      "54/54 [==============================] - 0s 8ms/step - loss: 0.5185 - accuracy: 0.8241 - val_loss: 0.8480 - val_accuracy: 0.6509\n",
      "Epoch 42/100\n",
      "54/54 [==============================] - 0s 7ms/step - loss: 0.5046 - accuracy: 0.8300 - val_loss: 0.6412 - val_accuracy: 0.7547\n",
      "Epoch 43/100\n",
      "54/54 [==============================] - 0s 7ms/step - loss: 0.5060 - accuracy: 0.8294 - val_loss: 1.4756 - val_accuracy: 0.5000\n",
      "Epoch 44/100\n",
      "54/54 [==============================] - 0s 8ms/step - loss: 0.5154 - accuracy: 0.8159 - val_loss: 0.5764 - val_accuracy: 0.7877\n",
      "Epoch 45/100\n",
      "54/54 [==============================] - 0s 7ms/step - loss: 0.5221 - accuracy: 0.8235 - val_loss: 0.7585 - val_accuracy: 0.7217\n",
      "Epoch 46/100\n",
      "54/54 [==============================] - 0s 7ms/step - loss: 0.5215 - accuracy: 0.8047 - val_loss: 0.6509 - val_accuracy: 0.7406\n",
      "Epoch 47/100\n",
      "54/54 [==============================] - 0s 8ms/step - loss: 0.4964 - accuracy: 0.8294 - val_loss: 0.6617 - val_accuracy: 0.7311\n",
      "Epoch 48/100\n",
      "54/54 [==============================] - 0s 8ms/step - loss: 0.4827 - accuracy: 0.8259 - val_loss: 0.6016 - val_accuracy: 0.7736\n",
      "Epoch 49/100\n",
      "54/54 [==============================] - 0s 7ms/step - loss: 0.4841 - accuracy: 0.8335 - val_loss: 0.5369 - val_accuracy: 0.7972\n",
      "Epoch 50/100\n",
      "54/54 [==============================] - 0s 8ms/step - loss: 0.4852 - accuracy: 0.8318 - val_loss: 0.5256 - val_accuracy: 0.8255\n",
      "Epoch 51/100\n",
      "54/54 [==============================] - 0s 7ms/step - loss: 0.4734 - accuracy: 0.8371 - val_loss: 0.5427 - val_accuracy: 0.8302\n",
      "Epoch 52/100\n",
      "54/54 [==============================] - 0s 8ms/step - loss: 0.4672 - accuracy: 0.8376 - val_loss: 0.5905 - val_accuracy: 0.7453\n",
      "Epoch 53/100\n",
      "54/54 [==============================] - 0s 7ms/step - loss: 0.4579 - accuracy: 0.8435 - val_loss: 0.8688 - val_accuracy: 0.6509\n",
      "Epoch 54/100\n",
      "54/54 [==============================] - 0s 8ms/step - loss: 0.4682 - accuracy: 0.8376 - val_loss: 0.6285 - val_accuracy: 0.7547\n",
      "Epoch 55/100\n",
      "54/54 [==============================] - 0s 8ms/step - loss: 0.5034 - accuracy: 0.8206 - val_loss: 0.6287 - val_accuracy: 0.7830\n",
      "Epoch 56/100\n",
      "54/54 [==============================] - 0s 7ms/step - loss: 0.4566 - accuracy: 0.8441 - val_loss: 0.5619 - val_accuracy: 0.7925\n",
      "Epoch 57/100\n",
      "54/54 [==============================] - 0s 8ms/step - loss: 0.4386 - accuracy: 0.8547 - val_loss: 0.8114 - val_accuracy: 0.6792\n",
      "Epoch 58/100\n",
      "54/54 [==============================] - 0s 8ms/step - loss: 0.4813 - accuracy: 0.8347 - val_loss: 0.6241 - val_accuracy: 0.7736\n"
     ]
    },
    {
     "name": "stdout",
     "output_type": "stream",
     "text": [
      "Epoch 59/100\n",
      "54/54 [==============================] - 0s 8ms/step - loss: 0.4611 - accuracy: 0.8376 - val_loss: 0.5037 - val_accuracy: 0.8302\n",
      "Epoch 60/100\n",
      "54/54 [==============================] - 0s 8ms/step - loss: 0.4558 - accuracy: 0.8465 - val_loss: 0.9217 - val_accuracy: 0.6604\n",
      "Epoch 61/100\n",
      "54/54 [==============================] - 0s 8ms/step - loss: 0.4558 - accuracy: 0.8471 - val_loss: 0.5845 - val_accuracy: 0.8208\n",
      "Epoch 62/100\n",
      "54/54 [==============================] - 0s 8ms/step - loss: 0.4577 - accuracy: 0.8382 - val_loss: 0.5076 - val_accuracy: 0.7925\n",
      "Epoch 63/100\n",
      "54/54 [==============================] - 0s 8ms/step - loss: 0.4380 - accuracy: 0.8494 - val_loss: 0.5550 - val_accuracy: 0.8066\n",
      "Epoch 64/100\n",
      "54/54 [==============================] - 0s 8ms/step - loss: 0.4351 - accuracy: 0.8553 - val_loss: 0.5773 - val_accuracy: 0.7830\n",
      "Epoch 65/100\n",
      "54/54 [==============================] - 0s 7ms/step - loss: 0.4487 - accuracy: 0.8482 - val_loss: 0.7212 - val_accuracy: 0.7075\n",
      "Epoch 66/100\n",
      "54/54 [==============================] - 0s 8ms/step - loss: 0.5532 - accuracy: 0.8071 - val_loss: 0.5508 - val_accuracy: 0.8208\n",
      "Epoch 67/100\n",
      "54/54 [==============================] - 0s 8ms/step - loss: 0.4449 - accuracy: 0.8500 - val_loss: 0.6465 - val_accuracy: 0.7406\n",
      "Epoch 68/100\n",
      "54/54 [==============================] - 0s 8ms/step - loss: 0.4372 - accuracy: 0.8459 - val_loss: 0.5930 - val_accuracy: 0.7783\n",
      "Epoch 69/100\n",
      "54/54 [==============================] - 0s 8ms/step - loss: 0.4316 - accuracy: 0.8494 - val_loss: 0.5635 - val_accuracy: 0.8066\n",
      "Epoch 70/100\n",
      "54/54 [==============================] - 0s 8ms/step - loss: 0.4331 - accuracy: 0.8606 - val_loss: 0.4748 - val_accuracy: 0.8302\n",
      "Epoch 71/100\n",
      "54/54 [==============================] - 0s 8ms/step - loss: 0.4354 - accuracy: 0.8500 - val_loss: 0.5846 - val_accuracy: 0.7783\n",
      "Epoch 72/100\n",
      "54/54 [==============================] - 0s 7ms/step - loss: 0.4271 - accuracy: 0.8453 - val_loss: 0.5581 - val_accuracy: 0.7925\n",
      "Epoch 73/100\n",
      "54/54 [==============================] - 0s 8ms/step - loss: 0.4142 - accuracy: 0.8576 - val_loss: 0.5931 - val_accuracy: 0.7783\n",
      "Epoch 74/100\n",
      "54/54 [==============================] - 0s 8ms/step - loss: 0.4175 - accuracy: 0.8512 - val_loss: 0.6852 - val_accuracy: 0.7594\n",
      "Epoch 75/100\n",
      "54/54 [==============================] - 0s 8ms/step - loss: 0.4184 - accuracy: 0.8512 - val_loss: 0.4565 - val_accuracy: 0.8255\n",
      "Epoch 76/100\n",
      "54/54 [==============================] - 0s 7ms/step - loss: 0.4031 - accuracy: 0.8606 - val_loss: 0.6355 - val_accuracy: 0.7642\n",
      "Epoch 77/100\n",
      "54/54 [==============================] - 0s 8ms/step - loss: 0.4288 - accuracy: 0.8512 - val_loss: 0.9202 - val_accuracy: 0.6415\n",
      "Epoch 78/100\n",
      "54/54 [==============================] - 0s 8ms/step - loss: 0.4253 - accuracy: 0.8541 - val_loss: 0.7429 - val_accuracy: 0.7500\n",
      "Epoch 79/100\n",
      "54/54 [==============================] - 0s 7ms/step - loss: 0.4263 - accuracy: 0.8459 - val_loss: 0.5757 - val_accuracy: 0.7830\n",
      "Epoch 80/100\n",
      "54/54 [==============================] - 0s 8ms/step - loss: 0.4240 - accuracy: 0.8441 - val_loss: 0.9428 - val_accuracy: 0.7075\n",
      "Epoch 81/100\n",
      "54/54 [==============================] - 0s 8ms/step - loss: 0.4100 - accuracy: 0.8588 - val_loss: 0.4951 - val_accuracy: 0.8113\n",
      "Epoch 82/100\n",
      "54/54 [==============================] - 0s 8ms/step - loss: 0.4072 - accuracy: 0.8547 - val_loss: 0.5157 - val_accuracy: 0.8349\n",
      "Epoch 83/100\n",
      "54/54 [==============================] - 0s 8ms/step - loss: 0.4032 - accuracy: 0.8700 - val_loss: 0.4674 - val_accuracy: 0.8160\n",
      "Epoch 84/100\n",
      "54/54 [==============================] - 0s 8ms/step - loss: 0.3878 - accuracy: 0.8600 - val_loss: 0.5593 - val_accuracy: 0.7783\n",
      "Epoch 85/100\n",
      "54/54 [==============================] - 0s 8ms/step - loss: 0.4190 - accuracy: 0.8512 - val_loss: 0.5913 - val_accuracy: 0.8255\n",
      "Epoch 86/100\n",
      "54/54 [==============================] - 0s 8ms/step - loss: 0.3988 - accuracy: 0.8553 - val_loss: 0.4807 - val_accuracy: 0.8255\n",
      "Epoch 87/100\n",
      "54/54 [==============================] - 0s 8ms/step - loss: 0.4159 - accuracy: 0.8535 - val_loss: 0.7240 - val_accuracy: 0.7547\n",
      "Epoch 88/100\n",
      "54/54 [==============================] - 0s 8ms/step - loss: 0.4199 - accuracy: 0.8524 - val_loss: 0.6014 - val_accuracy: 0.7877\n",
      "Epoch 89/100\n",
      "54/54 [==============================] - 0s 8ms/step - loss: 0.3930 - accuracy: 0.8653 - val_loss: 0.5179 - val_accuracy: 0.8066\n",
      "Epoch 90/100\n",
      "54/54 [==============================] - 0s 8ms/step - loss: 0.4043 - accuracy: 0.8629 - val_loss: 0.5958 - val_accuracy: 0.7925\n",
      "Epoch 91/100\n",
      "54/54 [==============================] - 0s 7ms/step - loss: 0.3878 - accuracy: 0.8747 - val_loss: 0.4943 - val_accuracy: 0.8160\n",
      "Epoch 92/100\n",
      "54/54 [==============================] - 0s 7ms/step - loss: 0.3867 - accuracy: 0.8629 - val_loss: 0.6239 - val_accuracy: 0.7925\n",
      "Epoch 93/100\n",
      "54/54 [==============================] - 0s 8ms/step - loss: 0.4361 - accuracy: 0.8429 - val_loss: 1.1012 - val_accuracy: 0.5896\n",
      "Epoch 94/100\n",
      "54/54 [==============================] - 0s 8ms/step - loss: 0.3976 - accuracy: 0.8547 - val_loss: 0.7438 - val_accuracy: 0.7264\n",
      "Epoch 95/100\n",
      "54/54 [==============================] - 0s 8ms/step - loss: 0.3679 - accuracy: 0.8771 - val_loss: 0.4915 - val_accuracy: 0.8208\n",
      "Epoch 96/100\n",
      "54/54 [==============================] - 0s 8ms/step - loss: 0.3846 - accuracy: 0.8665 - val_loss: 0.5079 - val_accuracy: 0.7925\n",
      "Epoch 97/100\n",
      "54/54 [==============================] - 0s 7ms/step - loss: 0.3913 - accuracy: 0.8671 - val_loss: 0.6585 - val_accuracy: 0.7264\n",
      "Epoch 98/100\n",
      "54/54 [==============================] - 0s 7ms/step - loss: 0.3973 - accuracy: 0.8671 - val_loss: 0.6180 - val_accuracy: 0.7500\n",
      "Epoch 99/100\n",
      "54/54 [==============================] - 0s 7ms/step - loss: 0.3724 - accuracy: 0.8724 - val_loss: 0.5923 - val_accuracy: 0.8160\n",
      "Epoch 100/100\n",
      "54/54 [==============================] - 0s 8ms/step - loss: 0.3783 - accuracy: 0.8729 - val_loss: 0.6817 - val_accuracy: 0.7311\n"
     ]
    }
   ],
   "source": [
    "history = conv_model.fit(X_train, y_train, validation_data=(X_val, y_val),\n",
    "                    epochs=100, batch_size=32,  verbose=1)"
   ]
  },
  {
   "cell_type": "code",
   "execution_count": 237,
   "metadata": {
    "scrolled": false
   },
   "outputs": [
    {
     "name": "stdout",
     "output_type": "stream",
     "text": [
      "2/2 [==============================] - 0s 2ms/step - loss: 0.7683 - accuracy: 0.7317\n"
     ]
    }
   ],
   "source": [
    "results = conv_model.evaluate(X_test, y_test, batch_size=32)"
   ]
  },
  {
   "cell_type": "code",
   "execution_count": 236,
   "metadata": {
    "scrolled": true
   },
   "outputs": [
    {
     "data": {
      "text/plain": [
       "[<matplotlib.lines.Line2D at 0x7f8ea81c7cc0>]"
      ]
     },
     "execution_count": 236,
     "metadata": {},
     "output_type": "execute_result"
    },
    {
     "data": {
      "image/png": "[encoded data removed]",
      "text/plain": [
       "<Figure size 432x288 with 1 Axes>"
      ]
     },
     "metadata": {
      "needs_background": "light"
     },
     "output_type": "display_data"
    }
   ],
   "source": [
    "plt.plot(history.history['loss'],  color='red')\n",
    "plt.plot(history.history['accuracy'],  color='green')\n",
    "plt.plot(history.history['val_accuracy'], color='black')"
   ]
  },
  {
   "cell_type": "markdown",
   "metadata": {},
   "source": [
    "# 2D Convolution Net "
   ]
  },
  {
   "cell_type": "code",
   "execution_count": 238,
   "metadata": {},
   "outputs": [],
   "source": [
    "X_test = test_dataset[:,0:450]\n",
    "y_test = test_dataset[:,600]\n",
    "\n",
    "X_train, y_train, X_val, y_val = random_split_train_val(X, Y, 212)\n",
    "\n",
    "X_train = X_train.reshape(-1, 3, 150, 1)\n",
    "X_test = X_test.reshape(-1, 3, 150, 1)\n",
    "X_val = X_val.reshape(-1, 3, 150, 1)"
   ]
  },
  {
   "cell_type": "code",
   "execution_count": 239,
   "metadata": {},
   "outputs": [],
   "source": [
    "my_conv_model = Sequential([\n",
    "    Input(X_train.shape[1:]),\n",
    "    Conv2D(filters=64, kernel_size=(2, 16)),\n",
    "    BatchNormalization(),\n",
    "    ReLU(),\n",
    "    \n",
    "    Conv2D(filters=64, kernel_size=2),\n",
    "    BatchNormalization(),\n",
    "    ReLU(),\n",
    "    \n",
    "    GlobalAveragePooling2D(),\n",
    "    Dense(num_classes, activation='sigmoid')\n",
    "])\n",
    "\n",
    "my_conv_model.compile(loss='sparse_categorical_crossentropy', \n",
    "              optimizer='adam', metrics=['accuracy'])"
   ]
  },
  {
   "cell_type": "code",
   "execution_count": 240,
   "metadata": {
    "scrolled": true
   },
   "outputs": [
    {
     "name": "stdout",
     "output_type": "stream",
     "text": [
      "Epoch 1/100\n",
      "107/107 [==============================] - 1s 6ms/step - loss: 1.1413 - accuracy: 0.6876 - val_loss: 0.8149 - val_accuracy: 0.7547\n",
      "Epoch 2/100\n",
      "107/107 [==============================] - 1s 5ms/step - loss: 0.7291 - accuracy: 0.8076 - val_loss: 0.5937 - val_accuracy: 0.8396\n",
      "Epoch 3/100\n",
      "107/107 [==============================] - 1s 5ms/step - loss: 0.5524 - accuracy: 0.8524 - val_loss: 0.4694 - val_accuracy: 0.8774\n",
      "Epoch 4/100\n",
      "107/107 [==============================] - 1s 5ms/step - loss: 0.4500 - accuracy: 0.8818 - val_loss: 0.4756 - val_accuracy: 0.8349\n",
      "Epoch 5/100\n",
      "107/107 [==============================] - 1s 5ms/step - loss: 0.3853 - accuracy: 0.8982 - val_loss: 0.3293 - val_accuracy: 0.8962\n",
      "Epoch 6/100\n",
      "107/107 [==============================] - 1s 5ms/step - loss: 0.3496 - accuracy: 0.8976 - val_loss: 0.2485 - val_accuracy: 0.9387\n",
      "Epoch 7/100\n",
      "107/107 [==============================] - 1s 5ms/step - loss: 0.3278 - accuracy: 0.9041 - val_loss: 0.2303 - val_accuracy: 0.9245\n",
      "Epoch 8/100\n",
      "107/107 [==============================] - 0s 5ms/step - loss: 0.3062 - accuracy: 0.9059 - val_loss: 0.2336 - val_accuracy: 0.9292\n",
      "Epoch 9/100\n",
      "107/107 [==============================] - 1s 5ms/step - loss: 0.2863 - accuracy: 0.9165 - val_loss: 0.3302 - val_accuracy: 0.9009\n",
      "Epoch 10/100\n",
      "107/107 [==============================] - 1s 5ms/step - loss: 0.2692 - accuracy: 0.9147 - val_loss: 0.2442 - val_accuracy: 0.9057\n",
      "Epoch 11/100\n",
      "107/107 [==============================] - 1s 5ms/step - loss: 0.2472 - accuracy: 0.9200 - val_loss: 0.2511 - val_accuracy: 0.9198\n",
      "Epoch 12/100\n",
      "107/107 [==============================] - 1s 5ms/step - loss: 0.2258 - accuracy: 0.9335 - val_loss: 0.2034 - val_accuracy: 0.9387\n",
      "Epoch 13/100\n",
      "107/107 [==============================] - 0s 5ms/step - loss: 0.2294 - accuracy: 0.9341 - val_loss: 0.2002 - val_accuracy: 0.9434\n",
      "Epoch 14/100\n",
      "107/107 [==============================] - 0s 5ms/step - loss: 0.2259 - accuracy: 0.9318 - val_loss: 0.1727 - val_accuracy: 0.9434\n",
      "Epoch 15/100\n",
      "107/107 [==============================] - 1s 5ms/step - loss: 0.2111 - accuracy: 0.9300 - val_loss: 0.2767 - val_accuracy: 0.8962\n",
      "Epoch 16/100\n",
      "107/107 [==============================] - 1s 5ms/step - loss: 0.2009 - accuracy: 0.9371 - val_loss: 0.2056 - val_accuracy: 0.9340\n",
      "Epoch 17/100\n",
      "107/107 [==============================] - 1s 5ms/step - loss: 0.2154 - accuracy: 0.9324 - val_loss: 0.1664 - val_accuracy: 0.9434\n",
      "Epoch 18/100\n",
      "107/107 [==============================] - 1s 5ms/step - loss: 0.1944 - accuracy: 0.9388 - val_loss: 0.1711 - val_accuracy: 0.9434\n",
      "Epoch 19/100\n",
      "107/107 [==============================] - 1s 5ms/step - loss: 0.1746 - accuracy: 0.9488 - val_loss: 0.1569 - val_accuracy: 0.9434\n",
      "Epoch 20/100\n",
      "107/107 [==============================] - 1s 5ms/step - loss: 0.1731 - accuracy: 0.9476 - val_loss: 0.2090 - val_accuracy: 0.9104\n",
      "Epoch 21/100\n",
      "107/107 [==============================] - 1s 5ms/step - loss: 0.1796 - accuracy: 0.9471 - val_loss: 0.1462 - val_accuracy: 0.9481\n",
      "Epoch 22/100\n",
      "107/107 [==============================] - 1s 5ms/step - loss: 0.1769 - accuracy: 0.9459 - val_loss: 0.1572 - val_accuracy: 0.9340\n",
      "Epoch 23/100\n",
      "107/107 [==============================] - 1s 5ms/step - loss: 0.1730 - accuracy: 0.9441 - val_loss: 0.1525 - val_accuracy: 0.9340\n",
      "Epoch 24/100\n",
      "107/107 [==============================] - 1s 5ms/step - loss: 0.1587 - accuracy: 0.9482 - val_loss: 0.1136 - val_accuracy: 0.9575\n",
      "Epoch 25/100\n",
      "107/107 [==============================] - 1s 5ms/step - loss: 0.1486 - accuracy: 0.9518 - val_loss: 0.1339 - val_accuracy: 0.9434\n",
      "Epoch 26/100\n",
      "107/107 [==============================] - 1s 5ms/step - loss: 0.1539 - accuracy: 0.9524 - val_loss: 0.1723 - val_accuracy: 0.9245\n",
      "Epoch 27/100\n",
      "107/107 [==============================] - 0s 5ms/step - loss: 0.1501 - accuracy: 0.9559 - val_loss: 0.1486 - val_accuracy: 0.9387\n",
      "Epoch 28/100\n",
      "107/107 [==============================] - 1s 5ms/step - loss: 0.1547 - accuracy: 0.9547 - val_loss: 0.1445 - val_accuracy: 0.9434\n",
      "Epoch 29/100\n",
      "107/107 [==============================] - 1s 5ms/step - loss: 0.1459 - accuracy: 0.9635 - val_loss: 0.1229 - val_accuracy: 0.9528\n",
      "Epoch 30/100\n",
      "107/107 [==============================] - 1s 5ms/step - loss: 0.1422 - accuracy: 0.9576 - val_loss: 0.1510 - val_accuracy: 0.9434\n",
      "Epoch 31/100\n",
      "107/107 [==============================] - 1s 5ms/step - loss: 0.1379 - accuracy: 0.9582 - val_loss: 0.1335 - val_accuracy: 0.9528\n",
      "Epoch 32/100\n",
      "107/107 [==============================] - 1s 5ms/step - loss: 0.1598 - accuracy: 0.9506 - val_loss: 0.1445 - val_accuracy: 0.9481\n",
      "Epoch 33/100\n",
      "107/107 [==============================] - 1s 5ms/step - loss: 0.1770 - accuracy: 0.9435 - val_loss: 0.1639 - val_accuracy: 0.9292\n",
      "Epoch 34/100\n",
      "107/107 [==============================] - 1s 5ms/step - loss: 0.1414 - accuracy: 0.9565 - val_loss: 0.2374 - val_accuracy: 0.9245\n",
      "Epoch 35/100\n",
      "107/107 [==============================] - 1s 5ms/step - loss: 0.1438 - accuracy: 0.9576 - val_loss: 0.1105 - val_accuracy: 0.9623\n",
      "Epoch 36/100\n",
      "107/107 [==============================] - 1s 5ms/step - loss: 0.1203 - accuracy: 0.9665 - val_loss: 0.1394 - val_accuracy: 0.9434\n",
      "Epoch 37/100\n",
      "107/107 [==============================] - 1s 5ms/step - loss: 0.1290 - accuracy: 0.9647 - val_loss: 0.1206 - val_accuracy: 0.9528\n",
      "Epoch 38/100\n",
      "107/107 [==============================] - 0s 5ms/step - loss: 0.1222 - accuracy: 0.9647 - val_loss: 0.1134 - val_accuracy: 0.9575\n",
      "Epoch 39/100\n",
      "107/107 [==============================] - 1s 5ms/step - loss: 0.1259 - accuracy: 0.9547 - val_loss: 0.1246 - val_accuracy: 0.9575\n",
      "Epoch 40/100\n",
      "107/107 [==============================] - 1s 5ms/step - loss: 0.1129 - accuracy: 0.9600 - val_loss: 0.2148 - val_accuracy: 0.9245\n",
      "Epoch 41/100\n",
      "107/107 [==============================] - 1s 5ms/step - loss: 0.1133 - accuracy: 0.9682 - val_loss: 0.1040 - val_accuracy: 0.9528\n",
      "Epoch 42/100\n",
      "107/107 [==============================] - 1s 5ms/step - loss: 0.1086 - accuracy: 0.9671 - val_loss: 0.1468 - val_accuracy: 0.9434\n",
      "Epoch 43/100\n",
      "107/107 [==============================] - 0s 5ms/step - loss: 0.1092 - accuracy: 0.9647 - val_loss: 0.1101 - val_accuracy: 0.9575\n",
      "Epoch 44/100\n",
      "107/107 [==============================] - 0s 5ms/step - loss: 0.1060 - accuracy: 0.9647 - val_loss: 0.1096 - val_accuracy: 0.9528\n",
      "Epoch 45/100\n",
      "107/107 [==============================] - 1s 5ms/step - loss: 0.1102 - accuracy: 0.9688 - val_loss: 0.1093 - val_accuracy: 0.9623\n",
      "Epoch 46/100\n",
      "107/107 [==============================] - 1s 5ms/step - loss: 0.1181 - accuracy: 0.9600 - val_loss: 0.1156 - val_accuracy: 0.9575\n",
      "Epoch 47/100\n",
      "107/107 [==============================] - 1s 5ms/step - loss: 0.1135 - accuracy: 0.9612 - val_loss: 0.1039 - val_accuracy: 0.9481\n",
      "Epoch 48/100\n",
      "107/107 [==============================] - 1s 5ms/step - loss: 0.1365 - accuracy: 0.9553 - val_loss: 0.1082 - val_accuracy: 0.9575\n",
      "Epoch 49/100\n",
      "107/107 [==============================] - 1s 5ms/step - loss: 0.1042 - accuracy: 0.9682 - val_loss: 0.1839 - val_accuracy: 0.9387\n",
      "Epoch 50/100\n",
      "107/107 [==============================] - 0s 5ms/step - loss: 0.1125 - accuracy: 0.9629 - val_loss: 0.0988 - val_accuracy: 0.9528\n",
      "Epoch 51/100\n",
      "107/107 [==============================] - 1s 5ms/step - loss: 0.0990 - accuracy: 0.9724 - val_loss: 0.1118 - val_accuracy: 0.9623\n",
      "Epoch 52/100\n",
      "107/107 [==============================] - 1s 5ms/step - loss: 0.1040 - accuracy: 0.9665 - val_loss: 0.1011 - val_accuracy: 0.9528\n",
      "Epoch 53/100\n",
      "107/107 [==============================] - 1s 5ms/step - loss: 0.1083 - accuracy: 0.9724 - val_loss: 0.0967 - val_accuracy: 0.9670\n",
      "Epoch 54/100\n",
      "107/107 [==============================] - 1s 5ms/step - loss: 0.1017 - accuracy: 0.9647 - val_loss: 0.0985 - val_accuracy: 0.9575\n",
      "Epoch 55/100\n",
      "107/107 [==============================] - 0s 5ms/step - loss: 0.0905 - accuracy: 0.9741 - val_loss: 0.1058 - val_accuracy: 0.9481\n",
      "Epoch 56/100\n",
      "107/107 [==============================] - 1s 5ms/step - loss: 0.1052 - accuracy: 0.9624 - val_loss: 0.0890 - val_accuracy: 0.9670\n",
      "Epoch 57/100\n",
      "107/107 [==============================] - 1s 5ms/step - loss: 0.0864 - accuracy: 0.9759 - val_loss: 0.0945 - val_accuracy: 0.9670\n"
     ]
    },
    {
     "name": "stdout",
     "output_type": "stream",
     "text": [
      "Epoch 58/100\n",
      "107/107 [==============================] - 1s 5ms/step - loss: 0.0992 - accuracy: 0.9682 - val_loss: 0.1095 - val_accuracy: 0.9575\n",
      "Epoch 59/100\n",
      "107/107 [==============================] - 1s 5ms/step - loss: 0.0871 - accuracy: 0.9694 - val_loss: 0.1036 - val_accuracy: 0.9623\n",
      "Epoch 60/100\n",
      "107/107 [==============================] - 1s 5ms/step - loss: 0.1125 - accuracy: 0.9594 - val_loss: 0.0930 - val_accuracy: 0.9575\n",
      "Epoch 61/100\n",
      "107/107 [==============================] - 1s 5ms/step - loss: 0.0840 - accuracy: 0.9741 - val_loss: 0.0970 - val_accuracy: 0.9575\n",
      "Epoch 62/100\n",
      "107/107 [==============================] - 0s 5ms/step - loss: 0.0854 - accuracy: 0.9747 - val_loss: 0.1789 - val_accuracy: 0.9292\n",
      "Epoch 63/100\n",
      "107/107 [==============================] - 1s 5ms/step - loss: 0.0876 - accuracy: 0.9718 - val_loss: 0.0819 - val_accuracy: 0.9670\n",
      "Epoch 64/100\n",
      "107/107 [==============================] - 1s 5ms/step - loss: 0.0928 - accuracy: 0.9741 - val_loss: 0.1093 - val_accuracy: 0.9528\n",
      "Epoch 65/100\n",
      "107/107 [==============================] - 1s 5ms/step - loss: 0.1040 - accuracy: 0.9665 - val_loss: 0.2003 - val_accuracy: 0.9245\n",
      "Epoch 66/100\n",
      "107/107 [==============================] - 1s 5ms/step - loss: 0.0909 - accuracy: 0.9706 - val_loss: 0.0827 - val_accuracy: 0.9670\n",
      "Epoch 67/100\n",
      "107/107 [==============================] - 1s 5ms/step - loss: 0.0890 - accuracy: 0.9747 - val_loss: 0.0962 - val_accuracy: 0.9623\n",
      "Epoch 68/100\n",
      "107/107 [==============================] - 1s 5ms/step - loss: 0.1248 - accuracy: 0.9565 - val_loss: 0.1124 - val_accuracy: 0.9623\n",
      "Epoch 69/100\n",
      "107/107 [==============================] - 1s 5ms/step - loss: 0.1071 - accuracy: 0.9647 - val_loss: 0.1114 - val_accuracy: 0.9528\n",
      "Epoch 70/100\n",
      "107/107 [==============================] - 1s 5ms/step - loss: 0.0867 - accuracy: 0.9735 - val_loss: 0.1020 - val_accuracy: 0.9575\n",
      "Epoch 71/100\n",
      "107/107 [==============================] - 1s 5ms/step - loss: 0.0723 - accuracy: 0.9806 - val_loss: 0.0910 - val_accuracy: 0.9623\n",
      "Epoch 72/100\n",
      "107/107 [==============================] - 1s 5ms/step - loss: 0.0796 - accuracy: 0.9765 - val_loss: 0.1156 - val_accuracy: 0.9481\n",
      "Epoch 73/100\n",
      "107/107 [==============================] - 1s 5ms/step - loss: 0.0777 - accuracy: 0.9759 - val_loss: 0.0961 - val_accuracy: 0.9623\n",
      "Epoch 74/100\n",
      "107/107 [==============================] - 1s 5ms/step - loss: 0.0823 - accuracy: 0.9712 - val_loss: 0.1145 - val_accuracy: 0.9575\n",
      "Epoch 75/100\n",
      "107/107 [==============================] - 1s 5ms/step - loss: 0.1080 - accuracy: 0.9629 - val_loss: 0.0794 - val_accuracy: 0.9623\n",
      "Epoch 76/100\n",
      "107/107 [==============================] - 1s 5ms/step - loss: 0.0888 - accuracy: 0.9747 - val_loss: 0.0925 - val_accuracy: 0.9623\n",
      "Epoch 77/100\n",
      "107/107 [==============================] - 1s 5ms/step - loss: 0.0748 - accuracy: 0.9794 - val_loss: 0.0763 - val_accuracy: 0.9670\n",
      "Epoch 78/100\n",
      "107/107 [==============================] - 1s 5ms/step - loss: 0.0976 - accuracy: 0.9682 - val_loss: 0.0882 - val_accuracy: 0.9575\n",
      "Epoch 79/100\n",
      "107/107 [==============================] - 1s 5ms/step - loss: 0.0718 - accuracy: 0.9753 - val_loss: 0.1032 - val_accuracy: 0.9623\n",
      "Epoch 80/100\n",
      "107/107 [==============================] - 1s 5ms/step - loss: 0.0676 - accuracy: 0.9776 - val_loss: 0.0743 - val_accuracy: 0.9717\n",
      "Epoch 81/100\n",
      "107/107 [==============================] - 1s 5ms/step - loss: 0.0771 - accuracy: 0.9794 - val_loss: 0.1018 - val_accuracy: 0.9623\n",
      "Epoch 82/100\n",
      "107/107 [==============================] - 1s 5ms/step - loss: 0.0820 - accuracy: 0.9741 - val_loss: 0.0970 - val_accuracy: 0.9670\n",
      "Epoch 83/100\n",
      "107/107 [==============================] - 0s 5ms/step - loss: 0.0780 - accuracy: 0.9776 - val_loss: 0.1340 - val_accuracy: 0.9481\n",
      "Epoch 84/100\n",
      "107/107 [==============================] - 1s 5ms/step - loss: 0.0721 - accuracy: 0.9788 - val_loss: 0.0916 - val_accuracy: 0.9575\n",
      "Epoch 85/100\n",
      "107/107 [==============================] - 1s 5ms/step - loss: 0.0824 - accuracy: 0.9747 - val_loss: 0.1124 - val_accuracy: 0.9528\n",
      "Epoch 86/100\n",
      "107/107 [==============================] - 1s 5ms/step - loss: 0.0732 - accuracy: 0.9753 - val_loss: 0.1055 - val_accuracy: 0.9623\n",
      "Epoch 87/100\n",
      "107/107 [==============================] - 1s 5ms/step - loss: 0.0741 - accuracy: 0.9771 - val_loss: 0.1033 - val_accuracy: 0.9528\n",
      "Epoch 88/100\n",
      "107/107 [==============================] - 1s 5ms/step - loss: 0.0727 - accuracy: 0.9759 - val_loss: 0.0657 - val_accuracy: 0.9811\n",
      "Epoch 89/100\n",
      "107/107 [==============================] - 1s 5ms/step - loss: 0.0822 - accuracy: 0.9741 - val_loss: 0.0694 - val_accuracy: 0.9670\n",
      "Epoch 90/100\n",
      "107/107 [==============================] - 1s 5ms/step - loss: 0.0754 - accuracy: 0.9771 - val_loss: 0.0818 - val_accuracy: 0.9623\n",
      "Epoch 91/100\n",
      "107/107 [==============================] - 1s 5ms/step - loss: 0.0635 - accuracy: 0.9835 - val_loss: 0.0886 - val_accuracy: 0.9623\n",
      "Epoch 92/100\n",
      "107/107 [==============================] - 1s 5ms/step - loss: 0.0659 - accuracy: 0.9794 - val_loss: 0.1147 - val_accuracy: 0.9481\n",
      "Epoch 93/100\n",
      "107/107 [==============================] - 1s 5ms/step - loss: 0.0743 - accuracy: 0.9759 - val_loss: 0.0732 - val_accuracy: 0.9623\n",
      "Epoch 94/100\n",
      "107/107 [==============================] - 1s 5ms/step - loss: 0.0889 - accuracy: 0.9700 - val_loss: 0.0774 - val_accuracy: 0.9623\n",
      "Epoch 95/100\n",
      "107/107 [==============================] - 0s 5ms/step - loss: 0.0666 - accuracy: 0.9824 - val_loss: 0.0850 - val_accuracy: 0.9670\n",
      "Epoch 96/100\n",
      "107/107 [==============================] - 1s 5ms/step - loss: 0.0622 - accuracy: 0.9776 - val_loss: 0.1000 - val_accuracy: 0.9575\n",
      "Epoch 97/100\n",
      "107/107 [==============================] - 1s 5ms/step - loss: 0.0768 - accuracy: 0.9771 - val_loss: 0.0900 - val_accuracy: 0.9670\n",
      "Epoch 98/100\n",
      "107/107 [==============================] - 1s 5ms/step - loss: 0.0915 - accuracy: 0.9718 - val_loss: 0.0950 - val_accuracy: 0.9575\n",
      "Epoch 99/100\n",
      "107/107 [==============================] - 1s 5ms/step - loss: 0.0676 - accuracy: 0.9800 - val_loss: 0.1042 - val_accuracy: 0.9575\n",
      "Epoch 100/100\n",
      "107/107 [==============================] - 1s 5ms/step - loss: 0.0704 - accuracy: 0.9782 - val_loss: 0.0821 - val_accuracy: 0.9623\n"
     ]
    }
   ],
   "source": [
    "my_conv_history = my_conv_model.fit(X_train, y_train, validation_data=(X_val, y_val),\n",
    "                    epochs=100, batch_size=16,  verbose=1)"
   ]
  },
  {
   "cell_type": "code",
   "execution_count": 213,
   "metadata": {
    "scrolled": true
   },
   "outputs": [
    {
     "name": "stdout",
     "output_type": "stream",
     "text": [
      "2/2 [==============================] - 0s 2ms/step - loss: 0.0377 - accuracy: 1.0000\n"
     ]
    }
   ],
   "source": [
    "results = my_conv_model.evaluate(X_test, y_test, batch_size=32)"
   ]
  },
  {
   "cell_type": "code",
   "execution_count": 241,
   "metadata": {},
   "outputs": [
    {
     "data": {
      "text/plain": [
       "[<matplotlib.lines.Line2D at 0x7f8eb016b198>]"
      ]
     },
     "execution_count": 241,
     "metadata": {},
     "output_type": "execute_result"
    },
    {
     "data": {
      "image/png": "[encoded data removed]",
      "text/plain": [
       "<Figure size 432x288 with 1 Axes>"
      ]
     },
     "metadata": {
      "needs_background": "light"
     },
     "output_type": "display_data"
    }
   ],
   "source": [
    "plt.plot(my_conv_history.history['loss'],  color='red')\n",
    "plt.plot(my_conv_history.history['accuracy'],  color='green')\n",
    "plt.plot(my_conv_history.history['val_accuracy'], color='black')"
   ]
  }
 ],
 "metadata": {
  "kernelspec": {
   "display_name": "Python 3",
   "language": "python",
   "name": "python3"
  },
  "language_info": {
   "codemirror_mode": {
    "name": "ipython",
    "version": 3
   },
   "file_extension": ".py",
   "mimetype": "text/x-python",
   "name": "python",
   "nbconvert_exporter": "python",
   "pygments_lexer": "ipython3",
   "version": "3.7.3"
  }
 },
 "nbformat": 4,
 "nbformat_minor": 2
}
