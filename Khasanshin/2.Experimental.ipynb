{
 "cells": [
  {
   "cell_type": "markdown",
   "metadata": {},
   "source": [
    "## 2. Experimental section "
   ]
  },
  {
   "cell_type": "markdown",
   "metadata": {},
   "source": [
    "### 2.1 Participants \n",
    "\n",
    "One healthy participant (n=1), wight = 100 kg, height = 190 cm with experience in Karate took part in the study. Ethical approval was granted by the Human Research Ethics Commitee at Financial University at Government of the Russian Federation. "
   ]
  },
  {
   "cell_type": "markdown",
   "metadata": {},
   "source": [
    "### 2.2 Materials  \n",
    "One 6DOF Inertial Measurement Unit (IMU) [T-Wristband](http://aliexpress.com) with properties (sampling rate 50 Hz, +- 16 g linear acceleration, +- 2000 deg/s gyroscope) was used in this study. T-wristband bracelet with 252x19x12 basic dimensions, 47x18x12 host dimension, 30 g weight with custom firmware used."
   ]
  },
  {
   "cell_type": "markdown",
   "metadata": {},
   "source": [
    "<img src=\"twrist.jpg\">"
   ]
  },
  {
   "cell_type": "markdown",
   "metadata": {},
   "source": [
    "T-wristband host sensor was attached under the boxing glove."
   ]
  },
  {
   "cell_type": "markdown",
   "metadata": {},
   "source": [
    "<img src=\"glove.jpg\">"
   ]
  },
  {
   "cell_type": "markdown",
   "metadata": {},
   "source": [
    "We don't use magnitometer measurements and don't calculate angles and position of sensor. We use only linear acceleration and gyroscope measurements.  \n",
    "\n",
    "To record session we use Xiaomi Redmi 7 camera with 1980x1080 resolution 30 fps. Video analysis was used to labeling ground truth punches. To record data we use Bluetooth Serial Terminal Android application. Standart 12 oz boxing gloves used."
   ]
  },
  {
   "cell_type": "markdown",
   "metadata": {},
   "source": [
    "### 2.3 Methods\n",
    "Data collection session consist of the participant performing 1912 punches to makivara. Class of punches are: \n",
    "- прямой, \n",
    "- боковой, \n",
    "- апперкот, \n",
    "- уракен,\n",
    "- передвижения без ударов.\n"
   ]
  },
  {
   "cell_type": "markdown",
   "metadata": {},
   "source": [
    "Measured data was packed to dataset X with two cases:\n",
    "1. 3 columns (x, y, z acceleration)\n",
    "2. 6 columns (x, y, z acceleration, $w_x, w_y, w_z$ rotation speed)"
   ]
  },
  {
   "cell_type": "code",
   "execution_count": null,
   "metadata": {},
   "outputs": [],
   "source": []
  }
 ],
 "metadata": {
  "kernelspec": {
   "display_name": "Python 3",
   "language": "python",
   "name": "python3"
  },
  "language_info": {
   "codemirror_mode": {
    "name": "ipython",
    "version": 3
   },
   "file_extension": ".py",
   "mimetype": "text/x-python",
   "name": "python",
   "nbconvert_exporter": "python",
   "pygments_lexer": "ipython3",
   "version": "3.7.3"
  }
 },
 "nbformat": 4,
 "nbformat_minor": 2
}
