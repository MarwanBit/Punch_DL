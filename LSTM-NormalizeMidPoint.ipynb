{
 "cells": [
  {
   "cell_type": "markdown",
   "metadata": {},
   "source": [
    "# Load data"
   ]
  },
  {
   "cell_type": "code",
   "execution_count": 1,
   "metadata": {},
   "outputs": [],
   "source": [
    "import re\n",
    "import numpy as np\n",
    "import matplotlib.pyplot as plt\n",
    "\n",
    "import tensorflow as tf\n",
    "import tensorflow.keras as K"
   ]
  },
  {
   "cell_type": "code",
   "execution_count": 2,
   "metadata": {},
   "outputs": [],
   "source": [
    "def read_data(name):\n",
    "    X_train, y_train = [], []\n",
    "    X_test, y_test = [], []\n",
    "    X = np.load(f'data/keypoints/{name}.npy') # .reshape((-1, 51))\n",
    "    with open(f'data/labels/{name}') as f:\n",
    "        labels = f.readlines()\n",
    "\n",
    "    N = int(re.findall(r'\\d+', labels[0])[0])\n",
    "    assert N == X.shape[0]\n",
    "\n",
    "    end = 0\n",
    "\n",
    "    for lab in labels:\n",
    "        C = re.findall(r'\\d:', lab)\n",
    "        if len(C) == 1:\n",
    "            C = int(C[0][0])\n",
    "\n",
    "        idxs = re.findall(r'\\d+-\\d+', lab)\n",
    "        if len(idxs) > 1:  \n",
    "            print()\n",
    "            print(f'Add label [{C}] to train samples')\n",
    "            for idx in idxs[:-1]:\n",
    "                start, stop = idx.split('-')\n",
    "                start, stop = int(start), int(stop)\n",
    "\n",
    "                X_train.append(X[end:start])\n",
    "                y_train.append(0)\n",
    "\n",
    "                X_train.append(X[start:stop])\n",
    "                y_train.append(C)        \n",
    "                print(idx, end='\\t')\n",
    "\n",
    "                end = stop\n",
    "            \n",
    "            print()\n",
    "            print(f'Add label [{C}] to test samples')\n",
    "            idx = idxs[-1]\n",
    "            start, stop = idx.split('-')\n",
    "            start, stop = int(start), int(stop)\n",
    "\n",
    "            X_test.append(X[end:start])\n",
    "            y_test.append(0)\n",
    "            \n",
    "            print(idx, end='\\t')\n",
    "            X_test.append(X[start:stop])\n",
    "            y_test.append(C)        \n",
    "\n",
    "            end = stop\n",
    "\n",
    "    X_train.append(X[end:-1])\n",
    "    y_train.append(0)\n",
    "    \n",
    "    return X_train, y_train, X_test, y_test"
   ]
  },
  {
   "cell_type": "code",
   "execution_count": 3,
   "metadata": {
    "scrolled": true
   },
   "outputs": [
    {
     "name": "stdout",
     "output_type": "stream",
     "text": [
      "\n",
      "Add label [1] to train samples\n",
      "5-30\t42-70\t88-115\t130-154\t\n",
      "Add label [1] to test samples\n",
      "170-200\t\n",
      "Add label [2] to train samples\n",
      "220-247\t268-293\t315-340\t365-387\t\n",
      "Add label [2] to test samples\n",
      "417-436\t\n",
      "Add label [1] to train samples\n",
      "465-493\t515-538\t560-583\t605-625\t\n",
      "Add label [1] to test samples\n",
      "650-675\t\n",
      "Add label [2] to train samples\n",
      "696-715\t742-762\t787-807\t833-850\t\n",
      "Add label [2] to test samples\n",
      "878-895\t\n",
      "Add label [1] to train samples\n",
      "19-39\t68-89\t107-147\t156-190\t\n",
      "Add label [1] to test samples\n",
      "215-243\t\n",
      "Add label [2] to train samples\n",
      "266-288\t317-334\t361-382\t413-433\t\n",
      "Add label [2] to test samples\n",
      "462-482\t\n",
      "Add label [1] to train samples\n",
      "564-578\t600-615\t639-657\t680-695\t\n",
      "Add label [1] to test samples\n",
      "720-737\t\n",
      "Add label [2] to train samples\n",
      "764-778\t802-817\t840-857\t884-898\t\n",
      "Add label [2] to test samples\n",
      "924-939\t\n",
      "Add label [3] to train samples\n",
      "1-22\t45-70\t92-117\t141-164\t\n",
      "Add label [3] to test samples\n",
      "202-225\t\n",
      "Add label [4] to train samples\n",
      "275-300\t319-344\t372-395\t430-455\t\n",
      "Add label [4] to test samples\n",
      "489-515\t\n",
      "Add label [3] to train samples\n",
      "570-586\t615-636\t662-682\t710-730\t\n",
      "Add label [3] to test samples\n",
      "763-783\t\n",
      "Add label [4] to train samples\n",
      "826-843\t874-891\t921-939\t981-1000\t\n",
      "Add label [4] to test samples\n",
      "1038-1057\t\n",
      "Add label [3] to train samples\n",
      "21-43\t65-85\t113-133\t160-180\t\n",
      "Add label [3] to test samples\n",
      "212-227\t\n",
      "Add label [4] to train samples\n",
      "263-283\t314-334\t366-389\t418-438\t\n",
      "Add label [4] to test samples\n",
      "469-489\t\n",
      "Add label [3] to train samples\n",
      "537-558\t582-602\t629-649\t674-697\t\n",
      "Add label [3] to test samples\n",
      "750-770\t\n",
      "Add label [4] to train samples\n",
      "806-824\t849-869\t894-918\t948-966\t\n",
      "Add label [4] to test samples\n",
      "992-1012\t\n",
      "Add label [5] to train samples\n",
      "66-86\t110-130\t164-184\t213-233\t262-282\t\n",
      "Add label [5] to test samples\n",
      "318-338\t\n",
      "Add label [6] to train samples\n",
      "372-392\t420-440\t475-495\t525-545\t\n",
      "Add label [6] to test samples\n",
      "570-590\t\n",
      "Add label [5] to train samples\n",
      "685-700\t730-750\t785-802\t833-853\t\n",
      "Add label [5] to test samples\n",
      "887-907\t\n",
      "Add label [6] to train samples\n",
      "949-963\t991-1006\t1036-1053\t1086-1102\t\n",
      "Add label [6] to test samples\n",
      "1134-1151\t\n",
      "Add label [5] to train samples\n",
      "110-128\t155-170\t209-226\t262-276\t\n",
      "Add label [5] to test samples\n",
      "314-329\t\n",
      "Add label [6] to train samples\n",
      "368-380\t415-432\t458-475\t505-522\t\n",
      "Add label [6] to test samples\n",
      "556-575\t\n",
      "Add label [5] to train samples\n",
      "685-700\t733-749\t786-801\t834-851\t\n",
      "Add label [5] to test samples\n",
      "887-900\t\n",
      "Add label [6] to train samples\n",
      "942-957\t984-1002\t1030-1047\t1071-1087\t\n",
      "Add label [6] to test samples\n",
      "1115-1133\t"
     ]
    }
   ],
   "source": [
    "X_train, y_train, X_test, y_test = [], [], [], []\n",
    "\n",
    "FILE_NAMES = ['id0_jab_1',  'id0_jab_2', \n",
    "              'id0_hook_1', 'id0_hook_2',\n",
    "              'id0_uper_1', 'id0_uper_2']\n",
    "\n",
    "for name in FILE_NAMES:\n",
    "    x1, y1, x2, y2 = read_data(name)\n",
    "\n",
    "    X_train += x1\n",
    "    y_train += y1\n",
    "    X_test += x2\n",
    "    y_test += y2"
   ]
  },
  {
   "cell_type": "code",
   "execution_count": 4,
   "metadata": {},
   "outputs": [
    {
     "data": {
      "text/plain": [
       "(200, 48)"
      ]
     },
     "execution_count": 4,
     "metadata": {},
     "output_type": "execute_result"
    }
   ],
   "source": [
    "len(X_train), len(X_test)"
   ]
  },
  {
   "cell_type": "code",
   "execution_count": 5,
   "metadata": {},
   "outputs": [],
   "source": [
    "for i in range(len(X_train)):\n",
    "    N = X_train[i].shape[0]\n",
    "    x = X_train[i].reshape((N, 17, 3))\n",
    "    mid_points = (x[:, 11, :] + x[:, 12, :]) / 2\n",
    "    mp = mid_points.reshape(N, 1, 3)\n",
    "    x_n = x - mp\n",
    "    X_train[i] = np.concatenate([x_n, mp], axis=1).reshape(-1, 54)"
   ]
  },
  {
   "cell_type": "code",
   "execution_count": 6,
   "metadata": {},
   "outputs": [],
   "source": [
    "for i in range(len(X_test)):\n",
    "    N = X_test[i].shape[0]\n",
    "    x = X_test[i].reshape((N, 17, 3))\n",
    "    mid_points = (x[:, 11, :] + x[:, 12, :]) / 2\n",
    "    mp = mid_points.reshape(N, 1, 3)\n",
    "    x_n = x - mp\n",
    "    X_test[i] = np.concatenate([x_n, mp], axis=1).reshape(-1, 54)"
   ]
  },
  {
   "cell_type": "code",
   "execution_count": 7,
   "metadata": {},
   "outputs": [
    {
     "data": {
      "text/plain": [
       "(52, 54)"
      ]
     },
     "execution_count": 7,
     "metadata": {},
     "output_type": "execute_result"
    }
   ],
   "source": [
    "X_train[-1].shape"
   ]
  },
  {
   "cell_type": "code",
   "execution_count": 8,
   "metadata": {
    "scrolled": true
   },
   "outputs": [
    {
     "name": "stderr",
     "output_type": "stream",
     "text": [
      "2021-10-29 22:00:48.524015: I tensorflow/core/platform/cpu_feature_guard.cc:142] This TensorFlow binary is optimized with oneAPI Deep Neural Network Library (oneDNN) to use the following CPU instructions in performance-critical operations:  AVX2 FMA\n",
      "To enable them in other operations, rebuild TensorFlow with the appropriate compiler flags.\n"
     ]
    }
   ],
   "source": [
    "y_train = K.utils.to_categorical(y_train, num_classes=7)\n",
    "X_train = tf.ragged.constant(X_train)\n",
    "\n",
    "y_test = K.utils.to_categorical(y_test, num_classes=7)\n",
    "X_test = tf.ragged.constant(X_test)"
   ]
  },
  {
   "cell_type": "code",
   "execution_count": 9,
   "metadata": {},
   "outputs": [
    {
     "data": {
      "text/plain": [
       "TensorShape([200, None, None])"
      ]
     },
     "execution_count": 9,
     "metadata": {},
     "output_type": "execute_result"
    }
   ],
   "source": [
    "X_train.shape"
   ]
  },
  {
   "cell_type": "markdown",
   "metadata": {},
   "source": [
    "## LSTM"
   ]
  },
  {
   "cell_type": "code",
   "execution_count": 10,
   "metadata": {},
   "outputs": [],
   "source": [
    "def build_model(reccur_features=32, dense_features=64):\n",
    "    inpu = K.layers.InputLayer((None, 54))\n",
    "    rnn = K.layers.LSTM(reccur_features)\n",
    "    dense1 = K.layers.Dense(dense_features, kernel_regularizer=tf.keras.regularizers.l2(l2=1e-1))\n",
    "    dense2 = K.layers.Dense(7, activation='softmax')\n",
    "\n",
    "    model = K.Sequential([inpu, rnn, dense1, dense2])\n",
    "    model.compile(optimizer='adam',\n",
    "              loss='categorical_crossentropy',\n",
    "              metrics=['accuracy'])\n",
    "    return model"
   ]
  },
  {
   "cell_type": "code",
   "execution_count": 11,
   "metadata": {},
   "outputs": [],
   "source": [
    "import random\n",
    "results = {}"
   ]
  },
  {
   "cell_type": "code",
   "execution_count": 12,
   "metadata": {
    "scrolled": true
   },
   "outputs": [
    {
     "name": "stdout",
     "output_type": "stream",
     "text": [
      "Epoch 1/16\n"
     ]
    },
    {
     "name": "stderr",
     "output_type": "stream",
     "text": [
      "2021-10-29 22:00:49.754065: I tensorflow/compiler/mlir/mlir_graph_optimization_pass.cc:176] None of the MLIR Optimization Passes are enabled (registered 2)\n",
      "2021-10-29 22:00:49.788808: I tensorflow/core/platform/profile_utils/cpu_utils.cc:114] CPU Frequency: 3912000000 Hz\n"
     ]
    },
    {
     "name": "stdout",
     "output_type": "stream",
     "text": [
      "50/50 [==============================] - 2s 14ms/step - loss: 3.0885 - accuracy: 0.4850 - val_loss: 2.6866 - val_accuracy: 0.5000\n",
      "Epoch 2/16\n",
      "50/50 [==============================] - 0s 9ms/step - loss: 2.2748 - accuracy: 0.5600 - val_loss: 1.8691 - val_accuracy: 0.6250\n",
      "Epoch 3/16\n",
      "50/50 [==============================] - 1s 12ms/step - loss: 1.6526 - accuracy: 0.6600 - val_loss: 1.7480 - val_accuracy: 0.5625\n",
      "Epoch 4/16\n",
      "50/50 [==============================] - 0s 9ms/step - loss: 1.3753 - accuracy: 0.7250 - val_loss: 1.3402 - val_accuracy: 0.6875\n",
      "Epoch 5/16\n",
      "50/50 [==============================] - 0s 10ms/step - loss: 1.2247 - accuracy: 0.7250 - val_loss: 1.4236 - val_accuracy: 0.6042\n",
      "Epoch 6/16\n",
      "50/50 [==============================] - 0s 10ms/step - loss: 1.1463 - accuracy: 0.7050 - val_loss: 1.0715 - val_accuracy: 0.7083\n",
      "Epoch 7/16\n",
      "50/50 [==============================] - 0s 9ms/step - loss: 0.9528 - accuracy: 0.7150 - val_loss: 0.9249 - val_accuracy: 0.7292\n",
      "Epoch 8/16\n",
      "50/50 [==============================] - 0s 9ms/step - loss: 0.8647 - accuracy: 0.7550 - val_loss: 0.9391 - val_accuracy: 0.7500\n",
      "Epoch 9/16\n",
      "50/50 [==============================] - 0s 9ms/step - loss: 0.7899 - accuracy: 0.7600 - val_loss: 0.8945 - val_accuracy: 0.7083\n",
      "Epoch 10/16\n",
      "50/50 [==============================] - 0s 10ms/step - loss: 0.7728 - accuracy: 0.7750 - val_loss: 0.7968 - val_accuracy: 0.7708\n",
      "Epoch 11/16\n",
      "50/50 [==============================] - 0s 10ms/step - loss: 0.7742 - accuracy: 0.7650 - val_loss: 0.7285 - val_accuracy: 0.7083\n",
      "Epoch 12/16\n",
      "50/50 [==============================] - 0s 9ms/step - loss: 0.7328 - accuracy: 0.7800 - val_loss: 0.6656 - val_accuracy: 0.7917\n",
      "Epoch 13/16\n",
      "50/50 [==============================] - 0s 9ms/step - loss: 0.6675 - accuracy: 0.8150 - val_loss: 0.6879 - val_accuracy: 0.8125\n",
      "Epoch 14/16\n",
      "50/50 [==============================] - 0s 9ms/step - loss: 0.7168 - accuracy: 0.7600 - val_loss: 0.6603 - val_accuracy: 0.7917\n",
      "Epoch 15/16\n",
      "50/50 [==============================] - 0s 9ms/step - loss: 0.6313 - accuracy: 0.8100 - val_loss: 0.6756 - val_accuracy: 0.8125\n",
      "Epoch 16/16\n",
      "50/50 [==============================] - 0s 9ms/step - loss: 0.9069 - accuracy: 0.7450 - val_loss: 0.7480 - val_accuracy: 0.8125\n",
      "Epoch 1/16\n",
      "50/50 [==============================] - 2s 12ms/step - loss: 3.7956 - accuracy: 0.4950 - val_loss: 3.2913 - val_accuracy: 0.5000\n",
      "Epoch 2/16\n",
      "50/50 [==============================] - 0s 8ms/step - loss: 2.9604 - accuracy: 0.5150 - val_loss: 2.6601 - val_accuracy: 0.5000\n",
      "Epoch 3/16\n",
      "50/50 [==============================] - 1s 10ms/step - loss: 2.3844 - accuracy: 0.5150 - val_loss: 2.0286 - val_accuracy: 0.5000\n",
      "Epoch 4/16\n",
      "50/50 [==============================] - 0s 8ms/step - loss: 1.8076 - accuracy: 0.6050 - val_loss: 1.6098 - val_accuracy: 0.6250\n",
      "Epoch 5/16\n",
      "50/50 [==============================] - 0s 8ms/step - loss: 1.5352 - accuracy: 0.6450 - val_loss: 1.3968 - val_accuracy: 0.6875\n",
      "Epoch 6/16\n",
      "50/50 [==============================] - 0s 10ms/step - loss: 1.3152 - accuracy: 0.6700 - val_loss: 1.2394 - val_accuracy: 0.6042\n",
      "Epoch 7/16\n",
      "50/50 [==============================] - 0s 8ms/step - loss: 1.1411 - accuracy: 0.6700 - val_loss: 1.1544 - val_accuracy: 0.6458\n",
      "Epoch 8/16\n",
      "50/50 [==============================] - 0s 8ms/step - loss: 1.1079 - accuracy: 0.6650 - val_loss: 1.1004 - val_accuracy: 0.6458\n",
      "Epoch 9/16\n",
      "50/50 [==============================] - 0s 8ms/step - loss: 0.9913 - accuracy: 0.6700 - val_loss: 1.0649 - val_accuracy: 0.6250\n",
      "Epoch 10/16\n",
      "50/50 [==============================] - 0s 8ms/step - loss: 0.9011 - accuracy: 0.6750 - val_loss: 0.9818 - val_accuracy: 0.6250\n",
      "Epoch 11/16\n",
      "50/50 [==============================] - 0s 8ms/step - loss: 0.8606 - accuracy: 0.7000 - val_loss: 0.9664 - val_accuracy: 0.6875\n",
      "Epoch 12/16\n",
      "50/50 [==============================] - 0s 8ms/step - loss: 0.8698 - accuracy: 0.7350 - val_loss: 0.8486 - val_accuracy: 0.6875\n",
      "Epoch 13/16\n",
      "50/50 [==============================] - 0s 9ms/step - loss: 0.7833 - accuracy: 0.6950 - val_loss: 0.8719 - val_accuracy: 0.6458\n",
      "Epoch 14/16\n",
      "50/50 [==============================] - 0s 9ms/step - loss: 0.7504 - accuracy: 0.7300 - val_loss: 0.8179 - val_accuracy: 0.7083\n",
      "Epoch 15/16\n",
      "50/50 [==============================] - 0s 8ms/step - loss: 0.7115 - accuracy: 0.7350 - val_loss: 0.7790 - val_accuracy: 0.7083\n",
      "Epoch 16/16\n",
      "50/50 [==============================] - 0s 8ms/step - loss: 0.6918 - accuracy: 0.7400 - val_loss: 0.7845 - val_accuracy: 0.7500\n",
      "Epoch 1/16\n",
      "50/50 [==============================] - 2s 13ms/step - loss: 4.2611 - accuracy: 0.4700 - val_loss: 3.6107 - val_accuracy: 0.5000\n",
      "Epoch 2/16\n",
      "50/50 [==============================] - 0s 9ms/step - loss: 3.1915 - accuracy: 0.5150 - val_loss: 2.7746 - val_accuracy: 0.5000\n",
      "Epoch 3/16\n",
      "50/50 [==============================] - 1s 10ms/step - loss: 2.3898 - accuracy: 0.5400 - val_loss: 2.0296 - val_accuracy: 0.5625\n",
      "Epoch 4/16\n",
      "50/50 [==============================] - 0s 9ms/step - loss: 1.8060 - accuracy: 0.6100 - val_loss: 1.5882 - val_accuracy: 0.6250\n",
      "Epoch 5/16\n",
      "50/50 [==============================] - 1s 10ms/step - loss: 1.4489 - accuracy: 0.6650 - val_loss: 1.3612 - val_accuracy: 0.6667\n",
      "Epoch 6/16\n",
      "50/50 [==============================] - 0s 9ms/step - loss: 1.2242 - accuracy: 0.6850 - val_loss: 1.1361 - val_accuracy: 0.6667\n",
      "Epoch 7/16\n",
      "50/50 [==============================] - 0s 9ms/step - loss: 1.0437 - accuracy: 0.7100 - val_loss: 1.1081 - val_accuracy: 0.6875\n",
      "Epoch 8/16\n",
      "50/50 [==============================] - 0s 9ms/step - loss: 1.2262 - accuracy: 0.6000 - val_loss: 0.9950 - val_accuracy: 0.6667\n",
      "Epoch 9/16\n",
      "50/50 [==============================] - 0s 9ms/step - loss: 0.9237 - accuracy: 0.7400 - val_loss: 0.9471 - val_accuracy: 0.7083\n",
      "Epoch 10/16\n",
      "50/50 [==============================] - 0s 9ms/step - loss: 0.7998 - accuracy: 0.7500 - val_loss: 0.7967 - val_accuracy: 0.7708\n",
      "Epoch 11/16\n",
      "50/50 [==============================] - 0s 9ms/step - loss: 0.7571 - accuracy: 0.7600 - val_loss: 0.7246 - val_accuracy: 0.7917\n",
      "Epoch 12/16\n",
      "50/50 [==============================] - 0s 9ms/step - loss: 0.7654 - accuracy: 0.7450 - val_loss: 0.7376 - val_accuracy: 0.7500\n",
      "Epoch 13/16\n",
      "50/50 [==============================] - 0s 10ms/step - loss: 0.6884 - accuracy: 0.7600 - val_loss: 0.8996 - val_accuracy: 0.6875\n",
      "Epoch 14/16\n",
      "50/50 [==============================] - 1s 10ms/step - loss: 0.6765 - accuracy: 0.7750 - val_loss: 0.7196 - val_accuracy: 0.8125\n",
      "Epoch 15/16\n",
      "50/50 [==============================] - 0s 9ms/step - loss: 0.6360 - accuracy: 0.7850 - val_loss: 0.7232 - val_accuracy: 0.7083\n",
      "Epoch 16/16\n",
      "50/50 [==============================] - 1s 10ms/step - loss: 0.6584 - accuracy: 0.7650 - val_loss: 0.7120 - val_accuracy: 0.6875\n",
      "Epoch 1/16\n",
      "50/50 [==============================] - 2s 13ms/step - loss: 2.9248 - accuracy: 0.4850 - val_loss: 2.5463 - val_accuracy: 0.5000\n",
      "Epoch 2/16\n",
      "50/50 [==============================] - 0s 9ms/step - loss: 2.3479 - accuracy: 0.5150 - val_loss: 2.1924 - val_accuracy: 0.5000\n",
      "Epoch 3/16\n",
      "50/50 [==============================] - 0s 9ms/step - loss: 2.0652 - accuracy: 0.5150 - val_loss: 1.9780 - val_accuracy: 0.5000\n",
      "Epoch 4/16\n",
      "50/50 [==============================] - 0s 10ms/step - loss: 1.8936 - accuracy: 0.5150 - val_loss: 1.8369 - val_accuracy: 0.5000\n",
      "Epoch 5/16\n",
      "50/50 [==============================] - 0s 9ms/step - loss: 1.7358 - accuracy: 0.5150 - val_loss: 1.6812 - val_accuracy: 0.5000\n",
      "Epoch 6/16\n",
      "50/50 [==============================] - 0s 9ms/step - loss: 1.5420 - accuracy: 0.5150 - val_loss: 1.4092 - val_accuracy: 0.5000\n",
      "Epoch 7/16\n",
      "50/50 [==============================] - 0s 9ms/step - loss: 1.4422 - accuracy: 0.5300 - val_loss: 1.3327 - val_accuracy: 0.5417\n",
      "Epoch 8/16\n",
      "50/50 [==============================] - 0s 9ms/step - loss: 1.3482 - accuracy: 0.5750 - val_loss: 1.2578 - val_accuracy: 0.5625\n",
      "Epoch 9/16\n",
      "50/50 [==============================] - 0s 9ms/step - loss: 1.2552 - accuracy: 0.5550 - val_loss: 1.2646 - val_accuracy: 0.5417\n",
      "Epoch 10/16\n",
      "50/50 [==============================] - 0s 9ms/step - loss: 1.2573 - accuracy: 0.5650 - val_loss: 1.2748 - val_accuracy: 0.5417\n",
      "Epoch 11/16\n",
      "50/50 [==============================] - 0s 8ms/step - loss: 1.3448 - accuracy: 0.4900 - val_loss: 1.2513 - val_accuracy: 0.5208\n",
      "Epoch 12/16\n",
      "50/50 [==============================] - 0s 8ms/step - loss: 1.2074 - accuracy: 0.5600 - val_loss: 1.2593 - val_accuracy: 0.5208\n",
      "Epoch 13/16\n",
      "50/50 [==============================] - 0s 8ms/step - loss: 1.1939 - accuracy: 0.5750 - val_loss: 1.1661 - val_accuracy: 0.5625\n",
      "Epoch 14/16\n",
      "50/50 [==============================] - 1s 11ms/step - loss: 1.1338 - accuracy: 0.5850 - val_loss: 1.1407 - val_accuracy: 0.5625\n",
      "Epoch 15/16\n",
      "50/50 [==============================] - 0s 8ms/step - loss: 1.1198 - accuracy: 0.5900 - val_loss: 1.1221 - val_accuracy: 0.5417\n",
      "Epoch 16/16\n",
      "50/50 [==============================] - 0s 8ms/step - loss: 1.0985 - accuracy: 0.6000 - val_loss: 1.0943 - val_accuracy: 0.6250\n",
      "Epoch 1/16\n",
      "50/50 [==============================] - 2s 16ms/step - loss: 4.8189 - accuracy: 0.4950 - val_loss: 3.9992 - val_accuracy: 0.5000\n",
      "Epoch 2/16\n",
      "50/50 [==============================] - 1s 10ms/step - loss: 3.2574 - accuracy: 0.5350 - val_loss: 2.6089 - val_accuracy: 0.6042\n",
      "Epoch 3/16\n",
      "50/50 [==============================] - 1s 11ms/step - loss: 2.2284 - accuracy: 0.5900 - val_loss: 2.1661 - val_accuracy: 0.5208\n",
      "Epoch 4/16\n",
      "50/50 [==============================] - 1s 11ms/step - loss: 1.6553 - accuracy: 0.6250 - val_loss: 1.4020 - val_accuracy: 0.6875\n",
      "Epoch 5/16\n",
      "50/50 [==============================] - 1s 10ms/step - loss: 1.3217 - accuracy: 0.6650 - val_loss: 1.0836 - val_accuracy: 0.7083\n",
      "Epoch 6/16\n",
      "50/50 [==============================] - 1s 10ms/step - loss: 1.0253 - accuracy: 0.6800 - val_loss: 0.8999 - val_accuracy: 0.7292\n",
      "Epoch 7/16\n",
      "50/50 [==============================] - 1s 10ms/step - loss: 0.8996 - accuracy: 0.7500 - val_loss: 0.8737 - val_accuracy: 0.7083\n",
      "Epoch 8/16\n",
      "50/50 [==============================] - 1s 10ms/step - loss: 0.8989 - accuracy: 0.6850 - val_loss: 0.8974 - val_accuracy: 0.6875\n",
      "Epoch 9/16\n",
      "50/50 [==============================] - 1s 10ms/step - loss: 0.8128 - accuracy: 0.7350 - val_loss: 0.7352 - val_accuracy: 0.6875\n",
      "Epoch 10/16\n",
      "50/50 [==============================] - 1s 11ms/step - loss: 0.8351 - accuracy: 0.6950 - val_loss: 0.8345 - val_accuracy: 0.7292\n",
      "Epoch 11/16\n",
      "50/50 [==============================] - 1s 10ms/step - loss: 0.8425 - accuracy: 0.7050 - val_loss: 0.7986 - val_accuracy: 0.6875\n",
      "Epoch 12/16\n",
      "50/50 [==============================] - 1s 11ms/step - loss: 0.6938 - accuracy: 0.7600 - val_loss: 0.7141 - val_accuracy: 0.7500\n",
      "Epoch 13/16\n",
      "50/50 [==============================] - 1s 10ms/step - loss: 0.6623 - accuracy: 0.7650 - val_loss: 0.7114 - val_accuracy: 0.7292\n",
      "Epoch 14/16\n",
      "50/50 [==============================] - 1s 10ms/step - loss: 0.6317 - accuracy: 0.8000 - val_loss: 0.6652 - val_accuracy: 0.7708\n",
      "Epoch 15/16\n",
      "50/50 [==============================] - 1s 10ms/step - loss: 0.6338 - accuracy: 0.7950 - val_loss: 0.6260 - val_accuracy: 0.8125\n",
      "Epoch 16/16\n",
      "50/50 [==============================] - 1s 11ms/step - loss: 0.6101 - accuracy: 0.8000 - val_loss: 0.6705 - val_accuracy: 0.7708\n",
      "Epoch 1/16\n",
      "50/50 [==============================] - 2s 13ms/step - loss: 5.3541 - accuracy: 0.5150 - val_loss: 4.2630 - val_accuracy: 0.5000\n",
      "Epoch 2/16\n",
      "50/50 [==============================] - 0s 10ms/step - loss: 3.4174 - accuracy: 0.5250 - val_loss: 2.9032 - val_accuracy: 0.5208\n",
      "Epoch 3/16\n",
      "50/50 [==============================] - 0s 10ms/step - loss: 2.3151 - accuracy: 0.5850 - val_loss: 1.9557 - val_accuracy: 0.5625\n",
      "Epoch 4/16\n",
      "50/50 [==============================] - 0s 10ms/step - loss: 1.6011 - accuracy: 0.6650 - val_loss: 1.3456 - val_accuracy: 0.6250\n",
      "Epoch 5/16\n",
      "50/50 [==============================] - 0s 10ms/step - loss: 1.1821 - accuracy: 0.6900 - val_loss: 1.0491 - val_accuracy: 0.6875\n",
      "Epoch 6/16\n",
      "50/50 [==============================] - 0s 10ms/step - loss: 1.0174 - accuracy: 0.7100 - val_loss: 0.9479 - val_accuracy: 0.7083\n",
      "Epoch 7/16\n",
      "50/50 [==============================] - 0s 10ms/step - loss: 0.8371 - accuracy: 0.7450 - val_loss: 0.8109 - val_accuracy: 0.7292\n",
      "Epoch 8/16\n",
      "50/50 [==============================] - 0s 10ms/step - loss: 0.9341 - accuracy: 0.7300 - val_loss: 0.8224 - val_accuracy: 0.7083\n",
      "Epoch 9/16\n",
      "50/50 [==============================] - 0s 10ms/step - loss: 0.7315 - accuracy: 0.7650 - val_loss: 0.8167 - val_accuracy: 0.7083\n",
      "Epoch 10/16\n",
      "50/50 [==============================] - 1s 10ms/step - loss: 0.7070 - accuracy: 0.7550 - val_loss: 0.7954 - val_accuracy: 0.6875\n",
      "Epoch 11/16\n",
      "50/50 [==============================] - 1s 12ms/step - loss: 0.7591 - accuracy: 0.7400 - val_loss: 0.6972 - val_accuracy: 0.7917\n",
      "Epoch 12/16\n",
      "50/50 [==============================] - 1s 11ms/step - loss: 0.6569 - accuracy: 0.7750 - val_loss: 0.7084 - val_accuracy: 0.7500\n",
      "Epoch 13/16\n",
      "50/50 [==============================] - 0s 10ms/step - loss: 0.5922 - accuracy: 0.8200 - val_loss: 0.6447 - val_accuracy: 0.7708\n",
      "Epoch 14/16\n",
      "50/50 [==============================] - 0s 9ms/step - loss: 0.5824 - accuracy: 0.8050 - val_loss: 0.5820 - val_accuracy: 0.8125\n",
      "Epoch 15/16\n",
      "50/50 [==============================] - 0s 9ms/step - loss: 0.6097 - accuracy: 0.7950 - val_loss: 0.6298 - val_accuracy: 0.7917\n",
      "Epoch 16/16\n",
      "50/50 [==============================] - 0s 9ms/step - loss: 0.5301 - accuracy: 0.8300 - val_loss: 0.5816 - val_accuracy: 0.8125\n",
      "Epoch 1/16\n",
      "50/50 [==============================] - 2s 13ms/step - loss: 4.9110 - accuracy: 0.5150 - val_loss: 4.0411 - val_accuracy: 0.5000\n",
      "Epoch 2/16\n",
      "50/50 [==============================] - 0s 10ms/step - loss: 3.3063 - accuracy: 0.5250 - val_loss: 2.5526 - val_accuracy: 0.5625\n",
      "Epoch 3/16\n",
      "50/50 [==============================] - 0s 10ms/step - loss: 2.2689 - accuracy: 0.5900 - val_loss: 1.9132 - val_accuracy: 0.5833\n",
      "Epoch 4/16\n",
      "50/50 [==============================] - 0s 10ms/step - loss: 1.6985 - accuracy: 0.6550 - val_loss: 1.4627 - val_accuracy: 0.6458\n",
      "Epoch 5/16\n",
      "50/50 [==============================] - 0s 9ms/step - loss: 1.3833 - accuracy: 0.6350 - val_loss: 1.2579 - val_accuracy: 0.6667\n",
      "Epoch 6/16\n",
      "50/50 [==============================] - 0s 10ms/step - loss: 1.3458 - accuracy: 0.5900 - val_loss: 1.1379 - val_accuracy: 0.6250\n",
      "Epoch 7/16\n",
      "50/50 [==============================] - 0s 10ms/step - loss: 1.1221 - accuracy: 0.6600 - val_loss: 1.0364 - val_accuracy: 0.7083\n",
      "Epoch 8/16\n",
      "50/50 [==============================] - 0s 10ms/step - loss: 0.9199 - accuracy: 0.7000 - val_loss: 0.8580 - val_accuracy: 0.7292\n",
      "Epoch 9/16\n",
      "50/50 [==============================] - 0s 10ms/step - loss: 0.8366 - accuracy: 0.7600 - val_loss: 0.8032 - val_accuracy: 0.7500\n",
      "Epoch 10/16\n",
      "50/50 [==============================] - 0s 9ms/step - loss: 0.7925 - accuracy: 0.7050 - val_loss: 0.8046 - val_accuracy: 0.7708\n",
      "Epoch 11/16\n",
      "50/50 [==============================] - 0s 10ms/step - loss: 0.8079 - accuracy: 0.7750 - val_loss: 0.7868 - val_accuracy: 0.7292\n",
      "Epoch 12/16\n",
      "50/50 [==============================] - 0s 9ms/step - loss: 0.7022 - accuracy: 0.8400 - val_loss: 0.6472 - val_accuracy: 0.8750\n",
      "Epoch 13/16\n",
      "50/50 [==============================] - 0s 10ms/step - loss: 0.6205 - accuracy: 0.8500 - val_loss: 0.7694 - val_accuracy: 0.7917\n",
      "Epoch 14/16\n",
      "50/50 [==============================] - 0s 10ms/step - loss: 0.5882 - accuracy: 0.8750 - val_loss: 0.6247 - val_accuracy: 0.7917\n",
      "Epoch 15/16\n",
      "50/50 [==============================] - 0s 9ms/step - loss: 0.6123 - accuracy: 0.8300 - val_loss: 0.5384 - val_accuracy: 0.8750\n",
      "Epoch 16/16\n",
      "50/50 [==============================] - 0s 9ms/step - loss: 0.6344 - accuracy: 0.8400 - val_loss: 0.5744 - val_accuracy: 0.8333\n",
      "Epoch 1/16\n",
      "50/50 [==============================] - 2s 13ms/step - loss: 5.5957 - accuracy: 0.5150 - val_loss: 4.1587 - val_accuracy: 0.5000\n",
      "Epoch 2/16\n",
      "50/50 [==============================] - 0s 9ms/step - loss: 3.3718 - accuracy: 0.5850 - val_loss: 2.5581 - val_accuracy: 0.6250\n",
      "Epoch 3/16\n",
      "50/50 [==============================] - 0s 10ms/step - loss: 2.1957 - accuracy: 0.6500 - val_loss: 1.8622 - val_accuracy: 0.6250\n",
      "Epoch 4/16\n",
      "50/50 [==============================] - 0s 10ms/step - loss: 1.5362 - accuracy: 0.6900 - val_loss: 1.5509 - val_accuracy: 0.6875\n",
      "Epoch 5/16\n"
     ]
    },
    {
     "name": "stdout",
     "output_type": "stream",
     "text": [
      "50/50 [==============================] - 0s 10ms/step - loss: 1.1649 - accuracy: 0.6900 - val_loss: 1.0946 - val_accuracy: 0.6458\n",
      "Epoch 6/16\n",
      "50/50 [==============================] - 0s 10ms/step - loss: 0.9272 - accuracy: 0.7400 - val_loss: 1.1511 - val_accuracy: 0.6667\n",
      "Epoch 7/16\n",
      "50/50 [==============================] - 0s 9ms/step - loss: 0.9792 - accuracy: 0.6700 - val_loss: 0.8496 - val_accuracy: 0.7500\n",
      "Epoch 8/16\n",
      "50/50 [==============================] - 0s 9ms/step - loss: 0.8099 - accuracy: 0.7000 - val_loss: 0.7483 - val_accuracy: 0.6875\n",
      "Epoch 9/16\n",
      "50/50 [==============================] - 0s 9ms/step - loss: 0.7251 - accuracy: 0.7600 - val_loss: 0.7927 - val_accuracy: 0.7292\n",
      "Epoch 10/16\n",
      "50/50 [==============================] - 0s 9ms/step - loss: 0.6604 - accuracy: 0.7800 - val_loss: 0.6831 - val_accuracy: 0.7917\n",
      "Epoch 11/16\n",
      "50/50 [==============================] - 0s 9ms/step - loss: 0.6142 - accuracy: 0.8150 - val_loss: 0.6506 - val_accuracy: 0.7708\n",
      "Epoch 12/16\n",
      "50/50 [==============================] - 0s 10ms/step - loss: 0.6912 - accuracy: 0.7800 - val_loss: 0.7284 - val_accuracy: 0.7500\n",
      "Epoch 13/16\n",
      "50/50 [==============================] - 0s 10ms/step - loss: 0.5759 - accuracy: 0.8150 - val_loss: 0.6628 - val_accuracy: 0.7292\n",
      "Epoch 14/16\n",
      "50/50 [==============================] - 0s 10ms/step - loss: 0.6255 - accuracy: 0.8300 - val_loss: 0.7334 - val_accuracy: 0.7500\n",
      "Epoch 15/16\n",
      "50/50 [==============================] - 0s 9ms/step - loss: 0.5969 - accuracy: 0.8150 - val_loss: 0.5927 - val_accuracy: 0.8542\n",
      "Epoch 16/16\n",
      "50/50 [==============================] - 0s 10ms/step - loss: 0.5185 - accuracy: 0.8350 - val_loss: 0.6435 - val_accuracy: 0.7708\n"
     ]
    }
   ],
   "source": [
    "RF = [n for n in range(8, 64)]\n",
    "DF = [n for n in range(8, 64)]\n",
    "\n",
    "for i in range(8):\n",
    "    rf = random.choice(RF)\n",
    "    df = random.choice(DF)\n",
    "    model = build_model(rf, df)\n",
    "    history = model.fit(X_train, y_train, validation_data=(X_test, y_test), batch_size=4, epochs=16)\n",
    "    results[(rf, df)] = history.history['val_accuracy'][-1]"
   ]
  },
  {
   "cell_type": "code",
   "execution_count": 13,
   "metadata": {},
   "outputs": [
    {
     "data": {
      "text/plain": [
       "Text(0.5, 1.0, 'Val accuracy')"
      ]
     },
     "execution_count": 13,
     "metadata": {},
     "output_type": "execute_result"
    },
    {
     "data": {
      "image/png": "[encoded data removed]",
      "text/plain": [
       "<Figure size 720x720 with 2 Axes>"
      ]
     },
     "metadata": {
      "needs_background": "light"
     },
     "output_type": "display_data"
    }
   ],
   "source": [
    "plt.figure(figsize=(10, 10))\n",
    "x_scatter = [x[0] for x in results]\n",
    "y_scatter = [x[1] for x in results]\n",
    "\n",
    "marker_size = 100\n",
    "colors = [results[x] for x in results]\n",
    "plt.tight_layout(pad=3)\n",
    "plt.scatter(x_scatter, y_scatter, marker_size, c=colors, cmap=plt.cm.coolwarm)\n",
    "plt.colorbar()\n",
    "plt.xlabel('LSTM features')\n",
    "plt.ylabel('Dense features')\n",
    "plt.title('Val accuracy')"
   ]
  },
  {
   "cell_type": "code",
   "execution_count": 14,
   "metadata": {},
   "outputs": [],
   "source": [
    "best = list(sorted(results.items(), key=lambda item: item[1]))[-1][0]"
   ]
  },
  {
   "cell_type": "code",
   "execution_count": 15,
   "metadata": {},
   "outputs": [],
   "source": [
    "model = build_model(*best)"
   ]
  },
  {
   "cell_type": "code",
   "execution_count": 16,
   "metadata": {
    "scrolled": true
   },
   "outputs": [
    {
     "name": "stdout",
     "output_type": "stream",
     "text": [
      "Epoch 1/64\n",
      "50/50 [==============================] - 2s 13ms/step - loss: 4.9597 - accuracy: 0.4750 - val_loss: 3.9444 - val_accuracy: 0.5000\n",
      "Epoch 2/64\n",
      "50/50 [==============================] - 0s 9ms/step - loss: 3.1832 - accuracy: 0.5800 - val_loss: 2.5162 - val_accuracy: 0.6042\n",
      "Epoch 3/64\n",
      "50/50 [==============================] - 0s 9ms/step - loss: 2.0962 - accuracy: 0.6600 - val_loss: 1.7961 - val_accuracy: 0.6458\n",
      "Epoch 4/64\n",
      "50/50 [==============================] - 0s 10ms/step - loss: 1.5924 - accuracy: 0.6500 - val_loss: 1.3533 - val_accuracy: 0.6458\n",
      "Epoch 5/64\n",
      "50/50 [==============================] - 0s 10ms/step - loss: 1.3448 - accuracy: 0.6600 - val_loss: 1.1086 - val_accuracy: 0.6875\n",
      "Epoch 6/64\n",
      "50/50 [==============================] - 0s 9ms/step - loss: 1.0054 - accuracy: 0.7350 - val_loss: 1.1095 - val_accuracy: 0.6458\n",
      "Epoch 7/64\n",
      "50/50 [==============================] - 0s 10ms/step - loss: 0.8523 - accuracy: 0.7300 - val_loss: 0.7848 - val_accuracy: 0.7083\n",
      "Epoch 8/64\n",
      "50/50 [==============================] - 0s 9ms/step - loss: 0.8030 - accuracy: 0.7250 - val_loss: 0.7301 - val_accuracy: 0.7083\n",
      "Epoch 9/64\n",
      "50/50 [==============================] - 0s 10ms/step - loss: 0.7436 - accuracy: 0.7400 - val_loss: 0.7952 - val_accuracy: 0.6875\n",
      "Epoch 10/64\n",
      "50/50 [==============================] - 0s 10ms/step - loss: 0.8719 - accuracy: 0.7050 - val_loss: 0.7988 - val_accuracy: 0.7292\n",
      "Epoch 11/64\n",
      "50/50 [==============================] - 0s 9ms/step - loss: 0.7266 - accuracy: 0.7750 - val_loss: 0.8325 - val_accuracy: 0.7500\n",
      "Epoch 12/64\n",
      "50/50 [==============================] - 0s 10ms/step - loss: 0.8194 - accuracy: 0.7400 - val_loss: 0.7198 - val_accuracy: 0.7500\n",
      "Epoch 13/64\n",
      "50/50 [==============================] - 0s 10ms/step - loss: 0.6586 - accuracy: 0.7850 - val_loss: 0.6430 - val_accuracy: 0.7708\n",
      "Epoch 14/64\n",
      "50/50 [==============================] - 0s 10ms/step - loss: 0.6249 - accuracy: 0.7800 - val_loss: 0.5930 - val_accuracy: 0.8333\n",
      "Epoch 15/64\n",
      "50/50 [==============================] - 0s 9ms/step - loss: 0.6142 - accuracy: 0.8100 - val_loss: 0.5874 - val_accuracy: 0.7917\n",
      "Epoch 16/64\n",
      "50/50 [==============================] - 0s 9ms/step - loss: 0.5644 - accuracy: 0.8200 - val_loss: 0.5270 - val_accuracy: 0.8542\n",
      "Epoch 17/64\n",
      "50/50 [==============================] - 0s 9ms/step - loss: 0.5834 - accuracy: 0.8550 - val_loss: 0.5727 - val_accuracy: 0.8333\n",
      "Epoch 18/64\n",
      "50/50 [==============================] - 0s 9ms/step - loss: 0.6085 - accuracy: 0.8200 - val_loss: 0.5667 - val_accuracy: 0.8750\n",
      "Epoch 19/64\n",
      "50/50 [==============================] - 0s 10ms/step - loss: 0.5300 - accuracy: 0.8400 - val_loss: 0.5283 - val_accuracy: 0.7917\n",
      "Epoch 20/64\n",
      "50/50 [==============================] - 0s 9ms/step - loss: 0.7903 - accuracy: 0.7700 - val_loss: 0.9371 - val_accuracy: 0.6042\n",
      "Epoch 21/64\n",
      "50/50 [==============================] - 0s 10ms/step - loss: 0.6687 - accuracy: 0.8150 - val_loss: 0.5329 - val_accuracy: 0.8542\n",
      "Epoch 22/64\n",
      "50/50 [==============================] - 0s 9ms/step - loss: 0.6635 - accuracy: 0.8500 - val_loss: 1.2518 - val_accuracy: 0.6875\n",
      "Epoch 23/64\n",
      "50/50 [==============================] - 0s 10ms/step - loss: 0.8018 - accuracy: 0.7700 - val_loss: 0.7618 - val_accuracy: 0.7292\n",
      "Epoch 24/64\n",
      "50/50 [==============================] - 0s 10ms/step - loss: 0.6824 - accuracy: 0.8350 - val_loss: 0.6066 - val_accuracy: 0.7917\n",
      "Epoch 25/64\n",
      "50/50 [==============================] - 0s 10ms/step - loss: 0.5201 - accuracy: 0.8700 - val_loss: 0.5378 - val_accuracy: 0.8750\n",
      "Epoch 26/64\n",
      "50/50 [==============================] - 0s 10ms/step - loss: 0.4267 - accuracy: 0.9050 - val_loss: 0.5288 - val_accuracy: 0.8542\n",
      "Epoch 27/64\n",
      "50/50 [==============================] - 0s 10ms/step - loss: 0.3859 - accuracy: 0.9200 - val_loss: 0.4243 - val_accuracy: 0.9167\n",
      "Epoch 28/64\n",
      "50/50 [==============================] - 0s 10ms/step - loss: 0.3468 - accuracy: 0.9300 - val_loss: 0.4802 - val_accuracy: 0.8333\n",
      "Epoch 29/64\n",
      "50/50 [==============================] - 0s 10ms/step - loss: 0.3437 - accuracy: 0.9400 - val_loss: 0.4283 - val_accuracy: 0.8542\n",
      "Epoch 30/64\n",
      "50/50 [==============================] - 0s 9ms/step - loss: 0.3205 - accuracy: 0.9550 - val_loss: 0.3706 - val_accuracy: 0.9583\n",
      "Epoch 31/64\n",
      "50/50 [==============================] - 0s 10ms/step - loss: 0.2986 - accuracy: 0.9450 - val_loss: 0.3773 - val_accuracy: 0.9167\n",
      "Epoch 32/64\n",
      "50/50 [==============================] - 0s 9ms/step - loss: 0.2840 - accuracy: 0.9550 - val_loss: 0.3713 - val_accuracy: 0.8958\n",
      "Epoch 33/64\n",
      "50/50 [==============================] - 1s 10ms/step - loss: 0.4408 - accuracy: 0.9100 - val_loss: 0.5185 - val_accuracy: 0.8542\n",
      "Epoch 34/64\n",
      "50/50 [==============================] - 1s 11ms/step - loss: 0.3996 - accuracy: 0.9100 - val_loss: 0.6373 - val_accuracy: 0.7917\n",
      "Epoch 35/64\n",
      "50/50 [==============================] - 1s 10ms/step - loss: 0.4248 - accuracy: 0.9050 - val_loss: 0.8034 - val_accuracy: 0.7083\n",
      "Epoch 36/64\n",
      "50/50 [==============================] - 1s 11ms/step - loss: 0.7230 - accuracy: 0.7400 - val_loss: 0.5458 - val_accuracy: 0.8333\n",
      "Epoch 37/64\n",
      "50/50 [==============================] - 1s 10ms/step - loss: 0.4341 - accuracy: 0.9100 - val_loss: 0.4957 - val_accuracy: 0.8750\n",
      "Epoch 38/64\n",
      "50/50 [==============================] - 1s 10ms/step - loss: 0.3331 - accuracy: 0.9250 - val_loss: 0.4200 - val_accuracy: 0.8542\n",
      "Epoch 39/64\n",
      "50/50 [==============================] - 0s 9ms/step - loss: 0.2869 - accuracy: 0.9400 - val_loss: 0.4557 - val_accuracy: 0.8750\n",
      "Epoch 40/64\n",
      "50/50 [==============================] - 1s 10ms/step - loss: 0.3657 - accuracy: 0.9100 - val_loss: 0.4339 - val_accuracy: 0.8750\n",
      "Epoch 41/64\n",
      "50/50 [==============================] - 0s 10ms/step - loss: 0.2965 - accuracy: 0.9300 - val_loss: 0.3946 - val_accuracy: 0.9167\n",
      "Epoch 42/64\n",
      "50/50 [==============================] - 1s 11ms/step - loss: 0.2674 - accuracy: 0.9400 - val_loss: 0.4074 - val_accuracy: 0.8542\n",
      "Epoch 43/64\n",
      "50/50 [==============================] - 1s 10ms/step - loss: 0.2605 - accuracy: 0.9500 - val_loss: 0.4564 - val_accuracy: 0.8750\n",
      "Epoch 44/64\n",
      "50/50 [==============================] - 1s 11ms/step - loss: 0.2756 - accuracy: 0.9450 - val_loss: 0.4539 - val_accuracy: 0.8750\n",
      "Epoch 45/64\n",
      "50/50 [==============================] - 1s 10ms/step - loss: 0.3121 - accuracy: 0.9400 - val_loss: 0.3603 - val_accuracy: 0.9167\n",
      "Epoch 46/64\n",
      "50/50 [==============================] - 1s 10ms/step - loss: 0.2994 - accuracy: 0.9250 - val_loss: 0.4104 - val_accuracy: 0.9167\n",
      "Epoch 47/64\n",
      "50/50 [==============================] - 0s 10ms/step - loss: 0.2413 - accuracy: 0.9650 - val_loss: 0.3763 - val_accuracy: 0.9167\n",
      "Epoch 48/64\n",
      "50/50 [==============================] - 0s 10ms/step - loss: 0.2806 - accuracy: 0.9400 - val_loss: 0.4677 - val_accuracy: 0.8333\n",
      "Epoch 49/64\n",
      "50/50 [==============================] - 1s 10ms/step - loss: 0.2677 - accuracy: 0.9500 - val_loss: 0.4537 - val_accuracy: 0.8750\n",
      "Epoch 50/64\n",
      "50/50 [==============================] - 0s 10ms/step - loss: 0.3318 - accuracy: 0.9300 - val_loss: 0.4902 - val_accuracy: 0.8542\n",
      "Epoch 51/64\n",
      "50/50 [==============================] - 0s 10ms/step - loss: 0.2949 - accuracy: 0.9600 - val_loss: 0.3857 - val_accuracy: 0.9167\n",
      "Epoch 52/64\n",
      "50/50 [==============================] - 1s 10ms/step - loss: 0.2354 - accuracy: 0.9650 - val_loss: 0.3663 - val_accuracy: 0.9167\n",
      "Epoch 53/64\n",
      "50/50 [==============================] - 1s 10ms/step - loss: 0.2207 - accuracy: 0.9700 - val_loss: 0.3429 - val_accuracy: 0.8958\n",
      "Epoch 54/64\n",
      "50/50 [==============================] - 0s 10ms/step - loss: 0.1920 - accuracy: 0.9800 - val_loss: 0.3761 - val_accuracy: 0.8750\n",
      "Epoch 55/64\n",
      "50/50 [==============================] - 1s 10ms/step - loss: 0.1982 - accuracy: 0.9750 - val_loss: 0.5074 - val_accuracy: 0.8750\n",
      "Epoch 56/64\n",
      "50/50 [==============================] - 0s 10ms/step - loss: 0.2192 - accuracy: 0.9700 - val_loss: 0.2756 - val_accuracy: 0.9375\n",
      "Epoch 57/64\n",
      "50/50 [==============================] - 0s 10ms/step - loss: 0.1703 - accuracy: 0.9950 - val_loss: 0.3982 - val_accuracy: 0.8333\n",
      "Epoch 58/64\n",
      "50/50 [==============================] - 0s 10ms/step - loss: 0.1821 - accuracy: 0.9800 - val_loss: 0.5110 - val_accuracy: 0.8333\n"
     ]
    },
    {
     "name": "stdout",
     "output_type": "stream",
     "text": [
      "Epoch 59/64\n",
      "50/50 [==============================] - 0s 10ms/step - loss: 0.2499 - accuracy: 0.9550 - val_loss: 0.3649 - val_accuracy: 0.9375\n",
      "Epoch 60/64\n",
      "50/50 [==============================] - 0s 10ms/step - loss: 0.2016 - accuracy: 0.9600 - val_loss: 0.2731 - val_accuracy: 0.9167\n",
      "Epoch 61/64\n",
      "50/50 [==============================] - 0s 10ms/step - loss: 0.1508 - accuracy: 0.9900 - val_loss: 0.4002 - val_accuracy: 0.8750\n",
      "Epoch 62/64\n",
      "50/50 [==============================] - 0s 10ms/step - loss: 0.1455 - accuracy: 0.9950 - val_loss: 0.3206 - val_accuracy: 0.8958\n",
      "Epoch 63/64\n",
      "50/50 [==============================] - 0s 10ms/step - loss: 0.1450 - accuracy: 0.9900 - val_loss: 0.3415 - val_accuracy: 0.9167\n",
      "Epoch 64/64\n",
      "50/50 [==============================] - 0s 9ms/step - loss: 0.2233 - accuracy: 0.9550 - val_loss: 0.3226 - val_accuracy: 0.8958\n"
     ]
    }
   ],
   "source": [
    "history = model.fit(X_train, y_train, validation_data=(X_test, y_test), batch_size=4, epochs=64)"
   ]
  },
  {
   "cell_type": "code",
   "execution_count": 17,
   "metadata": {},
   "outputs": [
    {
     "data": {
      "text/plain": [
       "[<matplotlib.lines.Line2D at 0x7f89144c3370>]"
      ]
     },
     "execution_count": 17,
     "metadata": {},
     "output_type": "execute_result"
    },
    {
     "data": {
      "image/png": "[encoded data removed]",
      "text/plain": [
       "<Figure size 1080x504 with 2 Axes>"
      ]
     },
     "metadata": {
      "needs_background": "light"
     },
     "output_type": "display_data"
    }
   ],
   "source": [
    "plt.figure(figsize=(15, 7))\n",
    "plt.subplot(221)\n",
    "plt.title(\"Train Loss\")\n",
    "plt.plot(history.history['loss'])\n",
    "plt.subplot(222)\n",
    "plt.title(\"Train/validation accuracy\")\n",
    "plt.plot(history.history['accuracy'])\n",
    "plt.plot(history.history['val_accuracy'])"
   ]
  },
  {
   "cell_type": "code",
   "execution_count": null,
   "metadata": {},
   "outputs": [],
   "source": []
  },
  {
   "cell_type": "code",
   "execution_count": null,
   "metadata": {},
   "outputs": [],
   "source": []
  }
 ],
 "metadata": {
  "kernelspec": {
   "display_name": "Python 3 (ipykernel)",
   "language": "python",
   "name": "python3"
  },
  "language_info": {
   "codemirror_mode": {
    "name": "ipython",
    "version": 3
   },
   "file_extension": ".py",
   "mimetype": "text/x-python",
   "name": "python",
   "nbconvert_exporter": "python",
   "pygments_lexer": "ipython3",
   "version": "3.9.7"
  }
 },
 "nbformat": 4,
 "nbformat_minor": 2
}
