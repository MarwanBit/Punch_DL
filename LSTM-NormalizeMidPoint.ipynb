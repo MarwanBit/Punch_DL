{
 "cells": [
  {
   "cell_type": "markdown",
   "metadata": {},
   "source": [
    "# Load data"
   ]
  },
  {
   "cell_type": "code",
   "execution_count": 1,
   "metadata": {},
   "outputs": [],
   "source": [
    "import re\n",
    "import numpy as np\n",
    "import matplotlib.pyplot as plt\n",
    "\n",
    "import tensorflow as tf\n",
    "import tensorflow.keras as K"
   ]
  },
  {
   "cell_type": "code",
   "execution_count": 2,
   "metadata": {},
   "outputs": [],
   "source": [
    "def read_data(name):\n",
    "    X_train, y_train = [], []\n",
    "    X_test, y_test = [], []\n",
    "    X = np.load(f'data/keypoints/{name}.npy') # .reshape((-1, 51))\n",
    "    with open(f'data/labels/{name}') as f:\n",
    "        labels = f.readlines()\n",
    "\n",
    "    N = int(re.findall(r'\\d+', labels[0])[0])\n",
    "    assert N == X.shape[0]\n",
    "\n",
    "    end = 0\n",
    "\n",
    "    for lab in labels:\n",
    "        C = re.findall(r'\\d:', lab)\n",
    "        if len(C) == 1:\n",
    "            C = int(C[0][0])\n",
    "\n",
    "        idxs = re.findall(r'\\d+-\\d+', lab)\n",
    "        if len(idxs) > 1:  \n",
    "            print()\n",
    "            print(f'Add label [{C}] to train samples')\n",
    "            for idx in idxs[:-1]:\n",
    "                start, stop = idx.split('-')\n",
    "                start, stop = int(start), int(stop)\n",
    "\n",
    "                X_train.append(X[end:start])\n",
    "                y_train.append(0)\n",
    "\n",
    "                X_train.append(X[start:stop])\n",
    "                y_train.append(C)        \n",
    "                print(idx, end='\\t')\n",
    "\n",
    "                end = stop\n",
    "            \n",
    "            print()\n",
    "            print(f'Add label [{C}] to test samples')\n",
    "            idx = idxs[-1]\n",
    "            start, stop = idx.split('-')\n",
    "            start, stop = int(start), int(stop)\n",
    "\n",
    "            X_test.append(X[end:start])\n",
    "            y_test.append(0)\n",
    "            \n",
    "            print(idx, end='\\t')\n",
    "            X_test.append(X[start:stop])\n",
    "            y_test.append(C)        \n",
    "\n",
    "            end = stop\n",
    "\n",
    "    X_train.append(X[end:-1])\n",
    "    y_train.append(0)\n",
    "    \n",
    "    return X_train, y_train, X_test, y_test"
   ]
  },
  {
   "cell_type": "code",
   "execution_count": 3,
   "metadata": {
    "scrolled": true
   },
   "outputs": [
    {
     "name": "stdout",
     "output_type": "stream",
     "text": [
      "\n",
      "Add label [1] to train samples\n",
      "5-30\t42-70\t88-115\t130-154\t\n",
      "Add label [1] to test samples\n",
      "170-200\t\n",
      "Add label [2] to train samples\n",
      "220-247\t268-293\t315-340\t365-387\t\n",
      "Add label [2] to test samples\n",
      "417-436\t\n",
      "Add label [1] to train samples\n",
      "465-493\t515-538\t560-583\t605-625\t\n",
      "Add label [1] to test samples\n",
      "650-675\t\n",
      "Add label [2] to train samples\n",
      "696-715\t742-762\t787-807\t833-850\t\n",
      "Add label [2] to test samples\n",
      "878-895\t\n",
      "Add label [1] to train samples\n",
      "19-39\t68-89\t107-147\t156-190\t\n",
      "Add label [1] to test samples\n",
      "215-243\t\n",
      "Add label [2] to train samples\n",
      "266-288\t317-334\t361-382\t413-433\t\n",
      "Add label [2] to test samples\n",
      "462-482\t\n",
      "Add label [1] to train samples\n",
      "564-578\t600-615\t639-657\t680-695\t\n",
      "Add label [1] to test samples\n",
      "720-737\t\n",
      "Add label [2] to train samples\n",
      "764-778\t802-817\t840-857\t884-898\t\n",
      "Add label [2] to test samples\n",
      "924-939\t\n",
      "Add label [3] to train samples\n",
      "1-22\t45-70\t92-117\t141-164\t\n",
      "Add label [3] to test samples\n",
      "202-225\t\n",
      "Add label [4] to train samples\n",
      "275-300\t319-344\t372-395\t430-455\t\n",
      "Add label [4] to test samples\n",
      "489-515\t\n",
      "Add label [3] to train samples\n",
      "570-586\t615-636\t662-682\t710-730\t\n",
      "Add label [3] to test samples\n",
      "763-783\t\n",
      "Add label [4] to train samples\n",
      "826-843\t874-891\t921-939\t981-1000\t\n",
      "Add label [4] to test samples\n",
      "1038-1057\t\n",
      "Add label [3] to train samples\n",
      "21-43\t65-85\t113-133\t160-180\t\n",
      "Add label [3] to test samples\n",
      "212-227\t\n",
      "Add label [4] to train samples\n",
      "263-283\t314-334\t366-389\t418-438\t\n",
      "Add label [4] to test samples\n",
      "469-489\t\n",
      "Add label [3] to train samples\n",
      "537-558\t582-602\t629-649\t674-697\t\n",
      "Add label [3] to test samples\n",
      "750-770\t\n",
      "Add label [4] to train samples\n",
      "806-824\t849-869\t894-918\t948-966\t\n",
      "Add label [4] to test samples\n",
      "992-1012\t\n",
      "Add label [5] to train samples\n",
      "66-86\t110-130\t164-184\t213-233\t262-282\t\n",
      "Add label [5] to test samples\n",
      "318-338\t\n",
      "Add label [6] to train samples\n",
      "372-392\t420-440\t475-495\t525-545\t\n",
      "Add label [6] to test samples\n",
      "570-590\t\n",
      "Add label [5] to train samples\n",
      "685-700\t730-750\t785-802\t833-853\t\n",
      "Add label [5] to test samples\n",
      "887-907\t\n",
      "Add label [6] to train samples\n",
      "949-963\t991-1006\t1036-1053\t1086-1102\t\n",
      "Add label [6] to test samples\n",
      "1134-1151\t\n",
      "Add label [5] to train samples\n",
      "110-128\t155-170\t209-226\t262-276\t\n",
      "Add label [5] to test samples\n",
      "314-329\t\n",
      "Add label [6] to train samples\n",
      "368-380\t415-432\t458-475\t505-522\t\n",
      "Add label [6] to test samples\n",
      "556-575\t\n",
      "Add label [5] to train samples\n",
      "685-700\t733-749\t786-801\t834-851\t\n",
      "Add label [5] to test samples\n",
      "887-900\t\n",
      "Add label [6] to train samples\n",
      "942-957\t984-1002\t1030-1047\t1071-1087\t\n",
      "Add label [6] to test samples\n",
      "1115-1133\t"
     ]
    }
   ],
   "source": [
    "X_train, y_train, X_test, y_test = [], [], [], []\n",
    "\n",
    "FILE_NAMES = ['id0_jab_1',  'id0_jab_2', \n",
    "              'id0_hook_1', 'id0_hook_2',\n",
    "              'id0_uper_1', 'id0_uper_2']\n",
    "\n",
    "for name in FILE_NAMES:\n",
    "    x1, y1, x2, y2 = read_data(name)\n",
    "\n",
    "    X_train += x1\n",
    "    y_train += y1\n",
    "    X_test += x2\n",
    "    y_test += y2"
   ]
  },
  {
   "cell_type": "code",
   "execution_count": 4,
   "metadata": {},
   "outputs": [
    {
     "data": {
      "text/plain": [
       "(200, 48)"
      ]
     },
     "execution_count": 4,
     "metadata": {},
     "output_type": "execute_result"
    }
   ],
   "source": [
    "len(X_train), len(X_test)"
   ]
  },
  {
   "cell_type": "code",
   "execution_count": 5,
   "metadata": {},
   "outputs": [],
   "source": [
    "for i in range(len(X_train)):\n",
    "    N = X_train[i].shape[0]\n",
    "    x = X_train[i].reshape((N, 17, 3))\n",
    "    mid_points = (x[:, 11, :] + x[:, 12, :]) / 2\n",
    "    mp = mid_points.reshape(N, 1, 3)\n",
    "    x_n = x - mp\n",
    "    X_train[i] = np.concatenate([x_n, mp], axis=1).reshape(-1, 54)"
   ]
  },
  {
   "cell_type": "code",
   "execution_count": 6,
   "metadata": {},
   "outputs": [],
   "source": [
    "for i in range(len(X_test)):\n",
    "    N = X_test[i].shape[0]\n",
    "    x = X_test[i].reshape((N, 17, 3))\n",
    "    mid_points = (x[:, 11, :] + x[:, 12, :]) / 2\n",
    "    mp = mid_points.reshape(N, 1, 3)\n",
    "    x_n = x - mp\n",
    "    X_test[i] = np.concatenate([x_n, mp], axis=1).reshape(-1, 54)"
   ]
  },
  {
   "cell_type": "code",
   "execution_count": 7,
   "metadata": {},
   "outputs": [
    {
     "data": {
      "text/plain": [
       "(52, 54)"
      ]
     },
     "execution_count": 7,
     "metadata": {},
     "output_type": "execute_result"
    }
   ],
   "source": [
    "X_train[-1].shape"
   ]
  },
  {
   "cell_type": "code",
   "execution_count": 8,
   "metadata": {
    "scrolled": true
   },
   "outputs": [],
   "source": [
    "y_train = K.utils.to_categorical(y_train, num_classes=7)\n",
    "X_train = tf.ragged.constant(X_train)\n",
    "\n",
    "y_test = K.utils.to_categorical(y_test, num_classes=7)\n",
    "X_test = tf.ragged.constant(X_test)"
   ]
  },
  {
   "cell_type": "code",
   "execution_count": 9,
   "metadata": {},
   "outputs": [
    {
     "data": {
      "text/plain": [
       "TensorShape([200, None, None])"
      ]
     },
     "execution_count": 9,
     "metadata": {},
     "output_type": "execute_result"
    }
   ],
   "source": [
    "X_train.shape"
   ]
  },
  {
   "cell_type": "markdown",
   "metadata": {},
   "source": [
    "## LSTM"
   ]
  },
  {
   "cell_type": "code",
   "execution_count": 10,
   "metadata": {},
   "outputs": [],
   "source": [
    "def build_model(reccur_features=32, dense_features=64):\n",
    "    inpu = K.layers.InputLayer((None, 54))\n",
    "    rnn = K.layers.LSTM(reccur_features)\n",
    "    dense1 = K.layers.Dense(dense_features, kernel_regularizer=tf.keras.regularizers.l2(l2=1e-1))\n",
    "    dense2 = K.layers.Dense(7, activation='softmax')\n",
    "\n",
    "    model = K.Sequential([inpu, rnn, dense1, dense2])\n",
    "    model.compile(optimizer='adam',\n",
    "              loss='categorical_crossentropy',\n",
    "              metrics=['accuracy'])\n",
    "    return model"
   ]
  },
  {
   "cell_type": "code",
   "execution_count": 18,
   "metadata": {},
   "outputs": [],
   "source": [
    "import random\n",
    "results = {}"
   ]
  },
  {
   "cell_type": "code",
   "execution_count": 19,
   "metadata": {
    "scrolled": true
   },
   "outputs": [
    {
     "name": "stdout",
     "output_type": "stream",
     "text": [
      "Epoch 1/16\n",
      "50/50 [==============================] - 2s 17ms/step - loss: 3.6263 - accuracy: 0.3850 - val_loss: 3.1167 - val_accuracy: 0.5000\n",
      "Epoch 2/16\n",
      "50/50 [==============================] - 1s 11ms/step - loss: 2.7724 - accuracy: 0.5150 - val_loss: 2.3731 - val_accuracy: 0.5000\n",
      "Epoch 3/16\n",
      "50/50 [==============================] - 1s 10ms/step - loss: 2.2708 - accuracy: 0.5400 - val_loss: 1.9450 - val_accuracy: 0.5000\n",
      "Epoch 4/16\n",
      "50/50 [==============================] - 1s 10ms/step - loss: 1.8277 - accuracy: 0.5900 - val_loss: 1.6138 - val_accuracy: 0.6250\n",
      "Epoch 5/16\n",
      "50/50 [==============================] - 1s 10ms/step - loss: 1.6834 - accuracy: 0.6050 - val_loss: 1.5994 - val_accuracy: 0.6458\n",
      "Epoch 6/16\n",
      "50/50 [==============================] - 1s 10ms/step - loss: 1.4060 - accuracy: 0.6650 - val_loss: 1.2676 - val_accuracy: 0.6458\n",
      "Epoch 7/16\n",
      "50/50 [==============================] - 0s 10ms/step - loss: 1.2451 - accuracy: 0.7200 - val_loss: 1.1403 - val_accuracy: 0.7083\n",
      "Epoch 8/16\n",
      "50/50 [==============================] - 0s 10ms/step - loss: 1.1038 - accuracy: 0.7200 - val_loss: 1.0420 - val_accuracy: 0.7292\n",
      "Epoch 9/16\n",
      "50/50 [==============================] - 1s 10ms/step - loss: 0.9656 - accuracy: 0.7400 - val_loss: 0.9431 - val_accuracy: 0.7292\n",
      "Epoch 10/16\n",
      "50/50 [==============================] - 1s 10ms/step - loss: 0.9209 - accuracy: 0.7250 - val_loss: 1.0336 - val_accuracy: 0.6667\n",
      "Epoch 11/16\n",
      "50/50 [==============================] - 1s 11ms/step - loss: 0.9291 - accuracy: 0.7250 - val_loss: 1.1964 - val_accuracy: 0.6667\n",
      "Epoch 12/16\n",
      "50/50 [==============================] - 1s 10ms/step - loss: 0.8797 - accuracy: 0.7400 - val_loss: 0.8352 - val_accuracy: 0.6875\n",
      "Epoch 13/16\n",
      "50/50 [==============================] - 1s 10ms/step - loss: 0.7681 - accuracy: 0.7600 - val_loss: 0.8371 - val_accuracy: 0.7083\n",
      "Epoch 14/16\n",
      "50/50 [==============================] - 0s 10ms/step - loss: 0.7187 - accuracy: 0.7700 - val_loss: 0.7746 - val_accuracy: 0.7708\n",
      "Epoch 15/16\n",
      "50/50 [==============================] - 0s 10ms/step - loss: 0.6870 - accuracy: 0.8050 - val_loss: 0.8338 - val_accuracy: 0.7708\n",
      "Epoch 16/16\n",
      "50/50 [==============================] - 1s 10ms/step - loss: 0.6574 - accuracy: 0.8500 - val_loss: 0.7001 - val_accuracy: 0.8333\n",
      "Epoch 1/16\n",
      "50/50 [==============================] - 2s 14ms/step - loss: 4.5750 - accuracy: 0.4950 - val_loss: 3.7897 - val_accuracy: 0.5000\n",
      "Epoch 2/16\n",
      "50/50 [==============================] - 1s 10ms/step - loss: 3.1757 - accuracy: 0.5300 - val_loss: 2.5474 - val_accuracy: 0.5833\n",
      "Epoch 3/16\n",
      "50/50 [==============================] - 1s 10ms/step - loss: 2.2867 - accuracy: 0.6050 - val_loss: 2.0540 - val_accuracy: 0.5417\n",
      "Epoch 4/16\n",
      "50/50 [==============================] - 1s 10ms/step - loss: 1.7413 - accuracy: 0.6750 - val_loss: 1.5373 - val_accuracy: 0.6667\n",
      "Epoch 5/16\n",
      "50/50 [==============================] - 1s 10ms/step - loss: 1.3814 - accuracy: 0.7350 - val_loss: 1.2414 - val_accuracy: 0.6875\n",
      "Epoch 6/16\n",
      "50/50 [==============================] - 1s 10ms/step - loss: 1.0825 - accuracy: 0.7350 - val_loss: 1.0621 - val_accuracy: 0.6667\n",
      "Epoch 7/16\n",
      "50/50 [==============================] - 1s 11ms/step - loss: 1.0409 - accuracy: 0.7100 - val_loss: 1.0017 - val_accuracy: 0.6875\n",
      "Epoch 8/16\n",
      "50/50 [==============================] - 1s 11ms/step - loss: 0.9099 - accuracy: 0.7100 - val_loss: 0.9295 - val_accuracy: 0.7292\n",
      "Epoch 9/16\n",
      "50/50 [==============================] - 1s 10ms/step - loss: 0.8569 - accuracy: 0.7100 - val_loss: 1.5237 - val_accuracy: 0.5000\n",
      "Epoch 10/16\n",
      "50/50 [==============================] - 1s 10ms/step - loss: 1.1768 - accuracy: 0.6300 - val_loss: 0.9426 - val_accuracy: 0.6458\n",
      "Epoch 11/16\n",
      "50/50 [==============================] - 1s 10ms/step - loss: 0.8827 - accuracy: 0.6800 - val_loss: 0.8703 - val_accuracy: 0.7083\n",
      "Epoch 12/16\n",
      "50/50 [==============================] - 1s 12ms/step - loss: 0.8177 - accuracy: 0.7550 - val_loss: 0.8013 - val_accuracy: 0.7292\n",
      "Epoch 13/16\n",
      "50/50 [==============================] - 1s 11ms/step - loss: 0.7480 - accuracy: 0.7700 - val_loss: 0.8215 - val_accuracy: 0.7292\n",
      "Epoch 14/16\n",
      "50/50 [==============================] - 1s 10ms/step - loss: 0.6950 - accuracy: 0.7650 - val_loss: 0.7503 - val_accuracy: 0.7292\n",
      "Epoch 15/16\n",
      "50/50 [==============================] - 1s 10ms/step - loss: 0.6884 - accuracy: 0.7900 - val_loss: 0.6801 - val_accuracy: 0.8333\n",
      "Epoch 16/16\n",
      "50/50 [==============================] - 1s 10ms/step - loss: 0.6367 - accuracy: 0.8350 - val_loss: 0.7642 - val_accuracy: 0.8333\n",
      "Epoch 1/16\n",
      "50/50 [==============================] - 2s 16ms/step - loss: 5.5067 - accuracy: 0.4550 - val_loss: 4.3907 - val_accuracy: 0.5000\n",
      "Epoch 2/16\n",
      "50/50 [==============================] - 0s 10ms/step - loss: 3.6601 - accuracy: 0.5150 - val_loss: 3.0687 - val_accuracy: 0.5000\n",
      "Epoch 3/16\n",
      "50/50 [==============================] - 1s 10ms/step - loss: 2.5222 - accuracy: 0.5500 - val_loss: 2.0352 - val_accuracy: 0.5833\n",
      "Epoch 4/16\n",
      "50/50 [==============================] - 0s 10ms/step - loss: 1.6877 - accuracy: 0.6750 - val_loss: 1.5018 - val_accuracy: 0.6042\n",
      "Epoch 5/16\n",
      "50/50 [==============================] - 1s 10ms/step - loss: 1.2916 - accuracy: 0.7200 - val_loss: 1.1685 - val_accuracy: 0.6458\n",
      "Epoch 6/16\n",
      "50/50 [==============================] - 1s 10ms/step - loss: 1.1785 - accuracy: 0.6850 - val_loss: 1.6732 - val_accuracy: 0.3750\n",
      "Epoch 7/16\n",
      "50/50 [==============================] - 1s 10ms/step - loss: 1.0515 - accuracy: 0.7000 - val_loss: 0.9708 - val_accuracy: 0.6875\n",
      "Epoch 8/16\n",
      "50/50 [==============================] - 1s 10ms/step - loss: 0.9081 - accuracy: 0.7300 - val_loss: 0.9204 - val_accuracy: 0.7292\n",
      "Epoch 9/16\n",
      "50/50 [==============================] - 0s 10ms/step - loss: 0.7800 - accuracy: 0.7600 - val_loss: 0.7918 - val_accuracy: 0.7500\n",
      "Epoch 10/16\n",
      "50/50 [==============================] - 1s 10ms/step - loss: 0.8105 - accuracy: 0.7650 - val_loss: 0.8270 - val_accuracy: 0.7292\n",
      "Epoch 11/16\n",
      "50/50 [==============================] - 1s 10ms/step - loss: 0.7061 - accuracy: 0.7950 - val_loss: 0.7043 - val_accuracy: 0.7708\n",
      "Epoch 12/16\n",
      "50/50 [==============================] - 1s 10ms/step - loss: 0.6598 - accuracy: 0.8450 - val_loss: 0.7300 - val_accuracy: 0.7708\n",
      "Epoch 13/16\n",
      "50/50 [==============================] - 1s 10ms/step - loss: 0.6306 - accuracy: 0.8250 - val_loss: 0.7578 - val_accuracy: 0.7708\n",
      "Epoch 14/16\n",
      "50/50 [==============================] - 1s 10ms/step - loss: 0.5694 - accuracy: 0.8450 - val_loss: 0.7183 - val_accuracy: 0.7292\n",
      "Epoch 15/16\n",
      "50/50 [==============================] - 1s 10ms/step - loss: 0.6090 - accuracy: 0.8350 - val_loss: 0.8315 - val_accuracy: 0.7917\n",
      "Epoch 16/16\n",
      "50/50 [==============================] - 1s 10ms/step - loss: 0.5959 - accuracy: 0.8550 - val_loss: 0.6050 - val_accuracy: 0.8333\n",
      "Epoch 1/16\n",
      "50/50 [==============================] - 2s 14ms/step - loss: 4.9137 - accuracy: 0.4300 - val_loss: 3.9533 - val_accuracy: 0.5000\n",
      "Epoch 2/16\n",
      "50/50 [==============================] - 0s 10ms/step - loss: 3.3538 - accuracy: 0.5150 - val_loss: 2.7465 - val_accuracy: 0.5000\n",
      "Epoch 3/16\n",
      "50/50 [==============================] - 0s 10ms/step - loss: 2.3073 - accuracy: 0.5400 - val_loss: 1.8633 - val_accuracy: 0.5833\n",
      "Epoch 4/16\n",
      "50/50 [==============================] - 0s 10ms/step - loss: 1.6348 - accuracy: 0.6500 - val_loss: 1.4045 - val_accuracy: 0.6667\n",
      "Epoch 5/16\n",
      "50/50 [==============================] - 0s 10ms/step - loss: 1.2994 - accuracy: 0.6550 - val_loss: 1.1460 - val_accuracy: 0.6458\n",
      "Epoch 6/16\n",
      "50/50 [==============================] - 0s 10ms/step - loss: 1.0820 - accuracy: 0.6700 - val_loss: 1.1316 - val_accuracy: 0.6458\n",
      "Epoch 7/16\n",
      "50/50 [==============================] - 0s 10ms/step - loss: 0.9555 - accuracy: 0.6700 - val_loss: 1.1555 - val_accuracy: 0.6667\n",
      "Epoch 8/16\n",
      "50/50 [==============================] - 0s 10ms/step - loss: 0.9136 - accuracy: 0.7050 - val_loss: 0.9618 - val_accuracy: 0.6458\n",
      "Epoch 9/16\n",
      "50/50 [==============================] - 0s 10ms/step - loss: 0.8198 - accuracy: 0.7050 - val_loss: 0.8165 - val_accuracy: 0.7292\n",
      "Epoch 10/16\n",
      "50/50 [==============================] - 0s 10ms/step - loss: 0.7531 - accuracy: 0.7600 - val_loss: 0.7739 - val_accuracy: 0.8125\n"
     ]
    },
    {
     "name": "stdout",
     "output_type": "stream",
     "text": [
      "Epoch 11/16\n",
      "50/50 [==============================] - 0s 10ms/step - loss: 0.9754 - accuracy: 0.6450 - val_loss: 0.8052 - val_accuracy: 0.7083\n",
      "Epoch 12/16\n",
      "50/50 [==============================] - 0s 10ms/step - loss: 0.7542 - accuracy: 0.7600 - val_loss: 0.8376 - val_accuracy: 0.7292\n",
      "Epoch 13/16\n",
      "50/50 [==============================] - 0s 10ms/step - loss: 0.7011 - accuracy: 0.7800 - val_loss: 0.7184 - val_accuracy: 0.6875\n",
      "Epoch 14/16\n",
      "50/50 [==============================] - 0s 10ms/step - loss: 0.6639 - accuracy: 0.7350 - val_loss: 0.8198 - val_accuracy: 0.7292\n",
      "Epoch 15/16\n",
      "50/50 [==============================] - 0s 10ms/step - loss: 0.6889 - accuracy: 0.7450 - val_loss: 0.6522 - val_accuracy: 0.7917\n",
      "Epoch 16/16\n",
      "50/50 [==============================] - 0s 10ms/step - loss: 0.6252 - accuracy: 0.7950 - val_loss: 0.6493 - val_accuracy: 0.7500\n",
      "Epoch 1/16\n",
      "50/50 [==============================] - 2s 13ms/step - loss: 3.8395 - accuracy: 0.4600 - val_loss: 3.2764 - val_accuracy: 0.5000\n",
      "Epoch 2/16\n",
      "50/50 [==============================] - 1s 12ms/step - loss: 2.9265 - accuracy: 0.5150 - val_loss: 2.6098 - val_accuracy: 0.5000\n",
      "Epoch 3/16\n",
      "50/50 [==============================] - 1s 12ms/step - loss: 2.4035 - accuracy: 0.5150 - val_loss: 2.1817 - val_accuracy: 0.5000\n",
      "Epoch 4/16\n",
      "50/50 [==============================] - 1s 11ms/step - loss: 1.8821 - accuracy: 0.5250 - val_loss: 1.6226 - val_accuracy: 0.5417\n",
      "Epoch 5/16\n",
      "50/50 [==============================] - 0s 10ms/step - loss: 1.4914 - accuracy: 0.6550 - val_loss: 1.5190 - val_accuracy: 0.5417\n",
      "Epoch 6/16\n",
      "50/50 [==============================] - 0s 10ms/step - loss: 1.3402 - accuracy: 0.6400 - val_loss: 1.4613 - val_accuracy: 0.5833\n",
      "Epoch 7/16\n",
      "50/50 [==============================] - 0s 10ms/step - loss: 1.3126 - accuracy: 0.6200 - val_loss: 1.1646 - val_accuracy: 0.6042\n",
      "Epoch 8/16\n",
      "50/50 [==============================] - 0s 10ms/step - loss: 1.1080 - accuracy: 0.6600 - val_loss: 1.0848 - val_accuracy: 0.6250\n",
      "Epoch 9/16\n",
      "50/50 [==============================] - 0s 10ms/step - loss: 1.0409 - accuracy: 0.6550 - val_loss: 1.0104 - val_accuracy: 0.6250\n",
      "Epoch 10/16\n",
      "50/50 [==============================] - 0s 10ms/step - loss: 0.9273 - accuracy: 0.6800 - val_loss: 0.9742 - val_accuracy: 0.6875\n",
      "Epoch 11/16\n",
      "50/50 [==============================] - 0s 10ms/step - loss: 0.8843 - accuracy: 0.6700 - val_loss: 0.9574 - val_accuracy: 0.6250\n",
      "Epoch 12/16\n",
      "50/50 [==============================] - 0s 9ms/step - loss: 0.8447 - accuracy: 0.6700 - val_loss: 0.9314 - val_accuracy: 0.6458\n",
      "Epoch 13/16\n",
      "50/50 [==============================] - 0s 10ms/step - loss: 0.7940 - accuracy: 0.7050 - val_loss: 0.8388 - val_accuracy: 0.7292\n",
      "Epoch 14/16\n",
      "50/50 [==============================] - 0s 9ms/step - loss: 0.7547 - accuracy: 0.7100 - val_loss: 0.8771 - val_accuracy: 0.6667\n",
      "Epoch 15/16\n",
      "50/50 [==============================] - 0s 10ms/step - loss: 0.7631 - accuracy: 0.6800 - val_loss: 0.7786 - val_accuracy: 0.7083\n",
      "Epoch 16/16\n",
      "50/50 [==============================] - 0s 9ms/step - loss: 0.7655 - accuracy: 0.7300 - val_loss: 0.7804 - val_accuracy: 0.7500\n",
      "Epoch 1/16\n",
      "50/50 [==============================] - 2s 14ms/step - loss: 4.7433 - accuracy: 0.4900 - val_loss: 3.9245 - val_accuracy: 0.5000\n",
      "Epoch 2/16\n",
      "50/50 [==============================] - 1s 10ms/step - loss: 3.2806 - accuracy: 0.5400 - val_loss: 2.8833 - val_accuracy: 0.5208\n",
      "Epoch 3/16\n",
      "50/50 [==============================] - 1s 10ms/step - loss: 2.2942 - accuracy: 0.5800 - val_loss: 1.9156 - val_accuracy: 0.6667\n",
      "Epoch 4/16\n",
      "50/50 [==============================] - 1s 10ms/step - loss: 1.6987 - accuracy: 0.6850 - val_loss: 1.4806 - val_accuracy: 0.6667\n",
      "Epoch 5/16\n",
      "50/50 [==============================] - 1s 10ms/step - loss: 1.3900 - accuracy: 0.6750 - val_loss: 1.2895 - val_accuracy: 0.6875\n",
      "Epoch 6/16\n",
      "50/50 [==============================] - 1s 11ms/step - loss: 1.1277 - accuracy: 0.7400 - val_loss: 1.1946 - val_accuracy: 0.7083\n",
      "Epoch 7/16\n",
      "50/50 [==============================] - 1s 10ms/step - loss: 1.0040 - accuracy: 0.7400 - val_loss: 1.1074 - val_accuracy: 0.6875\n",
      "Epoch 8/16\n",
      "50/50 [==============================] - 1s 10ms/step - loss: 0.8492 - accuracy: 0.7750 - val_loss: 0.8422 - val_accuracy: 0.7708\n",
      "Epoch 9/16\n",
      "50/50 [==============================] - 1s 10ms/step - loss: 0.7515 - accuracy: 0.8100 - val_loss: 0.7852 - val_accuracy: 0.8125\n",
      "Epoch 10/16\n",
      "50/50 [==============================] - 1s 12ms/step - loss: 0.6235 - accuracy: 0.8450 - val_loss: 0.6555 - val_accuracy: 0.8542\n",
      "Epoch 11/16\n",
      "50/50 [==============================] - 1s 10ms/step - loss: 0.6426 - accuracy: 0.8050 - val_loss: 0.8840 - val_accuracy: 0.7292\n",
      "Epoch 12/16\n",
      "50/50 [==============================] - 1s 12ms/step - loss: 0.6378 - accuracy: 0.8200 - val_loss: 0.7051 - val_accuracy: 0.7708\n",
      "Epoch 13/16\n",
      "50/50 [==============================] - 1s 13ms/step - loss: 0.7461 - accuracy: 0.8100 - val_loss: 0.8332 - val_accuracy: 0.7500\n",
      "Epoch 14/16\n",
      "50/50 [==============================] - 1s 12ms/step - loss: 0.7500 - accuracy: 0.7900 - val_loss: 0.6865 - val_accuracy: 0.8125\n",
      "Epoch 15/16\n",
      "50/50 [==============================] - 1s 11ms/step - loss: 0.5804 - accuracy: 0.8250 - val_loss: 0.7367 - val_accuracy: 0.8125\n",
      "Epoch 16/16\n",
      "50/50 [==============================] - 1s 10ms/step - loss: 0.5573 - accuracy: 0.8250 - val_loss: 0.5649 - val_accuracy: 0.8333\n",
      "Epoch 1/16\n",
      "50/50 [==============================] - 2s 14ms/step - loss: 5.0644 - accuracy: 0.5150 - val_loss: 4.1069 - val_accuracy: 0.5000\n",
      "Epoch 2/16\n",
      "50/50 [==============================] - 0s 10ms/step - loss: 3.4707 - accuracy: 0.5150 - val_loss: 2.7712 - val_accuracy: 0.5000\n",
      "Epoch 3/16\n",
      "50/50 [==============================] - 0s 10ms/step - loss: 2.3414 - accuracy: 0.5450 - val_loss: 2.0644 - val_accuracy: 0.5625\n",
      "Epoch 4/16\n",
      "50/50 [==============================] - 0s 10ms/step - loss: 1.7102 - accuracy: 0.6450 - val_loss: 1.4389 - val_accuracy: 0.6250\n",
      "Epoch 5/16\n",
      "50/50 [==============================] - 1s 10ms/step - loss: 1.3692 - accuracy: 0.6600 - val_loss: 1.1797 - val_accuracy: 0.6667\n",
      "Epoch 6/16\n",
      "50/50 [==============================] - 1s 10ms/step - loss: 1.1350 - accuracy: 0.6800 - val_loss: 1.0013 - val_accuracy: 0.6458\n",
      "Epoch 7/16\n",
      "50/50 [==============================] - 0s 10ms/step - loss: 1.2495 - accuracy: 0.6250 - val_loss: 1.0415 - val_accuracy: 0.6875\n",
      "Epoch 8/16\n",
      "50/50 [==============================] - 1s 10ms/step - loss: 0.9706 - accuracy: 0.7050 - val_loss: 0.9178 - val_accuracy: 0.7083\n",
      "Epoch 9/16\n",
      "50/50 [==============================] - 0s 10ms/step - loss: 0.8994 - accuracy: 0.7150 - val_loss: 0.8960 - val_accuracy: 0.6875\n",
      "Epoch 10/16\n",
      "50/50 [==============================] - 1s 10ms/step - loss: 0.8552 - accuracy: 0.6900 - val_loss: 0.8312 - val_accuracy: 0.6875\n",
      "Epoch 11/16\n",
      "50/50 [==============================] - 0s 10ms/step - loss: 0.7668 - accuracy: 0.6900 - val_loss: 0.7343 - val_accuracy: 0.7292\n",
      "Epoch 12/16\n",
      "50/50 [==============================] - 0s 10ms/step - loss: 0.7045 - accuracy: 0.7900 - val_loss: 0.7386 - val_accuracy: 0.6667\n",
      "Epoch 13/16\n",
      "50/50 [==============================] - 0s 10ms/step - loss: 0.6893 - accuracy: 0.7800 - val_loss: 0.6880 - val_accuracy: 0.7708\n",
      "Epoch 14/16\n",
      "50/50 [==============================] - 0s 10ms/step - loss: 0.6871 - accuracy: 0.7950 - val_loss: 0.6607 - val_accuracy: 0.8333\n",
      "Epoch 15/16\n",
      "50/50 [==============================] - 0s 10ms/step - loss: 0.6638 - accuracy: 0.8100 - val_loss: 0.6692 - val_accuracy: 0.7292\n",
      "Epoch 16/16\n",
      "50/50 [==============================] - 0s 10ms/step - loss: 0.6387 - accuracy: 0.8200 - val_loss: 0.8682 - val_accuracy: 0.7708\n",
      "Epoch 1/16\n",
      "50/50 [==============================] - 2s 14ms/step - loss: 5.7997 - accuracy: 0.5100 - val_loss: 4.4884 - val_accuracy: 0.5000\n",
      "Epoch 2/16\n",
      "50/50 [==============================] - 1s 10ms/step - loss: 3.5478 - accuracy: 0.5300 - val_loss: 2.6520 - val_accuracy: 0.5833\n",
      "Epoch 3/16\n",
      "50/50 [==============================] - 1s 10ms/step - loss: 2.2266 - accuracy: 0.6350 - val_loss: 1.9404 - val_accuracy: 0.6042\n",
      "Epoch 4/16\n",
      "50/50 [==============================] - 1s 11ms/step - loss: 1.6844 - accuracy: 0.6200 - val_loss: 1.4155 - val_accuracy: 0.6250\n"
     ]
    },
    {
     "name": "stdout",
     "output_type": "stream",
     "text": [
      "Epoch 5/16\n",
      "50/50 [==============================] - 1s 11ms/step - loss: 1.2635 - accuracy: 0.6600 - val_loss: 1.1557 - val_accuracy: 0.6250\n",
      "Epoch 6/16\n",
      "50/50 [==============================] - 1s 10ms/step - loss: 0.9573 - accuracy: 0.7150 - val_loss: 0.8924 - val_accuracy: 0.6250\n",
      "Epoch 7/16\n",
      "50/50 [==============================] - 1s 10ms/step - loss: 0.8187 - accuracy: 0.7300 - val_loss: 0.8613 - val_accuracy: 0.6042\n",
      "Epoch 8/16\n",
      "50/50 [==============================] - 1s 11ms/step - loss: 0.7860 - accuracy: 0.7300 - val_loss: 0.8664 - val_accuracy: 0.6667\n",
      "Epoch 9/16\n",
      "50/50 [==============================] - 1s 11ms/step - loss: 0.7612 - accuracy: 0.6950 - val_loss: 0.7266 - val_accuracy: 0.7083\n",
      "Epoch 10/16\n",
      "50/50 [==============================] - 1s 10ms/step - loss: 0.7506 - accuracy: 0.7200 - val_loss: 0.7899 - val_accuracy: 0.7292\n",
      "Epoch 11/16\n",
      "50/50 [==============================] - 1s 10ms/step - loss: 0.6432 - accuracy: 0.7600 - val_loss: 0.6952 - val_accuracy: 0.7083\n",
      "Epoch 12/16\n",
      "50/50 [==============================] - 1s 11ms/step - loss: 0.6772 - accuracy: 0.7550 - val_loss: 0.7077 - val_accuracy: 0.7292\n",
      "Epoch 13/16\n",
      "50/50 [==============================] - 1s 10ms/step - loss: 0.6459 - accuracy: 0.7600 - val_loss: 0.7579 - val_accuracy: 0.7292\n",
      "Epoch 14/16\n",
      "50/50 [==============================] - 1s 11ms/step - loss: 0.6493 - accuracy: 0.7800 - val_loss: 0.7575 - val_accuracy: 0.7500\n",
      "Epoch 15/16\n",
      "50/50 [==============================] - 1s 10ms/step - loss: 0.6011 - accuracy: 0.8050 - val_loss: 0.6907 - val_accuracy: 0.7500\n",
      "Epoch 16/16\n",
      "50/50 [==============================] - 1s 10ms/step - loss: 0.5858 - accuracy: 0.8050 - val_loss: 0.6619 - val_accuracy: 0.7708\n"
     ]
    }
   ],
   "source": [
    "RF = [n for n in range(8, 64)]\n",
    "DF = [n for n in range(8, 64)]\n",
    "\n",
    "for i in range(8):\n",
    "    rf = random.choice(RF)\n",
    "    df = random.choice(DF)\n",
    "    model = build_model(rf, df)\n",
    "    history = model.fit(X_train, y_train, validation_data=(X_test, y_test), batch_size=4, epochs=16)\n",
    "    results[(rf, df)] = history.history['val_accuracy'][-1]"
   ]
  },
  {
   "cell_type": "code",
   "execution_count": 20,
   "metadata": {},
   "outputs": [
    {
     "data": {
      "text/plain": [
       "Text(0.5, 1.0, 'Val accuracy')"
      ]
     },
     "execution_count": 20,
     "metadata": {},
     "output_type": "execute_result"
    },
    {
     "data": {
      "image/png": "[encoded data removed]",
      "text/plain": [
       "<Figure size 720x720 with 2 Axes>"
      ]
     },
     "metadata": {
      "needs_background": "light"
     },
     "output_type": "display_data"
    }
   ],
   "source": [
    "plt.figure(figsize=(10, 10))\n",
    "x_scatter = [x[0] for x in results]\n",
    "y_scatter = [x[1] for x in results]\n",
    "\n",
    "marker_size = 100\n",
    "colors = [results[x] for x in results]\n",
    "plt.tight_layout(pad=3)\n",
    "plt.scatter(x_scatter, y_scatter, marker_size, c=colors, cmap=plt.cm.coolwarm)\n",
    "plt.colorbar()\n",
    "plt.xlabel('LSTM features')\n",
    "plt.ylabel('Dense features')\n",
    "plt.title('Val accuracy')"
   ]
  },
  {
   "cell_type": "code",
   "execution_count": 21,
   "metadata": {},
   "outputs": [],
   "source": [
    "best = list(sorted(results.items(), key=lambda item: item[1]))[-1][0]"
   ]
  },
  {
   "cell_type": "code",
   "execution_count": 22,
   "metadata": {},
   "outputs": [],
   "source": [
    "model = build_model(*best)"
   ]
  },
  {
   "cell_type": "code",
   "execution_count": 23,
   "metadata": {
    "scrolled": true
   },
   "outputs": [
    {
     "name": "stdout",
     "output_type": "stream",
     "text": [
      "Epoch 1/64\n",
      "50/50 [==============================] - 2s 14ms/step - loss: 4.6607 - accuracy: 0.4750 - val_loss: 3.9234 - val_accuracy: 0.5000\n",
      "Epoch 2/64\n",
      "50/50 [==============================] - 1s 11ms/step - loss: 3.2954 - accuracy: 0.5250 - val_loss: 2.6973 - val_accuracy: 0.5833\n",
      "Epoch 3/64\n",
      "50/50 [==============================] - 1s 11ms/step - loss: 2.3557 - accuracy: 0.6250 - val_loss: 1.9721 - val_accuracy: 0.5833\n",
      "Epoch 4/64\n",
      "50/50 [==============================] - 1s 11ms/step - loss: 1.7566 - accuracy: 0.6300 - val_loss: 1.5228 - val_accuracy: 0.6042\n",
      "Epoch 5/64\n",
      "50/50 [==============================] - 1s 11ms/step - loss: 1.3802 - accuracy: 0.6800 - val_loss: 1.3002 - val_accuracy: 0.5833\n",
      "Epoch 6/64\n",
      "50/50 [==============================] - 1s 13ms/step - loss: 1.2153 - accuracy: 0.6500 - val_loss: 1.0796 - val_accuracy: 0.6667\n",
      "Epoch 7/64\n",
      "50/50 [==============================] - 1s 11ms/step - loss: 1.1096 - accuracy: 0.7100 - val_loss: 0.9609 - val_accuracy: 0.7708\n",
      "Epoch 8/64\n",
      "50/50 [==============================] - 1s 11ms/step - loss: 0.8810 - accuracy: 0.7900 - val_loss: 0.8470 - val_accuracy: 0.7500\n",
      "Epoch 9/64\n",
      "50/50 [==============================] - 1s 11ms/step - loss: 0.7749 - accuracy: 0.7900 - val_loss: 1.0853 - val_accuracy: 0.6250\n",
      "Epoch 10/64\n",
      "50/50 [==============================] - 1s 11ms/step - loss: 0.8213 - accuracy: 0.7400 - val_loss: 0.7329 - val_accuracy: 0.7917\n",
      "Epoch 11/64\n",
      "50/50 [==============================] - 1s 11ms/step - loss: 0.7507 - accuracy: 0.8000 - val_loss: 0.6053 - val_accuracy: 0.8750\n",
      "Epoch 12/64\n",
      "50/50 [==============================] - 1s 12ms/step - loss: 0.6483 - accuracy: 0.8200 - val_loss: 0.6765 - val_accuracy: 0.8125\n",
      "Epoch 13/64\n",
      "50/50 [==============================] - 1s 11ms/step - loss: 0.8609 - accuracy: 0.7250 - val_loss: 0.7084 - val_accuracy: 0.7708\n",
      "Epoch 14/64\n",
      "50/50 [==============================] - 1s 11ms/step - loss: 0.6759 - accuracy: 0.8150 - val_loss: 0.8207 - val_accuracy: 0.7292\n",
      "Epoch 15/64\n",
      "50/50 [==============================] - 1s 10ms/step - loss: 0.5929 - accuracy: 0.8500 - val_loss: 0.5104 - val_accuracy: 0.8958\n",
      "Epoch 16/64\n",
      "50/50 [==============================] - 1s 10ms/step - loss: 0.4798 - accuracy: 0.8950 - val_loss: 0.4918 - val_accuracy: 0.8958\n",
      "Epoch 17/64\n",
      "50/50 [==============================] - 1s 11ms/step - loss: 0.4646 - accuracy: 0.9150 - val_loss: 0.4688 - val_accuracy: 0.9167\n",
      "Epoch 18/64\n",
      "50/50 [==============================] - 1s 11ms/step - loss: 0.4505 - accuracy: 0.8800 - val_loss: 0.4708 - val_accuracy: 0.8958\n",
      "Epoch 19/64\n",
      "50/50 [==============================] - 1s 11ms/step - loss: 0.5279 - accuracy: 0.8600 - val_loss: 0.5158 - val_accuracy: 0.8542\n",
      "Epoch 20/64\n",
      "50/50 [==============================] - 1s 10ms/step - loss: 0.4231 - accuracy: 0.8800 - val_loss: 0.3863 - val_accuracy: 0.8750\n",
      "Epoch 21/64\n",
      "50/50 [==============================] - 1s 11ms/step - loss: 0.5187 - accuracy: 0.8750 - val_loss: 0.5542 - val_accuracy: 0.9167\n",
      "Epoch 22/64\n",
      "50/50 [==============================] - 1s 11ms/step - loss: 0.4386 - accuracy: 0.9050 - val_loss: 0.5230 - val_accuracy: 0.8333\n",
      "Epoch 23/64\n",
      "50/50 [==============================] - 1s 11ms/step - loss: 0.4093 - accuracy: 0.9000 - val_loss: 0.4038 - val_accuracy: 0.8958\n",
      "Epoch 24/64\n",
      "50/50 [==============================] - 1s 11ms/step - loss: 0.3968 - accuracy: 0.9250 - val_loss: 0.4057 - val_accuracy: 0.8750\n",
      "Epoch 25/64\n",
      "50/50 [==============================] - 1s 11ms/step - loss: 0.3693 - accuracy: 0.9150 - val_loss: 0.3436 - val_accuracy: 0.8750\n",
      "Epoch 26/64\n",
      "50/50 [==============================] - 1s 11ms/step - loss: 0.3441 - accuracy: 0.9150 - val_loss: 0.4495 - val_accuracy: 0.8958\n",
      "Epoch 27/64\n",
      "50/50 [==============================] - 1s 11ms/step - loss: 0.5835 - accuracy: 0.8350 - val_loss: 0.5848 - val_accuracy: 0.8542\n",
      "Epoch 28/64\n",
      "50/50 [==============================] - 1s 11ms/step - loss: 0.4533 - accuracy: 0.9050 - val_loss: 0.3677 - val_accuracy: 0.9583\n",
      "Epoch 29/64\n",
      "50/50 [==============================] - 1s 11ms/step - loss: 0.3528 - accuracy: 0.9450 - val_loss: 0.3329 - val_accuracy: 0.9375\n",
      "Epoch 30/64\n",
      "50/50 [==============================] - 1s 11ms/step - loss: 0.3206 - accuracy: 0.9500 - val_loss: 0.3075 - val_accuracy: 0.9167\n",
      "Epoch 31/64\n",
      "50/50 [==============================] - 1s 10ms/step - loss: 0.3558 - accuracy: 0.9250 - val_loss: 0.6951 - val_accuracy: 0.7708\n",
      "Epoch 32/64\n",
      "50/50 [==============================] - 1s 11ms/step - loss: 0.8371 - accuracy: 0.7700 - val_loss: 0.5501 - val_accuracy: 0.8333\n",
      "Epoch 33/64\n",
      "50/50 [==============================] - 1s 10ms/step - loss: 0.5092 - accuracy: 0.8900 - val_loss: 0.5944 - val_accuracy: 0.8333\n",
      "Epoch 34/64\n",
      "50/50 [==============================] - 1s 10ms/step - loss: 0.3677 - accuracy: 0.9200 - val_loss: 0.4370 - val_accuracy: 0.8958\n",
      "Epoch 35/64\n",
      "50/50 [==============================] - 1s 10ms/step - loss: 0.3169 - accuracy: 0.9350 - val_loss: 0.4918 - val_accuracy: 0.8958\n",
      "Epoch 36/64\n",
      "50/50 [==============================] - 1s 11ms/step - loss: 0.2990 - accuracy: 0.9200 - val_loss: 0.4958 - val_accuracy: 0.9167\n",
      "Epoch 37/64\n",
      "50/50 [==============================] - 1s 10ms/step - loss: 0.2722 - accuracy: 0.9550 - val_loss: 0.4288 - val_accuracy: 0.9375\n",
      "Epoch 38/64\n",
      "50/50 [==============================] - 1s 11ms/step - loss: 0.2612 - accuracy: 0.9600 - val_loss: 0.4520 - val_accuracy: 0.8958\n",
      "Epoch 39/64\n",
      "50/50 [==============================] - 1s 11ms/step - loss: 0.3091 - accuracy: 0.9100 - val_loss: 0.6451 - val_accuracy: 0.8333\n",
      "Epoch 40/64\n",
      "50/50 [==============================] - 1s 11ms/step - loss: 0.3152 - accuracy: 0.9300 - val_loss: 0.4579 - val_accuracy: 0.8958\n",
      "Epoch 41/64\n",
      "50/50 [==============================] - 1s 10ms/step - loss: 0.2897 - accuracy: 0.9400 - val_loss: 0.5994 - val_accuracy: 0.8125\n",
      "Epoch 42/64\n",
      "50/50 [==============================] - 1s 11ms/step - loss: 0.4764 - accuracy: 0.8850 - val_loss: 0.5469 - val_accuracy: 0.8333\n",
      "Epoch 43/64\n",
      "50/50 [==============================] - 1s 11ms/step - loss: 0.4035 - accuracy: 0.9000 - val_loss: 0.4807 - val_accuracy: 0.8958\n",
      "Epoch 44/64\n",
      "50/50 [==============================] - 1s 11ms/step - loss: 0.3197 - accuracy: 0.9350 - val_loss: 0.4107 - val_accuracy: 0.8958\n",
      "Epoch 45/64\n",
      "50/50 [==============================] - 1s 11ms/step - loss: 0.2488 - accuracy: 0.9650 - val_loss: 0.3951 - val_accuracy: 0.8750\n",
      "Epoch 46/64\n",
      "50/50 [==============================] - 1s 10ms/step - loss: 0.2876 - accuracy: 0.9300 - val_loss: 0.3921 - val_accuracy: 0.8958\n",
      "Epoch 47/64\n",
      "50/50 [==============================] - 1s 11ms/step - loss: 0.2404 - accuracy: 0.9700 - val_loss: 0.3480 - val_accuracy: 0.8958\n",
      "Epoch 48/64\n",
      "50/50 [==============================] - 1s 11ms/step - loss: 0.2659 - accuracy: 0.9350 - val_loss: 0.4669 - val_accuracy: 0.8958\n",
      "Epoch 49/64\n",
      "50/50 [==============================] - 1s 11ms/step - loss: 0.2034 - accuracy: 0.9750 - val_loss: 0.3628 - val_accuracy: 0.8958\n",
      "Epoch 50/64\n",
      "50/50 [==============================] - 1s 11ms/step - loss: 0.2256 - accuracy: 0.9600 - val_loss: 0.4086 - val_accuracy: 0.9167\n",
      "Epoch 51/64\n",
      "50/50 [==============================] - 1s 11ms/step - loss: 0.1922 - accuracy: 0.9750 - val_loss: 0.4410 - val_accuracy: 0.8958\n",
      "Epoch 52/64\n",
      "50/50 [==============================] - 1s 10ms/step - loss: 0.1694 - accuracy: 0.9900 - val_loss: 0.4135 - val_accuracy: 0.9167\n",
      "Epoch 53/64\n",
      "50/50 [==============================] - 1s 11ms/step - loss: 0.1756 - accuracy: 0.9750 - val_loss: 0.4135 - val_accuracy: 0.8750\n",
      "Epoch 54/64\n",
      "50/50 [==============================] - 1s 11ms/step - loss: 0.1767 - accuracy: 0.9850 - val_loss: 0.4696 - val_accuracy: 0.9167\n",
      "Epoch 55/64\n",
      "50/50 [==============================] - 1s 11ms/step - loss: 0.2558 - accuracy: 0.9550 - val_loss: 0.5332 - val_accuracy: 0.8125\n",
      "Epoch 56/64\n",
      "50/50 [==============================] - 1s 11ms/step - loss: 0.2253 - accuracy: 0.9500 - val_loss: 0.3905 - val_accuracy: 0.8958\n",
      "Epoch 57/64\n",
      "50/50 [==============================] - 1s 10ms/step - loss: 0.1820 - accuracy: 0.9700 - val_loss: 0.5897 - val_accuracy: 0.7917\n",
      "Epoch 58/64\n",
      "50/50 [==============================] - 1s 11ms/step - loss: 0.4825 - accuracy: 0.8600 - val_loss: 0.3290 - val_accuracy: 0.9375\n"
     ]
    },
    {
     "name": "stdout",
     "output_type": "stream",
     "text": [
      "Epoch 59/64\n",
      "50/50 [==============================] - 1s 13ms/step - loss: 0.2277 - accuracy: 0.9600 - val_loss: 0.2810 - val_accuracy: 0.9167\n",
      "Epoch 60/64\n",
      "50/50 [==============================] - 1s 11ms/step - loss: 0.1723 - accuracy: 0.9950 - val_loss: 0.2804 - val_accuracy: 0.9375\n",
      "Epoch 61/64\n",
      "50/50 [==============================] - 1s 11ms/step - loss: 0.1556 - accuracy: 0.9900 - val_loss: 0.3889 - val_accuracy: 0.8333\n",
      "Epoch 62/64\n",
      "50/50 [==============================] - 1s 11ms/step - loss: 0.1541 - accuracy: 0.9850 - val_loss: 0.2672 - val_accuracy: 0.9375\n",
      "Epoch 63/64\n",
      "50/50 [==============================] - 1s 10ms/step - loss: 0.1693 - accuracy: 0.9750 - val_loss: 0.2196 - val_accuracy: 0.9792\n",
      "Epoch 64/64\n",
      "50/50 [==============================] - 1s 11ms/step - loss: 0.1431 - accuracy: 0.9850 - val_loss: 0.3251 - val_accuracy: 0.9167\n"
     ]
    }
   ],
   "source": [
    "history = model.fit(X_train, y_train, validation_data=(X_test, y_test), batch_size=4, epochs=64)"
   ]
  },
  {
   "cell_type": "code",
   "execution_count": 24,
   "metadata": {},
   "outputs": [
    {
     "data": {
      "text/plain": [
       "[<matplotlib.lines.Line2D at 0x7f7b29226be0>]"
      ]
     },
     "execution_count": 24,
     "metadata": {},
     "output_type": "execute_result"
    },
    {
     "data": {
      "image/png": "[encoded data removed]",
      "text/plain": [
       "<Figure size 1080x504 with 2 Axes>"
      ]
     },
     "metadata": {
      "needs_background": "light"
     },
     "output_type": "display_data"
    }
   ],
   "source": [
    "plt.figure(figsize=(15, 7))\n",
    "plt.subplot(221)\n",
    "plt.title(\"Train Loss\")\n",
    "plt.plot(history.history['loss'])\n",
    "plt.subplot(222)\n",
    "plt.title(\"Train/validation accuracy\")\n",
    "plt.plot(history.history['accuracy'])\n",
    "plt.plot(history.history['val_accuracy'])"
   ]
  },
  {
   "cell_type": "code",
   "execution_count": null,
   "metadata": {},
   "outputs": [],
   "source": []
  },
  {
   "cell_type": "code",
   "execution_count": null,
   "metadata": {},
   "outputs": [],
   "source": []
  },
  {
   "cell_type": "code",
   "execution_count": null,
   "metadata": {},
   "outputs": [],
   "source": []
  }
 ],
 "metadata": {
  "kernelspec": {
   "display_name": "Python 3",
   "language": "python",
   "name": "python3"
  },
  "language_info": {
   "codemirror_mode": {
    "name": "ipython",
    "version": 3
   },
   "file_extension": ".py",
   "mimetype": "text/x-python",
   "name": "python",
   "nbconvert_exporter": "python",
   "pygments_lexer": "ipython3",
   "version": "3.6.9"
  }
 },
 "nbformat": 4,
 "nbformat_minor": 2
}
