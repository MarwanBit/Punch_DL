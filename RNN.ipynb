{
 "cells": [
  {
   "cell_type": "markdown",
   "metadata": {},
   "source": [
    "# Load data"
   ]
  },
  {
   "cell_type": "code",
   "execution_count": 1,
   "metadata": {},
   "outputs": [],
   "source": [
    "import re\n",
    "import numpy as np\n",
    "import matplotlib.pyplot as plt\n",
    "\n",
    "import tensorflow as tf\n",
    "import tensorflow.keras as K"
   ]
  },
  {
   "cell_type": "code",
   "execution_count": 38,
   "metadata": {},
   "outputs": [],
   "source": [
    "def read_data(name):\n",
    "    X_train, y_train = [], []\n",
    "    X_test, y_test = [], []\n",
    "    X = np.load(f'data/keypoints/{name}.npy').reshape((-1, 51))\n",
    "    with open(f'data/labels/{name}') as f:\n",
    "        labels = f.readlines()\n",
    "\n",
    "    N = int(re.findall(r'\\d+', labels[0])[0])\n",
    "    assert N == X.shape[0]\n",
    "\n",
    "    end = 0\n",
    "\n",
    "    for lab in labels:\n",
    "        C = re.findall(r'\\d:', lab)\n",
    "        if len(C) == 1:\n",
    "            C = int(C[0][0])\n",
    "\n",
    "        idxs = re.findall(r'\\d+-\\d+', lab)\n",
    "        if len(idxs) > 1:  \n",
    "            print()\n",
    "            print(f'Add label [{C}] to train samples')\n",
    "            for idx in idxs[:-1]:\n",
    "                start, stop = idx.split('-')\n",
    "                start, stop = int(start), int(stop)\n",
    "\n",
    "                X_train.append(X[end:start])\n",
    "                y_train.append(0)\n",
    "\n",
    "                X_train.append(X[start:stop])\n",
    "                y_train.append(C)        \n",
    "                print(idx, end='\\t')\n",
    "\n",
    "                end = stop\n",
    "            \n",
    "            print()\n",
    "            print(f'Add label [{C}] to test samples')\n",
    "            idx = idxs[-1]\n",
    "            start, stop = idx.split('-')\n",
    "            start, stop = int(start), int(stop)\n",
    "\n",
    "            X_test.append(X[end:start])\n",
    "            y_test.append(0)\n",
    "            \n",
    "            print(idx, end='\\t')\n",
    "            X_test.append(X[start:stop])\n",
    "            y_test.append(C)        \n",
    "\n",
    "            end = stop\n",
    "\n",
    "    X_train.append(X[end:-1])\n",
    "    y_train.append(0)\n",
    "    \n",
    "    return X_train, y_train, X_test, y_test"
   ]
  },
  {
   "cell_type": "code",
   "execution_count": 39,
   "metadata": {
    "scrolled": true
   },
   "outputs": [
    {
     "name": "stdout",
     "output_type": "stream",
     "text": [
      "\n",
      "Add label [1] to train samples\n",
      "5-30\t42-70\t88-115\t130-154\t\n",
      "Add label [1] to test samples\n",
      "170-200\t\n",
      "Add label [2] to train samples\n",
      "220-247\t268-293\t315-340\t365-387\t\n",
      "Add label [2] to test samples\n",
      "417-436\t\n",
      "Add label [1] to train samples\n",
      "465-493\t515-538\t560-583\t605-625\t\n",
      "Add label [1] to test samples\n",
      "650-675\t\n",
      "Add label [2] to train samples\n",
      "696-715\t742-762\t787-807\t833-850\t\n",
      "Add label [2] to test samples\n",
      "878-895\t\n",
      "Add label [1] to train samples\n",
      "19-39\t68-89\t107-147\t156-190\t\n",
      "Add label [1] to test samples\n",
      "215-243\t\n",
      "Add label [2] to train samples\n",
      "266-288\t317-334\t361-382\t413-433\t\n",
      "Add label [2] to test samples\n",
      "462-482\t\n",
      "Add label [1] to train samples\n",
      "564-578\t600-615\t639-657\t680-695\t\n",
      "Add label [1] to test samples\n",
      "720-737\t\n",
      "Add label [2] to train samples\n",
      "764-778\t802-817\t840-857\t884-898\t\n",
      "Add label [2] to test samples\n",
      "924-939\t\n",
      "Add label [3] to train samples\n",
      "1-22\t45-70\t92-117\t141-164\t\n",
      "Add label [3] to test samples\n",
      "202-225\t\n",
      "Add label [4] to train samples\n",
      "275-300\t319-344\t372-395\t430-455\t\n",
      "Add label [4] to test samples\n",
      "489-515\t\n",
      "Add label [3] to train samples\n",
      "570-586\t615-636\t662-682\t710-730\t\n",
      "Add label [3] to test samples\n",
      "763-783\t\n",
      "Add label [4] to train samples\n",
      "826-843\t874-891\t921-939\t981-1000\t\n",
      "Add label [4] to test samples\n",
      "1038-1057\t\n",
      "Add label [3] to train samples\n",
      "21-43\t65-85\t113-133\t160-180\t\n",
      "Add label [3] to test samples\n",
      "212-227\t\n",
      "Add label [4] to train samples\n",
      "263-283\t314-334\t366-389\t418-438\t\n",
      "Add label [4] to test samples\n",
      "469-489\t\n",
      "Add label [3] to train samples\n",
      "537-558\t582-602\t629-649\t674-697\t\n",
      "Add label [3] to test samples\n",
      "750-770\t\n",
      "Add label [4] to train samples\n",
      "806-824\t849-869\t894-918\t948-966\t\n",
      "Add label [4] to test samples\n",
      "992-1012\t\n",
      "Add label [5] to train samples\n",
      "66-86\t110-130\t164-184\t213-233\t262-282\t\n",
      "Add label [5] to test samples\n",
      "318-338\t\n",
      "Add label [6] to train samples\n",
      "372-392\t420-440\t475-495\t525-545\t\n",
      "Add label [6] to test samples\n",
      "570-590\t\n",
      "Add label [5] to train samples\n",
      "685-700\t730-750\t785-802\t833-853\t\n",
      "Add label [5] to test samples\n",
      "887-907\t\n",
      "Add label [6] to train samples\n",
      "949-963\t991-1006\t1036-1053\t1086-1102\t\n",
      "Add label [6] to test samples\n",
      "1134-1151\t\n",
      "Add label [5] to train samples\n",
      "110-128\t155-170\t209-226\t262-276\t\n",
      "Add label [5] to test samples\n",
      "314-329\t\n",
      "Add label [6] to train samples\n",
      "368-380\t415-432\t458-475\t505-522\t\n",
      "Add label [6] to test samples\n",
      "556-575\t\n",
      "Add label [5] to train samples\n",
      "685-700\t733-749\t786-801\t834-851\t\n",
      "Add label [5] to test samples\n",
      "887-900\t\n",
      "Add label [6] to train samples\n",
      "942-957\t984-1002\t1030-1047\t1071-1087\t\n",
      "Add label [6] to test samples\n",
      "1115-1133\t"
     ]
    }
   ],
   "source": [
    "X_train, y_train, X_test, y_test = [], [], [], []\n",
    "\n",
    "FILE_NAMES = ['id0_jab_1',  'id0_jab_2', \n",
    "              'id0_hook_1', 'id0_hook_2',\n",
    "              'id0_uper_1', 'id0_uper_2']\n",
    "\n",
    "for name in FILE_NAMES:\n",
    "    x1, y1, x2, y2 = read_data(name)\n",
    "\n",
    "    X_train += x1\n",
    "    y_train += y1\n",
    "    X_test += x2\n",
    "    y_test += y2"
   ]
  },
  {
   "cell_type": "code",
   "execution_count": 40,
   "metadata": {},
   "outputs": [
    {
     "data": {
      "text/plain": [
       "(200, 48)"
      ]
     },
     "execution_count": 40,
     "metadata": {},
     "output_type": "execute_result"
    }
   ],
   "source": [
    "len(X_train), len(X_test)"
   ]
  },
  {
   "cell_type": "code",
   "execution_count": 41,
   "metadata": {},
   "outputs": [],
   "source": [
    "y_train = K.utils.to_categorical(y_train, num_classes=7)\n",
    "X_train = tf.ragged.constant(X_train)\n",
    "\n",
    "y_test = K.utils.to_categorical(y_test, num_classes=7)\n",
    "X_test = tf.ragged.constant(X_test)"
   ]
  },
  {
   "cell_type": "markdown",
   "metadata": {},
   "source": [
    "## Simple RNN "
   ]
  },
  {
   "cell_type": "code",
   "execution_count": 58,
   "metadata": {},
   "outputs": [],
   "source": [
    "inpu = K.layers.InputLayer((None, 51), batch_size=1)\n",
    "rnn = K.layers.SimpleRNN(32, stateful=True)\n",
    "dense1 = K.layers.Dense(64)\n",
    "dense2 = K.layers.Dense(7, activation='softmax')\n",
    "\n",
    "model = K.Sequential([inpu, rnn, dense1, dense2])"
   ]
  },
  {
   "cell_type": "code",
   "execution_count": 59,
   "metadata": {},
   "outputs": [],
   "source": [
    "model.compile(optimizer='adam',\n",
    "              loss='categorical_crossentropy',\n",
    "              metrics=['accuracy'])"
   ]
  },
  {
   "cell_type": "code",
   "execution_count": 60,
   "metadata": {
    "scrolled": true
   },
   "outputs": [
    {
     "name": "stdout",
     "output_type": "stream",
     "text": [
      "Model: \"sequential_2\"\n",
      "_________________________________________________________________\n",
      "Layer (type)                 Output Shape              Param #   \n",
      "=================================================================\n",
      "simple_rnn_1 (SimpleRNN)     (1, 32)                   2688      \n",
      "_________________________________________________________________\n",
      "dense_4 (Dense)              (1, 64)                   2112      \n",
      "_________________________________________________________________\n",
      "dense_5 (Dense)              (1, 7)                    455       \n",
      "=================================================================\n",
      "Total params: 5,255\n",
      "Trainable params: 5,255\n",
      "Non-trainable params: 0\n",
      "_________________________________________________________________\n"
     ]
    }
   ],
   "source": [
    "model.summary()"
   ]
  },
  {
   "cell_type": "code",
   "execution_count": 61,
   "metadata": {
    "scrolled": true
   },
   "outputs": [
    {
     "name": "stdout",
     "output_type": "stream",
     "text": [
      "Epoch 1/50\n",
      "200/200 [==============================] - 2s 6ms/step - loss: 1.6893 - accuracy: 0.5000 - val_loss: 1.6341 - val_accuracy: 0.5000\n",
      "Epoch 2/50\n",
      "200/200 [==============================] - 1s 4ms/step - loss: 1.6158 - accuracy: 0.5050 - val_loss: 1.6281 - val_accuracy: 0.5000\n",
      "Epoch 3/50\n",
      "200/200 [==============================] - 1s 4ms/step - loss: 1.6153 - accuracy: 0.5150 - val_loss: 1.7339 - val_accuracy: 0.5000\n",
      "Epoch 4/50\n",
      "200/200 [==============================] - 1s 4ms/step - loss: 1.6047 - accuracy: 0.5150 - val_loss: 1.5523 - val_accuracy: 0.5000\n",
      "Epoch 5/50\n",
      "200/200 [==============================] - 1s 4ms/step - loss: 1.5321 - accuracy: 0.5150 - val_loss: 1.4610 - val_accuracy: 0.5000\n",
      "Epoch 6/50\n",
      "200/200 [==============================] - 1s 4ms/step - loss: 1.4335 - accuracy: 0.5200 - val_loss: 1.5502 - val_accuracy: 0.4583\n",
      "Epoch 7/50\n",
      "200/200 [==============================] - 1s 4ms/step - loss: 1.5198 - accuracy: 0.5300 - val_loss: 1.6677 - val_accuracy: 0.5000\n",
      "Epoch 8/50\n",
      "200/200 [==============================] - 1s 4ms/step - loss: 1.4541 - accuracy: 0.5250 - val_loss: 1.5859 - val_accuracy: 0.5000\n",
      "Epoch 9/50\n",
      "200/200 [==============================] - 1s 5ms/step - loss: 1.4101 - accuracy: 0.5100 - val_loss: 1.4417 - val_accuracy: 0.5000\n",
      "Epoch 10/50\n",
      "200/200 [==============================] - 1s 4ms/step - loss: 1.3041 - accuracy: 0.5350 - val_loss: 1.5276 - val_accuracy: 0.5000\n",
      "Epoch 11/50\n",
      "200/200 [==============================] - 1s 4ms/step - loss: 1.2757 - accuracy: 0.5700 - val_loss: 1.2686 - val_accuracy: 0.6250\n",
      "Epoch 12/50\n",
      "200/200 [==============================] - 1s 4ms/step - loss: 1.1436 - accuracy: 0.5900 - val_loss: 1.4973 - val_accuracy: 0.5417\n",
      "Epoch 13/50\n",
      "200/200 [==============================] - 1s 4ms/step - loss: 1.2180 - accuracy: 0.5400 - val_loss: 1.2887 - val_accuracy: 0.5625\n",
      "Epoch 14/50\n",
      "200/200 [==============================] - 1s 4ms/step - loss: 0.9898 - accuracy: 0.6450 - val_loss: 1.0467 - val_accuracy: 0.6042\n",
      "Epoch 15/50\n",
      "200/200 [==============================] - 1s 4ms/step - loss: 1.0575 - accuracy: 0.6050 - val_loss: 1.0529 - val_accuracy: 0.5833\n",
      "Epoch 16/50\n",
      "200/200 [==============================] - 1s 5ms/step - loss: 0.8950 - accuracy: 0.6900 - val_loss: 1.3037 - val_accuracy: 0.5625\n",
      "Epoch 17/50\n",
      "200/200 [==============================] - 1s 4ms/step - loss: 0.9000 - accuracy: 0.6750 - val_loss: 1.0173 - val_accuracy: 0.6875\n",
      "Epoch 18/50\n",
      "200/200 [==============================] - 1s 4ms/step - loss: 0.8598 - accuracy: 0.6700 - val_loss: 0.9980 - val_accuracy: 0.6250\n",
      "Epoch 19/50\n",
      "200/200 [==============================] - 1s 4ms/step - loss: 0.7334 - accuracy: 0.7200 - val_loss: 1.2275 - val_accuracy: 0.5833\n",
      "Epoch 20/50\n",
      "200/200 [==============================] - 1s 4ms/step - loss: 1.0036 - accuracy: 0.6400 - val_loss: 1.4620 - val_accuracy: 0.5625\n",
      "Epoch 21/50\n",
      "200/200 [==============================] - 1s 4ms/step - loss: 0.7980 - accuracy: 0.7250 - val_loss: 1.3785 - val_accuracy: 0.5417\n",
      "Epoch 22/50\n",
      "200/200 [==============================] - 1s 4ms/step - loss: 0.7013 - accuracy: 0.7350 - val_loss: 1.3613 - val_accuracy: 0.5208\n",
      "Epoch 23/50\n",
      "200/200 [==============================] - 1s 4ms/step - loss: 0.7027 - accuracy: 0.7500 - val_loss: 1.1098 - val_accuracy: 0.5833\n",
      "Epoch 24/50\n",
      "200/200 [==============================] - 1s 5ms/step - loss: 0.6870 - accuracy: 0.7600 - val_loss: 1.1626 - val_accuracy: 0.5625\n",
      "Epoch 25/50\n",
      "200/200 [==============================] - 1s 4ms/step - loss: 0.5802 - accuracy: 0.7850 - val_loss: 1.2638 - val_accuracy: 0.6042\n",
      "Epoch 26/50\n",
      "200/200 [==============================] - 1s 4ms/step - loss: 0.6901 - accuracy: 0.7450 - val_loss: 1.1502 - val_accuracy: 0.6458\n",
      "Epoch 27/50\n",
      "200/200 [==============================] - 1s 4ms/step - loss: 0.6879 - accuracy: 0.7600 - val_loss: 1.0453 - val_accuracy: 0.6667\n",
      "Epoch 28/50\n",
      "200/200 [==============================] - 1s 4ms/step - loss: 0.5531 - accuracy: 0.8050 - val_loss: 1.2531 - val_accuracy: 0.6042\n",
      "Epoch 29/50\n",
      "200/200 [==============================] - 1s 4ms/step - loss: 0.5105 - accuracy: 0.8000 - val_loss: 1.2615 - val_accuracy: 0.6042\n",
      "Epoch 30/50\n",
      "200/200 [==============================] - 1s 4ms/step - loss: 0.5206 - accuracy: 0.8150 - val_loss: 1.2206 - val_accuracy: 0.6042\n",
      "Epoch 31/50\n",
      "200/200 [==============================] - 1s 4ms/step - loss: 0.3951 - accuracy: 0.8650 - val_loss: 1.3637 - val_accuracy: 0.6250\n",
      "Epoch 32/50\n",
      "200/200 [==============================] - 1s 4ms/step - loss: 0.4932 - accuracy: 0.8250 - val_loss: 1.0923 - val_accuracy: 0.6250\n",
      "Epoch 33/50\n",
      "200/200 [==============================] - 1s 4ms/step - loss: 0.5109 - accuracy: 0.8050 - val_loss: 1.3894 - val_accuracy: 0.5000\n",
      "Epoch 34/50\n",
      "200/200 [==============================] - 1s 4ms/step - loss: 0.4295 - accuracy: 0.8450 - val_loss: 1.7494 - val_accuracy: 0.6042\n",
      "Epoch 35/50\n",
      "200/200 [==============================] - 1s 4ms/step - loss: 0.3930 - accuracy: 0.8850 - val_loss: 1.3326 - val_accuracy: 0.6458\n",
      "Epoch 36/50\n",
      "200/200 [==============================] - 1s 4ms/step - loss: 0.4981 - accuracy: 0.8300 - val_loss: 1.4055 - val_accuracy: 0.6250\n",
      "Epoch 37/50\n",
      "200/200 [==============================] - 1s 4ms/step - loss: 0.3646 - accuracy: 0.8800 - val_loss: 1.6425 - val_accuracy: 0.5417\n",
      "Epoch 38/50\n",
      "200/200 [==============================] - 1s 4ms/step - loss: 0.3863 - accuracy: 0.8550 - val_loss: 1.5633 - val_accuracy: 0.6250\n",
      "Epoch 39/50\n",
      "200/200 [==============================] - 1s 4ms/step - loss: 0.4939 - accuracy: 0.8150 - val_loss: 1.6356 - val_accuracy: 0.5833\n",
      "Epoch 40/50\n",
      "200/200 [==============================] - 1s 4ms/step - loss: 0.3432 - accuracy: 0.9000 - val_loss: 1.5496 - val_accuracy: 0.5833\n",
      "Epoch 41/50\n",
      "200/200 [==============================] - 1s 4ms/step - loss: 0.3071 - accuracy: 0.8950 - val_loss: 1.5558 - val_accuracy: 0.6458\n",
      "Epoch 42/50\n",
      "200/200 [==============================] - 1s 4ms/step - loss: 0.2331 - accuracy: 0.9250 - val_loss: 1.5739 - val_accuracy: 0.6458\n",
      "Epoch 43/50\n",
      "200/200 [==============================] - 1s 4ms/step - loss: 0.2741 - accuracy: 0.8850 - val_loss: 1.7056 - val_accuracy: 0.5833\n",
      "Epoch 44/50\n",
      "200/200 [==============================] - 1s 4ms/step - loss: 0.2171 - accuracy: 0.9450 - val_loss: 1.4120 - val_accuracy: 0.6042\n",
      "Epoch 45/50\n",
      "200/200 [==============================] - 1s 5ms/step - loss: 0.4089 - accuracy: 0.8450 - val_loss: 1.8836 - val_accuracy: 0.6250\n",
      "Epoch 46/50\n",
      "200/200 [==============================] - 1s 5ms/step - loss: 0.3139 - accuracy: 0.8950 - val_loss: 1.7880 - val_accuracy: 0.5625\n",
      "Epoch 47/50\n",
      "200/200 [==============================] - 1s 4ms/step - loss: 0.2166 - accuracy: 0.9300 - val_loss: 1.5667 - val_accuracy: 0.6250\n",
      "Epoch 48/50\n",
      "200/200 [==============================] - 1s 4ms/step - loss: 0.2526 - accuracy: 0.9000 - val_loss: 1.8888 - val_accuracy: 0.5625\n",
      "Epoch 49/50\n",
      "200/200 [==============================] - 1s 4ms/step - loss: 0.4452 - accuracy: 0.8400 - val_loss: 1.5873 - val_accuracy: 0.6042\n",
      "Epoch 50/50\n",
      "200/200 [==============================] - 1s 4ms/step - loss: 0.3385 - accuracy: 0.8850 - val_loss: 1.4744 - val_accuracy: 0.5625\n"
     ]
    }
   ],
   "source": [
    "history = model.fit(X_train, y_train, validation_data=(X_test, y_test), batch_size=1, epochs=50)"
   ]
  },
  {
   "cell_type": "code",
   "execution_count": 62,
   "metadata": {},
   "outputs": [
    {
     "data": {
      "text/plain": [
       "[<matplotlib.lines.Line2D at 0x7fef606e1048>]"
      ]
     },
     "execution_count": 62,
     "metadata": {},
     "output_type": "execute_result"
    },
    {
     "data": {
      "image/png": "[encoded data removed]",
      "text/plain": [
       "<Figure size 1080x504 with 2 Axes>"
      ]
     },
     "metadata": {
      "needs_background": "light"
     },
     "output_type": "display_data"
    }
   ],
   "source": [
    "plt.figure(figsize=(15, 7))\n",
    "plt.subplot(221)\n",
    "plt.title(\"Train Loss\")\n",
    "plt.plot(history.history['loss'])\n",
    "plt.subplot(222)\n",
    "plt.title(\"Train/validation accuracy\")\n",
    "plt.plot(history.history['accuracy'])\n",
    "plt.plot(history.history['val_accuracy'])"
   ]
  },
  {
   "cell_type": "markdown",
   "metadata": {},
   "source": [
    "## LSTM"
   ]
  },
  {
   "cell_type": "code",
   "execution_count": 63,
   "metadata": {},
   "outputs": [],
   "source": [
    "inpu = K.layers.InputLayer((None, 51), batch_size=1)\n",
    "rnn = K.layers.LSTM(32, stateful=True)\n",
    "dense1 = K.layers.Dense(64)\n",
    "dense2 = K.layers.Dense(7, activation='softmax')\n",
    "\n",
    "model = K.Sequential([inpu, rnn, dense1, dense2])"
   ]
  },
  {
   "cell_type": "code",
   "execution_count": 64,
   "metadata": {},
   "outputs": [],
   "source": [
    "model.compile(optimizer='adam',\n",
    "              loss='categorical_crossentropy',\n",
    "              metrics=['accuracy'])"
   ]
  },
  {
   "cell_type": "code",
   "execution_count": 65,
   "metadata": {
    "scrolled": true
   },
   "outputs": [
    {
     "name": "stdout",
     "output_type": "stream",
     "text": [
      "Model: \"sequential_3\"\n",
      "_________________________________________________________________\n",
      "Layer (type)                 Output Shape              Param #   \n",
      "=================================================================\n",
      "lstm_1 (LSTM)                (1, 32)                   10752     \n",
      "_________________________________________________________________\n",
      "dense_6 (Dense)              (1, 64)                   2112      \n",
      "_________________________________________________________________\n",
      "dense_7 (Dense)              (1, 7)                    455       \n",
      "=================================================================\n",
      "Total params: 13,319\n",
      "Trainable params: 13,319\n",
      "Non-trainable params: 0\n",
      "_________________________________________________________________\n"
     ]
    }
   ],
   "source": [
    "model.summary()"
   ]
  },
  {
   "cell_type": "code",
   "execution_count": 66,
   "metadata": {
    "scrolled": true
   },
   "outputs": [
    {
     "name": "stdout",
     "output_type": "stream",
     "text": [
      "Epoch 1/50\n",
      "200/200 [==============================] - 2s 7ms/step - loss: 1.6239 - accuracy: 0.4950 - val_loss: 1.5660 - val_accuracy: 0.5000\n",
      "Epoch 2/50\n",
      "200/200 [==============================] - 1s 6ms/step - loss: 1.5697 - accuracy: 0.5150 - val_loss: 1.5096 - val_accuracy: 0.5000\n",
      "Epoch 3/50\n",
      "200/200 [==============================] - 1s 6ms/step - loss: 1.5017 - accuracy: 0.5100 - val_loss: 1.5145 - val_accuracy: 0.5000\n",
      "Epoch 4/50\n",
      "200/200 [==============================] - 1s 6ms/step - loss: 1.4620 - accuracy: 0.5150 - val_loss: 1.4263 - val_accuracy: 0.5000\n",
      "Epoch 5/50\n",
      "200/200 [==============================] - 1s 6ms/step - loss: 1.4644 - accuracy: 0.5100 - val_loss: 1.5806 - val_accuracy: 0.5000\n",
      "Epoch 6/50\n",
      "200/200 [==============================] - 1s 6ms/step - loss: 1.5302 - accuracy: 0.5200 - val_loss: 1.6910 - val_accuracy: 0.5000\n",
      "Epoch 7/50\n",
      "200/200 [==============================] - 1s 6ms/step - loss: 1.5795 - accuracy: 0.5150 - val_loss: 1.6023 - val_accuracy: 0.5000\n",
      "Epoch 8/50\n",
      "200/200 [==============================] - 1s 6ms/step - loss: 1.5549 - accuracy: 0.5100 - val_loss: 1.5185 - val_accuracy: 0.5000\n",
      "Epoch 9/50\n",
      "200/200 [==============================] - 1s 6ms/step - loss: 1.5234 - accuracy: 0.5150 - val_loss: 1.4573 - val_accuracy: 0.5000\n",
      "Epoch 10/50\n",
      "200/200 [==============================] - 1s 6ms/step - loss: 1.4401 - accuracy: 0.4900 - val_loss: 1.2790 - val_accuracy: 0.5625\n",
      "Epoch 11/50\n",
      "200/200 [==============================] - 1s 6ms/step - loss: 1.3484 - accuracy: 0.5050 - val_loss: 1.2983 - val_accuracy: 0.5000\n",
      "Epoch 12/50\n",
      "200/200 [==============================] - 1s 7ms/step - loss: 1.3830 - accuracy: 0.5250 - val_loss: 1.2285 - val_accuracy: 0.5417\n",
      "Epoch 13/50\n",
      "200/200 [==============================] - 1s 6ms/step - loss: 1.4488 - accuracy: 0.5100 - val_loss: 1.2940 - val_accuracy: 0.5208\n",
      "Epoch 14/50\n",
      "200/200 [==============================] - 1s 6ms/step - loss: 1.2668 - accuracy: 0.5200 - val_loss: 1.2108 - val_accuracy: 0.6250\n",
      "Epoch 15/50\n",
      "200/200 [==============================] - 1s 6ms/step - loss: 1.1906 - accuracy: 0.5800 - val_loss: 1.1799 - val_accuracy: 0.6042\n",
      "Epoch 16/50\n",
      "200/200 [==============================] - 1s 6ms/step - loss: 1.1160 - accuracy: 0.6000 - val_loss: 0.9341 - val_accuracy: 0.5833\n",
      "Epoch 17/50\n",
      "200/200 [==============================] - 1s 6ms/step - loss: 1.0642 - accuracy: 0.6250 - val_loss: 0.9454 - val_accuracy: 0.6875\n",
      "Epoch 18/50\n",
      "200/200 [==============================] - 1s 6ms/step - loss: 1.0315 - accuracy: 0.6050 - val_loss: 1.0026 - val_accuracy: 0.6042\n",
      "Epoch 19/50\n",
      "200/200 [==============================] - 1s 6ms/step - loss: 0.9631 - accuracy: 0.6600 - val_loss: 0.8614 - val_accuracy: 0.6250\n",
      "Epoch 20/50\n",
      "200/200 [==============================] - 1s 6ms/step - loss: 0.8856 - accuracy: 0.6750 - val_loss: 0.8368 - val_accuracy: 0.5833\n",
      "Epoch 21/50\n",
      "200/200 [==============================] - 1s 6ms/step - loss: 0.8912 - accuracy: 0.6450 - val_loss: 0.9150 - val_accuracy: 0.6458\n",
      "Epoch 22/50\n",
      "200/200 [==============================] - 1s 6ms/step - loss: 0.8212 - accuracy: 0.7100 - val_loss: 0.9131 - val_accuracy: 0.6458\n",
      "Epoch 23/50\n",
      "200/200 [==============================] - 1s 6ms/step - loss: 0.8492 - accuracy: 0.6900 - val_loss: 0.7821 - val_accuracy: 0.6875\n",
      "Epoch 24/50\n",
      "200/200 [==============================] - 1s 6ms/step - loss: 0.7754 - accuracy: 0.7350 - val_loss: 0.7620 - val_accuracy: 0.5833\n",
      "Epoch 25/50\n",
      "200/200 [==============================] - 1s 6ms/step - loss: 0.7227 - accuracy: 0.6800 - val_loss: 0.8793 - val_accuracy: 0.6667\n",
      "Epoch 26/50\n",
      "200/200 [==============================] - 1s 6ms/step - loss: 0.7787 - accuracy: 0.7000 - val_loss: 0.6700 - val_accuracy: 0.7083\n",
      "Epoch 27/50\n",
      "200/200 [==============================] - 1s 6ms/step - loss: 0.6824 - accuracy: 0.7200 - val_loss: 0.6760 - val_accuracy: 0.6458\n",
      "Epoch 28/50\n",
      "200/200 [==============================] - 1s 6ms/step - loss: 0.6964 - accuracy: 0.7450 - val_loss: 0.6507 - val_accuracy: 0.6875\n",
      "Epoch 29/50\n",
      "200/200 [==============================] - 1s 6ms/step - loss: 0.7351 - accuracy: 0.7700 - val_loss: 0.7777 - val_accuracy: 0.6667\n",
      "Epoch 30/50\n",
      "200/200 [==============================] - 1s 6ms/step - loss: 0.7120 - accuracy: 0.7350 - val_loss: 0.7954 - val_accuracy: 0.7083\n",
      "Epoch 31/50\n",
      "200/200 [==============================] - 1s 6ms/step - loss: 0.6752 - accuracy: 0.7750 - val_loss: 0.6073 - val_accuracy: 0.7083\n",
      "Epoch 32/50\n",
      "200/200 [==============================] - 1s 6ms/step - loss: 0.5805 - accuracy: 0.7600 - val_loss: 0.7923 - val_accuracy: 0.6458\n",
      "Epoch 33/50\n",
      "200/200 [==============================] - 1s 6ms/step - loss: 0.6456 - accuracy: 0.7550 - val_loss: 0.5629 - val_accuracy: 0.7292\n",
      "Epoch 34/50\n",
      "200/200 [==============================] - 1s 6ms/step - loss: 0.5762 - accuracy: 0.7750 - val_loss: 0.9924 - val_accuracy: 0.6458\n",
      "Epoch 35/50\n",
      "200/200 [==============================] - 1s 6ms/step - loss: 0.6929 - accuracy: 0.7250 - val_loss: 0.6289 - val_accuracy: 0.7292\n",
      "Epoch 36/50\n",
      "200/200 [==============================] - 1s 6ms/step - loss: 0.5736 - accuracy: 0.7550 - val_loss: 0.6965 - val_accuracy: 0.6875\n",
      "Epoch 37/50\n",
      "200/200 [==============================] - 1s 6ms/step - loss: 0.5831 - accuracy: 0.8000 - val_loss: 0.7386 - val_accuracy: 0.7083\n",
      "Epoch 38/50\n",
      "200/200 [==============================] - 1s 6ms/step - loss: 0.6579 - accuracy: 0.7700 - val_loss: 0.5437 - val_accuracy: 0.7292\n",
      "Epoch 39/50\n",
      "200/200 [==============================] - 1s 6ms/step - loss: 0.5747 - accuracy: 0.7900 - val_loss: 0.5941 - val_accuracy: 0.7083\n",
      "Epoch 40/50\n",
      "200/200 [==============================] - 1s 6ms/step - loss: 0.5705 - accuracy: 0.7700 - val_loss: 0.5576 - val_accuracy: 0.7708\n",
      "Epoch 41/50\n",
      "200/200 [==============================] - 1s 6ms/step - loss: 0.5254 - accuracy: 0.7900 - val_loss: 0.4645 - val_accuracy: 0.7083\n",
      "Epoch 42/50\n",
      "200/200 [==============================] - 1s 6ms/step - loss: 0.4282 - accuracy: 0.8000 - val_loss: 0.7008 - val_accuracy: 0.7500\n",
      "Epoch 43/50\n",
      "200/200 [==============================] - 1s 6ms/step - loss: 0.6163 - accuracy: 0.7550 - val_loss: 0.7347 - val_accuracy: 0.7083\n",
      "Epoch 44/50\n",
      "200/200 [==============================] - 1s 6ms/step - loss: 0.5328 - accuracy: 0.8150 - val_loss: 0.5311 - val_accuracy: 0.7292\n",
      "Epoch 45/50\n",
      "200/200 [==============================] - 1s 6ms/step - loss: 0.5069 - accuracy: 0.8050 - val_loss: 0.5025 - val_accuracy: 0.6667\n",
      "Epoch 46/50\n",
      "200/200 [==============================] - 1s 6ms/step - loss: 0.5560 - accuracy: 0.8000 - val_loss: 0.6751 - val_accuracy: 0.7500\n",
      "Epoch 47/50\n",
      "200/200 [==============================] - 1s 6ms/step - loss: 0.5578 - accuracy: 0.7750 - val_loss: 1.3864 - val_accuracy: 0.6250\n",
      "Epoch 48/50\n",
      "200/200 [==============================] - 1s 6ms/step - loss: 0.5348 - accuracy: 0.7950 - val_loss: 0.6494 - val_accuracy: 0.7083\n",
      "Epoch 49/50\n",
      "200/200 [==============================] - 1s 6ms/step - loss: 0.4243 - accuracy: 0.8200 - val_loss: 0.6781 - val_accuracy: 0.6667\n",
      "Epoch 50/50\n",
      "200/200 [==============================] - 1s 6ms/step - loss: 0.4231 - accuracy: 0.8450 - val_loss: 0.6112 - val_accuracy: 0.7917\n"
     ]
    }
   ],
   "source": [
    "history = model.fit(X_train, y_train, validation_data=(X_test, y_test), batch_size=1, epochs=50)"
   ]
  },
  {
   "cell_type": "code",
   "execution_count": 67,
   "metadata": {},
   "outputs": [
    {
     "data": {
      "text/plain": [
       "[<matplotlib.lines.Line2D at 0x7fef784a8320>]"
      ]
     },
     "execution_count": 67,
     "metadata": {},
     "output_type": "execute_result"
    },
    {
     "data": {
      "image/png": "[encoded data removed]",
      "text/plain": [
       "<Figure size 1080x504 with 2 Axes>"
      ]
     },
     "metadata": {
      "needs_background": "light"
     },
     "output_type": "display_data"
    }
   ],
   "source": [
    "plt.figure(figsize=(15, 7))\n",
    "plt.subplot(221)\n",
    "plt.title(\"Train Loss\")\n",
    "plt.plot(history.history['loss'])\n",
    "plt.subplot(222)\n",
    "plt.title(\"Train/validation accuracy\")\n",
    "plt.plot(history.history['accuracy'])\n",
    "plt.plot(history.history['val_accuracy'])"
   ]
  },
  {
   "cell_type": "code",
   "execution_count": null,
   "metadata": {},
   "outputs": [],
   "source": []
  },
  {
   "cell_type": "code",
   "execution_count": null,
   "metadata": {},
   "outputs": [],
   "source": []
  },
  {
   "cell_type": "code",
   "execution_count": null,
   "metadata": {},
   "outputs": [],
   "source": []
  }
 ],
 "metadata": {
  "kernelspec": {
   "display_name": "Python 3",
   "language": "python",
   "name": "python3"
  },
  "language_info": {
   "codemirror_mode": {
    "name": "ipython",
    "version": 3
   },
   "file_extension": ".py",
   "mimetype": "text/x-python",
   "name": "python",
   "nbconvert_exporter": "python",
   "pygments_lexer": "ipython3",
   "version": "3.6.9"
  }
 },
 "nbformat": 4,
 "nbformat_minor": 2
}
