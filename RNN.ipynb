{
 "cells": [
  {
   "cell_type": "markdown",
   "metadata": {},
   "source": [
    "# Load data"
   ]
  },
  {
   "cell_type": "code",
   "execution_count": 1,
   "metadata": {},
   "outputs": [],
   "source": [
    "import re\n",
    "import numpy as np\n",
    "import matplotlib.pyplot as plt\n",
    "\n",
    "import tensorflow as tf\n",
    "import tensorflow.keras as K"
   ]
  },
  {
   "cell_type": "code",
   "execution_count": 2,
   "metadata": {},
   "outputs": [],
   "source": [
    "def read_data(name):\n",
    "    X_train, y_train = [], []\n",
    "    X = np.load(f'data/keypoints/{name}.npy').reshape((-1, 51))\n",
    "    with open(f'data/labels/{name}') as f:\n",
    "        labels = f.readlines()\n",
    "\n",
    "    N = int(re.findall(r'\\d+', labels[0])[0])\n",
    "    assert N == X.shape[0]\n",
    "\n",
    "    end = 0\n",
    "\n",
    "    for lab in labels:\n",
    "        C = re.findall(r'\\d:', lab)\n",
    "        if len(C) == 1:\n",
    "            C = int(C[0][0])\n",
    "\n",
    "        idxs = re.findall(r'\\d+-\\d+', lab)\n",
    "        for idx in idxs:\n",
    "            start, stop = idx.split('-')\n",
    "            start, stop = int(start), int(stop)\n",
    "\n",
    "            X_train.append(X[end:start])\n",
    "            y_train.append(0)\n",
    "\n",
    "            X_train.append(X[start:stop])\n",
    "            y_train.append(C)        \n",
    "\n",
    "            end = stop\n",
    "\n",
    "    X_train.append(X[end:-1])\n",
    "    y_train.append(0)\n",
    "    \n",
    "    return X_train, y_train"
   ]
  },
  {
   "cell_type": "code",
   "execution_count": 3,
   "metadata": {},
   "outputs": [],
   "source": [
    "X_train, y_train = read_data('id0_jab_1')"
   ]
  },
  {
   "cell_type": "code",
   "execution_count": 4,
   "metadata": {},
   "outputs": [],
   "source": [
    "y_train = K.utils.to_categorical(y_train, num_classes=7)\n",
    "X_train = tf.ragged.constant(X_train)"
   ]
  },
  {
   "cell_type": "code",
   "execution_count": 5,
   "metadata": {},
   "outputs": [
    {
     "data": {
      "text/plain": [
       "(41, 7)"
      ]
     },
     "execution_count": 5,
     "metadata": {},
     "output_type": "execute_result"
    }
   ],
   "source": [
    "y_train.shape"
   ]
  },
  {
   "cell_type": "markdown",
   "metadata": {},
   "source": [
    "## Simple RNN "
   ]
  },
  {
   "cell_type": "code",
   "execution_count": 6,
   "metadata": {},
   "outputs": [],
   "source": [
    "inpu = K.layers.InputLayer((None, 51), batch_size=1)\n",
    "rnn = K.layers.SimpleRNN(32, stateful=True)\n",
    "dense1 = K.layers.Dense(64)\n",
    "dense2 = K.layers.Dense(7, activation='softmax')\n",
    "\n",
    "model = K.Sequential([inpu, rnn, dense1, dense2])"
   ]
  },
  {
   "cell_type": "code",
   "execution_count": 7,
   "metadata": {},
   "outputs": [],
   "source": [
    "model.compile(optimizer='adam',\n",
    "              loss='categorical_crossentropy',\n",
    "              metrics=['accuracy'])"
   ]
  },
  {
   "cell_type": "code",
   "execution_count": 8,
   "metadata": {
    "scrolled": true
   },
   "outputs": [
    {
     "name": "stdout",
     "output_type": "stream",
     "text": [
      "Model: \"sequential\"\n",
      "_________________________________________________________________\n",
      "Layer (type)                 Output Shape              Param #   \n",
      "=================================================================\n",
      "simple_rnn (SimpleRNN)       (1, 32)                   2688      \n",
      "_________________________________________________________________\n",
      "dense (Dense)                (1, 64)                   2112      \n",
      "_________________________________________________________________\n",
      "dense_1 (Dense)              (1, 7)                    455       \n",
      "=================================================================\n",
      "Total params: 5,255\n",
      "Trainable params: 5,255\n",
      "Non-trainable params: 0\n",
      "_________________________________________________________________\n"
     ]
    }
   ],
   "source": [
    "model.summary()"
   ]
  },
  {
   "cell_type": "code",
   "execution_count": 9,
   "metadata": {
    "scrolled": true
   },
   "outputs": [
    {
     "name": "stdout",
     "output_type": "stream",
     "text": [
      "Epoch 1/50\n",
      "41/41 [==============================] - 1s 4ms/step - loss: 1.3781 - accuracy: 0.4878\n",
      "Epoch 2/50\n",
      "41/41 [==============================] - 0s 4ms/step - loss: 1.1976 - accuracy: 0.3659\n",
      "Epoch 3/50\n",
      "41/41 [==============================] - 0s 4ms/step - loss: 1.1269 - accuracy: 0.4390\n",
      "Epoch 4/50\n",
      "41/41 [==============================] - 0s 4ms/step - loss: 1.1180 - accuracy: 0.5122\n",
      "Epoch 5/50\n",
      "41/41 [==============================] - 0s 4ms/step - loss: 1.0853 - accuracy: 0.5122\n",
      "Epoch 6/50\n",
      "41/41 [==============================] - 0s 4ms/step - loss: 1.1512 - accuracy: 0.4634\n",
      "Epoch 7/50\n",
      "41/41 [==============================] - 0s 4ms/step - loss: 1.0982 - accuracy: 0.4878\n",
      "Epoch 8/50\n",
      "41/41 [==============================] - 0s 4ms/step - loss: 1.0437 - accuracy: 0.5366\n",
      "Epoch 9/50\n",
      "41/41 [==============================] - 0s 4ms/step - loss: 1.0756 - accuracy: 0.4390\n",
      "Epoch 10/50\n",
      "41/41 [==============================] - 0s 4ms/step - loss: 1.0365 - accuracy: 0.4634\n",
      "Epoch 11/50\n",
      "41/41 [==============================] - 0s 4ms/step - loss: 1.0111 - accuracy: 0.4878\n",
      "Epoch 12/50\n",
      "41/41 [==============================] - 0s 4ms/step - loss: 1.0066 - accuracy: 0.5854\n",
      "Epoch 13/50\n",
      "41/41 [==============================] - 0s 4ms/step - loss: 1.0176 - accuracy: 0.5122\n",
      "Epoch 14/50\n",
      "41/41 [==============================] - 0s 4ms/step - loss: 0.9907 - accuracy: 0.5854\n",
      "Epoch 15/50\n",
      "41/41 [==============================] - 0s 4ms/step - loss: 0.9596 - accuracy: 0.5366\n",
      "Epoch 16/50\n",
      "41/41 [==============================] - 0s 4ms/step - loss: 0.8831 - accuracy: 0.5854\n",
      "Epoch 17/50\n",
      "41/41 [==============================] - 0s 4ms/step - loss: 0.8816 - accuracy: 0.6341\n",
      "Epoch 18/50\n",
      "41/41 [==============================] - 0s 4ms/step - loss: 0.8352 - accuracy: 0.7561\n",
      "Epoch 19/50\n",
      "41/41 [==============================] - 0s 4ms/step - loss: 0.7670 - accuracy: 0.6585\n",
      "Epoch 20/50\n",
      "41/41 [==============================] - 0s 4ms/step - loss: 0.7594 - accuracy: 0.7073\n",
      "Epoch 21/50\n",
      "41/41 [==============================] - 0s 4ms/step - loss: 0.5824 - accuracy: 0.7561\n",
      "Epoch 22/50\n",
      "41/41 [==============================] - 0s 4ms/step - loss: 0.6446 - accuracy: 0.7561\n",
      "Epoch 23/50\n",
      "41/41 [==============================] - 0s 4ms/step - loss: 0.6994 - accuracy: 0.7561\n",
      "Epoch 24/50\n",
      "41/41 [==============================] - 0s 4ms/step - loss: 0.6216 - accuracy: 0.7317\n",
      "Epoch 25/50\n",
      "41/41 [==============================] - 0s 4ms/step - loss: 0.6091 - accuracy: 0.7805\n",
      "Epoch 26/50\n",
      "41/41 [==============================] - 0s 4ms/step - loss: 0.5480 - accuracy: 0.7805\n",
      "Epoch 27/50\n",
      "41/41 [==============================] - 0s 4ms/step - loss: 0.4051 - accuracy: 0.9024\n",
      "Epoch 28/50\n",
      "41/41 [==============================] - 0s 4ms/step - loss: 0.6395 - accuracy: 0.7561\n",
      "Epoch 29/50\n",
      "41/41 [==============================] - 0s 4ms/step - loss: 0.3577 - accuracy: 0.9268\n",
      "Epoch 30/50\n",
      "41/41 [==============================] - 0s 4ms/step - loss: 0.2526 - accuracy: 0.9512\n",
      "Epoch 31/50\n",
      "41/41 [==============================] - 0s 4ms/step - loss: 0.2145 - accuracy: 0.9756\n",
      "Epoch 32/50\n",
      "41/41 [==============================] - 0s 4ms/step - loss: 0.4614 - accuracy: 0.8537\n",
      "Epoch 33/50\n",
      "41/41 [==============================] - 0s 4ms/step - loss: 0.4713 - accuracy: 0.8049\n",
      "Epoch 34/50\n",
      "41/41 [==============================] - 0s 4ms/step - loss: 0.4073 - accuracy: 0.8537\n",
      "Epoch 35/50\n",
      "41/41 [==============================] - 0s 4ms/step - loss: 0.2870 - accuracy: 0.9024\n",
      "Epoch 36/50\n",
      "41/41 [==============================] - 0s 4ms/step - loss: 0.2039 - accuracy: 0.9512\n",
      "Epoch 37/50\n",
      "41/41 [==============================] - 0s 4ms/step - loss: 0.1358 - accuracy: 1.0000\n",
      "Epoch 38/50\n",
      "41/41 [==============================] - 0s 4ms/step - loss: 0.1053 - accuracy: 1.0000\n",
      "Epoch 39/50\n",
      "41/41 [==============================] - 0s 4ms/step - loss: 0.0882 - accuracy: 1.0000\n",
      "Epoch 40/50\n",
      "41/41 [==============================] - 0s 4ms/step - loss: 0.1897 - accuracy: 0.9268\n",
      "Epoch 41/50\n",
      "41/41 [==============================] - 0s 4ms/step - loss: 0.1186 - accuracy: 0.9756\n",
      "Epoch 42/50\n",
      "41/41 [==============================] - 0s 4ms/step - loss: 0.0695 - accuracy: 1.0000\n",
      "Epoch 43/50\n",
      "41/41 [==============================] - 0s 4ms/step - loss: 0.0427 - accuracy: 1.0000\n",
      "Epoch 44/50\n",
      "41/41 [==============================] - 0s 4ms/step - loss: 0.0425 - accuracy: 1.0000\n",
      "Epoch 45/50\n",
      "41/41 [==============================] - 0s 4ms/step - loss: 0.0483 - accuracy: 1.0000\n",
      "Epoch 46/50\n",
      "41/41 [==============================] - 0s 4ms/step - loss: 0.0730 - accuracy: 0.9756\n",
      "Epoch 47/50\n",
      "41/41 [==============================] - 0s 4ms/step - loss: 0.1454 - accuracy: 0.9512\n",
      "Epoch 48/50\n",
      "41/41 [==============================] - 0s 4ms/step - loss: 0.1362 - accuracy: 0.9512\n",
      "Epoch 49/50\n",
      "41/41 [==============================] - 0s 4ms/step - loss: 0.0429 - accuracy: 1.0000\n",
      "Epoch 50/50\n",
      "41/41 [==============================] - 0s 4ms/step - loss: 0.0405 - accuracy: 1.0000\n"
     ]
    },
    {
     "data": {
      "text/plain": [
       "<tensorflow.python.keras.callbacks.History at 0x7fb1c51b7c18>"
      ]
     },
     "execution_count": 9,
     "metadata": {},
     "output_type": "execute_result"
    }
   ],
   "source": [
    "model.fit(X_train, y_train, batch_size=1, epochs=50)"
   ]
  },
  {
   "cell_type": "code",
   "execution_count": null,
   "metadata": {},
   "outputs": [],
   "source": []
  },
  {
   "cell_type": "code",
   "execution_count": null,
   "metadata": {},
   "outputs": [],
   "source": []
  },
  {
   "cell_type": "code",
   "execution_count": null,
   "metadata": {},
   "outputs": [],
   "source": []
  }
 ],
 "metadata": {
  "kernelspec": {
   "display_name": "Python 3",
   "language": "python",
   "name": "python3"
  },
  "language_info": {
   "codemirror_mode": {
    "name": "ipython",
    "version": 3
   },
   "file_extension": ".py",
   "mimetype": "text/x-python",
   "name": "python",
   "nbconvert_exporter": "python",
   "pygments_lexer": "ipython3",
   "version": "3.6.9"
  }
 },
 "nbformat": 4,
 "nbformat_minor": 2
}
