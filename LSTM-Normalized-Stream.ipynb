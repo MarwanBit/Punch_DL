{
 "cells": [
  {
   "cell_type": "markdown",
   "metadata": {},
   "source": [
    "# Load data"
   ]
  },
  {
   "cell_type": "code",
   "execution_count": 1,
   "metadata": {},
   "outputs": [],
   "source": [
    "import re\n",
    "import os\n",
    "import numpy as np\n",
    "import matplotlib.pyplot as plt\n",
    "import pandas as pd\n",
    "import seaborn as sns\n",
    "\n",
    "import tensorflow as tf\n",
    "import tensorflow.keras as K\n",
    "import keras_tuner as kt"
   ]
  },
  {
   "cell_type": "code",
   "execution_count": 14,
   "metadata": {},
   "outputs": [],
   "source": [
    "def normalize_mid_points(X, ndims=3):\n",
    "    \"\"\"Calculate middle point between two hips \n",
    "         and substract this point from other coordinates\n",
    "       Params:\n",
    "         X - array of shape (Frames, KeyPoints, Dim), \n",
    "             Frames - number of extracted video frames,\n",
    "             KeyPoints = 17 \n",
    "             Dim = 3 (x, y, score) \n",
    "       Returns:\n",
    "         normalized coords with concatenated mid point\n",
    "        \"\"\"\n",
    "    left_hip, right_hip = 11, 12\n",
    "    N = X.shape[0]\n",
    "    mid_points = (X[:, left_hip, :] + X[:, right_hip, :]) / 2\n",
    "    mp = mid_points.reshape(N, 1, 3)\n",
    "    x_n = X - mp\n",
    "    \n",
    "    if ndims==3:\n",
    "        return np.concatenate([x_n, mp], axis=1).reshape(N, 54)\n",
    "    elif ndims==2:\n",
    "        return np.concatenate([x_n[:, :, :2], mp[:, :, :2]], axis=1).reshape(N, 36)\n",
    "    else:\n",
    "        raise(\"Select number of dimensions\")\n",
    "\n",
    "def read_data(name, normalize_mp='2D'):\n",
    "    \"\"\" Read numpy array with saved keypoints\n",
    "      Params:\n",
    "        name - file name without .npy extension \n",
    "        normalize_mp - '3D' for keep scores, '2D' - keep (x,y) only\n",
    "    \"\"\"\n",
    "    \n",
    "    with open(f'data/labels/{name}') as f:\n",
    "        labels = f.readlines()\n",
    "    \n",
    "    N = int(re.findall(r'\\d+', labels[0])[0])\n",
    "    X = np.load(f'data/keypoints/{name}.npy')\n",
    "    X = X.reshape((N, 17, 3))\n",
    "    y = np.zeros(N, dtype=int)\n",
    "    \n",
    "    for lab in labels:\n",
    "        C = re.findall(r'\\d:', lab)\n",
    "\n",
    "        if len(C) == 1:\n",
    "            C = int(C[0][0])\n",
    "            idxs = re.findall(r'\\d+-\\d+', lab)\n",
    "            for idx in idxs:\n",
    "                start, stop = idx.split('-')\n",
    "                y[int(start): int(stop)] = C\n",
    "    if normalize_mp == '3D':\n",
    "        X = normalize_mid_points(X)\n",
    "    elif normalize_mp == '2D':\n",
    "        X = normalize_mid_points(X, ndims=2)\n",
    "    else:\n",
    "        X = X.reshape(N, 51)\n",
    "        \n",
    "    print(X.shape)\n",
    "    return X, y"
   ]
  },
  {
   "cell_type": "code",
   "execution_count": 5,
   "metadata": {},
   "outputs": [],
   "source": [
    "files = os.listdir('data/labels/')\n",
    "X_list, y_list = [], []\n",
    "X_list_val, y_list_val = [], []"
   ]
  },
  {
   "cell_type": "code",
   "execution_count": 6,
   "metadata": {},
   "outputs": [],
   "source": [
    "train_files = [f for f in files if '_1' in f]\n",
    "val_files = [f for f in files if '_2' in f]"
   ]
  },
  {
   "cell_type": "code",
   "execution_count": 15,
   "metadata": {
    "scrolled": true
   },
   "outputs": [
    {
     "name": "stdout",
     "output_type": "stream",
     "text": [
      "(1200, 36)\n",
      "(746, 36)\n",
      "(1100, 36)\n",
      "(802, 36)\n",
      "(952, 36)\n",
      "(858, 36)\n"
     ]
    }
   ],
   "source": [
    "for f in train_files:\n",
    "    X, y = read_data(f)\n",
    "    X_list.append(X)\n",
    "    y_list.append(y)"
   ]
  },
  {
   "cell_type": "code",
   "execution_count": 16,
   "metadata": {},
   "outputs": [
    {
     "name": "stdout",
     "output_type": "stream",
     "text": [
      "(993, 36)\n",
      "(703, 36)\n",
      "(1051, 36)\n",
      "(792, 36)\n",
      "(643, 36)\n",
      "(1186, 36)\n"
     ]
    }
   ],
   "source": [
    "for f in val_files:\n",
    "    X, y = read_data(f)\n",
    "    X_list_val.append(X)\n",
    "    y_list_val.append(y)"
   ]
  },
  {
   "cell_type": "code",
   "execution_count": 17,
   "metadata": {},
   "outputs": [],
   "source": [
    "X_train = np.concatenate(X_list)\n",
    "y_train = np.concatenate(y_list)\n",
    "X_val = np.concatenate(X_list_val)\n",
    "y_val = np.concatenate(y_list_val)"
   ]
  },
  {
   "cell_type": "code",
   "execution_count": 18,
   "metadata": {},
   "outputs": [
    {
     "data": {
      "text/plain": [
       "((11316, 36), (11316,), (5368, 36), (5368,))"
      ]
     },
     "execution_count": 18,
     "metadata": {},
     "output_type": "execute_result"
    }
   ],
   "source": [
    "X_train.shape, y_train.shape, X_val.shape, y_val.shape"
   ]
  },
  {
   "cell_type": "code",
   "execution_count": 22,
   "metadata": {},
   "outputs": [],
   "source": [
    "KEYPOINT_DICT = {\n",
    "    'nose': 0,\n",
    "    'left_eye': 1,\n",
    "    'right_eye': 2,\n",
    "    'left_ear': 3,\n",
    "    'right_ear': 4,\n",
    "    'left_shoulder': 5,\n",
    "    'right_shoulder': 6,\n",
    "    'left_elbow': 7,\n",
    "    'right_elbow': 8,\n",
    "    'left_wrist': 9,\n",
    "    'right_wrist': 10,\n",
    "    'left_hip': 11,\n",
    "    'right_hip': 12,\n",
    "    'left_knee': 13,\n",
    "    'right_knee': 14,\n",
    "    'left_ankle': 15,\n",
    "    'right_ankle': 16\n",
    "}\n",
    "\n",
    "def format_feature_names(names, ndims=3):\n",
    "    feature_names = []\n",
    "    for name in list(KEYPOINT_DICT.keys()):\n",
    "        feature_names.append(name+'-x')\n",
    "        feature_names.append(name+'-y')\n",
    "        if ndims==3:\n",
    "            feature_names.append(name+'-z')\n",
    "    feature_names.append('mid_point-x')\n",
    "    feature_names.append('mid_point-y')\n",
    "    if ndims==3:\n",
    "        feature_names.append('mid_point-z')\n",
    "    return feature_names\n",
    "\n",
    "feature_names = format_feature_names(list(KEYPOINT_DICT.keys()), ndims=2)"
   ]
  },
  {
   "cell_type": "code",
   "execution_count": 23,
   "metadata": {},
   "outputs": [],
   "source": [
    "df = pd.DataFrame(data=X_train, columns=feature_names)"
   ]
  },
  {
   "cell_type": "code",
   "execution_count": 24,
   "metadata": {
    "scrolled": false
   },
   "outputs": [
    {
     "data": {
      "text/html": [
       "<div>\n",
       "<style scoped>\n",
       "    .dataframe tbody tr th:only-of-type {\n",
       "        vertical-align: middle;\n",
       "    }\n",
       "\n",
       "    .dataframe tbody tr th {\n",
       "        vertical-align: top;\n",
       "    }\n",
       "\n",
       "    .dataframe thead th {\n",
       "        text-align: right;\n",
       "    }\n",
       "</style>\n",
       "<table border=\"1\" class=\"dataframe\">\n",
       "  <thead>\n",
       "    <tr style=\"text-align: right;\">\n",
       "      <th></th>\n",
       "      <th>count</th>\n",
       "      <th>mean</th>\n",
       "      <th>std</th>\n",
       "      <th>min</th>\n",
       "      <th>25%</th>\n",
       "      <th>50%</th>\n",
       "      <th>75%</th>\n",
       "      <th>max</th>\n",
       "    </tr>\n",
       "  </thead>\n",
       "  <tbody>\n",
       "    <tr>\n",
       "      <th>nose-x</th>\n",
       "      <td>11316.0</td>\n",
       "      <td>-0.215987</td>\n",
       "      <td>0.020581</td>\n",
       "      <td>-0.286912</td>\n",
       "      <td>-0.231231</td>\n",
       "      <td>-0.217968</td>\n",
       "      <td>-0.201670</td>\n",
       "      <td>-0.137288</td>\n",
       "    </tr>\n",
       "    <tr>\n",
       "      <th>nose-y</th>\n",
       "      <td>11316.0</td>\n",
       "      <td>-0.099373</td>\n",
       "      <td>0.060290</td>\n",
       "      <td>-0.319833</td>\n",
       "      <td>-0.141223</td>\n",
       "      <td>-0.101188</td>\n",
       "      <td>-0.054012</td>\n",
       "      <td>0.133204</td>\n",
       "    </tr>\n",
       "    <tr>\n",
       "      <th>left_eye-x</th>\n",
       "      <td>11316.0</td>\n",
       "      <td>-0.228067</td>\n",
       "      <td>0.021247</td>\n",
       "      <td>-0.294852</td>\n",
       "      <td>-0.243813</td>\n",
       "      <td>-0.229817</td>\n",
       "      <td>-0.213000</td>\n",
       "      <td>-0.143396</td>\n",
       "    </tr>\n",
       "    <tr>\n",
       "      <th>left_eye-y</th>\n",
       "      <td>11316.0</td>\n",
       "      <td>-0.085212</td>\n",
       "      <td>0.066451</td>\n",
       "      <td>-0.313134</td>\n",
       "      <td>-0.132676</td>\n",
       "      <td>-0.086532</td>\n",
       "      <td>-0.034463</td>\n",
       "      <td>0.144004</td>\n",
       "    </tr>\n",
       "    <tr>\n",
       "      <th>right_eye-x</th>\n",
       "      <td>11316.0</td>\n",
       "      <td>-0.228127</td>\n",
       "      <td>0.020959</td>\n",
       "      <td>-0.295746</td>\n",
       "      <td>-0.243888</td>\n",
       "      <td>-0.230081</td>\n",
       "      <td>-0.212890</td>\n",
       "      <td>-0.149324</td>\n",
       "    </tr>\n",
       "    <tr>\n",
       "      <th>right_eye-y</th>\n",
       "      <td>11316.0</td>\n",
       "      <td>-0.095476</td>\n",
       "      <td>0.059404</td>\n",
       "      <td>-0.314587</td>\n",
       "      <td>-0.136915</td>\n",
       "      <td>-0.098172</td>\n",
       "      <td>-0.049768</td>\n",
       "      <td>0.126586</td>\n",
       "    </tr>\n",
       "    <tr>\n",
       "      <th>left_ear-x</th>\n",
       "      <td>11316.0</td>\n",
       "      <td>-0.228428</td>\n",
       "      <td>0.022716</td>\n",
       "      <td>-0.277814</td>\n",
       "      <td>-0.246443</td>\n",
       "      <td>-0.230224</td>\n",
       "      <td>-0.210957</td>\n",
       "      <td>-0.148176</td>\n",
       "    </tr>\n",
       "    <tr>\n",
       "      <th>left_ear-y</th>\n",
       "      <td>11316.0</td>\n",
       "      <td>-0.022547</td>\n",
       "      <td>0.064831</td>\n",
       "      <td>-0.242360</td>\n",
       "      <td>-0.064231</td>\n",
       "      <td>-0.020757</td>\n",
       "      <td>0.026669</td>\n",
       "      <td>0.157801</td>\n",
       "    </tr>\n",
       "    <tr>\n",
       "      <th>right_ear-x</th>\n",
       "      <td>11316.0</td>\n",
       "      <td>-0.230895</td>\n",
       "      <td>0.022257</td>\n",
       "      <td>-0.282105</td>\n",
       "      <td>-0.248717</td>\n",
       "      <td>-0.232656</td>\n",
       "      <td>-0.212928</td>\n",
       "      <td>-0.158699</td>\n",
       "    </tr>\n",
       "    <tr>\n",
       "      <th>right_ear-y</th>\n",
       "      <td>11316.0</td>\n",
       "      <td>-0.048343</td>\n",
       "      <td>0.051595</td>\n",
       "      <td>-0.248735</td>\n",
       "      <td>-0.081833</td>\n",
       "      <td>-0.048796</td>\n",
       "      <td>-0.008734</td>\n",
       "      <td>0.105384</td>\n",
       "    </tr>\n",
       "    <tr>\n",
       "      <th>left_shoulder-x</th>\n",
       "      <td>11316.0</td>\n",
       "      <td>-0.172442</td>\n",
       "      <td>0.026836</td>\n",
       "      <td>-0.238201</td>\n",
       "      <td>-0.193268</td>\n",
       "      <td>-0.176855</td>\n",
       "      <td>-0.151801</td>\n",
       "      <td>-0.087118</td>\n",
       "    </tr>\n",
       "    <tr>\n",
       "      <th>left_shoulder-y</th>\n",
       "      <td>11316.0</td>\n",
       "      <td>0.035528</td>\n",
       "      <td>0.070529</td>\n",
       "      <td>-0.224185</td>\n",
       "      <td>0.000541</td>\n",
       "      <td>0.047973</td>\n",
       "      <td>0.086249</td>\n",
       "      <td>0.199383</td>\n",
       "    </tr>\n",
       "    <tr>\n",
       "      <th>right_shoulder-x</th>\n",
       "      <td>11316.0</td>\n",
       "      <td>-0.180005</td>\n",
       "      <td>0.020992</td>\n",
       "      <td>-0.234546</td>\n",
       "      <td>-0.196499</td>\n",
       "      <td>-0.180835</td>\n",
       "      <td>-0.162040</td>\n",
       "      <td>-0.125950</td>\n",
       "    </tr>\n",
       "    <tr>\n",
       "      <th>right_shoulder-y</th>\n",
       "      <td>11316.0</td>\n",
       "      <td>-0.026514</td>\n",
       "      <td>0.044604</td>\n",
       "      <td>-0.194712</td>\n",
       "      <td>-0.051636</td>\n",
       "      <td>-0.025023</td>\n",
       "      <td>0.004131</td>\n",
       "      <td>0.112301</td>\n",
       "    </tr>\n",
       "    <tr>\n",
       "      <th>left_elbow-x</th>\n",
       "      <td>11316.0</td>\n",
       "      <td>-0.074320</td>\n",
       "      <td>0.035824</td>\n",
       "      <td>-0.274349</td>\n",
       "      <td>-0.088071</td>\n",
       "      <td>-0.071190</td>\n",
       "      <td>-0.053479</td>\n",
       "      <td>0.016545</td>\n",
       "    </tr>\n",
       "    <tr>\n",
       "      <th>left_elbow-y</th>\n",
       "      <td>11316.0</td>\n",
       "      <td>-0.022891</td>\n",
       "      <td>0.109729</td>\n",
       "      <td>-0.396370</td>\n",
       "      <td>-0.097936</td>\n",
       "      <td>-0.002422</td>\n",
       "      <td>0.059112</td>\n",
       "      <td>0.237035</td>\n",
       "    </tr>\n",
       "    <tr>\n",
       "      <th>right_elbow-x</th>\n",
       "      <td>11316.0</td>\n",
       "      <td>-0.106908</td>\n",
       "      <td>0.028571</td>\n",
       "      <td>-0.248165</td>\n",
       "      <td>-0.113360</td>\n",
       "      <td>-0.100038</td>\n",
       "      <td>-0.089326</td>\n",
       "      <td>-0.054627</td>\n",
       "    </tr>\n",
       "    <tr>\n",
       "      <th>right_elbow-y</th>\n",
       "      <td>11316.0</td>\n",
       "      <td>-0.097319</td>\n",
       "      <td>0.059812</td>\n",
       "      <td>-0.338060</td>\n",
       "      <td>-0.126078</td>\n",
       "      <td>-0.093627</td>\n",
       "      <td>-0.060476</td>\n",
       "      <td>0.086773</td>\n",
       "    </tr>\n",
       "    <tr>\n",
       "      <th>left_wrist-x</th>\n",
       "      <td>11316.0</td>\n",
       "      <td>-0.114594</td>\n",
       "      <td>0.048788</td>\n",
       "      <td>-0.271913</td>\n",
       "      <td>-0.150364</td>\n",
       "      <td>-0.120941</td>\n",
       "      <td>-0.085141</td>\n",
       "      <td>0.034456</td>\n",
       "    </tr>\n",
       "    <tr>\n",
       "      <th>left_wrist-y</th>\n",
       "      <td>11316.0</td>\n",
       "      <td>-0.122604</td>\n",
       "      <td>0.116870</td>\n",
       "      <td>-0.583761</td>\n",
       "      <td>-0.163993</td>\n",
       "      <td>-0.100483</td>\n",
       "      <td>-0.049061</td>\n",
       "      <td>0.241595</td>\n",
       "    </tr>\n",
       "    <tr>\n",
       "      <th>right_wrist-x</th>\n",
       "      <td>11316.0</td>\n",
       "      <td>-0.139807</td>\n",
       "      <td>0.032479</td>\n",
       "      <td>-0.253587</td>\n",
       "      <td>-0.161034</td>\n",
       "      <td>-0.141715</td>\n",
       "      <td>-0.119447</td>\n",
       "      <td>-0.018207</td>\n",
       "    </tr>\n",
       "    <tr>\n",
       "      <th>right_wrist-y</th>\n",
       "      <td>11316.0</td>\n",
       "      <td>-0.150335</td>\n",
       "      <td>0.070640</td>\n",
       "      <td>-0.494684</td>\n",
       "      <td>-0.166210</td>\n",
       "      <td>-0.135508</td>\n",
       "      <td>-0.108119</td>\n",
       "      <td>0.059219</td>\n",
       "    </tr>\n",
       "    <tr>\n",
       "      <th>left_hip-x</th>\n",
       "      <td>11316.0</td>\n",
       "      <td>0.002490</td>\n",
       "      <td>0.001750</td>\n",
       "      <td>-0.002414</td>\n",
       "      <td>0.001303</td>\n",
       "      <td>0.002149</td>\n",
       "      <td>0.003318</td>\n",
       "      <td>0.014837</td>\n",
       "    </tr>\n",
       "    <tr>\n",
       "      <th>left_hip-y</th>\n",
       "      <td>11316.0</td>\n",
       "      <td>0.012413</td>\n",
       "      <td>0.026630</td>\n",
       "      <td>-0.066912</td>\n",
       "      <td>-0.002599</td>\n",
       "      <td>0.018723</td>\n",
       "      <td>0.031974</td>\n",
       "      <td>0.061393</td>\n",
       "    </tr>\n",
       "    <tr>\n",
       "      <th>right_hip-x</th>\n",
       "      <td>11316.0</td>\n",
       "      <td>-0.002490</td>\n",
       "      <td>0.001750</td>\n",
       "      <td>-0.014837</td>\n",
       "      <td>-0.003318</td>\n",
       "      <td>-0.002149</td>\n",
       "      <td>-0.001303</td>\n",
       "      <td>0.002414</td>\n",
       "    </tr>\n",
       "    <tr>\n",
       "      <th>right_hip-y</th>\n",
       "      <td>11316.0</td>\n",
       "      <td>-0.012413</td>\n",
       "      <td>0.026630</td>\n",
       "      <td>-0.061393</td>\n",
       "      <td>-0.031974</td>\n",
       "      <td>-0.018723</td>\n",
       "      <td>0.002599</td>\n",
       "      <td>0.066912</td>\n",
       "    </tr>\n",
       "    <tr>\n",
       "      <th>left_knee-x</th>\n",
       "      <td>11316.0</td>\n",
       "      <td>0.128083</td>\n",
       "      <td>0.010553</td>\n",
       "      <td>0.095952</td>\n",
       "      <td>0.120651</td>\n",
       "      <td>0.127002</td>\n",
       "      <td>0.135013</td>\n",
       "      <td>0.169262</td>\n",
       "    </tr>\n",
       "    <tr>\n",
       "      <th>left_knee-y</th>\n",
       "      <td>11316.0</td>\n",
       "      <td>-0.125372</td>\n",
       "      <td>0.059500</td>\n",
       "      <td>-0.248340</td>\n",
       "      <td>-0.175614</td>\n",
       "      <td>-0.129063</td>\n",
       "      <td>-0.085586</td>\n",
       "      <td>0.097385</td>\n",
       "    </tr>\n",
       "    <tr>\n",
       "      <th>right_knee-x</th>\n",
       "      <td>11316.0</td>\n",
       "      <td>0.113686</td>\n",
       "      <td>0.011624</td>\n",
       "      <td>-0.005501</td>\n",
       "      <td>0.106703</td>\n",
       "      <td>0.114475</td>\n",
       "      <td>0.121245</td>\n",
       "      <td>0.151177</td>\n",
       "    </tr>\n",
       "    <tr>\n",
       "      <th>right_knee-y</th>\n",
       "      <td>11316.0</td>\n",
       "      <td>-0.023227</td>\n",
       "      <td>0.033999</td>\n",
       "      <td>-0.226442</td>\n",
       "      <td>-0.043254</td>\n",
       "      <td>-0.018769</td>\n",
       "      <td>-0.001769</td>\n",
       "      <td>0.087465</td>\n",
       "    </tr>\n",
       "    <tr>\n",
       "      <th>left_ankle-x</th>\n",
       "      <td>11316.0</td>\n",
       "      <td>0.268887</td>\n",
       "      <td>0.020797</td>\n",
       "      <td>0.149202</td>\n",
       "      <td>0.258251</td>\n",
       "      <td>0.270356</td>\n",
       "      <td>0.281234</td>\n",
       "      <td>0.333617</td>\n",
       "    </tr>\n",
       "    <tr>\n",
       "      <th>left_ankle-y</th>\n",
       "      <td>11316.0</td>\n",
       "      <td>-0.112683</td>\n",
       "      <td>0.074507</td>\n",
       "      <td>-0.311404</td>\n",
       "      <td>-0.166394</td>\n",
       "      <td>-0.128440</td>\n",
       "      <td>-0.072237</td>\n",
       "      <td>0.189237</td>\n",
       "    </tr>\n",
       "    <tr>\n",
       "      <th>right_ankle-x</th>\n",
       "      <td>11316.0</td>\n",
       "      <td>0.209722</td>\n",
       "      <td>0.034536</td>\n",
       "      <td>0.108441</td>\n",
       "      <td>0.184175</td>\n",
       "      <td>0.204747</td>\n",
       "      <td>0.238672</td>\n",
       "      <td>0.302094</td>\n",
       "    </tr>\n",
       "    <tr>\n",
       "      <th>right_ankle-y</th>\n",
       "      <td>11316.0</td>\n",
       "      <td>0.062524</td>\n",
       "      <td>0.043116</td>\n",
       "      <td>-0.218995</td>\n",
       "      <td>0.038644</td>\n",
       "      <td>0.062787</td>\n",
       "      <td>0.088458</td>\n",
       "      <td>0.229203</td>\n",
       "    </tr>\n",
       "    <tr>\n",
       "      <th>mid_point-x</th>\n",
       "      <td>11316.0</td>\n",
       "      <td>0.507754</td>\n",
       "      <td>0.032724</td>\n",
       "      <td>0.422682</td>\n",
       "      <td>0.486007</td>\n",
       "      <td>0.502763</td>\n",
       "      <td>0.525387</td>\n",
       "      <td>0.599691</td>\n",
       "    </tr>\n",
       "    <tr>\n",
       "      <th>mid_point-y</th>\n",
       "      <td>11316.0</td>\n",
       "      <td>0.777034</td>\n",
       "      <td>0.074748</td>\n",
       "      <td>0.546688</td>\n",
       "      <td>0.728648</td>\n",
       "      <td>0.785225</td>\n",
       "      <td>0.828861</td>\n",
       "      <td>0.967995</td>\n",
       "    </tr>\n",
       "  </tbody>\n",
       "</table>\n",
       "</div>"
      ],
      "text/plain": [
       "                    count      mean       std       min       25%       50%  \\\n",
       "nose-x            11316.0 -0.215987  0.020581 -0.286912 -0.231231 -0.217968   \n",
       "nose-y            11316.0 -0.099373  0.060290 -0.319833 -0.141223 -0.101188   \n",
       "left_eye-x        11316.0 -0.228067  0.021247 -0.294852 -0.243813 -0.229817   \n",
       "left_eye-y        11316.0 -0.085212  0.066451 -0.313134 -0.132676 -0.086532   \n",
       "right_eye-x       11316.0 -0.228127  0.020959 -0.295746 -0.243888 -0.230081   \n",
       "right_eye-y       11316.0 -0.095476  0.059404 -0.314587 -0.136915 -0.098172   \n",
       "left_ear-x        11316.0 -0.228428  0.022716 -0.277814 -0.246443 -0.230224   \n",
       "left_ear-y        11316.0 -0.022547  0.064831 -0.242360 -0.064231 -0.020757   \n",
       "right_ear-x       11316.0 -0.230895  0.022257 -0.282105 -0.248717 -0.232656   \n",
       "right_ear-y       11316.0 -0.048343  0.051595 -0.248735 -0.081833 -0.048796   \n",
       "left_shoulder-x   11316.0 -0.172442  0.026836 -0.238201 -0.193268 -0.176855   \n",
       "left_shoulder-y   11316.0  0.035528  0.070529 -0.224185  0.000541  0.047973   \n",
       "right_shoulder-x  11316.0 -0.180005  0.020992 -0.234546 -0.196499 -0.180835   \n",
       "right_shoulder-y  11316.0 -0.026514  0.044604 -0.194712 -0.051636 -0.025023   \n",
       "left_elbow-x      11316.0 -0.074320  0.035824 -0.274349 -0.088071 -0.071190   \n",
       "left_elbow-y      11316.0 -0.022891  0.109729 -0.396370 -0.097936 -0.002422   \n",
       "right_elbow-x     11316.0 -0.106908  0.028571 -0.248165 -0.113360 -0.100038   \n",
       "right_elbow-y     11316.0 -0.097319  0.059812 -0.338060 -0.126078 -0.093627   \n",
       "left_wrist-x      11316.0 -0.114594  0.048788 -0.271913 -0.150364 -0.120941   \n",
       "left_wrist-y      11316.0 -0.122604  0.116870 -0.583761 -0.163993 -0.100483   \n",
       "right_wrist-x     11316.0 -0.139807  0.032479 -0.253587 -0.161034 -0.141715   \n",
       "right_wrist-y     11316.0 -0.150335  0.070640 -0.494684 -0.166210 -0.135508   \n",
       "left_hip-x        11316.0  0.002490  0.001750 -0.002414  0.001303  0.002149   \n",
       "left_hip-y        11316.0  0.012413  0.026630 -0.066912 -0.002599  0.018723   \n",
       "right_hip-x       11316.0 -0.002490  0.001750 -0.014837 -0.003318 -0.002149   \n",
       "right_hip-y       11316.0 -0.012413  0.026630 -0.061393 -0.031974 -0.018723   \n",
       "left_knee-x       11316.0  0.128083  0.010553  0.095952  0.120651  0.127002   \n",
       "left_knee-y       11316.0 -0.125372  0.059500 -0.248340 -0.175614 -0.129063   \n",
       "right_knee-x      11316.0  0.113686  0.011624 -0.005501  0.106703  0.114475   \n",
       "right_knee-y      11316.0 -0.023227  0.033999 -0.226442 -0.043254 -0.018769   \n",
       "left_ankle-x      11316.0  0.268887  0.020797  0.149202  0.258251  0.270356   \n",
       "left_ankle-y      11316.0 -0.112683  0.074507 -0.311404 -0.166394 -0.128440   \n",
       "right_ankle-x     11316.0  0.209722  0.034536  0.108441  0.184175  0.204747   \n",
       "right_ankle-y     11316.0  0.062524  0.043116 -0.218995  0.038644  0.062787   \n",
       "mid_point-x       11316.0  0.507754  0.032724  0.422682  0.486007  0.502763   \n",
       "mid_point-y       11316.0  0.777034  0.074748  0.546688  0.728648  0.785225   \n",
       "\n",
       "                       75%       max  \n",
       "nose-x           -0.201670 -0.137288  \n",
       "nose-y           -0.054012  0.133204  \n",
       "left_eye-x       -0.213000 -0.143396  \n",
       "left_eye-y       -0.034463  0.144004  \n",
       "right_eye-x      -0.212890 -0.149324  \n",
       "right_eye-y      -0.049768  0.126586  \n",
       "left_ear-x       -0.210957 -0.148176  \n",
       "left_ear-y        0.026669  0.157801  \n",
       "right_ear-x      -0.212928 -0.158699  \n",
       "right_ear-y      -0.008734  0.105384  \n",
       "left_shoulder-x  -0.151801 -0.087118  \n",
       "left_shoulder-y   0.086249  0.199383  \n",
       "right_shoulder-x -0.162040 -0.125950  \n",
       "right_shoulder-y  0.004131  0.112301  \n",
       "left_elbow-x     -0.053479  0.016545  \n",
       "left_elbow-y      0.059112  0.237035  \n",
       "right_elbow-x    -0.089326 -0.054627  \n",
       "right_elbow-y    -0.060476  0.086773  \n",
       "left_wrist-x     -0.085141  0.034456  \n",
       "left_wrist-y     -0.049061  0.241595  \n",
       "right_wrist-x    -0.119447 -0.018207  \n",
       "right_wrist-y    -0.108119  0.059219  \n",
       "left_hip-x        0.003318  0.014837  \n",
       "left_hip-y        0.031974  0.061393  \n",
       "right_hip-x      -0.001303  0.002414  \n",
       "right_hip-y       0.002599  0.066912  \n",
       "left_knee-x       0.135013  0.169262  \n",
       "left_knee-y      -0.085586  0.097385  \n",
       "right_knee-x      0.121245  0.151177  \n",
       "right_knee-y     -0.001769  0.087465  \n",
       "left_ankle-x      0.281234  0.333617  \n",
       "left_ankle-y     -0.072237  0.189237  \n",
       "right_ankle-x     0.238672  0.302094  \n",
       "right_ankle-y     0.088458  0.229203  \n",
       "mid_point-x       0.525387  0.599691  \n",
       "mid_point-y       0.828861  0.967995  "
      ]
     },
     "execution_count": 24,
     "metadata": {},
     "output_type": "execute_result"
    }
   ],
   "source": [
    "df.describe().transpose()"
   ]
  },
  {
   "cell_type": "code",
   "execution_count": 25,
   "metadata": {
    "scrolled": true
   },
   "outputs": [
    {
     "data": {
      "image/png": "[encoded data removed]",
      "text/plain": [
       "<Figure size 1152x720 with 1 Axes>"
      ]
     },
     "metadata": {
      "needs_background": "light"
     },
     "output_type": "display_data"
    }
   ],
   "source": [
    "plt.figure(figsize=(16, 10))\n",
    "ax = sns.violinplot(data=df)\n",
    "_ = ax.set_xticklabels(df.keys(), rotation=90)"
   ]
  },
  {
   "cell_type": "code",
   "execution_count": 26,
   "metadata": {},
   "outputs": [],
   "source": [
    "time_steps=30 # expect camera 30 fps, so process 1 sample per second\n",
    "# Number of samples in batch\n",
    "N_train = X_train.shape[0] // time_steps \n",
    "N_val = X_val.shape[0] // time_steps"
   ]
  },
  {
   "cell_type": "code",
   "execution_count": 28,
   "metadata": {},
   "outputs": [
    {
     "data": {
      "text/plain": [
       "((377, 30, 36), (178, 30, 36))"
      ]
     },
     "execution_count": 28,
     "metadata": {},
     "output_type": "execute_result"
    }
   ],
   "source": [
    "X_train = X_train[:N_train*time_steps].reshape(-1, time_steps, 36)\n",
    "y_train = y_train[:N_train*time_steps].reshape(-1, time_steps, 1)\n",
    "X_val = X_val[:N_val*time_steps].reshape(-1, time_steps, 36)\n",
    "y_val = y_val[:N_val*time_steps].reshape(-1, time_steps, 1)\n",
    "X_train.shape, X_val.shape"
   ]
  },
  {
   "cell_type": "markdown",
   "metadata": {},
   "source": [
    "## LSTM"
   ]
  },
  {
   "cell_type": "code",
   "execution_count": 29,
   "metadata": {
    "scrolled": true
   },
   "outputs": [
    {
     "name": "stderr",
     "output_type": "stream",
     "text": [
      "2021-11-09 19:58:56.618948: I tensorflow/core/platform/cpu_feature_guard.cc:142] This TensorFlow binary is optimized with oneAPI Deep Neural Network Library (oneDNN) to use the following CPU instructions in performance-critical operations:  AVX2 FMA\n",
      "To enable them in other operations, rebuild TensorFlow with the appropriate compiler flags.\n"
     ]
    }
   ],
   "source": [
    "y_train = K.utils.to_categorical(y_train, num_classes=7)\n",
    "X_train = tf.constant(X_train)\n",
    "y_val = K.utils.to_categorical(y_val, num_classes=7)\n",
    "X_val = tf.constant(X_val)"
   ]
  },
  {
   "cell_type": "code",
   "execution_count": 30,
   "metadata": {},
   "outputs": [],
   "source": [
    "def model_builder(hp):\n",
    "    # Hyperparams\n",
    "    hp_ru = hp.Int('recurrent_units', min_value=16, max_value=128, step=8)\n",
    "    hp_du1 = hp.Int('units1', min_value=16, max_value=128, step=8)\n",
    "    hp_du2 = hp.Int('units2', min_value=16, max_value=128, step=8)\n",
    "    hp_reg1 = hp.Float('dense1_reg', min_value=1e-4, max_value=1e-2)\n",
    "    hp_reg2 = hp.Float('dense2_reg', min_value=1e-4, max_value=1e-2)\n",
    "    \n",
    "    hp_dp = hp.Float('dropout', min_value=0., max_value=0.4)\n",
    "    hp_rec_dp = hp.Float('rec_dropout', min_value=0., max_value=0.4)\n",
    "    hp_kernel_reg = hp.Float('kernel_reg', min_value=1e-5, max_value=1e-3, sampling='log')\n",
    "    hp_recur_reg = hp.Float('recur_reg', min_value=1e-5, max_value=1e-3, sampling='log')\n",
    "    hp_act_reg = hp.Float('act_reg', min_value=1e-5, max_value=1e-3, sampling='log')\n",
    "    \n",
    "    hp_learning_rate = hp.Float('learning_rate', min_value=1e-4, max_value=1e-2)\n",
    "\n",
    "    \n",
    "    # Model\n",
    "    norm = tf.keras.layers.LayerNormalization(axis=1)\n",
    "    kernel_reg = K.regularizers.l2(hp_kernel_reg)\n",
    "    recurrent_reg = K.regularizers.l2(hp_recur_reg)\n",
    "    act_reg = K.regularizers.l2(hp_act_reg)\n",
    "    lstm = K.layers.LSTM(hp_ru,\n",
    "                         # stateful=True, # mutable states not supported in tflite \n",
    "                         return_sequences=True,\n",
    "                         kernel_regularizer=kernel_reg,\n",
    "                         recurrent_regularizer=recurrent_reg,\n",
    "                         activity_regularizer=act_reg,\n",
    "                         dropout=hp_dp,\n",
    "                         recurrent_dropout=hp_rec_dp\n",
    "                        )\n",
    "    dense1 = K.layers.Dense(hp_du1, activation='relu', \n",
    "                            kernel_regularizer=K.regularizers.l2(hp_reg1))\n",
    "    dense2 = K.layers.Dense(hp_du2, activation='relu', \n",
    "                           kernel_regularizer=K.regularizers.l2(hp_reg2))\n",
    "    out = K.layers.Dense(7, activation='sigmoid')\n",
    "\n",
    "    model = K.Sequential([norm, lstm, dense1, dense2, out])\n",
    "    model.compile(optimizer=K.optimizers.Adam(learning_rate=hp_learning_rate),\n",
    "                  loss='categorical_crossentropy',\n",
    "                  metrics=['accuracy'])\n",
    "    \n",
    "    return model"
   ]
  },
  {
   "cell_type": "code",
   "execution_count": 31,
   "metadata": {},
   "outputs": [
    {
     "name": "stdout",
     "output_type": "stream",
     "text": [
      "Trial 30 Complete [00h 01m 13s]\n",
      "val_accuracy: 0.815168559551239\n",
      "\n",
      "Best val_accuracy So Far: 0.8181647658348083\n",
      "Total elapsed time: 00h 17m 16s\n",
      "INFO:tensorflow:Oracle triggered exit\n"
     ]
    }
   ],
   "source": [
    "tuner = kt.Hyperband(model_builder,\n",
    "                     objective='val_accuracy',\n",
    "                     max_epochs=20,\n",
    "                     directory='kt_dir',\n",
    "                     project_name='punch_dl_kt')\n",
    "\n",
    "stop_early = tf.keras.callbacks.EarlyStopping(monitor='val_loss', patience=8)\n",
    "\n",
    "tuner.search(X_train, y_train, batch_size=1, validation_data=(X_val, y_val), \n",
    "             epochs=32, callbacks=[stop_early])"
   ]
  },
  {
   "cell_type": "code",
   "execution_count": 32,
   "metadata": {},
   "outputs": [
    {
     "data": {
      "text/plain": [
       "{'recurrent_units': 72,\n",
       " 'units1': 80,\n",
       " 'units2': 64,\n",
       " 'dense1_reg': 0.002674642711350214,\n",
       " 'dense2_reg': 0.00029406285857301595,\n",
       " 'dropout': 0.14025233956640423,\n",
       " 'rec_dropout': 0.06808928471555396,\n",
       " 'kernel_reg': 8.083461993086269e-05,\n",
       " 'recur_reg': 0.0001007391702590175,\n",
       " 'act_reg': 0.00043967606917372665,\n",
       " 'learning_rate': 0.0008907538850196228,\n",
       " 'tuner/epochs': 20,\n",
       " 'tuner/initial_epoch': 7,\n",
       " 'tuner/bracket': 1,\n",
       " 'tuner/round': 1,\n",
       " 'tuner/trial_id': 'd97fc7865f552f269da757b56c267b21'}"
      ]
     },
     "execution_count": 32,
     "metadata": {},
     "output_type": "execute_result"
    }
   ],
   "source": [
    "# Get the optimal hyperparameters\n",
    "best_hps=tuner.get_best_hyperparameters(num_trials=1)[0]\n",
    "\n",
    "best_hps.values"
   ]
  },
  {
   "cell_type": "code",
   "execution_count": 33,
   "metadata": {
    "scrolled": true
   },
   "outputs": [
    {
     "name": "stdout",
     "output_type": "stream",
     "text": [
      "Epoch 1/64\n",
      "377/377 [==============================] - 6s 11ms/step - loss: 1.3628 - accuracy: 0.6111 - val_loss: 1.0955 - val_accuracy: 0.6629\n",
      "Epoch 2/64\n",
      "377/377 [==============================] - 4s 10ms/step - loss: 0.8666 - accuracy: 0.7554 - val_loss: 0.8851 - val_accuracy: 0.7476\n",
      "Epoch 3/64\n",
      "377/377 [==============================] - 4s 10ms/step - loss: 0.6893 - accuracy: 0.8253 - val_loss: 0.8925 - val_accuracy: 0.7547\n",
      "Epoch 4/64\n",
      "377/377 [==============================] - 4s 10ms/step - loss: 0.6183 - accuracy: 0.8475 - val_loss: 0.7973 - val_accuracy: 0.7734\n",
      "Epoch 5/64\n",
      "377/377 [==============================] - 4s 10ms/step - loss: 0.5389 - accuracy: 0.8706 - val_loss: 0.7153 - val_accuracy: 0.7991\n",
      "Epoch 6/64\n",
      "377/377 [==============================] - 4s 10ms/step - loss: 0.5084 - accuracy: 0.8746 - val_loss: 0.7538 - val_accuracy: 0.7963\n",
      "Epoch 7/64\n",
      "377/377 [==============================] - 4s 10ms/step - loss: 0.4795 - accuracy: 0.8884 - val_loss: 0.7068 - val_accuracy: 0.8002\n",
      "Epoch 8/64\n",
      "377/377 [==============================] - 4s 10ms/step - loss: 0.4178 - accuracy: 0.9089 - val_loss: 0.7289 - val_accuracy: 0.7888\n",
      "Epoch 9/64\n",
      "377/377 [==============================] - 4s 10ms/step - loss: 0.3884 - accuracy: 0.9134 - val_loss: 0.8235 - val_accuracy: 0.7860\n",
      "Epoch 10/64\n",
      "377/377 [==============================] - 4s 11ms/step - loss: 0.3980 - accuracy: 0.9095 - val_loss: 0.6999 - val_accuracy: 0.7964\n",
      "Epoch 11/64\n",
      "377/377 [==============================] - 4s 12ms/step - loss: 0.3792 - accuracy: 0.9147 - val_loss: 0.7738 - val_accuracy: 0.7891\n",
      "Epoch 12/64\n",
      "377/377 [==============================] - 4s 10ms/step - loss: 0.3526 - accuracy: 0.9212 - val_loss: 0.7560 - val_accuracy: 0.8058\n",
      "Epoch 13/64\n",
      "377/377 [==============================] - 4s 10ms/step - loss: 0.3388 - accuracy: 0.9242 - val_loss: 0.7623 - val_accuracy: 0.7948\n",
      "Epoch 14/64\n",
      "377/377 [==============================] - 4s 10ms/step - loss: 0.3394 - accuracy: 0.9235 - val_loss: 0.9317 - val_accuracy: 0.7642\n",
      "Epoch 15/64\n",
      "377/377 [==============================] - 4s 10ms/step - loss: 0.3595 - accuracy: 0.9177 - val_loss: 0.7821 - val_accuracy: 0.7923\n",
      "Epoch 16/64\n",
      "377/377 [==============================] - 4s 11ms/step - loss: 0.3264 - accuracy: 0.9272 - val_loss: 0.7700 - val_accuracy: 0.7979\n",
      "Epoch 17/64\n",
      "377/377 [==============================] - 4s 10ms/step - loss: 0.3161 - accuracy: 0.9337 - val_loss: 0.7623 - val_accuracy: 0.7961\n",
      "Epoch 18/64\n",
      "377/377 [==============================] - 4s 11ms/step - loss: 0.2908 - accuracy: 0.9370 - val_loss: 0.7673 - val_accuracy: 0.8073\n",
      "Epoch 19/64\n",
      "377/377 [==============================] - 4s 11ms/step - loss: 0.2841 - accuracy: 0.9444 - val_loss: 0.8114 - val_accuracy: 0.8045\n",
      "Epoch 20/64\n",
      "377/377 [==============================] - 4s 11ms/step - loss: 0.2760 - accuracy: 0.9432 - val_loss: 0.8891 - val_accuracy: 0.7869\n",
      "Epoch 21/64\n",
      "377/377 [==============================] - 4s 10ms/step - loss: 0.2543 - accuracy: 0.9533 - val_loss: 0.7821 - val_accuracy: 0.8022\n",
      "Epoch 22/64\n",
      "377/377 [==============================] - 4s 10ms/step - loss: 0.2294 - accuracy: 0.9629 - val_loss: 0.7782 - val_accuracy: 0.8039\n",
      "Epoch 23/64\n",
      "377/377 [==============================] - 4s 9ms/step - loss: 0.2273 - accuracy: 0.9645 - val_loss: 0.7794 - val_accuracy: 0.8067\n",
      "Epoch 24/64\n",
      "377/377 [==============================] - 4s 9ms/step - loss: 0.2251 - accuracy: 0.9641 - val_loss: 0.7796 - val_accuracy: 0.8082\n",
      "Epoch 25/64\n",
      "377/377 [==============================] - 4s 10ms/step - loss: 0.2232 - accuracy: 0.9637 - val_loss: 0.7918 - val_accuracy: 0.8021\n",
      "Epoch 26/64\n",
      "377/377 [==============================] - 4s 11ms/step - loss: 0.2203 - accuracy: 0.9666 - val_loss: 0.7859 - val_accuracy: 0.8056\n",
      "Epoch 27/64\n",
      "377/377 [==============================] - 4s 11ms/step - loss: 0.2194 - accuracy: 0.9658 - val_loss: 0.7804 - val_accuracy: 0.8110\n",
      "Epoch 28/64\n",
      "377/377 [==============================] - 4s 11ms/step - loss: 0.2177 - accuracy: 0.9659 - val_loss: 0.7859 - val_accuracy: 0.8092\n",
      "Epoch 29/64\n",
      "377/377 [==============================] - 4s 11ms/step - loss: 0.2142 - accuracy: 0.9684 - val_loss: 0.7904 - val_accuracy: 0.8052\n",
      "Epoch 30/64\n",
      "377/377 [==============================] - 4s 11ms/step - loss: 0.2182 - accuracy: 0.9653 - val_loss: 0.7931 - val_accuracy: 0.8073\n",
      "Epoch 31/64\n",
      "377/377 [==============================] - 4s 10ms/step - loss: 0.2080 - accuracy: 0.9700 - val_loss: 0.7923 - val_accuracy: 0.8075\n",
      "Epoch 32/64\n",
      "377/377 [==============================] - 4s 11ms/step - loss: 0.2065 - accuracy: 0.9702 - val_loss: 0.7906 - val_accuracy: 0.8073\n",
      "Epoch 33/64\n",
      "377/377 [==============================] - 4s 11ms/step - loss: 0.2097 - accuracy: 0.9713 - val_loss: 0.7914 - val_accuracy: 0.8084\n",
      "Epoch 34/64\n",
      "377/377 [==============================] - 4s 10ms/step - loss: 0.2052 - accuracy: 0.9728 - val_loss: 0.7925 - val_accuracy: 0.8069\n",
      "Epoch 35/64\n",
      "377/377 [==============================] - 4s 10ms/step - loss: 0.2080 - accuracy: 0.9688 - val_loss: 0.7937 - val_accuracy: 0.8077\n",
      "Epoch 36/64\n",
      "377/377 [==============================] - 4s 10ms/step - loss: 0.2063 - accuracy: 0.9699 - val_loss: 0.7929 - val_accuracy: 0.8081\n",
      "Epoch 37/64\n",
      "377/377 [==============================] - 4s 11ms/step - loss: 0.2039 - accuracy: 0.9720 - val_loss: 0.7937 - val_accuracy: 0.8079\n",
      "Epoch 38/64\n",
      "377/377 [==============================] - 4s 11ms/step - loss: 0.2055 - accuracy: 0.9706 - val_loss: 0.7929 - val_accuracy: 0.8082\n",
      "Epoch 39/64\n",
      "377/377 [==============================] - 4s 11ms/step - loss: 0.2106 - accuracy: 0.9677 - val_loss: 0.7932 - val_accuracy: 0.8077\n",
      "Epoch 40/64\n",
      "377/377 [==============================] - 4s 10ms/step - loss: 0.2067 - accuracy: 0.9715 - val_loss: 0.7925 - val_accuracy: 0.8084\n",
      "Epoch 41/64\n",
      "377/377 [==============================] - 4s 10ms/step - loss: 0.2039 - accuracy: 0.9719 - val_loss: 0.7925 - val_accuracy: 0.8082\n",
      "Epoch 42/64\n",
      "377/377 [==============================] - 4s 11ms/step - loss: 0.2057 - accuracy: 0.9690 - val_loss: 0.7929 - val_accuracy: 0.8084\n",
      "Epoch 43/64\n",
      "377/377 [==============================] - 4s 10ms/step - loss: 0.2030 - accuracy: 0.9714 - val_loss: 0.7930 - val_accuracy: 0.8084\n",
      "Epoch 44/64\n",
      "377/377 [==============================] - 4s 11ms/step - loss: 0.2059 - accuracy: 0.9692 - val_loss: 0.7929 - val_accuracy: 0.8081\n",
      "Epoch 45/64\n",
      "377/377 [==============================] - 4s 11ms/step - loss: 0.2076 - accuracy: 0.9701 - val_loss: 0.7929 - val_accuracy: 0.8077\n",
      "Epoch 46/64\n",
      "377/377 [==============================] - 4s 10ms/step - loss: 0.2058 - accuracy: 0.9709 - val_loss: 0.7930 - val_accuracy: 0.8082\n",
      "Epoch 47/64\n",
      "377/377 [==============================] - 4s 12ms/step - loss: 0.2041 - accuracy: 0.9725 - val_loss: 0.7928 - val_accuracy: 0.8079\n",
      "Epoch 48/64\n",
      "377/377 [==============================] - 6s 15ms/step - loss: 0.2028 - accuracy: 0.9706 - val_loss: 0.7928 - val_accuracy: 0.8077\n",
      "Epoch 49/64\n",
      "377/377 [==============================] - 5s 13ms/step - loss: 0.2078 - accuracy: 0.9686 - val_loss: 0.7932 - val_accuracy: 0.8079\n",
      "Epoch 50/64\n",
      "377/377 [==============================] - 5s 14ms/step - loss: 0.2071 - accuracy: 0.9691 - val_loss: 0.7936 - val_accuracy: 0.8079\n",
      "Epoch 51/64\n",
      "377/377 [==============================] - 4s 10ms/step - loss: 0.2054 - accuracy: 0.9711 - val_loss: 0.7936 - val_accuracy: 0.8079\n",
      "Epoch 52/64\n",
      "377/377 [==============================] - 4s 11ms/step - loss: 0.2032 - accuracy: 0.9713 - val_loss: 0.7936 - val_accuracy: 0.8077\n",
      "Epoch 53/64\n",
      "377/377 [==============================] - 6s 15ms/step - loss: 0.2044 - accuracy: 0.9714 - val_loss: 0.7936 - val_accuracy: 0.8077\n",
      "Epoch 54/64\n",
      "377/377 [==============================] - 6s 15ms/step - loss: 0.2059 - accuracy: 0.9698 - val_loss: 0.7936 - val_accuracy: 0.8077\n",
      "Epoch 55/64\n",
      "377/377 [==============================] - 4s 11ms/step - loss: 0.2083 - accuracy: 0.9676 - val_loss: 0.7936 - val_accuracy: 0.8075\n",
      "Epoch 56/64\n",
      "377/377 [==============================] - 5s 12ms/step - loss: 0.2033 - accuracy: 0.9709 - val_loss: 0.7936 - val_accuracy: 0.8077\n",
      "Epoch 57/64\n",
      "377/377 [==============================] - 5s 12ms/step - loss: 0.2066 - accuracy: 0.9696 - val_loss: 0.7936 - val_accuracy: 0.8077\n"
     ]
    },
    {
     "name": "stdout",
     "output_type": "stream",
     "text": [
      "Epoch 58/64\n",
      "377/377 [==============================] - 4s 10ms/step - loss: 0.2054 - accuracy: 0.9719 - val_loss: 0.7936 - val_accuracy: 0.8077\n",
      "Epoch 59/64\n",
      "377/377 [==============================] - 5s 13ms/step - loss: 0.2022 - accuracy: 0.9723 - val_loss: 0.7936 - val_accuracy: 0.8077\n",
      "Epoch 60/64\n",
      "377/377 [==============================] - 5s 14ms/step - loss: 0.2083 - accuracy: 0.9684 - val_loss: 0.7936 - val_accuracy: 0.8077\n",
      "Epoch 61/64\n",
      "377/377 [==============================] - 5s 13ms/step - loss: 0.2049 - accuracy: 0.9711 - val_loss: 0.7936 - val_accuracy: 0.8077\n",
      "Epoch 62/64\n",
      "377/377 [==============================] - 4s 12ms/step - loss: 0.2056 - accuracy: 0.9698 - val_loss: 0.7936 - val_accuracy: 0.8077\n",
      "Epoch 63/64\n",
      "377/377 [==============================] - 4s 12ms/step - loss: 0.2041 - accuracy: 0.9710 - val_loss: 0.7936 - val_accuracy: 0.8077\n",
      "Epoch 64/64\n",
      "377/377 [==============================] - 4s 10ms/step - loss: 0.2025 - accuracy: 0.9717 - val_loss: 0.7936 - val_accuracy: 0.8077\n",
      "Best epoch: 27\n"
     ]
    }
   ],
   "source": [
    "# Build the model with the optimal hyperparameters and train it on the data for 64 epochs\n",
    "model = tuner.hypermodel.build(best_hps)\n",
    "history = model.fit(X_train, y_train, batch_size=1, \n",
    "                    validation_data=(X_val, y_val), \n",
    "                    epochs=64,\n",
    "                   callbacks=[K.callbacks.ReduceLROnPlateau()])\n",
    "\n",
    "val_acc_per_epoch = history.history['val_accuracy']\n",
    "best_epoch = val_acc_per_epoch.index(max(val_acc_per_epoch)) + 1\n",
    "print('Best epoch: %d' % (best_epoch,))"
   ]
  },
  {
   "cell_type": "code",
   "execution_count": 34,
   "metadata": {},
   "outputs": [
    {
     "data": {
      "text/plain": [
       "[<matplotlib.lines.Line2D at 0x7fa52c2d7cd0>]"
      ]
     },
     "execution_count": 34,
     "metadata": {},
     "output_type": "execute_result"
    },
    {
     "data": {
      "image/png": "[encoded data removed]",
      "text/plain": [
       "<Figure size 1080x504 with 2 Axes>"
      ]
     },
     "metadata": {
      "needs_background": "light"
     },
     "output_type": "display_data"
    }
   ],
   "source": [
    "plt.figure(figsize=(15, 7))\n",
    "plt.subplot(221)\n",
    "plt.title(\"Train Loss\")\n",
    "plt.plot(history.history['loss'])\n",
    "plt.subplot(222)\n",
    "plt.title(\"Train/validation accuracy\")\n",
    "plt.plot(history.history['accuracy'])\n",
    "plt.plot(history.history['val_accuracy'])"
   ]
  },
  {
   "cell_type": "markdown",
   "metadata": {},
   "source": [
    "# Conclusion \n",
    "\n",
    "We need more data to avoid overfitting"
   ]
  },
  {
   "cell_type": "markdown",
   "metadata": {},
   "source": [
    "# Convert the model"
   ]
  },
  {
   "cell_type": "code",
   "execution_count": 35,
   "metadata": {},
   "outputs": [
    {
     "name": "stderr",
     "output_type": "stream",
     "text": [
      "2021-11-09 20:24:01.856296: W tensorflow/python/util/util.cc:348] Sets are not currently considered sequences, but this may change in the future, so consider avoiding using them.\n"
     ]
    },
    {
     "name": "stdout",
     "output_type": "stream",
     "text": [
      "INFO:tensorflow:Assets written to: /tmp/tmpbbai7pc9/assets\n"
     ]
    },
    {
     "name": "stderr",
     "output_type": "stream",
     "text": [
      "2021-11-09 20:24:04.492900: I tensorflow/core/grappler/devices.cc:78] Number of eligible GPUs (core count >= 8, compute capability >= 0.0): 0 (Note: TensorFlow was not compiled with CUDA or ROCm support)\n",
      "2021-11-09 20:24:04.493034: I tensorflow/core/grappler/clusters/single_machine.cc:357] Starting new session\n",
      "2021-11-09 20:24:04.592556: I tensorflow/core/grappler/optimizers/meta_optimizer.cc:1144] Optimization results for grappler item: graph_to_optimize\n",
      "  function_optimizer: Graph size after: 188 nodes (0), 233 edges (0), time = 16.983ms.\n",
      "  function_optimizer: Graph size after: 188 nodes (0), 233 edges (0), time = 6.207ms.\n",
      "Optimization results for grappler item: sequential_lstm_while_body_483154\n",
      "  function_optimizer: function_optimizer did nothing. time = 0.019ms.\n",
      "  function_optimizer: function_optimizer did nothing. time = 0.003ms.\n",
      "Optimization results for grappler item: sequential_lstm_while_cond_483153\n",
      "  function_optimizer: function_optimizer did nothing. time = 0.016ms.\n",
      "  function_optimizer: function_optimizer did nothing. time = 0.004ms.\n",
      "\n",
      "2021-11-09 20:24:04.866595: W tensorflow/compiler/mlir/lite/python/tf_tfl_flatbuffer_helpers.cc:345] Ignored output_format.\n",
      "2021-11-09 20:24:04.866628: W tensorflow/compiler/mlir/lite/python/tf_tfl_flatbuffer_helpers.cc:348] Ignored drop_control_dependency.\n",
      "2021-11-09 20:24:05.013818: I tensorflow/compiler/mlir/tensorflow/utils/dump_mlir_util.cc:210] disabling MLIR crash reproducer, set env var `MLIR_CRASH_REPRODUCER_DIRECTORY` to enable.\n"
     ]
    }
   ],
   "source": [
    "converter = tf.lite.TFLiteConverter.from_keras_model(model) \n",
    "\n",
    "tflite_model = converter.convert()\n",
    "\n",
    "# Save the model.\n",
    "with open('model.tflite', 'wb') as f:\n",
    "  f.write(tflite_model)"
   ]
  },
  {
   "cell_type": "code",
   "execution_count": 36,
   "metadata": {},
   "outputs": [
    {
     "name": "stdout",
     "output_type": "stream",
     "text": [
      "Done. The result of TensorFlow matches the result of TensorFlow Lite.\n",
      "Done. The result of TensorFlow matches the result of TensorFlow Lite.\n",
      "Done. The result of TensorFlow matches the result of TensorFlow Lite.\n",
      "Done. The result of TensorFlow matches the result of TensorFlow Lite.\n",
      "Done. The result of TensorFlow matches the result of TensorFlow Lite.\n",
      "Done. The result of TensorFlow matches the result of TensorFlow Lite.\n",
      "Done. The result of TensorFlow matches the result of TensorFlow Lite.\n",
      "Done. The result of TensorFlow matches the result of TensorFlow Lite.\n",
      "Done. The result of TensorFlow matches the result of TensorFlow Lite.\n",
      "Done. The result of TensorFlow matches the result of TensorFlow Lite.\n"
     ]
    }
   ],
   "source": [
    "# Run the model with TensorFlow to get expected results.\n",
    "TEST_CASES = 10\n",
    "x = tf.reshape(X_val, (-1, time_steps, 36))\n",
    "# Run the model with TensorFlow Lite\n",
    "interpreter = tf.lite.Interpreter(model_content=tflite_model)\n",
    "interpreter.allocate_tensors()\n",
    "input_details = interpreter.get_input_details()\n",
    "output_details = interpreter.get_output_details()\n",
    "\n",
    "for i in range(TEST_CASES):\n",
    "    expected = model.predict(x[i:i+1])\n",
    "    interpreter.set_tensor(input_details[0][\"index\"], x[i:i+1])\n",
    "    interpreter.invoke()\n",
    "    result = interpreter.get_tensor(output_details[0][\"index\"])\n",
    "\n",
    "    # Assert if the result of TFLite model is consistent with the TF model.\n",
    "    np.testing.assert_almost_equal(expected, result, decimal=5)\n",
    "    print(\"Done. The result of TensorFlow matches the result of TensorFlow Lite.\")\n",
    "\n",
    "    # Please note: TfLite fused Lstm kernel is stateful, so we need to reset\n",
    "    # the states.\n",
    "    # Clean up internal states.\n",
    "    interpreter.reset_all_variables()"
   ]
  },
  {
   "cell_type": "markdown",
   "metadata": {},
   "source": [
    "# Moving most frequent smoothing"
   ]
  },
  {
   "cell_type": "code",
   "execution_count": 37,
   "metadata": {},
   "outputs": [],
   "source": [
    "y_pred = np.argmax(model(x).numpy(), axis=-1).ravel()\n",
    "y_val_np = np.concatenate(y_list_val)[:N_val*time_steps]"
   ]
  },
  {
   "cell_type": "code",
   "execution_count": 38,
   "metadata": {},
   "outputs": [],
   "source": [
    "# [1,1,1,1,3,3,1,1] -> [1]\n",
    "# moving window across padded y_pred\n",
    "# output element is most frequent in window\n",
    "\n",
    "win_size = time_steps // 2\n",
    "mf_smooth = np.zeros(y_pred.shape[0]+win_size)\n",
    "for i in range(len(y_pred) - win_size):\n",
    "    window = y_pred[i:i+win_size]\n",
    "    bins = np.bincount(window)\n",
    "    mf_smooth[i+win_size//2] = np.argmax(bins)\n",
    "\n",
    "mf_smooth = mf_smooth[:-win_size]"
   ]
  },
  {
   "cell_type": "code",
   "execution_count": 39,
   "metadata": {},
   "outputs": [
    {
     "data": {
      "text/plain": [
       "(5340, 5340, 5340)"
      ]
     },
     "execution_count": 39,
     "metadata": {},
     "output_type": "execute_result"
    }
   ],
   "source": [
    "len(mf_smooth), len(y_pred), len(y_val_np)"
   ]
  },
  {
   "cell_type": "code",
   "execution_count": 40,
   "metadata": {},
   "outputs": [
    {
     "name": "stdout",
     "output_type": "stream",
     "text": [
      "0.8076779026217229\n",
      "0.8134831460674158\n"
     ]
    }
   ],
   "source": [
    "print(np.mean(y_val_np==y_pred))\n",
    "print(np.mean(y_val_np==mf_smooth))"
   ]
  },
  {
   "cell_type": "code",
   "execution_count": 41,
   "metadata": {
    "scrolled": false
   },
   "outputs": [
    {
     "data": {
      "text/plain": [
       "[<matplotlib.lines.Line2D at 0x7fa504504d00>]"
      ]
     },
     "execution_count": 41,
     "metadata": {},
     "output_type": "execute_result"
    },
    {
     "data": {
      "image/png": "[encoded data removed]",
      "text/plain": [
       "<Figure size 1152x864 with 3 Axes>"
      ]
     },
     "metadata": {
      "needs_background": "light"
     },
     "output_type": "display_data"
    }
   ],
   "source": [
    "plt.figure(figsize=(16, 12))\n",
    "\n",
    "plt.subplot(3, 1, 1)\n",
    "plt.title('Original')\n",
    "plt.plot(y_val_np[:600])\n",
    "\n",
    "plt.subplot(3, 1, 2)\n",
    "plt.title('Prediction')\n",
    "plt.plot(y_pred[:600])\n",
    "\n",
    "plt.subplot(3, 1, 3)\n",
    "plt.title('Smoothed prediction')\n",
    "plt.plot(mf_smooth[:600])\n"
   ]
  },
  {
   "cell_type": "markdown",
   "metadata": {},
   "source": [
    "Thanks to:  \n",
    "https://github.com/keras-team/keras-tuner"
   ]
  }
 ],
 "metadata": {
  "kernelspec": {
   "display_name": "Python 3 (ipykernel)",
   "language": "python",
   "name": "python3"
  },
  "language_info": {
   "codemirror_mode": {
    "name": "ipython",
    "version": 3
   },
   "file_extension": ".py",
   "mimetype": "text/x-python",
   "name": "python",
   "nbconvert_exporter": "python",
   "pygments_lexer": "ipython3",
   "version": "3.9.7"
  }
 },
 "nbformat": 4,
 "nbformat_minor": 2
}
