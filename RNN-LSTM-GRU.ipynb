{
 "cells": [
  {
   "cell_type": "markdown",
   "metadata": {},
   "source": [
    "# Test simple RNN, LSTM and GRU models\n",
    "\n",
    "### load data"
   ]
  },
  {
   "cell_type": "code",
   "execution_count": 1,
   "metadata": {},
   "outputs": [
    {
     "name": "stderr",
     "output_type": "stream",
     "text": [
      "2021-11-19 18:34:11.387143: I tensorflow/stream_executor/platform/default/dso_loader.cc:48] Successfully opened dynamic library libcudart.so.10.1\n"
     ]
    }
   ],
   "source": [
    "import random\n",
    "import numpy as np\n",
    "import matplotlib.pyplot as plt\n",
    "\n",
    "import tensorflow as tf\n",
    "import tensorflow.keras as K\n",
    "\n",
    "from lib.utils import read_data"
   ]
  },
  {
   "cell_type": "code",
   "execution_count": 2,
   "metadata": {},
   "outputs": [],
   "source": [
    "labels_by_punch_types = [\n",
    "    ['id0_hook_1', 'id0_hook_2', 'id1_hook_1', 'id1_hook_2'],\n",
    "    ['id0_jab_1', 'id0_jab_2', 'id1_jab_1', 'id1_jab_2'],\n",
    "    ['id0_uper_1', 'id0_uper_2', 'id1_uper_1', 'id1_uper_2']\n",
    "]"
   ]
  },
  {
   "cell_type": "code",
   "execution_count": 3,
   "metadata": {
    "scrolled": false
   },
   "outputs": [
    {
     "name": "stdout",
     "output_type": "stream",
     "text": [
      "(1051, 36)\n",
      "(858, 36)\n",
      "(792, 36)\n",
      "(1100, 36)\n",
      "(993, 36)\n",
      "(802, 36)\n",
      "(643, 36)\n",
      "(952, 36)\n",
      "(1200, 36)\n",
      "(1186, 36)\n",
      "(746, 36)\n",
      "(703, 36)\n"
     ]
    }
   ],
   "source": [
    "X_train_list = []\n",
    "y_train_list = []\n",
    "X_test_list = []\n",
    "y_test_list = []\n",
    "\n",
    "for labels in labels_by_punch_types:\n",
    "    test_label = random.choice(labels)\n",
    "\n",
    "    for label in [i for i in labels if i != test_label]:\n",
    "        X, y = read_data(label)\n",
    "        X_train_list.append(X)\n",
    "        y_train_list.append(y)\n",
    "    \n",
    "    X, y = read_data(test_label)\n",
    "    X_test_list.append(X)\n",
    "    y_test_list.append(y)\n",
    "\n",
    "\n",
    "X_train = np.concatenate(X_train_list)\n",
    "y_train = np.concatenate(y_train_list)\n",
    "X_test = np.concatenate(X_test_list)\n",
    "y_test = np.concatenate(y_test_list)"
   ]
  },
  {
   "cell_type": "code",
   "execution_count": 4,
   "metadata": {},
   "outputs": [],
   "source": [
    "TIME_STEPS = 30 # expect camera 30 fps, so process 1 sample per second\n",
    "\n",
    "# Number of samples in batch\n",
    "N_train = X_train.shape[0] // TIME_STEPS \n",
    "N_test = y_test.shape[0] // TIME_STEPS\n",
    "\n",
    "X_train = X_train[:N_train * TIME_STEPS].reshape(-1, TIME_STEPS, 36)\n",
    "y_train = y_train[:N_train * TIME_STEPS].reshape(-1, TIME_STEPS, 1)\n",
    "X_test = X_test[:N_test * TIME_STEPS].reshape(-1, TIME_STEPS, 36)\n",
    "y_test = y_test[:N_test * TIME_STEPS].reshape(-1, TIME_STEPS, 1)"
   ]
  },
  {
   "cell_type": "code",
   "execution_count": 5,
   "metadata": {},
   "outputs": [
    {
     "name": "stderr",
     "output_type": "stream",
     "text": [
      "2021-11-19 18:34:17.020304: I tensorflow/stream_executor/platform/default/dso_loader.cc:48] Successfully opened dynamic library libcuda.so.1\n",
      "2021-11-19 18:34:17.133820: I tensorflow/stream_executor/cuda/cuda_gpu_executor.cc:982] successful NUMA node read from SysFS had negative value (-1), but there must be at least one NUMA node, so returning NUMA node zero\n",
      "2021-11-19 18:34:17.134678: I tensorflow/core/common_runtime/gpu/gpu_device.cc:1716] Found device 0 with properties: \n",
      "pciBusID: 0000:01:00.0 name: NVIDIA GeForce GTX 1650 computeCapability: 7.5\n",
      "coreClock: 1.515GHz coreCount: 14 deviceMemorySize: 3.82GiB deviceMemoryBandwidth: 178.84GiB/s\n",
      "2021-11-19 18:34:17.134726: I tensorflow/stream_executor/platform/default/dso_loader.cc:48] Successfully opened dynamic library libcudart.so.10.1\n",
      "2021-11-19 18:34:17.137580: I tensorflow/stream_executor/platform/default/dso_loader.cc:48] Successfully opened dynamic library libcublas.so.10\n",
      "2021-11-19 18:34:17.141352: I tensorflow/stream_executor/platform/default/dso_loader.cc:48] Successfully opened dynamic library libcufft.so.10\n",
      "2021-11-19 18:34:17.142148: I tensorflow/stream_executor/platform/default/dso_loader.cc:48] Successfully opened dynamic library libcurand.so.10\n",
      "2021-11-19 18:34:17.146040: I tensorflow/stream_executor/platform/default/dso_loader.cc:48] Successfully opened dynamic library libcusolver.so.10\n",
      "2021-11-19 18:34:17.148696: I tensorflow/stream_executor/platform/default/dso_loader.cc:48] Successfully opened dynamic library libcusparse.so.10\n",
      "2021-11-19 18:34:17.156498: I tensorflow/stream_executor/platform/default/dso_loader.cc:48] Successfully opened dynamic library libcudnn.so.7\n",
      "2021-11-19 18:34:17.157002: I tensorflow/stream_executor/cuda/cuda_gpu_executor.cc:982] successful NUMA node read from SysFS had negative value (-1), but there must be at least one NUMA node, so returning NUMA node zero\n",
      "2021-11-19 18:34:17.158265: I tensorflow/stream_executor/cuda/cuda_gpu_executor.cc:982] successful NUMA node read from SysFS had negative value (-1), but there must be at least one NUMA node, so returning NUMA node zero\n",
      "2021-11-19 18:34:17.159118: I tensorflow/core/common_runtime/gpu/gpu_device.cc:1858] Adding visible gpu devices: 0\n",
      "2021-11-19 18:34:17.159954: I tensorflow/core/platform/cpu_feature_guard.cc:142] This TensorFlow binary is optimized with oneAPI Deep Neural Network Library (oneDNN)to use the following CPU instructions in performance-critical operations:  AVX2 FMA\n",
      "To enable them in other operations, rebuild TensorFlow with the appropriate compiler flags.\n",
      "2021-11-19 18:34:17.196967: I tensorflow/core/platform/profile_utils/cpu_utils.cc:104] CPU Frequency: 2295785000 Hz\n",
      "2021-11-19 18:34:17.198362: I tensorflow/compiler/xla/service/service.cc:168] XLA service 0x2930970 initialized for platform Host (this does not guarantee that XLA will be used). Devices:\n",
      "2021-11-19 18:34:17.198428: I tensorflow/compiler/xla/service/service.cc:176]   StreamExecutor device (0): Host, Default Version\n",
      "2021-11-19 18:34:17.333907: I tensorflow/stream_executor/cuda/cuda_gpu_executor.cc:982] successful NUMA node read from SysFS had negative value (-1), but there must be at least one NUMA node, so returning NUMA node zero\n",
      "2021-11-19 18:34:17.334879: I tensorflow/compiler/xla/service/service.cc:168] XLA service 0x44419d0 initialized for platform CUDA (this does not guarantee that XLA will be used). Devices:\n",
      "2021-11-19 18:34:17.334916: I tensorflow/compiler/xla/service/service.cc:176]   StreamExecutor device (0): NVIDIA GeForce GTX 1650, Compute Capability 7.5\n",
      "2021-11-19 18:34:17.335273: I tensorflow/stream_executor/cuda/cuda_gpu_executor.cc:982] successful NUMA node read from SysFS had negative value (-1), but there must be at least one NUMA node, so returning NUMA node zero\n",
      "2021-11-19 18:34:17.336050: I tensorflow/core/common_runtime/gpu/gpu_device.cc:1716] Found device 0 with properties: \n",
      "pciBusID: 0000:01:00.0 name: NVIDIA GeForce GTX 1650 computeCapability: 7.5\n",
      "coreClock: 1.515GHz coreCount: 14 deviceMemorySize: 3.82GiB deviceMemoryBandwidth: 178.84GiB/s\n",
      "2021-11-19 18:34:17.336107: I tensorflow/stream_executor/platform/default/dso_loader.cc:48] Successfully opened dynamic library libcudart.so.10.1\n",
      "2021-11-19 18:34:17.336144: I tensorflow/stream_executor/platform/default/dso_loader.cc:48] Successfully opened dynamic library libcublas.so.10\n",
      "2021-11-19 18:34:17.336170: I tensorflow/stream_executor/platform/default/dso_loader.cc:48] Successfully opened dynamic library libcufft.so.10\n",
      "2021-11-19 18:34:17.336192: I tensorflow/stream_executor/platform/default/dso_loader.cc:48] Successfully opened dynamic library libcurand.so.10\n",
      "2021-11-19 18:34:17.336213: I tensorflow/stream_executor/platform/default/dso_loader.cc:48] Successfully opened dynamic library libcusolver.so.10\n",
      "2021-11-19 18:34:17.336234: I tensorflow/stream_executor/platform/default/dso_loader.cc:48] Successfully opened dynamic library libcusparse.so.10\n",
      "2021-11-19 18:34:17.336256: I tensorflow/stream_executor/platform/default/dso_loader.cc:48] Successfully opened dynamic library libcudnn.so.7\n",
      "2021-11-19 18:34:17.336386: I tensorflow/stream_executor/cuda/cuda_gpu_executor.cc:982] successful NUMA node read from SysFS had negative value (-1), but there must be at least one NUMA node, so returning NUMA node zero\n",
      "2021-11-19 18:34:17.337301: I tensorflow/stream_executor/cuda/cuda_gpu_executor.cc:982] successful NUMA node read from SysFS had negative value (-1), but there must be at least one NUMA node, so returning NUMA node zero\n",
      "2021-11-19 18:34:17.338276: I tensorflow/core/common_runtime/gpu/gpu_device.cc:1858] Adding visible gpu devices: 0\n",
      "2021-11-19 18:34:17.338617: I tensorflow/stream_executor/platform/default/dso_loader.cc:48] Successfully opened dynamic library libcudart.so.10.1\n",
      "2021-11-19 18:34:18.578940: I tensorflow/core/common_runtime/gpu/gpu_device.cc:1257] Device interconnect StreamExecutor with strength 1 edge matrix:\n",
      "2021-11-19 18:34:18.579027: I tensorflow/core/common_runtime/gpu/gpu_device.cc:1263]      0 \n",
      "2021-11-19 18:34:18.579047: I tensorflow/core/common_runtime/gpu/gpu_device.cc:1276] 0:   N \n",
      "2021-11-19 18:34:18.579623: I tensorflow/stream_executor/cuda/cuda_gpu_executor.cc:982] successful NUMA node read from SysFS had negative value (-1), but there must be at least one NUMA node, so returning NUMA node zero\n",
      "2021-11-19 18:34:18.580931: I tensorflow/stream_executor/cuda/cuda_gpu_executor.cc:982] successful NUMA node read from SysFS had negative value (-1), but there must be at least one NUMA node, so returning NUMA node zero\n",
      "2021-11-19 18:34:18.582001: I tensorflow/core/common_runtime/gpu/gpu_device.cc:1402] Created TensorFlow device (/job:localhost/replica:0/task:0/device:GPU:0 with 3408 MB memory) -> physical GPU (device: 0, name: NVIDIA GeForce GTX 1650, pci bus id: 0000:01:00.0, compute capability: 7.5)\n"
     ]
    }
   ],
   "source": [
    "y_train = K.utils.to_categorical(y_train, num_classes=7)\n",
    "X_train = tf.constant(X_train)\n",
    "\n",
    "y_test = K.utils.to_categorical(y_test, num_classes=7)\n",
    "X_test = tf.constant(X_test)"
   ]
  },
  {
   "cell_type": "markdown",
   "metadata": {},
   "source": [
    "## Simple RNN "
   ]
  },
  {
   "cell_type": "code",
   "execution_count": 7,
   "metadata": {},
   "outputs": [],
   "source": [
    "def get_model():\n",
    "    return K.Sequential([\n",
    "        K.layers.InputLayer((30, 36), batch_size=1),\n",
    "        K.layers.SimpleRNN(32, stateful=True, return_sequences=True),\n",
    "        K.layers.Dense(64),\n",
    "        K.layers.Dense(7, activation='softmax')\n",
    "    ])"
   ]
  },
  {
   "cell_type": "code",
   "execution_count": 8,
   "metadata": {},
   "outputs": [
    {
     "name": "stdout",
     "output_type": "stream",
     "text": [
      "Model: \"sequential\"\n",
      "_________________________________________________________________\n",
      "Layer (type)                 Output Shape              Param #   \n",
      "=================================================================\n",
      "simple_rnn (SimpleRNN)       (1, 30, 32)               2208      \n",
      "_________________________________________________________________\n",
      "dense (Dense)                (1, 30, 64)               2112      \n",
      "_________________________________________________________________\n",
      "dense_1 (Dense)              (1, 30, 7)                455       \n",
      "=================================================================\n",
      "Total params: 4,775\n",
      "Trainable params: 4,775\n",
      "Non-trainable params: 0\n",
      "_________________________________________________________________\n"
     ]
    }
   ],
   "source": [
    "model = get_model()\n",
    "model.summary()"
   ]
  },
  {
   "cell_type": "code",
   "execution_count": 9,
   "metadata": {},
   "outputs": [],
   "source": [
    "model.compile(optimizer='adam',\n",
    "              loss='categorical_crossentropy',\n",
    "              metrics=['accuracy'])"
   ]
  },
  {
   "cell_type": "code",
   "execution_count": 11,
   "metadata": {
    "scrolled": true
   },
   "outputs": [
    {
     "name": "stdout",
     "output_type": "stream",
     "text": [
      "Epoch 1/30\n",
      "275/275 [==============================] - 9s 32ms/step - loss: 1.3600 - accuracy: 0.5662 - val_loss: 1.5248 - val_accuracy: 0.5026\n",
      "Epoch 2/30\n",
      "275/275 [==============================] - 11s 40ms/step - loss: 1.2210 - accuracy: 0.5801 - val_loss: 1.2539 - val_accuracy: 0.5315\n",
      "Epoch 3/30\n",
      "275/275 [==============================] - 11s 39ms/step - loss: 1.1107 - accuracy: 0.6062 - val_loss: 1.2333 - val_accuracy: 0.5832\n",
      "Epoch 4/30\n",
      "275/275 [==============================] - 10s 38ms/step - loss: 1.0538 - accuracy: 0.6210 - val_loss: 1.2106 - val_accuracy: 0.5813\n",
      "Epoch 5/30\n",
      "275/275 [==============================] - 10s 36ms/step - loss: 1.0289 - accuracy: 0.6184 - val_loss: 1.1893 - val_accuracy: 0.5978\n",
      "Epoch 6/30\n",
      "275/275 [==============================] - 10s 35ms/step - loss: 0.9858 - accuracy: 0.6398 - val_loss: 1.1675 - val_accuracy: 0.6095\n",
      "Epoch 7/30\n",
      "275/275 [==============================] - 9s 32ms/step - loss: 0.9565 - accuracy: 0.6530 - val_loss: 1.1530 - val_accuracy: 0.6029\n",
      "Epoch 8/30\n",
      "275/275 [==============================] - 7s 27ms/step - loss: 0.9351 - accuracy: 0.6676 - val_loss: 1.1816 - val_accuracy: 0.5908\n",
      "Epoch 9/30\n",
      "275/275 [==============================] - 8s 28ms/step - loss: 0.9206 - accuracy: 0.6616 - val_loss: 1.1969 - val_accuracy: 0.5663\n",
      "Epoch 10/30\n",
      "275/275 [==============================] - 8s 30ms/step - loss: 0.8675 - accuracy: 0.6805 - val_loss: 1.1556 - val_accuracy: 0.6044\n",
      "Epoch 11/30\n",
      "275/275 [==============================] - 8s 30ms/step - loss: 0.8427 - accuracy: 0.6952 - val_loss: 1.0370 - val_accuracy: 0.6484\n",
      "Epoch 12/30\n",
      "275/275 [==============================] - 7s 26ms/step - loss: 0.8194 - accuracy: 0.7079 - val_loss: 1.0488 - val_accuracy: 0.6212\n",
      "Epoch 13/30\n",
      "275/275 [==============================] - 9s 33ms/step - loss: 0.8129 - accuracy: 0.7002 - val_loss: 1.0622 - val_accuracy: 0.6429\n",
      "Epoch 14/30\n",
      "275/275 [==============================] - 9s 32ms/step - loss: 0.7920 - accuracy: 0.7093 - val_loss: 1.0193 - val_accuracy: 0.6495\n",
      "Epoch 15/30\n",
      "275/275 [==============================] - 9s 32ms/step - loss: 0.7854 - accuracy: 0.7110 - val_loss: 1.0360 - val_accuracy: 0.6766\n",
      "Epoch 16/30\n",
      "275/275 [==============================] - 7s 26ms/step - loss: 0.7774 - accuracy: 0.7162 - val_loss: 1.0021 - val_accuracy: 0.6425\n",
      "Epoch 17/30\n",
      "275/275 [==============================] - 7s 27ms/step - loss: 0.7578 - accuracy: 0.7273 - val_loss: 0.9706 - val_accuracy: 0.6890\n",
      "Epoch 18/30\n",
      "275/275 [==============================] - 7s 26ms/step - loss: 0.7403 - accuracy: 0.7355 - val_loss: 1.1590 - val_accuracy: 0.6333\n",
      "Epoch 19/30\n",
      "275/275 [==============================] - 7s 27ms/step - loss: 0.7326 - accuracy: 0.7319 - val_loss: 1.0433 - val_accuracy: 0.6593\n",
      "Epoch 20/30\n",
      "275/275 [==============================] - 8s 28ms/step - loss: 0.7205 - accuracy: 0.7395 - val_loss: 1.0649 - val_accuracy: 0.6612\n",
      "Epoch 21/30\n",
      "275/275 [==============================] - 8s 28ms/step - loss: 0.7206 - accuracy: 0.7428 - val_loss: 1.0671 - val_accuracy: 0.6385\n",
      "Epoch 22/30\n",
      "275/275 [==============================] - 10s 36ms/step - loss: 0.7118 - accuracy: 0.7313 - val_loss: 1.0514 - val_accuracy: 0.6689\n",
      "Epoch 23/30\n",
      "275/275 [==============================] - 7s 26ms/step - loss: 0.7045 - accuracy: 0.7401 - val_loss: 0.9965 - val_accuracy: 0.6491\n",
      "Epoch 24/30\n",
      "275/275 [==============================] - 7s 27ms/step - loss: 0.6996 - accuracy: 0.7383 - val_loss: 1.0632 - val_accuracy: 0.6689\n",
      "Epoch 25/30\n",
      "275/275 [==============================] - 8s 27ms/step - loss: 0.6729 - accuracy: 0.7462 - val_loss: 1.0413 - val_accuracy: 0.6747\n",
      "Epoch 26/30\n",
      "275/275 [==============================] - 7s 25ms/step - loss: 0.6944 - accuracy: 0.7401 - val_loss: 1.0161 - val_accuracy: 0.6952\n",
      "Epoch 27/30\n",
      "275/275 [==============================] - 7s 25ms/step - loss: 0.6593 - accuracy: 0.7589 - val_loss: 0.9419 - val_accuracy: 0.6810\n",
      "Epoch 28/30\n",
      "275/275 [==============================] - 7s 25ms/step - loss: 0.6646 - accuracy: 0.7558 - val_loss: 1.0564 - val_accuracy: 0.6963\n",
      "Epoch 29/30\n",
      "275/275 [==============================] - 7s 25ms/step - loss: 0.6578 - accuracy: 0.7578 - val_loss: 1.0789 - val_accuracy: 0.6645\n",
      "Epoch 30/30\n",
      "275/275 [==============================] - 7s 27ms/step - loss: 0.6687 - accuracy: 0.7498 - val_loss: 1.0521 - val_accuracy: 0.6908\n"
     ]
    }
   ],
   "source": [
    "history = model.fit(X_train, y_train, validation_data=(X_test, y_test), batch_size=1, epochs=30)"
   ]
  },
  {
   "cell_type": "code",
   "execution_count": 12,
   "metadata": {},
   "outputs": [
    {
     "data": {
      "text/plain": [
       "[<matplotlib.lines.Line2D at 0x7f8f7479f640>]"
      ]
     },
     "execution_count": 12,
     "metadata": {},
     "output_type": "execute_result"
    },
    {
     "data": {
      "image/png": "[encoded data removed]",
      "text/plain": [
       "<Figure size 1080x504 with 2 Axes>"
      ]
     },
     "metadata": {
      "needs_background": "light"
     },
     "output_type": "display_data"
    }
   ],
   "source": [
    "plt.figure(figsize=(15, 7))\n",
    "plt.subplot(221)\n",
    "plt.title(\"Train Loss\")\n",
    "plt.plot(history.history['loss'])\n",
    "plt.subplot(222)\n",
    "plt.title(\"Train/validation accuracy\")\n",
    "plt.plot(history.history['accuracy'])\n",
    "plt.plot(history.history['val_accuracy'])"
   ]
  },
  {
   "cell_type": "code",
   "execution_count": 13,
   "metadata": {},
   "outputs": [],
   "source": [
    "model.save('simple_rnn.h5')"
   ]
  },
  {
   "cell_type": "markdown",
   "metadata": {},
   "source": [
    "## LSTM"
   ]
  },
  {
   "cell_type": "code",
   "execution_count": 15,
   "metadata": {},
   "outputs": [],
   "source": [
    "def get_model():\n",
    "    return K.Sequential([\n",
    "        K.layers.InputLayer((30, 36), batch_size=1),\n",
    "        K.layers.LSTM(64, return_sequences=True),\n",
    "        K.layers.Dense(128, kernel_regularizer=tf.keras.regularizers.l2(l2=1e-3)),\n",
    "        K.layers.Dense(7, activation='softmax')\n",
    "    ])"
   ]
  },
  {
   "cell_type": "code",
   "execution_count": 16,
   "metadata": {},
   "outputs": [
    {
     "name": "stdout",
     "output_type": "stream",
     "text": [
      "Model: \"sequential_1\"\n",
      "_________________________________________________________________\n",
      "Layer (type)                 Output Shape              Param #   \n",
      "=================================================================\n",
      "lstm (LSTM)                  (1, 30, 64)               25856     \n",
      "_________________________________________________________________\n",
      "dense_2 (Dense)              (1, 30, 128)              8320      \n",
      "_________________________________________________________________\n",
      "dense_3 (Dense)              (1, 30, 7)                903       \n",
      "=================================================================\n",
      "Total params: 35,079\n",
      "Trainable params: 35,079\n",
      "Non-trainable params: 0\n",
      "_________________________________________________________________\n"
     ]
    }
   ],
   "source": [
    "model = get_model()\n",
    "model.summary()"
   ]
  },
  {
   "cell_type": "code",
   "execution_count": 19,
   "metadata": {},
   "outputs": [],
   "source": [
    "model.compile(optimizer='adam',\n",
    "              loss='categorical_crossentropy',\n",
    "              metrics=['accuracy'])"
   ]
  },
  {
   "cell_type": "code",
   "execution_count": 20,
   "metadata": {
    "scrolled": true
   },
   "outputs": [
    {
     "name": "stdout",
     "output_type": "stream",
     "text": [
      "Epoch 1/30\n"
     ]
    },
    {
     "name": "stderr",
     "output_type": "stream",
     "text": [
      "2021-11-19 18:43:29.560698: E tensorflow/stream_executor/cuda/cuda_dnn.cc:328] Could not create cudnn handle: CUDNN_STATUS_INTERNAL_ERROR\n",
      "2021-11-19 18:43:29.560808: W tensorflow/core/framework/op_kernel.cc:1767] OP_REQUIRES failed at cudnn_rnn_ops.cc:1510 : Unknown: Fail to find the dnn implementation.\n"
     ]
    },
    {
     "ename": "UnknownError",
     "evalue": "   Fail to find the dnn implementation.\n\t [[{{node CudnnRNN}}]]\n\t [[sequential_1/lstm/PartitionedCall]] [Op:__inference_train_function_29573]\n\nFunction call stack:\ntrain_function -> train_function -> train_function\n",
     "output_type": "error",
     "traceback": [
      "\u001b[0;31m---------------------------------------------------------------------------\u001b[0m",
      "\u001b[0;31mUnknownError\u001b[0m                              Traceback (most recent call last)",
      "\u001b[0;32m/tmp/ipykernel_8406/1934175791.py\u001b[0m in \u001b[0;36m<module>\u001b[0;34m\u001b[0m\n\u001b[0;32m----> 1\u001b[0;31m \u001b[0mhistory\u001b[0m \u001b[0;34m=\u001b[0m \u001b[0mmodel\u001b[0m\u001b[0;34m.\u001b[0m\u001b[0mfit\u001b[0m\u001b[0;34m(\u001b[0m\u001b[0mX_train\u001b[0m\u001b[0;34m,\u001b[0m \u001b[0my_train\u001b[0m\u001b[0;34m,\u001b[0m \u001b[0mvalidation_data\u001b[0m\u001b[0;34m=\u001b[0m\u001b[0;34m(\u001b[0m\u001b[0mX_test\u001b[0m\u001b[0;34m,\u001b[0m \u001b[0my_test\u001b[0m\u001b[0;34m)\u001b[0m\u001b[0;34m,\u001b[0m \u001b[0mbatch_size\u001b[0m\u001b[0;34m=\u001b[0m\u001b[0;36m1\u001b[0m\u001b[0;34m,\u001b[0m \u001b[0mepochs\u001b[0m\u001b[0;34m=\u001b[0m\u001b[0;36m30\u001b[0m\u001b[0;34m)\u001b[0m\u001b[0;34m\u001b[0m\u001b[0;34m\u001b[0m\u001b[0m\n\u001b[0m",
      "\u001b[0;32m~/Рабочий стол/Нейросети/venv/lib/python3.8/site-packages/tensorflow/python/keras/engine/training.py\u001b[0m in \u001b[0;36m_method_wrapper\u001b[0;34m(self, *args, **kwargs)\u001b[0m\n\u001b[1;32m    101\u001b[0m   \u001b[0;32mdef\u001b[0m \u001b[0m_method_wrapper\u001b[0m\u001b[0;34m(\u001b[0m\u001b[0mself\u001b[0m\u001b[0;34m,\u001b[0m \u001b[0;34m*\u001b[0m\u001b[0margs\u001b[0m\u001b[0;34m,\u001b[0m \u001b[0;34m**\u001b[0m\u001b[0mkwargs\u001b[0m\u001b[0;34m)\u001b[0m\u001b[0;34m:\u001b[0m\u001b[0;34m\u001b[0m\u001b[0;34m\u001b[0m\u001b[0m\n\u001b[1;32m    102\u001b[0m     \u001b[0;32mif\u001b[0m \u001b[0;32mnot\u001b[0m \u001b[0mself\u001b[0m\u001b[0;34m.\u001b[0m\u001b[0m_in_multi_worker_mode\u001b[0m\u001b[0;34m(\u001b[0m\u001b[0;34m)\u001b[0m\u001b[0;34m:\u001b[0m  \u001b[0;31m# pylint: disable=protected-access\u001b[0m\u001b[0;34m\u001b[0m\u001b[0;34m\u001b[0m\u001b[0m\n\u001b[0;32m--> 103\u001b[0;31m       \u001b[0;32mreturn\u001b[0m \u001b[0mmethod\u001b[0m\u001b[0;34m(\u001b[0m\u001b[0mself\u001b[0m\u001b[0;34m,\u001b[0m \u001b[0;34m*\u001b[0m\u001b[0margs\u001b[0m\u001b[0;34m,\u001b[0m \u001b[0;34m**\u001b[0m\u001b[0mkwargs\u001b[0m\u001b[0;34m)\u001b[0m\u001b[0;34m\u001b[0m\u001b[0;34m\u001b[0m\u001b[0m\n\u001b[0m\u001b[1;32m    104\u001b[0m \u001b[0;34m\u001b[0m\u001b[0m\n\u001b[1;32m    105\u001b[0m     \u001b[0;31m# Running inside `run_distribute_coordinator` already.\u001b[0m\u001b[0;34m\u001b[0m\u001b[0;34m\u001b[0m\u001b[0;34m\u001b[0m\u001b[0m\n",
      "\u001b[0;32m~/Рабочий стол/Нейросети/venv/lib/python3.8/site-packages/tensorflow/python/keras/engine/training.py\u001b[0m in \u001b[0;36mfit\u001b[0;34m(self, x, y, batch_size, epochs, verbose, callbacks, validation_split, validation_data, shuffle, class_weight, sample_weight, initial_epoch, steps_per_epoch, validation_steps, validation_batch_size, validation_freq, max_queue_size, workers, use_multiprocessing)\u001b[0m\n\u001b[1;32m   1091\u001b[0m                 batch_size=batch_size):\n\u001b[1;32m   1092\u001b[0m               \u001b[0mcallbacks\u001b[0m\u001b[0;34m.\u001b[0m\u001b[0mon_train_batch_begin\u001b[0m\u001b[0;34m(\u001b[0m\u001b[0mstep\u001b[0m\u001b[0;34m)\u001b[0m\u001b[0;34m\u001b[0m\u001b[0;34m\u001b[0m\u001b[0m\n\u001b[0;32m-> 1093\u001b[0;31m               \u001b[0mtmp_logs\u001b[0m \u001b[0;34m=\u001b[0m \u001b[0mtrain_function\u001b[0m\u001b[0;34m(\u001b[0m\u001b[0miterator\u001b[0m\u001b[0;34m)\u001b[0m\u001b[0;34m\u001b[0m\u001b[0;34m\u001b[0m\u001b[0m\n\u001b[0m\u001b[1;32m   1094\u001b[0m               \u001b[0;32mif\u001b[0m \u001b[0mdata_handler\u001b[0m\u001b[0;34m.\u001b[0m\u001b[0mshould_sync\u001b[0m\u001b[0;34m:\u001b[0m\u001b[0;34m\u001b[0m\u001b[0;34m\u001b[0m\u001b[0m\n\u001b[1;32m   1095\u001b[0m                 \u001b[0mcontext\u001b[0m\u001b[0;34m.\u001b[0m\u001b[0masync_wait\u001b[0m\u001b[0;34m(\u001b[0m\u001b[0;34m)\u001b[0m\u001b[0;34m\u001b[0m\u001b[0;34m\u001b[0m\u001b[0m\n",
      "\u001b[0;32m~/Рабочий стол/Нейросети/venv/lib/python3.8/site-packages/tensorflow/python/eager/def_function.py\u001b[0m in \u001b[0;36m__call__\u001b[0;34m(self, *args, **kwds)\u001b[0m\n\u001b[1;32m    778\u001b[0m       \u001b[0;32melse\u001b[0m\u001b[0;34m:\u001b[0m\u001b[0;34m\u001b[0m\u001b[0;34m\u001b[0m\u001b[0m\n\u001b[1;32m    779\u001b[0m         \u001b[0mcompiler\u001b[0m \u001b[0;34m=\u001b[0m \u001b[0;34m\"nonXla\"\u001b[0m\u001b[0;34m\u001b[0m\u001b[0;34m\u001b[0m\u001b[0m\n\u001b[0;32m--> 780\u001b[0;31m         \u001b[0mresult\u001b[0m \u001b[0;34m=\u001b[0m \u001b[0mself\u001b[0m\u001b[0;34m.\u001b[0m\u001b[0m_call\u001b[0m\u001b[0;34m(\u001b[0m\u001b[0;34m*\u001b[0m\u001b[0margs\u001b[0m\u001b[0;34m,\u001b[0m \u001b[0;34m**\u001b[0m\u001b[0mkwds\u001b[0m\u001b[0;34m)\u001b[0m\u001b[0;34m\u001b[0m\u001b[0;34m\u001b[0m\u001b[0m\n\u001b[0m\u001b[1;32m    781\u001b[0m \u001b[0;34m\u001b[0m\u001b[0m\n\u001b[1;32m    782\u001b[0m       \u001b[0mnew_tracing_count\u001b[0m \u001b[0;34m=\u001b[0m \u001b[0mself\u001b[0m\u001b[0;34m.\u001b[0m\u001b[0m_get_tracing_count\u001b[0m\u001b[0;34m(\u001b[0m\u001b[0;34m)\u001b[0m\u001b[0;34m\u001b[0m\u001b[0;34m\u001b[0m\u001b[0m\n",
      "\u001b[0;32m~/Рабочий стол/Нейросети/venv/lib/python3.8/site-packages/tensorflow/python/eager/def_function.py\u001b[0m in \u001b[0;36m_call\u001b[0;34m(self, *args, **kwds)\u001b[0m\n\u001b[1;32m    838\u001b[0m         \u001b[0;31m# Lifting succeeded, so variables are initialized and we can run the\u001b[0m\u001b[0;34m\u001b[0m\u001b[0;34m\u001b[0m\u001b[0;34m\u001b[0m\u001b[0m\n\u001b[1;32m    839\u001b[0m         \u001b[0;31m# stateless function.\u001b[0m\u001b[0;34m\u001b[0m\u001b[0;34m\u001b[0m\u001b[0;34m\u001b[0m\u001b[0m\n\u001b[0;32m--> 840\u001b[0;31m         \u001b[0;32mreturn\u001b[0m \u001b[0mself\u001b[0m\u001b[0;34m.\u001b[0m\u001b[0m_stateless_fn\u001b[0m\u001b[0;34m(\u001b[0m\u001b[0;34m*\u001b[0m\u001b[0margs\u001b[0m\u001b[0;34m,\u001b[0m \u001b[0;34m**\u001b[0m\u001b[0mkwds\u001b[0m\u001b[0;34m)\u001b[0m\u001b[0;34m\u001b[0m\u001b[0;34m\u001b[0m\u001b[0m\n\u001b[0m\u001b[1;32m    841\u001b[0m     \u001b[0;32melse\u001b[0m\u001b[0;34m:\u001b[0m\u001b[0;34m\u001b[0m\u001b[0;34m\u001b[0m\u001b[0m\n\u001b[1;32m    842\u001b[0m       \u001b[0mcanon_args\u001b[0m\u001b[0;34m,\u001b[0m \u001b[0mcanon_kwds\u001b[0m \u001b[0;34m=\u001b[0m\u001b[0;31m \u001b[0m\u001b[0;31m\\\u001b[0m\u001b[0;34m\u001b[0m\u001b[0;34m\u001b[0m\u001b[0m\n",
      "\u001b[0;32m~/Рабочий стол/Нейросети/venv/lib/python3.8/site-packages/tensorflow/python/eager/function.py\u001b[0m in \u001b[0;36m__call__\u001b[0;34m(self, *args, **kwargs)\u001b[0m\n\u001b[1;32m   2827\u001b[0m     \u001b[0;32mwith\u001b[0m \u001b[0mself\u001b[0m\u001b[0;34m.\u001b[0m\u001b[0m_lock\u001b[0m\u001b[0;34m:\u001b[0m\u001b[0;34m\u001b[0m\u001b[0;34m\u001b[0m\u001b[0m\n\u001b[1;32m   2828\u001b[0m       \u001b[0mgraph_function\u001b[0m\u001b[0;34m,\u001b[0m \u001b[0margs\u001b[0m\u001b[0;34m,\u001b[0m \u001b[0mkwargs\u001b[0m \u001b[0;34m=\u001b[0m \u001b[0mself\u001b[0m\u001b[0;34m.\u001b[0m\u001b[0m_maybe_define_function\u001b[0m\u001b[0;34m(\u001b[0m\u001b[0margs\u001b[0m\u001b[0;34m,\u001b[0m \u001b[0mkwargs\u001b[0m\u001b[0;34m)\u001b[0m\u001b[0;34m\u001b[0m\u001b[0;34m\u001b[0m\u001b[0m\n\u001b[0;32m-> 2829\u001b[0;31m     \u001b[0;32mreturn\u001b[0m \u001b[0mgraph_function\u001b[0m\u001b[0;34m.\u001b[0m\u001b[0m_filtered_call\u001b[0m\u001b[0;34m(\u001b[0m\u001b[0margs\u001b[0m\u001b[0;34m,\u001b[0m \u001b[0mkwargs\u001b[0m\u001b[0;34m)\u001b[0m  \u001b[0;31m# pylint: disable=protected-access\u001b[0m\u001b[0;34m\u001b[0m\u001b[0;34m\u001b[0m\u001b[0m\n\u001b[0m\u001b[1;32m   2830\u001b[0m \u001b[0;34m\u001b[0m\u001b[0m\n\u001b[1;32m   2831\u001b[0m   \u001b[0;34m@\u001b[0m\u001b[0mproperty\u001b[0m\u001b[0;34m\u001b[0m\u001b[0;34m\u001b[0m\u001b[0m\n",
      "\u001b[0;32m~/Рабочий стол/Нейросети/venv/lib/python3.8/site-packages/tensorflow/python/eager/function.py\u001b[0m in \u001b[0;36m_filtered_call\u001b[0;34m(self, args, kwargs, cancellation_manager)\u001b[0m\n\u001b[1;32m   1841\u001b[0m       \u001b[0;31m`\u001b[0m\u001b[0margs\u001b[0m\u001b[0;31m`\u001b[0m \u001b[0;32mand\u001b[0m\u001b[0;31m \u001b[0m\u001b[0;31m`\u001b[0m\u001b[0mkwargs\u001b[0m\u001b[0;31m`\u001b[0m\u001b[0;34m.\u001b[0m\u001b[0;34m\u001b[0m\u001b[0;34m\u001b[0m\u001b[0m\n\u001b[1;32m   1842\u001b[0m     \"\"\"\n\u001b[0;32m-> 1843\u001b[0;31m     return self._call_flat(\n\u001b[0m\u001b[1;32m   1844\u001b[0m         [t for t in nest.flatten((args, kwargs), expand_composites=True)\n\u001b[1;32m   1845\u001b[0m          if isinstance(t, (ops.Tensor,\n",
      "\u001b[0;32m~/Рабочий стол/Нейросети/venv/lib/python3.8/site-packages/tensorflow/python/eager/function.py\u001b[0m in \u001b[0;36m_call_flat\u001b[0;34m(self, args, captured_inputs, cancellation_manager)\u001b[0m\n\u001b[1;32m   1921\u001b[0m         and executing_eagerly):\n\u001b[1;32m   1922\u001b[0m       \u001b[0;31m# No tape is watching; skip to running the function.\u001b[0m\u001b[0;34m\u001b[0m\u001b[0;34m\u001b[0m\u001b[0;34m\u001b[0m\u001b[0m\n\u001b[0;32m-> 1923\u001b[0;31m       return self._build_call_outputs(self._inference_function.call(\n\u001b[0m\u001b[1;32m   1924\u001b[0m           ctx, args, cancellation_manager=cancellation_manager))\n\u001b[1;32m   1925\u001b[0m     forward_backward = self._select_forward_and_backward_functions(\n",
      "\u001b[0;32m~/Рабочий стол/Нейросети/venv/lib/python3.8/site-packages/tensorflow/python/eager/function.py\u001b[0m in \u001b[0;36mcall\u001b[0;34m(self, ctx, args, cancellation_manager)\u001b[0m\n\u001b[1;32m    543\u001b[0m       \u001b[0;32mwith\u001b[0m \u001b[0m_InterpolateFunctionError\u001b[0m\u001b[0;34m(\u001b[0m\u001b[0mself\u001b[0m\u001b[0;34m)\u001b[0m\u001b[0;34m:\u001b[0m\u001b[0;34m\u001b[0m\u001b[0;34m\u001b[0m\u001b[0m\n\u001b[1;32m    544\u001b[0m         \u001b[0;32mif\u001b[0m \u001b[0mcancellation_manager\u001b[0m \u001b[0;32mis\u001b[0m \u001b[0;32mNone\u001b[0m\u001b[0;34m:\u001b[0m\u001b[0;34m\u001b[0m\u001b[0;34m\u001b[0m\u001b[0m\n\u001b[0;32m--> 545\u001b[0;31m           outputs = execute.execute(\n\u001b[0m\u001b[1;32m    546\u001b[0m               \u001b[0mstr\u001b[0m\u001b[0;34m(\u001b[0m\u001b[0mself\u001b[0m\u001b[0;34m.\u001b[0m\u001b[0msignature\u001b[0m\u001b[0;34m.\u001b[0m\u001b[0mname\u001b[0m\u001b[0;34m)\u001b[0m\u001b[0;34m,\u001b[0m\u001b[0;34m\u001b[0m\u001b[0;34m\u001b[0m\u001b[0m\n\u001b[1;32m    547\u001b[0m               \u001b[0mnum_outputs\u001b[0m\u001b[0;34m=\u001b[0m\u001b[0mself\u001b[0m\u001b[0;34m.\u001b[0m\u001b[0m_num_outputs\u001b[0m\u001b[0;34m,\u001b[0m\u001b[0;34m\u001b[0m\u001b[0;34m\u001b[0m\u001b[0m\n",
      "\u001b[0;32m~/Рабочий стол/Нейросети/venv/lib/python3.8/site-packages/tensorflow/python/eager/execute.py\u001b[0m in \u001b[0;36mquick_execute\u001b[0;34m(op_name, num_outputs, inputs, attrs, ctx, name)\u001b[0m\n\u001b[1;32m     57\u001b[0m   \u001b[0;32mtry\u001b[0m\u001b[0;34m:\u001b[0m\u001b[0;34m\u001b[0m\u001b[0;34m\u001b[0m\u001b[0m\n\u001b[1;32m     58\u001b[0m     \u001b[0mctx\u001b[0m\u001b[0;34m.\u001b[0m\u001b[0mensure_initialized\u001b[0m\u001b[0;34m(\u001b[0m\u001b[0;34m)\u001b[0m\u001b[0;34m\u001b[0m\u001b[0;34m\u001b[0m\u001b[0m\n\u001b[0;32m---> 59\u001b[0;31m     tensors = pywrap_tfe.TFE_Py_Execute(ctx._handle, device_name, op_name,\n\u001b[0m\u001b[1;32m     60\u001b[0m                                         inputs, attrs, num_outputs)\n\u001b[1;32m     61\u001b[0m   \u001b[0;32mexcept\u001b[0m \u001b[0mcore\u001b[0m\u001b[0;34m.\u001b[0m\u001b[0m_NotOkStatusException\u001b[0m \u001b[0;32mas\u001b[0m \u001b[0me\u001b[0m\u001b[0;34m:\u001b[0m\u001b[0;34m\u001b[0m\u001b[0;34m\u001b[0m\u001b[0m\n",
      "\u001b[0;31mUnknownError\u001b[0m:    Fail to find the dnn implementation.\n\t [[{{node CudnnRNN}}]]\n\t [[sequential_1/lstm/PartitionedCall]] [Op:__inference_train_function_29573]\n\nFunction call stack:\ntrain_function -> train_function -> train_function\n"
     ]
    }
   ],
   "source": [
    "history = model.fit(X_train, y_train, validation_data=(X_test, y_test), batch_size=1, epochs=30)"
   ]
  },
  {
   "cell_type": "code",
   "execution_count": 83,
   "metadata": {},
   "outputs": [
    {
     "data": {
      "text/plain": [
       "[<matplotlib.lines.Line2D at 0x7f8430708df0>]"
      ]
     },
     "execution_count": 83,
     "metadata": {},
     "output_type": "execute_result"
    },
    {
     "data": {
      "image/png": "[encoded data removed]",
      "text/plain": [
       "<Figure size 1080x504 with 2 Axes>"
      ]
     },
     "metadata": {
      "needs_background": "light"
     },
     "output_type": "display_data"
    }
   ],
   "source": [
    "plt.figure(figsize=(15, 7))\n",
    "plt.subplot(221)\n",
    "plt.title(\"Train Loss\")\n",
    "plt.plot(history.history['loss'])\n",
    "plt.subplot(222)\n",
    "plt.title(\"Train/validation accuracy\")\n",
    "plt.plot(history.history['accuracy'])\n",
    "plt.plot(history.history['val_accuracy'])"
   ]
  },
  {
   "cell_type": "code",
   "execution_count": null,
   "metadata": {},
   "outputs": [],
   "source": [
    "model.save('lstm.h5')"
   ]
  },
  {
   "cell_type": "markdown",
   "metadata": {},
   "source": [
    "## GRU"
   ]
  },
  {
   "cell_type": "code",
   "execution_count": 84,
   "metadata": {},
   "outputs": [],
   "source": [
    "def get_model():\n",
    "    return K.Sequential([\n",
    "        K.layers.InputLayer((30, 36), batch_size=1),\n",
    "        K.layers.GRU(64, return_sequences=True),\n",
    "        K.layers.Dense(128, kernel_regularizer=tf.keras.regularizers.l2(l2=1e-3)),\n",
    "        K.layers.Dropout(0.2),\n",
    "        K.layers.Dense(7, activation='softmax')\n",
    "    ])"
   ]
  },
  {
   "cell_type": "code",
   "execution_count": 85,
   "metadata": {},
   "outputs": [
    {
     "name": "stdout",
     "output_type": "stream",
     "text": [
      "Model: \"sequential_10\"\n",
      "_________________________________________________________________\n",
      "Layer (type)                 Output Shape              Param #   \n",
      "=================================================================\n",
      "gru (GRU)                    (1, 30, 64)               19584     \n",
      "_________________________________________________________________\n",
      "dense_20 (Dense)             (1, 30, 128)              8320      \n",
      "_________________________________________________________________\n",
      "dropout_4 (Dropout)          (1, 30, 128)              0         \n",
      "_________________________________________________________________\n",
      "dense_21 (Dense)             (1, 30, 7)                903       \n",
      "=================================================================\n",
      "Total params: 28,807\n",
      "Trainable params: 28,807\n",
      "Non-trainable params: 0\n",
      "_________________________________________________________________\n"
     ]
    }
   ],
   "source": [
    "model = get_model()\n",
    "model.summary()"
   ]
  },
  {
   "cell_type": "code",
   "execution_count": 86,
   "metadata": {},
   "outputs": [],
   "source": [
    "model.compile(optimizer='adam',\n",
    "              loss='categorical_crossentropy',\n",
    "              metrics=['accuracy'])"
   ]
  },
  {
   "cell_type": "code",
   "execution_count": 88,
   "metadata": {},
   "outputs": [
    {
     "name": "stdout",
     "output_type": "stream",
     "text": [
      "Epoch 1/50\n",
      "274/274 [==============================] - 5s 17ms/step - loss: 1.5822 - accuracy: 0.5116 - val_loss: 1.2769 - val_accuracy: 0.6080\n",
      "Epoch 2/50\n",
      "274/274 [==============================] - 4s 13ms/step - loss: 1.3599 - accuracy: 0.5472 - val_loss: 1.0940 - val_accuracy: 0.6388\n",
      "Epoch 3/50\n",
      "274/274 [==============================] - 4s 13ms/step - loss: 1.1927 - accuracy: 0.5955 - val_loss: 1.1745 - val_accuracy: 0.6040\n",
      "Epoch 4/50\n",
      "274/274 [==============================] - 4s 13ms/step - loss: 1.0961 - accuracy: 0.6248 - val_loss: 0.8852 - val_accuracy: 0.6721\n",
      "Epoch 5/50\n",
      "274/274 [==============================] - 4s 14ms/step - loss: 1.0021 - accuracy: 0.6611 - val_loss: 0.9399 - val_accuracy: 0.6750\n",
      "Epoch 6/50\n",
      "274/274 [==============================] - 4s 13ms/step - loss: 0.9408 - accuracy: 0.6766 - val_loss: 0.8506 - val_accuracy: 0.6812\n",
      "Epoch 7/50\n",
      "274/274 [==============================] - 4s 13ms/step - loss: 0.8785 - accuracy: 0.6906 - val_loss: 0.8251 - val_accuracy: 0.7304\n",
      "Epoch 8/50\n",
      "274/274 [==============================] - 4s 15ms/step - loss: 0.8433 - accuracy: 0.7033 - val_loss: 0.7609 - val_accuracy: 0.7098\n",
      "Epoch 9/50\n",
      "274/274 [==============================] - 4s 14ms/step - loss: 0.8008 - accuracy: 0.7220 - val_loss: 0.7759 - val_accuracy: 0.7319\n",
      "Epoch 10/50\n",
      "274/274 [==============================] - 4s 15ms/step - loss: 0.7640 - accuracy: 0.7361 - val_loss: 0.8638 - val_accuracy: 0.6964\n",
      "Epoch 11/50\n",
      "274/274 [==============================] - 4s 16ms/step - loss: 0.7628 - accuracy: 0.7268 - val_loss: 0.9216 - val_accuracy: 0.6656\n",
      "Epoch 12/50\n",
      "274/274 [==============================] - 4s 13ms/step - loss: 0.7159 - accuracy: 0.7397 - val_loss: 0.7605 - val_accuracy: 0.7366\n",
      "Epoch 13/50\n",
      "274/274 [==============================] - 4s 14ms/step - loss: 0.7003 - accuracy: 0.7512 - val_loss: 0.7523 - val_accuracy: 0.7348\n",
      "Epoch 14/50\n",
      "274/274 [==============================] - 3s 13ms/step - loss: 0.6744 - accuracy: 0.7612 - val_loss: 0.7832 - val_accuracy: 0.7315\n",
      "Epoch 15/50\n",
      "274/274 [==============================] - 4s 13ms/step - loss: 0.6539 - accuracy: 0.7682 - val_loss: 0.7514 - val_accuracy: 0.7192\n",
      "Epoch 16/50\n",
      "274/274 [==============================] - 4s 13ms/step - loss: 0.6462 - accuracy: 0.7746 - val_loss: 0.7305 - val_accuracy: 0.7464\n",
      "Epoch 17/50\n",
      "274/274 [==============================] - 4s 14ms/step - loss: 0.6432 - accuracy: 0.7636 - val_loss: 0.8171 - val_accuracy: 0.7138\n",
      "Epoch 18/50\n",
      "274/274 [==============================] - 4s 13ms/step - loss: 0.6273 - accuracy: 0.7726 - val_loss: 0.7464 - val_accuracy: 0.7319\n",
      "Epoch 19/50\n",
      "274/274 [==============================] - 3s 13ms/step - loss: 0.6032 - accuracy: 0.7844 - val_loss: 0.6935 - val_accuracy: 0.7580\n",
      "Epoch 20/50\n",
      "274/274 [==============================] - 4s 13ms/step - loss: 0.6231 - accuracy: 0.7796 - val_loss: 0.7178 - val_accuracy: 0.7417\n",
      "Epoch 21/50\n",
      "274/274 [==============================] - 4s 14ms/step - loss: 0.5900 - accuracy: 0.7914 - val_loss: 0.7390 - val_accuracy: 0.7362\n",
      "Epoch 22/50\n",
      "274/274 [==============================] - 4s 13ms/step - loss: 0.5849 - accuracy: 0.7914 - val_loss: 0.7618 - val_accuracy: 0.7250\n",
      "Epoch 23/50\n",
      "274/274 [==============================] - 5s 17ms/step - loss: 0.5887 - accuracy: 0.7884 - val_loss: 0.8158 - val_accuracy: 0.6978\n",
      "Epoch 24/50\n",
      "274/274 [==============================] - 4s 16ms/step - loss: 0.5552 - accuracy: 0.8023 - val_loss: 0.7826 - val_accuracy: 0.7130\n",
      "Epoch 25/50\n",
      "274/274 [==============================] - 4s 14ms/step - loss: 0.5459 - accuracy: 0.8010 - val_loss: 0.6257 - val_accuracy: 0.7779\n",
      "Epoch 26/50\n",
      "274/274 [==============================] - 4s 13ms/step - loss: 0.5360 - accuracy: 0.8061 - val_loss: 0.7428 - val_accuracy: 0.7348\n",
      "Epoch 27/50\n",
      "274/274 [==============================] - 4s 14ms/step - loss: 0.5634 - accuracy: 0.7909 - val_loss: 0.6770 - val_accuracy: 0.7453\n",
      "Epoch 28/50\n",
      "274/274 [==============================] - 4s 16ms/step - loss: 0.5371 - accuracy: 0.8074 - val_loss: 0.6590 - val_accuracy: 0.7822\n",
      "Epoch 29/50\n",
      "274/274 [==============================] - 4s 13ms/step - loss: 0.5306 - accuracy: 0.8055 - val_loss: 0.6770 - val_accuracy: 0.7547\n",
      "Epoch 30/50\n",
      "274/274 [==============================] - 4s 14ms/step - loss: 0.5115 - accuracy: 0.8135 - val_loss: 0.6810 - val_accuracy: 0.7645\n",
      "Epoch 31/50\n",
      "274/274 [==============================] - 4s 14ms/step - loss: 0.5012 - accuracy: 0.8190 - val_loss: 0.8635 - val_accuracy: 0.6967\n",
      "Epoch 32/50\n",
      "274/274 [==============================] - 4s 15ms/step - loss: 0.4952 - accuracy: 0.8225 - val_loss: 0.6600 - val_accuracy: 0.7699\n",
      "Epoch 33/50\n",
      "274/274 [==============================] - 4s 14ms/step - loss: 0.5038 - accuracy: 0.8207 - val_loss: 0.7367 - val_accuracy: 0.7594\n",
      "Epoch 34/50\n",
      "274/274 [==============================] - 4s 15ms/step - loss: 0.4691 - accuracy: 0.8290 - val_loss: 0.7026 - val_accuracy: 0.7623\n",
      "Epoch 35/50\n",
      "274/274 [==============================] - 4s 15ms/step - loss: 0.4854 - accuracy: 0.8178 - val_loss: 0.6363 - val_accuracy: 0.7779\n",
      "Epoch 36/50\n",
      "274/274 [==============================] - 5s 18ms/step - loss: 0.4818 - accuracy: 0.8304 - val_loss: 0.7014 - val_accuracy: 0.7667\n",
      "Epoch 37/50\n",
      "274/274 [==============================] - 4s 14ms/step - loss: 0.4567 - accuracy: 0.8370 - val_loss: 0.7292 - val_accuracy: 0.7388\n",
      "Epoch 38/50\n",
      "274/274 [==============================] - 4s 14ms/step - loss: 0.4693 - accuracy: 0.8355 - val_loss: 0.6566 - val_accuracy: 0.7707\n",
      "Epoch 39/50\n",
      "274/274 [==============================] - 4s 14ms/step - loss: 0.4547 - accuracy: 0.8386 - val_loss: 0.7046 - val_accuracy: 0.7551\n",
      "Epoch 40/50\n",
      "274/274 [==============================] - 4s 14ms/step - loss: 0.4651 - accuracy: 0.8359 - val_loss: 0.8371 - val_accuracy: 0.6986\n",
      "Epoch 41/50\n",
      "274/274 [==============================] - 4s 14ms/step - loss: 0.4597 - accuracy: 0.8345 - val_loss: 0.6988 - val_accuracy: 0.7583\n",
      "Epoch 42/50\n",
      "274/274 [==============================] - 4s 14ms/step - loss: 0.4614 - accuracy: 0.8355 - val_loss: 0.7867 - val_accuracy: 0.7163\n",
      "Epoch 43/50\n",
      "274/274 [==============================] - 4s 15ms/step - loss: 0.4401 - accuracy: 0.8451 - val_loss: 0.7449 - val_accuracy: 0.7435\n",
      "Epoch 44/50\n",
      "274/274 [==============================] - 4s 14ms/step - loss: 0.4215 - accuracy: 0.8493 - val_loss: 0.8721 - val_accuracy: 0.6870\n",
      "Epoch 45/50\n",
      "274/274 [==============================] - 4s 14ms/step - loss: 0.4150 - accuracy: 0.8499 - val_loss: 0.7773 - val_accuracy: 0.7478\n",
      "Epoch 46/50\n",
      "274/274 [==============================] - 4s 14ms/step - loss: 0.4270 - accuracy: 0.8518 - val_loss: 0.7025 - val_accuracy: 0.7649\n",
      "Epoch 47/50\n",
      "274/274 [==============================] - 4s 15ms/step - loss: 0.4135 - accuracy: 0.8538 - val_loss: 1.0059 - val_accuracy: 0.6989\n",
      "Epoch 48/50\n",
      "274/274 [==============================] - 4s 14ms/step - loss: 0.4251 - accuracy: 0.8479 - val_loss: 0.7167 - val_accuracy: 0.7609\n",
      "Epoch 49/50\n",
      "274/274 [==============================] - 4s 14ms/step - loss: 0.4022 - accuracy: 0.8556 - val_loss: 0.8996 - val_accuracy: 0.7156\n",
      "Epoch 50/50\n",
      "274/274 [==============================] - 4s 15ms/step - loss: 0.3907 - accuracy: 0.8606 - val_loss: 0.8820 - val_accuracy: 0.6891\n"
     ]
    }
   ],
   "source": [
    "history = model.fit(X_train, y_train, validation_data=(X_test, y_test), batch_size=1, epochs=50)"
   ]
  },
  {
   "cell_type": "code",
   "execution_count": null,
   "metadata": {},
   "outputs": [],
   "source": [
    "plt.figure(figsize=(15, 7))\n",
    "plt.subplot(221)\n",
    "plt.title(\"Train Loss\")\n",
    "plt.plot(history.history['loss'])\n",
    "plt.subplot(222)\n",
    "plt.title(\"Train/validation accuracy\")\n",
    "plt.plot(history.history['accuracy'])\n",
    "plt.plot(history.history['val_accuracy'])"
   ]
  },
  {
   "cell_type": "code",
   "execution_count": null,
   "metadata": {},
   "outputs": [],
   "source": [
    "model.save('gru.h5')"
   ]
  }
 ],
 "metadata": {
  "kernelspec": {
   "display_name": "Python 3 (ipykernel)",
   "language": "python",
   "name": "python3"
  },
  "language_info": {
   "codemirror_mode": {
    "name": "ipython",
    "version": 3
   },
   "file_extension": ".py",
   "mimetype": "text/x-python",
   "name": "python",
   "nbconvert_exporter": "python",
   "pygments_lexer": "ipython3",
   "version": "3.8.10"
  }
 },
 "nbformat": 4,
 "nbformat_minor": 2
}
