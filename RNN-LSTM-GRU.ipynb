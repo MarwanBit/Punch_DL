{
 "cells": [
  {
   "cell_type": "markdown",
   "metadata": {},
   "source": [
    "# Load data"
   ]
  },
  {
   "cell_type": "code",
   "execution_count": 1,
   "metadata": {},
   "outputs": [
    {
     "name": "stderr",
     "output_type": "stream",
     "text": [
      "2021-10-29 21:41:35.488303: I tensorflow/stream_executor/platform/default/dso_loader.cc:48] Successfully opened dynamic library libcudart.so.10.1\n"
     ]
    }
   ],
   "source": [
    "import re\n",
    "import numpy as np\n",
    "import matplotlib.pyplot as plt\n",
    "\n",
    "import tensorflow as tf\n",
    "import tensorflow.keras as K"
   ]
  },
  {
   "cell_type": "code",
   "execution_count": 2,
   "metadata": {},
   "outputs": [],
   "source": [
    "def read_data(name):\n",
    "    X_train, y_train = [], []\n",
    "    X_test, y_test = [], []\n",
    "    X = np.load(f'data/keypoints/{name}.npy').reshape((-1, 51))\n",
    "    with open(f'data/labels/{name}') as f:\n",
    "        labels = f.readlines()\n",
    "\n",
    "    N = int(re.findall(r'\\d+', labels[0])[0])\n",
    "    assert N == X.shape[0]\n",
    "\n",
    "    end = 0\n",
    "\n",
    "    for lab in labels:\n",
    "        C = re.findall(r'\\d:', lab)\n",
    "        if len(C) == 1:\n",
    "            C = int(C[0][0])\n",
    "\n",
    "        idxs = re.findall(r'\\d+-\\d+', lab)\n",
    "        if len(idxs) > 1:  \n",
    "            print()\n",
    "            print(f'Add label [{C}] to train samples')\n",
    "            for idx in idxs[:-1]:\n",
    "                start, stop = idx.split('-')\n",
    "                start, stop = int(start), int(stop)\n",
    "\n",
    "                X_train.append(X[end:start])\n",
    "                y_train.append(0)\n",
    "\n",
    "                X_train.append(X[start:stop])\n",
    "                y_train.append(C)        \n",
    "                print(idx, end='\\t')\n",
    "\n",
    "                end = stop\n",
    "            \n",
    "            print()\n",
    "            print(f'Add label [{C}] to test samples')\n",
    "            idx = idxs[-1]\n",
    "            start, stop = idx.split('-')\n",
    "            start, stop = int(start), int(stop)\n",
    "\n",
    "            X_test.append(X[end:start])\n",
    "            y_test.append(0)\n",
    "            \n",
    "            print(idx, end='\\t')\n",
    "            X_test.append(X[start:stop])\n",
    "            y_test.append(C)        \n",
    "\n",
    "            end = stop\n",
    "\n",
    "    X_train.append(X[end:-1])\n",
    "    y_train.append(0)\n",
    "    \n",
    "    return X_train, y_train, X_test, y_test"
   ]
  },
  {
   "cell_type": "code",
   "execution_count": 3,
   "metadata": {
    "scrolled": true
   },
   "outputs": [
    {
     "name": "stdout",
     "output_type": "stream",
     "text": [
      "\n",
      "Add label [1] to train samples\n",
      "5-30\t42-70\t88-115\t130-154\t\n",
      "Add label [1] to test samples\n",
      "170-200\t\n",
      "Add label [2] to train samples\n",
      "220-247\t268-293\t315-340\t365-387\t\n",
      "Add label [2] to test samples\n",
      "417-436\t\n",
      "Add label [1] to train samples\n",
      "465-493\t515-538\t560-583\t605-625\t\n",
      "Add label [1] to test samples\n",
      "650-675\t\n",
      "Add label [2] to train samples\n",
      "696-715\t742-762\t787-807\t833-850\t\n",
      "Add label [2] to test samples\n",
      "878-895\t\n",
      "Add label [1] to train samples\n",
      "19-39\t68-89\t107-147\t156-190\t\n",
      "Add label [1] to test samples\n",
      "215-243\t\n",
      "Add label [2] to train samples\n",
      "266-288\t317-334\t361-382\t413-433\t\n",
      "Add label [2] to test samples\n",
      "462-482\t\n",
      "Add label [1] to train samples\n",
      "564-578\t600-615\t639-657\t680-695\t\n",
      "Add label [1] to test samples\n",
      "720-737\t\n",
      "Add label [2] to train samples\n",
      "764-778\t802-817\t840-857\t884-898\t\n",
      "Add label [2] to test samples\n",
      "924-939\t\n",
      "Add label [3] to train samples\n",
      "1-22\t45-70\t92-117\t141-164\t\n",
      "Add label [3] to test samples\n",
      "202-225\t\n",
      "Add label [4] to train samples\n",
      "275-300\t319-344\t372-395\t430-455\t\n",
      "Add label [4] to test samples\n",
      "489-515\t\n",
      "Add label [3] to train samples\n",
      "570-586\t615-636\t662-682\t710-730\t\n",
      "Add label [3] to test samples\n",
      "763-783\t\n",
      "Add label [4] to train samples\n",
      "826-843\t874-891\t921-939\t981-1000\t\n",
      "Add label [4] to test samples\n",
      "1038-1057\t\n",
      "Add label [3] to train samples\n",
      "21-43\t65-85\t113-133\t160-180\t\n",
      "Add label [3] to test samples\n",
      "212-227\t\n",
      "Add label [4] to train samples\n",
      "263-283\t314-334\t366-389\t418-438\t\n",
      "Add label [4] to test samples\n",
      "469-489\t\n",
      "Add label [3] to train samples\n",
      "537-558\t582-602\t629-649\t674-697\t\n",
      "Add label [3] to test samples\n",
      "750-770\t\n",
      "Add label [4] to train samples\n",
      "806-824\t849-869\t894-918\t948-966\t\n",
      "Add label [4] to test samples\n",
      "992-1012\t\n",
      "Add label [5] to train samples\n",
      "66-86\t110-130\t164-184\t213-233\t262-282\t\n",
      "Add label [5] to test samples\n",
      "318-338\t\n",
      "Add label [6] to train samples\n",
      "372-392\t420-440\t475-495\t525-545\t\n",
      "Add label [6] to test samples\n",
      "570-590\t\n",
      "Add label [5] to train samples\n",
      "685-700\t730-750\t785-802\t833-853\t\n",
      "Add label [5] to test samples\n",
      "887-907\t\n",
      "Add label [6] to train samples\n",
      "949-963\t991-1006\t1036-1053\t1086-1102\t\n",
      "Add label [6] to test samples\n",
      "1134-1151\t\n",
      "Add label [5] to train samples\n",
      "110-128\t155-170\t209-226\t262-276\t\n",
      "Add label [5] to test samples\n",
      "314-329\t\n",
      "Add label [6] to train samples\n",
      "368-380\t415-432\t458-475\t505-522\t\n",
      "Add label [6] to test samples\n",
      "556-575\t\n",
      "Add label [5] to train samples\n",
      "685-700\t733-749\t786-801\t834-851\t\n",
      "Add label [5] to test samples\n",
      "887-900\t\n",
      "Add label [6] to train samples\n",
      "942-957\t984-1002\t1030-1047\t1071-1087\t\n",
      "Add label [6] to test samples\n",
      "1115-1133\t"
     ]
    }
   ],
   "source": [
    "X_train, y_train, X_test, y_test = [], [], [], []\n",
    "\n",
    "FILE_NAMES = ['id0_jab_1',  'id0_jab_2', \n",
    "              'id0_hook_1', 'id0_hook_2',\n",
    "              'id0_uper_1', 'id0_uper_2']\n",
    "\n",
    "for name in FILE_NAMES:\n",
    "    x1, y1, x2, y2 = read_data(name)\n",
    "\n",
    "    X_train += x1\n",
    "    y_train += y1\n",
    "    X_test += x2\n",
    "    y_test += y2"
   ]
  },
  {
   "cell_type": "code",
   "execution_count": 4,
   "metadata": {},
   "outputs": [
    {
     "data": {
      "text/plain": [
       "(200, 48)"
      ]
     },
     "execution_count": 4,
     "metadata": {},
     "output_type": "execute_result"
    }
   ],
   "source": [
    "len(X_train), len(X_test)"
   ]
  },
  {
   "cell_type": "code",
   "execution_count": 5,
   "metadata": {},
   "outputs": [
    {
     "data": {
      "text/plain": [
       "(52, 51)"
      ]
     },
     "execution_count": 5,
     "metadata": {},
     "output_type": "execute_result"
    }
   ],
   "source": [
    "X_train[-1].shape"
   ]
  },
  {
   "cell_type": "code",
   "execution_count": 6,
   "metadata": {},
   "outputs": [
    {
     "name": "stderr",
     "output_type": "stream",
     "text": [
      "2021-10-29 21:41:53.467775: I tensorflow/stream_executor/platform/default/dso_loader.cc:48] Successfully opened dynamic library libcuda.so.1\n",
      "2021-10-29 21:41:54.434893: E tensorflow/stream_executor/cuda/cuda_driver.cc:314] failed call to cuInit: CUDA_ERROR_UNKNOWN: unknown error\n",
      "2021-10-29 21:41:54.434962: I tensorflow/stream_executor/cuda/cuda_diagnostics.cc:169] retrieving CUDA diagnostic information for host: andrew-Aspire-A715-41G\n",
      "2021-10-29 21:41:54.434975: I tensorflow/stream_executor/cuda/cuda_diagnostics.cc:176] hostname: andrew-Aspire-A715-41G\n",
      "2021-10-29 21:41:54.446083: I tensorflow/stream_executor/cuda/cuda_diagnostics.cc:200] libcuda reported version is: 470.74.0\n",
      "2021-10-29 21:41:54.446144: I tensorflow/stream_executor/cuda/cuda_diagnostics.cc:204] kernel reported version is: 470.74.0\n",
      "2021-10-29 21:41:54.446156: I tensorflow/stream_executor/cuda/cuda_diagnostics.cc:310] kernel version seems to match DSO: 470.74.0\n",
      "2021-10-29 21:41:54.448246: I tensorflow/core/platform/cpu_feature_guard.cc:142] This TensorFlow binary is optimized with oneAPI Deep Neural Network Library (oneDNN)to use the following CPU instructions in performance-critical operations:  AVX2 FMA\n",
      "To enable them in other operations, rebuild TensorFlow with the appropriate compiler flags.\n",
      "2021-10-29 21:41:54.487007: I tensorflow/core/platform/profile_utils/cpu_utils.cc:104] CPU Frequency: 2295730000 Hz\n",
      "2021-10-29 21:41:54.488117: I tensorflow/compiler/xla/service/service.cc:168] XLA service 0x2939900 initialized for platform Host (this does not guarantee that XLA will be used). Devices:\n",
      "2021-10-29 21:41:54.488151: I tensorflow/compiler/xla/service/service.cc:176]   StreamExecutor device (0): Host, Default Version\n"
     ]
    }
   ],
   "source": [
    "y_train = K.utils.to_categorical(y_train, num_classes=7)\n",
    "X_train = tf.ragged.constant(X_train)\n",
    "\n",
    "y_test = K.utils.to_categorical(y_test, num_classes=7)\n",
    "X_test = tf.ragged.constant(X_test)"
   ]
  },
  {
   "cell_type": "code",
   "execution_count": 7,
   "metadata": {},
   "outputs": [
    {
     "data": {
      "text/plain": [
       "TensorShape([200, None, None])"
      ]
     },
     "execution_count": 7,
     "metadata": {},
     "output_type": "execute_result"
    }
   ],
   "source": [
    "X_train.shape"
   ]
  },
  {
   "cell_type": "markdown",
   "metadata": {},
   "source": [
    "## Simple RNN "
   ]
  },
  {
   "cell_type": "code",
   "execution_count": 8,
   "metadata": {},
   "outputs": [],
   "source": [
    "inpu = K.layers.InputLayer((None, 51), batch_size=1)\n",
    "rnn = K.layers.SimpleRNN(32, stateful=True)\n",
    "dense1 = K.layers.Dense(64)\n",
    "dense2 = K.layers.Dense(7, activation='softmax')\n",
    "\n",
    "model = K.Sequential([inpu, rnn, dense1, dense2])"
   ]
  },
  {
   "cell_type": "code",
   "execution_count": 9,
   "metadata": {},
   "outputs": [],
   "source": [
    "model.compile(optimizer='adam',\n",
    "              loss='categorical_crossentropy',\n",
    "              metrics=['accuracy'])"
   ]
  },
  {
   "cell_type": "code",
   "execution_count": 10,
   "metadata": {
    "scrolled": true
   },
   "outputs": [
    {
     "name": "stdout",
     "output_type": "stream",
     "text": [
      "Model: \"sequential\"\n",
      "_________________________________________________________________\n",
      "Layer (type)                 Output Shape              Param #   \n",
      "=================================================================\n",
      "simple_rnn (SimpleRNN)       (1, 32)                   2688      \n",
      "_________________________________________________________________\n",
      "dense (Dense)                (1, 64)                   2112      \n",
      "_________________________________________________________________\n",
      "dense_1 (Dense)              (1, 7)                    455       \n",
      "=================================================================\n",
      "Total params: 5,255\n",
      "Trainable params: 5,255\n",
      "Non-trainable params: 0\n",
      "_________________________________________________________________\n"
     ]
    }
   ],
   "source": [
    "model.summary()"
   ]
  },
  {
   "cell_type": "code",
   "execution_count": 11,
   "metadata": {
    "scrolled": true
   },
   "outputs": [
    {
     "name": "stdout",
     "output_type": "stream",
     "text": [
      "Epoch 1/50\n",
      "200/200 [==============================] - 3s 13ms/step - loss: 1.6818 - accuracy: 0.4950 - val_loss: 1.5842 - val_accuracy: 0.5000\n",
      "Epoch 2/50\n",
      "200/200 [==============================] - 2s 11ms/step - loss: 1.6142 - accuracy: 0.5150 - val_loss: 1.6092 - val_accuracy: 0.5000\n",
      "Epoch 3/50\n",
      "200/200 [==============================] - 2s 10ms/step - loss: 1.5954 - accuracy: 0.5150 - val_loss: 1.5856 - val_accuracy: 0.5000\n",
      "Epoch 4/50\n",
      "200/200 [==============================] - 2s 10ms/step - loss: 1.5267 - accuracy: 0.5000 - val_loss: 1.4919 - val_accuracy: 0.5000\n",
      "Epoch 5/50\n",
      "200/200 [==============================] - 2s 10ms/step - loss: 1.4804 - accuracy: 0.5200 - val_loss: 1.7589 - val_accuracy: 0.5000\n",
      "Epoch 6/50\n",
      "200/200 [==============================] - 2s 11ms/step - loss: 1.6048 - accuracy: 0.5000 - val_loss: 1.7437 - val_accuracy: 0.5000\n",
      "Epoch 7/50\n",
      "200/200 [==============================] - 2s 10ms/step - loss: 1.4138 - accuracy: 0.5500 - val_loss: 1.2633 - val_accuracy: 0.5625\n",
      "Epoch 8/50\n",
      "200/200 [==============================] - 2s 11ms/step - loss: 1.4600 - accuracy: 0.5200 - val_loss: 1.5285 - val_accuracy: 0.5000\n",
      "Epoch 9/50\n",
      "200/200 [==============================] - 2s 12ms/step - loss: 1.3918 - accuracy: 0.5050 - val_loss: 1.3571 - val_accuracy: 0.5000\n",
      "Epoch 10/50\n",
      "200/200 [==============================] - 2s 11ms/step - loss: 1.2211 - accuracy: 0.5900 - val_loss: 1.5370 - val_accuracy: 0.5208\n",
      "Epoch 11/50\n",
      "200/200 [==============================] - 2s 11ms/step - loss: 1.3508 - accuracy: 0.5750 - val_loss: 1.4604 - val_accuracy: 0.5000\n",
      "Epoch 12/50\n",
      "200/200 [==============================] - 2s 11ms/step - loss: 1.2281 - accuracy: 0.6050 - val_loss: 1.3531 - val_accuracy: 0.6042\n",
      "Epoch 13/50\n",
      "200/200 [==============================] - 2s 11ms/step - loss: 1.3833 - accuracy: 0.5050 - val_loss: 1.1239 - val_accuracy: 0.6042\n",
      "Epoch 14/50\n",
      "200/200 [==============================] - 2s 11ms/step - loss: 1.2575 - accuracy: 0.5600 - val_loss: 1.4416 - val_accuracy: 0.5208\n",
      "Epoch 15/50\n",
      "200/200 [==============================] - 2s 11ms/step - loss: 1.0608 - accuracy: 0.5900 - val_loss: 1.2931 - val_accuracy: 0.5833\n",
      "Epoch 16/50\n",
      "200/200 [==============================] - 2s 11ms/step - loss: 1.0042 - accuracy: 0.6000 - val_loss: 1.2268 - val_accuracy: 0.5833\n",
      "Epoch 17/50\n",
      "200/200 [==============================] - 2s 11ms/step - loss: 0.9002 - accuracy: 0.6650 - val_loss: 1.2998 - val_accuracy: 0.6042\n",
      "Epoch 18/50\n",
      "200/200 [==============================] - 2s 12ms/step - loss: 0.8747 - accuracy: 0.6800 - val_loss: 0.9843 - val_accuracy: 0.6458\n",
      "Epoch 19/50\n",
      "200/200 [==============================] - 2s 11ms/step - loss: 0.8627 - accuracy: 0.7000 - val_loss: 0.8840 - val_accuracy: 0.6458\n",
      "Epoch 20/50\n",
      "200/200 [==============================] - 2s 11ms/step - loss: 0.9170 - accuracy: 0.6900 - val_loss: 1.0606 - val_accuracy: 0.5833\n",
      "Epoch 21/50\n",
      "200/200 [==============================] - 2s 11ms/step - loss: 0.7887 - accuracy: 0.7000 - val_loss: 0.8030 - val_accuracy: 0.6667\n",
      "Epoch 22/50\n",
      "200/200 [==============================] - 2s 11ms/step - loss: 0.6456 - accuracy: 0.7600 - val_loss: 0.7921 - val_accuracy: 0.6667\n",
      "Epoch 23/50\n",
      "200/200 [==============================] - 2s 11ms/step - loss: 0.6789 - accuracy: 0.7600 - val_loss: 1.2763 - val_accuracy: 0.5833\n",
      "Epoch 24/50\n",
      "200/200 [==============================] - 2s 11ms/step - loss: 0.9080 - accuracy: 0.6750 - val_loss: 1.1223 - val_accuracy: 0.6042\n",
      "Epoch 25/50\n",
      "200/200 [==============================] - 2s 10ms/step - loss: 0.7648 - accuracy: 0.7450 - val_loss: 1.1549 - val_accuracy: 0.5417\n",
      "Epoch 26/50\n",
      "200/200 [==============================] - 2s 11ms/step - loss: 0.6469 - accuracy: 0.7350 - val_loss: 1.0871 - val_accuracy: 0.5417\n",
      "Epoch 27/50\n",
      "200/200 [==============================] - 2s 11ms/step - loss: 0.5275 - accuracy: 0.7950 - val_loss: 0.9251 - val_accuracy: 0.6250\n",
      "Epoch 28/50\n",
      "200/200 [==============================] - 2s 11ms/step - loss: 0.4337 - accuracy: 0.8750 - val_loss: 0.8039 - val_accuracy: 0.6667\n",
      "Epoch 29/50\n",
      "200/200 [==============================] - 2s 11ms/step - loss: 0.4985 - accuracy: 0.8100 - val_loss: 2.5024 - val_accuracy: 0.2708\n",
      "Epoch 30/50\n",
      "200/200 [==============================] - 3s 13ms/step - loss: 0.8116 - accuracy: 0.7250 - val_loss: 0.9694 - val_accuracy: 0.7292\n",
      "Epoch 31/50\n",
      "200/200 [==============================] - 3s 13ms/step - loss: 0.5263 - accuracy: 0.8250 - val_loss: 0.6893 - val_accuracy: 0.7500\n",
      "Epoch 32/50\n",
      "200/200 [==============================] - 3s 15ms/step - loss: 0.4873 - accuracy: 0.8250 - val_loss: 1.3018 - val_accuracy: 0.6667\n",
      "Epoch 33/50\n",
      "200/200 [==============================] - 3s 13ms/step - loss: 0.7085 - accuracy: 0.7400 - val_loss: 0.8289 - val_accuracy: 0.6875\n",
      "Epoch 34/50\n",
      "200/200 [==============================] - 2s 12ms/step - loss: 0.4981 - accuracy: 0.8250 - val_loss: 0.9407 - val_accuracy: 0.6667\n",
      "Epoch 35/50\n",
      "200/200 [==============================] - 2s 12ms/step - loss: 0.5603 - accuracy: 0.7900 - val_loss: 0.9199 - val_accuracy: 0.7083\n",
      "Epoch 36/50\n",
      "200/200 [==============================] - 3s 13ms/step - loss: 0.2737 - accuracy: 0.9150 - val_loss: 0.8074 - val_accuracy: 0.6667\n",
      "Epoch 37/50\n",
      "200/200 [==============================] - 2s 11ms/step - loss: 0.4489 - accuracy: 0.8500 - val_loss: 1.2797 - val_accuracy: 0.5833\n",
      "Epoch 38/50\n",
      "200/200 [==============================] - 2s 12ms/step - loss: 0.3966 - accuracy: 0.8650 - val_loss: 1.2430 - val_accuracy: 0.6250\n",
      "Epoch 39/50\n",
      "200/200 [==============================] - 3s 13ms/step - loss: 0.3459 - accuracy: 0.8800 - val_loss: 0.9351 - val_accuracy: 0.6667\n",
      "Epoch 40/50\n",
      "200/200 [==============================] - 3s 14ms/step - loss: 0.2985 - accuracy: 0.9100 - val_loss: 1.6579 - val_accuracy: 0.3958\n",
      "Epoch 41/50\n",
      "200/200 [==============================] - 2s 12ms/step - loss: 0.5352 - accuracy: 0.8350 - val_loss: 1.0049 - val_accuracy: 0.6667\n",
      "Epoch 42/50\n",
      "200/200 [==============================] - 2s 12ms/step - loss: 0.4402 - accuracy: 0.8200 - val_loss: 1.1607 - val_accuracy: 0.5833\n",
      "Epoch 43/50\n",
      "200/200 [==============================] - 2s 12ms/step - loss: 0.4673 - accuracy: 0.8300 - val_loss: 1.0379 - val_accuracy: 0.6458\n",
      "Epoch 44/50\n",
      "200/200 [==============================] - 3s 13ms/step - loss: 0.2965 - accuracy: 0.8850 - val_loss: 1.1692 - val_accuracy: 0.6667\n",
      "Epoch 45/50\n",
      "200/200 [==============================] - 2s 12ms/step - loss: 0.2354 - accuracy: 0.9150 - val_loss: 1.5416 - val_accuracy: 0.5417\n",
      "Epoch 46/50\n",
      "200/200 [==============================] - 2s 12ms/step - loss: 0.3719 - accuracy: 0.8850 - val_loss: 1.2033 - val_accuracy: 0.6250\n",
      "Epoch 47/50\n",
      "200/200 [==============================] - 2s 12ms/step - loss: 0.4063 - accuracy: 0.8400 - val_loss: 1.0235 - val_accuracy: 0.6458\n",
      "Epoch 48/50\n",
      "200/200 [==============================] - 2s 11ms/step - loss: 0.6504 - accuracy: 0.7750 - val_loss: 1.6455 - val_accuracy: 0.6250\n",
      "Epoch 49/50\n",
      "200/200 [==============================] - 4s 18ms/step - loss: 0.3470 - accuracy: 0.8950 - val_loss: 1.1338 - val_accuracy: 0.7083\n",
      "Epoch 50/50\n",
      "200/200 [==============================] - 2s 11ms/step - loss: 0.1664 - accuracy: 0.9600 - val_loss: 1.1462 - val_accuracy: 0.6875\n"
     ]
    }
   ],
   "source": [
    "history = model.fit(X_train, y_train, validation_data=(X_test, y_test), batch_size=1, epochs=50)"
   ]
  },
  {
   "cell_type": "code",
   "execution_count": 12,
   "metadata": {},
   "outputs": [
    {
     "data": {
      "text/plain": [
       "[<matplotlib.lines.Line2D at 0x7f2c444443d0>]"
      ]
     },
     "execution_count": 12,
     "metadata": {},
     "output_type": "execute_result"
    },
    {
     "data": {
      "image/png": "[encoded data removed]",
      "text/plain": [
       "<Figure size 1080x504 with 2 Axes>"
      ]
     },
     "metadata": {
      "needs_background": "light"
     },
     "output_type": "display_data"
    }
   ],
   "source": [
    "plt.figure(figsize=(15, 7))\n",
    "plt.subplot(221)\n",
    "plt.title(\"Train Loss\")\n",
    "plt.plot(history.history['loss'])\n",
    "plt.subplot(222)\n",
    "plt.title(\"Train/validation accuracy\")\n",
    "plt.plot(history.history['accuracy'])\n",
    "plt.plot(history.history['val_accuracy'])"
   ]
  },
  {
   "cell_type": "markdown",
   "metadata": {},
   "source": [
    "## LSTM"
   ]
  },
  {
   "cell_type": "code",
   "execution_count": 13,
   "metadata": {},
   "outputs": [],
   "source": [
    "inpu = K.layers.InputLayer((None, 51))\n",
    "rnn = K.layers.LSTM(64)\n",
    "dense1 = K.layers.Dense(128, kernel_regularizer=tf.keras.regularizers.l2(l2=1e-3))\n",
    "dense2 = K.layers.Dense(7, activation='softmax')\n",
    "\n",
    "model = K.Sequential([inpu, rnn, dense1, dense2])\n",
    "model.compile(optimizer='adam',\n",
    "          loss='categorical_crossentropy',\n",
    "          metrics=['accuracy'])\n"
   ]
  },
  {
   "cell_type": "code",
   "execution_count": 14,
   "metadata": {
    "scrolled": true
   },
   "outputs": [
    {
     "name": "stdout",
     "output_type": "stream",
     "text": [
      "Epoch 1/24\n",
      "50/50 [==============================] - 2s 39ms/step - loss: 1.7671 - accuracy: 0.4900 - val_loss: 1.6449 - val_accuracy: 0.5000\n",
      "Epoch 2/24\n",
      "50/50 [==============================] - 2s 30ms/step - loss: 1.6280 - accuracy: 0.5150 - val_loss: 1.4746 - val_accuracy: 0.5000\n",
      "Epoch 3/24\n",
      "50/50 [==============================] - 1s 28ms/step - loss: 1.5558 - accuracy: 0.4950 - val_loss: 1.3784 - val_accuracy: 0.5000\n",
      "Epoch 4/24\n",
      "50/50 [==============================] - 1s 27ms/step - loss: 1.3556 - accuracy: 0.5650 - val_loss: 1.3821 - val_accuracy: 0.5000\n",
      "Epoch 5/24\n",
      "50/50 [==============================] - 1s 28ms/step - loss: 1.2626 - accuracy: 0.5800 - val_loss: 1.0196 - val_accuracy: 0.6458\n",
      "Epoch 6/24\n",
      "50/50 [==============================] - 1s 28ms/step - loss: 0.9640 - accuracy: 0.6450 - val_loss: 0.9417 - val_accuracy: 0.6042\n",
      "Epoch 7/24\n",
      "50/50 [==============================] - 1s 28ms/step - loss: 0.9410 - accuracy: 0.6500 - val_loss: 1.0414 - val_accuracy: 0.6042\n",
      "Epoch 8/24\n",
      "50/50 [==============================] - 1s 29ms/step - loss: 1.0073 - accuracy: 0.6750 - val_loss: 0.8500 - val_accuracy: 0.6250\n",
      "Epoch 9/24\n",
      "50/50 [==============================] - 1s 28ms/step - loss: 0.8068 - accuracy: 0.6900 - val_loss: 1.0827 - val_accuracy: 0.6042\n",
      "Epoch 10/24\n",
      "50/50 [==============================] - 1s 28ms/step - loss: 1.0375 - accuracy: 0.6300 - val_loss: 1.3547 - val_accuracy: 0.5625\n",
      "Epoch 11/24\n",
      "50/50 [==============================] - 1s 29ms/step - loss: 1.0653 - accuracy: 0.6150 - val_loss: 1.0303 - val_accuracy: 0.6250\n",
      "Epoch 12/24\n",
      "50/50 [==============================] - 1s 27ms/step - loss: 0.9236 - accuracy: 0.7050 - val_loss: 1.3026 - val_accuracy: 0.5833\n",
      "Epoch 13/24\n",
      "50/50 [==============================] - 1s 28ms/step - loss: 0.7364 - accuracy: 0.7050 - val_loss: 0.8896 - val_accuracy: 0.6250\n",
      "Epoch 14/24\n",
      "50/50 [==============================] - 1s 25ms/step - loss: 0.7105 - accuracy: 0.7200 - val_loss: 0.8141 - val_accuracy: 0.6875\n",
      "Epoch 15/24\n",
      "50/50 [==============================] - 2s 32ms/step - loss: 0.7992 - accuracy: 0.6750 - val_loss: 0.7088 - val_accuracy: 0.6875\n",
      "Epoch 16/24\n",
      "50/50 [==============================] - 1s 30ms/step - loss: 0.8546 - accuracy: 0.7150 - val_loss: 1.2659 - val_accuracy: 0.6667\n",
      "Epoch 17/24\n",
      "50/50 [==============================] - 2s 32ms/step - loss: 0.8161 - accuracy: 0.7200 - val_loss: 0.9458 - val_accuracy: 0.6667\n",
      "Epoch 18/24\n",
      "50/50 [==============================] - 1s 30ms/step - loss: 0.6216 - accuracy: 0.7900 - val_loss: 0.5920 - val_accuracy: 0.7917\n",
      "Epoch 19/24\n",
      "50/50 [==============================] - 1s 28ms/step - loss: 0.5391 - accuracy: 0.8000 - val_loss: 0.6017 - val_accuracy: 0.7708\n",
      "Epoch 20/24\n",
      "50/50 [==============================] - 1s 30ms/step - loss: 0.5869 - accuracy: 0.7800 - val_loss: 0.6375 - val_accuracy: 0.7292\n",
      "Epoch 21/24\n",
      "50/50 [==============================] - 2s 32ms/step - loss: 0.5381 - accuracy: 0.7700 - val_loss: 0.5664 - val_accuracy: 0.7500\n",
      "Epoch 22/24\n",
      "50/50 [==============================] - 2s 30ms/step - loss: 0.7301 - accuracy: 0.7250 - val_loss: 0.7121 - val_accuracy: 0.7292\n",
      "Epoch 23/24\n",
      "50/50 [==============================] - 1s 29ms/step - loss: 0.5809 - accuracy: 0.7600 - val_loss: 0.6595 - val_accuracy: 0.7708\n",
      "Epoch 24/24\n",
      "50/50 [==============================] - 1s 28ms/step - loss: 0.4961 - accuracy: 0.8400 - val_loss: 0.6167 - val_accuracy: 0.7500\n"
     ]
    }
   ],
   "source": [
    "history = model.fit(X_train, y_train, validation_data=(X_test, y_test), batch_size=4, epochs=24)"
   ]
  },
  {
   "cell_type": "code",
   "execution_count": 15,
   "metadata": {},
   "outputs": [
    {
     "data": {
      "text/plain": [
       "[<matplotlib.lines.Line2D at 0x7f2c246c81c0>]"
      ]
     },
     "execution_count": 15,
     "metadata": {},
     "output_type": "execute_result"
    },
    {
     "data": {
      "image/png": "[encoded data removed]",
      "text/plain": [
       "<Figure size 1080x504 with 2 Axes>"
      ]
     },
     "metadata": {
      "needs_background": "light"
     },
     "output_type": "display_data"
    }
   ],
   "source": [
    "plt.figure(figsize=(15, 7))\n",
    "plt.subplot(221)\n",
    "plt.title(\"Train Loss\")\n",
    "plt.plot(history.history['loss'])\n",
    "plt.subplot(222)\n",
    "plt.title(\"Train/validation accuracy\")\n",
    "plt.plot(history.history['accuracy'])\n",
    "plt.plot(history.history['val_accuracy'])"
   ]
  },
  {
   "cell_type": "markdown",
   "metadata": {},
   "source": [
    "## GRU"
   ]
  },
  {
   "cell_type": "code",
   "execution_count": 16,
   "metadata": {},
   "outputs": [],
   "source": [
    "inpt = K.layers.InputLayer((None, 51))\n",
    "gru = K.layers.GRU(64)\n",
    "dense1 = K.layers.Dense(128, kernel_regularizer=tf.keras.regularizers.l2(l2=1e-3))\n",
    "dense2 = K.layers.Dense(7, activation='softmax')\n",
    "\n",
    "model = K.Sequential([inpu, gru, dense1, dense2])\n",
    "model.compile(optimizer='adam',\n",
    "          loss='categorical_crossentropy',\n",
    "          metrics=['accuracy'])"
   ]
  },
  {
   "cell_type": "code",
   "execution_count": 18,
   "metadata": {},
   "outputs": [
    {
     "name": "stdout",
     "output_type": "stream",
     "text": [
      "Epoch 1/50\n",
      "50/50 [==============================] - 1s 29ms/step - loss: 0.3915 - accuracy: 0.8900 - val_loss: 0.3832 - val_accuracy: 0.8542\n",
      "Epoch 2/50\n",
      "50/50 [==============================] - 1s 28ms/step - loss: 0.2500 - accuracy: 0.9400 - val_loss: 0.3946 - val_accuracy: 0.8750\n",
      "Epoch 3/50\n",
      "50/50 [==============================] - 2s 32ms/step - loss: 0.2346 - accuracy: 0.9350 - val_loss: 0.4356 - val_accuracy: 0.8958\n",
      "Epoch 4/50\n",
      "50/50 [==============================] - 2s 32ms/step - loss: 0.2263 - accuracy: 0.9400 - val_loss: 0.5955 - val_accuracy: 0.7708\n",
      "Epoch 5/50\n",
      "50/50 [==============================] - 1s 29ms/step - loss: 0.3665 - accuracy: 0.9100 - val_loss: 0.6725 - val_accuracy: 0.7500\n",
      "Epoch 6/50\n",
      "50/50 [==============================] - 1s 29ms/step - loss: 0.4108 - accuracy: 0.8800 - val_loss: 0.4268 - val_accuracy: 0.8958\n",
      "Epoch 7/50\n",
      "50/50 [==============================] - 2s 32ms/step - loss: 0.2253 - accuracy: 0.9400 - val_loss: 0.3704 - val_accuracy: 0.9167\n",
      "Epoch 8/50\n",
      "50/50 [==============================] - 1s 28ms/step - loss: 0.2267 - accuracy: 0.9250 - val_loss: 0.3560 - val_accuracy: 0.8958\n",
      "Epoch 9/50\n",
      "50/50 [==============================] - 2s 31ms/step - loss: 0.2704 - accuracy: 0.9250 - val_loss: 0.4406 - val_accuracy: 0.8750\n",
      "Epoch 10/50\n",
      "50/50 [==============================] - 1s 28ms/step - loss: 0.2730 - accuracy: 0.9150 - val_loss: 0.3527 - val_accuracy: 0.9167\n",
      "Epoch 11/50\n",
      "50/50 [==============================] - 1s 29ms/step - loss: 0.3933 - accuracy: 0.8600 - val_loss: 0.5141 - val_accuracy: 0.8542\n",
      "Epoch 12/50\n",
      "50/50 [==============================] - 1s 28ms/step - loss: 0.2374 - accuracy: 0.9350 - val_loss: 0.4835 - val_accuracy: 0.7917\n",
      "Epoch 13/50\n",
      "50/50 [==============================] - 1s 28ms/step - loss: 0.1849 - accuracy: 0.9600 - val_loss: 0.3657 - val_accuracy: 0.8958\n",
      "Epoch 14/50\n",
      "50/50 [==============================] - 2s 31ms/step - loss: 0.1992 - accuracy: 0.9450 - val_loss: 0.5969 - val_accuracy: 0.7917\n",
      "Epoch 15/50\n",
      "50/50 [==============================] - 2s 32ms/step - loss: 0.2431 - accuracy: 0.9350 - val_loss: 0.2781 - val_accuracy: 0.9167\n",
      "Epoch 16/50\n",
      "50/50 [==============================] - 1s 29ms/step - loss: 0.2206 - accuracy: 0.9350 - val_loss: 0.4302 - val_accuracy: 0.8750\n",
      "Epoch 17/50\n",
      "50/50 [==============================] - 2s 31ms/step - loss: 0.2028 - accuracy: 0.9350 - val_loss: 0.4462 - val_accuracy: 0.8333\n",
      "Epoch 18/50\n",
      "50/50 [==============================] - 2s 31ms/step - loss: 0.1866 - accuracy: 0.9550 - val_loss: 0.4768 - val_accuracy: 0.8542\n",
      "Epoch 19/50\n",
      "50/50 [==============================] - 2s 32ms/step - loss: 0.1497 - accuracy: 0.9650 - val_loss: 0.3471 - val_accuracy: 0.9167\n",
      "Epoch 20/50\n",
      "50/50 [==============================] - 1s 28ms/step - loss: 0.1556 - accuracy: 0.9500 - val_loss: 0.4819 - val_accuracy: 0.8125\n",
      "Epoch 21/50\n",
      "50/50 [==============================] - 1s 28ms/step - loss: 0.2163 - accuracy: 0.9400 - val_loss: 1.2295 - val_accuracy: 0.6875\n",
      "Epoch 22/50\n",
      "50/50 [==============================] - 1s 28ms/step - loss: 0.4127 - accuracy: 0.8750 - val_loss: 0.3670 - val_accuracy: 0.8958\n",
      "Epoch 23/50\n",
      "50/50 [==============================] - 2s 30ms/step - loss: 0.1575 - accuracy: 0.9650 - val_loss: 0.3552 - val_accuracy: 0.9375\n",
      "Epoch 24/50\n",
      "50/50 [==============================] - 2s 31ms/step - loss: 0.1701 - accuracy: 0.9550 - val_loss: 0.3590 - val_accuracy: 0.8958\n",
      "Epoch 25/50\n",
      "50/50 [==============================] - 2s 32ms/step - loss: 0.1386 - accuracy: 0.9550 - val_loss: 0.3613 - val_accuracy: 0.9167\n",
      "Epoch 26/50\n",
      "50/50 [==============================] - 1s 28ms/step - loss: 0.1551 - accuracy: 0.9650 - val_loss: 0.3927 - val_accuracy: 0.8750\n",
      "Epoch 27/50\n",
      "50/50 [==============================] - 1s 29ms/step - loss: 0.1709 - accuracy: 0.9500 - val_loss: 0.3993 - val_accuracy: 0.8542\n",
      "Epoch 28/50\n",
      "50/50 [==============================] - 2s 31ms/step - loss: 0.1261 - accuracy: 0.9700 - val_loss: 0.3400 - val_accuracy: 0.9375\n",
      "Epoch 29/50\n",
      "50/50 [==============================] - 1s 29ms/step - loss: 0.1051 - accuracy: 0.9900 - val_loss: 0.3689 - val_accuracy: 0.8958\n",
      "Epoch 30/50\n",
      "50/50 [==============================] - 2s 31ms/step - loss: 0.1303 - accuracy: 0.9750 - val_loss: 0.5578 - val_accuracy: 0.8542\n",
      "Epoch 31/50\n",
      "50/50 [==============================] - 2s 34ms/step - loss: 0.1827 - accuracy: 0.9550 - val_loss: 0.3853 - val_accuracy: 0.9167\n",
      "Epoch 32/50\n",
      "50/50 [==============================] - 2s 33ms/step - loss: 0.1382 - accuracy: 0.9600 - val_loss: 0.3598 - val_accuracy: 0.8750\n",
      "Epoch 33/50\n",
      "50/50 [==============================] - 2s 32ms/step - loss: 0.1702 - accuracy: 0.9500 - val_loss: 0.5203 - val_accuracy: 0.8333\n",
      "Epoch 34/50\n",
      "50/50 [==============================] - 2s 31ms/step - loss: 0.1983 - accuracy: 0.9550 - val_loss: 0.2887 - val_accuracy: 0.8958\n",
      "Epoch 35/50\n",
      "50/50 [==============================] - 1s 29ms/step - loss: 0.1351 - accuracy: 0.9750 - val_loss: 0.4009 - val_accuracy: 0.8750\n",
      "Epoch 36/50\n",
      "50/50 [==============================] - 2s 31ms/step - loss: 0.1118 - accuracy: 0.9850 - val_loss: 0.3382 - val_accuracy: 0.8958\n",
      "Epoch 37/50\n",
      "50/50 [==============================] - 2s 30ms/step - loss: 0.0914 - accuracy: 0.9900 - val_loss: 0.3406 - val_accuracy: 0.9167\n",
      "Epoch 38/50\n",
      "50/50 [==============================] - 1s 27ms/step - loss: 0.0806 - accuracy: 0.9950 - val_loss: 0.4287 - val_accuracy: 0.8542\n",
      "Epoch 39/50\n",
      "50/50 [==============================] - 2s 32ms/step - loss: 0.0999 - accuracy: 0.9850 - val_loss: 0.3226 - val_accuracy: 0.9167\n",
      "Epoch 40/50\n",
      "50/50 [==============================] - 1s 28ms/step - loss: 0.1425 - accuracy: 0.9600 - val_loss: 0.3800 - val_accuracy: 0.9167\n",
      "Epoch 41/50\n",
      "50/50 [==============================] - 1s 30ms/step - loss: 0.0966 - accuracy: 0.9750 - val_loss: 0.5035 - val_accuracy: 0.8542\n",
      "Epoch 42/50\n",
      "50/50 [==============================] - 1s 29ms/step - loss: 0.1170 - accuracy: 0.9800 - val_loss: 0.2733 - val_accuracy: 0.8958\n",
      "Epoch 43/50\n",
      "50/50 [==============================] - 2s 31ms/step - loss: 0.1248 - accuracy: 0.9650 - val_loss: 0.2442 - val_accuracy: 0.8958\n",
      "Epoch 44/50\n",
      "50/50 [==============================] - 1s 30ms/step - loss: 0.0725 - accuracy: 0.9950 - val_loss: 0.2235 - val_accuracy: 0.9375\n",
      "Epoch 45/50\n",
      "50/50 [==============================] - 1s 28ms/step - loss: 0.0808 - accuracy: 0.9850 - val_loss: 0.2445 - val_accuracy: 0.9375\n",
      "Epoch 46/50\n",
      "50/50 [==============================] - 1s 30ms/step - loss: 0.0639 - accuracy: 0.9950 - val_loss: 0.2328 - val_accuracy: 0.9167\n",
      "Epoch 47/50\n",
      "50/50 [==============================] - 1s 29ms/step - loss: 0.0686 - accuracy: 0.9900 - val_loss: 0.3041 - val_accuracy: 0.8958\n",
      "Epoch 48/50\n",
      "50/50 [==============================] - 1s 29ms/step - loss: 0.2464 - accuracy: 0.9350 - val_loss: 0.7100 - val_accuracy: 0.7500\n",
      "Epoch 49/50\n",
      "50/50 [==============================] - 1s 27ms/step - loss: 0.5110 - accuracy: 0.8350 - val_loss: 0.6913 - val_accuracy: 0.7708\n",
      "Epoch 50/50\n",
      "50/50 [==============================] - 1s 29ms/step - loss: 0.1800 - accuracy: 0.9500 - val_loss: 0.2732 - val_accuracy: 0.9375\n"
     ]
    }
   ],
   "source": [
    "history = model.fit(X_train, y_train, validation_data=(X_test, y_test), batch_size=4, epochs=50)"
   ]
  },
  {
   "cell_type": "code",
   "execution_count": null,
   "metadata": {},
   "outputs": [],
   "source": []
  }
 ],
 "metadata": {
  "kernelspec": {
   "display_name": "Python 3 (ipykernel)",
   "language": "python",
   "name": "python3"
  },
  "language_info": {
   "codemirror_mode": {
    "name": "ipython",
    "version": 3
   },
   "file_extension": ".py",
   "mimetype": "text/x-python",
   "name": "python",
   "nbconvert_exporter": "python",
   "pygments_lexer": "ipython3",
   "version": "3.8.10"
  }
 },
 "nbformat": 4,
 "nbformat_minor": 2
}
