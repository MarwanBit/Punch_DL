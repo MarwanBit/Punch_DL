{
 "cells": [
  {
   "cell_type": "markdown",
   "metadata": {
    "gradient": {
     "editing": false,
     "id": "62ff8ca4-6bf6-442d-b0a2-468aa0ee7d94",
     "kernelId": "1575c96a-5826-4c69-b3dd-9e87d0c84bf7"
    }
   },
   "source": [
    "# Load data"
   ]
  },
  {
   "cell_type": "code",
   "execution_count": 2,
   "metadata": {
    "gradient": {
     "editing": false,
     "execution_count": 15,
     "id": "c18158e7-ef4e-42aa-95b2-24b510ea96a2",
     "kernelId": "1575c96a-5826-4c69-b3dd-9e87d0c84bf7"
    },
    "scrolled": true
   },
   "outputs": [
    {
     "name": "stderr",
     "output_type": "stream",
     "text": [
      "2022-02-16 21:27:33.779354: I tensorflow/stream_executor/platform/default/dso_loader.cc:48] Successfully opened dynamic library libcudart.so.10.1\n"
     ]
    }
   ],
   "source": [
    "import sys\n",
    "import numpy as np\n",
    "import matplotlib.pyplot as plt\n",
    "import pandas as pd\n",
    "import seaborn as sns\n",
    "\n",
    "import tensorflow as tf\n",
    "import tensorflow.keras as K\n",
    "import keras_tuner as kt\n",
    "\n",
    "from utils import get_train_data"
   ]
  },
  {
   "cell_type": "code",
   "execution_count": 3,
   "metadata": {
    "gradient": {
     "editing": false,
     "execution_count": 16,
     "id": "ee46e5b3-b790-46d7-a347-3ce7fddc82a8",
     "kernelId": "1575c96a-5826-4c69-b3dd-9e87d0c84bf7"
    }
   },
   "outputs": [
    {
     "name": "stderr",
     "output_type": "stream",
     "text": [
      "2022-02-16 21:27:40.647886: I tensorflow/stream_executor/platform/default/dso_loader.cc:48] Successfully opened dynamic library libcuda.so.1\n",
      "2022-02-16 21:27:41.642734: E tensorflow/stream_executor/cuda/cuda_driver.cc:314] failed call to cuInit: CUDA_ERROR_UNKNOWN: unknown error\n",
      "2022-02-16 21:27:41.642836: I tensorflow/stream_executor/cuda/cuda_diagnostics.cc:169] retrieving CUDA diagnostic information for host: andrew-Aspire-A715-41G\n",
      "2022-02-16 21:27:41.642860: I tensorflow/stream_executor/cuda/cuda_diagnostics.cc:176] hostname: andrew-Aspire-A715-41G\n",
      "2022-02-16 21:27:41.643287: I tensorflow/stream_executor/cuda/cuda_diagnostics.cc:200] libcuda reported version is: 470.103.1\n",
      "2022-02-16 21:27:41.643362: I tensorflow/stream_executor/cuda/cuda_diagnostics.cc:204] kernel reported version is: 470.103.1\n",
      "2022-02-16 21:27:41.643378: I tensorflow/stream_executor/cuda/cuda_diagnostics.cc:310] kernel version seems to match DSO: 470.103.1\n"
     ]
    }
   ],
   "source": [
    "if sys.platform == \"linux\":\n",
    "    physical_devices = tf.config.experimental.list_physical_devices(\"GPU\")\n",
    "    if len(physical_devices) > 0:\n",
    "        print('GPU detected')\n",
    "        tf.config.experimental.set_memory_growth(physical_devices[0], True)"
   ]
  },
  {
   "cell_type": "code",
   "execution_count": 4,
   "metadata": {},
   "outputs": [],
   "source": [
    "# remove unnecessary points\n",
    "def preprocess_data(X):\n",
    "    return X[:, :22]"
   ]
  },
  {
   "cell_type": "code",
   "execution_count": 5,
   "metadata": {
    "gradient": {
     "editing": false,
     "execution_count": 17,
     "id": "1f73e94a-43c2-4db4-a277-dbec55619c36",
     "kernelId": "1575c96a-5826-4c69-b3dd-9e87d0c84bf7"
    }
   },
   "outputs": [
    {
     "name": "stdout",
     "output_type": "stream",
     "text": [
      "id1_hook_2|reversed: False|data shape: (792, 22)\n",
      "--------------------\n",
      "id3_hook_1|reversed: False|data shape: (1461, 22)\n",
      "--------------------\n",
      "id3_hook_2|reversed: False|data shape: (1297, 22)\n",
      "--------------------\n",
      "id4_hook_1|reversed: False|data shape: (1054, 22)\n",
      "--------------------\n",
      "id4_hook_2|reversed: False|data shape: (1059, 22)\n",
      "--------------------\n",
      "id1_hook_1|reversed: False|data shape: (858, 22)\n",
      "--------------------\n",
      "id2_hook_1|reversed: False|data shape: (1013, 22)\n",
      "--------------------\n",
      "id0_hook_2|reversed: False|data shape: (1051, 22)\n",
      "--------------------\n",
      "id0_hook_1|reversed: False|data shape: (1100, 22)\n",
      "--------------------\n",
      "id2_hook_2|reversed: False|data shape: (1041, 22)\n",
      "--------------------\n",
      "id3_jab_2|reversed: False|data shape: (1164, 22)\n",
      "--------------------\n",
      "id4_jab_1|reversed: False|data shape: (911, 22)\n",
      "--------------------\n",
      "id2_jab_1|reversed: False|data shape: (1032, 22)\n",
      "--------------------\n",
      "id0_jab_1|reversed: False|data shape: (952, 22)\n",
      "--------------------\n",
      "id0_jab_2|reversed: False|data shape: (993, 22)\n",
      "--------------------\n",
      "id1_jab_1|reversed: False|data shape: (802, 22)\n",
      "--------------------\n",
      "id4_jab_2|reversed: False|data shape: (964, 22)\n",
      "--------------------\n",
      "id1_jab_2|reversed: False|data shape: (643, 22)\n",
      "--------------------\n",
      "id2_jab_2|reversed: False|data shape: (1030, 22)\n",
      "--------------------\n",
      "id3_jab_1|reversed: False|data shape: (1170, 22)\n",
      "--------------------\n",
      "id2_uper_1|reversed: False|data shape: (1064, 22)\n",
      "--------------------\n",
      "id4_uper_1|reversed: False|data shape: (1125, 22)\n",
      "--------------------\n",
      "id0_uper_2|reversed: False|data shape: (1186, 22)\n",
      "--------------------\n",
      "id0_uper_1|reversed: False|data shape: (1200, 22)\n",
      "--------------------\n",
      "id2_uper_2|reversed: False|data shape: (1033, 22)\n",
      "--------------------\n",
      "id3_uper_1|reversed: False|data shape: (1277, 22)\n",
      "--------------------\n",
      "id3_uper_2|reversed: False|data shape: (1196, 22)\n",
      "--------------------\n",
      "id1_uper_1|reversed: False|data shape: (746, 22)\n",
      "--------------------\n",
      "id1_uper_2|reversed: False|data shape: (703, 22)\n",
      "--------------------\n",
      "id4_uper_2|reversed: False|data shape: (1157, 22)\n",
      "--------------------\n"
     ]
    }
   ],
   "source": [
    "X_train, y_train = get_train_data(skip_midpoints=True, preprocess_data=preprocess_data, all_labels=True)"
   ]
  },
  {
   "cell_type": "code",
   "execution_count": 6,
   "metadata": {
    "gradient": {
     "editing": false,
     "execution_count": 18,
     "id": "99539ae2-a0d9-4508-8265-2b7d4463cae5",
     "kernelId": "1575c96a-5826-4c69-b3dd-9e87d0c84bf7"
    }
   },
   "outputs": [
    {
     "data": {
      "text/plain": "((31074, 22), (31074,))"
     },
     "execution_count": 6,
     "metadata": {},
     "output_type": "execute_result"
    }
   ],
   "source": [
    "X_train.shape, y_train.shape"
   ]
  },
  {
   "cell_type": "code",
   "execution_count": 7,
   "metadata": {
    "gradient": {
     "editing": false,
     "execution_count": 19,
     "id": "0b51ca4e-bcf3-4680-b9d4-b98233424c9f",
     "kernelId": "1575c96a-5826-4c69-b3dd-9e87d0c84bf7"
    }
   },
   "outputs": [],
   "source": [
    "def compute_vector_angle(p0, p1, p2):\n",
    "    # vector p0 - p1\n",
    "    v1 = p0 - p1\n",
    "    \n",
    "    # vector p0 - p2\n",
    "    v2 = p2 - p1\n",
    "    \n",
    "    v1_length = np.sqrt(v1[0] ** 2 + v1[1] ** 2)\n",
    "    v2_length = np.sqrt(v2[0] ** 2 + v2[1] ** 2)\n",
    "    \n",
    "    cos = (v1[0] * v2[0] + v1[1] * v2[1]) / (v1_length * v2_length)\n",
    "    \n",
    "    if cos < -1:\n",
    "        cos = -1\n",
    "        \n",
    "    if cos > 1:\n",
    "        cos = 1\n",
    "\n",
    "    return np.arccos(cos)\n",
    "\n",
    "\n",
    "assert np.round(compute_vector_angle(np.array([2, 6]), np.array([0, 0]), np.array([8, 4])), 2) == 0.79\n",
    "\n",
    "\n",
    "# nose            0,1\n",
    "# left_eye        2,3\n",
    "# right_eye       4,5\n",
    "# left_ear        6,7\n",
    "# right_ear       8,9\n",
    "# left_shoulder   10,11\n",
    "# right_shoulder  12,13\n",
    "# left_elbow      14,15\n",
    "# right_elbow     16,17\n",
    "# left_wrist      18,19\n",
    "# right_wrist     20,21\n",
    "\n",
    "def add_angles(keypoints):\n",
    "    return np.append(\n",
    "        keypoints,\n",
    "        [\n",
    "            compute_vector_angle(keypoints[10:12], keypoints[14:16], keypoints[18:20]), # angle between left shoulder and wrist in radians\n",
    "            compute_vector_angle(keypoints[12:14], keypoints[16:18], keypoints[20:22]), # angle between right shoulder and wrist in radians\n",
    "        ])"
   ]
  },
  {
   "cell_type": "code",
   "execution_count": 8,
   "metadata": {
    "gradient": {
     "editing": false,
     "execution_count": 20,
     "id": "fdaa1d15-5d73-4899-8c28-19c8c9644013",
     "kernelId": "1575c96a-5826-4c69-b3dd-9e87d0c84bf7"
    }
   },
   "outputs": [
    {
     "data": {
      "text/plain": "(31074, 24)"
     },
     "execution_count": 8,
     "metadata": {},
     "output_type": "execute_result"
    }
   ],
   "source": [
    "X_train = np.apply_along_axis(add_angles, 1, X_train)\n",
    "X_train.shape"
   ]
  },
  {
   "cell_type": "code",
   "execution_count": 9,
   "metadata": {
    "gradient": {
     "editing": false,
     "execution_count": 21,
     "id": "0912dfa8-988b-4900-af6e-403676ce88d3",
     "kernelId": "1575c96a-5826-4c69-b3dd-9e87d0c84bf7"
    }
   },
   "outputs": [],
   "source": [
    "KEYPOINT_DICT = {\n",
    "    'nose': 0,\n",
    "    'left_eye': 1,\n",
    "    'right_eye': 2,\n",
    "    'left_ear': 3,\n",
    "    'right_ear': 4,\n",
    "    'left_shoulder': 5,\n",
    "    'right_shoulder': 6,\n",
    "    'left_elbow': 7,\n",
    "    'right_elbow': 8,\n",
    "    'left_wrist': 9,\n",
    "    'right_wrist': 10,\n",
    "    # 'left_hip': 11,\n",
    "    # 'right_hip': 12,\n",
    "    # 'left_knee': 13,\n",
    "    # 'right_knee': 14,\n",
    "    # 'left_ankle': 15,\n",
    "    # 'right_ankle': 16,\n",
    "    'angle': 17,\n",
    "}"
   ]
  },
  {
   "cell_type": "code",
   "execution_count": 10,
   "metadata": {
    "gradient": {
     "editing": false,
     "execution_count": 22,
     "id": "2f23aae8-0cb9-41f6-a172-3086793d6b2f",
     "kernelId": "1575c96a-5826-4c69-b3dd-9e87d0c84bf7"
    }
   },
   "outputs": [],
   "source": [
    "def format_feature_names(names):\n",
    "    \"\"\"\"Form list of feature names\n",
    "\n",
    "    Params:\n",
    "        names - list of KEYPOINT_DICT keys\n",
    "        ndims - number of dimensions (x, y, score)\n",
    "        skip_midpoints - add or omit midpoint coords (x, y, score)\n",
    "\n",
    "    Returns:\n",
    "        list of feature names\n",
    "    \"\"\"\n",
    "    feature_names = []\n",
    "    for name in names:\n",
    "        if 'angle' in name:\n",
    "            feature_names.append(name+'-left-arm')\n",
    "            feature_names.append(name+'-right-arm')\n",
    "        else:\n",
    "            feature_names.append(name+'-x')\n",
    "            feature_names.append(name+'-y')\n",
    "\n",
    "    return feature_names"
   ]
  },
  {
   "cell_type": "code",
   "execution_count": 11,
   "metadata": {
    "gradient": {
     "editing": false,
     "execution_count": 23,
     "id": "29699a59-1d04-4eb9-8b82-df9234924c00",
     "kernelId": "1575c96a-5826-4c69-b3dd-9e87d0c84bf7"
    }
   },
   "outputs": [],
   "source": [
    "feature_names = format_feature_names(list(KEYPOINT_DICT.keys()))"
   ]
  },
  {
   "cell_type": "code",
   "execution_count": 12,
   "metadata": {
    "gradient": {
     "editing": false,
     "execution_count": 24,
     "id": "b024de56-63e2-4e31-93fd-d4e153aab8da",
     "kernelId": "1575c96a-5826-4c69-b3dd-9e87d0c84bf7"
    }
   },
   "outputs": [
    {
     "data": {
      "text/plain": "                    count      mean       std       min       25%       50%  \\\nnose-x            31074.0 -0.220691  0.028890 -0.407440 -0.237477 -0.218163   \nnose-y            31074.0 -0.141959  0.060751 -0.467713 -0.185971 -0.143881   \nleft_eye-x        31074.0 -0.232318  0.029956 -0.340721 -0.249898 -0.229959   \nleft_eye-y        31074.0 -0.139179  0.064997 -0.480470 -0.186218 -0.144911   \nright_eye-x       31074.0 -0.234061  0.030328 -0.344901 -0.252474 -0.230849   \nright_eye-y       31074.0 -0.133812  0.060529 -0.473905 -0.176613 -0.133870   \nleft_ear-x        31074.0 -0.233495  0.029593 -0.444675 -0.252486 -0.232580   \nleft_ear-y        31074.0 -0.095097  0.068961 -0.451503 -0.144561 -0.108980   \nright_ear-x       31074.0 -0.238615  0.030643 -0.346178 -0.258294 -0.236333   \nright_ear-y       31074.0 -0.080467  0.056187 -0.465192 -0.115846 -0.075599   \nleft_shoulder-x   31074.0 -0.179648  0.028699 -0.284038 -0.200014 -0.181127   \nleft_shoulder-y   31074.0 -0.056465  0.090112 -0.271646 -0.128634 -0.081884   \nright_shoulder-x  31074.0 -0.186026  0.025578 -0.278860 -0.203968 -0.185055   \nright_shoulder-y  31074.0 -0.012201  0.070553 -0.266776 -0.050985 -0.009117   \nleft_elbow-x      31074.0 -0.091243  0.038403 -0.275171 -0.103034 -0.083536   \nleft_elbow-y      31074.0 -0.129670  0.121787 -0.454742 -0.218955 -0.158608   \nright_elbow-x     31074.0 -0.111966  0.029978 -0.261393 -0.124781 -0.107097   \nright_elbow-y     31074.0 -0.056485  0.102613 -0.445553 -0.119870 -0.056245   \nleft_wrist-x      31074.0 -0.138964  0.051998 -0.298592 -0.169187 -0.149847   \nleft_wrist-y      31074.0 -0.206065  0.118739 -0.579556 -0.268469 -0.207668   \nright_wrist-x     31074.0 -0.141096  0.042531 -0.266704 -0.167868 -0.146519   \nright_wrist-y     31074.0 -0.150500  0.107284 -0.588713 -0.199884 -0.135194   \nangle-left-arm    31074.0  1.571731  0.619537  0.000333  1.227909  1.454478   \nangle-right-arm   31074.0  1.649663  0.663476  0.000456  1.219509  1.589613   \n\n                       75%       max  \nnose-x           -0.202571  0.361919  \nnose-y           -0.103798  0.475557  \nleft_eye-x       -0.213657  0.359797  \nleft_eye-y       -0.101038  0.477576  \nright_eye-x      -0.215103  0.359336  \nright_eye-y      -0.094512  0.475477  \nleft_ear-x       -0.214265  0.366997  \nleft_ear-y       -0.052620  0.474723  \nright_ear-x      -0.218362  0.363357  \nright_ear-y      -0.042123  0.473494  \nleft_shoulder-x  -0.157619  0.134826  \nleft_shoulder-y   0.022100  0.454677  \nright_shoulder-x -0.166294  0.152549  \nright_shoulder-y  0.039205  0.432912  \nleft_elbow-x     -0.069088  0.172872  \nleft_elbow-y     -0.031748  0.455919  \nright_elbow-x    -0.092346  0.167001  \nright_elbow-y     0.029580  0.453781  \nleft_wrist-x     -0.120075  0.379429  \nleft_wrist-y     -0.125802  0.444129  \nright_wrist-x    -0.122051  0.374958  \nright_wrist-y    -0.085357  0.439304  \nangle-left-arm    1.734197  3.141593  \nangle-right-arm   2.094490  3.141593  ",
      "text/html": "<div>\n<style scoped>\n    .dataframe tbody tr th:only-of-type {\n        vertical-align: middle;\n    }\n\n    .dataframe tbody tr th {\n        vertical-align: top;\n    }\n\n    .dataframe thead th {\n        text-align: right;\n    }\n</style>\n<table border=\"1\" class=\"dataframe\">\n  <thead>\n    <tr style=\"text-align: right;\">\n      <th></th>\n      <th>count</th>\n      <th>mean</th>\n      <th>std</th>\n      <th>min</th>\n      <th>25%</th>\n      <th>50%</th>\n      <th>75%</th>\n      <th>max</th>\n    </tr>\n  </thead>\n  <tbody>\n    <tr>\n      <th>nose-x</th>\n      <td>31074.0</td>\n      <td>-0.220691</td>\n      <td>0.028890</td>\n      <td>-0.407440</td>\n      <td>-0.237477</td>\n      <td>-0.218163</td>\n      <td>-0.202571</td>\n      <td>0.361919</td>\n    </tr>\n    <tr>\n      <th>nose-y</th>\n      <td>31074.0</td>\n      <td>-0.141959</td>\n      <td>0.060751</td>\n      <td>-0.467713</td>\n      <td>-0.185971</td>\n      <td>-0.143881</td>\n      <td>-0.103798</td>\n      <td>0.475557</td>\n    </tr>\n    <tr>\n      <th>left_eye-x</th>\n      <td>31074.0</td>\n      <td>-0.232318</td>\n      <td>0.029956</td>\n      <td>-0.340721</td>\n      <td>-0.249898</td>\n      <td>-0.229959</td>\n      <td>-0.213657</td>\n      <td>0.359797</td>\n    </tr>\n    <tr>\n      <th>left_eye-y</th>\n      <td>31074.0</td>\n      <td>-0.139179</td>\n      <td>0.064997</td>\n      <td>-0.480470</td>\n      <td>-0.186218</td>\n      <td>-0.144911</td>\n      <td>-0.101038</td>\n      <td>0.477576</td>\n    </tr>\n    <tr>\n      <th>right_eye-x</th>\n      <td>31074.0</td>\n      <td>-0.234061</td>\n      <td>0.030328</td>\n      <td>-0.344901</td>\n      <td>-0.252474</td>\n      <td>-0.230849</td>\n      <td>-0.215103</td>\n      <td>0.359336</td>\n    </tr>\n    <tr>\n      <th>right_eye-y</th>\n      <td>31074.0</td>\n      <td>-0.133812</td>\n      <td>0.060529</td>\n      <td>-0.473905</td>\n      <td>-0.176613</td>\n      <td>-0.133870</td>\n      <td>-0.094512</td>\n      <td>0.475477</td>\n    </tr>\n    <tr>\n      <th>left_ear-x</th>\n      <td>31074.0</td>\n      <td>-0.233495</td>\n      <td>0.029593</td>\n      <td>-0.444675</td>\n      <td>-0.252486</td>\n      <td>-0.232580</td>\n      <td>-0.214265</td>\n      <td>0.366997</td>\n    </tr>\n    <tr>\n      <th>left_ear-y</th>\n      <td>31074.0</td>\n      <td>-0.095097</td>\n      <td>0.068961</td>\n      <td>-0.451503</td>\n      <td>-0.144561</td>\n      <td>-0.108980</td>\n      <td>-0.052620</td>\n      <td>0.474723</td>\n    </tr>\n    <tr>\n      <th>right_ear-x</th>\n      <td>31074.0</td>\n      <td>-0.238615</td>\n      <td>0.030643</td>\n      <td>-0.346178</td>\n      <td>-0.258294</td>\n      <td>-0.236333</td>\n      <td>-0.218362</td>\n      <td>0.363357</td>\n    </tr>\n    <tr>\n      <th>right_ear-y</th>\n      <td>31074.0</td>\n      <td>-0.080467</td>\n      <td>0.056187</td>\n      <td>-0.465192</td>\n      <td>-0.115846</td>\n      <td>-0.075599</td>\n      <td>-0.042123</td>\n      <td>0.473494</td>\n    </tr>\n    <tr>\n      <th>left_shoulder-x</th>\n      <td>31074.0</td>\n      <td>-0.179648</td>\n      <td>0.028699</td>\n      <td>-0.284038</td>\n      <td>-0.200014</td>\n      <td>-0.181127</td>\n      <td>-0.157619</td>\n      <td>0.134826</td>\n    </tr>\n    <tr>\n      <th>left_shoulder-y</th>\n      <td>31074.0</td>\n      <td>-0.056465</td>\n      <td>0.090112</td>\n      <td>-0.271646</td>\n      <td>-0.128634</td>\n      <td>-0.081884</td>\n      <td>0.022100</td>\n      <td>0.454677</td>\n    </tr>\n    <tr>\n      <th>right_shoulder-x</th>\n      <td>31074.0</td>\n      <td>-0.186026</td>\n      <td>0.025578</td>\n      <td>-0.278860</td>\n      <td>-0.203968</td>\n      <td>-0.185055</td>\n      <td>-0.166294</td>\n      <td>0.152549</td>\n    </tr>\n    <tr>\n      <th>right_shoulder-y</th>\n      <td>31074.0</td>\n      <td>-0.012201</td>\n      <td>0.070553</td>\n      <td>-0.266776</td>\n      <td>-0.050985</td>\n      <td>-0.009117</td>\n      <td>0.039205</td>\n      <td>0.432912</td>\n    </tr>\n    <tr>\n      <th>left_elbow-x</th>\n      <td>31074.0</td>\n      <td>-0.091243</td>\n      <td>0.038403</td>\n      <td>-0.275171</td>\n      <td>-0.103034</td>\n      <td>-0.083536</td>\n      <td>-0.069088</td>\n      <td>0.172872</td>\n    </tr>\n    <tr>\n      <th>left_elbow-y</th>\n      <td>31074.0</td>\n      <td>-0.129670</td>\n      <td>0.121787</td>\n      <td>-0.454742</td>\n      <td>-0.218955</td>\n      <td>-0.158608</td>\n      <td>-0.031748</td>\n      <td>0.455919</td>\n    </tr>\n    <tr>\n      <th>right_elbow-x</th>\n      <td>31074.0</td>\n      <td>-0.111966</td>\n      <td>0.029978</td>\n      <td>-0.261393</td>\n      <td>-0.124781</td>\n      <td>-0.107097</td>\n      <td>-0.092346</td>\n      <td>0.167001</td>\n    </tr>\n    <tr>\n      <th>right_elbow-y</th>\n      <td>31074.0</td>\n      <td>-0.056485</td>\n      <td>0.102613</td>\n      <td>-0.445553</td>\n      <td>-0.119870</td>\n      <td>-0.056245</td>\n      <td>0.029580</td>\n      <td>0.453781</td>\n    </tr>\n    <tr>\n      <th>left_wrist-x</th>\n      <td>31074.0</td>\n      <td>-0.138964</td>\n      <td>0.051998</td>\n      <td>-0.298592</td>\n      <td>-0.169187</td>\n      <td>-0.149847</td>\n      <td>-0.120075</td>\n      <td>0.379429</td>\n    </tr>\n    <tr>\n      <th>left_wrist-y</th>\n      <td>31074.0</td>\n      <td>-0.206065</td>\n      <td>0.118739</td>\n      <td>-0.579556</td>\n      <td>-0.268469</td>\n      <td>-0.207668</td>\n      <td>-0.125802</td>\n      <td>0.444129</td>\n    </tr>\n    <tr>\n      <th>right_wrist-x</th>\n      <td>31074.0</td>\n      <td>-0.141096</td>\n      <td>0.042531</td>\n      <td>-0.266704</td>\n      <td>-0.167868</td>\n      <td>-0.146519</td>\n      <td>-0.122051</td>\n      <td>0.374958</td>\n    </tr>\n    <tr>\n      <th>right_wrist-y</th>\n      <td>31074.0</td>\n      <td>-0.150500</td>\n      <td>0.107284</td>\n      <td>-0.588713</td>\n      <td>-0.199884</td>\n      <td>-0.135194</td>\n      <td>-0.085357</td>\n      <td>0.439304</td>\n    </tr>\n    <tr>\n      <th>angle-left-arm</th>\n      <td>31074.0</td>\n      <td>1.571731</td>\n      <td>0.619537</td>\n      <td>0.000333</td>\n      <td>1.227909</td>\n      <td>1.454478</td>\n      <td>1.734197</td>\n      <td>3.141593</td>\n    </tr>\n    <tr>\n      <th>angle-right-arm</th>\n      <td>31074.0</td>\n      <td>1.649663</td>\n      <td>0.663476</td>\n      <td>0.000456</td>\n      <td>1.219509</td>\n      <td>1.589613</td>\n      <td>2.094490</td>\n      <td>3.141593</td>\n    </tr>\n  </tbody>\n</table>\n</div>"
     },
     "execution_count": 12,
     "metadata": {},
     "output_type": "execute_result"
    }
   ],
   "source": [
    "df = pd.DataFrame(data=X_train, columns=feature_names)\n",
    "df.describe().transpose()"
   ]
  },
  {
   "cell_type": "code",
   "execution_count": 13,
   "metadata": {
    "gradient": {
     "editing": false,
     "execution_count": 25,
     "id": "ddceac92-2a81-482c-a2eb-dd19d776106f",
     "kernelId": "1575c96a-5826-4c69-b3dd-9e87d0c84bf7"
    },
    "scrolled": true
   },
   "outputs": [
    {
     "data": {
      "text/plain": "<Figure size 1152x720 with 1 Axes>",
      "image/png": "[encoded data removed]"
     },
     "metadata": {
      "needs_background": "light"
     },
     "output_type": "display_data"
    }
   ],
   "source": [
    "plt.figure(figsize=(16, 10))\n",
    "ax = sns.violinplot(data=df)\n",
    "_ = ax.set_xticklabels(df.keys(), rotation=90)"
   ]
  },
  {
   "cell_type": "code",
   "execution_count": 14,
   "metadata": {
    "gradient": {
     "editing": false,
     "execution_count": 26,
     "id": "a372a6f9-73e2-441c-85c4-795a719178fc",
     "kernelId": "1575c96a-5826-4c69-b3dd-9e87d0c84bf7"
    }
   },
   "outputs": [
    {
     "data": {
      "text/plain": "1035"
     },
     "execution_count": 14,
     "metadata": {},
     "output_type": "execute_result"
    }
   ],
   "source": [
    "time_steps=30 # expect camera 30 fps, so process 1 sample per second\n",
    "# Number of samples in batch\n",
    "N_train = X_train.shape[0] // time_steps\n",
    "N_train"
   ]
  },
  {
   "cell_type": "code",
   "execution_count": 15,
   "metadata": {
    "gradient": {
     "editing": false,
     "execution_count": 27,
     "id": "7e8b2b31-fe0c-445e-8c87-274d4fab3216",
     "kernelId": "1575c96a-5826-4c69-b3dd-9e87d0c84bf7"
    }
   },
   "outputs": [
    {
     "data": {
      "text/plain": "(1035, 30, 24)"
     },
     "execution_count": 15,
     "metadata": {},
     "output_type": "execute_result"
    }
   ],
   "source": [
    "X_train = X_train[:N_train*time_steps].reshape(-1, time_steps, 24)\n",
    "y_train = y_train[:N_train*time_steps].reshape(-1, time_steps, 1)\n",
    "X_train.shape"
   ]
  },
  {
   "cell_type": "markdown",
   "metadata": {
    "gradient": {
     "editing": false,
     "id": "8246ed18-8a01-44e1-a244-144e69a7e073",
     "kernelId": "1575c96a-5826-4c69-b3dd-9e87d0c84bf7"
    }
   },
   "source": [
    "## LSTM"
   ]
  },
  {
   "cell_type": "code",
   "execution_count": 16,
   "metadata": {
    "gradient": {
     "editing": false,
     "execution_count": 28,
     "id": "fbacda46-d096-4e25-8c76-b774465fd2c7",
     "kernelId": "1575c96a-5826-4c69-b3dd-9e87d0c84bf7"
    },
    "scrolled": true
   },
   "outputs": [
    {
     "name": "stderr",
     "output_type": "stream",
     "text": [
      "2022-02-16 21:28:07.924461: I tensorflow/core/platform/cpu_feature_guard.cc:142] This TensorFlow binary is optimized with oneAPI Deep Neural Network Library (oneDNN)to use the following CPU instructions in performance-critical operations:  AVX2 FMA\n",
      "To enable them in other operations, rebuild TensorFlow with the appropriate compiler flags.\n",
      "2022-02-16 21:28:07.960819: I tensorflow/core/platform/profile_utils/cpu_utils.cc:104] CPU Frequency: 2295640000 Hz\n",
      "2022-02-16 21:28:07.961850: I tensorflow/compiler/xla/service/service.cc:168] XLA service 0x5e17a30 initialized for platform Host (this does not guarantee that XLA will be used). Devices:\n",
      "2022-02-16 21:28:07.961914: I tensorflow/compiler/xla/service/service.cc:176]   StreamExecutor device (0): Host, Default Version\n"
     ]
    }
   ],
   "source": [
    "y_train = K.utils.to_categorical(y_train, num_classes=13)\n",
    "X_train = tf.constant(X_train)"
   ]
  },
  {
   "cell_type": "code",
   "execution_count": 17,
   "metadata": {
    "gradient": {
     "editing": false,
     "execution_count": 29,
     "id": "65b22874-a30f-43cb-897d-e36445412096",
     "kernelId": "1575c96a-5826-4c69-b3dd-9e87d0c84bf7"
    }
   },
   "outputs": [],
   "source": [
    "def model_builder(hp):\n",
    "    # Hyperparams\n",
    "    hp_ru1 = hp.Int('recurrent_units1', min_value=16, max_value=128, step=8)\n",
    "    # hp_ru2 = hp.Int('recurrent_units2', min_value=16, max_value=128, step=8)\n",
    "\n",
    "    hp_du1 = hp.Int('units1', min_value=16, max_value=128, step=8)\n",
    "    hp_du2 = hp.Int('units2', min_value=16, max_value=128, step=8)\n",
    "\n",
    "    hp_reg1 = hp.Float('dense_reg1', min_value=1e-4, max_value=1e-2)\n",
    "    hp_reg2 = hp.Float('dense_reg2', min_value=1e-4, max_value=1e-2)\n",
    "    \n",
    "    hp_dp1 = hp.Float('rec_dropout1', min_value=0., max_value=0.4)\n",
    "    # hp_dp2 = hp.Float('rec_dropout2', min_value=0., max_value=0.4)\n",
    "\n",
    "    hp_dl_dp1 = hp.Float('dropout1', min_value=0., max_value=0.4)\n",
    "    hp_dl_dp2 = hp.Float('dropout2', min_value=0., max_value=0.4)\n",
    "\n",
    "    hp_rec_dp1 = hp.Float('rec_dropout1', min_value=0., max_value=0.4)\n",
    "    # hp_rec_dp2 = hp.Float('rec_dropout2', min_value=0., max_value=0.4)\n",
    "\n",
    "    hp_kernel_reg1 = hp.Float('kernel_reg1', min_value=1e-5, max_value=1e-3, sampling='log')\n",
    "    hp_kernel_reg2 = hp.Float('kernel_reg2', min_value=1e-5, max_value=1e-3, sampling='log')\n",
    "\n",
    "    hp_recur_reg1 = hp.Float('recur_reg1', min_value=1e-5, max_value=1e-3, sampling='log')\n",
    "    hp_recur_reg2 = hp.Float('recur_reg2', min_value=1e-5, max_value=1e-3, sampling='log')\n",
    "\n",
    "    hp_act_reg1 = hp.Float('act_reg1', min_value=1e-5, max_value=1e-3, sampling='log')\n",
    "    hp_act_reg2 = hp.Float('act_reg2', min_value=1e-5, max_value=1e-3, sampling='log')\n",
    "\n",
    "    # hp_add_another_rec_layer = hp.Boolean('add_another_gru_layer')\n",
    " \n",
    "    hp_learning_rate = hp.Float('learning_rate', min_value=1e-4, max_value=1e-2)\n",
    "\n",
    "    layers = []\n",
    "    \n",
    "    # Model\n",
    "    kernel_reg1 = K.regularizers.l2(hp_kernel_reg1)\n",
    "    # kernel_reg2 = K.regularizers.l2(hp_kernel_reg2)\n",
    "\n",
    "    recurrent_reg1 = K.regularizers.l2(hp_recur_reg1)\n",
    "    # recurrent_reg2 = K.regularizers.l2(hp_recur_reg2)\n",
    "\n",
    "    act_reg1 = K.regularizers.l2(hp_act_reg1)\n",
    "    # act_reg2 = K.regularizers.l2(hp_act_reg2)\n",
    "\n",
    "    model = K.Sequential()\n",
    "    model.add(K.layers.LayerNormalization(axis=1))\n",
    "    model.add(K.layers.LSTM(hp_ru1,\n",
    "                             # stateful=True, # mutable states not supported in tflite\n",
    "                             return_sequences=True,\n",
    "                             kernel_regularizer=kernel_reg1,\n",
    "                             recurrent_regularizer=recurrent_reg1,\n",
    "                             activity_regularizer=act_reg1,\n",
    "                             dropout=hp_dp1,\n",
    "                             recurrent_dropout=hp_rec_dp1\n",
    "                           ))\n",
    "\n",
    "    # if hp_add_another_rec_layer:\n",
    "    #     model.add(K.layers.LSTM(hp_ru2,\n",
    "    #                          # stateful=True, # mutable states not supported in tflite \n",
    "    #                          return_sequences=True,\n",
    "    #                          kernel_regularizer=kernel_reg2,\n",
    "    #                          recurrent_regularizer=recurrent_reg2,\n",
    "    #                          activity_regularizer=act_reg2,\n",
    "    #                          dropout=hp_dp2,\n",
    "    #                          recurrent_dropout=hp_rec_dp2\n",
    "    #                        ))\n",
    "\n",
    "    model.add(K.layers.Dense(hp_du1, activation='relu',\n",
    "                            kernel_regularizer=K.regularizers.l2(hp_reg1)))\n",
    "    model.add(K.layers.Dropout(hp_dl_dp1))\n",
    "    model.add(K.layers.Dense(hp_du2, activation='relu',\n",
    "                            kernel_regularizer=K.regularizers.l2(hp_reg2)))\n",
    "    model.add(K.layers.Dropout(hp_dl_dp2))\n",
    "    model.add(K.layers.Dense(13, activation='sigmoid'))\n",
    "\n",
    "    model.compile(optimizer=K.optimizers.Adam(learning_rate=hp_learning_rate),\n",
    "                  loss='categorical_crossentropy',\n",
    "                  metrics=['accuracy'])\n",
    "    \n",
    "    return model"
   ]
  },
  {
   "cell_type": "code",
   "execution_count": 18,
   "metadata": {
    "gradient": {
     "editing": false,
     "execution_count": 30,
     "id": "9b41d133-232b-4c2e-8ce3-cc7c1e8e66c0",
     "kernelId": "1575c96a-5826-4c69-b3dd-9e87d0c84bf7"
    },
    "scrolled": true
   },
   "outputs": [
    {
     "name": "stdout",
     "output_type": "stream",
     "text": [
      "INFO:tensorflow:Reloading Oracle from existing project kt_dir/punch_dl_kt_lstm/oracle.json\n",
      "INFO:tensorflow:Reloading Tuner from kt_dir/punch_dl_kt_lstm/tuner0.json\n",
      "INFO:tensorflow:Oracle triggered exit\n"
     ]
    }
   ],
   "source": [
    "tuner = kt.Hyperband(model_builder,\n",
    "                     objective='val_accuracy',\n",
    "                     max_epochs=32,\n",
    "                     directory='kt_dir',\n",
    "                     project_name='punch_dl_kt_lstm')\n",
    "\n",
    "stop_early = K.callbacks.EarlyStopping(monitor='val_loss', patience=3)\n",
    "\n",
    "tuner.search(X_train, y_train, batch_size=4, validation_split=0.33, epochs=32, shuffle=False, callbacks=[stop_early])"
   ]
  },
  {
   "cell_type": "code",
   "execution_count": 19,
   "metadata": {
    "gradient": {
     "editing": false,
     "execution_count": 31,
     "id": "6f823200-4d48-4c21-a26b-44c9287bda31",
     "kernelId": "1575c96a-5826-4c69-b3dd-9e87d0c84bf7"
    }
   },
   "outputs": [
    {
     "data": {
      "text/plain": "{'recurrent_units1': 48,\n 'recurrent_units2': 48,\n 'units1': 48,\n 'units2': 64,\n 'dense_reg1': 0.004022209672683978,\n 'dense_reg2': 0.0036914769953625888,\n 'rec_dropout1': 0.32632264325710386,\n 'dropout1': 0.015565905619321274,\n 'dropout2': 0.31523582628650626,\n 'kernel_reg1': 2.8884164416677735e-05,\n 'kernel_reg2': 0.00025798764534432783,\n 'recur_reg1': 6.347594122109973e-05,\n 'recur_reg2': 0.00018977027841734885,\n 'act_reg1': 0.0004985246236342349,\n 'act_reg2': 2.4781506474294218e-05,\n 'learning_rate': 0.005413671625234431,\n 'tuner/epochs': 32,\n 'tuner/initial_epoch': 0,\n 'tuner/bracket': 0,\n 'tuner/round': 0}"
     },
     "execution_count": 19,
     "metadata": {},
     "output_type": "execute_result"
    }
   ],
   "source": [
    "# Get the optimal hyperparameters\n",
    "best_hps=tuner.get_best_hyperparameters(num_trials=1)[0]\n",
    "\n",
    "best_hps.values"
   ]
  },
  {
   "cell_type": "code",
   "execution_count": 20,
   "metadata": {
    "gradient": {
     "editing": false,
     "execution_count": 33,
     "id": "2a5bc5b8-2712-4fae-ab99-8cdbe42964f8",
     "kernelId": "1575c96a-5826-4c69-b3dd-9e87d0c84bf7"
    },
    "scrolled": true
   },
   "outputs": [
    {
     "name": "stdout",
     "output_type": "stream",
     "text": [
      "Epoch 1/48\n",
      "WARNING:tensorflow:Layer layer_normalization_1 is casting an input tensor from dtype float64 to the layer's dtype of float32, which is new behavior in TensorFlow 2.  The layer has dtype float32 because its dtype defaults to floatx.\n",
      "\n",
      "If you intended to run this layer in float32, you can safely ignore this warning. If in doubt, this warning is likely only an issue if you are porting a TensorFlow 1.X model to TensorFlow 2.\n",
      "\n",
      "To change all layers to have dtype float64 by default, call `tf.keras.backend.set_floatx('float64')`. To change just this layer, pass dtype='float64' to the layer constructor. If you are the author of this layer, you can disable autocasting by passing autocast=False to the base Layer constructor.\n",
      "\n",
      "174/174 [==============================] - 10s 56ms/step - loss: 1.9443 - accuracy: 0.4329 - val_loss: 2.6824 - val_accuracy: 0.4817\n",
      "Epoch 2/48\n",
      "174/174 [==============================] - 8s 48ms/step - loss: 1.8049 - accuracy: 0.4499 - val_loss: 3.1279 - val_accuracy: 0.4807\n",
      "Epoch 3/48\n",
      "174/174 [==============================] - 8s 46ms/step - loss: 1.6881 - accuracy: 0.4854 - val_loss: 2.8356 - val_accuracy: 0.4997\n",
      "Epoch 4/48\n",
      "174/174 [==============================] - 8s 49ms/step - loss: 1.5508 - accuracy: 0.4824 - val_loss: 2.7803 - val_accuracy: 0.5030\n",
      "Epoch 5/48\n",
      "174/174 [==============================] - 8s 46ms/step - loss: 1.4998 - accuracy: 0.4785 - val_loss: 2.7417 - val_accuracy: 0.5047\n",
      "Epoch 6/48\n",
      "174/174 [==============================] - 8s 47ms/step - loss: 1.4433 - accuracy: 0.5007 - val_loss: 2.6969 - val_accuracy: 0.5397\n",
      "Epoch 7/48\n",
      "174/174 [==============================] - 8s 49ms/step - loss: 1.4144 - accuracy: 0.5061 - val_loss: 2.6611 - val_accuracy: 0.5398\n",
      "Epoch 8/48\n",
      "174/174 [==============================] - 8s 49ms/step - loss: 1.4003 - accuracy: 0.5034 - val_loss: 2.5985 - val_accuracy: 0.5493\n",
      "Epoch 9/48\n",
      "174/174 [==============================] - 8s 46ms/step - loss: 1.3801 - accuracy: 0.5165 - val_loss: 2.5931 - val_accuracy: 0.5524\n",
      "Epoch 10/48\n",
      "174/174 [==============================] - 8s 45ms/step - loss: 1.3705 - accuracy: 0.5002 - val_loss: 2.5438 - val_accuracy: 0.5496\n",
      "Epoch 11/48\n",
      "174/174 [==============================] - 8s 45ms/step - loss: 1.3494 - accuracy: 0.5082 - val_loss: 2.4904 - val_accuracy: 0.5558\n",
      "Epoch 12/48\n",
      "174/174 [==============================] - 7s 43ms/step - loss: 1.3543 - accuracy: 0.5063 - val_loss: 2.5099 - val_accuracy: 0.5543\n",
      "Epoch 13/48\n",
      "174/174 [==============================] - 8s 44ms/step - loss: 1.3292 - accuracy: 0.5127 - val_loss: 2.4835 - val_accuracy: 0.5536\n",
      "Epoch 14/48\n",
      "174/174 [==============================] - 8s 45ms/step - loss: 1.3455 - accuracy: 0.5017 - val_loss: 2.4235 - val_accuracy: 0.5561\n",
      "Epoch 15/48\n",
      "174/174 [==============================] - 8s 46ms/step - loss: 1.3206 - accuracy: 0.5120 - val_loss: 2.4362 - val_accuracy: 0.5473\n",
      "Epoch 16/48\n",
      "174/174 [==============================] - 8s 45ms/step - loss: 1.3097 - accuracy: 0.5145 - val_loss: 2.4559 - val_accuracy: 0.5538\n",
      "Epoch 17/48\n",
      "174/174 [==============================] - 8s 47ms/step - loss: 1.3098 - accuracy: 0.5124 - val_loss: 2.4617 - val_accuracy: 0.5467\n",
      "Epoch 18/48\n",
      "174/174 [==============================] - 9s 49ms/step - loss: 1.2904 - accuracy: 0.5103 - val_loss: 2.4103 - val_accuracy: 0.5529\n",
      "Epoch 19/48\n",
      "174/174 [==============================] - 9s 52ms/step - loss: 1.2972 - accuracy: 0.5071 - val_loss: 2.4095 - val_accuracy: 0.5559\n",
      "Epoch 20/48\n",
      "174/174 [==============================] - 8s 48ms/step - loss: 1.2925 - accuracy: 0.5173 - val_loss: 2.4044 - val_accuracy: 0.5558\n",
      "Epoch 21/48\n",
      "174/174 [==============================] - 9s 50ms/step - loss: 1.2837 - accuracy: 0.5148 - val_loss: 2.4098 - val_accuracy: 0.5554\n",
      "Epoch 22/48\n",
      "174/174 [==============================] - 8s 46ms/step - loss: 1.2999 - accuracy: 0.5162 - val_loss: 2.4055 - val_accuracy: 0.5554\n",
      "Epoch 23/48\n",
      "174/174 [==============================] - 8s 46ms/step - loss: 1.2918 - accuracy: 0.5100 - val_loss: 2.3767 - val_accuracy: 0.5487\n",
      "Epoch 24/48\n",
      "174/174 [==============================] - 8s 47ms/step - loss: 1.2784 - accuracy: 0.5171 - val_loss: 2.4324 - val_accuracy: 0.5568\n",
      "Epoch 25/48\n",
      "174/174 [==============================] - 8s 46ms/step - loss: 1.2920 - accuracy: 0.5145 - val_loss: 2.3972 - val_accuracy: 0.5534\n",
      "Epoch 26/48\n",
      "174/174 [==============================] - 8s 47ms/step - loss: 1.2765 - accuracy: 0.5193 - val_loss: 2.4967 - val_accuracy: 0.5542\n",
      "Epoch 27/48\n",
      "174/174 [==============================] - 8s 46ms/step - loss: 1.2808 - accuracy: 0.5122 - val_loss: 2.4087 - val_accuracy: 0.5481\n",
      "Epoch 28/48\n",
      "174/174 [==============================] - 8s 48ms/step - loss: 1.2868 - accuracy: 0.5148 - val_loss: 2.4917 - val_accuracy: 0.5576\n",
      "Epoch 29/48\n",
      "174/174 [==============================] - 8s 48ms/step - loss: 1.2743 - accuracy: 0.5186 - val_loss: 2.4710 - val_accuracy: 0.5577\n",
      "Epoch 30/48\n",
      "174/174 [==============================] - 8s 46ms/step - loss: 1.2678 - accuracy: 0.5188 - val_loss: 2.4857 - val_accuracy: 0.5514\n",
      "Epoch 31/48\n",
      "174/174 [==============================] - 8s 46ms/step - loss: 1.2707 - accuracy: 0.5103 - val_loss: 2.5125 - val_accuracy: 0.5558\n",
      "Epoch 32/48\n",
      "174/174 [==============================] - 9s 52ms/step - loss: 1.2612 - accuracy: 0.5146 - val_loss: 2.5373 - val_accuracy: 0.5517\n",
      "Epoch 33/48\n",
      "174/174 [==============================] - 9s 51ms/step - loss: 1.2682 - accuracy: 0.5176 - val_loss: 2.5495 - val_accuracy: 0.5511\n",
      "Epoch 34/48\n",
      "174/174 [==============================] - 8s 45ms/step - loss: 1.2768 - accuracy: 0.5379 - val_loss: 2.7748 - val_accuracy: 0.5549\n",
      "Epoch 35/48\n",
      "174/174 [==============================] - 8s 45ms/step - loss: 1.2410 - accuracy: 0.5346 - val_loss: 2.8683 - val_accuracy: 0.5596\n",
      "Epoch 36/48\n",
      "174/174 [==============================] - 7s 43ms/step - loss: 1.2225 - accuracy: 0.5372 - val_loss: 2.9139 - val_accuracy: 0.5622\n",
      "Epoch 37/48\n",
      "174/174 [==============================] - 8s 49ms/step - loss: 1.2156 - accuracy: 0.5370 - val_loss: 2.9339 - val_accuracy: 0.5625\n",
      "Epoch 38/48\n",
      "174/174 [==============================] - 9s 50ms/step - loss: 1.2107 - accuracy: 0.5361 - val_loss: 2.9569 - val_accuracy: 0.5596\n",
      "Epoch 39/48\n",
      "174/174 [==============================] - 9s 50ms/step - loss: 1.2151 - accuracy: 0.5371 - val_loss: 2.9651 - val_accuracy: 0.5621\n",
      "Epoch 40/48\n",
      "174/174 [==============================] - 8s 46ms/step - loss: 1.2042 - accuracy: 0.5379 - val_loss: 2.9829 - val_accuracy: 0.5626\n",
      "Epoch 41/48\n",
      "174/174 [==============================] - 8s 43ms/step - loss: 1.1967 - accuracy: 0.5382 - val_loss: 2.9884 - val_accuracy: 0.5626\n",
      "Epoch 42/48\n",
      "174/174 [==============================] - 7s 41ms/step - loss: 1.1979 - accuracy: 0.5386 - val_loss: 2.9901 - val_accuracy: 0.5614\n",
      "Epoch 43/48\n",
      "174/174 [==============================] - 8s 49ms/step - loss: 1.2022 - accuracy: 0.5375 - val_loss: 2.9905 - val_accuracy: 0.5596\n",
      "Epoch 44/48\n",
      "174/174 [==============================] - 8s 48ms/step - loss: 1.1898 - accuracy: 0.5395 - val_loss: 2.9928 - val_accuracy: 0.5590\n",
      "Epoch 45/48\n",
      "174/174 [==============================] - 8s 46ms/step - loss: 1.1905 - accuracy: 0.5415 - val_loss: 2.9945 - val_accuracy: 0.5591\n",
      "Epoch 46/48\n",
      "174/174 [==============================] - 8s 48ms/step - loss: 1.1897 - accuracy: 0.5397 - val_loss: 2.9970 - val_accuracy: 0.5591\n",
      "Epoch 47/48\n",
      "174/174 [==============================] - 8s 45ms/step - loss: 1.1935 - accuracy: 0.5394 - val_loss: 2.9988 - val_accuracy: 0.5592\n",
      "Epoch 48/48\n",
      "174/174 [==============================] - 8s 47ms/step - loss: 1.1952 - accuracy: 0.5389 - val_loss: 2.9992 - val_accuracy: 0.5596\n",
      "Best epoch: 40\n"
     ]
    }
   ],
   "source": [
    "# Build the model with the optimal hyperparameters and train it on the data for 64 epochs\n",
    "model = tuner.hypermodel.build(best_hps)\n",
    "history = model.fit(X_train, y_train, batch_size=4,\n",
    "                    validation_split=0.33, \n",
    "                    epochs=48,\n",
    "                    shuffle=False,\n",
    "                    callbacks=[\n",
    "                        K.callbacks.ReduceLROnPlateau(),\n",
    "                        K.callbacks.ModelCheckpoint(filepath='checkpoints/lstm', save_weights_only=True),\n",
    "                        K.callbacks.EarlyStopping(monitor='loss', patience=3, restore_best_weights=True)\n",
    "                    ])\n",
    "\n",
    "val_acc_per_epoch = history.history['val_accuracy']\n",
    "best_epoch = val_acc_per_epoch.index(max(val_acc_per_epoch)) + 1\n",
    "print('Best epoch: %d' % (best_epoch,))"
   ]
  },
  {
   "cell_type": "code",
   "execution_count": 21,
   "metadata": {
    "gradient": {
     "editing": false,
     "execution_count": 34,
     "id": "589041a8-92b6-4c4c-92e7-915ef4c049a7",
     "kernelId": "1575c96a-5826-4c69-b3dd-9e87d0c84bf7"
    }
   },
   "outputs": [
    {
     "data": {
      "text/plain": "<Figure size 1080x504 with 2 Axes>",
      "image/png": "[encoded data removed]"
     },
     "metadata": {
      "needs_background": "light"
     },
     "output_type": "display_data"
    }
   ],
   "source": [
    "plt.figure(figsize=(15, 7))\n",
    "plt.subplot(221)\n",
    "plt.title(\"Train Loss\")\n",
    "plt.plot(history.history['loss'])\n",
    "plt.subplot(222)\n",
    "plt.title(\"Train/validation accuracy\")\n",
    "plt.plot(history.history['accuracy'])\n",
    "plt.plot(history.history['val_accuracy'])\n",
    "plt.savefig('imgs/train_val_acc.png', bbox_inches='tight')"
   ]
  },
  {
   "cell_type": "markdown",
   "metadata": {
    "gradient": {
     "editing": false,
     "id": "b55b432b-9241-439e-a5ce-d9e494699030",
     "kernelId": "1575c96a-5826-4c69-b3dd-9e87d0c84bf7"
    }
   },
   "source": [
    "# Conclusion \n",
    "\n",
    "* need more data to avoid overfitting\n",
    "* need simpler architecture (2 recurrent layers is too much)\n",
    "* add dropout layers\n",
    "\n",
    "# Try\n",
    "\n",
    "* 2d convolutions\n",
    "* attention mechanism"
   ]
  },
  {
   "cell_type": "markdown",
   "metadata": {
    "gradient": {
     "editing": false,
     "id": "42403960-e9a4-413b-b92d-97506bffd682",
     "kernelId": "1575c96a-5826-4c69-b3dd-9e87d0c84bf7"
    }
   },
   "source": [
    "# Save model"
   ]
  },
  {
   "cell_type": "code",
   "execution_count": 22,
   "metadata": {
    "gradient": {
     "editing": false,
     "execution_count": 37,
     "id": "70f0a1ce-440a-46f8-9b30-2c028b25427d",
     "kernelId": "1575c96a-5826-4c69-b3dd-9e87d0c84bf7"
    },
    "pycharm": {
     "name": "#%%\n"
    }
   },
   "outputs": [],
   "source": [
    "model.save('./models/lstm__with_angles.h5')"
   ]
  },
  {
   "cell_type": "code",
   "execution_count": null,
   "outputs": [],
   "source": [],
   "metadata": {
    "collapsed": false,
    "pycharm": {
     "name": "#%%\n"
    }
   }
  }
 ],
 "metadata": {
  "kernelspec": {
   "display_name": "Python 3 (ipykernel)",
   "language": "python",
   "name": "python3"
  },
  "language_info": {
   "codemirror_mode": {
    "name": "ipython",
    "version": 3
   },
   "file_extension": ".py",
   "mimetype": "text/x-python",
   "name": "python",
   "nbconvert_exporter": "python",
   "pygments_lexer": "ipython3",
   "version": "3.8.10"
  }
 },
 "nbformat": 4,
 "nbformat_minor": 4
}