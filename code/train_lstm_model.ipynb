{
 "cells": [
  {
   "cell_type": "markdown",
   "metadata": {
    "gradient": {
     "editing": false,
     "id": "62ff8ca4-6bf6-442d-b0a2-468aa0ee7d94",
     "kernelId": "1575c96a-5826-4c69-b3dd-9e87d0c84bf7"
    }
   },
   "source": [
    "# Load data"
   ]
  },
  {
   "cell_type": "code",
   "execution_count": 1,
   "metadata": {
    "gradient": {
     "editing": false,
     "execution_count": 15,
     "id": "c18158e7-ef4e-42aa-95b2-24b510ea96a2",
     "kernelId": "1575c96a-5826-4c69-b3dd-9e87d0c84bf7"
    },
    "scrolled": true
   },
   "outputs": [
    {
     "name": "stderr",
     "output_type": "stream",
     "text": [
      "2022-03-09 21:57:37.201140: I tensorflow/stream_executor/platform/default/dso_loader.cc:48] Successfully opened dynamic library libcudart.so.10.1\n"
     ]
    },
    {
     "name": "stdout",
     "output_type": "stream",
     "text": [
      "BASE_DIR: /home/andrew/Рабочий стол/Punch_DL\n"
     ]
    }
   ],
   "source": [
    "import sys\n",
    "import numpy as np\n",
    "import matplotlib.pyplot as plt\n",
    "import pandas as pd\n",
    "import seaborn as sns\n",
    "\n",
    "import tensorflow as tf\n",
    "import tensorflow.keras as K\n",
    "import keras_tuner as kt\n",
    "\n",
    "from utils import get_train_data, BASE_DIR"
   ]
  },
  {
   "cell_type": "code",
   "execution_count": 2,
   "metadata": {},
   "outputs": [],
   "source": [
    "plt.rcParams['figure.figsize'] = (14, 6)"
   ]
  },
  {
   "cell_type": "code",
   "execution_count": 3,
   "metadata": {
    "gradient": {
     "editing": false,
     "execution_count": 16,
     "id": "ee46e5b3-b790-46d7-a347-3ce7fddc82a8",
     "kernelId": "1575c96a-5826-4c69-b3dd-9e87d0c84bf7"
    }
   },
   "outputs": [
    {
     "name": "stdout",
     "output_type": "stream",
     "text": [
      "GPU detected\n"
     ]
    },
    {
     "name": "stderr",
     "output_type": "stream",
     "text": [
      "2022-03-09 21:57:42.049749: I tensorflow/stream_executor/platform/default/dso_loader.cc:48] Successfully opened dynamic library libcuda.so.1\n",
      "2022-03-09 21:57:42.138321: I tensorflow/stream_executor/cuda/cuda_gpu_executor.cc:982] successful NUMA node read from SysFS had negative value (-1), but there must be at least one NUMA node, so returning NUMA node zero\n",
      "2022-03-09 21:57:42.139070: I tensorflow/core/common_runtime/gpu/gpu_device.cc:1716] Found device 0 with properties: \n",
      "pciBusID: 0000:01:00.0 name: NVIDIA GeForce GTX 1650 computeCapability: 7.5\n",
      "coreClock: 1.515GHz coreCount: 14 deviceMemorySize: 3.82GiB deviceMemoryBandwidth: 178.84GiB/s\n",
      "2022-03-09 21:57:42.139148: I tensorflow/stream_executor/platform/default/dso_loader.cc:48] Successfully opened dynamic library libcudart.so.10.1\n",
      "2022-03-09 21:57:42.171783: I tensorflow/stream_executor/platform/default/dso_loader.cc:48] Successfully opened dynamic library libcublas.so.10\n",
      "2022-03-09 21:57:42.191009: I tensorflow/stream_executor/platform/default/dso_loader.cc:48] Successfully opened dynamic library libcufft.so.10\n",
      "2022-03-09 21:57:42.195572: I tensorflow/stream_executor/platform/default/dso_loader.cc:48] Successfully opened dynamic library libcurand.so.10\n",
      "2022-03-09 21:57:42.228508: I tensorflow/stream_executor/platform/default/dso_loader.cc:48] Successfully opened dynamic library libcusolver.so.10\n",
      "2022-03-09 21:57:42.233519: I tensorflow/stream_executor/platform/default/dso_loader.cc:48] Successfully opened dynamic library libcusparse.so.10\n",
      "2022-03-09 21:57:42.292078: I tensorflow/stream_executor/platform/default/dso_loader.cc:48] Successfully opened dynamic library libcudnn.so.7\n",
      "2022-03-09 21:57:42.292324: I tensorflow/stream_executor/cuda/cuda_gpu_executor.cc:982] successful NUMA node read from SysFS had negative value (-1), but there must be at least one NUMA node, so returning NUMA node zero\n",
      "2022-03-09 21:57:42.292892: I tensorflow/stream_executor/cuda/cuda_gpu_executor.cc:982] successful NUMA node read from SysFS had negative value (-1), but there must be at least one NUMA node, so returning NUMA node zero\n",
      "2022-03-09 21:57:42.293286: I tensorflow/core/common_runtime/gpu/gpu_device.cc:1858] Adding visible gpu devices: 0\n"
     ]
    }
   ],
   "source": [
    "if sys.platform == 'linux':\n",
    "    physical_devices = tf.config.experimental.list_physical_devices('GPU')\n",
    "    if len(physical_devices) > 0:\n",
    "        print('GPU detected')\n",
    "        \n",
    "    for device in physical_devices:\n",
    "        tf.config.experimental.set_memory_growth(device, True)\n",
    "\n",
    "    tf.config.experimental.set_virtual_device_configuration(\n",
    "        physical_devices[0], [tf.config.experimental.VirtualDeviceConfiguration(memory_limit=1024)])"
   ]
  },
  {
   "cell_type": "code",
   "execution_count": 4,
   "metadata": {
    "gradient": {
     "editing": false,
     "execution_count": 17,
     "id": "1f73e94a-43c2-4db4-a277-dbec55619c36",
     "kernelId": "1575c96a-5826-4c69-b3dd-9e87d0c84bf7"
    }
   },
   "outputs": [
    {
     "name": "stdout",
     "output_type": "stream",
     "text": [
      "validation files\n",
      "i1_hook_2\n",
      "id4_hook_2\n",
      "id0_jab_2\n",
      "id2_jab_2\n",
      "id4_jab_2\n",
      "id2_uper_2\n",
      "id3_uper_2\n",
      "id4_uper_2\n",
      "====================\n",
      "\n",
      "id1_hook_2 | reversed: False | data shape: (792, 34)\n",
      "--------------------\n",
      "id3_hook_1 | reversed: False | data shape: (1461, 34)\n",
      "--------------------\n",
      "id3_hook_2 | reversed: False | data shape: (1297, 34)\n",
      "--------------------\n",
      "id4_hook_1 | reversed: False | data shape: (1054, 34)\n",
      "--------------------\n",
      "id4_hook_2 | reversed: False | data shape: (1059, 34)\n",
      "--------------------\n",
      "id1_hook_1 | reversed: False | data shape: (858, 34)\n",
      "--------------------\n",
      "id2_hook_1 | reversed: False | data shape: (1013, 34)\n",
      "--------------------\n",
      "id0_hook_2 | reversed: False | data shape: (1051, 34)\n",
      "--------------------\n",
      "id0_hook_1 | reversed: False | data shape: (1100, 34)\n",
      "--------------------\n",
      "id2_hook_2 | reversed: False | data shape: (1041, 34)\n",
      "--------------------\n",
      "id3_jab_2 | reversed: False | data shape: (1164, 34)\n",
      "--------------------\n",
      "id4_jab_1 | reversed: False | data shape: (911, 34)\n",
      "--------------------\n",
      "id2_jab_1 | reversed: False | data shape: (1032, 34)\n",
      "--------------------\n",
      "id0_jab_1 | reversed: False | data shape: (952, 34)\n",
      "--------------------\n",
      "id0_jab_2 | reversed: False | data shape: (993, 34)\n",
      "--------------------\n",
      "id1_jab_1 | reversed: False | data shape: (802, 34)\n",
      "--------------------\n",
      "id4_jab_2 | reversed: False | data shape: (964, 34)\n",
      "--------------------\n",
      "id1_jab_2 | reversed: False | data shape: (643, 34)\n",
      "--------------------\n",
      "id2_jab_2 | reversed: False | data shape: (1030, 34)\n",
      "--------------------\n",
      "id3_jab_1 | reversed: False | data shape: (1170, 34)\n",
      "--------------------\n",
      "id2_uper_1 | reversed: False | data shape: (1064, 34)\n",
      "--------------------\n",
      "id4_uper_1 | reversed: False | data shape: (1125, 34)\n",
      "--------------------\n",
      "id0_uper_2 | reversed: False | data shape: (1186, 34)\n",
      "--------------------\n",
      "id0_uper_1 | reversed: False | data shape: (1200, 34)\n",
      "--------------------\n",
      "id2_uper_2 | reversed: False | data shape: (1033, 34)\n",
      "--------------------\n",
      "id3_uper_1 | reversed: False | data shape: (1277, 34)\n",
      "--------------------\n",
      "id3_uper_2 | reversed: False | data shape: (1196, 34)\n",
      "--------------------\n",
      "id1_uper_1 | reversed: False | data shape: (746, 34)\n",
      "--------------------\n",
      "id1_uper_2 | reversed: False | data shape: (703, 34)\n",
      "--------------------\n",
      "id4_uper_2 | reversed: False | data shape: (1157, 34)\n",
      "--------------------\n"
     ]
    }
   ],
   "source": [
    "X_train, y_train, X_val, y_val = get_train_data(skip_midpoints=True, all_labels=True)"
   ]
  },
  {
   "cell_type": "code",
   "execution_count": 5,
   "metadata": {
    "gradient": {
     "editing": false,
     "execution_count": 19,
     "id": "0b51ca4e-bcf3-4680-b9d4-b98233424c9f",
     "kernelId": "1575c96a-5826-4c69-b3dd-9e87d0c84bf7"
    }
   },
   "outputs": [],
   "source": [
    "def compute_vector_angle(p0, p1, p2):\n",
    "    # vector p0 - p1\n",
    "    v1 = p0 - p1\n",
    "    \n",
    "    # vector p0 - p2\n",
    "    v2 = p2 - p1\n",
    "    \n",
    "    v1_length = np.sqrt(v1[0] ** 2 + v1[1] ** 2)\n",
    "    v2_length = np.sqrt(v2[0] ** 2 + v2[1] ** 2)\n",
    "    \n",
    "    cos = (v1[0] * v2[0] + v1[1] * v2[1]) / (v1_length * v2_length)\n",
    "    \n",
    "    if cos < -1:\n",
    "        cos = -1\n",
    "        \n",
    "    if cos > 1:\n",
    "        cos = 1\n",
    "\n",
    "    return np.arccos(cos)\n",
    "\n",
    "\n",
    "assert np.round(compute_vector_angle(np.array([2, 6]), np.array([0, 0]), np.array([8, 4])), 2) == 0.79\n",
    "\n",
    "\n",
    "# nose            0,1\n",
    "# left_eye        2,3\n",
    "# right_eye       4,5\n",
    "# left_ear        6,7\n",
    "# right_ear       8,9\n",
    "# left_shoulder   10,11\n",
    "# right_shoulder  12,13\n",
    "# left_elbow      14,15\n",
    "# right_elbow     16,17\n",
    "# left_wrist      18,19\n",
    "# right_wrist     20,21\n",
    "\n",
    "def add_angles(keypoints):\n",
    "    return np.append(\n",
    "        keypoints,\n",
    "        [\n",
    "            compute_vector_angle(keypoints[10:12], keypoints[14:16], keypoints[18:20]), # angle between left shoulder and wrist in radians\n",
    "            compute_vector_angle(keypoints[12:14], keypoints[16:18], keypoints[20:22]), # angle between right shoulder and wrist in radians\n",
    "        ])"
   ]
  },
  {
   "cell_type": "code",
   "execution_count": 6,
   "metadata": {
    "gradient": {
     "editing": false,
     "execution_count": 20,
     "id": "fdaa1d15-5d73-4899-8c28-19c8c9644013",
     "kernelId": "1575c96a-5826-4c69-b3dd-9e87d0c84bf7"
    }
   },
   "outputs": [
    {
     "data": {
      "text/plain": [
       "(23642, 36)"
      ]
     },
     "execution_count": 6,
     "metadata": {},
     "output_type": "execute_result"
    }
   ],
   "source": [
    "X_train = np.apply_along_axis(add_angles, 1, X_train)\n",
    "X_train.shape"
   ]
  },
  {
   "cell_type": "code",
   "execution_count": 7,
   "metadata": {},
   "outputs": [
    {
     "data": {
      "text/plain": [
       "(7432, 36)"
      ]
     },
     "execution_count": 7,
     "metadata": {},
     "output_type": "execute_result"
    }
   ],
   "source": [
    "X_val = np.apply_along_axis(add_angles, 1, X_val)\n",
    "X_val.shape"
   ]
  },
  {
   "cell_type": "code",
   "execution_count": 8,
   "metadata": {
    "gradient": {
     "editing": false,
     "execution_count": 21,
     "id": "0912dfa8-988b-4900-af6e-403676ce88d3",
     "kernelId": "1575c96a-5826-4c69-b3dd-9e87d0c84bf7"
    }
   },
   "outputs": [],
   "source": [
    "KEYPOINT_DICT = {\n",
    "    'nose': 0,\n",
    "    'left_eye': 1,\n",
    "    'right_eye': 2,\n",
    "    'left_ear': 3,\n",
    "    'right_ear': 4,\n",
    "    'left_shoulder': 5,\n",
    "    'right_shoulder': 6,\n",
    "    'left_elbow': 7,\n",
    "    'right_elbow': 8,\n",
    "    'left_wrist': 9,\n",
    "    'right_wrist': 10,\n",
    "    'left_hip': 11,\n",
    "    'right_hip': 12,\n",
    "    'left_knee': 13,\n",
    "    'right_knee': 14,\n",
    "    'left_ankle': 15,\n",
    "    'right_ankle': 16,\n",
    "    'angle': 17,\n",
    "}"
   ]
  },
  {
   "cell_type": "code",
   "execution_count": 9,
   "metadata": {
    "gradient": {
     "editing": false,
     "execution_count": 22,
     "id": "2f23aae8-0cb9-41f6-a172-3086793d6b2f",
     "kernelId": "1575c96a-5826-4c69-b3dd-9e87d0c84bf7"
    }
   },
   "outputs": [],
   "source": [
    "def format_feature_names(names):\n",
    "    \"\"\"\"Form list of feature names\n",
    "\n",
    "    Params:\n",
    "        names - list of KEYPOINT_DICT keys\n",
    "        ndims - number of dimensions (x, y, score)\n",
    "        skip_midpoints - add or omit midpoint coords (x, y, score)\n",
    "\n",
    "    Returns:\n",
    "        list of feature names\n",
    "    \"\"\"\n",
    "    feature_names = []\n",
    "    for name in names:\n",
    "        if 'angle' in name:\n",
    "            feature_names.append(name+'-left-arm')\n",
    "            feature_names.append(name+'-right-arm')\n",
    "        else:\n",
    "            feature_names.append(name+'-x')\n",
    "            feature_names.append(name+'-y')\n",
    "\n",
    "    return feature_names"
   ]
  },
  {
   "cell_type": "code",
   "execution_count": 10,
   "metadata": {
    "gradient": {
     "editing": false,
     "execution_count": 23,
     "id": "29699a59-1d04-4eb9-8b82-df9234924c00",
     "kernelId": "1575c96a-5826-4c69-b3dd-9e87d0c84bf7"
    }
   },
   "outputs": [],
   "source": [
    "feature_names = format_feature_names(list(KEYPOINT_DICT.keys()))"
   ]
  },
  {
   "cell_type": "code",
   "execution_count": 11,
   "metadata": {
    "gradient": {
     "editing": false,
     "execution_count": 24,
     "id": "b024de56-63e2-4e31-93fd-d4e153aab8da",
     "kernelId": "1575c96a-5826-4c69-b3dd-9e87d0c84bf7"
    }
   },
   "outputs": [
    {
     "data": {
      "text/html": [
       "<div>\n",
       "<style scoped>\n",
       "    .dataframe tbody tr th:only-of-type {\n",
       "        vertical-align: middle;\n",
       "    }\n",
       "\n",
       "    .dataframe tbody tr th {\n",
       "        vertical-align: top;\n",
       "    }\n",
       "\n",
       "    .dataframe thead th {\n",
       "        text-align: right;\n",
       "    }\n",
       "</style>\n",
       "<table border=\"1\" class=\"dataframe\">\n",
       "  <thead>\n",
       "    <tr style=\"text-align: right;\">\n",
       "      <th></th>\n",
       "      <th>count</th>\n",
       "      <th>mean</th>\n",
       "      <th>std</th>\n",
       "      <th>min</th>\n",
       "      <th>25%</th>\n",
       "      <th>50%</th>\n",
       "      <th>75%</th>\n",
       "      <th>max</th>\n",
       "    </tr>\n",
       "  </thead>\n",
       "  <tbody>\n",
       "    <tr>\n",
       "      <th>nose-x</th>\n",
       "      <td>23642.0</td>\n",
       "      <td>-0.219173</td>\n",
       "      <td>0.028361</td>\n",
       "      <td>-0.407440</td>\n",
       "      <td>-0.234674</td>\n",
       "      <td>-0.217196</td>\n",
       "      <td>-0.202192</td>\n",
       "      <td>0.361919</td>\n",
       "    </tr>\n",
       "    <tr>\n",
       "      <th>nose-y</th>\n",
       "      <td>23642.0</td>\n",
       "      <td>-0.140768</td>\n",
       "      <td>0.059893</td>\n",
       "      <td>-0.467713</td>\n",
       "      <td>-0.183845</td>\n",
       "      <td>-0.141331</td>\n",
       "      <td>-0.101649</td>\n",
       "      <td>0.475557</td>\n",
       "    </tr>\n",
       "    <tr>\n",
       "      <th>left_eye-x</th>\n",
       "      <td>23642.0</td>\n",
       "      <td>-0.230877</td>\n",
       "      <td>0.029497</td>\n",
       "      <td>-0.340693</td>\n",
       "      <td>-0.247528</td>\n",
       "      <td>-0.229086</td>\n",
       "      <td>-0.213395</td>\n",
       "      <td>0.359797</td>\n",
       "    </tr>\n",
       "    <tr>\n",
       "      <th>left_eye-y</th>\n",
       "      <td>23642.0</td>\n",
       "      <td>-0.137011</td>\n",
       "      <td>0.064951</td>\n",
       "      <td>-0.480470</td>\n",
       "      <td>-0.183367</td>\n",
       "      <td>-0.141739</td>\n",
       "      <td>-0.096620</td>\n",
       "      <td>0.477576</td>\n",
       "    </tr>\n",
       "    <tr>\n",
       "      <th>right_eye-x</th>\n",
       "      <td>23642.0</td>\n",
       "      <td>-0.232439</td>\n",
       "      <td>0.029792</td>\n",
       "      <td>-0.344901</td>\n",
       "      <td>-0.249345</td>\n",
       "      <td>-0.230018</td>\n",
       "      <td>-0.214672</td>\n",
       "      <td>0.359336</td>\n",
       "    </tr>\n",
       "    <tr>\n",
       "      <th>right_eye-y</th>\n",
       "      <td>23642.0</td>\n",
       "      <td>-0.133383</td>\n",
       "      <td>0.059181</td>\n",
       "      <td>-0.473905</td>\n",
       "      <td>-0.174492</td>\n",
       "      <td>-0.132322</td>\n",
       "      <td>-0.093929</td>\n",
       "      <td>0.475477</td>\n",
       "    </tr>\n",
       "    <tr>\n",
       "      <th>left_ear-x</th>\n",
       "      <td>23642.0</td>\n",
       "      <td>-0.232159</td>\n",
       "      <td>0.029205</td>\n",
       "      <td>-0.444675</td>\n",
       "      <td>-0.250282</td>\n",
       "      <td>-0.231409</td>\n",
       "      <td>-0.214035</td>\n",
       "      <td>0.366997</td>\n",
       "    </tr>\n",
       "    <tr>\n",
       "      <th>left_ear-y</th>\n",
       "      <td>23642.0</td>\n",
       "      <td>-0.091019</td>\n",
       "      <td>0.069892</td>\n",
       "      <td>-0.451503</td>\n",
       "      <td>-0.141887</td>\n",
       "      <td>-0.102860</td>\n",
       "      <td>-0.044005</td>\n",
       "      <td>0.474723</td>\n",
       "    </tr>\n",
       "    <tr>\n",
       "      <th>right_ear-x</th>\n",
       "      <td>23642.0</td>\n",
       "      <td>-0.236987</td>\n",
       "      <td>0.030313</td>\n",
       "      <td>-0.343276</td>\n",
       "      <td>-0.255230</td>\n",
       "      <td>-0.235268</td>\n",
       "      <td>-0.217955</td>\n",
       "      <td>0.363357</td>\n",
       "    </tr>\n",
       "    <tr>\n",
       "      <th>right_ear-y</th>\n",
       "      <td>23642.0</td>\n",
       "      <td>-0.080904</td>\n",
       "      <td>0.054617</td>\n",
       "      <td>-0.465192</td>\n",
       "      <td>-0.115119</td>\n",
       "      <td>-0.075604</td>\n",
       "      <td>-0.044110</td>\n",
       "      <td>0.473494</td>\n",
       "    </tr>\n",
       "    <tr>\n",
       "      <th>left_shoulder-x</th>\n",
       "      <td>23642.0</td>\n",
       "      <td>-0.178052</td>\n",
       "      <td>0.028103</td>\n",
       "      <td>-0.261518</td>\n",
       "      <td>-0.197696</td>\n",
       "      <td>-0.179638</td>\n",
       "      <td>-0.156358</td>\n",
       "      <td>0.134826</td>\n",
       "    </tr>\n",
       "    <tr>\n",
       "      <th>left_shoulder-y</th>\n",
       "      <td>23642.0</td>\n",
       "      <td>-0.048489</td>\n",
       "      <td>0.090734</td>\n",
       "      <td>-0.271646</td>\n",
       "      <td>-0.124638</td>\n",
       "      <td>-0.065882</td>\n",
       "      <td>0.033140</td>\n",
       "      <td>0.454677</td>\n",
       "    </tr>\n",
       "    <tr>\n",
       "      <th>right_shoulder-x</th>\n",
       "      <td>23642.0</td>\n",
       "      <td>-0.184992</td>\n",
       "      <td>0.025617</td>\n",
       "      <td>-0.278860</td>\n",
       "      <td>-0.202035</td>\n",
       "      <td>-0.183892</td>\n",
       "      <td>-0.165589</td>\n",
       "      <td>0.152549</td>\n",
       "    </tr>\n",
       "    <tr>\n",
       "      <th>right_shoulder-y</th>\n",
       "      <td>23642.0</td>\n",
       "      <td>-0.017280</td>\n",
       "      <td>0.065522</td>\n",
       "      <td>-0.266776</td>\n",
       "      <td>-0.052455</td>\n",
       "      <td>-0.013163</td>\n",
       "      <td>0.029501</td>\n",
       "      <td>0.432912</td>\n",
       "    </tr>\n",
       "    <tr>\n",
       "      <th>left_elbow-x</th>\n",
       "      <td>23642.0</td>\n",
       "      <td>-0.091074</td>\n",
       "      <td>0.039663</td>\n",
       "      <td>-0.275171</td>\n",
       "      <td>-0.102693</td>\n",
       "      <td>-0.083093</td>\n",
       "      <td>-0.067347</td>\n",
       "      <td>0.172872</td>\n",
       "    </tr>\n",
       "    <tr>\n",
       "      <th>left_elbow-y</th>\n",
       "      <td>23642.0</td>\n",
       "      <td>-0.121783</td>\n",
       "      <td>0.125231</td>\n",
       "      <td>-0.454742</td>\n",
       "      <td>-0.217549</td>\n",
       "      <td>-0.143590</td>\n",
       "      <td>-0.017825</td>\n",
       "      <td>0.455919</td>\n",
       "    </tr>\n",
       "    <tr>\n",
       "      <th>right_elbow-x</th>\n",
       "      <td>23642.0</td>\n",
       "      <td>-0.112798</td>\n",
       "      <td>0.030465</td>\n",
       "      <td>-0.256390</td>\n",
       "      <td>-0.125908</td>\n",
       "      <td>-0.107056</td>\n",
       "      <td>-0.092864</td>\n",
       "      <td>0.167001</td>\n",
       "    </tr>\n",
       "    <tr>\n",
       "      <th>right_elbow-y</th>\n",
       "      <td>23642.0</td>\n",
       "      <td>-0.065252</td>\n",
       "      <td>0.095798</td>\n",
       "      <td>-0.415576</td>\n",
       "      <td>-0.121004</td>\n",
       "      <td>-0.063637</td>\n",
       "      <td>0.008660</td>\n",
       "      <td>0.453781</td>\n",
       "    </tr>\n",
       "    <tr>\n",
       "      <th>left_wrist-x</th>\n",
       "      <td>23642.0</td>\n",
       "      <td>-0.138095</td>\n",
       "      <td>0.052711</td>\n",
       "      <td>-0.298592</td>\n",
       "      <td>-0.169270</td>\n",
       "      <td>-0.148965</td>\n",
       "      <td>-0.115997</td>\n",
       "      <td>0.379429</td>\n",
       "    </tr>\n",
       "    <tr>\n",
       "      <th>left_wrist-y</th>\n",
       "      <td>23642.0</td>\n",
       "      <td>-0.202074</td>\n",
       "      <td>0.121550</td>\n",
       "      <td>-0.579556</td>\n",
       "      <td>-0.268119</td>\n",
       "      <td>-0.201614</td>\n",
       "      <td>-0.114370</td>\n",
       "      <td>0.444129</td>\n",
       "    </tr>\n",
       "    <tr>\n",
       "      <th>right_wrist-x</th>\n",
       "      <td>23642.0</td>\n",
       "      <td>-0.143623</td>\n",
       "      <td>0.041687</td>\n",
       "      <td>-0.266704</td>\n",
       "      <td>-0.170126</td>\n",
       "      <td>-0.147890</td>\n",
       "      <td>-0.123651</td>\n",
       "      <td>0.374958</td>\n",
       "    </tr>\n",
       "    <tr>\n",
       "      <th>right_wrist-y</th>\n",
       "      <td>23642.0</td>\n",
       "      <td>-0.157725</td>\n",
       "      <td>0.101256</td>\n",
       "      <td>-0.567590</td>\n",
       "      <td>-0.199620</td>\n",
       "      <td>-0.140939</td>\n",
       "      <td>-0.096486</td>\n",
       "      <td>0.439304</td>\n",
       "    </tr>\n",
       "    <tr>\n",
       "      <th>left_hip-x</th>\n",
       "      <td>23642.0</td>\n",
       "      <td>0.002196</td>\n",
       "      <td>0.002038</td>\n",
       "      <td>-0.009743</td>\n",
       "      <td>0.000927</td>\n",
       "      <td>0.002015</td>\n",
       "      <td>0.003353</td>\n",
       "      <td>0.011939</td>\n",
       "    </tr>\n",
       "    <tr>\n",
       "      <th>left_hip-y</th>\n",
       "      <td>23642.0</td>\n",
       "      <td>-0.019586</td>\n",
       "      <td>0.038389</td>\n",
       "      <td>-0.089966</td>\n",
       "      <td>-0.053183</td>\n",
       "      <td>-0.031724</td>\n",
       "      <td>0.017051</td>\n",
       "      <td>0.087779</td>\n",
       "    </tr>\n",
       "    <tr>\n",
       "      <th>right_hip-x</th>\n",
       "      <td>23642.0</td>\n",
       "      <td>-0.002196</td>\n",
       "      <td>0.002038</td>\n",
       "      <td>-0.011939</td>\n",
       "      <td>-0.003353</td>\n",
       "      <td>-0.002016</td>\n",
       "      <td>-0.000927</td>\n",
       "      <td>0.009743</td>\n",
       "    </tr>\n",
       "    <tr>\n",
       "      <th>right_hip-y</th>\n",
       "      <td>23642.0</td>\n",
       "      <td>0.019586</td>\n",
       "      <td>0.038389</td>\n",
       "      <td>-0.087779</td>\n",
       "      <td>-0.017051</td>\n",
       "      <td>0.031724</td>\n",
       "      <td>0.053183</td>\n",
       "      <td>0.089966</td>\n",
       "    </tr>\n",
       "    <tr>\n",
       "      <th>left_knee-x</th>\n",
       "      <td>23642.0</td>\n",
       "      <td>0.126677</td>\n",
       "      <td>0.020623</td>\n",
       "      <td>-0.088841</td>\n",
       "      <td>0.113912</td>\n",
       "      <td>0.123440</td>\n",
       "      <td>0.135096</td>\n",
       "      <td>0.194644</td>\n",
       "    </tr>\n",
       "    <tr>\n",
       "      <th>left_knee-y</th>\n",
       "      <td>23642.0</td>\n",
       "      <td>-0.135718</td>\n",
       "      <td>0.055446</td>\n",
       "      <td>-0.486933</td>\n",
       "      <td>-0.171206</td>\n",
       "      <td>-0.143973</td>\n",
       "      <td>-0.113594</td>\n",
       "      <td>0.155232</td>\n",
       "    </tr>\n",
       "    <tr>\n",
       "      <th>right_knee-x</th>\n",
       "      <td>23642.0</td>\n",
       "      <td>0.117112</td>\n",
       "      <td>0.018620</td>\n",
       "      <td>-0.117657</td>\n",
       "      <td>0.105303</td>\n",
       "      <td>0.114050</td>\n",
       "      <td>0.124102</td>\n",
       "      <td>0.191456</td>\n",
       "    </tr>\n",
       "    <tr>\n",
       "      <th>right_knee-y</th>\n",
       "      <td>23642.0</td>\n",
       "      <td>0.013627</td>\n",
       "      <td>0.051557</td>\n",
       "      <td>-0.308054</td>\n",
       "      <td>-0.016190</td>\n",
       "      <td>0.018073</td>\n",
       "      <td>0.048338</td>\n",
       "      <td>0.324813</td>\n",
       "    </tr>\n",
       "    <tr>\n",
       "      <th>left_ankle-x</th>\n",
       "      <td>23642.0</td>\n",
       "      <td>0.269949</td>\n",
       "      <td>0.036785</td>\n",
       "      <td>-0.031853</td>\n",
       "      <td>0.246020</td>\n",
       "      <td>0.266175</td>\n",
       "      <td>0.284942</td>\n",
       "      <td>0.382967</td>\n",
       "    </tr>\n",
       "    <tr>\n",
       "      <th>left_ankle-y</th>\n",
       "      <td>23642.0</td>\n",
       "      <td>-0.123775</td>\n",
       "      <td>0.069409</td>\n",
       "      <td>-0.547651</td>\n",
       "      <td>-0.168451</td>\n",
       "      <td>-0.137078</td>\n",
       "      <td>-0.095393</td>\n",
       "      <td>0.373388</td>\n",
       "    </tr>\n",
       "    <tr>\n",
       "      <th>right_ankle-x</th>\n",
       "      <td>23642.0</td>\n",
       "      <td>0.229317</td>\n",
       "      <td>0.041961</td>\n",
       "      <td>-0.035227</td>\n",
       "      <td>0.199803</td>\n",
       "      <td>0.225653</td>\n",
       "      <td>0.252935</td>\n",
       "      <td>0.374217</td>\n",
       "    </tr>\n",
       "    <tr>\n",
       "      <th>right_ankle-y</th>\n",
       "      <td>23642.0</td>\n",
       "      <td>0.102325</td>\n",
       "      <td>0.069603</td>\n",
       "      <td>-0.547769</td>\n",
       "      <td>0.063097</td>\n",
       "      <td>0.098940</td>\n",
       "      <td>0.141641</td>\n",
       "      <td>0.381425</td>\n",
       "    </tr>\n",
       "    <tr>\n",
       "      <th>angle-left-arm</th>\n",
       "      <td>23642.0</td>\n",
       "      <td>1.600247</td>\n",
       "      <td>0.596957</td>\n",
       "      <td>0.002913</td>\n",
       "      <td>1.266579</td>\n",
       "      <td>1.464510</td>\n",
       "      <td>1.726007</td>\n",
       "      <td>3.141342</td>\n",
       "    </tr>\n",
       "    <tr>\n",
       "      <th>angle-right-arm</th>\n",
       "      <td>23642.0</td>\n",
       "      <td>1.652355</td>\n",
       "      <td>0.672801</td>\n",
       "      <td>0.000456</td>\n",
       "      <td>1.215793</td>\n",
       "      <td>1.607339</td>\n",
       "      <td>2.109702</td>\n",
       "      <td>3.141593</td>\n",
       "    </tr>\n",
       "  </tbody>\n",
       "</table>\n",
       "</div>"
      ],
      "text/plain": [
       "                    count      mean       std       min       25%       50%  \\\n",
       "nose-x            23642.0 -0.219173  0.028361 -0.407440 -0.234674 -0.217196   \n",
       "nose-y            23642.0 -0.140768  0.059893 -0.467713 -0.183845 -0.141331   \n",
       "left_eye-x        23642.0 -0.230877  0.029497 -0.340693 -0.247528 -0.229086   \n",
       "left_eye-y        23642.0 -0.137011  0.064951 -0.480470 -0.183367 -0.141739   \n",
       "right_eye-x       23642.0 -0.232439  0.029792 -0.344901 -0.249345 -0.230018   \n",
       "right_eye-y       23642.0 -0.133383  0.059181 -0.473905 -0.174492 -0.132322   \n",
       "left_ear-x        23642.0 -0.232159  0.029205 -0.444675 -0.250282 -0.231409   \n",
       "left_ear-y        23642.0 -0.091019  0.069892 -0.451503 -0.141887 -0.102860   \n",
       "right_ear-x       23642.0 -0.236987  0.030313 -0.343276 -0.255230 -0.235268   \n",
       "right_ear-y       23642.0 -0.080904  0.054617 -0.465192 -0.115119 -0.075604   \n",
       "left_shoulder-x   23642.0 -0.178052  0.028103 -0.261518 -0.197696 -0.179638   \n",
       "left_shoulder-y   23642.0 -0.048489  0.090734 -0.271646 -0.124638 -0.065882   \n",
       "right_shoulder-x  23642.0 -0.184992  0.025617 -0.278860 -0.202035 -0.183892   \n",
       "right_shoulder-y  23642.0 -0.017280  0.065522 -0.266776 -0.052455 -0.013163   \n",
       "left_elbow-x      23642.0 -0.091074  0.039663 -0.275171 -0.102693 -0.083093   \n",
       "left_elbow-y      23642.0 -0.121783  0.125231 -0.454742 -0.217549 -0.143590   \n",
       "right_elbow-x     23642.0 -0.112798  0.030465 -0.256390 -0.125908 -0.107056   \n",
       "right_elbow-y     23642.0 -0.065252  0.095798 -0.415576 -0.121004 -0.063637   \n",
       "left_wrist-x      23642.0 -0.138095  0.052711 -0.298592 -0.169270 -0.148965   \n",
       "left_wrist-y      23642.0 -0.202074  0.121550 -0.579556 -0.268119 -0.201614   \n",
       "right_wrist-x     23642.0 -0.143623  0.041687 -0.266704 -0.170126 -0.147890   \n",
       "right_wrist-y     23642.0 -0.157725  0.101256 -0.567590 -0.199620 -0.140939   \n",
       "left_hip-x        23642.0  0.002196  0.002038 -0.009743  0.000927  0.002015   \n",
       "left_hip-y        23642.0 -0.019586  0.038389 -0.089966 -0.053183 -0.031724   \n",
       "right_hip-x       23642.0 -0.002196  0.002038 -0.011939 -0.003353 -0.002016   \n",
       "right_hip-y       23642.0  0.019586  0.038389 -0.087779 -0.017051  0.031724   \n",
       "left_knee-x       23642.0  0.126677  0.020623 -0.088841  0.113912  0.123440   \n",
       "left_knee-y       23642.0 -0.135718  0.055446 -0.486933 -0.171206 -0.143973   \n",
       "right_knee-x      23642.0  0.117112  0.018620 -0.117657  0.105303  0.114050   \n",
       "right_knee-y      23642.0  0.013627  0.051557 -0.308054 -0.016190  0.018073   \n",
       "left_ankle-x      23642.0  0.269949  0.036785 -0.031853  0.246020  0.266175   \n",
       "left_ankle-y      23642.0 -0.123775  0.069409 -0.547651 -0.168451 -0.137078   \n",
       "right_ankle-x     23642.0  0.229317  0.041961 -0.035227  0.199803  0.225653   \n",
       "right_ankle-y     23642.0  0.102325  0.069603 -0.547769  0.063097  0.098940   \n",
       "angle-left-arm    23642.0  1.600247  0.596957  0.002913  1.266579  1.464510   \n",
       "angle-right-arm   23642.0  1.652355  0.672801  0.000456  1.215793  1.607339   \n",
       "\n",
       "                       75%       max  \n",
       "nose-x           -0.202192  0.361919  \n",
       "nose-y           -0.101649  0.475557  \n",
       "left_eye-x       -0.213395  0.359797  \n",
       "left_eye-y       -0.096620  0.477576  \n",
       "right_eye-x      -0.214672  0.359336  \n",
       "right_eye-y      -0.093929  0.475477  \n",
       "left_ear-x       -0.214035  0.366997  \n",
       "left_ear-y       -0.044005  0.474723  \n",
       "right_ear-x      -0.217955  0.363357  \n",
       "right_ear-y      -0.044110  0.473494  \n",
       "left_shoulder-x  -0.156358  0.134826  \n",
       "left_shoulder-y   0.033140  0.454677  \n",
       "right_shoulder-x -0.165589  0.152549  \n",
       "right_shoulder-y  0.029501  0.432912  \n",
       "left_elbow-x     -0.067347  0.172872  \n",
       "left_elbow-y     -0.017825  0.455919  \n",
       "right_elbow-x    -0.092864  0.167001  \n",
       "right_elbow-y     0.008660  0.453781  \n",
       "left_wrist-x     -0.115997  0.379429  \n",
       "left_wrist-y     -0.114370  0.444129  \n",
       "right_wrist-x    -0.123651  0.374958  \n",
       "right_wrist-y    -0.096486  0.439304  \n",
       "left_hip-x        0.003353  0.011939  \n",
       "left_hip-y        0.017051  0.087779  \n",
       "right_hip-x      -0.000927  0.009743  \n",
       "right_hip-y       0.053183  0.089966  \n",
       "left_knee-x       0.135096  0.194644  \n",
       "left_knee-y      -0.113594  0.155232  \n",
       "right_knee-x      0.124102  0.191456  \n",
       "right_knee-y      0.048338  0.324813  \n",
       "left_ankle-x      0.284942  0.382967  \n",
       "left_ankle-y     -0.095393  0.373388  \n",
       "right_ankle-x     0.252935  0.374217  \n",
       "right_ankle-y     0.141641  0.381425  \n",
       "angle-left-arm    1.726007  3.141342  \n",
       "angle-right-arm   2.109702  3.141593  "
      ]
     },
     "execution_count": 11,
     "metadata": {},
     "output_type": "execute_result"
    }
   ],
   "source": [
    "df = pd.DataFrame(data=X_train, columns=feature_names)\n",
    "df.describe().transpose()"
   ]
  },
  {
   "cell_type": "code",
   "execution_count": 12,
   "metadata": {
    "gradient": {
     "editing": false,
     "execution_count": 25,
     "id": "ddceac92-2a81-482c-a2eb-dd19d776106f",
     "kernelId": "1575c96a-5826-4c69-b3dd-9e87d0c84bf7"
    },
    "scrolled": true
   },
   "outputs": [
    {
     "data": {
      "image/png": "[encoded data removed]",
      "text/plain": [
       "<Figure size 1152x720 with 1 Axes>"
      ]
     },
     "metadata": {},
     "output_type": "display_data"
    }
   ],
   "source": [
    "sns.set_theme()\n",
    "\n",
    "plt.figure(figsize=(16, 10))\n",
    "ax = sns.violinplot(data=df)\n",
    "ax.set_title('Значения по ключевым точкам', fontsize=18)\n",
    "_ = ax.set_xticklabels(df.keys(), rotation=45)\n",
    "plt.savefig(BASE_DIR.joinpath('imgs', 'boxplot_keypoints.png'))\n",
    "plt.show()"
   ]
  },
  {
   "cell_type": "code",
   "execution_count": 13,
   "metadata": {
    "gradient": {
     "editing": false,
     "execution_count": 26,
     "id": "a372a6f9-73e2-441c-85c4-795a719178fc",
     "kernelId": "1575c96a-5826-4c69-b3dd-9e87d0c84bf7"
    }
   },
   "outputs": [
    {
     "name": "stdout",
     "output_type": "stream",
     "text": [
      "788\n",
      "247\n"
     ]
    }
   ],
   "source": [
    "time_steps=30 # expect camera 30 fps, so process 1 sample per second\n",
    "# Number of samples in batch\n",
    "N_train = X_train.shape[0] // time_steps\n",
    "N_val = X_val.shape[0] // time_steps\n",
    "\n",
    "print(N_train)\n",
    "print(N_val)"
   ]
  },
  {
   "cell_type": "code",
   "execution_count": 14,
   "metadata": {
    "gradient": {
     "editing": false,
     "execution_count": 27,
     "id": "7e8b2b31-fe0c-445e-8c87-274d4fab3216",
     "kernelId": "1575c96a-5826-4c69-b3dd-9e87d0c84bf7"
    }
   },
   "outputs": [
    {
     "name": "stdout",
     "output_type": "stream",
     "text": [
      "(788, 30, 36)\n",
      "(244, 30, 36)\n"
     ]
    }
   ],
   "source": [
    "X_train = X_train[:N_train*time_steps].reshape(-1, time_steps, 36)\n",
    "y_train = y_train[:N_train*time_steps].reshape(-1, time_steps, 1)\n",
    "\n",
    "X_val = X_val[:N_val*time_steps].reshape(-1, time_steps, 36)[:-3]\n",
    "y_val = y_val[:N_val*time_steps].reshape(-1, time_steps, 1)[:-3]\n",
    "\n",
    "print(X_train.shape)\n",
    "print(X_val.shape)"
   ]
  },
  {
   "cell_type": "markdown",
   "metadata": {
    "gradient": {
     "editing": false,
     "id": "8246ed18-8a01-44e1-a244-144e69a7e073",
     "kernelId": "1575c96a-5826-4c69-b3dd-9e87d0c84bf7"
    }
   },
   "source": [
    "## LSTM"
   ]
  },
  {
   "cell_type": "code",
   "execution_count": 15,
   "metadata": {
    "gradient": {
     "editing": false,
     "execution_count": 28,
     "id": "fbacda46-d096-4e25-8c76-b774465fd2c7",
     "kernelId": "1575c96a-5826-4c69-b3dd-9e87d0c84bf7"
    },
    "scrolled": true
   },
   "outputs": [
    {
     "name": "stderr",
     "output_type": "stream",
     "text": [
      "2022-03-09 21:57:56.825446: I tensorflow/core/platform/cpu_feature_guard.cc:142] This TensorFlow binary is optimized with oneAPI Deep Neural Network Library (oneDNN)to use the following CPU instructions in performance-critical operations:  AVX2 FMA\n",
      "To enable them in other operations, rebuild TensorFlow with the appropriate compiler flags.\n",
      "2022-03-09 21:57:56.862396: I tensorflow/core/platform/profile_utils/cpu_utils.cc:104] CPU Frequency: 2295490000 Hz\n",
      "2022-03-09 21:57:56.862933: I tensorflow/compiler/xla/service/service.cc:168] XLA service 0x6421aa0 initialized for platform Host (this does not guarantee that XLA will be used). Devices:\n",
      "2022-03-09 21:57:56.862956: I tensorflow/compiler/xla/service/service.cc:176]   StreamExecutor device (0): Host, Default Version\n",
      "2022-03-09 21:57:56.950851: I tensorflow/stream_executor/cuda/cuda_gpu_executor.cc:982] successful NUMA node read from SysFS had negative value (-1), but there must be at least one NUMA node, so returning NUMA node zero\n",
      "2022-03-09 21:57:56.951280: I tensorflow/compiler/xla/service/service.cc:168] XLA service 0x69b0d20 initialized for platform CUDA (this does not guarantee that XLA will be used). Devices:\n",
      "2022-03-09 21:57:56.951298: I tensorflow/compiler/xla/service/service.cc:176]   StreamExecutor device (0): NVIDIA GeForce GTX 1650, Compute Capability 7.5\n",
      "2022-03-09 21:57:56.951838: I tensorflow/stream_executor/cuda/cuda_gpu_executor.cc:982] successful NUMA node read from SysFS had negative value (-1), but there must be at least one NUMA node, so returning NUMA node zero\n",
      "2022-03-09 21:57:56.952285: I tensorflow/core/common_runtime/gpu/gpu_device.cc:1716] Found device 0 with properties: \n",
      "pciBusID: 0000:01:00.0 name: NVIDIA GeForce GTX 1650 computeCapability: 7.5\n",
      "coreClock: 1.515GHz coreCount: 14 deviceMemorySize: 3.82GiB deviceMemoryBandwidth: 178.84GiB/s\n",
      "2022-03-09 21:57:56.952334: I tensorflow/stream_executor/platform/default/dso_loader.cc:48] Successfully opened dynamic library libcudart.so.10.1\n",
      "2022-03-09 21:57:56.952360: I tensorflow/stream_executor/platform/default/dso_loader.cc:48] Successfully opened dynamic library libcublas.so.10\n",
      "2022-03-09 21:57:56.952377: I tensorflow/stream_executor/platform/default/dso_loader.cc:48] Successfully opened dynamic library libcufft.so.10\n",
      "2022-03-09 21:57:56.952393: I tensorflow/stream_executor/platform/default/dso_loader.cc:48] Successfully opened dynamic library libcurand.so.10\n",
      "2022-03-09 21:57:56.952409: I tensorflow/stream_executor/platform/default/dso_loader.cc:48] Successfully opened dynamic library libcusolver.so.10\n",
      "2022-03-09 21:57:56.952425: I tensorflow/stream_executor/platform/default/dso_loader.cc:48] Successfully opened dynamic library libcusparse.so.10\n",
      "2022-03-09 21:57:56.952441: I tensorflow/stream_executor/platform/default/dso_loader.cc:48] Successfully opened dynamic library libcudnn.so.7\n",
      "2022-03-09 21:57:56.952518: I tensorflow/stream_executor/cuda/cuda_gpu_executor.cc:982] successful NUMA node read from SysFS had negative value (-1), but there must be at least one NUMA node, so returning NUMA node zero\n",
      "2022-03-09 21:57:56.952986: I tensorflow/stream_executor/cuda/cuda_gpu_executor.cc:982] successful NUMA node read from SysFS had negative value (-1), but there must be at least one NUMA node, so returning NUMA node zero\n",
      "2022-03-09 21:57:56.953388: I tensorflow/core/common_runtime/gpu/gpu_device.cc:1858] Adding visible gpu devices: 0\n",
      "2022-03-09 21:57:56.953694: I tensorflow/stream_executor/platform/default/dso_loader.cc:48] Successfully opened dynamic library libcudart.so.10.1\n",
      "2022-03-09 21:57:57.840075: I tensorflow/core/common_runtime/gpu/gpu_device.cc:1257] Device interconnect StreamExecutor with strength 1 edge matrix:\n",
      "2022-03-09 21:57:57.840116: I tensorflow/core/common_runtime/gpu/gpu_device.cc:1263]      0 \n",
      "2022-03-09 21:57:57.840123: I tensorflow/core/common_runtime/gpu/gpu_device.cc:1276] 0:   N \n",
      "2022-03-09 21:57:57.840818: I tensorflow/stream_executor/cuda/cuda_gpu_executor.cc:982] successful NUMA node read from SysFS had negative value (-1), but there must be at least one NUMA node, so returning NUMA node zero\n",
      "2022-03-09 21:57:57.841288: I tensorflow/stream_executor/cuda/cuda_gpu_executor.cc:982] successful NUMA node read from SysFS had negative value (-1), but there must be at least one NUMA node, so returning NUMA node zero\n",
      "2022-03-09 21:57:57.841647: I tensorflow/core/common_runtime/gpu/gpu_device.cc:1402] Created TensorFlow device (/job:localhost/replica:0/task:0/device:GPU:0 with 1024 MB memory) -> physical GPU (device: 0, name: NVIDIA GeForce GTX 1650, pci bus id: 0000:01:00.0, compute capability: 7.5)\n"
     ]
    }
   ],
   "source": [
    "y_train = K.utils.to_categorical(y_train, num_classes=13)\n",
    "X_train = tf.constant(X_train)\n",
    "\n",
    "y_val = K.utils.to_categorical(y_val, num_classes=13)\n",
    "X_val = tf.constant(X_val)"
   ]
  },
  {
   "cell_type": "code",
   "execution_count": 46,
   "metadata": {
    "gradient": {
     "editing": false,
     "execution_count": 29,
     "id": "65b22874-a30f-43cb-897d-e36445412096",
     "kernelId": "1575c96a-5826-4c69-b3dd-9e87d0c84bf7"
    }
   },
   "outputs": [],
   "source": [
    "def model_builder(hp):\n",
    "    # Hyperparams\n",
    "    # lstm layer\n",
    "    hp_ru = hp.Int('recurrent_units', min_value=128, max_value=256, step=32)\n",
    "    hp_kernel_reg = hp.Float('kernel_reg', min_value=1e-6, max_value=1e-3, sampling='log')\n",
    "    hp_recur_reg = hp.Float('recur_reg', min_value=1e-6, max_value=1e-3, sampling='log')\n",
    "    hp_act_reg = hp.Float('act_reg', min_value=1e-6, max_value=1e-3, sampling='log')\n",
    "    hp_dp = hp.Float('lstm_dp', min_value=0., max_value=0.4)\n",
    "    hp_rec_dp = hp.Float('rec_dropout', min_value=0., max_value=0.4)\n",
    "    \n",
    "    # dense layers\n",
    "    hp_du = hp.Int('units', min_value=64, max_value=256, step=32)\n",
    "    hp_reg = hp.Float('dense_reg', min_value=1e-6, max_value=1e-3)\n",
    "    hp_dl_dp = hp.Float('dropout', min_value=0., max_value=0.4)\n",
    "    \n",
    "    # Model\n",
    "    model = K.Sequential([\n",
    "        K.layers.InputLayer((30, 36), batch_size=4),\n",
    "        K.layers.LayerNormalization(axis=1),\n",
    "        K.layers.LSTM(hp_ru,\n",
    "                           stateful=True, # mutable states not supported in tflite \n",
    "                           return_sequences=True,\n",
    "                           kernel_regularizer=K.regularizers.l2(hp_kernel_reg),\n",
    "                           recurrent_regularizer=K.regularizers.l2(hp_recur_reg),\n",
    "                           activity_regularizer=K.regularizers.l2(hp_act_reg),\n",
    "                           dropout=hp_dp,\n",
    "                           recurrent_dropout=hp_rec_dp\n",
    "                     ),\n",
    "        K.layers.LayerNormalization(axis=1),\n",
    "        K.layers.Dense(hp_du, activation='relu',\n",
    "                            kernel_regularizer=K.regularizers.l2(hp_reg)),\n",
    "        K.layers.Dropout(hp_dl_dp),\n",
    "        K.layers.LayerNormalization(axis=1),\n",
    "        K.layers.Dense(13, activation='softmax')\n",
    "    ])\n",
    "    \n",
    "    model.compile(optimizer='adam',\n",
    "                  loss='categorical_crossentropy',\n",
    "                  metrics=['accuracy'])\n",
    "    \n",
    "    return model"
   ]
  },
  {
   "cell_type": "code",
   "execution_count": 47,
   "metadata": {
    "gradient": {
     "editing": false,
     "execution_count": 30,
     "id": "9b41d133-232b-4c2e-8ce3-cc7c1e8e66c0",
     "kernelId": "1575c96a-5826-4c69-b3dd-9e87d0c84bf7"
    },
    "scrolled": true
   },
   "outputs": [
    {
     "name": "stdout",
     "output_type": "stream",
     "text": [
      "Trial 91 Complete [00h 05m 52s]\n",
      "val_accuracy: 0.5734972953796387\n",
      "\n",
      "Best val_accuracy So Far: 0.5734972953796387\n",
      "Total elapsed time: 01h 52m 17s\n",
      "INFO:tensorflow:Oracle triggered exit\n"
     ]
    }
   ],
   "source": [
    "tuner = kt.Hyperband(model_builder,\n",
    "                     objective='val_accuracy',\n",
    "                     max_epochs=32,\n",
    "                     directory=BASE_DIR.joinpath('kt_dir'),\n",
    "                     project_name=BASE_DIR.joinpath('punch_dl_kt_lstm'))\n",
    "\n",
    "stop_early = K.callbacks.EarlyStopping(monitor='val_loss', patience=3)\n",
    "\n",
    "tuner.search(X_train, y_train, batch_size=4, validation_data=(X_val, y_val), epochs=32, shuffle=False, callbacks=[stop_early])"
   ]
  },
  {
   "cell_type": "code",
   "execution_count": 48,
   "metadata": {
    "gradient": {
     "editing": false,
     "execution_count": 31,
     "id": "6f823200-4d48-4c21-a26b-44c9287bda31",
     "kernelId": "1575c96a-5826-4c69-b3dd-9e87d0c84bf7"
    }
   },
   "outputs": [
    {
     "data": {
      "text/plain": [
       "{'recurrent_units': 128,\n",
       " 'kernel_reg': 7.587187772196259e-06,\n",
       " 'recur_reg': 3.585696719190882e-05,\n",
       " 'act_reg': 0.0002989734747013008,\n",
       " 'lstm_dp': 0.18880437192013716,\n",
       " 'rec_dropout': 0.24741230808253367,\n",
       " 'units': 224,\n",
       " 'dense_reg': 0.0004094004870361379,\n",
       " 'dropout': 0.3953466674576018,\n",
       " 'tuner/epochs': 32,\n",
       " 'tuner/initial_epoch': 0,\n",
       " 'tuner/bracket': 0,\n",
       " 'tuner/round': 0}"
      ]
     },
     "execution_count": 48,
     "metadata": {},
     "output_type": "execute_result"
    }
   ],
   "source": [
    "# Get the optimal hyperparameters\n",
    "best_hps=tuner.get_best_hyperparameters(num_trials=1)[0]\n",
    "\n",
    "best_hps.values"
   ]
  },
  {
   "cell_type": "code",
   "execution_count": 49,
   "metadata": {
    "gradient": {
     "editing": false,
     "execution_count": 33,
     "id": "2a5bc5b8-2712-4fae-ab99-8cdbe42964f8",
     "kernelId": "1575c96a-5826-4c69-b3dd-9e87d0c84bf7"
    },
    "scrolled": true
   },
   "outputs": [
    {
     "name": "stdout",
     "output_type": "stream",
     "text": [
      "WARNING:tensorflow:Layer lstm_1 will not use cuDNN kernel since it doesn't meet the cuDNN kernel criteria. It will use generic GPU kernel as fallback when running on GPU\n",
      "Epoch 1/64\n",
      "197/197 [==============================] - 14s 70ms/step - loss: 2.5047 - accuracy: 0.3844 - val_loss: 2.2966 - val_accuracy: 0.4236\n",
      "Epoch 2/64\n",
      "197/197 [==============================] - 14s 72ms/step - loss: 2.0704 - accuracy: 0.4772 - val_loss: 2.0432 - val_accuracy: 0.4497\n",
      "Epoch 3/64\n",
      "197/197 [==============================] - 14s 70ms/step - loss: 1.9661 - accuracy: 0.4915 - val_loss: 1.9540 - val_accuracy: 0.4615\n",
      "Epoch 4/64\n",
      "197/197 [==============================] - 13s 67ms/step - loss: 1.8922 - accuracy: 0.5031 - val_loss: 1.9490 - val_accuracy: 0.4648\n",
      "Epoch 5/64\n",
      "197/197 [==============================] - 14s 69ms/step - loss: 1.8504 - accuracy: 0.5104 - val_loss: 1.8976 - val_accuracy: 0.4751\n",
      "Epoch 6/64\n",
      "197/197 [==============================] - 14s 72ms/step - loss: 1.8139 - accuracy: 0.5161 - val_loss: 1.8988 - val_accuracy: 0.4754\n",
      "Epoch 7/64\n",
      "197/197 [==============================] - 14s 69ms/step - loss: 1.7746 - accuracy: 0.5266 - val_loss: 1.8851 - val_accuracy: 0.4784\n",
      "Epoch 8/64\n",
      "197/197 [==============================] - 14s 71ms/step - loss: 1.7426 - accuracy: 0.5313 - val_loss: 1.9036 - val_accuracy: 0.4760\n",
      "Epoch 9/64\n",
      "197/197 [==============================] - 14s 72ms/step - loss: 1.7118 - accuracy: 0.5392 - val_loss: 1.9240 - val_accuracy: 0.4790\n",
      "Epoch 10/64\n",
      "197/197 [==============================] - 14s 72ms/step - loss: 1.6876 - accuracy: 0.5492 - val_loss: 1.9464 - val_accuracy: 0.4717\n",
      "Epoch 11/64\n",
      "197/197 [==============================] - 13s 68ms/step - loss: 1.6583 - accuracy: 0.5503 - val_loss: 1.9465 - val_accuracy: 0.4813\n",
      "Epoch 12/64\n",
      "197/197 [==============================] - 13s 68ms/step - loss: 1.6281 - accuracy: 0.5585 - val_loss: 1.9335 - val_accuracy: 0.4781\n",
      "Epoch 13/64\n",
      "197/197 [==============================] - 14s 69ms/step - loss: 1.6018 - accuracy: 0.5687 - val_loss: 1.9189 - val_accuracy: 0.4881\n",
      "Epoch 14/64\n",
      "197/197 [==============================] - 14s 70ms/step - loss: 1.5792 - accuracy: 0.5707 - val_loss: 2.0521 - val_accuracy: 0.4743\n",
      "Epoch 15/64\n",
      "197/197 [==============================] - 13s 68ms/step - loss: 1.5526 - accuracy: 0.5762 - val_loss: 1.8944 - val_accuracy: 0.5000\n",
      "Epoch 16/64\n",
      "197/197 [==============================] - 14s 71ms/step - loss: 1.5173 - accuracy: 0.5908 - val_loss: 1.8784 - val_accuracy: 0.5120\n",
      "Epoch 17/64\n",
      "197/197 [==============================] - 14s 69ms/step - loss: 1.4875 - accuracy: 0.5964 - val_loss: 1.8401 - val_accuracy: 0.5205\n",
      "Epoch 18/64\n",
      "197/197 [==============================] - 14s 70ms/step - loss: 1.4692 - accuracy: 0.6018 - val_loss: 1.8798 - val_accuracy: 0.5208\n",
      "Epoch 19/64\n",
      "197/197 [==============================] - 14s 73ms/step - loss: 1.4436 - accuracy: 0.6069 - val_loss: 1.8451 - val_accuracy: 0.5251\n",
      "Epoch 20/64\n",
      "197/197 [==============================] - 13s 67ms/step - loss: 1.4092 - accuracy: 0.6186 - val_loss: 1.8131 - val_accuracy: 0.5387\n",
      "Epoch 21/64\n",
      "197/197 [==============================] - 14s 69ms/step - loss: 1.3697 - accuracy: 0.6310 - val_loss: 1.8228 - val_accuracy: 0.5429\n",
      "Epoch 22/64\n",
      "197/197 [==============================] - 14s 71ms/step - loss: 1.3503 - accuracy: 0.6379 - val_loss: 1.8351 - val_accuracy: 0.5455\n",
      "Epoch 23/64\n",
      "197/197 [==============================] - 14s 70ms/step - loss: 1.3290 - accuracy: 0.6450 - val_loss: 1.7682 - val_accuracy: 0.5449\n",
      "Epoch 24/64\n",
      "197/197 [==============================] - 14s 70ms/step - loss: 1.2908 - accuracy: 0.6525 - val_loss: 1.7928 - val_accuracy: 0.5586\n",
      "Epoch 25/64\n",
      "197/197 [==============================] - 14s 70ms/step - loss: 1.2705 - accuracy: 0.6594 - val_loss: 1.7782 - val_accuracy: 0.5589\n",
      "Epoch 26/64\n",
      "197/197 [==============================] - 13s 67ms/step - loss: 1.2591 - accuracy: 0.6641 - val_loss: 1.7919 - val_accuracy: 0.5631\n",
      "Epoch 27/64\n",
      "197/197 [==============================] - 14s 69ms/step - loss: 1.2247 - accuracy: 0.6712 - val_loss: 1.7927 - val_accuracy: 0.5687\n",
      "Epoch 28/64\n",
      "197/197 [==============================] - 14s 73ms/step - loss: 1.1965 - accuracy: 0.6846 - val_loss: 1.7844 - val_accuracy: 0.5720\n",
      "Epoch 29/64\n",
      "197/197 [==============================] - 14s 69ms/step - loss: 1.1890 - accuracy: 0.6887 - val_loss: 1.7517 - val_accuracy: 0.5717\n",
      "Epoch 30/64\n",
      "197/197 [==============================] - 14s 71ms/step - loss: 1.1548 - accuracy: 0.6945 - val_loss: 1.7296 - val_accuracy: 0.5764\n",
      "Epoch 31/64\n",
      "197/197 [==============================] - 14s 73ms/step - loss: 1.1311 - accuracy: 0.7052 - val_loss: 1.7170 - val_accuracy: 0.5745\n",
      "Epoch 32/64\n",
      "197/197 [==============================] - 14s 71ms/step - loss: 1.1106 - accuracy: 0.7116 - val_loss: 1.9052 - val_accuracy: 0.5721\n",
      "Epoch 33/64\n",
      "197/197 [==============================] - 14s 70ms/step - loss: 1.0918 - accuracy: 0.7139 - val_loss: 1.7815 - val_accuracy: 0.5827\n",
      "Epoch 34/64\n",
      "197/197 [==============================] - 14s 71ms/step - loss: 1.0821 - accuracy: 0.7201 - val_loss: 1.7494 - val_accuracy: 0.5811\n",
      "Epoch 35/64\n",
      "197/197 [==============================] - 14s 72ms/step - loss: 1.0542 - accuracy: 0.7300 - val_loss: 1.8484 - val_accuracy: 0.5889\n",
      "Epoch 36/64\n",
      "197/197 [==============================] - 14s 71ms/step - loss: 1.0587 - accuracy: 0.7323 - val_loss: 1.7620 - val_accuracy: 0.5941\n",
      "Epoch 37/64\n",
      "197/197 [==============================] - 14s 72ms/step - loss: 1.0375 - accuracy: 0.7356 - val_loss: 1.8170 - val_accuracy: 0.5892\n",
      "Epoch 38/64\n",
      "197/197 [==============================] - 14s 71ms/step - loss: 1.0070 - accuracy: 0.7463 - val_loss: 1.8721 - val_accuracy: 0.5906\n",
      "Epoch 39/64\n",
      "197/197 [==============================] - 14s 70ms/step - loss: 0.9920 - accuracy: 0.7480 - val_loss: 1.8949 - val_accuracy: 0.5917\n",
      "Epoch 40/64\n",
      "197/197 [==============================] - 13s 68ms/step - loss: 0.9763 - accuracy: 0.7528 - val_loss: 1.8756 - val_accuracy: 0.6046\n",
      "Epoch 41/64\n",
      "197/197 [==============================] - 13s 68ms/step - loss: 0.9628 - accuracy: 0.7579 - val_loss: 1.8889 - val_accuracy: 0.5977\n",
      "Epoch 42/64\n",
      "197/197 [==============================] - 14s 70ms/step - loss: 0.9919 - accuracy: 0.7335 - val_loss: 1.7077 - val_accuracy: 0.6135\n",
      "Epoch 43/64\n",
      "197/197 [==============================] - 14s 71ms/step - loss: 0.9274 - accuracy: 0.7636 - val_loss: 1.6793 - val_accuracy: 0.6139\n",
      "Epoch 44/64\n",
      "197/197 [==============================] - 14s 70ms/step - loss: 0.8877 - accuracy: 0.7760 - val_loss: 1.6774 - val_accuracy: 0.6124\n",
      "Epoch 45/64\n",
      "197/197 [==============================] - 13s 69ms/step - loss: 0.8801 - accuracy: 0.7808 - val_loss: 1.6784 - val_accuracy: 0.6142\n",
      "Epoch 46/64\n",
      "197/197 [==============================] - 14s 71ms/step - loss: 0.8566 - accuracy: 0.7894 - val_loss: 1.6711 - val_accuracy: 0.6171\n",
      "Epoch 47/64\n",
      "197/197 [==============================] - 14s 71ms/step - loss: 0.8541 - accuracy: 0.7877 - val_loss: 1.6789 - val_accuracy: 0.6164\n",
      "Epoch 48/64\n",
      "197/197 [==============================] - 13s 68ms/step - loss: 0.8422 - accuracy: 0.7914 - val_loss: 1.6843 - val_accuracy: 0.6186\n",
      "Epoch 49/64\n",
      "197/197 [==============================] - 14s 71ms/step - loss: 0.8337 - accuracy: 0.7962 - val_loss: 1.6933 - val_accuracy: 0.6194\n",
      "Epoch 50/64\n",
      "197/197 [==============================] - 14s 70ms/step - loss: 0.8240 - accuracy: 0.7975 - val_loss: 1.7057 - val_accuracy: 0.6171\n",
      "Epoch 51/64\n",
      "197/197 [==============================] - 14s 72ms/step - loss: 0.8205 - accuracy: 0.8005 - val_loss: 1.7102 - val_accuracy: 0.6202\n",
      "Epoch 52/64\n",
      "197/197 [==============================] - 14s 72ms/step - loss: 0.8105 - accuracy: 0.8031 - val_loss: 1.7159 - val_accuracy: 0.6227\n",
      "Epoch 53/64\n",
      "197/197 [==============================] - 14s 70ms/step - loss: 0.8052 - accuracy: 0.8030 - val_loss: 1.7229 - val_accuracy: 0.6213\n",
      "Epoch 54/64\n",
      "197/197 [==============================] - 14s 73ms/step - loss: 0.8046 - accuracy: 0.8023 - val_loss: 1.7068 - val_accuracy: 0.6243\n",
      "Epoch 55/64\n",
      "197/197 [==============================] - 13s 68ms/step - loss: 0.7946 - accuracy: 0.8063 - val_loss: 1.7235 - val_accuracy: 0.6214\n",
      "Epoch 56/64\n",
      "197/197 [==============================] - 12s 63ms/step - loss: 0.7959 - accuracy: 0.8072 - val_loss: 1.7338 - val_accuracy: 0.6197\n",
      "Epoch 57/64\n",
      "197/197 [==============================] - 13s 64ms/step - loss: 0.7845 - accuracy: 0.8123 - val_loss: 1.7326 - val_accuracy: 0.6201\n",
      "Epoch 58/64\n",
      "197/197 [==============================] - 13s 66ms/step - loss: 0.7846 - accuracy: 0.8131 - val_loss: 1.7338 - val_accuracy: 0.6193\n",
      "Epoch 59/64\n",
      "197/197 [==============================] - 13s 67ms/step - loss: 0.7776 - accuracy: 0.8117 - val_loss: 1.7318 - val_accuracy: 0.6204\n",
      "Epoch 60/64\n",
      "197/197 [==============================] - 13s 67ms/step - loss: 0.7842 - accuracy: 0.8134 - val_loss: 1.7323 - val_accuracy: 0.6205\n",
      "Epoch 61/64\n",
      "197/197 [==============================] - 14s 73ms/step - loss: 0.7760 - accuracy: 0.8159 - val_loss: 1.7346 - val_accuracy: 0.6195\n",
      "Epoch 62/64\n",
      "197/197 [==============================] - 12s 62ms/step - loss: 0.7727 - accuracy: 0.8153 - val_loss: 1.7342 - val_accuracy: 0.6199\n",
      "Epoch 63/64\n",
      "197/197 [==============================] - 14s 69ms/step - loss: 0.7706 - accuracy: 0.8164 - val_loss: 1.7353 - val_accuracy: 0.6201\n",
      "Epoch 64/64\n",
      "197/197 [==============================] - 14s 71ms/step - loss: 0.7760 - accuracy: 0.8137 - val_loss: 1.7347 - val_accuracy: 0.6199\n",
      "Best epoch: 54\n"
     ]
    }
   ],
   "source": [
    "# Build the model with the optimal hyperparameters and train it on the data for 64 epochs\n",
    "model = tuner.hypermodel.build(best_hps)\n",
    "history = model.fit(X_train, y_train, batch_size=4,\n",
    "                    validation_data=(X_val, y_val),\n",
    "                    epochs=64,\n",
    "                    shuffle=False,\n",
    "                    callbacks=[\n",
    "                        K.callbacks.ReduceLROnPlateau(),\n",
    "                        K.callbacks.ModelCheckpoint(filepath='checkpoints/lstm', save_weights_only=True),\n",
    "                        K.callbacks.EarlyStopping(monitor='loss', patience=3, restore_best_weights=True)\n",
    "                    ])\n",
    "\n",
    "val_acc_per_epoch = history.history['val_accuracy']\n",
    "best_epoch = val_acc_per_epoch.index(max(val_acc_per_epoch)) + 1\n",
    "print('Best epoch: %d' % (best_epoch,))"
   ]
  },
  {
   "cell_type": "code",
   "execution_count": 64,
   "metadata": {
    "gradient": {
     "editing": false,
     "execution_count": 34,
     "id": "589041a8-92b6-4c4c-92e7-915ef4c049a7",
     "kernelId": "1575c96a-5826-4c69-b3dd-9e87d0c84bf7"
    }
   },
   "outputs": [
    {
     "data": {
      "image/png": "[encoded data removed]",
      "text/plain": [
       "<Figure size 1080x504 with 2 Axes>"
      ]
     },
     "metadata": {},
     "output_type": "display_data"
    }
   ],
   "source": [
    "plt.figure(figsize=(15, 7))\n",
    "plt.subplot(221)\n",
    "plt.title('Train Loss', fontsize=18)\n",
    "plt.plot(history.history['loss'], label='train loss')\n",
    "xticks1 = plt.xticks([i - 0.5 for i in range(len(history.history['loss']))],\n",
    "           [f'Epoch {i + 1}' for i in range(len(history.history['loss']))], rotation=45)\n",
    "\n",
    "for i, label in enumerate(xticks1[0]):\n",
    "    if i % 4 == 0:\n",
    "        pass\n",
    "    else:\n",
    "        label.set_visible(False)\n",
    "\n",
    "plt.legend()\n",
    "plt.subplot(222)\n",
    "plt.title('Train/validation accuracy', fontsize=18)\n",
    "plt.plot(history.history['accuracy'], label='train accuracy')\n",
    "plt.plot(history.history['val_accuracy'], label='validation accuracy')\n",
    "xticks2 = plt.xticks([i - 0.5 for i in range(len(history.history['loss']))],\n",
    "           [f'Epoch {i + 1}' for i in range(len(history.history['loss']))], rotation=45)\n",
    "\n",
    "for i, label in enumerate(xticks2[0]):\n",
    "    if i % 4 == 0:\n",
    "        pass\n",
    "    else:\n",
    "        label.set_visible(False)\n",
    "\n",
    "plt.legend()\n",
    "plt.savefig(BASE_DIR.joinpath('imgs', 'lstm_with_angles_kt_loss_and_acc.png'))\n",
    "plt.show()"
   ]
  },
  {
   "cell_type": "markdown",
   "metadata": {
    "gradient": {
     "editing": false,
     "id": "42403960-e9a4-413b-b92d-97506bffd682",
     "kernelId": "1575c96a-5826-4c69-b3dd-9e87d0c84bf7"
    }
   },
   "source": [
    "# Save model"
   ]
  },
  {
   "cell_type": "code",
   "execution_count": 55,
   "metadata": {
    "gradient": {
     "editing": false,
     "execution_count": 37,
     "id": "70f0a1ce-440a-46f8-9b30-2c028b25427d",
     "kernelId": "1575c96a-5826-4c69-b3dd-9e87d0c84bf7"
    },
    "pycharm": {
     "name": "#%%\n"
    }
   },
   "outputs": [
    {
     "name": "stdout",
     "output_type": "stream",
     "text": [
      "WARNING:tensorflow:From /home/andrew/.virtualenvs/opencv-env/lib/python3.8/site-packages/tensorflow/python/training/tracking/tracking.py:111: Model.state_updates (from tensorflow.python.keras.engine.training) is deprecated and will be removed in a future version.\n",
      "Instructions for updating:\n",
      "This property should not be used in TensorFlow 2.0, as updates are applied automatically.\n",
      "WARNING:tensorflow:From /home/andrew/.virtualenvs/opencv-env/lib/python3.8/site-packages/tensorflow/python/keras/engine/training.py:2307: Layer.updates (from tensorflow.python.keras.engine.base_layer) is deprecated and will be removed in a future version.\n",
      "Instructions for updating:\n",
      "This property should not be used in TensorFlow 2.0, as updates are applied automatically.\n"
     ]
    },
    {
     "name": "stderr",
     "output_type": "stream",
     "text": [
      "2022-03-10 00:34:07.293652: W tensorflow/python/util/util.cc:348] Sets are not currently considered sequences, but this may change in the future, so consider avoiding using them.\n"
     ]
    },
    {
     "name": "stdout",
     "output_type": "stream",
     "text": [
      "INFO:tensorflow:Assets written to: /home/andrew/Рабочий стол/Punch_DL/models/lstm__with_angles/assets\n"
     ]
    }
   ],
   "source": [
    "model.save(BASE_DIR.joinpath('models', 'lstm__with_angles'))"
   ]
  },
  {
   "cell_type": "code",
   "execution_count": null,
   "metadata": {},
   "outputs": [],
   "source": []
  }
 ],
 "metadata": {
  "kernelspec": {
   "display_name": "Python 3 (ipykernel)",
   "language": "python",
   "name": "python3"
  },
  "language_info": {
   "codemirror_mode": {
    "name": "ipython",
    "version": 3
   },
   "file_extension": ".py",
   "mimetype": "text/x-python",
   "name": "python",
   "nbconvert_exporter": "python",
   "pygments_lexer": "ipython3",
   "version": "3.8.10"
  }
 },
 "nbformat": 4,
 "nbformat_minor": 4
}