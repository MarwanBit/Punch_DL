{
 "cells": [
  {
   "cell_type": "markdown",
   "metadata": {},
   "source": [
    "# Load data"
   ]
  },
  {
   "cell_type": "code",
   "execution_count": 1,
   "metadata": {
    "scrolled": true
   },
   "outputs": [],
   "source": [
    "import re\n",
    "import os\n",
    "import random\n",
    "import numpy as np\n",
    "import matplotlib.pyplot as plt\n",
    "import pandas as pd\n",
    "import seaborn as sns\n",
    "\n",
    "import tensorflow as tf\n",
    "import tensorflow.keras as K\n",
    "import keras_tuner as kt\n",
    "\n",
    "from utils import (\n",
    "    normalize_mid_points,\n",
    "    read_data\n",
    ")"
   ]
  },
  {
   "cell_type": "code",
   "execution_count": 105,
   "metadata": {
    "pycharm": {
     "name": "#%%\n"
    }
   },
   "outputs": [],
   "source": [
    "keypoints = os.listdir('../data/keypoints')\n",
    "\n",
    "# punch types: hook, jab, uper\n",
    "keypoints_by_punch_types = [\n",
    "    [i for i in keypoints if 'hook' in i],\n",
    "    [i for i in keypoints if 'jab' in i],\n",
    "    [i for i in keypoints if 'uper' in i]\n",
    "]"
   ]
  },
  {
   "cell_type": "code",
   "execution_count": 106,
   "metadata": {
    "scrolled": true
   },
   "outputs": [
    {
     "name": "stdout",
     "output_type": "stream",
     "text": [
      "id4_hook_1|reversed: False|data shape: (1054, 36)\n",
      "--------------------\n",
      "id1_hook_2|reversed: False|data shape: (792, 36)\n",
      "--------------------\n",
      "id0_hook_2|reversed: True|data shape: (1051, 36)\n",
      "--------------------\n",
      "id0_hook_2|reversed: False|data shape: (1051, 36)\n",
      "--------------------\n",
      "id4_hook_2|reversed: False|data shape: (1059, 36)\n",
      "--------------------\n",
      "id1_hook_2|reversed: True|data shape: (792, 36)\n",
      "--------------------\n",
      "id2_hook_2|reversed: False|data shape: (1041, 36)\n",
      "--------------------\n",
      "id1_hook_1|reversed: False|data shape: (858, 36)\n",
      "--------------------\n",
      "id3_hook_2|reversed: False|data shape: (1297, 36)\n",
      "--------------------\n",
      "id4_hook_2|reversed: True|data shape: (1059, 36)\n",
      "--------------------\n",
      "id0_hook_1|reversed: False|data shape: (1100, 36)\n",
      "--------------------\n",
      "id2_hook_1|reversed: False|data shape: (1013, 36)\n",
      "--------------------\n",
      "id3_hook_2|reversed: True|data shape: (1297, 36)\n",
      "--------------------\n",
      "id2_hook_2|reversed: True|data shape: (1041, 36)\n",
      "--------------------\n",
      "id3_hook_1|reversed: False|data shape: (1461, 36)\n",
      "--------------------\n",
      "id0_jab_2|reversed: False|data shape: (993, 36)\n",
      "--------------------\n",
      "id0_jab_1|reversed: False|data shape: (952, 36)\n",
      "--------------------\n",
      "id4_jab_2|reversed: False|data shape: (964, 36)\n",
      "--------------------\n",
      "id4_jab_2|reversed: True|data shape: (964, 36)\n",
      "--------------------\n",
      "id4_jab_1|reversed: False|data shape: (911, 36)\n",
      "--------------------\n",
      "id0_jab_2|reversed: True|data shape: (993, 36)\n",
      "--------------------\n",
      "id2_jab_2|reversed: False|data shape: (1030, 36)\n",
      "--------------------\n",
      "id1_jab_2|reversed: True|data shape: (643, 36)\n",
      "--------------------\n",
      "id3_jab_1|reversed: False|data shape: (1170, 36)\n",
      "--------------------\n",
      "id1_jab_1|reversed: False|data shape: (802, 36)\n",
      "--------------------\n",
      "id2_jab_2|reversed: True|data shape: (1030, 36)\n",
      "--------------------\n",
      "id3_jab_2|reversed: True|data shape: (1164, 36)\n",
      "--------------------\n",
      "id1_jab_2|reversed: False|data shape: (643, 36)\n",
      "--------------------\n",
      "id3_jab_2|reversed: False|data shape: (1164, 36)\n",
      "--------------------\n",
      "id2_jab_1|reversed: False|data shape: (1032, 36)\n",
      "--------------------\n",
      "id2_uper_1|reversed: False|data shape: (1064, 36)\n",
      "--------------------\n",
      "id4_uper_2|reversed: False|data shape: (1157, 36)\n",
      "--------------------\n",
      "id3_uper_2|reversed: False|data shape: (1196, 36)\n",
      "--------------------\n",
      "id4_uper_1|reversed: False|data shape: (1125, 36)\n",
      "--------------------\n",
      "id4_uper_2|reversed: True|data shape: (1157, 36)\n",
      "--------------------\n",
      "id1_uper_2|reversed: False|data shape: (703, 36)\n",
      "--------------------\n",
      "id2_uper_2|reversed: False|data shape: (1033, 36)\n",
      "--------------------\n",
      "id0_uper_2|reversed: False|data shape: (1186, 36)\n",
      "--------------------\n",
      "id0_uper_2|reversed: True|data shape: (1186, 36)\n",
      "--------------------\n",
      "id3_uper_2|reversed: True|data shape: (1196, 36)\n",
      "--------------------\n",
      "id2_uper_2|reversed: True|data shape: (1033, 36)\n",
      "--------------------\n",
      "id1_uper_2|reversed: True|data shape: (703, 36)\n",
      "--------------------\n",
      "id1_uper_1|reversed: False|data shape: (746, 36)\n",
      "--------------------\n",
      "id3_uper_1|reversed: False|data shape: (1277, 36)\n",
      "--------------------\n",
      "id0_uper_1|reversed: False|data shape: (1200, 36)\n",
      "--------------------\n"
     ]
    }
   ],
   "source": [
    "X_train_list = []\n",
    "y_train_list = []\n",
    "X_val_list = []\n",
    "y_val_list = []\n",
    "\n",
    "for keypoints in keypoints_by_punch_types:\n",
    "    test_keypoints = random.choice(keypoints)\n",
    "\n",
    "    for label in [i for i in keypoints if i != test_keypoints]:\n",
    "        X, y = read_data(label, skip_midpoints=False)\n",
    "        X_train_list.append(X)\n",
    "        y_train_list.append(y)\n",
    "    \n",
    "    X, y = read_data(test_keypoints, skip_midpoints=False)\n",
    "    X_val_list.append(X)\n",
    "    y_val_list.append(y)\n",
    "\n",
    "\n",
    "X_train = np.concatenate(X_train_list)\n",
    "y_train = np.concatenate(y_train_list)\n",
    "X_val = np.concatenate(X_val_list)\n",
    "y_val = np.concatenate(y_val_list)"
   ]
  },
  {
   "cell_type": "code",
   "execution_count": 107,
   "metadata": {},
   "outputs": [
    {
     "data": {
      "text/plain": [
       "((42690, 36), (42690,), (3693, 36), (3693,))"
      ]
     },
     "execution_count": 107,
     "metadata": {},
     "output_type": "execute_result"
    }
   ],
   "source": [
    "X_train.shape, y_train.shape, X_val.shape, y_val.shape"
   ]
  },
  {
   "cell_type": "code",
   "execution_count": 108,
   "metadata": {},
   "outputs": [
    {
     "data": {
      "text/plain": [
       "((1423, 30, 36), (123, 30, 36))"
      ]
     },
     "execution_count": 108,
     "metadata": {},
     "output_type": "execute_result"
    }
   ],
   "source": [
    "time_steps=30 # expect camera 30 fps, so process 1 sample per second\n",
    "\n",
    "# Number of samples in batch\n",
    "N_train = X_train.shape[0] // time_steps \n",
    "N_val = X_val.shape[0] // time_steps\n",
    "\n",
    "X_train = X_train[:N_train*time_steps].reshape(-1, time_steps, 36)\n",
    "y_train = y_train[:N_train*time_steps].reshape(-1, time_steps, 1)\n",
    "X_val = X_val[:N_val*time_steps].reshape(-1, time_steps, 36)\n",
    "y_val = y_val[:N_val*time_steps].reshape(-1, time_steps, 1)\n",
    "X_train.shape, X_val.shape"
   ]
  },
  {
   "cell_type": "markdown",
   "metadata": {},
   "source": [
    "## CNN"
   ]
  },
  {
   "cell_type": "code",
   "execution_count": 109,
   "metadata": {
    "scrolled": true
   },
   "outputs": [],
   "source": [
    "y_train = K.utils.to_categorical(y_train, num_classes=7)\n",
    "X_train = tf.constant(X_train)\n",
    "y_val = K.utils.to_categorical(y_val, num_classes=7)\n",
    "X_val = tf.constant(X_val)"
   ]
  },
  {
   "cell_type": "code",
   "execution_count": 110,
   "metadata": {},
   "outputs": [
    {
     "data": {
      "text/plain": [
       "(TensorShape([32, 30, 36, 1]), (32, 30, 7))"
      ]
     },
     "execution_count": 110,
     "metadata": {},
     "output_type": "execute_result"
    }
   ],
   "source": [
    "X_dev = tf.expand_dims(X_train[:32], -1)\n",
    "y_dev = y_train[:32]\n",
    "\n",
    "X_dev.shape, y_dev.shape"
   ]
  },
  {
   "cell_type": "code",
   "execution_count": 112,
   "metadata": {},
   "outputs": [],
   "source": []
  },
  {
   "cell_type": "code",
   "execution_count": 198,
   "metadata": {},
   "outputs": [],
   "source": [
    "def model_builder(hp):\n",
    "    # Hyperparams\n",
    "    hp_pad = hp.Int('padding', min_value=1, max_value=4)\n",
    "    hp_filters1 = hp.Int('filters1', min_value=16, max_value=128, step=8)\n",
    "    hp_filters2 = hp.Int('filters2', min_value=16, max_value=128, step=8)\n",
    "    hp_hidden_units = hp.Int('units', min_value=16, max_value=128, step=8)\n",
    "\n",
    "    hp_learning_rate = hp.Float('learning_rate', min_value=1e-4, max_value=1e-2)\n",
    "\n",
    "    pad_1 = tf.constant([[0,0], [hp_pad, hp_pad], [0,0], [0,0]])\n",
    "    \n",
    "    inputs = K.Input(shape=(30, 36, 1))\n",
    "    # x = tf.keras.layers.LayerNormalization(axis=-2)(inputs)\n",
    "    \n",
    "    x = tf.pad(inputs, pad_1, 'CONSTANT')\n",
    "    x = K.layers.Conv2D(filters=hp_filters1, kernel_size=(1+hp_pad*2, 36))(x)\n",
    "    x = tf.squeeze(x, axis=-2)\n",
    "    \n",
    "    pad_2 = tf.constant([[0,0], [1,1], [0,0]])\n",
    "    x = tf.pad(x, pad_2, 'CONSTANT')\n",
    "    x = K.layers.Conv1D(filters=hp_filters2, kernel_size=3)(x)\n",
    "    \n",
    "    x = K.layers.Dense(hp_hidden_units, activation='relu')(x)\n",
    "    \n",
    "    out = K.layers.Dense(7, activation='softmax')(x)\n",
    "\n",
    "    model = K.Model(inputs=inputs, outputs=out, name=\"cnn_model\")\n",
    "\n",
    "    model.compile(optimizer=K.optimizers.Adam(hp_learning_rate),\n",
    "                  loss='categorical_crossentropy',\n",
    "                  metrics=['accuracy'])\n",
    "    return model"
   ]
  },
  {
   "cell_type": "code",
   "execution_count": 193,
   "metadata": {},
   "outputs": [
    {
     "data": {
      "text/plain": [
       "<KerasTensor: shape=(None, 30, 128) dtype=float32 (created by layer 'conv1d_11')>"
      ]
     },
     "execution_count": 193,
     "metadata": {},
     "output_type": "execute_result"
    }
   ],
   "source": [
    "pad_1 = tf.constant([[0,0], [1,1], [0,0], [0,0]])\n",
    "\n",
    "inputs = K.Input(shape=(30, 36, 1))\n",
    "x = tf.keras.layers.LayerNormalization(axis=-2)(inputs)\n",
    "x = tf.pad(inputs, pad_1, 'CONSTANT')\n",
    "x = K.layers.Conv2D(filters=64, kernel_size=(3, 36))(x)\n",
    "x = tf.squeeze(x, axis=-2)\n",
    "pad_2 = tf.constant([[0,0], [1,1], [0,0]])\n",
    "x = tf.pad(x, pad_2, 'CONSTANT')\n",
    "x = K.layers.Conv1D(filters=128, kernel_size=3)(x)\n",
    "x = K.layers.Dense(24, activation='relu')(x)\n",
    "out = K.layers.Dense(7, activation='softmax')(x)\n",
    " \n",
    "model = K.Model(inputs=inputs, outputs=out, name=\"cnn_model\")\n",
    "\n",
    "model.compile(optimizer=K.optimizers.Adam(),\n",
    "              loss='categorical_crossentropy',\n",
    "              metrics=['accuracy'])"
   ]
  },
  {
   "cell_type": "code",
   "execution_count": 200,
   "metadata": {},
   "outputs": [
    {
     "name": "stdout",
     "output_type": "stream",
     "text": [
      "Trial 31 Complete [00h 00m 16s]\n",
      "val_accuracy: 0.6108400821685791\n",
      "\n",
      "Best val_accuracy So Far: 0.6414633989334106\n",
      "Total elapsed time: 00h 03m 04s\n",
      "INFO:tensorflow:Oracle triggered exit\n"
     ]
    }
   ],
   "source": [
    "tuner = kt.Hyperband(model_builder,\n",
    "                     objective='val_accuracy',\n",
    "                     max_epochs=20,\n",
    "                     directory='kt_dir2',\n",
    "                     project_name='punch_dl_kt')\n",
    "\n",
    "stop_early = tf.keras.callbacks.EarlyStopping(monitor='val_loss', patience=8)\n",
    "\n",
    "tuner.search(X_train, y_train, batch_size=4, validation_data=(X_val, y_val), \n",
    "             epochs=32, callbacks=[stop_early])"
   ]
  },
  {
   "cell_type": "code",
   "execution_count": 202,
   "metadata": {},
   "outputs": [
    {
     "data": {
      "text/plain": [
       "{'padding': 4,\n",
       " 'filters1': 112,\n",
       " 'filters2': 32,\n",
       " 'units': 104,\n",
       " 'learning_rate': 0.000961143157312793,\n",
       " 'tuner/epochs': 20,\n",
       " 'tuner/initial_epoch': 7,\n",
       " 'tuner/bracket': 2,\n",
       " 'tuner/round': 2,\n",
       " 'tuner/trial_id': '0f513c5f10cf45d5611fff7d408533b5'}"
      ]
     },
     "execution_count": 202,
     "metadata": {},
     "output_type": "execute_result"
    }
   ],
   "source": [
    "# Get the optimal hyperparameters\n",
    "best_hps=tuner.get_best_hyperparameters(num_trials=1)[0]\n",
    "\n",
    "best_hps.values"
   ]
  },
  {
   "cell_type": "code",
   "execution_count": 203,
   "metadata": {},
   "outputs": [
    {
     "name": "stdout",
     "output_type": "stream",
     "text": [
      "Epoch 1/64\n",
      "1423/1423 [==============================] - 3s 2ms/step - loss: 1.4261 - accuracy: 0.5002 - val_loss: 1.3273 - val_accuracy: 0.5295\n",
      "Epoch 2/64\n",
      "1423/1423 [==============================] - 2s 2ms/step - loss: 1.2150 - accuracy: 0.5677 - val_loss: 1.1762 - val_accuracy: 0.6138\n",
      "Epoch 3/64\n",
      "1423/1423 [==============================] - 2s 2ms/step - loss: 1.1005 - accuracy: 0.6013 - val_loss: 1.1054 - val_accuracy: 0.5748\n",
      "Epoch 4/64\n",
      "1423/1423 [==============================] - 2s 2ms/step - loss: 1.0293 - accuracy: 0.6186 - val_loss: 1.0120 - val_accuracy: 0.5970\n",
      "Epoch 5/64\n",
      "1423/1423 [==============================] - 2s 2ms/step - loss: 0.9897 - accuracy: 0.6258 - val_loss: 1.0686 - val_accuracy: 0.5886\n",
      "Epoch 6/64\n",
      "1423/1423 [==============================] - 2s 2ms/step - loss: 0.9632 - accuracy: 0.6402 - val_loss: 1.0212 - val_accuracy: 0.6198\n",
      "Epoch 7/64\n",
      "1423/1423 [==============================] - 2s 2ms/step - loss: 0.9282 - accuracy: 0.6483 - val_loss: 1.1572 - val_accuracy: 0.6163\n",
      "Epoch 8/64\n",
      "1423/1423 [==============================] - 2s 2ms/step - loss: 0.8896 - accuracy: 0.6628 - val_loss: 1.2077 - val_accuracy: 0.6046\n",
      "Epoch 9/64\n",
      "1423/1423 [==============================] - 2s 2ms/step - loss: 0.8801 - accuracy: 0.6691 - val_loss: 0.9815 - val_accuracy: 0.5881\n",
      "Epoch 10/64\n",
      "1423/1423 [==============================] - 2s 2ms/step - loss: 0.8580 - accuracy: 0.6808 - val_loss: 1.0301 - val_accuracy: 0.6317\n",
      "Epoch 11/64\n",
      "1423/1423 [==============================] - 2s 2ms/step - loss: 0.8380 - accuracy: 0.6851 - val_loss: 1.0207 - val_accuracy: 0.6214\n",
      "Epoch 12/64\n",
      "1423/1423 [==============================] - 2s 2ms/step - loss: 0.8113 - accuracy: 0.6990 - val_loss: 1.1403 - val_accuracy: 0.5854\n",
      "Epoch 13/64\n",
      "1423/1423 [==============================] - 2s 2ms/step - loss: 0.7763 - accuracy: 0.7165 - val_loss: 1.0996 - val_accuracy: 0.6393\n",
      "Epoch 14/64\n",
      "1423/1423 [==============================] - 2s 2ms/step - loss: 0.7702 - accuracy: 0.7180 - val_loss: 1.0325 - val_accuracy: 0.6027\n",
      "Epoch 15/64\n",
      "1423/1423 [==============================] - 2s 2ms/step - loss: 0.7668 - accuracy: 0.7162 - val_loss: 1.2776 - val_accuracy: 0.6146\n",
      "Epoch 16/64\n",
      "1423/1423 [==============================] - 2s 2ms/step - loss: 0.7284 - accuracy: 0.7349 - val_loss: 1.2383 - val_accuracy: 0.5485\n",
      "Epoch 17/64\n",
      "1423/1423 [==============================] - 2s 2ms/step - loss: 0.7004 - accuracy: 0.7413 - val_loss: 1.0143 - val_accuracy: 0.6062\n",
      "Epoch 18/64\n",
      "1423/1423 [==============================] - 2s 2ms/step - loss: 0.7010 - accuracy: 0.7437 - val_loss: 0.9076 - val_accuracy: 0.6493\n",
      "Epoch 19/64\n",
      "1423/1423 [==============================] - 2s 2ms/step - loss: 0.6664 - accuracy: 0.7578 - val_loss: 0.7085 - val_accuracy: 0.6965\n",
      "Epoch 20/64\n",
      "1423/1423 [==============================] - 2s 2ms/step - loss: 0.6635 - accuracy: 0.7569 - val_loss: 0.9098 - val_accuracy: 0.6558\n",
      "Epoch 21/64\n",
      "1423/1423 [==============================] - 2s 2ms/step - loss: 0.6592 - accuracy: 0.7588 - val_loss: 1.0565 - val_accuracy: 0.6726\n",
      "Epoch 22/64\n",
      "1423/1423 [==============================] - 2s 2ms/step - loss: 0.6369 - accuracy: 0.7656 - val_loss: 0.9092 - val_accuracy: 0.6537\n",
      "Epoch 23/64\n",
      "1423/1423 [==============================] - 2s 2ms/step - loss: 0.6335 - accuracy: 0.7709 - val_loss: 1.0761 - val_accuracy: 0.6556\n",
      "Epoch 24/64\n",
      "1423/1423 [==============================] - 2s 2ms/step - loss: 0.6097 - accuracy: 0.7764 - val_loss: 0.9051 - val_accuracy: 0.6821\n",
      "Epoch 25/64\n",
      "1423/1423 [==============================] - 2s 2ms/step - loss: 0.6084 - accuracy: 0.7750 - val_loss: 1.1536 - val_accuracy: 0.6656\n",
      "Epoch 26/64\n",
      "1423/1423 [==============================] - 2s 2ms/step - loss: 0.6021 - accuracy: 0.7807 - val_loss: 0.9877 - val_accuracy: 0.6263\n",
      "Epoch 27/64\n",
      "1423/1423 [==============================] - 2s 2ms/step - loss: 0.6072 - accuracy: 0.7820 - val_loss: 0.9886 - val_accuracy: 0.6466\n",
      "Epoch 28/64\n",
      "1423/1423 [==============================] - 2s 2ms/step - loss: 0.5995 - accuracy: 0.7828 - val_loss: 1.0024 - val_accuracy: 0.6816\n",
      "Epoch 29/64\n",
      "1423/1423 [==============================] - 2s 2ms/step - loss: 0.5727 - accuracy: 0.7896 - val_loss: 0.8845 - val_accuracy: 0.6837\n",
      "Epoch 30/64\n",
      "1423/1423 [==============================] - 2s 2ms/step - loss: 0.4486 - accuracy: 0.8388 - val_loss: 0.8028 - val_accuracy: 0.7217\n",
      "Epoch 31/64\n",
      "1423/1423 [==============================] - 2s 2ms/step - loss: 0.4089 - accuracy: 0.8525 - val_loss: 0.8124 - val_accuracy: 0.7136\n",
      "Epoch 32/64\n",
      "1423/1423 [==============================] - 2s 2ms/step - loss: 0.3994 - accuracy: 0.8559 - val_loss: 0.7692 - val_accuracy: 0.7203\n",
      "Epoch 33/64\n",
      "1423/1423 [==============================] - 2s 2ms/step - loss: 0.3938 - accuracy: 0.8560 - val_loss: 0.8010 - val_accuracy: 0.7062\n",
      "Epoch 34/64\n",
      "1423/1423 [==============================] - 2s 2ms/step - loss: 0.3879 - accuracy: 0.8595 - val_loss: 0.8220 - val_accuracy: 0.7255\n",
      "Epoch 35/64\n",
      "1423/1423 [==============================] - 2s 2ms/step - loss: 0.3830 - accuracy: 0.8602 - val_loss: 0.8214 - val_accuracy: 0.7225\n",
      "Epoch 36/64\n",
      "1423/1423 [==============================] - 2s 2ms/step - loss: 0.3797 - accuracy: 0.8632 - val_loss: 0.7751 - val_accuracy: 0.7285\n",
      "Epoch 37/64\n",
      "1423/1423 [==============================] - 2s 2ms/step - loss: 0.3753 - accuracy: 0.8619 - val_loss: 0.8987 - val_accuracy: 0.7117\n",
      "Epoch 38/64\n",
      "1423/1423 [==============================] - 2s 2ms/step - loss: 0.3698 - accuracy: 0.8651 - val_loss: 0.8522 - val_accuracy: 0.7165\n",
      "Epoch 39/64\n",
      "1423/1423 [==============================] - 2s 2ms/step - loss: 0.3663 - accuracy: 0.8664 - val_loss: 0.8374 - val_accuracy: 0.7206\n",
      "Epoch 40/64\n",
      "1423/1423 [==============================] - 2s 2ms/step - loss: 0.3501 - accuracy: 0.8743 - val_loss: 0.8537 - val_accuracy: 0.7173\n",
      "Epoch 41/64\n",
      "1423/1423 [==============================] - 2s 2ms/step - loss: 0.3481 - accuracy: 0.8740 - val_loss: 0.8361 - val_accuracy: 0.7184\n",
      "Epoch 42/64\n",
      "1423/1423 [==============================] - 3s 2ms/step - loss: 0.3471 - accuracy: 0.8743 - val_loss: 0.8390 - val_accuracy: 0.7165\n",
      "Epoch 43/64\n",
      "1423/1423 [==============================] - 2s 2ms/step - loss: 0.3464 - accuracy: 0.8747 - val_loss: 0.8348 - val_accuracy: 0.7195\n",
      "Epoch 44/64\n",
      "1423/1423 [==============================] - 2s 2ms/step - loss: 0.3461 - accuracy: 0.8750 - val_loss: 0.8501 - val_accuracy: 0.7173\n",
      "Epoch 45/64\n",
      "1423/1423 [==============================] - 2s 2ms/step - loss: 0.3456 - accuracy: 0.8745 - val_loss: 0.8507 - val_accuracy: 0.7171\n",
      "Epoch 46/64\n",
      "1423/1423 [==============================] - 2s 2ms/step - loss: 0.3451 - accuracy: 0.8748 - val_loss: 0.8689 - val_accuracy: 0.7168\n",
      "Epoch 47/64\n",
      "1423/1423 [==============================] - 2s 2ms/step - loss: 0.3446 - accuracy: 0.8752 - val_loss: 0.8529 - val_accuracy: 0.7163\n",
      "Epoch 48/64\n",
      "1423/1423 [==============================] - 2s 2ms/step - loss: 0.3445 - accuracy: 0.8756 - val_loss: 0.8401 - val_accuracy: 0.7217\n",
      "Epoch 49/64\n",
      "1423/1423 [==============================] - 2s 2ms/step - loss: 0.3438 - accuracy: 0.8758 - val_loss: 0.8418 - val_accuracy: 0.7230\n",
      "Epoch 50/64\n",
      "1423/1423 [==============================] - 2s 2ms/step - loss: 0.3419 - accuracy: 0.8771 - val_loss: 0.8420 - val_accuracy: 0.7228\n",
      "Epoch 51/64\n",
      "1423/1423 [==============================] - 2s 2ms/step - loss: 0.3417 - accuracy: 0.8771 - val_loss: 0.8424 - val_accuracy: 0.7220\n",
      "Epoch 52/64\n",
      "1423/1423 [==============================] - 2s 2ms/step - loss: 0.3416 - accuracy: 0.8770 - val_loss: 0.8431 - val_accuracy: 0.7209\n",
      "Epoch 53/64\n",
      "1423/1423 [==============================] - 2s 2ms/step - loss: 0.3415 - accuracy: 0.8769 - val_loss: 0.8439 - val_accuracy: 0.7201\n",
      "Epoch 54/64\n",
      "1423/1423 [==============================] - 2s 2ms/step - loss: 0.3414 - accuracy: 0.8769 - val_loss: 0.8459 - val_accuracy: 0.7198\n",
      "Epoch 55/64\n",
      "1423/1423 [==============================] - 2s 2ms/step - loss: 0.3413 - accuracy: 0.8772 - val_loss: 0.8461 - val_accuracy: 0.7195\n",
      "Epoch 56/64\n",
      "1423/1423 [==============================] - 2s 2ms/step - loss: 0.3413 - accuracy: 0.8771 - val_loss: 0.8471 - val_accuracy: 0.7192\n",
      "Epoch 57/64\n"
     ]
    },
    {
     "name": "stdout",
     "output_type": "stream",
     "text": [
      "1423/1423 [==============================] - 2s 2ms/step - loss: 0.3412 - accuracy: 0.8773 - val_loss: 0.8477 - val_accuracy: 0.7190\n",
      "Epoch 58/64\n",
      "1423/1423 [==============================] - 2s 2ms/step - loss: 0.3412 - accuracy: 0.8772 - val_loss: 0.8479 - val_accuracy: 0.7190\n",
      "Epoch 59/64\n",
      "1423/1423 [==============================] - 2s 2ms/step - loss: 0.3412 - accuracy: 0.8772 - val_loss: 0.8480 - val_accuracy: 0.7184\n",
      "Epoch 60/64\n",
      "1423/1423 [==============================] - 2s 2ms/step - loss: 0.3409 - accuracy: 0.8772 - val_loss: 0.8481 - val_accuracy: 0.7184\n",
      "Epoch 61/64\n",
      "1423/1423 [==============================] - 2s 2ms/step - loss: 0.3409 - accuracy: 0.8772 - val_loss: 0.8482 - val_accuracy: 0.7184\n",
      "Epoch 62/64\n",
      "1423/1423 [==============================] - 2s 2ms/step - loss: 0.3409 - accuracy: 0.8772 - val_loss: 0.8482 - val_accuracy: 0.7184\n",
      "Epoch 63/64\n",
      "1423/1423 [==============================] - 2s 2ms/step - loss: 0.3409 - accuracy: 0.8773 - val_loss: 0.8483 - val_accuracy: 0.7184\n",
      "Epoch 64/64\n",
      "1423/1423 [==============================] - 2s 2ms/step - loss: 0.3409 - accuracy: 0.8773 - val_loss: 0.8483 - val_accuracy: 0.7184\n",
      "Best epoch: 36\n"
     ]
    }
   ],
   "source": [
    "# Build the model with the optimal hyperparameters and train it on the data for 64 epochs\n",
    "model = tuner.hypermodel.build(best_hps)\n",
    "history = model.fit(X_train, y_train, batch_size=1, \n",
    "                    validation_data=(X_val, y_val), \n",
    "                    epochs=64,\n",
    "                   callbacks=[K.callbacks.ReduceLROnPlateau()])\n",
    "\n",
    "val_acc_per_epoch = history.history['val_accuracy']\n",
    "best_epoch = val_acc_per_epoch.index(max(val_acc_per_epoch)) + 1\n",
    "print('Best epoch: %d' % (best_epoch,))"
   ]
  },
  {
   "cell_type": "code",
   "execution_count": 204,
   "metadata": {},
   "outputs": [
    {
     "data": {
      "text/plain": [
       "[<matplotlib.lines.Line2D at 0x7f8db2160860>]"
      ]
     },
     "execution_count": 204,
     "metadata": {},
     "output_type": "execute_result"
    },
    {
     "data": {
      "image/png": "[encoded data removed]",
      "text/plain": [
       "<Figure size 1080x504 with 2 Axes>"
      ]
     },
     "metadata": {
      "needs_background": "light"
     },
     "output_type": "display_data"
    }
   ],
   "source": [
    "plt.figure(figsize=(15, 7))\n",
    "plt.subplot(221)\n",
    "plt.title(\"Train Loss\")\n",
    "plt.plot(history.history['loss'])\n",
    "plt.subplot(222)\n",
    "plt.title(\"Train/validation accuracy\")\n",
    "plt.plot(history.history['accuracy'])\n",
    "plt.plot(history.history['val_accuracy'])"
   ]
  }
 ],
 "metadata": {
  "kernelspec": {
   "display_name": "Python 3",
   "language": "python",
   "name": "python3"
  },
  "language_info": {
   "codemirror_mode": {
    "name": "ipython",
    "version": 3
   },
   "file_extension": ".py",
   "mimetype": "text/x-python",
   "name": "python",
   "nbconvert_exporter": "python",
   "pygments_lexer": "ipython3",
   "version": "3.6.9"
  }
 },
 "nbformat": 4,
 "nbformat_minor": 2
}
