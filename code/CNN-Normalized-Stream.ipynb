{
 "cells": [
  {
   "cell_type": "markdown",
   "metadata": {},
   "source": [
    "# Load data"
   ]
  },
  {
   "cell_type": "code",
   "execution_count": null,
   "metadata": {
    "scrolled": true
   },
   "outputs": [],
   "source": [
    "import re\n",
    "import os\n",
    "import random\n",
    "import numpy as np\n",
    "import matplotlib.pyplot as plt\n",
    "import pandas as pd\n",
    "import seaborn as sns\n",
    "\n",
    "import tensorflow as tf\n",
    "import tensorflow.keras as K\n",
    "import keras_tuner as kt\n",
    "\n",
    "from utils import (\n",
    "    normalize_mid_points,\n",
    "    read_data\n",
    ")"
   ]
  },
  {
   "cell_type": "code",
   "execution_count": null,
   "metadata": {
    "pycharm": {
     "name": "#%%\n"
    }
   },
   "outputs": [],
   "source": [
    "keypoints = os.listdir('../data/keypoints')\n",
    "\n",
    "# punch types: hook, jab, uper\n",
    "keypoints_by_punch_types = [\n",
    "    [i for i in keypoints if 'hook' in i],\n",
    "    [i for i in keypoints if 'jab' in i],\n",
    "    [i for i in keypoints if 'uper' in i]\n",
    "]"
   ]
  },
  {
   "cell_type": "code",
   "execution_count": null,
   "metadata": {
    "scrolled": true
   },
   "outputs": [],
   "source": [
    "X_train_list = []\n",
    "y_train_list = []\n",
    "X_val_list = []\n",
    "y_val_list = []\n",
    "\n",
    "for keypoints in keypoints_by_punch_types:\n",
    "    test_keypoints = random.choice(keypoints)\n",
    "\n",
    "    for label in [i for i in keypoints if i != test_keypoints]:\n",
    "        X, y = read_data(label, skip_midpoints=False)\n",
    "        X_train_list.append(X)\n",
    "        y_train_list.append(y)\n",
    "    \n",
    "    X, y = read_data(test_keypoints, skip_midpoints=False)\n",
    "    X_val_list.append(X)\n",
    "    y_val_list.append(y)\n",
    "\n",
    "\n",
    "X_train = np.concatenate(X_train_list)\n",
    "y_train = np.concatenate(y_train_list)\n",
    "X_val = np.concatenate(X_val_list)\n",
    "y_val = np.concatenate(y_val_list)"
   ]
  },
  {
   "cell_type": "code",
   "execution_count": null,
   "metadata": {},
   "outputs": [],
   "source": [
    "X_train.shape, y_train.shape, X_val.shape, y_val.shape"
   ]
  },
  {
   "cell_type": "code",
   "execution_count": null,
   "metadata": {},
   "outputs": [],
   "source": [
    "time_steps=30 # expect camera 30 fps, so process 1 sample per second\n",
    "\n",
    "# Number of samples in batch\n",
    "N_train = X_train.shape[0] // time_steps \n",
    "N_val = X_val.shape[0] // time_steps\n",
    "\n",
    "X_train = X_train[:N_train*time_steps].reshape(-1, time_steps, 36)\n",
    "y_train = y_train[:N_train*time_steps].reshape(-1, time_steps, 1)\n",
    "X_val = X_val[:N_val*time_steps].reshape(-1, time_steps, 36)\n",
    "y_val = y_val[:N_val*time_steps].reshape(-1, time_steps, 1)\n",
    "X_train.shape, X_val.shape"
   ]
  },
  {
   "cell_type": "markdown",
   "metadata": {},
   "source": [
    "## CNN"
   ]
  },
  {
   "cell_type": "code",
   "execution_count": null,
   "metadata": {
    "scrolled": true
   },
   "outputs": [],
   "source": [
    "y_train = K.utils.to_categorical(y_train, num_classes=7)\n",
    "X_train = tf.constant(X_train)\n",
    "y_val = K.utils.to_categorical(y_val, num_classes=7)\n",
    "X_val = tf.constant(X_val)"
   ]
  },
  {
   "cell_type": "code",
   "execution_count": null,
   "metadata": {},
   "outputs": [],
   "source": [
    "X_dev = tf.expand_dims(X_train[:32], -1)\n",
    "y_dev = y_train[:32]\n",
    "\n",
    "X_dev.shape, y_dev.shape"
   ]
  },
  {
   "cell_type": "code",
   "execution_count": null,
   "metadata": {},
   "outputs": [],
   "source": [
    "def model_builder(hp):\n",
    "    # Hyperparams\n",
    "    hp_pad = hp.Int('padding', min_value=1, max_value=4)\n",
    "    hp_filters1 = hp.Int('filters1', min_value=16, max_value=128, step=8)\n",
    "    hp_filters2 = hp.Int('filters2', min_value=16, max_value=128, step=8)\n",
    "    hp_hidden_units = hp.Int('units', min_value=16, max_value=128, step=8)\n",
    "\n",
    "    hp_learning_rate = hp.Float('learning_rate', min_value=1e-4, max_value=1e-2)\n",
    "\n",
    "    pad_1 = tf.constant([[0,0], [hp_pad, hp_pad], [0,0], [0,0]])\n",
    "    \n",
    "    inputs = K.Input(shape=(30, 36, 1))\n",
    "    # x = tf.keras.layers.LayerNormalization(axis=-2)(inputs)\n",
    "    x = inputs\n",
    "    x = tf.pad(x, pad_1, 'CONSTANT')\n",
    "    x = K.layers.Conv2D(filters=hp_filters1, kernel_size=(1+hp_pad*2, 36))(x)\n",
    "    x = tf.squeeze(x, axis=-2)\n",
    "    \n",
    "    pad_2 = tf.constant([[0,0], [1,1], [0,0]])\n",
    "    x = tf.pad(x, pad_2, 'CONSTANT')\n",
    "    x = K.layers.Conv1D(filters=hp_filters2, kernel_size=3)(x)\n",
    "    \n",
    "    x = K.layers.Dense(hp_hidden_units, activation='relu')(x)\n",
    "    \n",
    "    out = K.layers.Dense(7, activation='softmax')(x)\n",
    "\n",
    "    model = K.Model(inputs=inputs, outputs=out, name=\"cnn_model\")\n",
    "\n",
    "    model.compile(optimizer=K.optimizers.Adam(hp_learning_rate),\n",
    "                  loss='categorical_crossentropy',\n",
    "                  metrics=['accuracy'])\n",
    "    return model"
   ]
  },
  {
   "cell_type": "code",
   "execution_count": null,
   "metadata": {},
   "outputs": [],
   "source": [
    "tuner = kt.Hyperband(model_builder,\n",
    "                     objective='val_accuracy',\n",
    "                     max_epochs=20,\n",
    "                     directory='kt_dir2',\n",
    "                     project_name='punch_dl_kt')\n",
    "\n",
    "stop_early = tf.keras.callbacks.EarlyStopping(monitor='val_loss', patience=8)\n",
    "\n",
    "tuner.search(X_train, y_train, batch_size=4, validation_data=(X_val, y_val), \n",
    "             epochs=32, callbacks=[stop_early])"
   ]
  },
  {
   "cell_type": "code",
   "execution_count": null,
   "metadata": {},
   "outputs": [],
   "source": [
    "# Get the optimal hyperparameters\n",
    "best_hps=tuner.get_best_hyperparameters(num_trials=1)[0]\n",
    "\n",
    "best_hps.values"
   ]
  },
  {
   "cell_type": "code",
   "execution_count": null,
   "metadata": {},
   "outputs": [],
   "source": [
    "# Build the model with the optimal hyperparameters and train it on the data for 64 epochs\n",
    "model = tuner.hypermodel.build(best_hps)\n",
    "history = model.fit(X_train, y_train, batch_size=1, \n",
    "                    validation_data=(X_val, y_val), \n",
    "                    epochs=64,\n",
    "                   callbacks=[K.callbacks.ReduceLROnPlateau()])\n",
    "\n",
    "val_acc_per_epoch = history.history['val_accuracy']\n",
    "best_epoch = val_acc_per_epoch.index(max(val_acc_per_epoch)) + 1\n",
    "print('Best epoch: %d' % (best_epoch,))"
   ]
  },
  {
   "cell_type": "code",
   "execution_count": null,
   "metadata": {},
   "outputs": [],
   "source": [
    "plt.figure(figsize=(15, 7))\n",
    "plt.subplot(221)\n",
    "plt.title(\"Train Loss\")\n",
    "plt.plot(history.history['loss'])\n",
    "plt.subplot(222)\n",
    "plt.title(\"Train/validation accuracy\")\n",
    "plt.plot(history.history['accuracy'])\n",
    "plt.plot(history.history['val_accuracy'])"
   ]
  },
  {
   "cell_type": "code",
   "execution_count": null,
   "metadata": {},
   "outputs": [],
   "source": [
    "model.save('../models/CNN-Normalized-Stream-01')"
   ]
  }
 ],
 "metadata": {
  "kernelspec": {
   "display_name": "Python 3",
   "language": "python",
   "name": "python3"
  },
  "language_info": {
   "codemirror_mode": {
    "name": "ipython",
    "version": 3
   },
   "file_extension": ".py",
   "mimetype": "text/x-python",
   "name": "python",
   "nbconvert_exporter": "python",
   "pygments_lexer": "ipython3",
   "version": "3.6.9"
  }
 },
 "nbformat": 4,
 "nbformat_minor": 2
}
