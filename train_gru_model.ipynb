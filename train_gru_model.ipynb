{
 "cells": [
  {
   "cell_type": "markdown",
   "metadata": {
    "gradient": {
     "editing": false,
     "id": "54d09164-d161-490a-b5c7-2d50d45072cb",
     "kernelId": "4b671c6f-eb6c-4aab-9c29-1679ea543f0b"
    }
   },
   "source": [
    "# Load data"
   ]
  },
  {
   "cell_type": "code",
   "execution_count": 1,
   "metadata": {
    "gradient": {
     "editing": false,
     "id": "3404b96a-c0e8-4792-abcc-ffaa8aba6b7a",
     "kernelId": "4b671c6f-eb6c-4aab-9c29-1679ea543f0b"
    },
    "scrolled": true
   },
   "outputs": [
    {
     "name": "stderr",
     "output_type": "stream",
     "text": [
      "2022-01-11 10:28:49.397025: I tensorflow/stream_executor/platform/default/dso_loader.cc:48] Successfully opened dynamic library libcudart.so.10.1\n"
     ]
    }
   ],
   "source": [
    "import os\n",
    "import sys\n",
    "import random\n",
    "import numpy as np\n",
    "import matplotlib.pyplot as plt\n",
    "import pandas as pd\n",
    "import seaborn as sns\n",
    "\n",
    "import tensorflow as tf\n",
    "import tensorflow.keras as K\n",
    "import keras_tuner as kt\n",
    "\n",
    "from tensorflow.keras.utils import plot_model\n",
    "from utils import get_train_data"
   ]
  },
  {
   "cell_type": "code",
   "execution_count": 2,
   "metadata": {
    "gradient": {
     "editing": false,
     "id": "03f1b8b4-2c37-4b81-8ec1-51de822dd0f6",
     "kernelId": "4b671c6f-eb6c-4aab-9c29-1679ea543f0b"
    }
   },
   "outputs": [
    {
     "name": "stderr",
     "output_type": "stream",
     "text": [
      "2022-01-11 10:28:52.702037: I tensorflow/stream_executor/platform/default/dso_loader.cc:48] Successfully opened dynamic library libcuda.so.1\n",
      "2022-01-11 10:28:53.685374: E tensorflow/stream_executor/cuda/cuda_driver.cc:314] failed call to cuInit: CUDA_ERROR_UNKNOWN: unknown error\n",
      "2022-01-11 10:28:53.685458: I tensorflow/stream_executor/cuda/cuda_diagnostics.cc:169] retrieving CUDA diagnostic information for host: andrew-Aspire-A715-41G\n",
      "2022-01-11 10:28:53.685498: I tensorflow/stream_executor/cuda/cuda_diagnostics.cc:176] hostname: andrew-Aspire-A715-41G\n",
      "2022-01-11 10:28:53.685847: I tensorflow/stream_executor/cuda/cuda_diagnostics.cc:200] libcuda reported version is: 470.86.0\n",
      "2022-01-11 10:28:53.685967: I tensorflow/stream_executor/cuda/cuda_diagnostics.cc:204] kernel reported version is: 470.86.0\n",
      "2022-01-11 10:28:53.685995: I tensorflow/stream_executor/cuda/cuda_diagnostics.cc:310] kernel version seems to match DSO: 470.86.0\n"
     ]
    }
   ],
   "source": [
    "if sys.platform == \"linux\":\n",
    "    physical_devices = tf.config.experimental.list_physical_devices(\"GPU\")\n",
    "    if len(physical_devices) > 0:\n",
    "        print('GPU detected')\n",
    "        tf.config.experimental.set_memory_growth(physical_devices[0], True)"
   ]
  },
  {
   "cell_type": "code",
   "execution_count": 3,
   "metadata": {
    "gradient": {
     "editing": false,
     "id": "6e16d257-69c9-4fd7-a725-540c2d8c8114",
     "kernelId": "4b671c6f-eb6c-4aab-9c29-1679ea543f0b"
    },
    "pycharm": {
     "name": "#%%\n"
    },
    "scrolled": true
   },
   "outputs": [
    {
     "name": "stdout",
     "output_type": "stream",
     "text": [
      "id1_hook_2 reversed: False data shape: (792, 34)\n",
      "--------------------\n",
      "id3_hook_1 reversed: False data shape: (1461, 34)\n",
      "--------------------\n",
      "id3_hook_2 reversed: False data shape: (1297, 34)\n",
      "--------------------\n",
      "id4_hook_1 reversed: False data shape: (1054, 34)\n",
      "--------------------\n",
      "id4_hook_2 reversed: False data shape: (1059, 34)\n",
      "--------------------\n",
      "id1_hook_1 reversed: False data shape: (858, 34)\n",
      "--------------------\n",
      "id2_hook_1 reversed: False data shape: (1013, 34)\n",
      "--------------------\n",
      "id0_hook_2 reversed: False data shape: (1051, 34)\n",
      "--------------------\n",
      "id0_hook_1 reversed: False data shape: (1100, 34)\n",
      "--------------------\n",
      "id2_hook_2 reversed: False data shape: (1041, 34)\n",
      "--------------------\n",
      "id3_jab_2 reversed: False data shape: (1164, 34)\n",
      "--------------------\n",
      "id4_jab_1 reversed: False data shape: (911, 34)\n",
      "--------------------\n",
      "id2_jab_1 reversed: False data shape: (1032, 34)\n",
      "--------------------\n",
      "id0_jab_1 reversed: False data shape: (952, 34)\n",
      "--------------------\n",
      "id0_jab_2 reversed: False data shape: (993, 34)\n",
      "--------------------\n",
      "id1_jab_1 reversed: False data shape: (802, 34)\n",
      "--------------------\n",
      "id4_jab_2 reversed: False data shape: (964, 34)\n",
      "--------------------\n",
      "id1_jab_2 reversed: False data shape: (643, 34)\n",
      "--------------------\n",
      "id2_jab_2 reversed: False data shape: (1030, 34)\n",
      "--------------------\n",
      "id3_jab_1 reversed: False data shape: (1170, 34)\n",
      "--------------------\n",
      "id2_uper_1 reversed: False data shape: (1064, 34)\n",
      "--------------------\n",
      "id4_uper_1 reversed: False data shape: (1125, 34)\n",
      "--------------------\n",
      "id0_uper_2 reversed: False data shape: (1186, 34)\n",
      "--------------------\n",
      "id0_uper_1 reversed: False data shape: (1200, 34)\n",
      "--------------------\n",
      "id2_uper_2 reversed: False data shape: (1033, 34)\n",
      "--------------------\n",
      "id3_uper_1 reversed: False data shape: (1277, 34)\n",
      "--------------------\n",
      "id3_uper_2 reversed: False data shape: (1196, 34)\n",
      "--------------------\n",
      "id1_uper_1 reversed: False data shape: (746, 34)\n",
      "--------------------\n",
      "id1_uper_2 reversed: False data shape: (703, 34)\n",
      "--------------------\n",
      "id4_uper_2 reversed: False data shape: (1157, 34)\n",
      "--------------------\n"
     ]
    }
   ],
   "source": [
    "X_train, y_train = get_train_data(skip_midpoints=True)"
   ]
  },
  {
   "cell_type": "code",
   "execution_count": 4,
   "metadata": {
    "gradient": {
     "editing": false,
     "id": "c90b7493-428f-45ef-bc3c-a9f1dde23996",
     "kernelId": "4b671c6f-eb6c-4aab-9c29-1679ea543f0b"
    }
   },
   "outputs": [],
   "source": [
    "KEYPOINT_DICT = {\n",
    "    'nose': 0,\n",
    "    'left_eye': 1,\n",
    "    'right_eye': 2,\n",
    "    'left_ear': 3,\n",
    "    'right_ear': 4,\n",
    "    'left_shoulder': 5,\n",
    "    'right_shoulder': 6,\n",
    "    'left_elbow': 7,\n",
    "    'right_elbow': 8,\n",
    "    'left_wrist': 9,\n",
    "    'right_wrist': 10,\n",
    "    'left_hip': 11,\n",
    "    'right_hip': 12,\n",
    "    'left_knee': 13,\n",
    "    'right_knee': 14,\n",
    "    'left_ankle': 15,\n",
    "    'right_ankle': 16\n",
    "}"
   ]
  },
  {
   "cell_type": "code",
   "execution_count": 5,
   "metadata": {
    "gradient": {
     "editing": false,
     "id": "4fa4f69e-6d87-4f23-a8dd-2d620b44cbae",
     "kernelId": "4b671c6f-eb6c-4aab-9c29-1679ea543f0b"
    }
   },
   "outputs": [],
   "source": [
    "def format_feature_names(names):\n",
    "    \"\"\"\"Form list of feature names\n",
    "\n",
    "    Params:\n",
    "        names - list of KEYPOINT_DICT keys\n",
    "        ndims - number of dimensions (x, y, score)\n",
    "        skip_midpoints - add or omit midpoint coords (x, y, score)\n",
    "\n",
    "    Returns:\n",
    "        list of feature names\n",
    "    \"\"\"\n",
    "    feature_names = []\n",
    "    for name in names:\n",
    "        feature_names.append(name+'-x')\n",
    "        feature_names.append(name+'-y')\n",
    "\n",
    "    return feature_names"
   ]
  },
  {
   "cell_type": "code",
   "execution_count": 6,
   "metadata": {
    "gradient": {
     "editing": false,
     "id": "fe28c12d-b730-4847-993c-5df31eb36962",
     "kernelId": "4b671c6f-eb6c-4aab-9c29-1679ea543f0b"
    }
   },
   "outputs": [],
   "source": [
    "feature_names = format_feature_names(list(KEYPOINT_DICT.keys()))"
   ]
  },
  {
   "cell_type": "code",
   "execution_count": 7,
   "metadata": {
    "gradient": {
     "editing": false,
     "id": "6aebeabd-5b81-407f-a224-4dabb25076c9",
     "kernelId": "4b671c6f-eb6c-4aab-9c29-1679ea543f0b"
    }
   },
   "outputs": [],
   "source": [
    "df = pd.DataFrame(data=X_train, columns=feature_names)"
   ]
  },
  {
   "cell_type": "code",
   "execution_count": 8,
   "metadata": {
    "gradient": {
     "editing": false,
     "id": "737db1a4-240c-458f-a49f-fb993ea02e94",
     "kernelId": "4b671c6f-eb6c-4aab-9c29-1679ea543f0b"
    },
    "scrolled": false
   },
   "outputs": [
    {
     "data": {
      "text/html": [
       "<div>\n",
       "<style scoped>\n",
       "    .dataframe tbody tr th:only-of-type {\n",
       "        vertical-align: middle;\n",
       "    }\n",
       "\n",
       "    .dataframe tbody tr th {\n",
       "        vertical-align: top;\n",
       "    }\n",
       "\n",
       "    .dataframe thead th {\n",
       "        text-align: right;\n",
       "    }\n",
       "</style>\n",
       "<table border=\"1\" class=\"dataframe\">\n",
       "  <thead>\n",
       "    <tr style=\"text-align: right;\">\n",
       "      <th></th>\n",
       "      <th>count</th>\n",
       "      <th>mean</th>\n",
       "      <th>std</th>\n",
       "      <th>min</th>\n",
       "      <th>25%</th>\n",
       "      <th>50%</th>\n",
       "      <th>75%</th>\n",
       "      <th>max</th>\n",
       "    </tr>\n",
       "  </thead>\n",
       "  <tbody>\n",
       "    <tr>\n",
       "      <th>nose-x</th>\n",
       "      <td>31074.0</td>\n",
       "      <td>-0.220691</td>\n",
       "      <td>0.028890</td>\n",
       "      <td>-0.407440</td>\n",
       "      <td>-0.237477</td>\n",
       "      <td>-0.218163</td>\n",
       "      <td>-0.202571</td>\n",
       "      <td>0.361919</td>\n",
       "    </tr>\n",
       "    <tr>\n",
       "      <th>nose-y</th>\n",
       "      <td>31074.0</td>\n",
       "      <td>-0.141959</td>\n",
       "      <td>0.060751</td>\n",
       "      <td>-0.467713</td>\n",
       "      <td>-0.185971</td>\n",
       "      <td>-0.143881</td>\n",
       "      <td>-0.103798</td>\n",
       "      <td>0.475557</td>\n",
       "    </tr>\n",
       "    <tr>\n",
       "      <th>left_eye-x</th>\n",
       "      <td>31074.0</td>\n",
       "      <td>-0.232318</td>\n",
       "      <td>0.029956</td>\n",
       "      <td>-0.340721</td>\n",
       "      <td>-0.249898</td>\n",
       "      <td>-0.229959</td>\n",
       "      <td>-0.213657</td>\n",
       "      <td>0.359797</td>\n",
       "    </tr>\n",
       "    <tr>\n",
       "      <th>left_eye-y</th>\n",
       "      <td>31074.0</td>\n",
       "      <td>-0.139179</td>\n",
       "      <td>0.064997</td>\n",
       "      <td>-0.480470</td>\n",
       "      <td>-0.186218</td>\n",
       "      <td>-0.144911</td>\n",
       "      <td>-0.101038</td>\n",
       "      <td>0.477576</td>\n",
       "    </tr>\n",
       "    <tr>\n",
       "      <th>right_eye-x</th>\n",
       "      <td>31074.0</td>\n",
       "      <td>-0.234061</td>\n",
       "      <td>0.030328</td>\n",
       "      <td>-0.344901</td>\n",
       "      <td>-0.252474</td>\n",
       "      <td>-0.230849</td>\n",
       "      <td>-0.215103</td>\n",
       "      <td>0.359336</td>\n",
       "    </tr>\n",
       "    <tr>\n",
       "      <th>right_eye-y</th>\n",
       "      <td>31074.0</td>\n",
       "      <td>-0.133812</td>\n",
       "      <td>0.060529</td>\n",
       "      <td>-0.473905</td>\n",
       "      <td>-0.176613</td>\n",
       "      <td>-0.133870</td>\n",
       "      <td>-0.094512</td>\n",
       "      <td>0.475477</td>\n",
       "    </tr>\n",
       "    <tr>\n",
       "      <th>left_ear-x</th>\n",
       "      <td>31074.0</td>\n",
       "      <td>-0.233495</td>\n",
       "      <td>0.029593</td>\n",
       "      <td>-0.444675</td>\n",
       "      <td>-0.252486</td>\n",
       "      <td>-0.232580</td>\n",
       "      <td>-0.214265</td>\n",
       "      <td>0.366997</td>\n",
       "    </tr>\n",
       "    <tr>\n",
       "      <th>left_ear-y</th>\n",
       "      <td>31074.0</td>\n",
       "      <td>-0.095097</td>\n",
       "      <td>0.068961</td>\n",
       "      <td>-0.451503</td>\n",
       "      <td>-0.144561</td>\n",
       "      <td>-0.108980</td>\n",
       "      <td>-0.052620</td>\n",
       "      <td>0.474723</td>\n",
       "    </tr>\n",
       "    <tr>\n",
       "      <th>right_ear-x</th>\n",
       "      <td>31074.0</td>\n",
       "      <td>-0.238615</td>\n",
       "      <td>0.030643</td>\n",
       "      <td>-0.346178</td>\n",
       "      <td>-0.258294</td>\n",
       "      <td>-0.236333</td>\n",
       "      <td>-0.218362</td>\n",
       "      <td>0.363357</td>\n",
       "    </tr>\n",
       "    <tr>\n",
       "      <th>right_ear-y</th>\n",
       "      <td>31074.0</td>\n",
       "      <td>-0.080467</td>\n",
       "      <td>0.056187</td>\n",
       "      <td>-0.465192</td>\n",
       "      <td>-0.115846</td>\n",
       "      <td>-0.075599</td>\n",
       "      <td>-0.042123</td>\n",
       "      <td>0.473494</td>\n",
       "    </tr>\n",
       "    <tr>\n",
       "      <th>left_shoulder-x</th>\n",
       "      <td>31074.0</td>\n",
       "      <td>-0.179648</td>\n",
       "      <td>0.028699</td>\n",
       "      <td>-0.284038</td>\n",
       "      <td>-0.200014</td>\n",
       "      <td>-0.181127</td>\n",
       "      <td>-0.157619</td>\n",
       "      <td>0.134826</td>\n",
       "    </tr>\n",
       "    <tr>\n",
       "      <th>left_shoulder-y</th>\n",
       "      <td>31074.0</td>\n",
       "      <td>-0.056465</td>\n",
       "      <td>0.090112</td>\n",
       "      <td>-0.271646</td>\n",
       "      <td>-0.128634</td>\n",
       "      <td>-0.081884</td>\n",
       "      <td>0.022100</td>\n",
       "      <td>0.454677</td>\n",
       "    </tr>\n",
       "    <tr>\n",
       "      <th>right_shoulder-x</th>\n",
       "      <td>31074.0</td>\n",
       "      <td>-0.186026</td>\n",
       "      <td>0.025578</td>\n",
       "      <td>-0.278860</td>\n",
       "      <td>-0.203968</td>\n",
       "      <td>-0.185055</td>\n",
       "      <td>-0.166294</td>\n",
       "      <td>0.152549</td>\n",
       "    </tr>\n",
       "    <tr>\n",
       "      <th>right_shoulder-y</th>\n",
       "      <td>31074.0</td>\n",
       "      <td>-0.012201</td>\n",
       "      <td>0.070553</td>\n",
       "      <td>-0.266776</td>\n",
       "      <td>-0.050985</td>\n",
       "      <td>-0.009117</td>\n",
       "      <td>0.039205</td>\n",
       "      <td>0.432912</td>\n",
       "    </tr>\n",
       "    <tr>\n",
       "      <th>left_elbow-x</th>\n",
       "      <td>31074.0</td>\n",
       "      <td>-0.091243</td>\n",
       "      <td>0.038403</td>\n",
       "      <td>-0.275171</td>\n",
       "      <td>-0.103034</td>\n",
       "      <td>-0.083536</td>\n",
       "      <td>-0.069088</td>\n",
       "      <td>0.172872</td>\n",
       "    </tr>\n",
       "    <tr>\n",
       "      <th>left_elbow-y</th>\n",
       "      <td>31074.0</td>\n",
       "      <td>-0.129670</td>\n",
       "      <td>0.121787</td>\n",
       "      <td>-0.454742</td>\n",
       "      <td>-0.218955</td>\n",
       "      <td>-0.158608</td>\n",
       "      <td>-0.031748</td>\n",
       "      <td>0.455919</td>\n",
       "    </tr>\n",
       "    <tr>\n",
       "      <th>right_elbow-x</th>\n",
       "      <td>31074.0</td>\n",
       "      <td>-0.111966</td>\n",
       "      <td>0.029978</td>\n",
       "      <td>-0.261393</td>\n",
       "      <td>-0.124781</td>\n",
       "      <td>-0.107097</td>\n",
       "      <td>-0.092346</td>\n",
       "      <td>0.167001</td>\n",
       "    </tr>\n",
       "    <tr>\n",
       "      <th>right_elbow-y</th>\n",
       "      <td>31074.0</td>\n",
       "      <td>-0.056485</td>\n",
       "      <td>0.102613</td>\n",
       "      <td>-0.445553</td>\n",
       "      <td>-0.119870</td>\n",
       "      <td>-0.056245</td>\n",
       "      <td>0.029580</td>\n",
       "      <td>0.453781</td>\n",
       "    </tr>\n",
       "    <tr>\n",
       "      <th>left_wrist-x</th>\n",
       "      <td>31074.0</td>\n",
       "      <td>-0.138964</td>\n",
       "      <td>0.051998</td>\n",
       "      <td>-0.298592</td>\n",
       "      <td>-0.169187</td>\n",
       "      <td>-0.149847</td>\n",
       "      <td>-0.120075</td>\n",
       "      <td>0.379429</td>\n",
       "    </tr>\n",
       "    <tr>\n",
       "      <th>left_wrist-y</th>\n",
       "      <td>31074.0</td>\n",
       "      <td>-0.206065</td>\n",
       "      <td>0.118739</td>\n",
       "      <td>-0.579556</td>\n",
       "      <td>-0.268469</td>\n",
       "      <td>-0.207668</td>\n",
       "      <td>-0.125802</td>\n",
       "      <td>0.444129</td>\n",
       "    </tr>\n",
       "    <tr>\n",
       "      <th>right_wrist-x</th>\n",
       "      <td>31074.0</td>\n",
       "      <td>-0.141096</td>\n",
       "      <td>0.042531</td>\n",
       "      <td>-0.266704</td>\n",
       "      <td>-0.167868</td>\n",
       "      <td>-0.146519</td>\n",
       "      <td>-0.122051</td>\n",
       "      <td>0.374958</td>\n",
       "    </tr>\n",
       "    <tr>\n",
       "      <th>right_wrist-y</th>\n",
       "      <td>31074.0</td>\n",
       "      <td>-0.150500</td>\n",
       "      <td>0.107284</td>\n",
       "      <td>-0.588713</td>\n",
       "      <td>-0.199884</td>\n",
       "      <td>-0.135194</td>\n",
       "      <td>-0.085357</td>\n",
       "      <td>0.439304</td>\n",
       "    </tr>\n",
       "    <tr>\n",
       "      <th>left_hip-x</th>\n",
       "      <td>31074.0</td>\n",
       "      <td>0.002127</td>\n",
       "      <td>0.002097</td>\n",
       "      <td>-0.009743</td>\n",
       "      <td>0.000835</td>\n",
       "      <td>0.001968</td>\n",
       "      <td>0.003339</td>\n",
       "      <td>0.011939</td>\n",
       "    </tr>\n",
       "    <tr>\n",
       "      <th>left_hip-y</th>\n",
       "      <td>31074.0</td>\n",
       "      <td>-0.023054</td>\n",
       "      <td>0.038658</td>\n",
       "      <td>-0.099615</td>\n",
       "      <td>-0.055297</td>\n",
       "      <td>-0.039011</td>\n",
       "      <td>0.013443</td>\n",
       "      <td>0.096701</td>\n",
       "    </tr>\n",
       "    <tr>\n",
       "      <th>right_hip-x</th>\n",
       "      <td>31074.0</td>\n",
       "      <td>-0.002127</td>\n",
       "      <td>0.002097</td>\n",
       "      <td>-0.011939</td>\n",
       "      <td>-0.003339</td>\n",
       "      <td>-0.001968</td>\n",
       "      <td>-0.000835</td>\n",
       "      <td>0.009743</td>\n",
       "    </tr>\n",
       "    <tr>\n",
       "      <th>right_hip-y</th>\n",
       "      <td>31074.0</td>\n",
       "      <td>0.023054</td>\n",
       "      <td>0.038658</td>\n",
       "      <td>-0.096701</td>\n",
       "      <td>-0.013443</td>\n",
       "      <td>0.039011</td>\n",
       "      <td>0.055296</td>\n",
       "      <td>0.099615</td>\n",
       "    </tr>\n",
       "    <tr>\n",
       "      <th>left_knee-x</th>\n",
       "      <td>31074.0</td>\n",
       "      <td>0.128875</td>\n",
       "      <td>0.023159</td>\n",
       "      <td>-0.088841</td>\n",
       "      <td>0.113359</td>\n",
       "      <td>0.124003</td>\n",
       "      <td>0.140799</td>\n",
       "      <td>0.213485</td>\n",
       "    </tr>\n",
       "    <tr>\n",
       "      <th>left_knee-y</th>\n",
       "      <td>31074.0</td>\n",
       "      <td>-0.133386</td>\n",
       "      <td>0.055464</td>\n",
       "      <td>-0.486933</td>\n",
       "      <td>-0.167483</td>\n",
       "      <td>-0.141957</td>\n",
       "      <td>-0.111807</td>\n",
       "      <td>0.168886</td>\n",
       "    </tr>\n",
       "    <tr>\n",
       "      <th>right_knee-x</th>\n",
       "      <td>31074.0</td>\n",
       "      <td>0.119625</td>\n",
       "      <td>0.021655</td>\n",
       "      <td>-0.117657</td>\n",
       "      <td>0.104827</td>\n",
       "      <td>0.114325</td>\n",
       "      <td>0.128447</td>\n",
       "      <td>0.212793</td>\n",
       "    </tr>\n",
       "    <tr>\n",
       "      <th>right_knee-y</th>\n",
       "      <td>31074.0</td>\n",
       "      <td>0.020318</td>\n",
       "      <td>0.052817</td>\n",
       "      <td>-0.308054</td>\n",
       "      <td>-0.010583</td>\n",
       "      <td>0.028278</td>\n",
       "      <td>0.055166</td>\n",
       "      <td>0.324813</td>\n",
       "    </tr>\n",
       "    <tr>\n",
       "      <th>left_ankle-x</th>\n",
       "      <td>31074.0</td>\n",
       "      <td>0.273766</td>\n",
       "      <td>0.040479</td>\n",
       "      <td>-0.031853</td>\n",
       "      <td>0.245394</td>\n",
       "      <td>0.266421</td>\n",
       "      <td>0.292997</td>\n",
       "      <td>0.406871</td>\n",
       "    </tr>\n",
       "    <tr>\n",
       "      <th>left_ankle-y</th>\n",
       "      <td>31074.0</td>\n",
       "      <td>-0.122253</td>\n",
       "      <td>0.070499</td>\n",
       "      <td>-0.547651</td>\n",
       "      <td>-0.166558</td>\n",
       "      <td>-0.135469</td>\n",
       "      <td>-0.091912</td>\n",
       "      <td>0.426247</td>\n",
       "    </tr>\n",
       "    <tr>\n",
       "      <th>right_ankle-x</th>\n",
       "      <td>31074.0</td>\n",
       "      <td>0.235389</td>\n",
       "      <td>0.046793</td>\n",
       "      <td>-0.035227</td>\n",
       "      <td>0.201940</td>\n",
       "      <td>0.229070</td>\n",
       "      <td>0.258674</td>\n",
       "      <td>0.405846</td>\n",
       "    </tr>\n",
       "    <tr>\n",
       "      <th>right_ankle-y</th>\n",
       "      <td>31074.0</td>\n",
       "      <td>0.109824</td>\n",
       "      <td>0.074249</td>\n",
       "      <td>-0.547769</td>\n",
       "      <td>0.068581</td>\n",
       "      <td>0.106660</td>\n",
       "      <td>0.154661</td>\n",
       "      <td>0.427657</td>\n",
       "    </tr>\n",
       "  </tbody>\n",
       "</table>\n",
       "</div>"
      ],
      "text/plain": [
       "                    count      mean       std       min       25%       50%  \\\n",
       "nose-x            31074.0 -0.220691  0.028890 -0.407440 -0.237477 -0.218163   \n",
       "nose-y            31074.0 -0.141959  0.060751 -0.467713 -0.185971 -0.143881   \n",
       "left_eye-x        31074.0 -0.232318  0.029956 -0.340721 -0.249898 -0.229959   \n",
       "left_eye-y        31074.0 -0.139179  0.064997 -0.480470 -0.186218 -0.144911   \n",
       "right_eye-x       31074.0 -0.234061  0.030328 -0.344901 -0.252474 -0.230849   \n",
       "right_eye-y       31074.0 -0.133812  0.060529 -0.473905 -0.176613 -0.133870   \n",
       "left_ear-x        31074.0 -0.233495  0.029593 -0.444675 -0.252486 -0.232580   \n",
       "left_ear-y        31074.0 -0.095097  0.068961 -0.451503 -0.144561 -0.108980   \n",
       "right_ear-x       31074.0 -0.238615  0.030643 -0.346178 -0.258294 -0.236333   \n",
       "right_ear-y       31074.0 -0.080467  0.056187 -0.465192 -0.115846 -0.075599   \n",
       "left_shoulder-x   31074.0 -0.179648  0.028699 -0.284038 -0.200014 -0.181127   \n",
       "left_shoulder-y   31074.0 -0.056465  0.090112 -0.271646 -0.128634 -0.081884   \n",
       "right_shoulder-x  31074.0 -0.186026  0.025578 -0.278860 -0.203968 -0.185055   \n",
       "right_shoulder-y  31074.0 -0.012201  0.070553 -0.266776 -0.050985 -0.009117   \n",
       "left_elbow-x      31074.0 -0.091243  0.038403 -0.275171 -0.103034 -0.083536   \n",
       "left_elbow-y      31074.0 -0.129670  0.121787 -0.454742 -0.218955 -0.158608   \n",
       "right_elbow-x     31074.0 -0.111966  0.029978 -0.261393 -0.124781 -0.107097   \n",
       "right_elbow-y     31074.0 -0.056485  0.102613 -0.445553 -0.119870 -0.056245   \n",
       "left_wrist-x      31074.0 -0.138964  0.051998 -0.298592 -0.169187 -0.149847   \n",
       "left_wrist-y      31074.0 -0.206065  0.118739 -0.579556 -0.268469 -0.207668   \n",
       "right_wrist-x     31074.0 -0.141096  0.042531 -0.266704 -0.167868 -0.146519   \n",
       "right_wrist-y     31074.0 -0.150500  0.107284 -0.588713 -0.199884 -0.135194   \n",
       "left_hip-x        31074.0  0.002127  0.002097 -0.009743  0.000835  0.001968   \n",
       "left_hip-y        31074.0 -0.023054  0.038658 -0.099615 -0.055297 -0.039011   \n",
       "right_hip-x       31074.0 -0.002127  0.002097 -0.011939 -0.003339 -0.001968   \n",
       "right_hip-y       31074.0  0.023054  0.038658 -0.096701 -0.013443  0.039011   \n",
       "left_knee-x       31074.0  0.128875  0.023159 -0.088841  0.113359  0.124003   \n",
       "left_knee-y       31074.0 -0.133386  0.055464 -0.486933 -0.167483 -0.141957   \n",
       "right_knee-x      31074.0  0.119625  0.021655 -0.117657  0.104827  0.114325   \n",
       "right_knee-y      31074.0  0.020318  0.052817 -0.308054 -0.010583  0.028278   \n",
       "left_ankle-x      31074.0  0.273766  0.040479 -0.031853  0.245394  0.266421   \n",
       "left_ankle-y      31074.0 -0.122253  0.070499 -0.547651 -0.166558 -0.135469   \n",
       "right_ankle-x     31074.0  0.235389  0.046793 -0.035227  0.201940  0.229070   \n",
       "right_ankle-y     31074.0  0.109824  0.074249 -0.547769  0.068581  0.106660   \n",
       "\n",
       "                       75%       max  \n",
       "nose-x           -0.202571  0.361919  \n",
       "nose-y           -0.103798  0.475557  \n",
       "left_eye-x       -0.213657  0.359797  \n",
       "left_eye-y       -0.101038  0.477576  \n",
       "right_eye-x      -0.215103  0.359336  \n",
       "right_eye-y      -0.094512  0.475477  \n",
       "left_ear-x       -0.214265  0.366997  \n",
       "left_ear-y       -0.052620  0.474723  \n",
       "right_ear-x      -0.218362  0.363357  \n",
       "right_ear-y      -0.042123  0.473494  \n",
       "left_shoulder-x  -0.157619  0.134826  \n",
       "left_shoulder-y   0.022100  0.454677  \n",
       "right_shoulder-x -0.166294  0.152549  \n",
       "right_shoulder-y  0.039205  0.432912  \n",
       "left_elbow-x     -0.069088  0.172872  \n",
       "left_elbow-y     -0.031748  0.455919  \n",
       "right_elbow-x    -0.092346  0.167001  \n",
       "right_elbow-y     0.029580  0.453781  \n",
       "left_wrist-x     -0.120075  0.379429  \n",
       "left_wrist-y     -0.125802  0.444129  \n",
       "right_wrist-x    -0.122051  0.374958  \n",
       "right_wrist-y    -0.085357  0.439304  \n",
       "left_hip-x        0.003339  0.011939  \n",
       "left_hip-y        0.013443  0.096701  \n",
       "right_hip-x      -0.000835  0.009743  \n",
       "right_hip-y       0.055296  0.099615  \n",
       "left_knee-x       0.140799  0.213485  \n",
       "left_knee-y      -0.111807  0.168886  \n",
       "right_knee-x      0.128447  0.212793  \n",
       "right_knee-y      0.055166  0.324813  \n",
       "left_ankle-x      0.292997  0.406871  \n",
       "left_ankle-y     -0.091912  0.426247  \n",
       "right_ankle-x     0.258674  0.405846  \n",
       "right_ankle-y     0.154661  0.427657  "
      ]
     },
     "execution_count": 8,
     "metadata": {},
     "output_type": "execute_result"
    }
   ],
   "source": [
    "df.describe().transpose()"
   ]
  },
  {
   "cell_type": "code",
   "execution_count": 9,
   "metadata": {
    "gradient": {
     "editing": false,
     "id": "c7bdb177-ba61-4fc9-a708-1ced16929d6f",
     "kernelId": "4b671c6f-eb6c-4aab-9c29-1679ea543f0b"
    },
    "scrolled": true
   },
   "outputs": [
    {
     "data": {
      "image/png": "[encoded data removed]",
      "text/plain": [
       "<Figure size 1152x720 with 1 Axes>"
      ]
     },
     "metadata": {
      "needs_background": "light"
     },
     "output_type": "display_data"
    }
   ],
   "source": [
    "plt.figure(figsize=(16, 10))\n",
    "ax = sns.violinplot(data=df)\n",
    "_ = ax.set_xticklabels(df.keys(), rotation=90)"
   ]
  },
  {
   "cell_type": "code",
   "execution_count": 10,
   "metadata": {
    "gradient": {
     "editing": false,
     "id": "b1af2719-7d96-4395-ac97-45ce01abdb09",
     "kernelId": "4b671c6f-eb6c-4aab-9c29-1679ea543f0b"
    }
   },
   "outputs": [],
   "source": [
    "time_steps=30 # expect camera 30 fps, so process 1 sample per second\n",
    "# Number of samples in batch\n",
    "N_train = X_train.shape[0] // time_steps "
   ]
  },
  {
   "cell_type": "code",
   "execution_count": 11,
   "metadata": {
    "gradient": {
     "editing": false,
     "id": "6fbd82a0-accb-4923-9644-cd426e60073b",
     "kernelId": "4b671c6f-eb6c-4aab-9c29-1679ea543f0b"
    }
   },
   "outputs": [
    {
     "data": {
      "text/plain": [
       "(1035, 30, 34)"
      ]
     },
     "execution_count": 11,
     "metadata": {},
     "output_type": "execute_result"
    }
   ],
   "source": [
    "X_train = X_train[:N_train*time_steps].reshape(-1, time_steps, 34)\n",
    "y_train = y_train[:N_train*time_steps].reshape(-1, time_steps, 1)\n",
    "X_train.shape"
   ]
  },
  {
   "cell_type": "markdown",
   "metadata": {
    "gradient": {
     "editing": false,
     "id": "d9ae321b-7c9c-4469-83f7-e6a22ec6faab",
     "kernelId": "4b671c6f-eb6c-4aab-9c29-1679ea543f0b"
    }
   },
   "source": [
    "## GRU"
   ]
  },
  {
   "cell_type": "code",
   "execution_count": 12,
   "metadata": {
    "gradient": {
     "editing": false,
     "id": "6b6fe1de-587d-4f3f-9262-d78a4b6ec1df",
     "kernelId": "4b671c6f-eb6c-4aab-9c29-1679ea543f0b"
    },
    "scrolled": true
   },
   "outputs": [
    {
     "name": "stderr",
     "output_type": "stream",
     "text": [
      "2022-01-11 10:29:18.866797: I tensorflow/core/platform/cpu_feature_guard.cc:142] This TensorFlow binary is optimized with oneAPI Deep Neural Network Library (oneDNN)to use the following CPU instructions in performance-critical operations:  AVX2 FMA\n",
      "To enable them in other operations, rebuild TensorFlow with the appropriate compiler flags.\n",
      "2022-01-11 10:29:18.898157: I tensorflow/core/platform/profile_utils/cpu_utils.cc:104] CPU Frequency: 2295695000 Hz\n",
      "2022-01-11 10:29:18.899137: I tensorflow/compiler/xla/service/service.cc:168] XLA service 0x61895c0 initialized for platform Host (this does not guarantee that XLA will be used). Devices:\n",
      "2022-01-11 10:29:18.899207: I tensorflow/compiler/xla/service/service.cc:176]   StreamExecutor device (0): Host, Default Version\n"
     ]
    }
   ],
   "source": [
    "y_train = K.utils.to_categorical(y_train, num_classes=7)\n",
    "X_train = tf.constant(X_train)"
   ]
  },
  {
   "cell_type": "code",
   "execution_count": 13,
   "metadata": {
    "gradient": {
     "editing": false,
     "id": "294ad7e9-c2e9-4069-828f-b8313cadd073",
     "kernelId": "4b671c6f-eb6c-4aab-9c29-1679ea543f0b",
     "source_hidden": false
    }
   },
   "outputs": [],
   "source": [
    "def model_builder(hp):\n",
    "    # Hyperparams\n",
    "    hp_ru1 = hp.Int('recurrent_units1', min_value=16, max_value=128, step=8)\n",
    "    hp_ru2 = hp.Int('recurrent_units2', min_value=16, max_value=128, step=8)\n",
    "\n",
    "    hp_du1 = hp.Int('units1', min_value=16, max_value=128, step=8)\n",
    "    hp_du2 = hp.Int('units2', min_value=16, max_value=128, step=8)\n",
    "\n",
    "    hp_reg1 = hp.Float('dense_reg1', min_value=1e-4, max_value=1e-2)\n",
    "    hp_reg2 = hp.Float('dense_reg2', min_value=1e-4, max_value=1e-2)\n",
    "    \n",
    "    hp_dp1 = hp.Float('rec_dropout1', min_value=0., max_value=0.4)\n",
    "    hp_dp2 = hp.Float('rec_dropout2', min_value=0., max_value=0.4)\n",
    "\n",
    "    hp_dl_dp = hp.Float('dropout', min_value=0., max_value=0.4)\n",
    "\n",
    "    hp_rec_dp1 = hp.Float('rec_dropout1', min_value=0., max_value=0.4)\n",
    "    hp_rec_dp2 = hp.Float('rec_dropout2', min_value=0., max_value=0.4)\n",
    "\n",
    "    hp_kernel_reg1 = hp.Float('kernel_reg1', min_value=1e-5, max_value=1e-3, sampling='log')\n",
    "    hp_kernel_reg2 = hp.Float('kernel_reg2', min_value=1e-5, max_value=1e-3, sampling='log')\n",
    "\n",
    "    hp_recur_reg1 = hp.Float('recur_reg1', min_value=1e-5, max_value=1e-3, sampling='log')\n",
    "    hp_recur_reg2 = hp.Float('recur_reg2', min_value=1e-5, max_value=1e-3, sampling='log')\n",
    "\n",
    "    hp_act_reg1 = hp.Float('act_reg1', min_value=1e-5, max_value=1e-3, sampling='log')\n",
    "    hp_act_reg2 = hp.Float('act_reg2', min_value=1e-5, max_value=1e-3, sampling='log')\n",
    "\n",
    "    hp_add_another_gru_layer = hp.Boolean('add_another_gru_layer')\n",
    " \n",
    "    hp_learning_rate = hp.Float('learning_rate', min_value=1e-4, max_value=1e-2)\n",
    "\n",
    "    layers = []\n",
    "    \n",
    "    # Model\n",
    "    kernel_reg1 = K.regularizers.l2(hp_kernel_reg1)\n",
    "    kernel_reg2 = K.regularizers.l2(hp_kernel_reg2)\n",
    "\n",
    "    recurrent_reg1 = K.regularizers.l2(hp_recur_reg1)\n",
    "    recurrent_reg2 = K.regularizers.l2(hp_recur_reg2)\n",
    "\n",
    "    act_reg1 = K.regularizers.l2(hp_act_reg1)\n",
    "    act_reg2 = K.regularizers.l2(hp_act_reg2)\n",
    "\n",
    "    model = K.Sequential()\n",
    "    model.add(K.layers.LayerNormalization(axis=1))\n",
    "    model.add(K.layers.GRU(hp_ru1,\n",
    "                        # stateful=True, # mutable states not supported in tflite \n",
    "                        return_sequences=True,\n",
    "                        kernel_regularizer=kernel_reg1,\n",
    "                        recurrent_regularizer=recurrent_reg1,\n",
    "                        activity_regularizer=act_reg1,\n",
    "                        dropout=hp_dp1,\n",
    "                        recurrent_dropout=hp_rec_dp1\n",
    "                    ))\n",
    "\n",
    "    if hp_add_another_gru_layer:\n",
    "        model.add(K.layers.GRU(hp_ru2,\n",
    "                            # stateful=True, # mutable states not supported in tflite \n",
    "                            return_sequences=True,\n",
    "                            kernel_regularizer=kernel_reg2,\n",
    "                            recurrent_regularizer=recurrent_reg2,\n",
    "                            activity_regularizer=act_reg2,\n",
    "                            dropout=hp_dp2,\n",
    "                            recurrent_dropout=hp_rec_dp2\n",
    "                        ))\n",
    "\n",
    "    model.add(K.layers.Dense(hp_du1, activation='relu',\n",
    "                            kernel_regularizer=K.regularizers.l2(hp_reg1)))\n",
    "    model.add(K.layers.Dropout(hp_dl_dp))\n",
    "    model.add(K.layers.Dense(hp_du2, activation='relu',\n",
    "                            kernel_regularizer=K.regularizers.l2(hp_reg2))) \n",
    "    model.add(K.layers.Dense(7, activation='sigmoid'))\n",
    "\n",
    "    model.compile(optimizer=K.optimizers.Adam(learning_rate=hp_learning_rate),\n",
    "                  loss='categorical_crossentropy',\n",
    "                  metrics=['accuracy'])\n",
    "    \n",
    "    return model"
   ]
  },
  {
   "cell_type": "code",
   "execution_count": 14,
   "metadata": {
    "gradient": {
     "editing": false,
     "id": "095d2a51-82bc-437e-903f-7c0f984b1537",
     "kernelId": "4b671c6f-eb6c-4aab-9c29-1679ea543f0b"
    }
   },
   "outputs": [
    {
     "name": "stdout",
     "output_type": "stream",
     "text": [
      "Trial 91 Complete [00h 01m 51s]\n",
      "val_accuracy: 0.6964573264122009\n",
      "\n",
      "Best val_accuracy So Far: 0.7110306024551392\n",
      "Total elapsed time: 00h 09m 43s\n",
      "INFO:tensorflow:Oracle triggered exit\n"
     ]
    }
   ],
   "source": [
    "tuner = kt.Hyperband(model_builder,\n",
    "                     objective='val_accuracy',\n",
    "                     max_epochs=32,\n",
    "                     directory='kt_dir',\n",
    "                     project_name='punch_dl_kt_gru')\n",
    "\n",
    "stop_early = K.callbacks.EarlyStopping(monitor='val_loss', patience=5)\n",
    "\n",
    "tuner.search(X_train, y_train, batch_size=4, validation_split=0.4, epochs=32, shuffle=False, callbacks=[stop_early])"
   ]
  },
  {
   "cell_type": "code",
   "execution_count": 15,
   "metadata": {
    "gradient": {
     "editing": false,
     "id": "5e225f39-10d8-4014-acde-2f8b03bc982b",
     "kernelId": "4b671c6f-eb6c-4aab-9c29-1679ea543f0b"
    }
   },
   "outputs": [
    {
     "data": {
      "text/plain": [
       "{'recurrent_units1': 104,\n",
       " 'recurrent_units2': 40,\n",
       " 'units1': 128,\n",
       " 'units2': 104,\n",
       " 'dense_reg1': 0.00655949286873307,\n",
       " 'dense_reg2': 0.008548279765509143,\n",
       " 'rec_dropout1': 0.12350433549445992,\n",
       " 'rec_dropout2': 0.3734877046669231,\n",
       " 'dropout': 0.08339652015177923,\n",
       " 'kernel_reg1': 0.0004460408551726881,\n",
       " 'kernel_reg2': 0.00036135657113665144,\n",
       " 'recur_reg1': 3.5492899304676664e-05,\n",
       " 'recur_reg2': 2.3989672989971263e-05,\n",
       " 'act_reg1': 1.4428841158677676e-05,\n",
       " 'act_reg2': 2.4517057540484427e-05,\n",
       " 'add_another_gru_layer': False,\n",
       " 'learning_rate': 0.004401867534162911,\n",
       " 'tuner/epochs': 32,\n",
       " 'tuner/initial_epoch': 0,\n",
       " 'tuner/bracket': 0,\n",
       " 'tuner/round': 0}"
      ]
     },
     "execution_count": 15,
     "metadata": {},
     "output_type": "execute_result"
    }
   ],
   "source": [
    "# Get the optimal hyperparameters\n",
    "best_hps=tuner.get_best_hyperparameters(num_trials=1)[0]\n",
    "\n",
    "best_hps.values"
   ]
  },
  {
   "cell_type": "code",
   "execution_count": 16,
   "metadata": {
    "gradient": {
     "editing": false,
     "id": "91f6aa58-bcaf-415e-8972-f7be0a028ce5",
     "kernelId": "4b671c6f-eb6c-4aab-9c29-1679ea543f0b"
    },
    "scrolled": false
   },
   "outputs": [],
   "source": [
    "# Build the model with the optimal hyperparameters and train it on the data for 64 epochs\n",
    "model = tuner.hypermodel.build(best_hps)"
   ]
  },
  {
   "cell_type": "code",
   "execution_count": 18,
   "metadata": {
    "gradient": {
     "editing": false,
     "id": "4495a07d-e119-49f4-95e0-dcd201480882",
     "kernelId": "4b671c6f-eb6c-4aab-9c29-1679ea543f0b"
    }
   },
   "outputs": [
    {
     "name": "stdout",
     "output_type": "stream",
     "text": [
      "Epoch 1/48\n",
      "621/621 [==============================] - 21s 34ms/step - loss: 1.2693 - accuracy: 0.4555 - val_loss: 2.5273 - val_accuracy: 0.4523\n",
      "Epoch 2/48\n",
      "621/621 [==============================] - 18s 30ms/step - loss: 1.1399 - accuracy: 0.4865 - val_loss: 2.6808 - val_accuracy: 0.4685\n",
      "Epoch 3/48\n",
      "621/621 [==============================] - 19s 30ms/step - loss: 1.0900 - accuracy: 0.5761 - val_loss: 2.7832 - val_accuracy: 0.5961\n",
      "Epoch 4/48\n",
      "621/621 [==============================] - 19s 30ms/step - loss: 1.1064 - accuracy: 0.6555 - val_loss: 2.6913 - val_accuracy: 0.6384\n",
      "Epoch 5/48\n",
      "621/621 [==============================] - 19s 30ms/step - loss: 0.9752 - accuracy: 0.7529 - val_loss: 2.5855 - val_accuracy: 0.6592\n",
      "Epoch 6/48\n",
      "621/621 [==============================] - 19s 30ms/step - loss: 0.9645 - accuracy: 0.7393 - val_loss: 2.7389 - val_accuracy: 0.6398\n",
      "Epoch 7/48\n",
      "621/621 [==============================] - 20s 32ms/step - loss: 0.9250 - accuracy: 0.7615 - val_loss: 2.6451 - val_accuracy: 0.6762\n",
      "Epoch 8/48\n",
      "621/621 [==============================] - 20s 32ms/step - loss: 0.8994 - accuracy: 0.7588 - val_loss: 2.7193 - val_accuracy: 0.6722\n",
      "Epoch 9/48\n",
      "621/621 [==============================] - 19s 31ms/step - loss: 0.8953 - accuracy: 0.7620 - val_loss: 2.7028 - val_accuracy: 0.6788\n",
      "Epoch 10/48\n",
      "621/621 [==============================] - 19s 31ms/step - loss: 0.8716 - accuracy: 0.7818 - val_loss: 2.6193 - val_accuracy: 0.6821\n",
      "Epoch 11/48\n",
      "621/621 [==============================] - 19s 31ms/step - loss: 0.8724 - accuracy: 0.7765 - val_loss: 2.5801 - val_accuracy: 0.6775\n",
      "Epoch 12/48\n",
      "621/621 [==============================] - 22s 35ms/step - loss: 1.1657 - accuracy: 0.6028 - val_loss: 2.4507 - val_accuracy: 0.6946\n",
      "Epoch 13/48\n",
      "621/621 [==============================] - 21s 34ms/step - loss: 0.9834 - accuracy: 0.6513 - val_loss: 2.4895 - val_accuracy: 0.6980\n",
      "Epoch 14/48\n",
      "621/621 [==============================] - 20s 32ms/step - loss: 0.9133 - accuracy: 0.6713 - val_loss: 2.5257 - val_accuracy: 0.6940\n",
      "Epoch 15/48\n",
      "621/621 [==============================] - 19s 30ms/step - loss: 0.8595 - accuracy: 0.7163 - val_loss: 2.5293 - val_accuracy: 0.6882\n",
      "Epoch 16/48\n",
      "621/621 [==============================] - 19s 30ms/step - loss: 0.8111 - accuracy: 0.7480 - val_loss: 2.5333 - val_accuracy: 0.6895\n",
      "Epoch 17/48\n",
      "621/621 [==============================] - 20s 33ms/step - loss: 0.8021 - accuracy: 0.7501 - val_loss: 2.5531 - val_accuracy: 0.6915\n",
      "Epoch 18/48\n",
      "621/621 [==============================] - 19s 31ms/step - loss: 0.7748 - accuracy: 0.7605 - val_loss: 2.5713 - val_accuracy: 0.6778\n",
      "Epoch 19/48\n",
      "621/621 [==============================] - 19s 31ms/step - loss: 0.7576 - accuracy: 0.7655 - val_loss: 2.6272 - val_accuracy: 0.6761\n",
      "Epoch 20/48\n",
      "621/621 [==============================] - 20s 32ms/step - loss: 0.7506 - accuracy: 0.7659 - val_loss: 2.6364 - val_accuracy: 0.6748\n",
      "Epoch 21/48\n",
      "621/621 [==============================] - 20s 32ms/step - loss: 0.7261 - accuracy: 0.7764 - val_loss: 2.7001 - val_accuracy: 0.6680\n",
      "Epoch 22/48\n",
      "621/621 [==============================] - 20s 32ms/step - loss: 0.7178 - accuracy: 0.7783 - val_loss: 2.7317 - val_accuracy: 0.6675\n",
      "Epoch 23/48\n",
      "621/621 [==============================] - 21s 33ms/step - loss: 0.8135 - accuracy: 0.6849 - val_loss: 2.8866 - val_accuracy: 0.6465\n",
      "Epoch 24/48\n",
      "621/621 [==============================] - 20s 32ms/step - loss: 0.7700 - accuracy: 0.7166 - val_loss: 2.9828 - val_accuracy: 0.6372\n",
      "Epoch 25/48\n",
      "621/621 [==============================] - 19s 31ms/step - loss: 0.7401 - accuracy: 0.7434 - val_loss: 3.0395 - val_accuracy: 0.6291\n",
      "Epoch 26/48\n",
      "621/621 [==============================] - 20s 32ms/step - loss: 0.7310 - accuracy: 0.7490 - val_loss: 3.0643 - val_accuracy: 0.6256\n",
      "Epoch 27/48\n",
      "621/621 [==============================] - 20s 32ms/step - loss: 0.7291 - accuracy: 0.7565 - val_loss: 3.0978 - val_accuracy: 0.6211\n",
      "Epoch 28/48\n",
      "621/621 [==============================] - 20s 32ms/step - loss: 0.7164 - accuracy: 0.7671 - val_loss: 3.1269 - val_accuracy: 0.6172\n",
      "Epoch 29/48\n",
      "621/621 [==============================] - 21s 33ms/step - loss: 0.7140 - accuracy: 0.7676 - val_loss: 3.1358 - val_accuracy: 0.6144\n",
      "Epoch 30/48\n",
      "621/621 [==============================] - 20s 32ms/step - loss: 0.7084 - accuracy: 0.7732 - val_loss: 3.1420 - val_accuracy: 0.6149\n",
      "Epoch 31/48\n",
      "621/621 [==============================] - 19s 30ms/step - loss: 0.7054 - accuracy: 0.7732 - val_loss: 3.1517 - val_accuracy: 0.6132\n",
      "Epoch 32/48\n",
      "621/621 [==============================] - 19s 30ms/step - loss: 0.6985 - accuracy: 0.7758 - val_loss: 3.1746 - val_accuracy: 0.6107\n",
      "Epoch 33/48\n",
      "621/621 [==============================] - 18s 30ms/step - loss: 0.7011 - accuracy: 0.7778 - val_loss: 3.1816 - val_accuracy: 0.6095\n",
      "Epoch 34/48\n",
      "621/621 [==============================] - 19s 30ms/step - loss: 0.6927 - accuracy: 0.7783 - val_loss: 3.1883 - val_accuracy: 0.6078\n",
      "Epoch 35/48\n",
      "621/621 [==============================] - 20s 32ms/step - loss: 0.6949 - accuracy: 0.7827 - val_loss: 3.1957 - val_accuracy: 0.6062\n",
      "Epoch 36/48\n",
      "621/621 [==============================] - 20s 33ms/step - loss: 0.6910 - accuracy: 0.7842 - val_loss: 3.2022 - val_accuracy: 0.6053\n",
      "Epoch 37/48\n",
      "621/621 [==============================] - 19s 31ms/step - loss: 0.6948 - accuracy: 0.7821 - val_loss: 3.2094 - val_accuracy: 0.6035\n",
      "Epoch 38/48\n",
      "621/621 [==============================] - 19s 31ms/step - loss: 0.6940 - accuracy: 0.7822 - val_loss: 3.2149 - val_accuracy: 0.6028\n",
      "Epoch 39/48\n",
      "621/621 [==============================] - 19s 31ms/step - loss: 0.6976 - accuracy: 0.7765 - val_loss: 3.2186 - val_accuracy: 0.6014\n",
      "Epoch 40/48\n",
      "621/621 [==============================] - 19s 30ms/step - loss: 0.6919 - accuracy: 0.7833 - val_loss: 3.2240 - val_accuracy: 0.6000\n",
      "Epoch 41/48\n",
      "621/621 [==============================] - 19s 30ms/step - loss: 0.6951 - accuracy: 0.7802 - val_loss: 3.2276 - val_accuracy: 0.5990\n",
      "Epoch 42/48\n",
      "621/621 [==============================] - 19s 30ms/step - loss: 0.6939 - accuracy: 0.7853 - val_loss: 3.2314 - val_accuracy: 0.5981\n",
      "Epoch 43/48\n",
      "621/621 [==============================] - 19s 30ms/step - loss: 0.6907 - accuracy: 0.7855 - val_loss: 3.2317 - val_accuracy: 0.5978\n",
      "Epoch 44/48\n",
      "621/621 [==============================] - 20s 32ms/step - loss: 0.6907 - accuracy: 0.7829 - val_loss: 3.2322 - val_accuracy: 0.5978\n",
      "Epoch 45/48\n",
      "621/621 [==============================] - 19s 31ms/step - loss: 0.6946 - accuracy: 0.7838 - val_loss: 3.2327 - val_accuracy: 0.5975\n",
      "Epoch 46/48\n",
      "621/621 [==============================] - 21s 33ms/step - loss: 0.6897 - accuracy: 0.7874 - val_loss: 3.2332 - val_accuracy: 0.5975\n",
      "Epoch 47/48\n",
      "621/621 [==============================] - 20s 32ms/step - loss: 0.6951 - accuracy: 0.7855 - val_loss: 3.2337 - val_accuracy: 0.5974\n",
      "Epoch 48/48\n",
      "621/621 [==============================] - 18s 30ms/step - loss: 0.6906 - accuracy: 0.7826 - val_loss: 3.2340 - val_accuracy: 0.5973\n",
      "Best epoch: 13\n"
     ]
    }
   ],
   "source": [
    "history = model.fit(X_train, y_train, batch_size=1, \n",
    "                    validation_split=0.4, \n",
    "                    epochs=48,\n",
    "                    shuffle=False,\n",
    "                    callbacks=[\n",
    "                        K.callbacks.ReduceLROnPlateau(),\n",
    "                        K.callbacks.ModelCheckpoint(filepath='checkpoints/gru', save_weights_only=True)\n",
    "                    ])\n",
    "\n",
    "val_acc_per_epoch = history.history['val_accuracy']\n",
    "best_epoch = val_acc_per_epoch.index(max(val_acc_per_epoch)) + 1\n",
    "print('Best epoch: %d' % (best_epoch,))"
   ]
  },
  {
   "cell_type": "code",
   "execution_count": 19,
   "metadata": {
    "gradient": {
     "editing": false,
     "id": "39cd96ca-b94d-4783-8778-cafc25e9f36e",
     "kernelId": "4b671c6f-eb6c-4aab-9c29-1679ea543f0b"
    }
   },
   "outputs": [
    {
     "data": {
      "text/plain": [
       "[<matplotlib.lines.Line2D at 0x7f53bc19cdc0>]"
      ]
     },
     "execution_count": 19,
     "metadata": {},
     "output_type": "execute_result"
    },
    {
     "data": {
      "image/png": "[encoded data removed]",
      "text/plain": [
       "<Figure size 1080x504 with 2 Axes>"
      ]
     },
     "metadata": {
      "needs_background": "light"
     },
     "output_type": "display_data"
    }
   ],
   "source": [
    "plt.figure(figsize=(15, 7))\n",
    "plt.subplot(221)\n",
    "plt.title(\"Train Loss\")\n",
    "plt.plot(history.history['loss'])\n",
    "plt.subplot(222)\n",
    "plt.title(\"Train/validation accuracy\")\n",
    "plt.plot(history.history['accuracy'])\n",
    "plt.plot(history.history['val_accuracy'])"
   ]
  },
  {
   "cell_type": "markdown",
   "metadata": {
    "gradient": {
     "editing": false,
     "id": "1a060564-d0a8-49f2-8de7-affe25c7c67e",
     "kernelId": "4b671c6f-eb6c-4aab-9c29-1679ea543f0b"
    }
   },
   "source": [
    "# Conclusion \n",
    "\n",
    "We need more data to avoid overfitting"
   ]
  },
  {
   "cell_type": "markdown",
   "metadata": {
    "gradient": {
     "editing": false,
     "id": "961a09a4-eb3a-4112-9e95-c9ce190c0f58",
     "kernelId": "4b671c6f-eb6c-4aab-9c29-1679ea543f0b"
    }
   },
   "source": [
    "# Convert the model"
   ]
  },
  {
   "cell_type": "code",
   "execution_count": null,
   "metadata": {
    "gradient": {
     "editing": false,
     "id": "6ea2f73d-e23e-4858-a286-e64988c6581a",
     "kernelId": "4b671c6f-eb6c-4aab-9c29-1679ea543f0b"
    },
    "scrolled": true
   },
   "outputs": [],
   "source": [
    "converter = tf.lite.TFLiteConverter.from_keras_model(model) \n",
    "\n",
    "tflite_model = converter.convert()"
   ]
  },
  {
   "cell_type": "code",
   "execution_count": null,
   "metadata": {
    "gradient": {
     "editing": false,
     "id": "8a75e13c-14b2-45a7-8a0b-bdfeb0f1d473",
     "kernelId": "4b671c6f-eb6c-4aab-9c29-1679ea543f0b"
    }
   },
   "outputs": [],
   "source": [
    "# Save the model.\n",
    "with open('models/model_gru.tflite', 'wb') as f:\n",
    "    f.write(tflite_model)"
   ]
  },
  {
   "cell_type": "code",
   "execution_count": null,
   "metadata": {
    "gradient": {
     "editing": false,
     "id": "c9810743-a3e0-4c6f-86c2-5530a3e16708",
     "kernelId": "4b671c6f-eb6c-4aab-9c29-1679ea543f0b"
    }
   },
   "outputs": [],
   "source": [
    "# Run the model with TensorFlow to get expected results.\n",
    "TEST_CASES = 10\n",
    "x = tf.reshape(X_val, (-1, time_steps, 34))\n",
    "# Run the model with TensorFlow Lite\n",
    "interpreter = tf.lite.Interpreter(model_content=tflite_model)\n",
    "interpreter.allocate_tensors()\n",
    "input_details = interpreter.get_input_details()\n",
    "output_details = interpreter.get_output_details()\n",
    "\n",
    "for i in range(TEST_CASES):\n",
    "    expected = model.predict(x[i:i+1])\n",
    "    interpreter.set_tensor(input_details[0][\"index\"], x[i:i+1])\n",
    "    interpreter.invoke()\n",
    "    result = interpreter.get_tensor(output_details[0][\"index\"])\n",
    "\n",
    "    # Assert if the result of TFLite model is consistent with the TF model.\n",
    "    np.testing.assert_almost_equal(expected, result, decimal=5)\n",
    "    print(\"Done. The result of TensorFlow matches the result of TensorFlow Lite.\")\n",
    "\n",
    "    # Please note: TfLite fused Lstm kernel is stateful, so we need to reset\n",
    "    # the states.\n",
    "    # Clean up internal states.\n",
    "    interpreter.reset_all_variables()"
   ]
  },
  {
   "cell_type": "markdown",
   "metadata": {
    "gradient": {
     "editing": false,
     "id": "1de600ba-f9e6-4487-adaf-3de077892a1f",
     "kernelId": "4b671c6f-eb6c-4aab-9c29-1679ea543f0b"
    }
   },
   "source": [
    "# Moving most frequent smoothing"
   ]
  },
  {
   "cell_type": "code",
   "execution_count": null,
   "metadata": {
    "gradient": {
     "editing": false,
     "id": "23597183-b15f-44c3-8613-c59244ede8e2",
     "kernelId": "4b671c6f-eb6c-4aab-9c29-1679ea543f0b"
    }
   },
   "outputs": [],
   "source": [
    "y_pred = np.argmax(model(x).numpy(), axis=-1).ravel()\n",
    "y_val_np = np.concatenate(y_val_list)[:N_val*time_steps]"
   ]
  },
  {
   "cell_type": "code",
   "execution_count": null,
   "metadata": {
    "gradient": {
     "editing": false,
     "id": "6db21ac8-b526-49bb-be77-664f03bc00e9",
     "kernelId": "4b671c6f-eb6c-4aab-9c29-1679ea543f0b"
    }
   },
   "outputs": [],
   "source": [
    "# [1,1,1,1,3,3,1,1] -> [1]\n",
    "# moving window across padded y_pred\n",
    "# output element is most frequent in window\n",
    "\n",
    "win_size = time_steps // 2\n",
    "mf_smooth = np.zeros(y_pred.shape[0]+win_size)\n",
    "for i in range(len(y_pred) - win_size):\n",
    "    window = y_pred[i:i+win_size]\n",
    "    bins = np.bincount(window)\n",
    "    mf_smooth[i+win_size//2] = np.argmax(bins)\n",
    "\n",
    "mf_smooth = mf_smooth[:-win_size]"
   ]
  },
  {
   "cell_type": "code",
   "execution_count": null,
   "metadata": {
    "gradient": {
     "editing": false,
     "id": "db9c9fa1-3dda-49a5-a70b-b58013005cc5",
     "kernelId": "4b671c6f-eb6c-4aab-9c29-1679ea543f0b"
    }
   },
   "outputs": [],
   "source": [
    "len(mf_smooth), len(y_pred), len(y_val_np)"
   ]
  },
  {
   "cell_type": "code",
   "execution_count": null,
   "metadata": {
    "gradient": {
     "editing": false,
     "id": "1f427524-9fa1-4722-8ee2-ccc301faf435",
     "kernelId": "4b671c6f-eb6c-4aab-9c29-1679ea543f0b"
    }
   },
   "outputs": [],
   "source": [
    "print(np.mean(y_val_np==y_pred))\n",
    "print(np.mean(y_val_np==mf_smooth))"
   ]
  },
  {
   "cell_type": "code",
   "execution_count": null,
   "metadata": {
    "gradient": {
     "editing": false,
     "id": "40034a8d-1edc-4471-bd23-1636309fb2c8",
     "kernelId": "4b671c6f-eb6c-4aab-9c29-1679ea543f0b"
    },
    "scrolled": false
   },
   "outputs": [],
   "source": [
    "plt.figure(figsize=(16, 12))\n",
    "\n",
    "plt.subplot(3, 1, 1)\n",
    "plt.title('Original')\n",
    "plt.plot(y_val_np[:600])\n",
    "\n",
    "plt.subplot(3, 1, 2)\n",
    "plt.title('Prediction')\n",
    "plt.plot(y_pred[:600])\n",
    "\n",
    "plt.subplot(3, 1, 3)\n",
    "plt.title('Smoothed prediction')\n",
    "plt.plot(mf_smooth[:600])\n"
   ]
  },
  {
   "cell_type": "markdown",
   "metadata": {},
   "source": [
    "Thanks to:  \n",
    "https://github.com/keras-team/keras-tuner"
   ]
  }
 ],
 "metadata": {
  "kernelspec": {
   "display_name": "Python 3 (ipykernel)",
   "language": "python",
   "name": "python3"
  },
  "language_info": {
   "codemirror_mode": {
    "name": "ipython",
    "version": 3
   },
   "file_extension": ".py",
   "mimetype": "text/x-python",
   "name": "python",
   "nbconvert_exporter": "python",
   "pygments_lexer": "ipython3",
   "version": "3.8.10"
  }
 },
 "nbformat": 4,
 "nbformat_minor": 2
}
